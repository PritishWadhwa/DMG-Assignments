{
  "nbformat": 4,
  "nbformat_minor": 0,
  "metadata": {
    "colab": {
      "provenance": []
    },
    "kernelspec": {
      "name": "python3",
      "display_name": "Python 3"
    },
    "language_info": {
      "name": "python"
    }
  },
  "cells": [
    {
      "cell_type": "code",
      "execution_count": 4,
      "metadata": {
        "id": "HSy_GGpXWZS9"
      },
      "outputs": [],
      "source": [
        "import pandas as pd\n",
        "from sklearn.metrics import classification_report, accuracy_score\n",
        "import numpy as np"
      ]
    },
    {
      "cell_type": "code",
      "source": [
        "def preprocess(path):\n",
        "  df = pd.read_csv(path)\n",
        "  col_to_remove = []\n",
        "  for col in df.columns:\n",
        "    if col.startswith('Unnamed:') or col=='index': \n",
        "      col_to_remove.append(col)\n",
        "  df.drop(col_to_remove,axis=1, inplace=True)\n",
        "  df=df.replace('?',np.nan)\n",
        "  df=df.replace('unknown',np.nan)\n",
        "  return df"
      ],
      "metadata": {
        "id": "FBHVDxKE5VqE"
      },
      "execution_count": 19,
      "outputs": []
    },
    {
      "cell_type": "code",
      "source": [
        "def processCategorical(df):\n",
        "  pass"
      ],
      "metadata": {
        "id": "BFwk2yk3xjPn"
      },
      "execution_count": 20,
      "outputs": []
    },
    {
      "cell_type": "code",
      "source": [
        "def handleEmptyValues(df):\n",
        "  pass"
      ],
      "metadata": {
        "id": "ntNgJdghyVTa"
      },
      "execution_count": 21,
      "outputs": []
    },
    {
      "cell_type": "code",
      "source": [
        "def normalize(df):\n",
        "  pass"
      ],
      "metadata": {
        "id": "2vLvgnmE24to"
      },
      "execution_count": 22,
      "outputs": []
    },
    {
      "cell_type": "code",
      "source": [
        "def removeColumns(df,choice):\n",
        "  pass  "
      ],
      "metadata": {
        "id": "j7y5AmJsR04Y"
      },
      "execution_count": 193,
      "outputs": []
    },
    {
      "cell_type": "code",
      "source": [
        "def convertFormat(df,choice):\n",
        "  categoricalFeatures=[]\n",
        "  for col in df.columns:\n",
        "    if df[col].dtype==object:\n",
        "      categoricalFeatures.append(col)\n",
        "  return df,categoricalFeatures"
      ],
      "metadata": {
        "id": "zONZmVZ85edz"
      },
      "execution_count": 147,
      "outputs": []
    },
    {
      "cell_type": "code",
      "source": [
        "def outlierRemoval(df,choice):\n",
        "  print('Shape before outlier removal =',df.shape)\n",
        "  if choice=='1':\n",
        "    df.drop(df.loc[(df['Age']> 55)].index,inplace=True)\n",
        "  elif choice=='2':\n",
        "    df.drop(df.loc[(df['baseline value']<120) & (df['fetal_health']==3)].index,inplace=True)\n",
        "    df.drop(df.loc[(df['fetal_movement']>0.1) & (df['fetal_health']==2)].index,inplace=True)\n",
        "    df.drop(df.loc[(df['mean_value_of_short_term_variability']>5)].index,inplace=True)\n",
        "    df.drop(df.loc[(df['mean_value_of_long_term_variability']>25) & (df['fetal_health']==2)].index,inplace=True)\n",
        "    df.drop(df.loc[(df['mean_value_of_long_term_variability']>30)].index,inplace=True)\n",
        "    df.drop(df.loc[(df['histogram_max']>220)].index,inplace=True)\n",
        "    df.drop(df.loc[(df['histogram_number_of_zeroes']>6)].index,inplace=True)\n",
        "  else:\n",
        "    df.drop(df.loc[(df['campaign']> 22) & (df['y']==1 )].index,inplace=True)\n",
        "    df.drop(df.loc[df['age']> 95].index,inplace=True)\n",
        "    df.drop(df.loc[df['duration']>= 2500].index,inplace=True)\n",
        "    df.drop(df.loc[(df['euribor3m']>3.0) & (df['y']==1) & (df['euribor3m']<4)].index,inplace=True)\n",
        "    df.drop(df.loc[(df['campaign']> 35)].index,inplace=True)\n",
        "  print('Shape after outlier removal =',df.shape)\n",
        "  return df"
      ],
      "metadata": {
        "id": "vVCqbqTQ5quz"
      },
      "execution_count": 189,
      "outputs": []
    },
    {
      "cell_type": "code",
      "source": [
        "def trainTestSplit(df):\n",
        "  train=df.sample(frac=0.8,random_state=86)\n",
        "  test=df.drop(train.index)\n",
        "  return train,test"
      ],
      "metadata": {
        "id": "KzH8LzZEtk8l"
      },
      "execution_count": 24,
      "outputs": []
    },
    {
      "cell_type": "code",
      "source": [
        "def run():\n",
        "  print('Press 1 for Cancer Detection Dataset')\n",
        "  print('Press 2 for Fetal Health Detection Dataset')\n",
        "  print('Press 3 for Banking Dataset')\n",
        "  datasetChoice = input()\n",
        "  path = 'dataset'+datasetChoice+'.csv'\n",
        "  # path='./../data/dataset'+datasetChoice+'.csv'\n",
        "  data = preprocess(path)\n",
        "  data, categoricalFeatures = convertFormat(data,datasetChoice)\n",
        "  data = outlierRemoval(data,datasetChoice)\n",
        "  train,test=trainTestSplit(data)\n",
        "  return data\n",
        "  # train,val,test = dataSplit()\n",
        "  "
      ],
      "metadata": {
        "id": "ywzMnPiJYzR-"
      },
      "execution_count": 152,
      "outputs": []
    },
    {
      "cell_type": "code",
      "source": [
        "df=run()"
      ],
      "metadata": {
        "colab": {
          "base_uri": "https://localhost:8080/"
        },
        "id": "0Koudn4o5imP",
        "outputId": "dc6244aa-e180-441e-eb04-baad795dba8c"
      },
      "execution_count": 192,
      "outputs": [
        {
          "output_type": "stream",
          "name": "stdout",
          "text": [
            "Press 1 for Cancer Detection Dataset\n",
            "Press 2 for Fetal Health Detection Dataset\n",
            "Press 3 for Banking Dataset\n",
            "3\n",
            "Shape before outlier removal = (41188, 21)\n",
            "Shape after outlier removal = (41150, 21)\n"
          ]
        }
      ]
    }
  ]
}