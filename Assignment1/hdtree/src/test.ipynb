{
 "cells": [
  {
   "cell_type": "code",
   "execution_count": 1,
   "metadata": {},
   "outputs": [],
   "source": [
    "import matplotlib.pyplot as plt\n",
    "import numpy as np\n",
    "from sklearn.tree import DecisionTreeClassifier, plot_tree, export_graphviz\n",
    "from typing import Tuple\n",
    "from sklearn.model_selection import train_test_split\n",
    "import seaborn as sns\n",
    "import matplotlib\n",
    "from mlxtend.plotting import plot_decision_regions\n",
    "import graphviz\n",
    "import pandas as pd\n",
    "%load_ext autoreload\n",
    "%autoreload 2"
   ]
  },
  {
   "cell_type": "code",
   "execution_count": 2,
   "metadata": {},
   "outputs": [],
   "source": [
    "df_titanic = pd.read_csv(\"./../../train.csv\")"
   ]
  },
  {
   "cell_type": "code",
   "execution_count": 3,
   "metadata": {},
   "outputs": [
    {
     "data": {
      "text/html": [
       "<div>\n",
       "<style scoped>\n",
       "    .dataframe tbody tr th:only-of-type {\n",
       "        vertical-align: middle;\n",
       "    }\n",
       "\n",
       "    .dataframe tbody tr th {\n",
       "        vertical-align: top;\n",
       "    }\n",
       "\n",
       "    .dataframe thead th {\n",
       "        text-align: right;\n",
       "    }\n",
       "</style>\n",
       "<table border=\"1\" class=\"dataframe\">\n",
       "  <thead>\n",
       "    <tr style=\"text-align: right;\">\n",
       "      <th></th>\n",
       "      <th>PassengerId</th>\n",
       "      <th>Survived</th>\n",
       "      <th>Pclass</th>\n",
       "      <th>Name</th>\n",
       "      <th>Sex</th>\n",
       "      <th>Age</th>\n",
       "      <th>SibSp</th>\n",
       "      <th>Parch</th>\n",
       "      <th>Ticket</th>\n",
       "      <th>Fare</th>\n",
       "      <th>Cabin</th>\n",
       "      <th>Embarked</th>\n",
       "    </tr>\n",
       "  </thead>\n",
       "  <tbody>\n",
       "    <tr>\n",
       "      <th>0</th>\n",
       "      <td>1</td>\n",
       "      <td>0</td>\n",
       "      <td>3</td>\n",
       "      <td>Braund, Mr. Owen Harris</td>\n",
       "      <td>male</td>\n",
       "      <td>22.0</td>\n",
       "      <td>1</td>\n",
       "      <td>0</td>\n",
       "      <td>A/5 21171</td>\n",
       "      <td>7.2500</td>\n",
       "      <td>NaN</td>\n",
       "      <td>S</td>\n",
       "    </tr>\n",
       "    <tr>\n",
       "      <th>1</th>\n",
       "      <td>2</td>\n",
       "      <td>1</td>\n",
       "      <td>1</td>\n",
       "      <td>Cumings, Mrs. John Bradley (Florence Briggs Th...</td>\n",
       "      <td>female</td>\n",
       "      <td>38.0</td>\n",
       "      <td>1</td>\n",
       "      <td>0</td>\n",
       "      <td>PC 17599</td>\n",
       "      <td>71.2833</td>\n",
       "      <td>C85</td>\n",
       "      <td>C</td>\n",
       "    </tr>\n",
       "    <tr>\n",
       "      <th>2</th>\n",
       "      <td>3</td>\n",
       "      <td>1</td>\n",
       "      <td>3</td>\n",
       "      <td>Heikkinen, Miss. Laina</td>\n",
       "      <td>female</td>\n",
       "      <td>26.0</td>\n",
       "      <td>0</td>\n",
       "      <td>0</td>\n",
       "      <td>STON/O2. 3101282</td>\n",
       "      <td>7.9250</td>\n",
       "      <td>NaN</td>\n",
       "      <td>S</td>\n",
       "    </tr>\n",
       "    <tr>\n",
       "      <th>3</th>\n",
       "      <td>4</td>\n",
       "      <td>1</td>\n",
       "      <td>1</td>\n",
       "      <td>Futrelle, Mrs. Jacques Heath (Lily May Peel)</td>\n",
       "      <td>female</td>\n",
       "      <td>35.0</td>\n",
       "      <td>1</td>\n",
       "      <td>0</td>\n",
       "      <td>113803</td>\n",
       "      <td>53.1000</td>\n",
       "      <td>C123</td>\n",
       "      <td>S</td>\n",
       "    </tr>\n",
       "    <tr>\n",
       "      <th>4</th>\n",
       "      <td>5</td>\n",
       "      <td>0</td>\n",
       "      <td>3</td>\n",
       "      <td>Allen, Mr. William Henry</td>\n",
       "      <td>male</td>\n",
       "      <td>35.0</td>\n",
       "      <td>0</td>\n",
       "      <td>0</td>\n",
       "      <td>373450</td>\n",
       "      <td>8.0500</td>\n",
       "      <td>NaN</td>\n",
       "      <td>S</td>\n",
       "    </tr>\n",
       "  </tbody>\n",
       "</table>\n",
       "</div>"
      ],
      "text/plain": [
       "   PassengerId  Survived  Pclass  \\\n",
       "0            1         0       3   \n",
       "1            2         1       1   \n",
       "2            3         1       3   \n",
       "3            4         1       1   \n",
       "4            5         0       3   \n",
       "\n",
       "                                                Name     Sex   Age  SibSp  \\\n",
       "0                            Braund, Mr. Owen Harris    male  22.0      1   \n",
       "1  Cumings, Mrs. John Bradley (Florence Briggs Th...  female  38.0      1   \n",
       "2                             Heikkinen, Miss. Laina  female  26.0      0   \n",
       "3       Futrelle, Mrs. Jacques Heath (Lily May Peel)  female  35.0      1   \n",
       "4                           Allen, Mr. William Henry    male  35.0      0   \n",
       "\n",
       "   Parch            Ticket     Fare Cabin Embarked  \n",
       "0      0         A/5 21171   7.2500   NaN        S  \n",
       "1      0          PC 17599  71.2833   C85        C  \n",
       "2      0  STON/O2. 3101282   7.9250   NaN        S  \n",
       "3      0            113803  53.1000  C123        S  \n",
       "4      0            373450   8.0500   NaN        S  "
      ]
     },
     "execution_count": 3,
     "metadata": {},
     "output_type": "execute_result"
    }
   ],
   "source": [
    "df_titanic.head()"
   ]
  },
  {
   "cell_type": "code",
   "execution_count": 4,
   "metadata": {},
   "outputs": [
    {
     "data": {
      "text/plain": [
       "['PassengerId',\n",
       " 'Pclass',\n",
       " 'Sex',\n",
       " 'Age',\n",
       " 'SibSp',\n",
       " 'Parch',\n",
       " 'Fare',\n",
       " 'Cabin',\n",
       " 'Embarked',\n",
       " 'Name Length',\n",
       " 'Survived']"
      ]
     },
     "execution_count": 4,
     "metadata": {},
     "output_type": "execute_result"
    }
   ],
   "source": [
    "df_titanic = pd.read_csv(\"./../../train.csv\")\n",
    "df_titanic['Name Length'] = df_titanic['Name'].map(lambda name: len(name))\n",
    "y_titanic = df_titanic['Survived'].map(lambda s: 'Survived' if s == 1 else 'Death')\n",
    "del df_titanic['Name']\n",
    "del df_titanic['Ticket']\n",
    "del df_titanic['Survived']\n",
    "df_titanic['Survived'] = y_titanic\n",
    "df_titanic.head()\n",
    "X_titanic_train, X_titanic_test, y_titanic_train, y_titanic_test = train_test_split(df_titanic.iloc[:,:-1], \n",
    "                                                                                    df_titanic.iloc[:,-1], test_size=0.33, \n",
    "                                                                                    random_state=42)\n",
    "col_names = [*df_titanic.columns[:]]\n",
    "col_names"
   ]
  },
  {
   "cell_type": "code",
   "execution_count": 5,
   "metadata": {},
   "outputs": [
    {
     "name": "stdout",
     "output_type": "stream",
     "text": [
      "   age  job  marital  education  default  housing  loan  contact  month  \\\n",
      "0   44    0        0          0        0        0     0        0      0   \n",
      "1   30    2        2          0        1        0     0        0      4   \n",
      "2   39    0        2          4        1        0     0        0      5   \n",
      "3   55    2        0          2        1        1     0        0      0   \n",
      "4   26    5        0          3        1        1     1        1      2   \n",
      "\n",
      "   day_of_week  ...  campaign  pdays  previous  poutcome  emp_var_rate  \\\n",
      "0            0  ...         1    999         0         0           1.4   \n",
      "1            2  ...         8    999         0         0           1.4   \n",
      "2            1  ...         1    999         0         0          -1.8   \n",
      "3            3  ...         3    999         0         0           1.4   \n",
      "4            3  ...         1    999         0         0           1.4   \n",
      "\n",
      "   cons_price_idx  cons_conf_idx  euribor3m  nr_employed  y  \n",
      "0          93.444          -36.1      4.963       5228.1  0  \n",
      "1          93.918          -42.7      4.961       5228.1  0  \n",
      "2          92.893          -46.2      1.313       5099.1  0  \n",
      "3          93.444          -36.1      4.965       5228.1  1  \n",
      "4          94.465          -41.8      4.960       5228.1  0  \n",
      "\n",
      "[5 rows x 21 columns]\n"
     ]
    },
    {
     "data": {
      "text/plain": [
       "['age',\n",
       " 'job',\n",
       " 'marital',\n",
       " 'education',\n",
       " 'default',\n",
       " 'housing',\n",
       " 'loan',\n",
       " 'contact',\n",
       " 'month',\n",
       " 'day_of_week',\n",
       " 'duration',\n",
       " 'campaign',\n",
       " 'pdays',\n",
       " 'previous',\n",
       " 'poutcome',\n",
       " 'emp_var_rate',\n",
       " 'cons_price_idx',\n",
       " 'cons_conf_idx',\n",
       " 'euribor3m',\n",
       " 'nr_employed',\n",
       " 'y']"
      ]
     },
     "execution_count": 5,
     "metadata": {},
     "output_type": "execute_result"
    }
   ],
   "source": [
    "df_titanic = pd.read_csv(\"./../../test.csv\")\n",
    "print(df_titanic.head())\n",
    "X_titanic_train, X_titanic_test, y_titanic_train, y_titanic_test = train_test_split(df_titanic.iloc[:,:-1], \n",
    "                                                                                    df_titanic.iloc[:,-1], test_size=0.33, \n",
    "                                                                                    random_state=42)\n",
    "col_names = [*df_titanic.columns[:]]\n",
    "col_names"
   ]
  },
  {
   "cell_type": "code",
   "execution_count": 6,
   "metadata": {},
   "outputs": [],
   "source": [
    "from hdtree import HDTreeClassifier\n",
    "from information_measure import EntropyMeasure\n",
    "from split_rule import LessThanHalfOfSplit, SingleCategorySplit,FixedValueSplit, TwentyQuantileSplit, LogisticRegressionSingleSplit, AbstractQuantileSplit, TwentyQuantileRangeSplit, TwoQuantileRangeSplit, LogisticRegressionDoubleCategorySplit"
   ]
  },
  {
   "cell_type": "code",
   "execution_count": 55,
   "metadata": {},
   "outputs": [],
   "source": [
    "hdtree_titanic = HDTreeClassifier(\n",
    "                    allowed_splits=[TwoQuantileRangeSplit.build()], \n",
    "                    # allowed_splits=[LogisticRegressionSingleSplit.build(), TwoQuantileRangeSplit.build()], \n",
    "                    # allowed_splits=[FixedValueSplit.build(), SingleCategorySplit.build(), TwentyQuantileRangeSplit.build(), TwentyQuantileSplit.build()],\n",
    "                    information_measure=EntropyMeasure(), \n",
    "                    attribute_names=col_names, \n",
    "                    max_levels=10,\n",
    "                    min_samples_at_leaf=150)"
   ]
  },
  {
   "cell_type": "code",
   "execution_count": 56,
   "metadata": {},
   "outputs": [
    {
     "data": {
      "text/plain": [
       "pandas.core.frame.DataFrame"
      ]
     },
     "execution_count": 56,
     "metadata": {},
     "output_type": "execute_result"
    }
   ],
   "source": [
    "type(X_titanic_train)"
   ]
  },
  {
   "cell_type": "code",
   "execution_count": 57,
   "metadata": {},
   "outputs": [],
   "source": [
    "X_train_final = pd.concat([X_titanic_train, y_titanic_train], axis=1)\n",
    "X_test_final = pd.concat([X_titanic_test, y_titanic_test], axis=1)"
   ]
  },
  {
   "cell_type": "code",
   "execution_count": 58,
   "metadata": {},
   "outputs": [
    {
     "name": "stdout",
     "output_type": "stream",
     "text": [
      "0.8907686649503493\n",
      "0.8992571117956152\n"
     ]
    }
   ],
   "source": [
    "hdtree_titanic.fit(X_train_final.values, y_titanic_train.values)\n",
    "print(hdtree_titanic.score(X_test_final.values, y_titanic_test.values))\n",
    "print(hdtree_titanic.score(X_train_final.values, y_titanic_train.values))"
   ]
  },
  {
   "cell_type": "code",
   "execution_count": 59,
   "metadata": {},
   "outputs": [],
   "source": [
    "preds = hdtree_titanic.predict(X_test_final.values)"
   ]
  },
  {
   "cell_type": "code",
   "execution_count": 60,
   "metadata": {},
   "outputs": [
    {
     "data": {
      "text/plain": [
       "105"
      ]
     },
     "execution_count": 60,
     "metadata": {},
     "output_type": "execute_result"
    }
   ],
   "source": [
    "temp = 0\n",
    "for i in preds: \n",
    "    # if i == 'Death':\n",
    "    #     temp += 1\n",
    "    temp += int(i)\n",
    "temp"
   ]
  },
  {
   "cell_type": "code",
   "execution_count": 61,
   "metadata": {},
   "outputs": [
    {
     "data": {
      "text/plain": [
       "array(['0', '0', '1', ..., '0', '0', '0'], dtype='<U1')"
      ]
     },
     "execution_count": 61,
     "metadata": {},
     "output_type": "execute_result"
    }
   ],
   "source": [
    "preds"
   ]
  },
  {
   "cell_type": "code",
   "execution_count": 62,
   "metadata": {},
   "outputs": [
    {
     "name": "stdout",
     "output_type": "stream",
     "text": [
      "(2719,)\n"
     ]
    },
    {
     "data": {
      "text/plain": [
       "{'0', '1'}"
      ]
     },
     "execution_count": 62,
     "metadata": {},
     "output_type": "execute_result"
    }
   ],
   "source": [
    "print(preds.shape)\n",
    "preds = set(list(preds))\n",
    "preds"
   ]
  },
  {
   "cell_type": "code",
   "execution_count": 63,
   "metadata": {},
   "outputs": [
    {
     "data": {
      "image/svg+xml": "<?xml version=\"1.0\" encoding=\"UTF-8\" standalone=\"no\"?>\n<!DOCTYPE svg PUBLIC \"-//W3C//DTD SVG 1.1//EN\"\n \"http://www.w3.org/Graphics/SVG/1.1/DTD/svg11.dtd\">\n<!-- Generated by graphviz version 5.0.1 (20220820.1526)\n -->\n<!-- Pages: 1 -->\n<svg width=\"412pt\" height=\"376pt\"\n viewBox=\"0.00 0.00 412.00 376.00\" xmlns=\"http://www.w3.org/2000/svg\" xmlns:xlink=\"http://www.w3.org/1999/xlink\">\n<g id=\"graph0\" class=\"graph\" transform=\"scale(1 1) rotate(0) translate(4 372)\">\n<polygon fill=\"white\" stroke=\"none\" points=\"-4,4 -4,-372 408,-372 408,4 -4,4\"/>\n<!-- Head (Level 0) -->\n<g id=\"node1\" class=\"node\">\n<title>Head (Level 0)</title>\n<polygon fill=\"#7fff7f\" stroke=\"black\" stroke-width=\"10\" points=\"368,-368 35,-368 35,-202 368,-202 368,-368\"/>\n<text text-anchor=\"start\" x=\"57\" y=\"-318.8\" font-family=\"monospace\" font-size=\"14.00\">Samples: &#160;&#160;&#160;&#160;&#160;5519</text>\n<text text-anchor=\"start\" x=\"57\" y=\"-303.8\" font-family=\"monospace\" font-size=\"14.00\">Score: &#160;&#160;&#160;&#160;&#160;&#160;&#160;0.51</text>\n<text text-anchor=\"middle\" x=\"201.5\" y=\"-288.8\" font-family=\"monospace\" font-size=\"14.00\">Test: logistic rergression on pdays</text>\n<text text-anchor=\"start\" x=\"57\" y=\"-257.8\" font-family=\"monospace\" font-size=\"14.00\">0: 4922 ✓</text>\n<text text-anchor=\"start\" x=\"57\" y=\"-242.8\" font-family=\"monospace\" font-size=\"14.00\">1: 597</text>\n<text text-anchor=\"middle\" x=\"201.5\" y=\"-227.8\" font-family=\"monospace\" font-size=\"14.00\"> </text>\n</g>\n<!-- Node #1 (Level 1) -->\n<g id=\"node2\" class=\"node\">\n<title>Node #1 (Level 1)</title>\n<polygon fill=\"#f9fff9\" stroke=\"black\" stroke-width=\"0.39\" points=\"193,-151 0,-151 0,0 193,0 193,-151\"/>\n<text text-anchor=\"start\" x=\"22\" y=\"-101.8\" font-family=\"monospace\" font-size=\"14.00\">Samples: &#160;&#160;&#160;&#160;&#160;215</text>\n<text text-anchor=\"middle\" x=\"96.5\" y=\"-86.8\" font-family=\"monospace\" font-size=\"14.00\">Score: &#160;&#160;&#160;&#160;&#160;&#160;&#160;0.03</text>\n<text text-anchor=\"start\" x=\"22\" y=\"-55.8\" font-family=\"monospace\" font-size=\"14.00\">0: 87</text>\n<text text-anchor=\"start\" x=\"22\" y=\"-40.8\" font-family=\"monospace\" font-size=\"14.00\">1: 128 ✓</text>\n<text text-anchor=\"middle\" x=\"96.5\" y=\"-25.8\" font-family=\"monospace\" font-size=\"14.00\"> </text>\n</g>\n<!-- Head (Level 0)&#45;&gt;Node #1 (Level 1) -->\n<g id=\"edge1\" class=\"edge\">\n<title>Head (Level 0)&#45;&gt;Node #1 (Level 1)</title>\n<path fill=\"none\" stroke=\"black\" stroke-width=\"0.27\" d=\"M160,-201.99C153.04,-188.24 145.81,-173.95 138.83,-160.16\"/>\n<polygon fill=\"black\" stroke=\"black\" stroke-width=\"0.27\" points=\"141.92,-158.52 134.29,-151.17 135.68,-161.68 141.92,-158.52\"/>\n<text text-anchor=\"middle\" x=\"192.5\" y=\"-172.8\" font-family=\"Times,serif\" font-size=\"14.00\">sigmoid &lt;= 0.5</text>\n</g>\n<!-- Node #2 (Level 1) -->\n<g id=\"node3\" class=\"node\">\n<title>Node #2 (Level 1)</title>\n<polygon fill=\"#6eff6e\" stroke=\"black\" stroke-width=\"9.61\" points=\"404,-151 211,-151 211,0 404,0 404,-151\"/>\n<text text-anchor=\"start\" x=\"233\" y=\"-101.8\" font-family=\"monospace\" font-size=\"14.00\">Samples: &#160;&#160;&#160;&#160;&#160;5304</text>\n<text text-anchor=\"middle\" x=\"307.5\" y=\"-86.8\" font-family=\"monospace\" font-size=\"14.00\">Score: &#160;&#160;&#160;&#160;&#160;&#160;&#160;0.57</text>\n<text text-anchor=\"start\" x=\"233\" y=\"-55.8\" font-family=\"monospace\" font-size=\"14.00\">0: 4835 ✓</text>\n<text text-anchor=\"start\" x=\"233\" y=\"-40.8\" font-family=\"monospace\" font-size=\"14.00\">1: 469</text>\n<text text-anchor=\"middle\" x=\"307.5\" y=\"-25.8\" font-family=\"monospace\" font-size=\"14.00\"> </text>\n</g>\n<!-- Head (Level 0)&#45;&gt;Node #2 (Level 1) -->\n<g id=\"edge2\" class=\"edge\">\n<title>Head (Level 0)&#45;&gt;Node #2 (Level 1)</title>\n<path fill=\"none\" stroke=\"black\" stroke-width=\"6.73\" d=\"M243.39,-201.99C250.42,-188.24 257.72,-173.95 264.76,-160.16\"/>\n<polygon fill=\"black\" stroke=\"black\" stroke-width=\"6.73\" points=\"270.05,-162.76 269.35,-151.17 259.56,-157.4 270.05,-162.76\"/>\n<text text-anchor=\"middle\" x=\"296.5\" y=\"-172.8\" font-family=\"Times,serif\" font-size=\"14.00\">sigmoid &gt; 0.5</text>\n</g>\n</g>\n</svg>\n",
      "text/plain": [
       "<graphviz.dot.Digraph at 0x7f9b220db1c0>"
      ]
     },
     "execution_count": 63,
     "metadata": {},
     "output_type": "execute_result"
    }
   ],
   "source": [
    "hdtree_titanic.generate_dot_graph()"
   ]
  },
  {
   "cell_type": "code",
   "execution_count": 64,
   "metadata": {},
   "outputs": [],
   "source": [
    "predictions = set()\n",
    "for i in X_train_final.values:\n",
    "    predictions.add(hdtree_titanic.predict(i.reshape(1, -1))[0])"
   ]
  },
  {
   "cell_type": "code",
   "execution_count": 65,
   "metadata": {},
   "outputs": [
    {
     "data": {
      "text/plain": [
       "{'0', '1'}"
      ]
     },
     "execution_count": 65,
     "metadata": {},
     "output_type": "execute_result"
    }
   ],
   "source": [
    "predictions"
   ]
  },
  {
   "cell_type": "code",
   "execution_count": 66,
   "metadata": {},
   "outputs": [
    {
     "data": {
      "text/plain": [
       "21"
      ]
     },
     "execution_count": 66,
     "metadata": {},
     "output_type": "execute_result"
    }
   ],
   "source": [
    "len(col_names)"
   ]
  },
  {
   "cell_type": "code",
   "execution_count": 32,
   "metadata": {},
   "outputs": [],
   "source": [
    "hdtree_titanic = HDTreeClassifier(\n",
    "                    allowed_splits=[LogisticRegressionDoubleCategorySplit.build()], \n",
    "                    # allowed_splits=[LogisticRegressionSingleSplit.build(), TwoQuantileRangeSplit.build()], \n",
    "                    # allowed_splits=[FixedValueSplit.build(), SingleCategorySplit.build(), TwentyQuantileRangeSplit.build(), TwentyQuantileSplit.build()],\n",
    "                    information_measure=EntropyMeasure(), \n",
    "                    attribute_names=col_names, \n",
    "                    max_levels=5,\n",
    "                    min_samples_at_leaf=10)"
   ]
  },
  {
   "cell_type": "code",
   "execution_count": 33,
   "metadata": {},
   "outputs": [
    {
     "name": "stdout",
     "output_type": "stream",
     "text": [
      "0.8907686649503493\n",
      "0.9008878420003624\n"
     ]
    }
   ],
   "source": [
    "hdtree_titanic.fit(X_train_final.values, y_titanic_train.values)\n",
    "print(hdtree_titanic.score(X_test_final.values, y_titanic_test.values))\n",
    "print(hdtree_titanic.score(X_train_final.values, y_titanic_train.values))"
   ]
  },
  {
   "cell_type": "code",
   "execution_count": 34,
   "metadata": {},
   "outputs": [
    {
     "data": {
      "text/plain": [
       "151"
      ]
     },
     "execution_count": 34,
     "metadata": {},
     "output_type": "execute_result"
    }
   ],
   "source": [
    "preds = hdtree_titanic.predict(X_test_final.values)\n",
    "temp = 0\n",
    "for i in preds: \n",
    "    # if i == 'Death':\n",
    "    #     temp += 1\n",
    "    temp += int(i)\n",
    "temp"
   ]
  },
  {
   "cell_type": "code",
   "execution_count": 35,
   "metadata": {},
   "outputs": [
    {
     "data": {
      "image/svg+xml": "<?xml version=\"1.0\" encoding=\"UTF-8\" standalone=\"no\"?>\n<!DOCTYPE svg PUBLIC \"-//W3C//DTD SVG 1.1//EN\"\n \"http://www.w3.org/Graphics/SVG/1.1/DTD/svg11.dtd\">\n<!-- Generated by graphviz version 5.0.1 (20220820.1526)\n -->\n<!-- Pages: 1 -->\n<svg width=\"1863pt\" height=\"1244pt\"\n viewBox=\"0.00 0.00 1863.00 1244.00\" xmlns=\"http://www.w3.org/2000/svg\" xmlns:xlink=\"http://www.w3.org/1999/xlink\">\n<g id=\"graph0\" class=\"graph\" transform=\"scale(1 1) rotate(0) translate(4 1240)\">\n<polygon fill=\"white\" stroke=\"none\" points=\"-4,4 -4,-1240 1859,-1240 1859,4 -4,4\"/>\n<!-- Head (Level 0) -->\n<g id=\"node1\" class=\"node\">\n<title>Head (Level 0)</title>\n<polygon fill=\"#7fff7f\" stroke=\"black\" stroke-width=\"10\" points=\"1053.5,-1236 596.5,-1236 596.5,-1070 1053.5,-1070 1053.5,-1236\"/>\n<text text-anchor=\"start\" x=\"618.5\" y=\"-1186.8\" font-family=\"monospace\" font-size=\"14.00\">Samples: &#160;&#160;&#160;&#160;&#160;5519</text>\n<text text-anchor=\"start\" x=\"618.5\" y=\"-1171.8\" font-family=\"monospace\" font-size=\"14.00\">Score: &#160;&#160;&#160;&#160;&#160;&#160;&#160;0.51</text>\n<text text-anchor=\"middle\" x=\"825\" y=\"-1156.8\" font-family=\"monospace\" font-size=\"14.00\">Test: Logistic Regression using age &lt; and duration</text>\n<text text-anchor=\"start\" x=\"618.5\" y=\"-1125.8\" font-family=\"monospace\" font-size=\"14.00\">0: 4922 ✓</text>\n<text text-anchor=\"start\" x=\"618.5\" y=\"-1110.8\" font-family=\"monospace\" font-size=\"14.00\">1: 597</text>\n<text text-anchor=\"middle\" x=\"825\" y=\"-1095.8\" font-family=\"monospace\" font-size=\"14.00\"> </text>\n</g>\n<!-- Node #1 (Level 1) -->\n<g id=\"node2\" class=\"node\">\n<title>Node #1 (Level 1)</title>\n<polygon fill=\"#fdfffd\" stroke=\"black\" stroke-width=\"0.28\" points=\"806,-1019 390,-1019 390,-853 806,-853 806,-1019\"/>\n<text text-anchor=\"start\" x=\"412\" y=\"-969.8\" font-family=\"monospace\" font-size=\"14.00\">Samples: &#160;&#160;&#160;&#160;&#160;155</text>\n<text text-anchor=\"start\" x=\"412\" y=\"-954.8\" font-family=\"monospace\" font-size=\"14.00\">Score: &#160;&#160;&#160;&#160;&#160;&#160;&#160;0.01</text>\n<text text-anchor=\"middle\" x=\"598\" y=\"-939.8\" font-family=\"monospace\" font-size=\"14.00\">Test: Logistic Regression using age &lt; and job</text>\n<text text-anchor=\"start\" x=\"412\" y=\"-908.8\" font-family=\"monospace\" font-size=\"14.00\">0: 68</text>\n<text text-anchor=\"start\" x=\"412\" y=\"-893.8\" font-family=\"monospace\" font-size=\"14.00\">1: 87 ✓</text>\n<text text-anchor=\"middle\" x=\"598\" y=\"-878.8\" font-family=\"monospace\" font-size=\"14.00\"> </text>\n</g>\n<!-- Head (Level 0)&#45;&gt;Node #1 (Level 1) -->\n<g id=\"edge1\" class=\"edge\">\n<title>Head (Level 0)&#45;&gt;Node #1 (Level 1)</title>\n<path fill=\"none\" stroke=\"black\" stroke-width=\"0.2\" d=\"M738.21,-1069.8C723.15,-1055.53 707.43,-1040.64 692.18,-1026.2\"/>\n<polygon fill=\"black\" stroke=\"black\" stroke-width=\"0.2\" points=\"694.41,-1023.49 684.74,-1019.16 689.6,-1028.57 694.41,-1023.49\"/>\n<text text-anchor=\"middle\" x=\"759\" y=\"-1040.8\" font-family=\"Times,serif\" font-size=\"14.00\">age &lt; duration</text>\n</g>\n<!-- Node #2 (Level 1) -->\n<g id=\"node3\" class=\"node\">\n<title>Node #2 (Level 1)</title>\n<polygon fill=\"#74ff74\" stroke=\"black\" stroke-width=\"9.72\" points=\"1281.5,-1019 824.5,-1019 824.5,-853 1281.5,-853 1281.5,-1019\"/>\n<text text-anchor=\"start\" x=\"846.5\" y=\"-969.8\" font-family=\"monospace\" font-size=\"14.00\">Samples: &#160;&#160;&#160;&#160;&#160;5364</text>\n<text text-anchor=\"start\" x=\"846.5\" y=\"-954.8\" font-family=\"monospace\" font-size=\"14.00\">Score: &#160;&#160;&#160;&#160;&#160;&#160;&#160;0.55</text>\n<text text-anchor=\"middle\" x=\"1053\" y=\"-939.8\" font-family=\"monospace\" font-size=\"14.00\">Test: Logistic Regression using age &lt; and duration</text>\n<text text-anchor=\"start\" x=\"846.5\" y=\"-908.8\" font-family=\"monospace\" font-size=\"14.00\">0: 4854 ✓</text>\n<text text-anchor=\"start\" x=\"846.5\" y=\"-893.8\" font-family=\"monospace\" font-size=\"14.00\">1: 510</text>\n<text text-anchor=\"middle\" x=\"1053\" y=\"-878.8\" font-family=\"monospace\" font-size=\"14.00\"> </text>\n</g>\n<!-- Head (Level 0)&#45;&gt;Node #2 (Level 1) -->\n<g id=\"edge2\" class=\"edge\">\n<title>Head (Level 0)&#45;&gt;Node #2 (Level 1)</title>\n<path fill=\"none\" stroke=\"black\" stroke-width=\"6.8\" d=\"M912.17,-1069.8C927.3,-1055.53 943.09,-1040.64 958.4,-1026.2\"/>\n<polygon fill=\"black\" stroke=\"black\" stroke-width=\"6.8\" points=\"962.68,-1030.35 965.88,-1019.16 954.52,-1021.69 962.68,-1030.35\"/>\n<text text-anchor=\"middle\" x=\"985.5\" y=\"-1040.8\" font-family=\"Times,serif\" font-size=\"14.00\">age ≥ duration</text>\n</g>\n<!-- Node #3 (Level 2) -->\n<g id=\"node4\" class=\"node\">\n<title>Node #3 (Level 2)</title>\n<polygon fill=\"#fbfffb\" stroke=\"black\" stroke-width=\"0.24\" points=\"639,-802 223,-802 223,-636 639,-636 639,-802\"/>\n<text text-anchor=\"start\" x=\"245\" y=\"-752.8\" font-family=\"monospace\" font-size=\"14.00\">Samples: &#160;&#160;&#160;&#160;&#160;134</text>\n<text text-anchor=\"start\" x=\"245\" y=\"-737.8\" font-family=\"monospace\" font-size=\"14.00\">Score: &#160;&#160;&#160;&#160;&#160;&#160;&#160;0.02</text>\n<text text-anchor=\"middle\" x=\"431\" y=\"-722.8\" font-family=\"monospace\" font-size=\"14.00\">Test: Logistic Regression using age &lt; and job</text>\n<text text-anchor=\"start\" x=\"245\" y=\"-691.8\" font-family=\"monospace\" font-size=\"14.00\">0: 57</text>\n<text text-anchor=\"start\" x=\"245\" y=\"-676.8\" font-family=\"monospace\" font-size=\"14.00\">1: 77 ✓</text>\n<text text-anchor=\"middle\" x=\"431\" y=\"-661.8\" font-family=\"monospace\" font-size=\"14.00\"> </text>\n</g>\n<!-- Node #1 (Level 1)&#45;&gt;Node #3 (Level 2) -->\n<g id=\"edge3\" class=\"edge\">\n<title>Node #1 (Level 1)&#45;&gt;Node #3 (Level 2)</title>\n<path fill=\"none\" stroke=\"black\" stroke-width=\"6.05\" d=\"M534.15,-852.8C523.37,-838.92 512.13,-824.45 501.21,-810.39\"/>\n<polygon fill=\"black\" stroke=\"black\" stroke-width=\"6.05\" points=\"505.13,-806.81 494.81,-802.16 496.77,-813.3 505.13,-806.81\"/>\n<text text-anchor=\"middle\" x=\"546\" y=\"-823.8\" font-family=\"Times,serif\" font-size=\"14.00\">age &lt; job</text>\n</g>\n<!-- Node #4 (Level 2) -->\n<g id=\"node5\" class=\"node\">\n<title>Node #4 (Level 2)</title>\n<polygon fill=\"#ffffff\" stroke=\"black\" stroke-width=\"0.04\" points=\"842.5,-794.5 657.5,-794.5 657.5,-643.5 842.5,-643.5 842.5,-794.5\"/>\n<text text-anchor=\"start\" x=\"679.5\" y=\"-745.3\" font-family=\"monospace\" font-size=\"14.00\">Samples: &#160;&#160;&#160;&#160;&#160;21</text>\n<text text-anchor=\"middle\" x=\"750\" y=\"-730.3\" font-family=\"monospace\" font-size=\"14.00\">Score: &#160;&#160;&#160;&#160;&#160;&#160;&#160;0.0</text>\n<text text-anchor=\"start\" x=\"679.5\" y=\"-699.3\" font-family=\"monospace\" font-size=\"14.00\">0: 11 ✓</text>\n<text text-anchor=\"start\" x=\"679.5\" y=\"-684.3\" font-family=\"monospace\" font-size=\"14.00\">1: 10</text>\n<text text-anchor=\"middle\" x=\"750\" y=\"-669.3\" font-family=\"monospace\" font-size=\"14.00\"> </text>\n</g>\n<!-- Node #1 (Level 1)&#45;&gt;Node #4 (Level 2) -->\n<g id=\"edge4\" class=\"edge\">\n<title>Node #1 (Level 1)&#45;&gt;Node #4 (Level 2)</title>\n<path fill=\"none\" stroke=\"black\" stroke-width=\"0.95\" d=\"M656.12,-852.8C667.61,-836.54 679.67,-819.47 691.19,-803.19\"/>\n<polygon fill=\"black\" stroke=\"black\" stroke-width=\"0.95\" points=\"694.24,-804.94 697.15,-794.75 688.52,-800.9 694.24,-804.94\"/>\n<text text-anchor=\"middle\" x=\"705\" y=\"-823.8\" font-family=\"Times,serif\" font-size=\"14.00\">age ≥ job</text>\n</g>\n<!-- Node #5 (Level 2) -->\n<g id=\"node6\" class=\"node\">\n<title>Node #5 (Level 2)</title>\n<polygon fill=\"#fafffa\" stroke=\"black\" stroke-width=\"0.19\" points=\"1053.5,-794.5 860.5,-794.5 860.5,-643.5 1053.5,-643.5 1053.5,-794.5\"/>\n<text text-anchor=\"start\" x=\"882.5\" y=\"-745.3\" font-family=\"monospace\" font-size=\"14.00\">Samples: &#160;&#160;&#160;&#160;&#160;103</text>\n<text text-anchor=\"middle\" x=\"957\" y=\"-730.3\" font-family=\"monospace\" font-size=\"14.00\">Score: &#160;&#160;&#160;&#160;&#160;&#160;&#160;0.02</text>\n<text text-anchor=\"start\" x=\"882.5\" y=\"-699.3\" font-family=\"monospace\" font-size=\"14.00\">0: 60 ✓</text>\n<text text-anchor=\"start\" x=\"882.5\" y=\"-684.3\" font-family=\"monospace\" font-size=\"14.00\">1: 43</text>\n<text text-anchor=\"middle\" x=\"957\" y=\"-669.3\" font-family=\"monospace\" font-size=\"14.00\"> </text>\n</g>\n<!-- Node #2 (Level 1)&#45;&gt;Node #5 (Level 2) -->\n<g id=\"edge5\" class=\"edge\">\n<title>Node #2 (Level 1)&#45;&gt;Node #5 (Level 2)</title>\n<path fill=\"none\" stroke=\"black\" stroke-width=\"0.13\" d=\"M1016.3,-852.8C1009.17,-836.84 1001.7,-820.1 994.55,-804.09\"/>\n<polygon fill=\"black\" stroke=\"black\" stroke-width=\"0.13\" points=\"997.65,-802.46 990.38,-794.75 991.26,-805.31 997.65,-802.46\"/>\n<text text-anchor=\"middle\" x=\"1048\" y=\"-823.8\" font-family=\"Times,serif\" font-size=\"14.00\">age &lt; duration</text>\n</g>\n<!-- Node #6 (Level 2) -->\n<g id=\"node7\" class=\"node\">\n<title>Node #6 (Level 2)</title>\n<polygon fill=\"#6fff6f\" stroke=\"black\" stroke-width=\"9.53\" points=\"1528.5,-802 1071.5,-802 1071.5,-636 1528.5,-636 1528.5,-802\"/>\n<text text-anchor=\"start\" x=\"1093.5\" y=\"-752.8\" font-family=\"monospace\" font-size=\"14.00\">Samples: &#160;&#160;&#160;&#160;&#160;5261</text>\n<text text-anchor=\"start\" x=\"1093.5\" y=\"-737.8\" font-family=\"monospace\" font-size=\"14.00\">Score: &#160;&#160;&#160;&#160;&#160;&#160;&#160;0.57</text>\n<text text-anchor=\"middle\" x=\"1300\" y=\"-722.8\" font-family=\"monospace\" font-size=\"14.00\">Test: Logistic Regression using age &lt; and duration</text>\n<text text-anchor=\"start\" x=\"1093.5\" y=\"-691.8\" font-family=\"monospace\" font-size=\"14.00\">0: 4794 ✓</text>\n<text text-anchor=\"start\" x=\"1093.5\" y=\"-676.8\" font-family=\"monospace\" font-size=\"14.00\">1: 467</text>\n<text text-anchor=\"middle\" x=\"1300\" y=\"-661.8\" font-family=\"monospace\" font-size=\"14.00\"> </text>\n</g>\n<!-- Node #2 (Level 1)&#45;&gt;Node #6 (Level 2) -->\n<g id=\"edge6\" class=\"edge\">\n<title>Node #2 (Level 1)&#45;&gt;Node #6 (Level 2)</title>\n<path fill=\"none\" stroke=\"black\" stroke-width=\"6.87\" d=\"M1147.44,-852.8C1163.97,-838.41 1181.24,-823.37 1197.97,-808.81\"/>\n<polygon fill=\"black\" stroke=\"black\" stroke-width=\"6.87\" points=\"1202.02,-813.25 1205.61,-802.16 1194.13,-804.19 1202.02,-813.25\"/>\n<text text-anchor=\"middle\" x=\"1223.5\" y=\"-823.8\" font-family=\"Times,serif\" font-size=\"14.00\">age ≥ duration</text>\n</g>\n<!-- Node #7 (Level 3) -->\n<g id=\"node8\" class=\"node\">\n<title>Node #7 (Level 3)</title>\n<polygon fill=\"#fafffa\" stroke=\"black\" stroke-width=\"0.2\" points=\"639,-585 223,-585 223,-419 639,-419 639,-585\"/>\n<text text-anchor=\"start\" x=\"245\" y=\"-535.8\" font-family=\"monospace\" font-size=\"14.00\">Samples: &#160;&#160;&#160;&#160;&#160;113</text>\n<text text-anchor=\"start\" x=\"245\" y=\"-520.8\" font-family=\"monospace\" font-size=\"14.00\">Score: &#160;&#160;&#160;&#160;&#160;&#160;&#160;0.02</text>\n<text text-anchor=\"middle\" x=\"431\" y=\"-505.8\" font-family=\"monospace\" font-size=\"14.00\">Test: Logistic Regression using age &lt; and job</text>\n<text text-anchor=\"start\" x=\"245\" y=\"-474.8\" font-family=\"monospace\" font-size=\"14.00\">0: 47</text>\n<text text-anchor=\"start\" x=\"245\" y=\"-459.8\" font-family=\"monospace\" font-size=\"14.00\">1: 66 ✓</text>\n<text text-anchor=\"middle\" x=\"431\" y=\"-444.8\" font-family=\"monospace\" font-size=\"14.00\"> </text>\n</g>\n<!-- Node #3 (Level 2)&#45;&gt;Node #7 (Level 3) -->\n<g id=\"edge7\" class=\"edge\">\n<title>Node #3 (Level 2)&#45;&gt;Node #7 (Level 3)</title>\n<path fill=\"none\" stroke=\"black\" stroke-width=\"5.9\" d=\"M431,-635.8C431,-622.57 431,-608.81 431,-595.36\"/>\n<polygon fill=\"black\" stroke=\"black\" stroke-width=\"5.9\" points=\"436.17,-595.16 431,-585.16 425.83,-595.16 436.17,-595.16\"/>\n<text text-anchor=\"middle\" x=\"457\" y=\"-606.8\" font-family=\"Times,serif\" font-size=\"14.00\">age &lt; job</text>\n</g>\n<!-- Node #8 (Level 3) -->\n<g id=\"node9\" class=\"node\">\n<title>Node #8 (Level 3)</title>\n<polygon fill=\"#ffffff\" stroke=\"black\" stroke-width=\"0.04\" points=\"842.5,-577.5 657.5,-577.5 657.5,-426.5 842.5,-426.5 842.5,-577.5\"/>\n<text text-anchor=\"start\" x=\"679.5\" y=\"-528.3\" font-family=\"monospace\" font-size=\"14.00\">Samples: &#160;&#160;&#160;&#160;&#160;21</text>\n<text text-anchor=\"middle\" x=\"750\" y=\"-513.3\" font-family=\"monospace\" font-size=\"14.00\">Score: &#160;&#160;&#160;&#160;&#160;&#160;&#160;0.0</text>\n<text text-anchor=\"start\" x=\"679.5\" y=\"-482.3\" font-family=\"monospace\" font-size=\"14.00\">0: 10</text>\n<text text-anchor=\"start\" x=\"679.5\" y=\"-467.3\" font-family=\"monospace\" font-size=\"14.00\">1: 11 ✓</text>\n<text text-anchor=\"middle\" x=\"750\" y=\"-452.3\" font-family=\"monospace\" font-size=\"14.00\"> </text>\n</g>\n<!-- Node #3 (Level 2)&#45;&gt;Node #8 (Level 3) -->\n<g id=\"edge8\" class=\"edge\">\n<title>Node #3 (Level 2)&#45;&gt;Node #8 (Level 3)</title>\n<path fill=\"none\" stroke=\"black\" stroke-width=\"1.1\" d=\"M570.74,-635.97C596.8,-619.66 623.52,-602.24 648,-585 648.75,-584.47 649.51,-583.94 650.26,-583.4\"/>\n<polygon fill=\"black\" stroke=\"black\" stroke-width=\"1.1\" points=\"652.34,-586.22 658.4,-577.53 648.24,-580.54 652.34,-586.22\"/>\n<text text-anchor=\"middle\" x=\"646\" y=\"-606.8\" font-family=\"Times,serif\" font-size=\"14.00\">age ≥ job</text>\n</g>\n<!-- Node #9 (Level 3) -->\n<g id=\"node10\" class=\"node\">\n<title>Node #9 (Level 3)</title>\n<polygon fill=\"#e5ffe5\" stroke=\"black\" stroke-width=\"0.08\" points=\"1173.5,-577.5 980.5,-577.5 980.5,-426.5 1173.5,-426.5 1173.5,-577.5\"/>\n<text text-anchor=\"start\" x=\"1002.5\" y=\"-528.3\" font-family=\"monospace\" font-size=\"14.00\">Samples: &#160;&#160;&#160;&#160;&#160;45</text>\n<text text-anchor=\"middle\" x=\"1077\" y=\"-513.3\" font-family=\"monospace\" font-size=\"14.00\">Score: &#160;&#160;&#160;&#160;&#160;&#160;&#160;0.11</text>\n<text text-anchor=\"start\" x=\"1002.5\" y=\"-482.3\" font-family=\"monospace\" font-size=\"14.00\">0: 31 ✓</text>\n<text text-anchor=\"start\" x=\"1002.5\" y=\"-467.3\" font-family=\"monospace\" font-size=\"14.00\">1: 14</text>\n<text text-anchor=\"middle\" x=\"1077\" y=\"-452.3\" font-family=\"monospace\" font-size=\"14.00\"> </text>\n</g>\n<!-- Node #6 (Level 2)&#45;&gt;Node #9 (Level 3) -->\n<g id=\"edge9\" class=\"edge\">\n<title>Node #6 (Level 2)&#45;&gt;Node #9 (Level 3)</title>\n<path fill=\"none\" stroke=\"black\" stroke-width=\"0.06\" d=\"M1214.74,-635.8C1197.42,-619.1 1179.2,-601.53 1161.89,-584.85\"/>\n<polygon fill=\"black\" stroke=\"black\" stroke-width=\"0.06\" points=\"1164.16,-582.17 1154.53,-577.75 1159.3,-587.21 1164.16,-582.17\"/>\n<text text-anchor=\"middle\" x=\"1236\" y=\"-606.8\" font-family=\"Times,serif\" font-size=\"14.00\">age &lt; duration</text>\n</g>\n<!-- Node #10 (Level 3) -->\n<g id=\"node11\" class=\"node\">\n<title>Node #10 (Level 3)</title>\n<polygon fill=\"#6dff6d\" stroke=\"black\" stroke-width=\"9.45\" points=\"1648.5,-585 1191.5,-585 1191.5,-419 1648.5,-419 1648.5,-585\"/>\n<text text-anchor=\"start\" x=\"1213.5\" y=\"-535.8\" font-family=\"monospace\" font-size=\"14.00\">Samples: &#160;&#160;&#160;&#160;&#160;5216</text>\n<text text-anchor=\"start\" x=\"1213.5\" y=\"-520.8\" font-family=\"monospace\" font-size=\"14.00\">Score: &#160;&#160;&#160;&#160;&#160;&#160;&#160;0.57</text>\n<text text-anchor=\"middle\" x=\"1420\" y=\"-505.8\" font-family=\"monospace\" font-size=\"14.00\">Test: Logistic Regression using age &lt; and duration</text>\n<text text-anchor=\"start\" x=\"1213.5\" y=\"-474.8\" font-family=\"monospace\" font-size=\"14.00\">0: 4763 ✓</text>\n<text text-anchor=\"start\" x=\"1213.5\" y=\"-459.8\" font-family=\"monospace\" font-size=\"14.00\">1: 453</text>\n<text text-anchor=\"middle\" x=\"1420\" y=\"-444.8\" font-family=\"monospace\" font-size=\"14.00\"> </text>\n</g>\n<!-- Node #6 (Level 2)&#45;&gt;Node #10 (Level 3) -->\n<g id=\"edge10\" class=\"edge\">\n<title>Node #6 (Level 2)&#45;&gt;Node #10 (Level 3)</title>\n<path fill=\"none\" stroke=\"black\" stroke-width=\"6.94\" d=\"M1345.88,-635.8C1353.48,-622.18 1361.4,-608 1369.11,-594.18\"/>\n<polygon fill=\"black\" stroke=\"black\" stroke-width=\"6.94\" points=\"1374.57,-596.85 1374.14,-585.16 1363.97,-590.93 1374.57,-596.85\"/>\n<text text-anchor=\"middle\" x=\"1403.5\" y=\"-606.8\" font-family=\"Times,serif\" font-size=\"14.00\">age ≥ duration</text>\n</g>\n<!-- Node #11 (Level 4) -->\n<g id=\"node12\" class=\"node\">\n<title>Node #11 (Level 4)</title>\n<polygon fill=\"#fbfffb\" stroke=\"black\" stroke-width=\"0.18\" points=\"416,-368 0,-368 0,-202 416,-202 416,-368\"/>\n<text text-anchor=\"start\" x=\"22\" y=\"-318.8\" font-family=\"monospace\" font-size=\"14.00\">Samples: &#160;&#160;&#160;&#160;&#160;101</text>\n<text text-anchor=\"start\" x=\"22\" y=\"-303.8\" font-family=\"monospace\" font-size=\"14.00\">Score: &#160;&#160;&#160;&#160;&#160;&#160;&#160;0.02</text>\n<text text-anchor=\"middle\" x=\"208\" y=\"-288.8\" font-family=\"monospace\" font-size=\"14.00\">Test: Logistic Regression using age &lt; and job</text>\n<text text-anchor=\"start\" x=\"22\" y=\"-257.8\" font-family=\"monospace\" font-size=\"14.00\">0: 43</text>\n<text text-anchor=\"start\" x=\"22\" y=\"-242.8\" font-family=\"monospace\" font-size=\"14.00\">1: 58 ✓</text>\n<text text-anchor=\"middle\" x=\"208\" y=\"-227.8\" font-family=\"monospace\" font-size=\"14.00\"> </text>\n</g>\n<!-- Node #7 (Level 3)&#45;&gt;Node #11 (Level 4) -->\n<g id=\"edge11\" class=\"edge\">\n<title>Node #7 (Level 3)&#45;&gt;Node #11 (Level 4)</title>\n<path fill=\"none\" stroke=\"black\" stroke-width=\"6.26\" d=\"M345.74,-418.8C330.95,-404.53 315.5,-389.64 300.52,-375.2\"/>\n<polygon fill=\"black\" stroke=\"black\" stroke-width=\"6.26\" points=\"304.21,-371.16 293.21,-368.16 296.61,-379.04 304.21,-371.16\"/>\n<text text-anchor=\"middle\" x=\"353\" y=\"-389.8\" font-family=\"Times,serif\" font-size=\"14.00\">age &lt; job</text>\n</g>\n<!-- Node #12 (Level 4) -->\n<g id=\"node13\" class=\"node\">\n<title>Node #12 (Level 4)</title>\n<polygon fill=\"#ebffeb\" stroke=\"black\" stroke-width=\"0.02\" points=\"627.5,-360.5 434.5,-360.5 434.5,-209.5 627.5,-209.5 627.5,-360.5\"/>\n<text text-anchor=\"start\" x=\"456.5\" y=\"-311.3\" font-family=\"monospace\" font-size=\"14.00\">Samples: &#160;&#160;&#160;&#160;&#160;12</text>\n<text text-anchor=\"middle\" x=\"531\" y=\"-296.3\" font-family=\"monospace\" font-size=\"14.00\">Score: &#160;&#160;&#160;&#160;&#160;&#160;&#160;0.08</text>\n<text text-anchor=\"start\" x=\"456.5\" y=\"-265.3\" font-family=\"monospace\" font-size=\"14.00\">0: 4</text>\n<text text-anchor=\"start\" x=\"456.5\" y=\"-250.3\" font-family=\"monospace\" font-size=\"14.00\">1: 8 ✓</text>\n<text text-anchor=\"middle\" x=\"531\" y=\"-235.3\" font-family=\"monospace\" font-size=\"14.00\"> </text>\n</g>\n<!-- Node #7 (Level 3)&#45;&gt;Node #12 (Level 4) -->\n<g id=\"edge12\" class=\"edge\">\n<title>Node #7 (Level 3)&#45;&gt;Node #12 (Level 4)</title>\n<path fill=\"none\" stroke=\"black\" stroke-width=\"0.74\" d=\"M469.23,-418.8C476.65,-402.84 484.44,-386.1 491.89,-370.09\"/>\n<polygon fill=\"black\" stroke=\"black\" stroke-width=\"0.74\" points=\"495.19,-371.3 496.23,-360.75 488.84,-368.34 495.19,-371.3\"/>\n<text text-anchor=\"middle\" x=\"510\" y=\"-389.8\" font-family=\"Times,serif\" font-size=\"14.00\">age ≥ job</text>\n</g>\n<!-- Node #13 (Level 4) -->\n<g id=\"node14\" class=\"node\">\n<title>Node #13 (Level 4)</title>\n<polygon fill=\"#ffffff\" stroke=\"black\" stroke-width=\"0.06\" points=\"1404.5,-360.5 1219.5,-360.5 1219.5,-209.5 1404.5,-209.5 1404.5,-360.5\"/>\n<text text-anchor=\"start\" x=\"1241.5\" y=\"-311.3\" font-family=\"monospace\" font-size=\"14.00\">Samples: &#160;&#160;&#160;&#160;&#160;32</text>\n<text text-anchor=\"middle\" x=\"1312\" y=\"-296.3\" font-family=\"monospace\" font-size=\"14.00\">Score: &#160;&#160;&#160;&#160;&#160;&#160;&#160;0.0</text>\n<text text-anchor=\"start\" x=\"1241.5\" y=\"-265.3\" font-family=\"monospace\" font-size=\"14.00\">0: 15</text>\n<text text-anchor=\"start\" x=\"1241.5\" y=\"-250.3\" font-family=\"monospace\" font-size=\"14.00\">1: 17 ✓</text>\n<text text-anchor=\"middle\" x=\"1312\" y=\"-235.3\" font-family=\"monospace\" font-size=\"14.00\"> </text>\n</g>\n<!-- Node #10 (Level 3)&#45;&gt;Node #13 (Level 4) -->\n<g id=\"edge13\" class=\"edge\">\n<title>Node #10 (Level 3)&#45;&gt;Node #13 (Level 4)</title>\n<path fill=\"none\" stroke=\"black\" stroke-width=\"0.04\" d=\"M1378.71,-418.8C1370.69,-402.84 1362.28,-386.1 1354.24,-370.09\"/>\n<polygon fill=\"black\" stroke=\"black\" stroke-width=\"0.04\" points=\"1357.17,-368.12 1349.55,-360.75 1350.91,-371.26 1357.17,-368.12\"/>\n<text text-anchor=\"middle\" x=\"1410\" y=\"-389.8\" font-family=\"Times,serif\" font-size=\"14.00\">age &lt; duration</text>\n</g>\n<!-- Node #14 (Level 4) -->\n<g id=\"node15\" class=\"node\">\n<title>Node #14 (Level 4)</title>\n<polygon fill=\"#6bff6b\" stroke=\"black\" stroke-width=\"9.39\" points=\"1855,-368 1423,-368 1423,-202 1855,-202 1855,-368\"/>\n<text text-anchor=\"start\" x=\"1445\" y=\"-318.8\" font-family=\"monospace\" font-size=\"14.00\">Samples: &#160;&#160;&#160;&#160;&#160;5184</text>\n<text text-anchor=\"start\" x=\"1445\" y=\"-303.8\" font-family=\"monospace\" font-size=\"14.00\">Score: &#160;&#160;&#160;&#160;&#160;&#160;&#160;0.58</text>\n<text text-anchor=\"middle\" x=\"1639\" y=\"-288.8\" font-family=\"monospace\" font-size=\"14.00\">Test: Logistic Regression using age &lt; and pdays</text>\n<text text-anchor=\"start\" x=\"1445\" y=\"-257.8\" font-family=\"monospace\" font-size=\"14.00\">0: 4748 ✓</text>\n<text text-anchor=\"start\" x=\"1445\" y=\"-242.8\" font-family=\"monospace\" font-size=\"14.00\">1: 436</text>\n<text text-anchor=\"middle\" x=\"1639\" y=\"-227.8\" font-family=\"monospace\" font-size=\"14.00\"> </text>\n</g>\n<!-- Node #10 (Level 3)&#45;&gt;Node #14 (Level 4) -->\n<g id=\"edge14\" class=\"edge\">\n<title>Node #10 (Level 3)&#45;&gt;Node #14 (Level 4)</title>\n<path fill=\"none\" stroke=\"black\" stroke-width=\"6.96\" d=\"M1503.73,-418.8C1518.26,-404.53 1533.43,-389.64 1548.14,-375.2\"/>\n<polygon fill=\"black\" stroke=\"black\" stroke-width=\"6.96\" points=\"1552.44,-379.51 1555.31,-368.16 1543.91,-370.82 1552.44,-379.51\"/>\n<text text-anchor=\"middle\" x=\"1576.5\" y=\"-389.8\" font-family=\"Times,serif\" font-size=\"14.00\">age ≥ duration</text>\n</g>\n<!-- Node #15 (Level 5) -->\n<g id=\"node16\" class=\"node\">\n<title>Node #15 (Level 5)</title>\n<polygon fill=\"#f8fff8\" stroke=\"black\" stroke-width=\"0.14\" points=\"201.5,-151 8.5,-151 8.5,0 201.5,0 201.5,-151\"/>\n<text text-anchor=\"start\" x=\"30.5\" y=\"-101.8\" font-family=\"monospace\" font-size=\"14.00\">Samples: &#160;&#160;&#160;&#160;&#160;77</text>\n<text text-anchor=\"middle\" x=\"105\" y=\"-86.8\" font-family=\"monospace\" font-size=\"14.00\">Score: &#160;&#160;&#160;&#160;&#160;&#160;&#160;0.03</text>\n<text text-anchor=\"start\" x=\"30.5\" y=\"-55.8\" font-family=\"monospace\" font-size=\"14.00\">0: 31</text>\n<text text-anchor=\"start\" x=\"30.5\" y=\"-40.8\" font-family=\"monospace\" font-size=\"14.00\">1: 46 ✓</text>\n<text text-anchor=\"middle\" x=\"105\" y=\"-25.8\" font-family=\"monospace\" font-size=\"14.00\"> </text>\n</g>\n<!-- Node #11 (Level 4)&#45;&gt;Node #15 (Level 5) -->\n<g id=\"edge15\" class=\"edge\">\n<title>Node #11 (Level 4)&#45;&gt;Node #15 (Level 5)</title>\n<path fill=\"none\" stroke=\"black\" stroke-width=\"5.34\" d=\"M167.29,-201.99C160.46,-188.24 153.37,-173.95 146.53,-160.16\"/>\n<polygon fill=\"black\" stroke=\"black\" stroke-width=\"5.34\" points=\"150.7,-158.06 142.07,-151.17 142.33,-162.21 150.7,-158.06\"/>\n<text text-anchor=\"middle\" x=\"183\" y=\"-172.8\" font-family=\"Times,serif\" font-size=\"14.00\">age &lt; job</text>\n</g>\n<!-- Node #16 (Level 5) -->\n<g id=\"node17\" class=\"node\">\n<title>Node #16 (Level 5)</title>\n<polygon fill=\"#ffffff\" stroke=\"black\" stroke-width=\"0.04\" points=\"404.5,-151 219.5,-151 219.5,0 404.5,0 404.5,-151\"/>\n<text text-anchor=\"start\" x=\"241.5\" y=\"-101.8\" font-family=\"monospace\" font-size=\"14.00\">Samples: &#160;&#160;&#160;&#160;&#160;24</text>\n<text text-anchor=\"middle\" x=\"312\" y=\"-86.8\" font-family=\"monospace\" font-size=\"14.00\">Score: &#160;&#160;&#160;&#160;&#160;&#160;&#160;0.0</text>\n<text text-anchor=\"start\" x=\"241.5\" y=\"-55.8\" font-family=\"monospace\" font-size=\"14.00\">0: 12 ✓</text>\n<text text-anchor=\"start\" x=\"241.5\" y=\"-40.8\" font-family=\"monospace\" font-size=\"14.00\">1: 12</text>\n<text text-anchor=\"middle\" x=\"312\" y=\"-25.8\" font-family=\"monospace\" font-size=\"14.00\"> </text>\n</g>\n<!-- Node #11 (Level 4)&#45;&gt;Node #16 (Level 5) -->\n<g id=\"edge16\" class=\"edge\">\n<title>Node #11 (Level 4)&#45;&gt;Node #16 (Level 5)</title>\n<path fill=\"none\" stroke=\"black\" stroke-width=\"1.66\" d=\"M249.1,-201.99C256,-188.24 263.16,-173.95 270.07,-160.16\"/>\n<polygon fill=\"black\" stroke=\"black\" stroke-width=\"1.66\" points=\"273.22,-161.68 274.57,-151.17 266.96,-158.55 273.22,-161.68\"/>\n<text text-anchor=\"middle\" x=\"290\" y=\"-172.8\" font-family=\"Times,serif\" font-size=\"14.00\">age ≥ job</text>\n</g>\n<!-- Node #17 (Level 5) -->\n<g id=\"node18\" class=\"node\">\n<title>Node #17 (Level 5)</title>\n<polygon fill=\"#fcfffc\" stroke=\"black\" stroke-width=\"0.36\" points=\"1629.5,-151 1436.5,-151 1436.5,0 1629.5,0 1629.5,-151\"/>\n<text text-anchor=\"start\" x=\"1458.5\" y=\"-101.8\" font-family=\"monospace\" font-size=\"14.00\">Samples: &#160;&#160;&#160;&#160;&#160;196</text>\n<text text-anchor=\"middle\" x=\"1533\" y=\"-86.8\" font-family=\"monospace\" font-size=\"14.00\">Score: &#160;&#160;&#160;&#160;&#160;&#160;&#160;0.01</text>\n<text text-anchor=\"start\" x=\"1458.5\" y=\"-55.8\" font-family=\"monospace\" font-size=\"14.00\">0: 84</text>\n<text text-anchor=\"start\" x=\"1458.5\" y=\"-40.8\" font-family=\"monospace\" font-size=\"14.00\">1: 112 ✓</text>\n<text text-anchor=\"middle\" x=\"1533\" y=\"-25.8\" font-family=\"monospace\" font-size=\"14.00\"> </text>\n</g>\n<!-- Node #14 (Level 4)&#45;&gt;Node #17 (Level 5) -->\n<g id=\"edge17\" class=\"edge\">\n<title>Node #14 (Level 4)&#45;&gt;Node #17 (Level 5)</title>\n<path fill=\"none\" stroke=\"black\" stroke-width=\"0.26\" d=\"M1597.11,-201.99C1590.08,-188.24 1582.78,-173.95 1575.74,-160.16\"/>\n<polygon fill=\"black\" stroke=\"black\" stroke-width=\"0.26\" points=\"1578.81,-158.49 1571.15,-151.17 1572.58,-161.67 1578.81,-158.49\"/>\n<text text-anchor=\"middle\" x=\"1619.5\" y=\"-172.8\" font-family=\"Times,serif\" font-size=\"14.00\">age &lt; pdays</text>\n</g>\n<!-- Node #18 (Level 5) -->\n<g id=\"node19\" class=\"node\">\n<title>Node #18 (Level 5)</title>\n<polygon fill=\"#59ff59\" stroke=\"black\" stroke-width=\"9.04\" points=\"1840.5,-151 1647.5,-151 1647.5,0 1840.5,0 1840.5,-151\"/>\n<text text-anchor=\"start\" x=\"1669.5\" y=\"-101.8\" font-family=\"monospace\" font-size=\"14.00\">Samples: &#160;&#160;&#160;&#160;&#160;4988</text>\n<text text-anchor=\"middle\" x=\"1744\" y=\"-86.8\" font-family=\"monospace\" font-size=\"14.00\">Score: &#160;&#160;&#160;&#160;&#160;&#160;&#160;0.65</text>\n<text text-anchor=\"start\" x=\"1669.5\" y=\"-55.8\" font-family=\"monospace\" font-size=\"14.00\">0: 4664 ✓</text>\n<text text-anchor=\"start\" x=\"1669.5\" y=\"-40.8\" font-family=\"monospace\" font-size=\"14.00\">1: 324</text>\n<text text-anchor=\"middle\" x=\"1744\" y=\"-25.8\" font-family=\"monospace\" font-size=\"14.00\"> </text>\n</g>\n<!-- Node #14 (Level 4)&#45;&gt;Node #18 (Level 5) -->\n<g id=\"edge18\" class=\"edge\">\n<title>Node #14 (Level 4)&#45;&gt;Node #18 (Level 5)</title>\n<path fill=\"none\" stroke=\"black\" stroke-width=\"6.74\" d=\"M1680.5,-201.99C1687.46,-188.24 1694.69,-173.95 1701.67,-160.16\"/>\n<polygon fill=\"black\" stroke=\"black\" stroke-width=\"6.74\" points=\"1706.96,-162.76 1706.21,-151.17 1696.44,-157.44 1706.96,-162.76\"/>\n<text text-anchor=\"middle\" x=\"1727\" y=\"-172.8\" font-family=\"Times,serif\" font-size=\"14.00\">age ≥ pdays</text>\n</g>\n</g>\n</svg>\n",
      "text/plain": [
       "<graphviz.dot.Digraph at 0x7f9b220f1dc0>"
      ]
     },
     "execution_count": 35,
     "metadata": {},
     "output_type": "execute_result"
    }
   ],
   "source": [
    "hdtree_titanic.generate_dot_graph()"
   ]
  },
  {
   "cell_type": "code",
   "execution_count": 83,
   "metadata": {},
   "outputs": [
    {
     "data": {
      "image/svg+xml": "<?xml version=\"1.0\" encoding=\"UTF-8\" standalone=\"no\"?>\n<!DOCTYPE svg PUBLIC \"-//W3C//DTD SVG 1.1//EN\"\n \"http://www.w3.org/Graphics/SVG/1.1/DTD/svg11.dtd\">\n<!-- Generated by graphviz version 5.0.1 (20220820.1526)\n -->\n<!-- Pages: 1 -->\n<svg width=\"509pt\" height=\"593pt\"\n viewBox=\"0.00 0.00 509.00 593.00\" xmlns=\"http://www.w3.org/2000/svg\" xmlns:xlink=\"http://www.w3.org/1999/xlink\">\n<g id=\"graph0\" class=\"graph\" transform=\"scale(1 1) rotate(0) translate(4 589)\">\n<polygon fill=\"white\" stroke=\"none\" points=\"-4,4 -4,-589 505,-589 505,4 -4,4\"/>\n<!-- Head (Level 0) -->\n<g id=\"node1\" class=\"node\">\n<title>Head (Level 0)</title>\n<polygon fill=\"#7fff7f\" stroke=\"black\" stroke-width=\"10\" points=\"461.5,-585 251.5,-585 251.5,-419 461.5,-419 461.5,-585\"/>\n<text text-anchor=\"start\" x=\"273.5\" y=\"-535.8\" font-family=\"monospace\" font-size=\"14.00\">Samples: &#160;&#160;&#160;&#160;&#160;5519</text>\n<text text-anchor=\"start\" x=\"273.5\" y=\"-520.8\" font-family=\"monospace\" font-size=\"14.00\">Score: &#160;&#160;&#160;&#160;&#160;&#160;&#160;0.51</text>\n<text text-anchor=\"middle\" x=\"356.5\" y=\"-505.8\" font-family=\"monospace\" font-size=\"14.00\">Test: age &lt; duration</text>\n<text text-anchor=\"start\" x=\"273.5\" y=\"-474.8\" font-family=\"monospace\" font-size=\"14.00\">0: 4922 ✓</text>\n<text text-anchor=\"start\" x=\"273.5\" y=\"-459.8\" font-family=\"monospace\" font-size=\"14.00\">1: 597</text>\n<text text-anchor=\"middle\" x=\"356.5\" y=\"-444.8\" font-family=\"monospace\" font-size=\"14.00\"> </text>\n</g>\n<!-- Node #1 (Level 1) -->\n<g id=\"node2\" class=\"node\">\n<title>Node #1 (Level 1)</title>\n<polygon fill=\"#84ff84\" stroke=\"black\" stroke-width=\"9.41\" points=\"298,-368 105,-368 105,-202 298,-202 298,-368\"/>\n<text text-anchor=\"start\" x=\"127\" y=\"-318.8\" font-family=\"monospace\" font-size=\"14.00\">Samples: &#160;&#160;&#160;&#160;&#160;5191</text>\n<text text-anchor=\"start\" x=\"127\" y=\"-303.8\" font-family=\"monospace\" font-size=\"14.00\">Score: &#160;&#160;&#160;&#160;&#160;&#160;&#160;0.49</text>\n<text text-anchor=\"middle\" x=\"201.5\" y=\"-288.8\" font-family=\"monospace\" font-size=\"14.00\">Test: age &lt; pdays</text>\n<text text-anchor=\"start\" x=\"127\" y=\"-257.8\" font-family=\"monospace\" font-size=\"14.00\">0: 4594 ✓</text>\n<text text-anchor=\"start\" x=\"127\" y=\"-242.8\" font-family=\"monospace\" font-size=\"14.00\">1: 597</text>\n<text text-anchor=\"middle\" x=\"201.5\" y=\"-227.8\" font-family=\"monospace\" font-size=\"14.00\"> </text>\n</g>\n<!-- Head (Level 0)&#45;&gt;Node #1 (Level 1) -->\n<g id=\"edge1\" class=\"edge\">\n<title>Head (Level 0)&#45;&gt;Node #1 (Level 1)</title>\n<path fill=\"none\" stroke=\"black\" stroke-width=\"6.58\" d=\"M297.24,-418.8C287.24,-404.92 276.8,-390.45 266.66,-376.39\"/>\n<polygon fill=\"black\" stroke=\"black\" stroke-width=\"6.58\" points=\"271.25,-372.9 260.73,-368.16 261.9,-379.64 271.25,-372.9\"/>\n<text text-anchor=\"middle\" x=\"324.5\" y=\"-389.8\" font-family=\"Times,serif\" font-size=\"14.00\">age &lt; duration</text>\n</g>\n<!-- Node #2 (Level 1) -->\n<g id=\"node3\" class=\"node\">\n<title>Node #2 (Level 1)</title>\n<polygon fill=\"#00ff00\" stroke=\"black\" stroke-width=\"0.59\" points=\"501,-353 316,-353 316,-217 501,-217 501,-353\"/>\n<text text-anchor=\"start\" x=\"338\" y=\"-303.8\" font-family=\"monospace\" font-size=\"14.00\">Samples: &#160;&#160;&#160;&#160;&#160;328</text>\n<text text-anchor=\"middle\" x=\"408.5\" y=\"-288.8\" font-family=\"monospace\" font-size=\"14.00\">Score: &#160;&#160;&#160;&#160;&#160;&#160;&#160;1</text>\n<text text-anchor=\"start\" x=\"338\" y=\"-257.8\" font-family=\"monospace\" font-size=\"14.00\">0: 328 ✓</text>\n<text text-anchor=\"middle\" x=\"408.5\" y=\"-242.8\" font-family=\"monospace\" font-size=\"14.00\"> </text>\n</g>\n<!-- Head (Level 0)&#45;&gt;Node #2 (Level 1) -->\n<g id=\"edge2\" class=\"edge\">\n<title>Head (Level 0)&#45;&gt;Node #2 (Level 1)</title>\n<path fill=\"none\" stroke=\"black\" stroke-width=\"0.42\" d=\"M376.38,-418.8C380.81,-400.49 385.49,-381.15 389.86,-363.06\"/>\n<polygon fill=\"black\" stroke=\"black\" stroke-width=\"0.42\" points=\"393.31,-363.7 392.26,-353.16 386.5,-362.05 393.31,-363.7\"/>\n<text text-anchor=\"middle\" x=\"423\" y=\"-389.8\" font-family=\"Times,serif\" font-size=\"14.00\">age ≥ duration</text>\n</g>\n<!-- Node #3 (Level 2) -->\n<g id=\"node4\" class=\"node\">\n<title>Node #3 (Level 2)</title>\n<polygon fill=\"#73ff73\" stroke=\"black\" stroke-width=\"9.02\" points=\"193,-151 0,-151 0,0 193,0 193,-151\"/>\n<text text-anchor=\"start\" x=\"22\" y=\"-101.8\" font-family=\"monospace\" font-size=\"14.00\">Samples: &#160;&#160;&#160;&#160;&#160;4979</text>\n<text text-anchor=\"middle\" x=\"96.5\" y=\"-86.8\" font-family=\"monospace\" font-size=\"14.00\">Score: &#160;&#160;&#160;&#160;&#160;&#160;&#160;0.55</text>\n<text text-anchor=\"start\" x=\"22\" y=\"-55.8\" font-family=\"monospace\" font-size=\"14.00\">0: 4510 ✓</text>\n<text text-anchor=\"start\" x=\"22\" y=\"-40.8\" font-family=\"monospace\" font-size=\"14.00\">1: 469</text>\n<text text-anchor=\"middle\" x=\"96.5\" y=\"-25.8\" font-family=\"monospace\" font-size=\"14.00\"> </text>\n</g>\n<!-- Node #1 (Level 1)&#45;&gt;Node #3 (Level 2) -->\n<g id=\"edge3\" class=\"edge\">\n<title>Node #1 (Level 1)&#45;&gt;Node #3 (Level 2)</title>\n<path fill=\"none\" stroke=\"black\" stroke-width=\"6.71\" d=\"M160,-201.99C153.04,-188.24 145.81,-173.95 138.83,-160.16\"/>\n<polygon fill=\"black\" stroke=\"black\" stroke-width=\"6.71\" points=\"144.04,-157.44 134.29,-151.17 133.56,-162.75 144.04,-157.44\"/>\n<text text-anchor=\"middle\" x=\"183\" y=\"-172.8\" font-family=\"Times,serif\" font-size=\"14.00\">age &lt; pdays</text>\n</g>\n<!-- Node #4 (Level 2) -->\n<g id=\"node5\" class=\"node\">\n<title>Node #4 (Level 2)</title>\n<polygon fill=\"#f8fff8\" stroke=\"black\" stroke-width=\"0.38\" points=\"404,-151 211,-151 211,0 404,0 404,-151\"/>\n<text text-anchor=\"start\" x=\"233\" y=\"-101.8\" font-family=\"monospace\" font-size=\"14.00\">Samples: &#160;&#160;&#160;&#160;&#160;212</text>\n<text text-anchor=\"middle\" x=\"307.5\" y=\"-86.8\" font-family=\"monospace\" font-size=\"14.00\">Score: &#160;&#160;&#160;&#160;&#160;&#160;&#160;0.03</text>\n<text text-anchor=\"start\" x=\"233\" y=\"-55.8\" font-family=\"monospace\" font-size=\"14.00\">0: 84</text>\n<text text-anchor=\"start\" x=\"233\" y=\"-40.8\" font-family=\"monospace\" font-size=\"14.00\">1: 128 ✓</text>\n<text text-anchor=\"middle\" x=\"307.5\" y=\"-25.8\" font-family=\"monospace\" font-size=\"14.00\"> </text>\n</g>\n<!-- Node #1 (Level 1)&#45;&gt;Node #4 (Level 2) -->\n<g id=\"edge4\" class=\"edge\">\n<title>Node #1 (Level 1)&#45;&gt;Node #4 (Level 2)</title>\n<path fill=\"none\" stroke=\"black\" stroke-width=\"0.29\" d=\"M243.39,-201.99C250.42,-188.24 257.72,-173.95 264.76,-160.16\"/>\n<polygon fill=\"black\" stroke=\"black\" stroke-width=\"0.29\" points=\"267.92,-161.67 269.35,-151.17 261.69,-158.49 267.92,-161.67\"/>\n<text text-anchor=\"middle\" x=\"291.5\" y=\"-172.8\" font-family=\"Times,serif\" font-size=\"14.00\">age ≥ pdays</text>\n</g>\n</g>\n</svg>\n",
      "text/plain": [
       "<graphviz.dot.Digraph at 0x7f923f4fcbb0>"
      ]
     },
     "execution_count": 83,
     "metadata": {},
     "output_type": "execute_result"
    }
   ],
   "source": [
    "hdtree_titanic.generate_dot_graph()"
   ]
  },
  {
   "cell_type": "code",
   "execution_count": null,
   "metadata": {},
   "outputs": [],
   "source": []
  }
 ],
 "metadata": {
  "kernelspec": {
   "display_name": "Python 3.9.1 64-bit",
   "language": "python",
   "name": "python3"
  },
  "language_info": {
   "codemirror_mode": {
    "name": "ipython",
    "version": 3
   },
   "file_extension": ".py",
   "mimetype": "text/x-python",
   "name": "python",
   "nbconvert_exporter": "python",
   "pygments_lexer": "ipython3",
   "version": "3.9.1"
  },
  "orig_nbformat": 4,
  "vscode": {
   "interpreter": {
    "hash": "aee8b7b246df8f9039afb4144a1f6fd8d2ca17a180786b69acc140d282b71a49"
   }
  }
 },
 "nbformat": 4,
 "nbformat_minor": 2
}
