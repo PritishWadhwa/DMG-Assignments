{
 "cells": [
  {
   "cell_type": "code",
   "execution_count": 1,
   "metadata": {},
   "outputs": [],
   "source": [
    "import matplotlib.pyplot as plt\n",
    "import numpy as np\n",
    "from sklearn.tree import DecisionTreeClassifier, plot_tree, export_graphviz\n",
    "from typing import Tuple\n",
    "from sklearn.model_selection import train_test_split\n",
    "import seaborn as sns\n",
    "import matplotlib\n",
    "from mlxtend.plotting import plot_decision_regions\n",
    "import graphviz\n",
    "import pandas as pd\n",
    "%load_ext autoreload\n",
    "%autoreload 2"
   ]
  },
  {
   "cell_type": "code",
   "execution_count": 2,
   "metadata": {},
   "outputs": [],
   "source": [
    "df_titanic = pd.read_csv(\"./../../train.csv\")"
   ]
  },
  {
   "cell_type": "code",
   "execution_count": 3,
   "metadata": {},
   "outputs": [
    {
     "data": {
      "text/html": [
       "<div>\n",
       "<style scoped>\n",
       "    .dataframe tbody tr th:only-of-type {\n",
       "        vertical-align: middle;\n",
       "    }\n",
       "\n",
       "    .dataframe tbody tr th {\n",
       "        vertical-align: top;\n",
       "    }\n",
       "\n",
       "    .dataframe thead th {\n",
       "        text-align: right;\n",
       "    }\n",
       "</style>\n",
       "<table border=\"1\" class=\"dataframe\">\n",
       "  <thead>\n",
       "    <tr style=\"text-align: right;\">\n",
       "      <th></th>\n",
       "      <th>PassengerId</th>\n",
       "      <th>Survived</th>\n",
       "      <th>Pclass</th>\n",
       "      <th>Name</th>\n",
       "      <th>Sex</th>\n",
       "      <th>Age</th>\n",
       "      <th>SibSp</th>\n",
       "      <th>Parch</th>\n",
       "      <th>Ticket</th>\n",
       "      <th>Fare</th>\n",
       "      <th>Cabin</th>\n",
       "      <th>Embarked</th>\n",
       "    </tr>\n",
       "  </thead>\n",
       "  <tbody>\n",
       "    <tr>\n",
       "      <th>0</th>\n",
       "      <td>1</td>\n",
       "      <td>0</td>\n",
       "      <td>3</td>\n",
       "      <td>Braund, Mr. Owen Harris</td>\n",
       "      <td>male</td>\n",
       "      <td>22.0</td>\n",
       "      <td>1</td>\n",
       "      <td>0</td>\n",
       "      <td>A/5 21171</td>\n",
       "      <td>7.2500</td>\n",
       "      <td>NaN</td>\n",
       "      <td>S</td>\n",
       "    </tr>\n",
       "    <tr>\n",
       "      <th>1</th>\n",
       "      <td>2</td>\n",
       "      <td>1</td>\n",
       "      <td>1</td>\n",
       "      <td>Cumings, Mrs. John Bradley (Florence Briggs Th...</td>\n",
       "      <td>female</td>\n",
       "      <td>38.0</td>\n",
       "      <td>1</td>\n",
       "      <td>0</td>\n",
       "      <td>PC 17599</td>\n",
       "      <td>71.2833</td>\n",
       "      <td>C85</td>\n",
       "      <td>C</td>\n",
       "    </tr>\n",
       "    <tr>\n",
       "      <th>2</th>\n",
       "      <td>3</td>\n",
       "      <td>1</td>\n",
       "      <td>3</td>\n",
       "      <td>Heikkinen, Miss. Laina</td>\n",
       "      <td>female</td>\n",
       "      <td>26.0</td>\n",
       "      <td>0</td>\n",
       "      <td>0</td>\n",
       "      <td>STON/O2. 3101282</td>\n",
       "      <td>7.9250</td>\n",
       "      <td>NaN</td>\n",
       "      <td>S</td>\n",
       "    </tr>\n",
       "    <tr>\n",
       "      <th>3</th>\n",
       "      <td>4</td>\n",
       "      <td>1</td>\n",
       "      <td>1</td>\n",
       "      <td>Futrelle, Mrs. Jacques Heath (Lily May Peel)</td>\n",
       "      <td>female</td>\n",
       "      <td>35.0</td>\n",
       "      <td>1</td>\n",
       "      <td>0</td>\n",
       "      <td>113803</td>\n",
       "      <td>53.1000</td>\n",
       "      <td>C123</td>\n",
       "      <td>S</td>\n",
       "    </tr>\n",
       "    <tr>\n",
       "      <th>4</th>\n",
       "      <td>5</td>\n",
       "      <td>0</td>\n",
       "      <td>3</td>\n",
       "      <td>Allen, Mr. William Henry</td>\n",
       "      <td>male</td>\n",
       "      <td>35.0</td>\n",
       "      <td>0</td>\n",
       "      <td>0</td>\n",
       "      <td>373450</td>\n",
       "      <td>8.0500</td>\n",
       "      <td>NaN</td>\n",
       "      <td>S</td>\n",
       "    </tr>\n",
       "  </tbody>\n",
       "</table>\n",
       "</div>"
      ],
      "text/plain": [
       "   PassengerId  Survived  Pclass  \\\n",
       "0            1         0       3   \n",
       "1            2         1       1   \n",
       "2            3         1       3   \n",
       "3            4         1       1   \n",
       "4            5         0       3   \n",
       "\n",
       "                                                Name     Sex   Age  SibSp  \\\n",
       "0                            Braund, Mr. Owen Harris    male  22.0      1   \n",
       "1  Cumings, Mrs. John Bradley (Florence Briggs Th...  female  38.0      1   \n",
       "2                             Heikkinen, Miss. Laina  female  26.0      0   \n",
       "3       Futrelle, Mrs. Jacques Heath (Lily May Peel)  female  35.0      1   \n",
       "4                           Allen, Mr. William Henry    male  35.0      0   \n",
       "\n",
       "   Parch            Ticket     Fare Cabin Embarked  \n",
       "0      0         A/5 21171   7.2500   NaN        S  \n",
       "1      0          PC 17599  71.2833   C85        C  \n",
       "2      0  STON/O2. 3101282   7.9250   NaN        S  \n",
       "3      0            113803  53.1000  C123        S  \n",
       "4      0            373450   8.0500   NaN        S  "
      ]
     },
     "execution_count": 3,
     "metadata": {},
     "output_type": "execute_result"
    }
   ],
   "source": [
    "df_titanic.head()"
   ]
  },
  {
   "cell_type": "code",
   "execution_count": 4,
   "metadata": {},
   "outputs": [
    {
     "data": {
      "text/plain": [
       "['PassengerId',\n",
       " 'Pclass',\n",
       " 'Sex',\n",
       " 'Age',\n",
       " 'SibSp',\n",
       " 'Parch',\n",
       " 'Fare',\n",
       " 'Cabin',\n",
       " 'Embarked',\n",
       " 'Name Length',\n",
       " 'Survived']"
      ]
     },
     "execution_count": 4,
     "metadata": {},
     "output_type": "execute_result"
    }
   ],
   "source": [
    "df_titanic = pd.read_csv(\"./../../train.csv\")\n",
    "df_titanic['Name Length'] = df_titanic['Name'].map(lambda name: len(name))\n",
    "y_titanic = df_titanic['Survived'].map(lambda s: 'Survived' if s == 1 else 'Death')\n",
    "del df_titanic['Name']\n",
    "del df_titanic['Ticket']\n",
    "del df_titanic['Survived']\n",
    "df_titanic['Survived'] = y_titanic\n",
    "df_titanic.head()\n",
    "X_titanic_train, X_titanic_test, y_titanic_train, y_titanic_test = train_test_split(df_titanic.iloc[:,:-1], \n",
    "                                                                                    df_titanic.iloc[:,-1], test_size=0.33, \n",
    "                                                                                    random_state=42)\n",
    "col_names = [*df_titanic.columns[:]]\n",
    "col_names"
   ]
  },
  {
   "cell_type": "code",
   "execution_count": 5,
   "metadata": {},
   "outputs": [
    {
     "name": "stdout",
     "output_type": "stream",
     "text": [
      "   age  job  marital  education  default  housing  loan  contact  month  \\\n",
      "0   44    0        0          0        0        0     0        0      0   \n",
      "1   30    2        2          0        1        0     0        0      4   \n",
      "2   39    0        2          4        1        0     0        0      5   \n",
      "3   55    2        0          2        1        1     0        0      0   \n",
      "4   26    5        0          3        1        1     1        1      2   \n",
      "\n",
      "   day_of_week  ...  campaign  pdays  previous  poutcome  emp_var_rate  \\\n",
      "0            0  ...         1    999         0         0           1.4   \n",
      "1            2  ...         8    999         0         0           1.4   \n",
      "2            1  ...         1    999         0         0          -1.8   \n",
      "3            3  ...         3    999         0         0           1.4   \n",
      "4            3  ...         1    999         0         0           1.4   \n",
      "\n",
      "   cons_price_idx  cons_conf_idx  euribor3m  nr_employed  y  \n",
      "0          93.444          -36.1      4.963       5228.1  0  \n",
      "1          93.918          -42.7      4.961       5228.1  0  \n",
      "2          92.893          -46.2      1.313       5099.1  0  \n",
      "3          93.444          -36.1      4.965       5228.1  1  \n",
      "4          94.465          -41.8      4.960       5228.1  0  \n",
      "\n",
      "[5 rows x 21 columns]\n"
     ]
    },
    {
     "data": {
      "text/plain": [
       "['age',\n",
       " 'job',\n",
       " 'marital',\n",
       " 'education',\n",
       " 'default',\n",
       " 'housing',\n",
       " 'loan',\n",
       " 'contact',\n",
       " 'month',\n",
       " 'day_of_week',\n",
       " 'duration',\n",
       " 'campaign',\n",
       " 'pdays',\n",
       " 'previous',\n",
       " 'poutcome',\n",
       " 'emp_var_rate',\n",
       " 'cons_price_idx',\n",
       " 'cons_conf_idx',\n",
       " 'euribor3m',\n",
       " 'nr_employed',\n",
       " 'y']"
      ]
     },
     "execution_count": 5,
     "metadata": {},
     "output_type": "execute_result"
    }
   ],
   "source": [
    "df_titanic = pd.read_csv(\"./../../test.csv\")\n",
    "print(df_titanic.head())\n",
    "X_titanic_train, X_titanic_test, y_titanic_train, y_titanic_test = train_test_split(df_titanic.iloc[:,:-1], \n",
    "                                                                                    df_titanic.iloc[:,-1], test_size=0.33, \n",
    "                                                                                    random_state=42)\n",
    "col_names = [*df_titanic.columns[:]]\n",
    "col_names"
   ]
  },
  {
   "cell_type": "code",
   "execution_count": 6,
   "metadata": {},
   "outputs": [],
   "source": [
    "from hdtree import HDTreeClassifier\n",
    "from information_measure import EntropyMeasure\n",
    "from split_rule import LessThanHalfOfSplit, SingleCategorySplit,FixedValueSplit, TwentyQuantileSplit, LogisticRegressionSingleSplit, AbstractQuantileSplit, TwentyQuantileRangeSplit, TwoQuantileRangeSplit, LogisticRegressionDoubleCategorySplit"
   ]
  },
  {
   "cell_type": "code",
   "execution_count": 7,
   "metadata": {},
   "outputs": [],
   "source": [
    "hdtree_titanic = HDTreeClassifier(\n",
    "                    allowed_splits=[TwoQuantileRangeSplit.build()], \n",
    "                    # allowed_splits=[LogisticRegressionSingleSplit.build(), TwoQuantileRangeSplit.build()], \n",
    "                    # allowed_splits=[FixedValueSplit.build(), SingleCategorySplit.build(), TwentyQuantileRangeSplit.build(), TwentyQuantileSplit.build()],\n",
    "                    information_measure=EntropyMeasure(), \n",
    "                    attribute_names=col_names, \n",
    "                    max_levels=10,\n",
    "                    min_samples_at_leaf=50)"
   ]
  },
  {
   "cell_type": "code",
   "execution_count": 8,
   "metadata": {},
   "outputs": [
    {
     "data": {
      "text/plain": [
       "pandas.core.frame.DataFrame"
      ]
     },
     "execution_count": 8,
     "metadata": {},
     "output_type": "execute_result"
    }
   ],
   "source": [
    "type(X_titanic_train)"
   ]
  },
  {
   "cell_type": "code",
   "execution_count": 9,
   "metadata": {},
   "outputs": [],
   "source": [
    "X_train_final = pd.concat([X_titanic_train, y_titanic_train], axis=1)\n",
    "X_test_final = pd.concat([X_titanic_test, y_titanic_test], axis=1)"
   ]
  },
  {
   "cell_type": "code",
   "execution_count": 10,
   "metadata": {},
   "outputs": [
    {
     "name": "stdout",
     "output_type": "stream",
     "text": [
      "0.8966531813166605\n",
      "0.9037869179199131\n"
     ]
    }
   ],
   "source": [
    "hdtree_titanic.fit(X_train_final.values, y_titanic_train.values)\n",
    "print(hdtree_titanic.score(X_test_final.values, y_titanic_test.values))\n",
    "print(hdtree_titanic.score(X_train_final.values, y_titanic_train.values))"
   ]
  },
  {
   "cell_type": "code",
   "execution_count": null,
   "metadata": {},
   "outputs": [],
   "source": []
  },
  {
   "cell_type": "code",
   "execution_count": 11,
   "metadata": {},
   "outputs": [],
   "source": [
    "preds = hdtree_titanic.predict(X_test_final.values)"
   ]
  },
  {
   "cell_type": "code",
   "execution_count": 12,
   "metadata": {},
   "outputs": [
    {
     "data": {
      "text/plain": [
       "143"
      ]
     },
     "execution_count": 12,
     "metadata": {},
     "output_type": "execute_result"
    }
   ],
   "source": [
    "temp = 0\n",
    "for i in preds: \n",
    "    # if i == 'Death':\n",
    "    #     temp += 1\n",
    "    temp += int(i)\n",
    "temp"
   ]
  },
  {
   "cell_type": "code",
   "execution_count": 13,
   "metadata": {},
   "outputs": [
    {
     "data": {
      "text/plain": [
       "array(['0', '0', '1', ..., '0', '0', '0'], dtype='<U1')"
      ]
     },
     "execution_count": 13,
     "metadata": {},
     "output_type": "execute_result"
    }
   ],
   "source": [
    "preds"
   ]
  },
  {
   "cell_type": "code",
   "execution_count": 14,
   "metadata": {},
   "outputs": [
    {
     "name": "stdout",
     "output_type": "stream",
     "text": [
      "(2719,)\n"
     ]
    },
    {
     "data": {
      "text/plain": [
       "{'0', '1'}"
      ]
     },
     "execution_count": 14,
     "metadata": {},
     "output_type": "execute_result"
    }
   ],
   "source": [
    "print(preds.shape)\n",
    "preds = set(list(preds))\n",
    "preds"
   ]
  },
  {
   "cell_type": "code",
   "execution_count": 15,
   "metadata": {},
   "outputs": [
    {
     "data": {
      "image/svg+xml": "<?xml version=\"1.0\" encoding=\"UTF-8\" standalone=\"no\"?>\n<!DOCTYPE svg PUBLIC \"-//W3C//DTD SVG 1.1//EN\"\n \"http://www.w3.org/Graphics/SVG/1.1/DTD/svg11.dtd\">\n<!-- Generated by graphviz version 5.0.1 (20220820.1526)\n -->\n<!-- Pages: 1 -->\n<svg width=\"867pt\" height=\"810pt\"\n viewBox=\"0.00 0.00 867.00 810.00\" xmlns=\"http://www.w3.org/2000/svg\" xmlns:xlink=\"http://www.w3.org/1999/xlink\">\n<g id=\"graph0\" class=\"graph\" transform=\"scale(1 1) rotate(0) translate(4 806)\">\n<polygon fill=\"white\" stroke=\"none\" points=\"-4,4 -4,-806 863,-806 863,4 -4,4\"/>\n<!-- Head (Level 0) -->\n<g id=\"node1\" class=\"node\">\n<title>Head (Level 0)</title>\n<polygon fill=\"#7fff7f\" stroke=\"black\" stroke-width=\"10\" points=\"370,-802 37,-802 37,-636 370,-636 370,-802\"/>\n<text text-anchor=\"start\" x=\"59\" y=\"-752.8\" font-family=\"monospace\" font-size=\"14.00\">Samples: &#160;&#160;&#160;&#160;&#160;5519</text>\n<text text-anchor=\"start\" x=\"59\" y=\"-737.8\" font-family=\"monospace\" font-size=\"14.00\">Score: &#160;&#160;&#160;&#160;&#160;&#160;&#160;0.51</text>\n<text text-anchor=\"middle\" x=\"203.5\" y=\"-722.8\" font-family=\"monospace\" font-size=\"14.00\">Test: logistic rergression on pdays</text>\n<text text-anchor=\"start\" x=\"59\" y=\"-691.8\" font-family=\"monospace\" font-size=\"14.00\">0: 4922 ✓</text>\n<text text-anchor=\"start\" x=\"59\" y=\"-676.8\" font-family=\"monospace\" font-size=\"14.00\">1: 597</text>\n<text text-anchor=\"middle\" x=\"203.5\" y=\"-661.8\" font-family=\"monospace\" font-size=\"14.00\"> </text>\n</g>\n<!-- Node #1 (Level 1) -->\n<g id=\"node2\" class=\"node\">\n<title>Node #1 (Level 1)</title>\n<polygon fill=\"#f9fff9\" stroke=\"black\" stroke-width=\"0.39\" points=\"246,-577.5 53,-577.5 53,-426.5 246,-426.5 246,-577.5\"/>\n<text text-anchor=\"start\" x=\"75\" y=\"-528.3\" font-family=\"monospace\" font-size=\"14.00\">Samples: &#160;&#160;&#160;&#160;&#160;215</text>\n<text text-anchor=\"middle\" x=\"149.5\" y=\"-513.3\" font-family=\"monospace\" font-size=\"14.00\">Score: &#160;&#160;&#160;&#160;&#160;&#160;&#160;0.03</text>\n<text text-anchor=\"start\" x=\"75\" y=\"-482.3\" font-family=\"monospace\" font-size=\"14.00\">0: 87</text>\n<text text-anchor=\"start\" x=\"75\" y=\"-467.3\" font-family=\"monospace\" font-size=\"14.00\">1: 128 ✓</text>\n<text text-anchor=\"middle\" x=\"149.5\" y=\"-452.3\" font-family=\"monospace\" font-size=\"14.00\"> </text>\n</g>\n<!-- Head (Level 0)&#45;&gt;Node #1 (Level 1) -->\n<g id=\"edge1\" class=\"edge\">\n<title>Head (Level 0)&#45;&gt;Node #1 (Level 1)</title>\n<path fill=\"none\" stroke=\"black\" stroke-width=\"0.27\" d=\"M182.85,-635.8C178.88,-619.99 174.72,-603.41 170.73,-587.54\"/>\n<polygon fill=\"black\" stroke=\"black\" stroke-width=\"0.27\" points=\"174.11,-586.6 168.28,-577.75 167.32,-588.3 174.11,-586.6\"/>\n<text text-anchor=\"middle\" x=\"221.5\" y=\"-606.8\" font-family=\"Times,serif\" font-size=\"14.00\">sigmoid &lt;= 0.5</text>\n</g>\n<!-- Node #2 (Level 1) -->\n<g id=\"node3\" class=\"node\">\n<title>Node #2 (Level 1)</title>\n<polygon fill=\"#6eff6e\" stroke=\"black\" stroke-width=\"9.61\" points=\"622.5,-585 264.5,-585 264.5,-419 622.5,-419 622.5,-585\"/>\n<text text-anchor=\"start\" x=\"286.5\" y=\"-535.8\" font-family=\"monospace\" font-size=\"14.00\">Samples: &#160;&#160;&#160;&#160;&#160;5304</text>\n<text text-anchor=\"start\" x=\"286.5\" y=\"-520.8\" font-family=\"monospace\" font-size=\"14.00\">Score: &#160;&#160;&#160;&#160;&#160;&#160;&#160;0.57</text>\n<text text-anchor=\"middle\" x=\"443.5\" y=\"-505.8\" font-family=\"monospace\" font-size=\"14.00\">Test: logistic rergression on duration</text>\n<text text-anchor=\"start\" x=\"286.5\" y=\"-474.8\" font-family=\"monospace\" font-size=\"14.00\">0: 4835 ✓</text>\n<text text-anchor=\"start\" x=\"286.5\" y=\"-459.8\" font-family=\"monospace\" font-size=\"14.00\">1: 469</text>\n<text text-anchor=\"middle\" x=\"443.5\" y=\"-444.8\" font-family=\"monospace\" font-size=\"14.00\"> </text>\n</g>\n<!-- Head (Level 0)&#45;&gt;Node #2 (Level 1) -->\n<g id=\"edge2\" class=\"edge\">\n<title>Head (Level 0)&#45;&gt;Node #2 (Level 1)</title>\n<path fill=\"none\" stroke=\"black\" stroke-width=\"6.73\" d=\"M295.26,-635.8C311.18,-621.53 327.81,-606.64 343.92,-592.2\"/>\n<polygon fill=\"black\" stroke=\"black\" stroke-width=\"6.73\" points=\"348.27,-596.21 351.79,-585.16 340.41,-587.45 348.27,-596.21\"/>\n<text text-anchor=\"middle\" x=\"370.5\" y=\"-606.8\" font-family=\"Times,serif\" font-size=\"14.00\">sigmoid &gt; 0.5</text>\n</g>\n<!-- Node #3 (Level 2) -->\n<g id=\"node4\" class=\"node\">\n<title>Node #3 (Level 2)</title>\n<polygon fill=\"#fefffe\" stroke=\"black\" stroke-width=\"0.25\" points=\"400.5,-368 50.5,-368 50.5,-202 400.5,-202 400.5,-368\"/>\n<text text-anchor=\"start\" x=\"72.5\" y=\"-318.8\" font-family=\"monospace\" font-size=\"14.00\">Samples: &#160;&#160;&#160;&#160;&#160;140</text>\n<text text-anchor=\"start\" x=\"72.5\" y=\"-303.8\" font-family=\"monospace\" font-size=\"14.00\">Score: &#160;&#160;&#160;&#160;&#160;&#160;&#160;0.01</text>\n<text text-anchor=\"middle\" x=\"225.5\" y=\"-288.8\" font-family=\"monospace\" font-size=\"14.00\">Test: logistic rergression on contact</text>\n<text text-anchor=\"start\" x=\"72.5\" y=\"-257.8\" font-family=\"monospace\" font-size=\"14.00\">0: 63</text>\n<text text-anchor=\"start\" x=\"72.5\" y=\"-242.8\" font-family=\"monospace\" font-size=\"14.00\">1: 77 ✓</text>\n<text text-anchor=\"middle\" x=\"225.5\" y=\"-227.8\" font-family=\"monospace\" font-size=\"14.00\"> </text>\n</g>\n<!-- Node #2 (Level 1)&#45;&gt;Node #3 (Level 2) -->\n<g id=\"edge3\" class=\"edge\">\n<title>Node #2 (Level 1)&#45;&gt;Node #3 (Level 2)</title>\n<path fill=\"none\" stroke=\"black\" stroke-width=\"0.18\" d=\"M360.15,-418.8C345.69,-404.53 330.59,-389.64 315.95,-375.2\"/>\n<polygon fill=\"black\" stroke=\"black\" stroke-width=\"0.18\" points=\"318.38,-372.69 308.8,-368.16 313.47,-377.67 318.38,-372.69\"/>\n<text text-anchor=\"middle\" x=\"384.5\" y=\"-389.8\" font-family=\"Times,serif\" font-size=\"14.00\">sigmoid &lt;= 0.5</text>\n</g>\n<!-- Node #4 (Level 2) -->\n<g id=\"node5\" class=\"node\">\n<title>Node #4 (Level 2)</title>\n<polygon fill=\"#63ff63\" stroke=\"black\" stroke-width=\"9.36\" points=\"776.5,-368 418.5,-368 418.5,-202 776.5,-202 776.5,-368\"/>\n<text text-anchor=\"start\" x=\"440.5\" y=\"-318.8\" font-family=\"monospace\" font-size=\"14.00\">Samples: &#160;&#160;&#160;&#160;&#160;5164</text>\n<text text-anchor=\"start\" x=\"440.5\" y=\"-303.8\" font-family=\"monospace\" font-size=\"14.00\">Score: &#160;&#160;&#160;&#160;&#160;&#160;&#160;0.61</text>\n<text text-anchor=\"middle\" x=\"597.5\" y=\"-288.8\" font-family=\"monospace\" font-size=\"14.00\">Test: logistic rergression on duration</text>\n<text text-anchor=\"start\" x=\"440.5\" y=\"-257.8\" font-family=\"monospace\" font-size=\"14.00\">0: 4772 ✓</text>\n<text text-anchor=\"start\" x=\"440.5\" y=\"-242.8\" font-family=\"monospace\" font-size=\"14.00\">1: 392</text>\n<text text-anchor=\"middle\" x=\"597.5\" y=\"-227.8\" font-family=\"monospace\" font-size=\"14.00\"> </text>\n</g>\n<!-- Node #2 (Level 1)&#45;&gt;Node #4 (Level 2) -->\n<g id=\"edge4\" class=\"edge\">\n<title>Node #2 (Level 1)&#45;&gt;Node #4 (Level 2)</title>\n<path fill=\"none\" stroke=\"black\" stroke-width=\"6.82\" d=\"M502.38,-418.8C512.32,-404.92 522.68,-390.45 532.76,-376.39\"/>\n<polygon fill=\"black\" stroke=\"black\" stroke-width=\"6.82\" points=\"537.68,-379.76 538.65,-368.16 527.98,-372.81 537.68,-379.76\"/>\n<text text-anchor=\"middle\" x=\"564.5\" y=\"-389.8\" font-family=\"Times,serif\" font-size=\"14.00\">sigmoid &gt; 0.5</text>\n</g>\n<!-- Node #5 (Level 3) -->\n<g id=\"node6\" class=\"node\">\n<title>Node #5 (Level 3)</title>\n<polygon fill=\"#efffef\" stroke=\"black\" stroke-width=\"0.15\" points=\"193,-151 0,-151 0,0 193,0 193,-151\"/>\n<text text-anchor=\"start\" x=\"22\" y=\"-101.8\" font-family=\"monospace\" font-size=\"14.00\">Samples: &#160;&#160;&#160;&#160;&#160;83</text>\n<text text-anchor=\"middle\" x=\"96.5\" y=\"-86.8\" font-family=\"monospace\" font-size=\"14.00\">Score: &#160;&#160;&#160;&#160;&#160;&#160;&#160;0.07</text>\n<text text-anchor=\"start\" x=\"22\" y=\"-55.8\" font-family=\"monospace\" font-size=\"14.00\">0: 29</text>\n<text text-anchor=\"start\" x=\"22\" y=\"-40.8\" font-family=\"monospace\" font-size=\"14.00\">1: 54 ✓</text>\n<text text-anchor=\"middle\" x=\"96.5\" y=\"-25.8\" font-family=\"monospace\" font-size=\"14.00\"> </text>\n</g>\n<!-- Node #3 (Level 2)&#45;&gt;Node #5 (Level 3) -->\n<g id=\"edge5\" class=\"edge\">\n<title>Node #3 (Level 2)&#45;&gt;Node #5 (Level 3)</title>\n<path fill=\"none\" stroke=\"black\" stroke-width=\"4.15\" d=\"M174.52,-201.99C165.88,-188.11 156.91,-173.68 148.26,-159.76\"/>\n<polygon fill=\"black\" stroke=\"black\" stroke-width=\"4.15\" points=\"151.29,-157.75 142.92,-151.17 145.12,-161.58 151.29,-157.75\"/>\n<text text-anchor=\"middle\" x=\"204.5\" y=\"-172.8\" font-family=\"Times,serif\" font-size=\"14.00\">sigmoid &lt;= 0.5</text>\n</g>\n<!-- Node #6 (Level 3) -->\n<g id=\"node7\" class=\"node\">\n<title>Node #6 (Level 3)</title>\n<polygon fill=\"#f9fff9\" stroke=\"black\" stroke-width=\"0.1\" points=\"404,-151 211,-151 211,0 404,0 404,-151\"/>\n<text text-anchor=\"start\" x=\"233\" y=\"-101.8\" font-family=\"monospace\" font-size=\"14.00\">Samples: &#160;&#160;&#160;&#160;&#160;57</text>\n<text text-anchor=\"middle\" x=\"307.5\" y=\"-86.8\" font-family=\"monospace\" font-size=\"14.00\">Score: &#160;&#160;&#160;&#160;&#160;&#160;&#160;0.03</text>\n<text text-anchor=\"start\" x=\"233\" y=\"-55.8\" font-family=\"monospace\" font-size=\"14.00\">0: 34 ✓</text>\n<text text-anchor=\"start\" x=\"233\" y=\"-40.8\" font-family=\"monospace\" font-size=\"14.00\">1: 23</text>\n<text text-anchor=\"middle\" x=\"307.5\" y=\"-25.8\" font-family=\"monospace\" font-size=\"14.00\"> </text>\n</g>\n<!-- Node #3 (Level 2)&#45;&gt;Node #6 (Level 3) -->\n<g id=\"edge6\" class=\"edge\">\n<title>Node #3 (Level 2)&#45;&gt;Node #6 (Level 3)</title>\n<path fill=\"none\" stroke=\"black\" stroke-width=\"2.85\" d=\"M257.91,-201.99C263.29,-188.37 268.88,-174.22 274.28,-160.55\"/>\n<polygon fill=\"black\" stroke=\"black\" stroke-width=\"2.85\" points=\"277.57,-161.76 277.99,-151.17 271.06,-159.19 277.57,-161.76\"/>\n<text text-anchor=\"middle\" x=\"308.5\" y=\"-172.8\" font-family=\"Times,serif\" font-size=\"14.00\">sigmoid &gt; 0.5</text>\n</g>\n<!-- Node #7 (Level 3) -->\n<g id=\"node8\" class=\"node\">\n<title>Node #7 (Level 3)</title>\n<polygon fill=\"#fefffe\" stroke=\"black\" stroke-width=\"0.14\" points=\"648,-151 463,-151 463,0 648,0 648,-151\"/>\n<text text-anchor=\"start\" x=\"485\" y=\"-101.8\" font-family=\"monospace\" font-size=\"14.00\">Samples: &#160;&#160;&#160;&#160;&#160;78</text>\n<text text-anchor=\"middle\" x=\"555.5\" y=\"-86.8\" font-family=\"monospace\" font-size=\"14.00\">Score: &#160;&#160;&#160;&#160;&#160;&#160;&#160;0.0</text>\n<text text-anchor=\"start\" x=\"485\" y=\"-55.8\" font-family=\"monospace\" font-size=\"14.00\">0: 42 ✓</text>\n<text text-anchor=\"start\" x=\"485\" y=\"-40.8\" font-family=\"monospace\" font-size=\"14.00\">1: 36</text>\n<text text-anchor=\"middle\" x=\"555.5\" y=\"-25.8\" font-family=\"monospace\" font-size=\"14.00\"> </text>\n</g>\n<!-- Node #4 (Level 2)&#45;&gt;Node #7 (Level 3) -->\n<g id=\"edge7\" class=\"edge\">\n<title>Node #4 (Level 2)&#45;&gt;Node #7 (Level 3)</title>\n<path fill=\"none\" stroke=\"black\" stroke-width=\"0.11\" d=\"M580.9,-201.99C578.2,-188.63 575.39,-174.77 572.67,-161.34\"/>\n<polygon fill=\"black\" stroke=\"black\" stroke-width=\"0.11\" points=\"576.03,-160.28 570.61,-151.17 569.17,-161.67 576.03,-160.28\"/>\n<text text-anchor=\"middle\" x=\"619.5\" y=\"-172.8\" font-family=\"Times,serif\" font-size=\"14.00\">sigmoid &lt;= 0.5</text>\n</g>\n<!-- Node #8 (Level 3) -->\n<g id=\"node9\" class=\"node\">\n<title>Node #8 (Level 3)</title>\n<polygon fill=\"#5eff5e\" stroke=\"black\" stroke-width=\"9.22\" points=\"859,-151 666,-151 666,0 859,0 859,-151\"/>\n<text text-anchor=\"start\" x=\"688\" y=\"-101.8\" font-family=\"monospace\" font-size=\"14.00\">Samples: &#160;&#160;&#160;&#160;&#160;5086</text>\n<text text-anchor=\"middle\" x=\"762.5\" y=\"-86.8\" font-family=\"monospace\" font-size=\"14.00\">Score: &#160;&#160;&#160;&#160;&#160;&#160;&#160;0.63</text>\n<text text-anchor=\"start\" x=\"688\" y=\"-55.8\" font-family=\"monospace\" font-size=\"14.00\">0: 4730 ✓</text>\n<text text-anchor=\"start\" x=\"688\" y=\"-40.8\" font-family=\"monospace\" font-size=\"14.00\">1: 356</text>\n<text text-anchor=\"middle\" x=\"762.5\" y=\"-25.8\" font-family=\"monospace\" font-size=\"14.00\"> </text>\n</g>\n<!-- Node #4 (Level 2)&#45;&gt;Node #8 (Level 3) -->\n<g id=\"edge8\" class=\"edge\">\n<title>Node #4 (Level 2)&#45;&gt;Node #8 (Level 3)</title>\n<path fill=\"none\" stroke=\"black\" stroke-width=\"6.89\" d=\"M662.71,-201.99C673.86,-187.98 685.44,-173.41 696.6,-159.37\"/>\n<polygon fill=\"black\" stroke=\"black\" stroke-width=\"6.89\" points=\"701.62,-162.76 703.12,-151.17 692.18,-155.25 701.62,-162.76\"/>\n<text text-anchor=\"middle\" x=\"723.5\" y=\"-172.8\" font-family=\"Times,serif\" font-size=\"14.00\">sigmoid &gt; 0.5</text>\n</g>\n</g>\n</svg>\n",
      "text/plain": [
       "<graphviz.dot.Digraph at 0x7f9b21d80c10>"
      ]
     },
     "execution_count": 15,
     "metadata": {},
     "output_type": "execute_result"
    }
   ],
   "source": [
    "hdtree_titanic.generate_dot_graph()"
   ]
  },
  {
   "cell_type": "code",
   "execution_count": 16,
   "metadata": {},
   "outputs": [],
   "source": [
    "predictions = set()\n",
    "for i in X_train_final.values:\n",
    "    predictions.add(hdtree_titanic.predict(i.reshape(1, -1))[0])"
   ]
  },
  {
   "cell_type": "code",
   "execution_count": 17,
   "metadata": {},
   "outputs": [
    {
     "data": {
      "text/plain": [
       "{'0', '1'}"
      ]
     },
     "execution_count": 17,
     "metadata": {},
     "output_type": "execute_result"
    }
   ],
   "source": [
    "predictions"
   ]
  },
  {
   "cell_type": "code",
   "execution_count": 18,
   "metadata": {},
   "outputs": [
    {
     "data": {
      "text/plain": [
       "21"
      ]
     },
     "execution_count": 18,
     "metadata": {},
     "output_type": "execute_result"
    }
   ],
   "source": [
    "len(col_names)"
   ]
  },
  {
   "cell_type": "code",
   "execution_count": 23,
   "metadata": {},
   "outputs": [],
   "source": [
    "hdtree_titanic = HDTreeClassifier(\n",
    "                    allowed_splits=[LogisticRegressionDoubleCategorySplit.build()], \n",
    "                    # allowed_splits=[LogisticRegressionSingleSplit.build(), TwoQuantileRangeSplit.build()], \n",
    "                    # allowed_splits=[FixedValueSplit.build(), SingleCategorySplit.build(), TwentyQuantileRangeSplit.build(), TwentyQuantileSplit.build()],\n",
    "                    information_measure=EntropyMeasure(), \n",
    "                    attribute_names=col_names, \n",
    "                    max_levels=5,\n",
    "                    min_samples_at_leaf=10)"
   ]
  },
  {
   "cell_type": "code",
   "execution_count": 24,
   "metadata": {},
   "outputs": [
    {
     "name": "stdout",
     "output_type": "stream",
     "text": [
      "0.8907686649503493\n",
      "0.9008878420003624\n"
     ]
    }
   ],
   "source": [
    "hdtree_titanic.fit(X_train_final.values, y_titanic_train.values)\n",
    "print(hdtree_titanic.score(X_test_final.values, y_titanic_test.values))\n",
    "print(hdtree_titanic.score(X_train_final.values, y_titanic_train.values))"
   ]
  },
  {
   "cell_type": "code",
   "execution_count": 27,
   "metadata": {},
   "outputs": [
    {
     "data": {
      "text/plain": [
       "151"
      ]
     },
     "execution_count": 27,
     "metadata": {},
     "output_type": "execute_result"
    }
   ],
   "source": [
    "preds = hdtree_titanic.predict(X_test_final.values)\n",
    "temp = 0\n",
    "for i in preds: \n",
    "    # if i == 'Death':\n",
    "    #     temp += 1\n",
    "    temp += int(i)\n",
    "temp"
   ]
  },
  {
   "cell_type": "code",
   "execution_count": 26,
   "metadata": {},
   "outputs": [
    {
     "data": {
      "image/svg+xml": "<?xml version=\"1.0\" encoding=\"UTF-8\" standalone=\"no\"?>\n<!DOCTYPE svg PUBLIC \"-//W3C//DTD SVG 1.1//EN\"\n \"http://www.w3.org/Graphics/SVG/1.1/DTD/svg11.dtd\">\n<!-- Generated by graphviz version 5.0.1 (20220820.1526)\n -->\n<!-- Pages: 1 -->\n<svg width=\"1369pt\" height=\"1244pt\"\n viewBox=\"0.00 0.00 1369.00 1244.00\" xmlns=\"http://www.w3.org/2000/svg\" xmlns:xlink=\"http://www.w3.org/1999/xlink\">\n<g id=\"graph0\" class=\"graph\" transform=\"scale(1 1) rotate(0) translate(4 1240)\">\n<polygon fill=\"white\" stroke=\"none\" points=\"-4,4 -4,-1240 1365,-1240 1365,4 -4,4\"/>\n<!-- Head (Level 0) -->\n<g id=\"node1\" class=\"node\">\n<title>Head (Level 0)</title>\n<polygon fill=\"#7fff7f\" stroke=\"black\" stroke-width=\"10\" points=\"752.5,-1236 542.5,-1236 542.5,-1070 752.5,-1070 752.5,-1236\"/>\n<text text-anchor=\"start\" x=\"564.5\" y=\"-1186.8\" font-family=\"monospace\" font-size=\"14.00\">Samples: &#160;&#160;&#160;&#160;&#160;5519</text>\n<text text-anchor=\"start\" x=\"564.5\" y=\"-1171.8\" font-family=\"monospace\" font-size=\"14.00\">Score: &#160;&#160;&#160;&#160;&#160;&#160;&#160;0.51</text>\n<text text-anchor=\"middle\" x=\"647.5\" y=\"-1156.8\" font-family=\"monospace\" font-size=\"14.00\">Test: age &lt; duration</text>\n<text text-anchor=\"start\" x=\"564.5\" y=\"-1125.8\" font-family=\"monospace\" font-size=\"14.00\">0: 4922 ✓</text>\n<text text-anchor=\"start\" x=\"564.5\" y=\"-1110.8\" font-family=\"monospace\" font-size=\"14.00\">1: 597</text>\n<text text-anchor=\"middle\" x=\"647.5\" y=\"-1095.8\" font-family=\"monospace\" font-size=\"14.00\"> </text>\n</g>\n<!-- Node #1 (Level 1) -->\n<g id=\"node2\" class=\"node\">\n<title>Node #1 (Level 1)</title>\n<polygon fill=\"#fdfffd\" stroke=\"black\" stroke-width=\"0.28\" points=\"635,-1019 442,-1019 442,-853 635,-853 635,-1019\"/>\n<text text-anchor=\"start\" x=\"464\" y=\"-969.8\" font-family=\"monospace\" font-size=\"14.00\">Samples: &#160;&#160;&#160;&#160;&#160;155</text>\n<text text-anchor=\"start\" x=\"464\" y=\"-954.8\" font-family=\"monospace\" font-size=\"14.00\">Score: &#160;&#160;&#160;&#160;&#160;&#160;&#160;0.01</text>\n<text text-anchor=\"middle\" x=\"538.5\" y=\"-939.8\" font-family=\"monospace\" font-size=\"14.00\">Test: age &lt; job</text>\n<text text-anchor=\"start\" x=\"464\" y=\"-908.8\" font-family=\"monospace\" font-size=\"14.00\">0: 68</text>\n<text text-anchor=\"start\" x=\"464\" y=\"-893.8\" font-family=\"monospace\" font-size=\"14.00\">1: 87 ✓</text>\n<text text-anchor=\"middle\" x=\"538.5\" y=\"-878.8\" font-family=\"monospace\" font-size=\"14.00\"> </text>\n</g>\n<!-- Head (Level 0)&#45;&gt;Node #1 (Level 1) -->\n<g id=\"edge1\" class=\"edge\">\n<title>Head (Level 0)&#45;&gt;Node #1 (Level 1)</title>\n<path fill=\"none\" stroke=\"black\" stroke-width=\"0.2\" d=\"M605.83,-1069.8C598.92,-1056.18 591.73,-1042 584.72,-1028.18\"/>\n<polygon fill=\"black\" stroke=\"black\" stroke-width=\"0.2\" points=\"587.8,-1026.49 580.15,-1019.16 581.55,-1029.66 587.8,-1026.49\"/>\n<text text-anchor=\"middle\" x=\"636.5\" y=\"-1040.8\" font-family=\"Times,serif\" font-size=\"14.00\">age &lt; duration</text>\n</g>\n<!-- Node #2 (Level 1) -->\n<g id=\"node3\" class=\"node\">\n<title>Node #2 (Level 1)</title>\n<polygon fill=\"#74ff74\" stroke=\"black\" stroke-width=\"9.72\" points=\"863.5,-1019 653.5,-1019 653.5,-853 863.5,-853 863.5,-1019\"/>\n<text text-anchor=\"start\" x=\"675.5\" y=\"-969.8\" font-family=\"monospace\" font-size=\"14.00\">Samples: &#160;&#160;&#160;&#160;&#160;5364</text>\n<text text-anchor=\"start\" x=\"675.5\" y=\"-954.8\" font-family=\"monospace\" font-size=\"14.00\">Score: &#160;&#160;&#160;&#160;&#160;&#160;&#160;0.55</text>\n<text text-anchor=\"middle\" x=\"758.5\" y=\"-939.8\" font-family=\"monospace\" font-size=\"14.00\">Test: age &lt; duration</text>\n<text text-anchor=\"start\" x=\"675.5\" y=\"-908.8\" font-family=\"monospace\" font-size=\"14.00\">0: 4854 ✓</text>\n<text text-anchor=\"start\" x=\"675.5\" y=\"-893.8\" font-family=\"monospace\" font-size=\"14.00\">1: 510</text>\n<text text-anchor=\"middle\" x=\"758.5\" y=\"-878.8\" font-family=\"monospace\" font-size=\"14.00\"> </text>\n</g>\n<!-- Head (Level 0)&#45;&gt;Node #2 (Level 1) -->\n<g id=\"edge2\" class=\"edge\">\n<title>Head (Level 0)&#45;&gt;Node #2 (Level 1)</title>\n<path fill=\"none\" stroke=\"black\" stroke-width=\"6.8\" d=\"M689.94,-1069.8C696.97,-1056.18 704.29,-1042 711.43,-1028.18\"/>\n<polygon fill=\"black\" stroke=\"black\" stroke-width=\"6.8\" points=\"716.79,-1030.77 716.08,-1019.16 706.21,-1025.31 716.79,-1030.77\"/>\n<text text-anchor=\"middle\" x=\"746\" y=\"-1040.8\" font-family=\"Times,serif\" font-size=\"14.00\">age ≥ duration</text>\n</g>\n<!-- Node #3 (Level 2) -->\n<g id=\"node4\" class=\"node\">\n<title>Node #3 (Level 2)</title>\n<polygon fill=\"#fbfffb\" stroke=\"black\" stroke-width=\"0.24\" points=\"435,-802 242,-802 242,-636 435,-636 435,-802\"/>\n<text text-anchor=\"start\" x=\"264\" y=\"-752.8\" font-family=\"monospace\" font-size=\"14.00\">Samples: &#160;&#160;&#160;&#160;&#160;134</text>\n<text text-anchor=\"start\" x=\"264\" y=\"-737.8\" font-family=\"monospace\" font-size=\"14.00\">Score: &#160;&#160;&#160;&#160;&#160;&#160;&#160;0.02</text>\n<text text-anchor=\"middle\" x=\"338.5\" y=\"-722.8\" font-family=\"monospace\" font-size=\"14.00\">Test: age &lt; job</text>\n<text text-anchor=\"start\" x=\"264\" y=\"-691.8\" font-family=\"monospace\" font-size=\"14.00\">0: 57</text>\n<text text-anchor=\"start\" x=\"264\" y=\"-676.8\" font-family=\"monospace\" font-size=\"14.00\">1: 77 ✓</text>\n<text text-anchor=\"middle\" x=\"338.5\" y=\"-661.8\" font-family=\"monospace\" font-size=\"14.00\"> </text>\n</g>\n<!-- Node #1 (Level 1)&#45;&gt;Node #3 (Level 2) -->\n<g id=\"edge3\" class=\"edge\">\n<title>Node #1 (Level 1)&#45;&gt;Node #3 (Level 2)</title>\n<path fill=\"none\" stroke=\"black\" stroke-width=\"6.05\" d=\"M462.03,-852.8C448.89,-838.66 435.16,-823.91 421.85,-809.6\"/>\n<polygon fill=\"black\" stroke=\"black\" stroke-width=\"6.05\" points=\"425.61,-805.87 414.93,-802.16 417.86,-813.09 425.61,-805.87\"/>\n<text text-anchor=\"middle\" x=\"470.5\" y=\"-823.8\" font-family=\"Times,serif\" font-size=\"14.00\">age &lt; job</text>\n</g>\n<!-- Node #4 (Level 2) -->\n<g id=\"node5\" class=\"node\">\n<title>Node #4 (Level 2)</title>\n<polygon fill=\"#ffffff\" stroke=\"black\" stroke-width=\"0.04\" points=\"638,-794.5 453,-794.5 453,-643.5 638,-643.5 638,-794.5\"/>\n<text text-anchor=\"start\" x=\"475\" y=\"-745.3\" font-family=\"monospace\" font-size=\"14.00\">Samples: &#160;&#160;&#160;&#160;&#160;21</text>\n<text text-anchor=\"middle\" x=\"545.5\" y=\"-730.3\" font-family=\"monospace\" font-size=\"14.00\">Score: &#160;&#160;&#160;&#160;&#160;&#160;&#160;0.0</text>\n<text text-anchor=\"start\" x=\"475\" y=\"-699.3\" font-family=\"monospace\" font-size=\"14.00\">0: 11 ✓</text>\n<text text-anchor=\"start\" x=\"475\" y=\"-684.3\" font-family=\"monospace\" font-size=\"14.00\">1: 10</text>\n<text text-anchor=\"middle\" x=\"545.5\" y=\"-669.3\" font-family=\"monospace\" font-size=\"14.00\"> </text>\n</g>\n<!-- Node #1 (Level 1)&#45;&gt;Node #4 (Level 2) -->\n<g id=\"edge4\" class=\"edge\">\n<title>Node #1 (Level 1)&#45;&gt;Node #4 (Level 2)</title>\n<path fill=\"none\" stroke=\"black\" stroke-width=\"0.95\" d=\"M541.18,-852.8C541.69,-837.14 542.22,-820.73 542.73,-804.98\"/>\n<polygon fill=\"black\" stroke=\"black\" stroke-width=\"0.95\" points=\"546.24,-804.86 543.07,-794.75 539.24,-804.63 546.24,-804.86\"/>\n<text text-anchor=\"middle\" x=\"568.5\" y=\"-823.8\" font-family=\"Times,serif\" font-size=\"14.00\">age ≥ job</text>\n</g>\n<!-- Node #5 (Level 2) -->\n<g id=\"node6\" class=\"node\">\n<title>Node #5 (Level 2)</title>\n<polygon fill=\"#fafffa\" stroke=\"black\" stroke-width=\"0.19\" points=\"849,-794.5 656,-794.5 656,-643.5 849,-643.5 849,-794.5\"/>\n<text text-anchor=\"start\" x=\"678\" y=\"-745.3\" font-family=\"monospace\" font-size=\"14.00\">Samples: &#160;&#160;&#160;&#160;&#160;103</text>\n<text text-anchor=\"middle\" x=\"752.5\" y=\"-730.3\" font-family=\"monospace\" font-size=\"14.00\">Score: &#160;&#160;&#160;&#160;&#160;&#160;&#160;0.02</text>\n<text text-anchor=\"start\" x=\"678\" y=\"-699.3\" font-family=\"monospace\" font-size=\"14.00\">0: 60 ✓</text>\n<text text-anchor=\"start\" x=\"678\" y=\"-684.3\" font-family=\"monospace\" font-size=\"14.00\">1: 43</text>\n<text text-anchor=\"middle\" x=\"752.5\" y=\"-669.3\" font-family=\"monospace\" font-size=\"14.00\"> </text>\n</g>\n<!-- Node #2 (Level 1)&#45;&gt;Node #5 (Level 2) -->\n<g id=\"edge5\" class=\"edge\">\n<title>Node #2 (Level 1)&#45;&gt;Node #5 (Level 2)</title>\n<path fill=\"none\" stroke=\"black\" stroke-width=\"0.13\" d=\"M756.21,-852.8C755.77,-837.14 755.31,-820.73 754.87,-804.98\"/>\n<polygon fill=\"black\" stroke=\"black\" stroke-width=\"0.13\" points=\"758.36,-804.65 754.59,-794.75 751.37,-804.85 758.36,-804.65\"/>\n<text text-anchor=\"middle\" x=\"796.5\" y=\"-823.8\" font-family=\"Times,serif\" font-size=\"14.00\">age &lt; duration</text>\n</g>\n<!-- Node #6 (Level 2) -->\n<g id=\"node7\" class=\"node\">\n<title>Node #6 (Level 2)</title>\n<polygon fill=\"#6fff6f\" stroke=\"black\" stroke-width=\"9.53\" points=\"1077.5,-802 867.5,-802 867.5,-636 1077.5,-636 1077.5,-802\"/>\n<text text-anchor=\"start\" x=\"889.5\" y=\"-752.8\" font-family=\"monospace\" font-size=\"14.00\">Samples: &#160;&#160;&#160;&#160;&#160;5261</text>\n<text text-anchor=\"start\" x=\"889.5\" y=\"-737.8\" font-family=\"monospace\" font-size=\"14.00\">Score: &#160;&#160;&#160;&#160;&#160;&#160;&#160;0.57</text>\n<text text-anchor=\"middle\" x=\"972.5\" y=\"-722.8\" font-family=\"monospace\" font-size=\"14.00\">Test: age &lt; duration</text>\n<text text-anchor=\"start\" x=\"889.5\" y=\"-691.8\" font-family=\"monospace\" font-size=\"14.00\">0: 4794 ✓</text>\n<text text-anchor=\"start\" x=\"889.5\" y=\"-676.8\" font-family=\"monospace\" font-size=\"14.00\">1: 467</text>\n<text text-anchor=\"middle\" x=\"972.5\" y=\"-661.8\" font-family=\"monospace\" font-size=\"14.00\"> </text>\n</g>\n<!-- Node #2 (Level 1)&#45;&gt;Node #6 (Level 2) -->\n<g id=\"edge6\" class=\"edge\">\n<title>Node #2 (Level 1)&#45;&gt;Node #6 (Level 2)</title>\n<path fill=\"none\" stroke=\"black\" stroke-width=\"6.87\" d=\"M840.32,-852.8C854.39,-838.66 869.07,-823.91 883.32,-809.6\"/>\n<polygon fill=\"black\" stroke=\"black\" stroke-width=\"6.87\" points=\"887.93,-813.48 890.73,-802.16 879.41,-805.01 887.93,-813.48\"/>\n<text text-anchor=\"middle\" x=\"912\" y=\"-823.8\" font-family=\"Times,serif\" font-size=\"14.00\">age ≥ duration</text>\n</g>\n<!-- Node #7 (Level 3) -->\n<g id=\"node8\" class=\"node\">\n<title>Node #7 (Level 3)</title>\n<polygon fill=\"#fafffa\" stroke=\"black\" stroke-width=\"0.2\" points=\"435,-585 242,-585 242,-419 435,-419 435,-585\"/>\n<text text-anchor=\"start\" x=\"264\" y=\"-535.8\" font-family=\"monospace\" font-size=\"14.00\">Samples: &#160;&#160;&#160;&#160;&#160;113</text>\n<text text-anchor=\"start\" x=\"264\" y=\"-520.8\" font-family=\"monospace\" font-size=\"14.00\">Score: &#160;&#160;&#160;&#160;&#160;&#160;&#160;0.02</text>\n<text text-anchor=\"middle\" x=\"338.5\" y=\"-505.8\" font-family=\"monospace\" font-size=\"14.00\">Test: age &lt; job</text>\n<text text-anchor=\"start\" x=\"264\" y=\"-474.8\" font-family=\"monospace\" font-size=\"14.00\">0: 47</text>\n<text text-anchor=\"start\" x=\"264\" y=\"-459.8\" font-family=\"monospace\" font-size=\"14.00\">1: 66 ✓</text>\n<text text-anchor=\"middle\" x=\"338.5\" y=\"-444.8\" font-family=\"monospace\" font-size=\"14.00\"> </text>\n</g>\n<!-- Node #3 (Level 2)&#45;&gt;Node #7 (Level 3) -->\n<g id=\"edge7\" class=\"edge\">\n<title>Node #3 (Level 2)&#45;&gt;Node #7 (Level 3)</title>\n<path fill=\"none\" stroke=\"black\" stroke-width=\"5.9\" d=\"M338.5,-635.8C338.5,-622.57 338.5,-608.81 338.5,-595.36\"/>\n<polygon fill=\"black\" stroke=\"black\" stroke-width=\"5.9\" points=\"343.67,-595.16 338.5,-585.16 333.33,-595.16 343.67,-595.16\"/>\n<text text-anchor=\"middle\" x=\"364.5\" y=\"-606.8\" font-family=\"Times,serif\" font-size=\"14.00\">age &lt; job</text>\n</g>\n<!-- Node #8 (Level 3) -->\n<g id=\"node9\" class=\"node\">\n<title>Node #8 (Level 3)</title>\n<polygon fill=\"#ffffff\" stroke=\"black\" stroke-width=\"0.04\" points=\"638,-577.5 453,-577.5 453,-426.5 638,-426.5 638,-577.5\"/>\n<text text-anchor=\"start\" x=\"475\" y=\"-528.3\" font-family=\"monospace\" font-size=\"14.00\">Samples: &#160;&#160;&#160;&#160;&#160;21</text>\n<text text-anchor=\"middle\" x=\"545.5\" y=\"-513.3\" font-family=\"monospace\" font-size=\"14.00\">Score: &#160;&#160;&#160;&#160;&#160;&#160;&#160;0.0</text>\n<text text-anchor=\"start\" x=\"475\" y=\"-482.3\" font-family=\"monospace\" font-size=\"14.00\">0: 10</text>\n<text text-anchor=\"start\" x=\"475\" y=\"-467.3\" font-family=\"monospace\" font-size=\"14.00\">1: 11 ✓</text>\n<text text-anchor=\"middle\" x=\"545.5\" y=\"-452.3\" font-family=\"monospace\" font-size=\"14.00\"> </text>\n</g>\n<!-- Node #3 (Level 2)&#45;&gt;Node #8 (Level 3) -->\n<g id=\"edge8\" class=\"edge\">\n<title>Node #3 (Level 2)&#45;&gt;Node #8 (Level 3)</title>\n<path fill=\"none\" stroke=\"black\" stroke-width=\"1.1\" d=\"M417.64,-635.8C433.58,-619.25 450.33,-601.85 466.27,-585.29\"/>\n<polygon fill=\"black\" stroke=\"black\" stroke-width=\"1.1\" points=\"469.11,-587.38 473.53,-577.75 464.07,-582.53 469.11,-587.38\"/>\n<text text-anchor=\"middle\" x=\"474.5\" y=\"-606.8\" font-family=\"Times,serif\" font-size=\"14.00\">age ≥ job</text>\n</g>\n<!-- Node #9 (Level 3) -->\n<g id=\"node10\" class=\"node\">\n<title>Node #9 (Level 3)</title>\n<polygon fill=\"#e5ffe5\" stroke=\"black\" stroke-width=\"0.08\" points=\"907,-577.5 714,-577.5 714,-426.5 907,-426.5 907,-577.5\"/>\n<text text-anchor=\"start\" x=\"736\" y=\"-528.3\" font-family=\"monospace\" font-size=\"14.00\">Samples: &#160;&#160;&#160;&#160;&#160;45</text>\n<text text-anchor=\"middle\" x=\"810.5\" y=\"-513.3\" font-family=\"monospace\" font-size=\"14.00\">Score: &#160;&#160;&#160;&#160;&#160;&#160;&#160;0.11</text>\n<text text-anchor=\"start\" x=\"736\" y=\"-482.3\" font-family=\"monospace\" font-size=\"14.00\">0: 31 ✓</text>\n<text text-anchor=\"start\" x=\"736\" y=\"-467.3\" font-family=\"monospace\" font-size=\"14.00\">1: 14</text>\n<text text-anchor=\"middle\" x=\"810.5\" y=\"-452.3\" font-family=\"monospace\" font-size=\"14.00\"> </text>\n</g>\n<!-- Node #6 (Level 2)&#45;&gt;Node #9 (Level 3) -->\n<g id=\"edge9\" class=\"edge\">\n<title>Node #6 (Level 2)&#45;&gt;Node #9 (Level 3)</title>\n<path fill=\"none\" stroke=\"black\" stroke-width=\"0.06\" d=\"M910.56,-635.8C898.2,-619.4 885.22,-602.16 872.84,-585.74\"/>\n<polygon fill=\"black\" stroke=\"black\" stroke-width=\"0.06\" points=\"875.64,-583.63 866.83,-577.75 870.05,-587.85 875.64,-583.63\"/>\n<text text-anchor=\"middle\" x=\"936.5\" y=\"-606.8\" font-family=\"Times,serif\" font-size=\"14.00\">age &lt; duration</text>\n</g>\n<!-- Node #10 (Level 3) -->\n<g id=\"node11\" class=\"node\">\n<title>Node #10 (Level 3)</title>\n<polygon fill=\"#6dff6d\" stroke=\"black\" stroke-width=\"9.45\" points=\"1135.5,-585 925.5,-585 925.5,-419 1135.5,-419 1135.5,-585\"/>\n<text text-anchor=\"start\" x=\"947.5\" y=\"-535.8\" font-family=\"monospace\" font-size=\"14.00\">Samples: &#160;&#160;&#160;&#160;&#160;5216</text>\n<text text-anchor=\"start\" x=\"947.5\" y=\"-520.8\" font-family=\"monospace\" font-size=\"14.00\">Score: &#160;&#160;&#160;&#160;&#160;&#160;&#160;0.57</text>\n<text text-anchor=\"middle\" x=\"1030.5\" y=\"-505.8\" font-family=\"monospace\" font-size=\"14.00\">Test: age &lt; duration</text>\n<text text-anchor=\"start\" x=\"947.5\" y=\"-474.8\" font-family=\"monospace\" font-size=\"14.00\">0: 4763 ✓</text>\n<text text-anchor=\"start\" x=\"947.5\" y=\"-459.8\" font-family=\"monospace\" font-size=\"14.00\">1: 453</text>\n<text text-anchor=\"middle\" x=\"1030.5\" y=\"-444.8\" font-family=\"monospace\" font-size=\"14.00\"> </text>\n</g>\n<!-- Node #6 (Level 2)&#45;&gt;Node #10 (Level 3) -->\n<g id=\"edge10\" class=\"edge\">\n<title>Node #6 (Level 2)&#45;&gt;Node #10 (Level 3)</title>\n<path fill=\"none\" stroke=\"black\" stroke-width=\"6.94\" d=\"M994.68,-635.8C998.28,-622.44 1002.03,-608.54 1005.69,-594.97\"/>\n<polygon fill=\"black\" stroke=\"black\" stroke-width=\"6.94\" points=\"1011.6,-596.39 1008.34,-585.16 999.87,-593.23 1011.6,-596.39\"/>\n<text text-anchor=\"middle\" x=\"1043\" y=\"-606.8\" font-family=\"Times,serif\" font-size=\"14.00\">age ≥ duration</text>\n</g>\n<!-- Node #11 (Level 4) -->\n<g id=\"node12\" class=\"node\">\n<title>Node #11 (Level 4)</title>\n<polygon fill=\"#fbfffb\" stroke=\"black\" stroke-width=\"0.18\" points=\"296,-368 103,-368 103,-202 296,-202 296,-368\"/>\n<text text-anchor=\"start\" x=\"125\" y=\"-318.8\" font-family=\"monospace\" font-size=\"14.00\">Samples: &#160;&#160;&#160;&#160;&#160;101</text>\n<text text-anchor=\"start\" x=\"125\" y=\"-303.8\" font-family=\"monospace\" font-size=\"14.00\">Score: &#160;&#160;&#160;&#160;&#160;&#160;&#160;0.02</text>\n<text text-anchor=\"middle\" x=\"199.5\" y=\"-288.8\" font-family=\"monospace\" font-size=\"14.00\">Test: age &lt; job</text>\n<text text-anchor=\"start\" x=\"125\" y=\"-257.8\" font-family=\"monospace\" font-size=\"14.00\">0: 43</text>\n<text text-anchor=\"start\" x=\"125\" y=\"-242.8\" font-family=\"monospace\" font-size=\"14.00\">1: 58 ✓</text>\n<text text-anchor=\"middle\" x=\"199.5\" y=\"-227.8\" font-family=\"monospace\" font-size=\"14.00\"> </text>\n</g>\n<!-- Node #7 (Level 3)&#45;&gt;Node #11 (Level 4) -->\n<g id=\"edge11\" class=\"edge\">\n<title>Node #7 (Level 3)&#45;&gt;Node #11 (Level 4)</title>\n<path fill=\"none\" stroke=\"black\" stroke-width=\"6.26\" d=\"M285.36,-418.8C276.47,-405.05 267.21,-390.72 258.19,-376.78\"/>\n<polygon fill=\"black\" stroke=\"black\" stroke-width=\"6.26\" points=\"262.64,-373.58 252.62,-368.16 253.45,-379.53 262.64,-373.58\"/>\n<text text-anchor=\"middle\" x=\"299.5\" y=\"-389.8\" font-family=\"Times,serif\" font-size=\"14.00\">age &lt; job</text>\n</g>\n<!-- Node #12 (Level 4) -->\n<g id=\"node13\" class=\"node\">\n<title>Node #12 (Level 4)</title>\n<polygon fill=\"#ebffeb\" stroke=\"black\" stroke-width=\"0.02\" points=\"507,-360.5 314,-360.5 314,-209.5 507,-209.5 507,-360.5\"/>\n<text text-anchor=\"start\" x=\"336\" y=\"-311.3\" font-family=\"monospace\" font-size=\"14.00\">Samples: &#160;&#160;&#160;&#160;&#160;12</text>\n<text text-anchor=\"middle\" x=\"410.5\" y=\"-296.3\" font-family=\"monospace\" font-size=\"14.00\">Score: &#160;&#160;&#160;&#160;&#160;&#160;&#160;0.08</text>\n<text text-anchor=\"start\" x=\"336\" y=\"-265.3\" font-family=\"monospace\" font-size=\"14.00\">0: 4</text>\n<text text-anchor=\"start\" x=\"336\" y=\"-250.3\" font-family=\"monospace\" font-size=\"14.00\">1: 8 ✓</text>\n<text text-anchor=\"middle\" x=\"410.5\" y=\"-235.3\" font-family=\"monospace\" font-size=\"14.00\"> </text>\n</g>\n<!-- Node #7 (Level 3)&#45;&gt;Node #12 (Level 4) -->\n<g id=\"edge12\" class=\"edge\">\n<title>Node #7 (Level 3)&#45;&gt;Node #12 (Level 4)</title>\n<path fill=\"none\" stroke=\"black\" stroke-width=\"0.74\" d=\"M366.03,-418.8C371.32,-402.99 376.87,-386.41 382.19,-370.54\"/>\n<polygon fill=\"black\" stroke=\"black\" stroke-width=\"0.74\" points=\"385.61,-371.35 385.47,-360.75 378.97,-369.12 385.61,-371.35\"/>\n<text text-anchor=\"middle\" x=\"403.5\" y=\"-389.8\" font-family=\"Times,serif\" font-size=\"14.00\">age ≥ job</text>\n</g>\n<!-- Node #13 (Level 4) -->\n<g id=\"node14\" class=\"node\">\n<title>Node #13 (Level 4)</title>\n<polygon fill=\"#ffffff\" stroke=\"black\" stroke-width=\"0.06\" points=\"1045,-360.5 860,-360.5 860,-209.5 1045,-209.5 1045,-360.5\"/>\n<text text-anchor=\"start\" x=\"882\" y=\"-311.3\" font-family=\"monospace\" font-size=\"14.00\">Samples: &#160;&#160;&#160;&#160;&#160;32</text>\n<text text-anchor=\"middle\" x=\"952.5\" y=\"-296.3\" font-family=\"monospace\" font-size=\"14.00\">Score: &#160;&#160;&#160;&#160;&#160;&#160;&#160;0.0</text>\n<text text-anchor=\"start\" x=\"882\" y=\"-265.3\" font-family=\"monospace\" font-size=\"14.00\">0: 15</text>\n<text text-anchor=\"start\" x=\"882\" y=\"-250.3\" font-family=\"monospace\" font-size=\"14.00\">1: 17 ✓</text>\n<text text-anchor=\"middle\" x=\"952.5\" y=\"-235.3\" font-family=\"monospace\" font-size=\"14.00\"> </text>\n</g>\n<!-- Node #10 (Level 3)&#45;&gt;Node #13 (Level 4) -->\n<g id=\"edge13\" class=\"edge\">\n<title>Node #10 (Level 3)&#45;&gt;Node #13 (Level 4)</title>\n<path fill=\"none\" stroke=\"black\" stroke-width=\"0.04\" d=\"M1000.68,-418.8C994.94,-402.99 988.93,-386.41 983.17,-370.54\"/>\n<polygon fill=\"black\" stroke=\"black\" stroke-width=\"0.04\" points=\"986.32,-368.96 979.62,-360.75 979.74,-371.35 986.32,-368.96\"/>\n<text text-anchor=\"middle\" x=\"1034.5\" y=\"-389.8\" font-family=\"Times,serif\" font-size=\"14.00\">age &lt; duration</text>\n</g>\n<!-- Node #14 (Level 4) -->\n<g id=\"node15\" class=\"node\">\n<title>Node #14 (Level 4)</title>\n<polygon fill=\"#6bff6b\" stroke=\"black\" stroke-width=\"9.39\" points=\"1256,-368 1063,-368 1063,-202 1256,-202 1256,-368\"/>\n<text text-anchor=\"start\" x=\"1085\" y=\"-318.8\" font-family=\"monospace\" font-size=\"14.00\">Samples: &#160;&#160;&#160;&#160;&#160;5184</text>\n<text text-anchor=\"start\" x=\"1085\" y=\"-303.8\" font-family=\"monospace\" font-size=\"14.00\">Score: &#160;&#160;&#160;&#160;&#160;&#160;&#160;0.58</text>\n<text text-anchor=\"middle\" x=\"1159.5\" y=\"-288.8\" font-family=\"monospace\" font-size=\"14.00\">Test: age &lt; pdays</text>\n<text text-anchor=\"start\" x=\"1085\" y=\"-257.8\" font-family=\"monospace\" font-size=\"14.00\">0: 4748 ✓</text>\n<text text-anchor=\"start\" x=\"1085\" y=\"-242.8\" font-family=\"monospace\" font-size=\"14.00\">1: 436</text>\n<text text-anchor=\"middle\" x=\"1159.5\" y=\"-227.8\" font-family=\"monospace\" font-size=\"14.00\"> </text>\n</g>\n<!-- Node #10 (Level 3)&#45;&gt;Node #14 (Level 4) -->\n<g id=\"edge14\" class=\"edge\">\n<title>Node #10 (Level 3)&#45;&gt;Node #14 (Level 4)</title>\n<path fill=\"none\" stroke=\"black\" stroke-width=\"6.96\" d=\"M1079.82,-418.8C1088.07,-405.05 1096.67,-390.72 1105.03,-376.78\"/>\n<polygon fill=\"black\" stroke=\"black\" stroke-width=\"6.96\" points=\"1110.28,-379.86 1110.21,-368.16 1099.84,-373.6 1110.28,-379.86\"/>\n<text text-anchor=\"middle\" x=\"1139\" y=\"-389.8\" font-family=\"Times,serif\" font-size=\"14.00\">age ≥ duration</text>\n</g>\n<!-- Node #15 (Level 5) -->\n<g id=\"node16\" class=\"node\">\n<title>Node #15 (Level 5)</title>\n<polygon fill=\"#f8fff8\" stroke=\"black\" stroke-width=\"0.14\" points=\"193,-151 0,-151 0,0 193,0 193,-151\"/>\n<text text-anchor=\"start\" x=\"22\" y=\"-101.8\" font-family=\"monospace\" font-size=\"14.00\">Samples: &#160;&#160;&#160;&#160;&#160;77</text>\n<text text-anchor=\"middle\" x=\"96.5\" y=\"-86.8\" font-family=\"monospace\" font-size=\"14.00\">Score: &#160;&#160;&#160;&#160;&#160;&#160;&#160;0.03</text>\n<text text-anchor=\"start\" x=\"22\" y=\"-55.8\" font-family=\"monospace\" font-size=\"14.00\">0: 31</text>\n<text text-anchor=\"start\" x=\"22\" y=\"-40.8\" font-family=\"monospace\" font-size=\"14.00\">1: 46 ✓</text>\n<text text-anchor=\"middle\" x=\"96.5\" y=\"-25.8\" font-family=\"monospace\" font-size=\"14.00\"> </text>\n</g>\n<!-- Node #11 (Level 4)&#45;&gt;Node #15 (Level 5) -->\n<g id=\"edge15\" class=\"edge\">\n<title>Node #11 (Level 4)&#45;&gt;Node #15 (Level 5)</title>\n<path fill=\"none\" stroke=\"black\" stroke-width=\"5.34\" d=\"M158.79,-201.99C151.96,-188.24 144.87,-173.95 138.03,-160.16\"/>\n<polygon fill=\"black\" stroke=\"black\" stroke-width=\"5.34\" points=\"142.2,-158.06 133.57,-151.17 133.83,-162.21 142.2,-158.06\"/>\n<text text-anchor=\"middle\" x=\"174.5\" y=\"-172.8\" font-family=\"Times,serif\" font-size=\"14.00\">age &lt; job</text>\n</g>\n<!-- Node #16 (Level 5) -->\n<g id=\"node17\" class=\"node\">\n<title>Node #16 (Level 5)</title>\n<polygon fill=\"#ffffff\" stroke=\"black\" stroke-width=\"0.04\" points=\"396,-151 211,-151 211,0 396,0 396,-151\"/>\n<text text-anchor=\"start\" x=\"233\" y=\"-101.8\" font-family=\"monospace\" font-size=\"14.00\">Samples: &#160;&#160;&#160;&#160;&#160;24</text>\n<text text-anchor=\"middle\" x=\"303.5\" y=\"-86.8\" font-family=\"monospace\" font-size=\"14.00\">Score: &#160;&#160;&#160;&#160;&#160;&#160;&#160;0.0</text>\n<text text-anchor=\"start\" x=\"233\" y=\"-55.8\" font-family=\"monospace\" font-size=\"14.00\">0: 12 ✓</text>\n<text text-anchor=\"start\" x=\"233\" y=\"-40.8\" font-family=\"monospace\" font-size=\"14.00\">1: 12</text>\n<text text-anchor=\"middle\" x=\"303.5\" y=\"-25.8\" font-family=\"monospace\" font-size=\"14.00\"> </text>\n</g>\n<!-- Node #11 (Level 4)&#45;&gt;Node #16 (Level 5) -->\n<g id=\"edge16\" class=\"edge\">\n<title>Node #11 (Level 4)&#45;&gt;Node #16 (Level 5)</title>\n<path fill=\"none\" stroke=\"black\" stroke-width=\"1.66\" d=\"M240.6,-201.99C247.5,-188.24 254.66,-173.95 261.57,-160.16\"/>\n<polygon fill=\"black\" stroke=\"black\" stroke-width=\"1.66\" points=\"264.72,-161.68 266.07,-151.17 258.46,-158.55 264.72,-161.68\"/>\n<text text-anchor=\"middle\" x=\"281.5\" y=\"-172.8\" font-family=\"Times,serif\" font-size=\"14.00\">age ≥ job</text>\n</g>\n<!-- Node #17 (Level 5) -->\n<g id=\"node18\" class=\"node\">\n<title>Node #17 (Level 5)</title>\n<polygon fill=\"#fcfffc\" stroke=\"black\" stroke-width=\"0.36\" points=\"1150,-151 957,-151 957,0 1150,0 1150,-151\"/>\n<text text-anchor=\"start\" x=\"979\" y=\"-101.8\" font-family=\"monospace\" font-size=\"14.00\">Samples: &#160;&#160;&#160;&#160;&#160;196</text>\n<text text-anchor=\"middle\" x=\"1053.5\" y=\"-86.8\" font-family=\"monospace\" font-size=\"14.00\">Score: &#160;&#160;&#160;&#160;&#160;&#160;&#160;0.01</text>\n<text text-anchor=\"start\" x=\"979\" y=\"-55.8\" font-family=\"monospace\" font-size=\"14.00\">0: 84</text>\n<text text-anchor=\"start\" x=\"979\" y=\"-40.8\" font-family=\"monospace\" font-size=\"14.00\">1: 112 ✓</text>\n<text text-anchor=\"middle\" x=\"1053.5\" y=\"-25.8\" font-family=\"monospace\" font-size=\"14.00\"> </text>\n</g>\n<!-- Node #14 (Level 4)&#45;&gt;Node #17 (Level 5) -->\n<g id=\"edge17\" class=\"edge\">\n<title>Node #14 (Level 4)&#45;&gt;Node #17 (Level 5)</title>\n<path fill=\"none\" stroke=\"black\" stroke-width=\"0.26\" d=\"M1117.61,-201.99C1110.58,-188.24 1103.28,-173.95 1096.24,-160.16\"/>\n<polygon fill=\"black\" stroke=\"black\" stroke-width=\"0.26\" points=\"1099.31,-158.49 1091.65,-151.17 1093.08,-161.67 1099.31,-158.49\"/>\n<text text-anchor=\"middle\" x=\"1140\" y=\"-172.8\" font-family=\"Times,serif\" font-size=\"14.00\">age &lt; pdays</text>\n</g>\n<!-- Node #18 (Level 5) -->\n<g id=\"node19\" class=\"node\">\n<title>Node #18 (Level 5)</title>\n<polygon fill=\"#59ff59\" stroke=\"black\" stroke-width=\"9.04\" points=\"1361,-151 1168,-151 1168,0 1361,0 1361,-151\"/>\n<text text-anchor=\"start\" x=\"1190\" y=\"-101.8\" font-family=\"monospace\" font-size=\"14.00\">Samples: &#160;&#160;&#160;&#160;&#160;4988</text>\n<text text-anchor=\"middle\" x=\"1264.5\" y=\"-86.8\" font-family=\"monospace\" font-size=\"14.00\">Score: &#160;&#160;&#160;&#160;&#160;&#160;&#160;0.65</text>\n<text text-anchor=\"start\" x=\"1190\" y=\"-55.8\" font-family=\"monospace\" font-size=\"14.00\">0: 4664 ✓</text>\n<text text-anchor=\"start\" x=\"1190\" y=\"-40.8\" font-family=\"monospace\" font-size=\"14.00\">1: 324</text>\n<text text-anchor=\"middle\" x=\"1264.5\" y=\"-25.8\" font-family=\"monospace\" font-size=\"14.00\"> </text>\n</g>\n<!-- Node #14 (Level 4)&#45;&gt;Node #18 (Level 5) -->\n<g id=\"edge18\" class=\"edge\">\n<title>Node #14 (Level 4)&#45;&gt;Node #18 (Level 5)</title>\n<path fill=\"none\" stroke=\"black\" stroke-width=\"6.74\" d=\"M1201,-201.99C1207.96,-188.24 1215.19,-173.95 1222.17,-160.16\"/>\n<polygon fill=\"black\" stroke=\"black\" stroke-width=\"6.74\" points=\"1227.46,-162.76 1226.71,-151.17 1216.94,-157.44 1227.46,-162.76\"/>\n<text text-anchor=\"middle\" x=\"1247.5\" y=\"-172.8\" font-family=\"Times,serif\" font-size=\"14.00\">age ≥ pdays</text>\n</g>\n</g>\n</svg>\n",
      "text/plain": [
       "<graphviz.dot.Digraph at 0x7f9b21f9ac40>"
      ]
     },
     "execution_count": 26,
     "metadata": {},
     "output_type": "execute_result"
    }
   ],
   "source": [
    "hdtree_titanic.generate_dot_graph()"
   ]
  },
  {
   "cell_type": "code",
   "execution_count": 83,
   "metadata": {},
   "outputs": [
    {
     "data": {
      "image/svg+xml": "<?xml version=\"1.0\" encoding=\"UTF-8\" standalone=\"no\"?>\n<!DOCTYPE svg PUBLIC \"-//W3C//DTD SVG 1.1//EN\"\n \"http://www.w3.org/Graphics/SVG/1.1/DTD/svg11.dtd\">\n<!-- Generated by graphviz version 5.0.1 (20220820.1526)\n -->\n<!-- Pages: 1 -->\n<svg width=\"509pt\" height=\"593pt\"\n viewBox=\"0.00 0.00 509.00 593.00\" xmlns=\"http://www.w3.org/2000/svg\" xmlns:xlink=\"http://www.w3.org/1999/xlink\">\n<g id=\"graph0\" class=\"graph\" transform=\"scale(1 1) rotate(0) translate(4 589)\">\n<polygon fill=\"white\" stroke=\"none\" points=\"-4,4 -4,-589 505,-589 505,4 -4,4\"/>\n<!-- Head (Level 0) -->\n<g id=\"node1\" class=\"node\">\n<title>Head (Level 0)</title>\n<polygon fill=\"#7fff7f\" stroke=\"black\" stroke-width=\"10\" points=\"461.5,-585 251.5,-585 251.5,-419 461.5,-419 461.5,-585\"/>\n<text text-anchor=\"start\" x=\"273.5\" y=\"-535.8\" font-family=\"monospace\" font-size=\"14.00\">Samples: &#160;&#160;&#160;&#160;&#160;5519</text>\n<text text-anchor=\"start\" x=\"273.5\" y=\"-520.8\" font-family=\"monospace\" font-size=\"14.00\">Score: &#160;&#160;&#160;&#160;&#160;&#160;&#160;0.51</text>\n<text text-anchor=\"middle\" x=\"356.5\" y=\"-505.8\" font-family=\"monospace\" font-size=\"14.00\">Test: age &lt; duration</text>\n<text text-anchor=\"start\" x=\"273.5\" y=\"-474.8\" font-family=\"monospace\" font-size=\"14.00\">0: 4922 ✓</text>\n<text text-anchor=\"start\" x=\"273.5\" y=\"-459.8\" font-family=\"monospace\" font-size=\"14.00\">1: 597</text>\n<text text-anchor=\"middle\" x=\"356.5\" y=\"-444.8\" font-family=\"monospace\" font-size=\"14.00\"> </text>\n</g>\n<!-- Node #1 (Level 1) -->\n<g id=\"node2\" class=\"node\">\n<title>Node #1 (Level 1)</title>\n<polygon fill=\"#84ff84\" stroke=\"black\" stroke-width=\"9.41\" points=\"298,-368 105,-368 105,-202 298,-202 298,-368\"/>\n<text text-anchor=\"start\" x=\"127\" y=\"-318.8\" font-family=\"monospace\" font-size=\"14.00\">Samples: &#160;&#160;&#160;&#160;&#160;5191</text>\n<text text-anchor=\"start\" x=\"127\" y=\"-303.8\" font-family=\"monospace\" font-size=\"14.00\">Score: &#160;&#160;&#160;&#160;&#160;&#160;&#160;0.49</text>\n<text text-anchor=\"middle\" x=\"201.5\" y=\"-288.8\" font-family=\"monospace\" font-size=\"14.00\">Test: age &lt; pdays</text>\n<text text-anchor=\"start\" x=\"127\" y=\"-257.8\" font-family=\"monospace\" font-size=\"14.00\">0: 4594 ✓</text>\n<text text-anchor=\"start\" x=\"127\" y=\"-242.8\" font-family=\"monospace\" font-size=\"14.00\">1: 597</text>\n<text text-anchor=\"middle\" x=\"201.5\" y=\"-227.8\" font-family=\"monospace\" font-size=\"14.00\"> </text>\n</g>\n<!-- Head (Level 0)&#45;&gt;Node #1 (Level 1) -->\n<g id=\"edge1\" class=\"edge\">\n<title>Head (Level 0)&#45;&gt;Node #1 (Level 1)</title>\n<path fill=\"none\" stroke=\"black\" stroke-width=\"6.58\" d=\"M297.24,-418.8C287.24,-404.92 276.8,-390.45 266.66,-376.39\"/>\n<polygon fill=\"black\" stroke=\"black\" stroke-width=\"6.58\" points=\"271.25,-372.9 260.73,-368.16 261.9,-379.64 271.25,-372.9\"/>\n<text text-anchor=\"middle\" x=\"324.5\" y=\"-389.8\" font-family=\"Times,serif\" font-size=\"14.00\">age &lt; duration</text>\n</g>\n<!-- Node #2 (Level 1) -->\n<g id=\"node3\" class=\"node\">\n<title>Node #2 (Level 1)</title>\n<polygon fill=\"#00ff00\" stroke=\"black\" stroke-width=\"0.59\" points=\"501,-353 316,-353 316,-217 501,-217 501,-353\"/>\n<text text-anchor=\"start\" x=\"338\" y=\"-303.8\" font-family=\"monospace\" font-size=\"14.00\">Samples: &#160;&#160;&#160;&#160;&#160;328</text>\n<text text-anchor=\"middle\" x=\"408.5\" y=\"-288.8\" font-family=\"monospace\" font-size=\"14.00\">Score: &#160;&#160;&#160;&#160;&#160;&#160;&#160;1</text>\n<text text-anchor=\"start\" x=\"338\" y=\"-257.8\" font-family=\"monospace\" font-size=\"14.00\">0: 328 ✓</text>\n<text text-anchor=\"middle\" x=\"408.5\" y=\"-242.8\" font-family=\"monospace\" font-size=\"14.00\"> </text>\n</g>\n<!-- Head (Level 0)&#45;&gt;Node #2 (Level 1) -->\n<g id=\"edge2\" class=\"edge\">\n<title>Head (Level 0)&#45;&gt;Node #2 (Level 1)</title>\n<path fill=\"none\" stroke=\"black\" stroke-width=\"0.42\" d=\"M376.38,-418.8C380.81,-400.49 385.49,-381.15 389.86,-363.06\"/>\n<polygon fill=\"black\" stroke=\"black\" stroke-width=\"0.42\" points=\"393.31,-363.7 392.26,-353.16 386.5,-362.05 393.31,-363.7\"/>\n<text text-anchor=\"middle\" x=\"423\" y=\"-389.8\" font-family=\"Times,serif\" font-size=\"14.00\">age ≥ duration</text>\n</g>\n<!-- Node #3 (Level 2) -->\n<g id=\"node4\" class=\"node\">\n<title>Node #3 (Level 2)</title>\n<polygon fill=\"#73ff73\" stroke=\"black\" stroke-width=\"9.02\" points=\"193,-151 0,-151 0,0 193,0 193,-151\"/>\n<text text-anchor=\"start\" x=\"22\" y=\"-101.8\" font-family=\"monospace\" font-size=\"14.00\">Samples: &#160;&#160;&#160;&#160;&#160;4979</text>\n<text text-anchor=\"middle\" x=\"96.5\" y=\"-86.8\" font-family=\"monospace\" font-size=\"14.00\">Score: &#160;&#160;&#160;&#160;&#160;&#160;&#160;0.55</text>\n<text text-anchor=\"start\" x=\"22\" y=\"-55.8\" font-family=\"monospace\" font-size=\"14.00\">0: 4510 ✓</text>\n<text text-anchor=\"start\" x=\"22\" y=\"-40.8\" font-family=\"monospace\" font-size=\"14.00\">1: 469</text>\n<text text-anchor=\"middle\" x=\"96.5\" y=\"-25.8\" font-family=\"monospace\" font-size=\"14.00\"> </text>\n</g>\n<!-- Node #1 (Level 1)&#45;&gt;Node #3 (Level 2) -->\n<g id=\"edge3\" class=\"edge\">\n<title>Node #1 (Level 1)&#45;&gt;Node #3 (Level 2)</title>\n<path fill=\"none\" stroke=\"black\" stroke-width=\"6.71\" d=\"M160,-201.99C153.04,-188.24 145.81,-173.95 138.83,-160.16\"/>\n<polygon fill=\"black\" stroke=\"black\" stroke-width=\"6.71\" points=\"144.04,-157.44 134.29,-151.17 133.56,-162.75 144.04,-157.44\"/>\n<text text-anchor=\"middle\" x=\"183\" y=\"-172.8\" font-family=\"Times,serif\" font-size=\"14.00\">age &lt; pdays</text>\n</g>\n<!-- Node #4 (Level 2) -->\n<g id=\"node5\" class=\"node\">\n<title>Node #4 (Level 2)</title>\n<polygon fill=\"#f8fff8\" stroke=\"black\" stroke-width=\"0.38\" points=\"404,-151 211,-151 211,0 404,0 404,-151\"/>\n<text text-anchor=\"start\" x=\"233\" y=\"-101.8\" font-family=\"monospace\" font-size=\"14.00\">Samples: &#160;&#160;&#160;&#160;&#160;212</text>\n<text text-anchor=\"middle\" x=\"307.5\" y=\"-86.8\" font-family=\"monospace\" font-size=\"14.00\">Score: &#160;&#160;&#160;&#160;&#160;&#160;&#160;0.03</text>\n<text text-anchor=\"start\" x=\"233\" y=\"-55.8\" font-family=\"monospace\" font-size=\"14.00\">0: 84</text>\n<text text-anchor=\"start\" x=\"233\" y=\"-40.8\" font-family=\"monospace\" font-size=\"14.00\">1: 128 ✓</text>\n<text text-anchor=\"middle\" x=\"307.5\" y=\"-25.8\" font-family=\"monospace\" font-size=\"14.00\"> </text>\n</g>\n<!-- Node #1 (Level 1)&#45;&gt;Node #4 (Level 2) -->\n<g id=\"edge4\" class=\"edge\">\n<title>Node #1 (Level 1)&#45;&gt;Node #4 (Level 2)</title>\n<path fill=\"none\" stroke=\"black\" stroke-width=\"0.29\" d=\"M243.39,-201.99C250.42,-188.24 257.72,-173.95 264.76,-160.16\"/>\n<polygon fill=\"black\" stroke=\"black\" stroke-width=\"0.29\" points=\"267.92,-161.67 269.35,-151.17 261.69,-158.49 267.92,-161.67\"/>\n<text text-anchor=\"middle\" x=\"291.5\" y=\"-172.8\" font-family=\"Times,serif\" font-size=\"14.00\">age ≥ pdays</text>\n</g>\n</g>\n</svg>\n",
      "text/plain": [
       "<graphviz.dot.Digraph at 0x7f923f4fcbb0>"
      ]
     },
     "execution_count": 83,
     "metadata": {},
     "output_type": "execute_result"
    }
   ],
   "source": [
    "hdtree_titanic.generate_dot_graph()"
   ]
  },
  {
   "cell_type": "code",
   "execution_count": null,
   "metadata": {},
   "outputs": [],
   "source": []
  }
 ],
 "metadata": {
  "kernelspec": {
   "display_name": "Python 3.9.1 64-bit",
   "language": "python",
   "name": "python3"
  },
  "language_info": {
   "codemirror_mode": {
    "name": "ipython",
    "version": 3
   },
   "file_extension": ".py",
   "mimetype": "text/x-python",
   "name": "python",
   "nbconvert_exporter": "python",
   "pygments_lexer": "ipython3",
   "version": "3.9.1"
  },
  "orig_nbformat": 4,
  "vscode": {
   "interpreter": {
    "hash": "aee8b7b246df8f9039afb4144a1f6fd8d2ca17a180786b69acc140d282b71a49"
   }
  }
 },
 "nbformat": 4,
 "nbformat_minor": 2
}
