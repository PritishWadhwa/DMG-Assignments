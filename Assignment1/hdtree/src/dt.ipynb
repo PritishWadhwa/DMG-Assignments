{
 "cells": [
  {
   "cell_type": "code",
   "execution_count": 631,
   "metadata": {},
   "outputs": [],
   "source": [
    "import pandas as pd\n",
    "import numpy as np\n",
    "from matplotlib import pyplot as plt\n",
    "from hdtree import HDTreeClassifier\n",
    "from information_measure import EntropyMeasure\n",
    "from split_rule import LessThanHalfOfSplit, SingleCategorySplit,FixedValueSplit, TwentyQuantileSplit, LogisticRegressionSingleSplit, AbstractQuantileSplit, TwentyQuantileRangeSplit, TwoQuantileRangeSplit, LogisticRegressionDoubleCategorySplit\n",
    "from sklearn.model_selection import train_test_split\n",
    "from sklearn.metrics import classification_report, accuracy_score, recall_score, precision_score, f1_score, roc_curve, roc_auc_score, plot_roc_curve, auc"
   ]
  },
  {
   "cell_type": "code",
   "execution_count": 206,
   "metadata": {},
   "outputs": [],
   "source": [
    "def runMetrics(trueVal,preds):\n",
    "  if len(set(trueVal))<=2:\n",
    "    print('Accuracy = ', accuracy_score(trueVal,preds))\n",
    "    print('Macro Precision = ', precision_score(trueVal,preds,average='macro'))\n",
    "    print('Micro Precision = ', precision_score(trueVal,preds,average='micro'))\n",
    "    print('Weighted Precision = ', precision_score(trueVal,preds,average='weighted'))\n",
    "    print('Macro Recall = ', recall_score(trueVal,preds,average='macro'))\n",
    "    print('Micro Recall = ', recall_score(trueVal,preds,average='micro'))\n",
    "    print('Weighted Recall = ', recall_score(trueVal,preds,average='weighted'))\n",
    "    print('Macro F1 = ', f1_score(trueVal,preds,average='macro'))\n",
    "    print('Micro F1 = ', f1_score(trueVal,preds,average='micro'))\n",
    "    print('Weighted F1 = ', f1_score(trueVal,preds,average='weighted'))\n",
    "    print('\\nClassification Report\\n', classification_report(trueVal,preds))\n",
    "  else:\n",
    "    print('Accuracy = ', accuracy_score(trueVal,preds))\n",
    "    print('Macro Precision = ', precision_score(trueVal,preds,average='macro'))\n",
    "    print('Micro Precision = ', precision_score(trueVal,preds,average='micro'))\n",
    "    print('Weighted Precision = ', precision_score(trueVal,preds,average='weighted'))\n",
    "    print('Macro Recall = ', recall_score(trueVal,preds,average='macro'))\n",
    "    print('Micro Recall = ', recall_score(trueVal,preds,average='micro'))\n",
    "    print('Weighted Recall = ', recall_score(trueVal,preds,average='weighted'))\n",
    "    print('Macro F1 = ', f1_score(trueVal,preds,average='macro'))\n",
    "    print('Micro F1 = ', f1_score(trueVal,preds,average='micro'))\n",
    "    print('Weighted F1 = ', f1_score(trueVal,preds,average='weighted'))\n",
    "    print('\\nClassification Report\\n', classification_report(trueVal,preds))"
   ]
  },
  {
   "cell_type": "code",
   "execution_count": 336,
   "metadata": {},
   "outputs": [],
   "source": [
    "def getAucRocMetrics(trueVal, probabs, pos_label):\n",
    "    fpr, tpr, thresholds = roc_curve(trueVal, probabs, pos_label=pos_label)\n",
    "    plt.plot(fpr, tpr, color='darkorange', lw=2, label='ROC curve (area = %0.2f)' % roc_auc_score(trueVal, probabs))\n",
    "    plt.legend(loc=\"lower right\")\n",
    "    plt.xlabel('False Positive Rate')\n",
    "    plt.ylabel('True Positive Rate')\n",
    "    plt.title('ROC Curve')\n",
    "    plt.show()\n",
    "    auc = roc_auc_score(trueVal, probabs)\n",
    "    print('AUC = ', auc)"
   ]
  },
  {
   "cell_type": "markdown",
   "metadata": {},
   "source": [
    "# Dataset 1"
   ]
  },
  {
   "cell_type": "markdown",
   "metadata": {},
   "source": [
    "## Mean "
   ]
  },
  {
   "cell_type": "code",
   "execution_count": 521,
   "metadata": {},
   "outputs": [],
   "source": [
    "train_data = pd.read_csv('../../data/train1mean.csv')\n",
    "test_data = pd.read_csv('../../data/test1mean.csv')"
   ]
  },
  {
   "cell_type": "code",
   "execution_count": 522,
   "metadata": {},
   "outputs": [
    {
     "data": {
      "text/html": [
       "<div>\n",
       "<style scoped>\n",
       "    .dataframe tbody tr th:only-of-type {\n",
       "        vertical-align: middle;\n",
       "    }\n",
       "\n",
       "    .dataframe tbody tr th {\n",
       "        vertical-align: top;\n",
       "    }\n",
       "\n",
       "    .dataframe thead th {\n",
       "        text-align: right;\n",
       "    }\n",
       "</style>\n",
       "<table border=\"1\" class=\"dataframe\">\n",
       "  <thead>\n",
       "    <tr style=\"text-align: right;\">\n",
       "      <th></th>\n",
       "      <th>Unnamed: 0</th>\n",
       "      <th>Age</th>\n",
       "      <th>Number of sexual partners</th>\n",
       "      <th>First sexual intercourse</th>\n",
       "      <th>Num of pregnancies</th>\n",
       "      <th>Smokes</th>\n",
       "      <th>Smokes (years)</th>\n",
       "      <th>Smokes (packs/year)</th>\n",
       "      <th>Hormonal Contraceptives</th>\n",
       "      <th>Hormonal Contraceptives (years)</th>\n",
       "      <th>...</th>\n",
       "      <th>STDs:Hepatitis B</th>\n",
       "      <th>STDs:HPV</th>\n",
       "      <th>STDs: Number of diagnosis</th>\n",
       "      <th>Dx:Cancer</th>\n",
       "      <th>Dx:CIN</th>\n",
       "      <th>Dx</th>\n",
       "      <th>Hinselmann</th>\n",
       "      <th>Schiller</th>\n",
       "      <th>Citology</th>\n",
       "      <th>Biopsy</th>\n",
       "    </tr>\n",
       "  </thead>\n",
       "  <tbody>\n",
       "    <tr>\n",
       "      <th>0</th>\n",
       "      <td>0</td>\n",
       "      <td>0.384615</td>\n",
       "      <td>0.000000</td>\n",
       "      <td>0.409091</td>\n",
       "      <td>0.250</td>\n",
       "      <td>0.0</td>\n",
       "      <td>0.000000</td>\n",
       "      <td>0.000000</td>\n",
       "      <td>0.637437</td>\n",
       "      <td>0.073030</td>\n",
       "      <td>...</td>\n",
       "      <td>0.001669</td>\n",
       "      <td>0.003339</td>\n",
       "      <td>0.0</td>\n",
       "      <td>0.0</td>\n",
       "      <td>0.0</td>\n",
       "      <td>0.0</td>\n",
       "      <td>0.0</td>\n",
       "      <td>0.0</td>\n",
       "      <td>0.0</td>\n",
       "      <td>0.0</td>\n",
       "    </tr>\n",
       "    <tr>\n",
       "      <th>1</th>\n",
       "      <td>1</td>\n",
       "      <td>0.153846</td>\n",
       "      <td>0.142857</td>\n",
       "      <td>0.227273</td>\n",
       "      <td>0.125</td>\n",
       "      <td>0.0</td>\n",
       "      <td>0.000000</td>\n",
       "      <td>0.000000</td>\n",
       "      <td>0.000000</td>\n",
       "      <td>0.000000</td>\n",
       "      <td>...</td>\n",
       "      <td>0.000000</td>\n",
       "      <td>0.000000</td>\n",
       "      <td>0.0</td>\n",
       "      <td>0.0</td>\n",
       "      <td>0.0</td>\n",
       "      <td>0.0</td>\n",
       "      <td>0.0</td>\n",
       "      <td>0.0</td>\n",
       "      <td>0.0</td>\n",
       "      <td>0.0</td>\n",
       "    </tr>\n",
       "    <tr>\n",
       "      <th>2</th>\n",
       "      <td>2</td>\n",
       "      <td>0.307692</td>\n",
       "      <td>0.000000</td>\n",
       "      <td>0.636364</td>\n",
       "      <td>0.125</td>\n",
       "      <td>0.0</td>\n",
       "      <td>0.000000</td>\n",
       "      <td>0.000000</td>\n",
       "      <td>1.000000</td>\n",
       "      <td>0.002667</td>\n",
       "      <td>...</td>\n",
       "      <td>0.000000</td>\n",
       "      <td>0.000000</td>\n",
       "      <td>0.0</td>\n",
       "      <td>0.0</td>\n",
       "      <td>0.0</td>\n",
       "      <td>0.0</td>\n",
       "      <td>0.0</td>\n",
       "      <td>0.0</td>\n",
       "      <td>0.0</td>\n",
       "      <td>0.0</td>\n",
       "    </tr>\n",
       "    <tr>\n",
       "      <th>3</th>\n",
       "      <td>3</td>\n",
       "      <td>0.230769</td>\n",
       "      <td>0.071429</td>\n",
       "      <td>0.227273</td>\n",
       "      <td>0.250</td>\n",
       "      <td>1.0</td>\n",
       "      <td>0.135135</td>\n",
       "      <td>0.033784</td>\n",
       "      <td>1.000000</td>\n",
       "      <td>0.200000</td>\n",
       "      <td>...</td>\n",
       "      <td>0.000000</td>\n",
       "      <td>0.000000</td>\n",
       "      <td>0.0</td>\n",
       "      <td>0.0</td>\n",
       "      <td>0.0</td>\n",
       "      <td>0.0</td>\n",
       "      <td>0.0</td>\n",
       "      <td>1.0</td>\n",
       "      <td>0.0</td>\n",
       "      <td>1.0</td>\n",
       "    </tr>\n",
       "    <tr>\n",
       "      <th>4</th>\n",
       "      <td>4</td>\n",
       "      <td>0.435897</td>\n",
       "      <td>0.000000</td>\n",
       "      <td>0.500000</td>\n",
       "      <td>0.250</td>\n",
       "      <td>0.0</td>\n",
       "      <td>0.000000</td>\n",
       "      <td>0.000000</td>\n",
       "      <td>0.000000</td>\n",
       "      <td>0.000000</td>\n",
       "      <td>...</td>\n",
       "      <td>0.000000</td>\n",
       "      <td>0.000000</td>\n",
       "      <td>0.0</td>\n",
       "      <td>0.0</td>\n",
       "      <td>0.0</td>\n",
       "      <td>0.0</td>\n",
       "      <td>0.0</td>\n",
       "      <td>0.0</td>\n",
       "      <td>1.0</td>\n",
       "      <td>0.0</td>\n",
       "    </tr>\n",
       "  </tbody>\n",
       "</table>\n",
       "<p>5 rows × 29 columns</p>\n",
       "</div>"
      ],
      "text/plain": [
       "   Unnamed: 0       Age  Number of sexual partners  First sexual intercourse  \\\n",
       "0           0  0.384615                   0.000000                  0.409091   \n",
       "1           1  0.153846                   0.142857                  0.227273   \n",
       "2           2  0.307692                   0.000000                  0.636364   \n",
       "3           3  0.230769                   0.071429                  0.227273   \n",
       "4           4  0.435897                   0.000000                  0.500000   \n",
       "\n",
       "   Num of pregnancies  Smokes  Smokes (years)  Smokes (packs/year)  \\\n",
       "0               0.250     0.0        0.000000             0.000000   \n",
       "1               0.125     0.0        0.000000             0.000000   \n",
       "2               0.125     0.0        0.000000             0.000000   \n",
       "3               0.250     1.0        0.135135             0.033784   \n",
       "4               0.250     0.0        0.000000             0.000000   \n",
       "\n",
       "   Hormonal Contraceptives  Hormonal Contraceptives (years)  ...  \\\n",
       "0                 0.637437                         0.073030  ...   \n",
       "1                 0.000000                         0.000000  ...   \n",
       "2                 1.000000                         0.002667  ...   \n",
       "3                 1.000000                         0.200000  ...   \n",
       "4                 0.000000                         0.000000  ...   \n",
       "\n",
       "   STDs:Hepatitis B  STDs:HPV  STDs: Number of diagnosis  Dx:Cancer  Dx:CIN  \\\n",
       "0          0.001669  0.003339                        0.0        0.0     0.0   \n",
       "1          0.000000  0.000000                        0.0        0.0     0.0   \n",
       "2          0.000000  0.000000                        0.0        0.0     0.0   \n",
       "3          0.000000  0.000000                        0.0        0.0     0.0   \n",
       "4          0.000000  0.000000                        0.0        0.0     0.0   \n",
       "\n",
       "    Dx  Hinselmann  Schiller  Citology  Biopsy  \n",
       "0  0.0         0.0       0.0       0.0     0.0  \n",
       "1  0.0         0.0       0.0       0.0     0.0  \n",
       "2  0.0         0.0       0.0       0.0     0.0  \n",
       "3  0.0         0.0       1.0       0.0     1.0  \n",
       "4  0.0         0.0       0.0       1.0     0.0  \n",
       "\n",
       "[5 rows x 29 columns]"
      ]
     },
     "execution_count": 522,
     "metadata": {},
     "output_type": "execute_result"
    }
   ],
   "source": [
    "train_data.head()"
   ]
  },
  {
   "cell_type": "code",
   "execution_count": 523,
   "metadata": {},
   "outputs": [],
   "source": [
    "train_data.drop(['Unnamed: 0'], axis=1, inplace=True)\n",
    "test_data.drop(['Unnamed: 0'], axis=1, inplace=True)"
   ]
  },
  {
   "cell_type": "code",
   "execution_count": 524,
   "metadata": {},
   "outputs": [
    {
     "data": {
      "text/html": [
       "<div>\n",
       "<style scoped>\n",
       "    .dataframe tbody tr th:only-of-type {\n",
       "        vertical-align: middle;\n",
       "    }\n",
       "\n",
       "    .dataframe tbody tr th {\n",
       "        vertical-align: top;\n",
       "    }\n",
       "\n",
       "    .dataframe thead th {\n",
       "        text-align: right;\n",
       "    }\n",
       "</style>\n",
       "<table border=\"1\" class=\"dataframe\">\n",
       "  <thead>\n",
       "    <tr style=\"text-align: right;\">\n",
       "      <th></th>\n",
       "      <th>Age</th>\n",
       "      <th>Number of sexual partners</th>\n",
       "      <th>First sexual intercourse</th>\n",
       "      <th>Num of pregnancies</th>\n",
       "      <th>Smokes</th>\n",
       "      <th>Smokes (years)</th>\n",
       "      <th>Smokes (packs/year)</th>\n",
       "      <th>Hormonal Contraceptives</th>\n",
       "      <th>Hormonal Contraceptives (years)</th>\n",
       "      <th>IUD</th>\n",
       "      <th>...</th>\n",
       "      <th>STDs:Hepatitis B</th>\n",
       "      <th>STDs:HPV</th>\n",
       "      <th>STDs: Number of diagnosis</th>\n",
       "      <th>Dx:Cancer</th>\n",
       "      <th>Dx:CIN</th>\n",
       "      <th>Dx</th>\n",
       "      <th>Hinselmann</th>\n",
       "      <th>Schiller</th>\n",
       "      <th>Citology</th>\n",
       "      <th>Biopsy</th>\n",
       "    </tr>\n",
       "  </thead>\n",
       "  <tbody>\n",
       "    <tr>\n",
       "      <th>0</th>\n",
       "      <td>0.384615</td>\n",
       "      <td>0.000000</td>\n",
       "      <td>0.409091</td>\n",
       "      <td>0.250</td>\n",
       "      <td>0.0</td>\n",
       "      <td>0.000000</td>\n",
       "      <td>0.000000</td>\n",
       "      <td>0.637437</td>\n",
       "      <td>0.073030</td>\n",
       "      <td>0.112436</td>\n",
       "      <td>...</td>\n",
       "      <td>0.001669</td>\n",
       "      <td>0.003339</td>\n",
       "      <td>0.0</td>\n",
       "      <td>0.0</td>\n",
       "      <td>0.0</td>\n",
       "      <td>0.0</td>\n",
       "      <td>0.0</td>\n",
       "      <td>0.0</td>\n",
       "      <td>0.0</td>\n",
       "      <td>0.0</td>\n",
       "    </tr>\n",
       "    <tr>\n",
       "      <th>1</th>\n",
       "      <td>0.153846</td>\n",
       "      <td>0.142857</td>\n",
       "      <td>0.227273</td>\n",
       "      <td>0.125</td>\n",
       "      <td>0.0</td>\n",
       "      <td>0.000000</td>\n",
       "      <td>0.000000</td>\n",
       "      <td>0.000000</td>\n",
       "      <td>0.000000</td>\n",
       "      <td>0.000000</td>\n",
       "      <td>...</td>\n",
       "      <td>0.000000</td>\n",
       "      <td>0.000000</td>\n",
       "      <td>0.0</td>\n",
       "      <td>0.0</td>\n",
       "      <td>0.0</td>\n",
       "      <td>0.0</td>\n",
       "      <td>0.0</td>\n",
       "      <td>0.0</td>\n",
       "      <td>0.0</td>\n",
       "      <td>0.0</td>\n",
       "    </tr>\n",
       "    <tr>\n",
       "      <th>2</th>\n",
       "      <td>0.307692</td>\n",
       "      <td>0.000000</td>\n",
       "      <td>0.636364</td>\n",
       "      <td>0.125</td>\n",
       "      <td>0.0</td>\n",
       "      <td>0.000000</td>\n",
       "      <td>0.000000</td>\n",
       "      <td>1.000000</td>\n",
       "      <td>0.002667</td>\n",
       "      <td>0.000000</td>\n",
       "      <td>...</td>\n",
       "      <td>0.000000</td>\n",
       "      <td>0.000000</td>\n",
       "      <td>0.0</td>\n",
       "      <td>0.0</td>\n",
       "      <td>0.0</td>\n",
       "      <td>0.0</td>\n",
       "      <td>0.0</td>\n",
       "      <td>0.0</td>\n",
       "      <td>0.0</td>\n",
       "      <td>0.0</td>\n",
       "    </tr>\n",
       "    <tr>\n",
       "      <th>3</th>\n",
       "      <td>0.230769</td>\n",
       "      <td>0.071429</td>\n",
       "      <td>0.227273</td>\n",
       "      <td>0.250</td>\n",
       "      <td>1.0</td>\n",
       "      <td>0.135135</td>\n",
       "      <td>0.033784</td>\n",
       "      <td>1.000000</td>\n",
       "      <td>0.200000</td>\n",
       "      <td>0.000000</td>\n",
       "      <td>...</td>\n",
       "      <td>0.000000</td>\n",
       "      <td>0.000000</td>\n",
       "      <td>0.0</td>\n",
       "      <td>0.0</td>\n",
       "      <td>0.0</td>\n",
       "      <td>0.0</td>\n",
       "      <td>0.0</td>\n",
       "      <td>1.0</td>\n",
       "      <td>0.0</td>\n",
       "      <td>1.0</td>\n",
       "    </tr>\n",
       "    <tr>\n",
       "      <th>4</th>\n",
       "      <td>0.435897</td>\n",
       "      <td>0.000000</td>\n",
       "      <td>0.500000</td>\n",
       "      <td>0.250</td>\n",
       "      <td>0.0</td>\n",
       "      <td>0.000000</td>\n",
       "      <td>0.000000</td>\n",
       "      <td>0.000000</td>\n",
       "      <td>0.000000</td>\n",
       "      <td>1.000000</td>\n",
       "      <td>...</td>\n",
       "      <td>0.000000</td>\n",
       "      <td>0.000000</td>\n",
       "      <td>0.0</td>\n",
       "      <td>0.0</td>\n",
       "      <td>0.0</td>\n",
       "      <td>0.0</td>\n",
       "      <td>0.0</td>\n",
       "      <td>0.0</td>\n",
       "      <td>1.0</td>\n",
       "      <td>0.0</td>\n",
       "    </tr>\n",
       "  </tbody>\n",
       "</table>\n",
       "<p>5 rows × 28 columns</p>\n",
       "</div>"
      ],
      "text/plain": [
       "        Age  Number of sexual partners  First sexual intercourse  \\\n",
       "0  0.384615                   0.000000                  0.409091   \n",
       "1  0.153846                   0.142857                  0.227273   \n",
       "2  0.307692                   0.000000                  0.636364   \n",
       "3  0.230769                   0.071429                  0.227273   \n",
       "4  0.435897                   0.000000                  0.500000   \n",
       "\n",
       "   Num of pregnancies  Smokes  Smokes (years)  Smokes (packs/year)  \\\n",
       "0               0.250     0.0        0.000000             0.000000   \n",
       "1               0.125     0.0        0.000000             0.000000   \n",
       "2               0.125     0.0        0.000000             0.000000   \n",
       "3               0.250     1.0        0.135135             0.033784   \n",
       "4               0.250     0.0        0.000000             0.000000   \n",
       "\n",
       "   Hormonal Contraceptives  Hormonal Contraceptives (years)       IUD  ...  \\\n",
       "0                 0.637437                         0.073030  0.112436  ...   \n",
       "1                 0.000000                         0.000000  0.000000  ...   \n",
       "2                 1.000000                         0.002667  0.000000  ...   \n",
       "3                 1.000000                         0.200000  0.000000  ...   \n",
       "4                 0.000000                         0.000000  1.000000  ...   \n",
       "\n",
       "   STDs:Hepatitis B  STDs:HPV  STDs: Number of diagnosis  Dx:Cancer  Dx:CIN  \\\n",
       "0          0.001669  0.003339                        0.0        0.0     0.0   \n",
       "1          0.000000  0.000000                        0.0        0.0     0.0   \n",
       "2          0.000000  0.000000                        0.0        0.0     0.0   \n",
       "3          0.000000  0.000000                        0.0        0.0     0.0   \n",
       "4          0.000000  0.000000                        0.0        0.0     0.0   \n",
       "\n",
       "    Dx  Hinselmann  Schiller  Citology  Biopsy  \n",
       "0  0.0         0.0       0.0       0.0     0.0  \n",
       "1  0.0         0.0       0.0       0.0     0.0  \n",
       "2  0.0         0.0       0.0       0.0     0.0  \n",
       "3  0.0         0.0       1.0       0.0     1.0  \n",
       "4  0.0         0.0       0.0       1.0     0.0  \n",
       "\n",
       "[5 rows x 28 columns]"
      ]
     },
     "execution_count": 524,
     "metadata": {},
     "output_type": "execute_result"
    }
   ],
   "source": [
    "train_data.head()"
   ]
  },
  {
   "cell_type": "code",
   "execution_count": 525,
   "metadata": {},
   "outputs": [],
   "source": [
    "col_names = [*train_data.columns[:]]"
   ]
  },
  {
   "cell_type": "code",
   "execution_count": 526,
   "metadata": {},
   "outputs": [],
   "source": [
    "X_train, y_train = train_data.iloc[:,:-1], train_data.iloc[:,-1]\n",
    "X_test, y_test = test_data.iloc[:,:-1], test_data.iloc[:,-1]"
   ]
  },
  {
   "cell_type": "code",
   "execution_count": 527,
   "metadata": {},
   "outputs": [],
   "source": [
    "X_test = test_data.iloc[:,:-1]\n",
    "y_test = test_data.iloc[:,-1]"
   ]
  },
  {
   "cell_type": "code",
   "execution_count": 528,
   "metadata": {},
   "outputs": [],
   "source": [
    "X_train = pd.concat([X_train, y_train], axis=1)\n",
    "X_test = pd.concat([X_test, y_test], axis=1)"
   ]
  },
  {
   "cell_type": "code",
   "execution_count": 529,
   "metadata": {},
   "outputs": [],
   "source": [
    "treeData1Mean = HDTreeClassifier(\n",
    "                    # allowed_splits=[TwoQuantileRangeSplit.build()], \n",
    "                    allowed_splits=[LogisticRegressionSingleSplit.build(), TwoQuantileRangeSplit.build()], \n",
    "                    information_measure=EntropyMeasure(), \n",
    "                    attribute_names=col_names, \n",
    "                    max_levels=5,\n",
    "                    min_samples_at_leaf=1)"
   ]
  },
  {
   "cell_type": "code",
   "execution_count": 530,
   "metadata": {},
   "outputs": [
    {
     "data": {
      "text/plain": [
       "((167, 28), (167,), (666, 28), (666,))"
      ]
     },
     "execution_count": 530,
     "metadata": {},
     "output_type": "execute_result"
    }
   ],
   "source": [
    "X_test.shape, y_test.shape, X_train.shape, y_train.shape"
   ]
  },
  {
   "cell_type": "code",
   "execution_count": 531,
   "metadata": {},
   "outputs": [
    {
     "name": "stdout",
     "output_type": "stream",
     "text": [
      "0.96996996996997\n",
      "0.9520958083832335\n"
     ]
    }
   ],
   "source": [
    "treeData1Mean.fit(X_train.values, y_train.values)\n",
    "print(treeData1Mean.score(X_train.values, y_train.values))\n",
    "print(treeData1Mean.score(X_test.values, y_test.values))"
   ]
  },
  {
   "cell_type": "code",
   "execution_count": 532,
   "metadata": {},
   "outputs": [
    {
     "data": {
      "image/svg+xml": "<?xml version=\"1.0\" encoding=\"UTF-8\" standalone=\"no\"?>\n<!DOCTYPE svg PUBLIC \"-//W3C//DTD SVG 1.1//EN\"\n \"http://www.w3.org/Graphics/SVG/1.1/DTD/svg11.dtd\">\n<!-- Generated by graphviz version 5.0.1 (20220820.1526)\n -->\n<!-- Pages: 1 -->\n<svg width=\"618pt\" height=\"593pt\"\n viewBox=\"0.00 0.00 618.00 593.00\" xmlns=\"http://www.w3.org/2000/svg\" xmlns:xlink=\"http://www.w3.org/1999/xlink\">\n<g id=\"graph0\" class=\"graph\" transform=\"scale(1 1) rotate(0) translate(4 589)\">\n<polygon fill=\"white\" stroke=\"none\" points=\"-4,4 -4,-589 614,-589 614,4 -4,4\"/>\n<!-- Head (Level 0) -->\n<g id=\"node1\" class=\"node\">\n<title>Head (Level 0)</title>\n<polygon fill=\"#5aff5a\" stroke=\"black\" stroke-width=\"10\" points=\"535.5,-585 177.5,-585 177.5,-419 535.5,-419 535.5,-585\"/>\n<text text-anchor=\"start\" x=\"199.5\" y=\"-535.8\" font-family=\"monospace\" font-size=\"14.00\">Samples: &#160;&#160;&#160;&#160;&#160;666</text>\n<text text-anchor=\"start\" x=\"199.5\" y=\"-520.8\" font-family=\"monospace\" font-size=\"14.00\">Score: &#160;&#160;&#160;&#160;&#160;&#160;&#160;0.65</text>\n<text text-anchor=\"middle\" x=\"356.5\" y=\"-505.8\" font-family=\"monospace\" font-size=\"14.00\">Test: logistic rergression on Schiller</text>\n<text text-anchor=\"start\" x=\"199.5\" y=\"-474.8\" font-family=\"monospace\" font-size=\"14.00\">0.0: 622 ✓</text>\n<text text-anchor=\"start\" x=\"199.5\" y=\"-459.8\" font-family=\"monospace\" font-size=\"14.00\">1.0: 44</text>\n<text text-anchor=\"middle\" x=\"356.5\" y=\"-444.8\" font-family=\"monospace\" font-size=\"14.00\"> </text>\n</g>\n<!-- Node #1 (Level 1) -->\n<g id=\"node2\" class=\"node\">\n<title>Node #1 (Level 1)</title>\n<polygon fill=\"#deffde\" stroke=\"black\" stroke-width=\"0.78\" points=\"399,-368 0,-368 0,-202 399,-202 399,-368\"/>\n<text text-anchor=\"start\" x=\"22\" y=\"-318.8\" font-family=\"monospace\" font-size=\"14.00\">Samples: &#160;&#160;&#160;&#160;&#160;52</text>\n<text text-anchor=\"start\" x=\"22\" y=\"-303.8\" font-family=\"monospace\" font-size=\"14.00\">Score: &#160;&#160;&#160;&#160;&#160;&#160;&#160;0.13</text>\n<text text-anchor=\"middle\" x=\"199.5\" y=\"-288.8\" font-family=\"monospace\" font-size=\"14.00\">Test: logistic rergression on STDs:syphilis</text>\n<text text-anchor=\"start\" x=\"22\" y=\"-257.8\" font-family=\"monospace\" font-size=\"14.00\">0.0: 15</text>\n<text text-anchor=\"start\" x=\"22\" y=\"-242.8\" font-family=\"monospace\" font-size=\"14.00\">1.0: 37 ✓</text>\n<text text-anchor=\"middle\" x=\"199.5\" y=\"-227.8\" font-family=\"monospace\" font-size=\"14.00\"> </text>\n</g>\n<!-- Head (Level 0)&#45;&gt;Node #1 (Level 1) -->\n<g id=\"edge1\" class=\"edge\">\n<title>Head (Level 0)&#45;&gt;Node #1 (Level 1)</title>\n<path fill=\"none\" stroke=\"black\" stroke-width=\"0.55\" d=\"M296.47,-418.8C286.34,-404.92 275.78,-390.45 265.5,-376.39\"/>\n<polygon fill=\"black\" stroke=\"black\" stroke-width=\"0.55\" points=\"268.22,-374.17 259.49,-368.16 262.56,-378.3 268.22,-374.17\"/>\n<text text-anchor=\"middle\" x=\"326.5\" y=\"-389.8\" font-family=\"Times,serif\" font-size=\"14.00\">sigmoid &lt;= 0.5</text>\n</g>\n<!-- Node #2 (Level 1) -->\n<g id=\"node3\" class=\"node\">\n<title>Node #2 (Level 1)</title>\n<polygon fill=\"#17ff17\" stroke=\"black\" stroke-width=\"9.22\" points=\"610,-360.5 417,-360.5 417,-209.5 610,-209.5 610,-360.5\"/>\n<text text-anchor=\"start\" x=\"439\" y=\"-311.3\" font-family=\"monospace\" font-size=\"14.00\">Samples: &#160;&#160;&#160;&#160;&#160;614</text>\n<text text-anchor=\"middle\" x=\"513.5\" y=\"-296.3\" font-family=\"monospace\" font-size=\"14.00\">Score: &#160;&#160;&#160;&#160;&#160;&#160;&#160;0.91</text>\n<text text-anchor=\"start\" x=\"439\" y=\"-265.3\" font-family=\"monospace\" font-size=\"14.00\">0.0: 607 ✓</text>\n<text text-anchor=\"start\" x=\"439\" y=\"-250.3\" font-family=\"monospace\" font-size=\"14.00\">1.0: 7</text>\n<text text-anchor=\"middle\" x=\"513.5\" y=\"-235.3\" font-family=\"monospace\" font-size=\"14.00\"> </text>\n</g>\n<!-- Head (Level 0)&#45;&gt;Node #2 (Level 1) -->\n<g id=\"edge2\" class=\"edge\">\n<title>Head (Level 0)&#45;&gt;Node #2 (Level 1)</title>\n<path fill=\"none\" stroke=\"black\" stroke-width=\"6.45\" d=\"M416.53,-418.8C428.4,-402.54 440.86,-385.47 452.75,-369.19\"/>\n<polygon fill=\"black\" stroke=\"black\" stroke-width=\"6.45\" points=\"457.58,-372.16 458.91,-360.75 448.46,-365.5 457.58,-372.16\"/>\n<text text-anchor=\"middle\" x=\"479.5\" y=\"-389.8\" font-family=\"Times,serif\" font-size=\"14.00\">sigmoid &gt; 0.5</text>\n</g>\n<!-- Node #3 (Level 2) -->\n<g id=\"node4\" class=\"node\">\n<title>Node #3 (Level 2)</title>\n<polygon fill=\"#d3ffd3\" stroke=\"black\" stroke-width=\"0.75\" points=\"197,-151 4,-151 4,0 197,0 197,-151\"/>\n<text text-anchor=\"start\" x=\"26\" y=\"-101.8\" font-family=\"monospace\" font-size=\"14.00\">Samples: &#160;&#160;&#160;&#160;&#160;50</text>\n<text text-anchor=\"middle\" x=\"100.5\" y=\"-86.8\" font-family=\"monospace\" font-size=\"14.00\">Score: &#160;&#160;&#160;&#160;&#160;&#160;&#160;0.17</text>\n<text text-anchor=\"start\" x=\"26\" y=\"-55.8\" font-family=\"monospace\" font-size=\"14.00\">0.0: 13</text>\n<text text-anchor=\"start\" x=\"26\" y=\"-40.8\" font-family=\"monospace\" font-size=\"14.00\">1.0: 37 ✓</text>\n<text text-anchor=\"middle\" x=\"100.5\" y=\"-25.8\" font-family=\"monospace\" font-size=\"14.00\"> </text>\n</g>\n<!-- Node #1 (Level 1)&#45;&gt;Node #3 (Level 2) -->\n<g id=\"edge3\" class=\"edge\">\n<title>Node #1 (Level 1)&#45;&gt;Node #3 (Level 2)</title>\n<path fill=\"none\" stroke=\"black\" stroke-width=\"6.73\" d=\"M160.37,-201.99C153.87,-188.37 147.12,-174.22 140.6,-160.55\"/>\n<polygon fill=\"black\" stroke=\"black\" stroke-width=\"6.73\" points=\"145.75,-157.66 136.13,-151.17 135.12,-162.74 145.75,-157.66\"/>\n<text text-anchor=\"middle\" x=\"193.5\" y=\"-172.8\" font-family=\"Times,serif\" font-size=\"14.00\">sigmoid &lt;= 0.5</text>\n</g>\n<!-- Node #4 (Level 2) -->\n<g id=\"node5\" class=\"node\">\n<title>Node #4 (Level 2)</title>\n<polygon fill=\"#00ff00\" stroke=\"black\" stroke-width=\"0.03\" points=\"383.5,-143.5 215.5,-143.5 215.5,-7.5 383.5,-7.5 383.5,-143.5\"/>\n<text text-anchor=\"start\" x=\"237.5\" y=\"-94.3\" font-family=\"monospace\" font-size=\"14.00\">Samples: &#160;&#160;&#160;&#160;&#160;2</text>\n<text text-anchor=\"middle\" x=\"299.5\" y=\"-79.3\" font-family=\"monospace\" font-size=\"14.00\">Score: &#160;&#160;&#160;&#160;&#160;&#160;&#160;1</text>\n<text text-anchor=\"start\" x=\"237.5\" y=\"-48.3\" font-family=\"monospace\" font-size=\"14.00\">0.0: 2 ✓</text>\n<text text-anchor=\"middle\" x=\"299.5\" y=\"-33.3\" font-family=\"monospace\" font-size=\"14.00\"> </text>\n</g>\n<!-- Node #1 (Level 1)&#45;&gt;Node #4 (Level 2) -->\n<g id=\"edge4\" class=\"edge\">\n<title>Node #1 (Level 1)&#45;&gt;Node #4 (Level 2)</title>\n<path fill=\"none\" stroke=\"black\" stroke-width=\"0.27\" d=\"M239.02,-201.99C246.83,-185.8 254.99,-168.86 262.7,-152.87\"/>\n<polygon fill=\"black\" stroke=\"black\" stroke-width=\"0.27\" points=\"265.99,-154.1 267.18,-143.57 259.68,-151.06 265.99,-154.1\"/>\n<text text-anchor=\"middle\" x=\"291.5\" y=\"-172.8\" font-family=\"Times,serif\" font-size=\"14.00\">sigmoid &gt; 0.5</text>\n</g>\n</g>\n</svg>\n",
      "text/plain": [
       "<graphviz.dot.Digraph at 0x7fb9a9e2cc70>"
      ]
     },
     "execution_count": 532,
     "metadata": {},
     "output_type": "execute_result"
    }
   ],
   "source": [
    "treeData1Mean.generate_dot_graph()"
   ]
  },
  {
   "cell_type": "code",
   "execution_count": 533,
   "metadata": {},
   "outputs": [
    {
     "name": "stdout",
     "output_type": "stream",
     "text": [
      "Accuracy =  0.9520958083832335\n",
      "Macro Precision =  0.7894736842105263\n",
      "Micro Precision =  0.9520958083832335\n",
      "Weighted Precision =  0.9722659943271352\n",
      "Macro Recall =  0.9743589743589743\n",
      "Micro Recall =  0.9520958083832335\n",
      "Weighted Recall =  0.9520958083832335\n",
      "Macro F1 =  0.8535087719298247\n",
      "Micro F1 =  0.9520958083832335\n",
      "Weighted F1 =  0.9578527156213887\n",
      "\n",
      "Classification Report\n",
      "               precision    recall  f1-score   support\n",
      "\n",
      "         0.0       1.00      0.95      0.97       156\n",
      "         1.0       0.58      1.00      0.73        11\n",
      "\n",
      "    accuracy                           0.95       167\n",
      "   macro avg       0.79      0.97      0.85       167\n",
      "weighted avg       0.97      0.95      0.96       167\n",
      "\n"
     ]
    }
   ],
   "source": [
    "preds = treeData1Mean.predict(X_test.values)\n",
    "preds = [float(i) for i in preds]\n",
    "runMetrics(y_test.values, preds)"
   ]
  },
  {
   "cell_type": "code",
   "execution_count": 534,
   "metadata": {},
   "outputs": [
    {
     "data": {
      "image/png": "[encoded data removed]",
      "text/plain": [
       "<Figure size 800x550 with 1 Axes>"
      ]
     },
     "metadata": {},
     "output_type": "display_data"
    },
    {
     "name": "stdout",
     "output_type": "stream",
     "text": [
      "AUC =  0.9743589743589743\n"
     ]
    }
   ],
   "source": [
    "getAucRocMetrics(y_test.values, treeData1Mean.predict_proba(X_test.values)[:, 1], 1)"
   ]
  },
  {
   "cell_type": "code",
   "execution_count": 535,
   "metadata": {},
   "outputs": [],
   "source": [
    "treeData1Mean = HDTreeClassifier(\n",
    "                    allowed_splits=[LogisticRegressionDoubleCategorySplit.build()], \n",
    "                    # allowed_splits=[LogisticRegressionSingleSplit.build(), TwoQuantileRangeSplit.build()], \n",
    "                    # allowed_splits=[FixedValueSplit.build(), SingleCategorySplit.build(), TwentyQuantileRangeSplit.build(), TwentyQuantileSplit.build()],\n",
    "                    information_measure=EntropyMeasure(), \n",
    "                    attribute_names=col_names, \n",
    "                    max_levels=5,\n",
    "                    min_samples_at_leaf=10)"
   ]
  },
  {
   "cell_type": "code",
   "execution_count": 536,
   "metadata": {},
   "outputs": [
    {
     "name": "stdout",
     "output_type": "stream",
     "text": [
      "0.9579579579579579\n",
      "0.9281437125748503\n"
     ]
    }
   ],
   "source": [
    "treeData1Mean.fit(X_train.values, y_train.values)\n",
    "print(treeData1Mean.score(X_train.values, y_train.values))\n",
    "print(treeData1Mean.score(X_test.values, y_test.values))"
   ]
  },
  {
   "cell_type": "code",
   "execution_count": 537,
   "metadata": {},
   "outputs": [
    {
     "data": {
      "image/svg+xml": "<?xml version=\"1.0\" encoding=\"UTF-8\" standalone=\"no\"?>\n<!DOCTYPE svg PUBLIC \"-//W3C//DTD SVG 1.1//EN\"\n \"http://www.w3.org/Graphics/SVG/1.1/DTD/svg11.dtd\">\n<!-- Generated by graphviz version 5.0.1 (20220820.1526)\n -->\n<!-- Pages: 1 -->\n<svg width=\"465pt\" height=\"376pt\"\n viewBox=\"0.00 0.00 465.00 376.00\" xmlns=\"http://www.w3.org/2000/svg\" xmlns:xlink=\"http://www.w3.org/1999/xlink\">\n<g id=\"graph0\" class=\"graph\" transform=\"scale(1 1) rotate(0) translate(4 372)\">\n<polygon fill=\"white\" stroke=\"none\" points=\"-4,4 -4,-372 461,-372 461,4 -4,4\"/>\n<!-- Head (Level 0) -->\n<g id=\"node1\" class=\"node\">\n<title>Head (Level 0)</title>\n<polygon fill=\"#5aff5a\" stroke=\"black\" stroke-width=\"10\" points=\"457,-368 0,-368 0,-202 457,-202 457,-368\"/>\n<text text-anchor=\"start\" x=\"22\" y=\"-318.8\" font-family=\"monospace\" font-size=\"14.00\">Samples: &#160;&#160;&#160;&#160;&#160;666</text>\n<text text-anchor=\"start\" x=\"22\" y=\"-303.8\" font-family=\"monospace\" font-size=\"14.00\">Score: &#160;&#160;&#160;&#160;&#160;&#160;&#160;0.65</text>\n<text text-anchor=\"middle\" x=\"228.5\" y=\"-288.8\" font-family=\"monospace\" font-size=\"14.00\">Test: Logistic Regression using Age and Hinselmann</text>\n<text text-anchor=\"start\" x=\"22\" y=\"-257.8\" font-family=\"monospace\" font-size=\"14.00\">0.0: 622 ✓</text>\n<text text-anchor=\"start\" x=\"22\" y=\"-242.8\" font-family=\"monospace\" font-size=\"14.00\">1.0: 44</text>\n<text text-anchor=\"middle\" x=\"228.5\" y=\"-227.8\" font-family=\"monospace\" font-size=\"14.00\"> </text>\n</g>\n<!-- Node #1 (Level 1) -->\n<g id=\"node2\" class=\"node\">\n<title>Node #1 (Level 1)</title>\n<polygon fill=\"#b5ffb5\" stroke=\"black\" stroke-width=\"0.39\" points=\"220,-151 27,-151 27,0 220,0 220,-151\"/>\n<text text-anchor=\"start\" x=\"49\" y=\"-101.8\" font-family=\"monospace\" font-size=\"14.00\">Samples: &#160;&#160;&#160;&#160;&#160;26</text>\n<text text-anchor=\"middle\" x=\"123.5\" y=\"-86.8\" font-family=\"monospace\" font-size=\"14.00\">Score: &#160;&#160;&#160;&#160;&#160;&#160;&#160;0.29</text>\n<text text-anchor=\"start\" x=\"49\" y=\"-55.8\" font-family=\"monospace\" font-size=\"14.00\">0.0: 5</text>\n<text text-anchor=\"start\" x=\"49\" y=\"-40.8\" font-family=\"monospace\" font-size=\"14.00\">1.0: 21 ✓</text>\n<text text-anchor=\"middle\" x=\"123.5\" y=\"-25.8\" font-family=\"monospace\" font-size=\"14.00\"> </text>\n</g>\n<!-- Head (Level 0)&#45;&gt;Node #1 (Level 1) -->\n<g id=\"edge1\" class=\"edge\">\n<title>Head (Level 0)&#45;&gt;Node #1 (Level 1)</title>\n<path fill=\"none\" stroke=\"black\" stroke-width=\"0.27\" d=\"M187,-201.99C180.04,-188.24 172.81,-173.95 165.83,-160.16\"/>\n<polygon fill=\"black\" stroke=\"black\" stroke-width=\"0.27\" points=\"168.92,-158.52 161.29,-151.17 162.68,-161.68 168.92,-158.52\"/>\n<text text-anchor=\"middle\" x=\"219.5\" y=\"-172.8\" font-family=\"Times,serif\" font-size=\"14.00\">sigmoid &lt;= 0.5</text>\n</g>\n<!-- Node #2 (Level 1) -->\n<g id=\"node3\" class=\"node\">\n<title>Node #2 (Level 1)</title>\n<polygon fill=\"#39ff39\" stroke=\"black\" stroke-width=\"9.61\" points=\"431,-151 238,-151 238,0 431,0 431,-151\"/>\n<text text-anchor=\"start\" x=\"260\" y=\"-101.8\" font-family=\"monospace\" font-size=\"14.00\">Samples: &#160;&#160;&#160;&#160;&#160;640</text>\n<text text-anchor=\"middle\" x=\"334.5\" y=\"-86.8\" font-family=\"monospace\" font-size=\"14.00\">Score: &#160;&#160;&#160;&#160;&#160;&#160;&#160;0.78</text>\n<text text-anchor=\"start\" x=\"260\" y=\"-55.8\" font-family=\"monospace\" font-size=\"14.00\">0.0: 617 ✓</text>\n<text text-anchor=\"start\" x=\"260\" y=\"-40.8\" font-family=\"monospace\" font-size=\"14.00\">1.0: 23</text>\n<text text-anchor=\"middle\" x=\"334.5\" y=\"-25.8\" font-family=\"monospace\" font-size=\"14.00\"> </text>\n</g>\n<!-- Head (Level 0)&#45;&gt;Node #2 (Level 1) -->\n<g id=\"edge2\" class=\"edge\">\n<title>Head (Level 0)&#45;&gt;Node #2 (Level 1)</title>\n<path fill=\"none\" stroke=\"black\" stroke-width=\"6.73\" d=\"M270.39,-201.99C277.42,-188.24 284.72,-173.95 291.76,-160.16\"/>\n<polygon fill=\"black\" stroke=\"black\" stroke-width=\"6.73\" points=\"297.05,-162.76 296.35,-151.17 286.56,-157.4 297.05,-162.76\"/>\n<text text-anchor=\"middle\" x=\"323.5\" y=\"-172.8\" font-family=\"Times,serif\" font-size=\"14.00\">sigmoid &gt; 0.5</text>\n</g>\n</g>\n</svg>\n",
      "text/plain": [
       "<graphviz.dot.Digraph at 0x7fb9900d4700>"
      ]
     },
     "execution_count": 537,
     "metadata": {},
     "output_type": "execute_result"
    }
   ],
   "source": [
    "treeData1Mean.generate_dot_graph()"
   ]
  },
  {
   "cell_type": "code",
   "execution_count": 538,
   "metadata": {},
   "outputs": [
    {
     "name": "stdout",
     "output_type": "stream",
     "text": [
      "Accuracy =  0.9281437125748503\n",
      "Macro Precision =  0.700070323488045\n",
      "Micro Precision =  0.9281437125748503\n",
      "Weighted Precision =  0.9220209370288959\n",
      "Macro Recall =  0.6657925407925408\n",
      "Micro Recall =  0.9281437125748503\n",
      "Weighted Recall =  0.9281437125748503\n",
      "Macro F1 =  0.6808917197452229\n",
      "Micro F1 =  0.9281437125748502\n",
      "Weighted F1 =  0.9247797398832909\n",
      "\n",
      "Classification Report\n",
      "               precision    recall  f1-score   support\n",
      "\n",
      "         0.0       0.96      0.97      0.96       156\n",
      "         1.0       0.44      0.36      0.40        11\n",
      "\n",
      "    accuracy                           0.93       167\n",
      "   macro avg       0.70      0.67      0.68       167\n",
      "weighted avg       0.92      0.93      0.92       167\n",
      "\n"
     ]
    }
   ],
   "source": [
    "preds = treeData1Mean.predict(X_test.values)\n",
    "preds = [float(i) for i in preds]\n",
    "runMetrics(y_test.values, preds)"
   ]
  },
  {
   "cell_type": "code",
   "execution_count": 539,
   "metadata": {},
   "outputs": [
    {
     "data": {
      "image/png": "[encoded data removed]",
      "text/plain": [
       "<Figure size 800x550 with 1 Axes>"
      ]
     },
     "metadata": {},
     "output_type": "display_data"
    },
    {
     "name": "stdout",
     "output_type": "stream",
     "text": [
      "AUC =  0.6657925407925408\n"
     ]
    }
   ],
   "source": [
    "getAucRocMetrics(y_test.values, treeData1Mean.predict_proba(X_test.values)[:, 1], 1)"
   ]
  },
  {
   "cell_type": "markdown",
   "metadata": {},
   "source": [
    "## Median"
   ]
  },
  {
   "cell_type": "code",
   "execution_count": 540,
   "metadata": {},
   "outputs": [],
   "source": [
    "train_data = pd.read_csv('../../data/train1median.csv')\n",
    "test_data = pd.read_csv('../../data/test1median.csv')"
   ]
  },
  {
   "cell_type": "code",
   "execution_count": 541,
   "metadata": {},
   "outputs": [
    {
     "data": {
      "text/html": [
       "<div>\n",
       "<style scoped>\n",
       "    .dataframe tbody tr th:only-of-type {\n",
       "        vertical-align: middle;\n",
       "    }\n",
       "\n",
       "    .dataframe tbody tr th {\n",
       "        vertical-align: top;\n",
       "    }\n",
       "\n",
       "    .dataframe thead th {\n",
       "        text-align: right;\n",
       "    }\n",
       "</style>\n",
       "<table border=\"1\" class=\"dataframe\">\n",
       "  <thead>\n",
       "    <tr style=\"text-align: right;\">\n",
       "      <th></th>\n",
       "      <th>Unnamed: 0</th>\n",
       "      <th>Age</th>\n",
       "      <th>Number of sexual partners</th>\n",
       "      <th>First sexual intercourse</th>\n",
       "      <th>Num of pregnancies</th>\n",
       "      <th>Smokes</th>\n",
       "      <th>Smokes (years)</th>\n",
       "      <th>Smokes (packs/year)</th>\n",
       "      <th>Hormonal Contraceptives</th>\n",
       "      <th>Hormonal Contraceptives (years)</th>\n",
       "      <th>...</th>\n",
       "      <th>STDs:Hepatitis B</th>\n",
       "      <th>STDs:HPV</th>\n",
       "      <th>STDs: Number of diagnosis</th>\n",
       "      <th>Dx:Cancer</th>\n",
       "      <th>Dx:CIN</th>\n",
       "      <th>Dx</th>\n",
       "      <th>Hinselmann</th>\n",
       "      <th>Schiller</th>\n",
       "      <th>Citology</th>\n",
       "      <th>Biopsy</th>\n",
       "    </tr>\n",
       "  </thead>\n",
       "  <tbody>\n",
       "    <tr>\n",
       "      <th>0</th>\n",
       "      <td>0</td>\n",
       "      <td>0.384615</td>\n",
       "      <td>0.000000</td>\n",
       "      <td>0.409091</td>\n",
       "      <td>0.250</td>\n",
       "      <td>0.0</td>\n",
       "      <td>0.000000</td>\n",
       "      <td>0.000000</td>\n",
       "      <td>1.0</td>\n",
       "      <td>0.014000</td>\n",
       "      <td>...</td>\n",
       "      <td>0.0</td>\n",
       "      <td>0.0</td>\n",
       "      <td>0.0</td>\n",
       "      <td>0.0</td>\n",
       "      <td>0.0</td>\n",
       "      <td>0.0</td>\n",
       "      <td>0.0</td>\n",
       "      <td>0.0</td>\n",
       "      <td>0.0</td>\n",
       "      <td>0.0</td>\n",
       "    </tr>\n",
       "    <tr>\n",
       "      <th>1</th>\n",
       "      <td>1</td>\n",
       "      <td>0.153846</td>\n",
       "      <td>0.142857</td>\n",
       "      <td>0.227273</td>\n",
       "      <td>0.125</td>\n",
       "      <td>0.0</td>\n",
       "      <td>0.000000</td>\n",
       "      <td>0.000000</td>\n",
       "      <td>0.0</td>\n",
       "      <td>0.000000</td>\n",
       "      <td>...</td>\n",
       "      <td>0.0</td>\n",
       "      <td>0.0</td>\n",
       "      <td>0.0</td>\n",
       "      <td>0.0</td>\n",
       "      <td>0.0</td>\n",
       "      <td>0.0</td>\n",
       "      <td>0.0</td>\n",
       "      <td>0.0</td>\n",
       "      <td>0.0</td>\n",
       "      <td>0.0</td>\n",
       "    </tr>\n",
       "    <tr>\n",
       "      <th>2</th>\n",
       "      <td>2</td>\n",
       "      <td>0.307692</td>\n",
       "      <td>0.000000</td>\n",
       "      <td>0.636364</td>\n",
       "      <td>0.125</td>\n",
       "      <td>0.0</td>\n",
       "      <td>0.000000</td>\n",
       "      <td>0.000000</td>\n",
       "      <td>1.0</td>\n",
       "      <td>0.002667</td>\n",
       "      <td>...</td>\n",
       "      <td>0.0</td>\n",
       "      <td>0.0</td>\n",
       "      <td>0.0</td>\n",
       "      <td>0.0</td>\n",
       "      <td>0.0</td>\n",
       "      <td>0.0</td>\n",
       "      <td>0.0</td>\n",
       "      <td>0.0</td>\n",
       "      <td>0.0</td>\n",
       "      <td>0.0</td>\n",
       "    </tr>\n",
       "    <tr>\n",
       "      <th>3</th>\n",
       "      <td>3</td>\n",
       "      <td>0.230769</td>\n",
       "      <td>0.071429</td>\n",
       "      <td>0.227273</td>\n",
       "      <td>0.250</td>\n",
       "      <td>1.0</td>\n",
       "      <td>0.135135</td>\n",
       "      <td>0.033784</td>\n",
       "      <td>1.0</td>\n",
       "      <td>0.200000</td>\n",
       "      <td>...</td>\n",
       "      <td>0.0</td>\n",
       "      <td>0.0</td>\n",
       "      <td>0.0</td>\n",
       "      <td>0.0</td>\n",
       "      <td>0.0</td>\n",
       "      <td>0.0</td>\n",
       "      <td>0.0</td>\n",
       "      <td>1.0</td>\n",
       "      <td>0.0</td>\n",
       "      <td>1.0</td>\n",
       "    </tr>\n",
       "    <tr>\n",
       "      <th>4</th>\n",
       "      <td>4</td>\n",
       "      <td>0.435897</td>\n",
       "      <td>0.000000</td>\n",
       "      <td>0.500000</td>\n",
       "      <td>0.250</td>\n",
       "      <td>0.0</td>\n",
       "      <td>0.000000</td>\n",
       "      <td>0.000000</td>\n",
       "      <td>0.0</td>\n",
       "      <td>0.000000</td>\n",
       "      <td>...</td>\n",
       "      <td>0.0</td>\n",
       "      <td>0.0</td>\n",
       "      <td>0.0</td>\n",
       "      <td>0.0</td>\n",
       "      <td>0.0</td>\n",
       "      <td>0.0</td>\n",
       "      <td>0.0</td>\n",
       "      <td>0.0</td>\n",
       "      <td>1.0</td>\n",
       "      <td>0.0</td>\n",
       "    </tr>\n",
       "  </tbody>\n",
       "</table>\n",
       "<p>5 rows × 29 columns</p>\n",
       "</div>"
      ],
      "text/plain": [
       "   Unnamed: 0       Age  Number of sexual partners  First sexual intercourse  \\\n",
       "0           0  0.384615                   0.000000                  0.409091   \n",
       "1           1  0.153846                   0.142857                  0.227273   \n",
       "2           2  0.307692                   0.000000                  0.636364   \n",
       "3           3  0.230769                   0.071429                  0.227273   \n",
       "4           4  0.435897                   0.000000                  0.500000   \n",
       "\n",
       "   Num of pregnancies  Smokes  Smokes (years)  Smokes (packs/year)  \\\n",
       "0               0.250     0.0        0.000000             0.000000   \n",
       "1               0.125     0.0        0.000000             0.000000   \n",
       "2               0.125     0.0        0.000000             0.000000   \n",
       "3               0.250     1.0        0.135135             0.033784   \n",
       "4               0.250     0.0        0.000000             0.000000   \n",
       "\n",
       "   Hormonal Contraceptives  Hormonal Contraceptives (years)  ...  \\\n",
       "0                      1.0                         0.014000  ...   \n",
       "1                      0.0                         0.000000  ...   \n",
       "2                      1.0                         0.002667  ...   \n",
       "3                      1.0                         0.200000  ...   \n",
       "4                      0.0                         0.000000  ...   \n",
       "\n",
       "   STDs:Hepatitis B  STDs:HPV  STDs: Number of diagnosis  Dx:Cancer  Dx:CIN  \\\n",
       "0               0.0       0.0                        0.0        0.0     0.0   \n",
       "1               0.0       0.0                        0.0        0.0     0.0   \n",
       "2               0.0       0.0                        0.0        0.0     0.0   \n",
       "3               0.0       0.0                        0.0        0.0     0.0   \n",
       "4               0.0       0.0                        0.0        0.0     0.0   \n",
       "\n",
       "    Dx  Hinselmann  Schiller  Citology  Biopsy  \n",
       "0  0.0         0.0       0.0       0.0     0.0  \n",
       "1  0.0         0.0       0.0       0.0     0.0  \n",
       "2  0.0         0.0       0.0       0.0     0.0  \n",
       "3  0.0         0.0       1.0       0.0     1.0  \n",
       "4  0.0         0.0       0.0       1.0     0.0  \n",
       "\n",
       "[5 rows x 29 columns]"
      ]
     },
     "execution_count": 541,
     "metadata": {},
     "output_type": "execute_result"
    }
   ],
   "source": [
    "train_data.head()"
   ]
  },
  {
   "cell_type": "code",
   "execution_count": 542,
   "metadata": {},
   "outputs": [],
   "source": [
    "train_data.drop(['Unnamed: 0'], axis=1, inplace=True)\n",
    "test_data.drop(['Unnamed: 0'], axis=1, inplace=True)"
   ]
  },
  {
   "cell_type": "code",
   "execution_count": 543,
   "metadata": {},
   "outputs": [
    {
     "data": {
      "text/html": [
       "<div>\n",
       "<style scoped>\n",
       "    .dataframe tbody tr th:only-of-type {\n",
       "        vertical-align: middle;\n",
       "    }\n",
       "\n",
       "    .dataframe tbody tr th {\n",
       "        vertical-align: top;\n",
       "    }\n",
       "\n",
       "    .dataframe thead th {\n",
       "        text-align: right;\n",
       "    }\n",
       "</style>\n",
       "<table border=\"1\" class=\"dataframe\">\n",
       "  <thead>\n",
       "    <tr style=\"text-align: right;\">\n",
       "      <th></th>\n",
       "      <th>Age</th>\n",
       "      <th>Number of sexual partners</th>\n",
       "      <th>First sexual intercourse</th>\n",
       "      <th>Num of pregnancies</th>\n",
       "      <th>Smokes</th>\n",
       "      <th>Smokes (years)</th>\n",
       "      <th>Smokes (packs/year)</th>\n",
       "      <th>Hormonal Contraceptives</th>\n",
       "      <th>Hormonal Contraceptives (years)</th>\n",
       "      <th>IUD</th>\n",
       "      <th>...</th>\n",
       "      <th>STDs:Hepatitis B</th>\n",
       "      <th>STDs:HPV</th>\n",
       "      <th>STDs: Number of diagnosis</th>\n",
       "      <th>Dx:Cancer</th>\n",
       "      <th>Dx:CIN</th>\n",
       "      <th>Dx</th>\n",
       "      <th>Hinselmann</th>\n",
       "      <th>Schiller</th>\n",
       "      <th>Citology</th>\n",
       "      <th>Biopsy</th>\n",
       "    </tr>\n",
       "  </thead>\n",
       "  <tbody>\n",
       "    <tr>\n",
       "      <th>0</th>\n",
       "      <td>0.384615</td>\n",
       "      <td>0.000000</td>\n",
       "      <td>0.409091</td>\n",
       "      <td>0.250</td>\n",
       "      <td>0.0</td>\n",
       "      <td>0.000000</td>\n",
       "      <td>0.000000</td>\n",
       "      <td>1.0</td>\n",
       "      <td>0.014000</td>\n",
       "      <td>0.0</td>\n",
       "      <td>...</td>\n",
       "      <td>0.0</td>\n",
       "      <td>0.0</td>\n",
       "      <td>0.0</td>\n",
       "      <td>0.0</td>\n",
       "      <td>0.0</td>\n",
       "      <td>0.0</td>\n",
       "      <td>0.0</td>\n",
       "      <td>0.0</td>\n",
       "      <td>0.0</td>\n",
       "      <td>0.0</td>\n",
       "    </tr>\n",
       "    <tr>\n",
       "      <th>1</th>\n",
       "      <td>0.153846</td>\n",
       "      <td>0.142857</td>\n",
       "      <td>0.227273</td>\n",
       "      <td>0.125</td>\n",
       "      <td>0.0</td>\n",
       "      <td>0.000000</td>\n",
       "      <td>0.000000</td>\n",
       "      <td>0.0</td>\n",
       "      <td>0.000000</td>\n",
       "      <td>0.0</td>\n",
       "      <td>...</td>\n",
       "      <td>0.0</td>\n",
       "      <td>0.0</td>\n",
       "      <td>0.0</td>\n",
       "      <td>0.0</td>\n",
       "      <td>0.0</td>\n",
       "      <td>0.0</td>\n",
       "      <td>0.0</td>\n",
       "      <td>0.0</td>\n",
       "      <td>0.0</td>\n",
       "      <td>0.0</td>\n",
       "    </tr>\n",
       "    <tr>\n",
       "      <th>2</th>\n",
       "      <td>0.307692</td>\n",
       "      <td>0.000000</td>\n",
       "      <td>0.636364</td>\n",
       "      <td>0.125</td>\n",
       "      <td>0.0</td>\n",
       "      <td>0.000000</td>\n",
       "      <td>0.000000</td>\n",
       "      <td>1.0</td>\n",
       "      <td>0.002667</td>\n",
       "      <td>0.0</td>\n",
       "      <td>...</td>\n",
       "      <td>0.0</td>\n",
       "      <td>0.0</td>\n",
       "      <td>0.0</td>\n",
       "      <td>0.0</td>\n",
       "      <td>0.0</td>\n",
       "      <td>0.0</td>\n",
       "      <td>0.0</td>\n",
       "      <td>0.0</td>\n",
       "      <td>0.0</td>\n",
       "      <td>0.0</td>\n",
       "    </tr>\n",
       "    <tr>\n",
       "      <th>3</th>\n",
       "      <td>0.230769</td>\n",
       "      <td>0.071429</td>\n",
       "      <td>0.227273</td>\n",
       "      <td>0.250</td>\n",
       "      <td>1.0</td>\n",
       "      <td>0.135135</td>\n",
       "      <td>0.033784</td>\n",
       "      <td>1.0</td>\n",
       "      <td>0.200000</td>\n",
       "      <td>0.0</td>\n",
       "      <td>...</td>\n",
       "      <td>0.0</td>\n",
       "      <td>0.0</td>\n",
       "      <td>0.0</td>\n",
       "      <td>0.0</td>\n",
       "      <td>0.0</td>\n",
       "      <td>0.0</td>\n",
       "      <td>0.0</td>\n",
       "      <td>1.0</td>\n",
       "      <td>0.0</td>\n",
       "      <td>1.0</td>\n",
       "    </tr>\n",
       "    <tr>\n",
       "      <th>4</th>\n",
       "      <td>0.435897</td>\n",
       "      <td>0.000000</td>\n",
       "      <td>0.500000</td>\n",
       "      <td>0.250</td>\n",
       "      <td>0.0</td>\n",
       "      <td>0.000000</td>\n",
       "      <td>0.000000</td>\n",
       "      <td>0.0</td>\n",
       "      <td>0.000000</td>\n",
       "      <td>1.0</td>\n",
       "      <td>...</td>\n",
       "      <td>0.0</td>\n",
       "      <td>0.0</td>\n",
       "      <td>0.0</td>\n",
       "      <td>0.0</td>\n",
       "      <td>0.0</td>\n",
       "      <td>0.0</td>\n",
       "      <td>0.0</td>\n",
       "      <td>0.0</td>\n",
       "      <td>1.0</td>\n",
       "      <td>0.0</td>\n",
       "    </tr>\n",
       "  </tbody>\n",
       "</table>\n",
       "<p>5 rows × 28 columns</p>\n",
       "</div>"
      ],
      "text/plain": [
       "        Age  Number of sexual partners  First sexual intercourse  \\\n",
       "0  0.384615                   0.000000                  0.409091   \n",
       "1  0.153846                   0.142857                  0.227273   \n",
       "2  0.307692                   0.000000                  0.636364   \n",
       "3  0.230769                   0.071429                  0.227273   \n",
       "4  0.435897                   0.000000                  0.500000   \n",
       "\n",
       "   Num of pregnancies  Smokes  Smokes (years)  Smokes (packs/year)  \\\n",
       "0               0.250     0.0        0.000000             0.000000   \n",
       "1               0.125     0.0        0.000000             0.000000   \n",
       "2               0.125     0.0        0.000000             0.000000   \n",
       "3               0.250     1.0        0.135135             0.033784   \n",
       "4               0.250     0.0        0.000000             0.000000   \n",
       "\n",
       "   Hormonal Contraceptives  Hormonal Contraceptives (years)  IUD  ...  \\\n",
       "0                      1.0                         0.014000  0.0  ...   \n",
       "1                      0.0                         0.000000  0.0  ...   \n",
       "2                      1.0                         0.002667  0.0  ...   \n",
       "3                      1.0                         0.200000  0.0  ...   \n",
       "4                      0.0                         0.000000  1.0  ...   \n",
       "\n",
       "   STDs:Hepatitis B  STDs:HPV  STDs: Number of diagnosis  Dx:Cancer  Dx:CIN  \\\n",
       "0               0.0       0.0                        0.0        0.0     0.0   \n",
       "1               0.0       0.0                        0.0        0.0     0.0   \n",
       "2               0.0       0.0                        0.0        0.0     0.0   \n",
       "3               0.0       0.0                        0.0        0.0     0.0   \n",
       "4               0.0       0.0                        0.0        0.0     0.0   \n",
       "\n",
       "    Dx  Hinselmann  Schiller  Citology  Biopsy  \n",
       "0  0.0         0.0       0.0       0.0     0.0  \n",
       "1  0.0         0.0       0.0       0.0     0.0  \n",
       "2  0.0         0.0       0.0       0.0     0.0  \n",
       "3  0.0         0.0       1.0       0.0     1.0  \n",
       "4  0.0         0.0       0.0       1.0     0.0  \n",
       "\n",
       "[5 rows x 28 columns]"
      ]
     },
     "execution_count": 543,
     "metadata": {},
     "output_type": "execute_result"
    }
   ],
   "source": [
    "train_data.head()"
   ]
  },
  {
   "cell_type": "code",
   "execution_count": 544,
   "metadata": {},
   "outputs": [],
   "source": [
    "col_names = [*train_data.columns[:]]"
   ]
  },
  {
   "cell_type": "code",
   "execution_count": 545,
   "metadata": {},
   "outputs": [],
   "source": [
    "X_train, y_train = train_data.iloc[:,:-1], train_data.iloc[:,-1]\n",
    "X_test, y_test = test_data.iloc[:,:-1], test_data.iloc[:,-1]"
   ]
  },
  {
   "cell_type": "code",
   "execution_count": 546,
   "metadata": {},
   "outputs": [],
   "source": [
    "X_test = test_data.iloc[:,:-1]\n",
    "y_test = test_data.iloc[:,-1]"
   ]
  },
  {
   "cell_type": "code",
   "execution_count": 547,
   "metadata": {},
   "outputs": [],
   "source": [
    "X_train = pd.concat([X_train, y_train], axis=1)\n",
    "X_test = pd.concat([X_test, y_test], axis=1)"
   ]
  },
  {
   "cell_type": "code",
   "execution_count": 548,
   "metadata": {},
   "outputs": [],
   "source": [
    "treeData1Median = HDTreeClassifier(\n",
    "                    # allowed_splits=[TwoQuantileRangeSplit.build()], \n",
    "                    allowed_splits=[LogisticRegressionSingleSplit.build(), TwoQuantileRangeSplit.build()], \n",
    "                    information_measure=EntropyMeasure(), \n",
    "                    attribute_names=col_names, \n",
    "                    max_levels=10,\n",
    "                    min_samples_at_leaf=1)"
   ]
  },
  {
   "cell_type": "code",
   "execution_count": 549,
   "metadata": {},
   "outputs": [
    {
     "data": {
      "text/plain": [
       "((167, 28), (167,), (666, 28), (666,))"
      ]
     },
     "execution_count": 549,
     "metadata": {},
     "output_type": "execute_result"
    }
   ],
   "source": [
    "X_test.shape, y_test.shape, X_train.shape, y_train.shape"
   ]
  },
  {
   "cell_type": "code",
   "execution_count": 550,
   "metadata": {},
   "outputs": [
    {
     "name": "stdout",
     "output_type": "stream",
     "text": [
      "0.96996996996997\n",
      "0.9520958083832335\n"
     ]
    }
   ],
   "source": [
    "treeData1Median.fit(X_train.values, y_train.values)\n",
    "print(treeData1Median.score(X_train.values, y_train.values))\n",
    "print(treeData1Median.score(X_test.values, y_test.values))"
   ]
  },
  {
   "cell_type": "code",
   "execution_count": 551,
   "metadata": {},
   "outputs": [
    {
     "data": {
      "image/svg+xml": "<?xml version=\"1.0\" encoding=\"UTF-8\" standalone=\"no\"?>\n<!DOCTYPE svg PUBLIC \"-//W3C//DTD SVG 1.1//EN\"\n \"http://www.w3.org/Graphics/SVG/1.1/DTD/svg11.dtd\">\n<!-- Generated by graphviz version 5.0.1 (20220820.1526)\n -->\n<!-- Pages: 1 -->\n<svg width=\"618pt\" height=\"593pt\"\n viewBox=\"0.00 0.00 618.00 593.00\" xmlns=\"http://www.w3.org/2000/svg\" xmlns:xlink=\"http://www.w3.org/1999/xlink\">\n<g id=\"graph0\" class=\"graph\" transform=\"scale(1 1) rotate(0) translate(4 589)\">\n<polygon fill=\"white\" stroke=\"none\" points=\"-4,4 -4,-589 614,-589 614,4 -4,4\"/>\n<!-- Head (Level 0) -->\n<g id=\"node1\" class=\"node\">\n<title>Head (Level 0)</title>\n<polygon fill=\"#5aff5a\" stroke=\"black\" stroke-width=\"10\" points=\"535.5,-585 177.5,-585 177.5,-419 535.5,-419 535.5,-585\"/>\n<text text-anchor=\"start\" x=\"199.5\" y=\"-535.8\" font-family=\"monospace\" font-size=\"14.00\">Samples: &#160;&#160;&#160;&#160;&#160;666</text>\n<text text-anchor=\"start\" x=\"199.5\" y=\"-520.8\" font-family=\"monospace\" font-size=\"14.00\">Score: &#160;&#160;&#160;&#160;&#160;&#160;&#160;0.65</text>\n<text text-anchor=\"middle\" x=\"356.5\" y=\"-505.8\" font-family=\"monospace\" font-size=\"14.00\">Test: logistic rergression on Schiller</text>\n<text text-anchor=\"start\" x=\"199.5\" y=\"-474.8\" font-family=\"monospace\" font-size=\"14.00\">0.0: 622 ✓</text>\n<text text-anchor=\"start\" x=\"199.5\" y=\"-459.8\" font-family=\"monospace\" font-size=\"14.00\">1.0: 44</text>\n<text text-anchor=\"middle\" x=\"356.5\" y=\"-444.8\" font-family=\"monospace\" font-size=\"14.00\"> </text>\n</g>\n<!-- Node #1 (Level 1) -->\n<g id=\"node2\" class=\"node\">\n<title>Node #1 (Level 1)</title>\n<polygon fill=\"#deffde\" stroke=\"black\" stroke-width=\"0.78\" points=\"399,-368 0,-368 0,-202 399,-202 399,-368\"/>\n<text text-anchor=\"start\" x=\"22\" y=\"-318.8\" font-family=\"monospace\" font-size=\"14.00\">Samples: &#160;&#160;&#160;&#160;&#160;52</text>\n<text text-anchor=\"start\" x=\"22\" y=\"-303.8\" font-family=\"monospace\" font-size=\"14.00\">Score: &#160;&#160;&#160;&#160;&#160;&#160;&#160;0.13</text>\n<text text-anchor=\"middle\" x=\"199.5\" y=\"-288.8\" font-family=\"monospace\" font-size=\"14.00\">Test: logistic rergression on STDs:syphilis</text>\n<text text-anchor=\"start\" x=\"22\" y=\"-257.8\" font-family=\"monospace\" font-size=\"14.00\">0.0: 15</text>\n<text text-anchor=\"start\" x=\"22\" y=\"-242.8\" font-family=\"monospace\" font-size=\"14.00\">1.0: 37 ✓</text>\n<text text-anchor=\"middle\" x=\"199.5\" y=\"-227.8\" font-family=\"monospace\" font-size=\"14.00\"> </text>\n</g>\n<!-- Head (Level 0)&#45;&gt;Node #1 (Level 1) -->\n<g id=\"edge1\" class=\"edge\">\n<title>Head (Level 0)&#45;&gt;Node #1 (Level 1)</title>\n<path fill=\"none\" stroke=\"black\" stroke-width=\"0.55\" d=\"M296.47,-418.8C286.34,-404.92 275.78,-390.45 265.5,-376.39\"/>\n<polygon fill=\"black\" stroke=\"black\" stroke-width=\"0.55\" points=\"268.22,-374.17 259.49,-368.16 262.56,-378.3 268.22,-374.17\"/>\n<text text-anchor=\"middle\" x=\"326.5\" y=\"-389.8\" font-family=\"Times,serif\" font-size=\"14.00\">sigmoid &lt;= 0.5</text>\n</g>\n<!-- Node #2 (Level 1) -->\n<g id=\"node3\" class=\"node\">\n<title>Node #2 (Level 1)</title>\n<polygon fill=\"#17ff17\" stroke=\"black\" stroke-width=\"9.22\" points=\"610,-360.5 417,-360.5 417,-209.5 610,-209.5 610,-360.5\"/>\n<text text-anchor=\"start\" x=\"439\" y=\"-311.3\" font-family=\"monospace\" font-size=\"14.00\">Samples: &#160;&#160;&#160;&#160;&#160;614</text>\n<text text-anchor=\"middle\" x=\"513.5\" y=\"-296.3\" font-family=\"monospace\" font-size=\"14.00\">Score: &#160;&#160;&#160;&#160;&#160;&#160;&#160;0.91</text>\n<text text-anchor=\"start\" x=\"439\" y=\"-265.3\" font-family=\"monospace\" font-size=\"14.00\">0.0: 607 ✓</text>\n<text text-anchor=\"start\" x=\"439\" y=\"-250.3\" font-family=\"monospace\" font-size=\"14.00\">1.0: 7</text>\n<text text-anchor=\"middle\" x=\"513.5\" y=\"-235.3\" font-family=\"monospace\" font-size=\"14.00\"> </text>\n</g>\n<!-- Head (Level 0)&#45;&gt;Node #2 (Level 1) -->\n<g id=\"edge2\" class=\"edge\">\n<title>Head (Level 0)&#45;&gt;Node #2 (Level 1)</title>\n<path fill=\"none\" stroke=\"black\" stroke-width=\"6.45\" d=\"M416.53,-418.8C428.4,-402.54 440.86,-385.47 452.75,-369.19\"/>\n<polygon fill=\"black\" stroke=\"black\" stroke-width=\"6.45\" points=\"457.58,-372.16 458.91,-360.75 448.46,-365.5 457.58,-372.16\"/>\n<text text-anchor=\"middle\" x=\"479.5\" y=\"-389.8\" font-family=\"Times,serif\" font-size=\"14.00\">sigmoid &gt; 0.5</text>\n</g>\n<!-- Node #3 (Level 2) -->\n<g id=\"node4\" class=\"node\">\n<title>Node #3 (Level 2)</title>\n<polygon fill=\"#d3ffd3\" stroke=\"black\" stroke-width=\"0.75\" points=\"197,-151 4,-151 4,0 197,0 197,-151\"/>\n<text text-anchor=\"start\" x=\"26\" y=\"-101.8\" font-family=\"monospace\" font-size=\"14.00\">Samples: &#160;&#160;&#160;&#160;&#160;50</text>\n<text text-anchor=\"middle\" x=\"100.5\" y=\"-86.8\" font-family=\"monospace\" font-size=\"14.00\">Score: &#160;&#160;&#160;&#160;&#160;&#160;&#160;0.17</text>\n<text text-anchor=\"start\" x=\"26\" y=\"-55.8\" font-family=\"monospace\" font-size=\"14.00\">0.0: 13</text>\n<text text-anchor=\"start\" x=\"26\" y=\"-40.8\" font-family=\"monospace\" font-size=\"14.00\">1.0: 37 ✓</text>\n<text text-anchor=\"middle\" x=\"100.5\" y=\"-25.8\" font-family=\"monospace\" font-size=\"14.00\"> </text>\n</g>\n<!-- Node #1 (Level 1)&#45;&gt;Node #3 (Level 2) -->\n<g id=\"edge3\" class=\"edge\">\n<title>Node #1 (Level 1)&#45;&gt;Node #3 (Level 2)</title>\n<path fill=\"none\" stroke=\"black\" stroke-width=\"6.73\" d=\"M160.37,-201.99C153.87,-188.37 147.12,-174.22 140.6,-160.55\"/>\n<polygon fill=\"black\" stroke=\"black\" stroke-width=\"6.73\" points=\"145.75,-157.66 136.13,-151.17 135.12,-162.74 145.75,-157.66\"/>\n<text text-anchor=\"middle\" x=\"193.5\" y=\"-172.8\" font-family=\"Times,serif\" font-size=\"14.00\">sigmoid &lt;= 0.5</text>\n</g>\n<!-- Node #4 (Level 2) -->\n<g id=\"node5\" class=\"node\">\n<title>Node #4 (Level 2)</title>\n<polygon fill=\"#00ff00\" stroke=\"black\" stroke-width=\"0.03\" points=\"383.5,-143.5 215.5,-143.5 215.5,-7.5 383.5,-7.5 383.5,-143.5\"/>\n<text text-anchor=\"start\" x=\"237.5\" y=\"-94.3\" font-family=\"monospace\" font-size=\"14.00\">Samples: &#160;&#160;&#160;&#160;&#160;2</text>\n<text text-anchor=\"middle\" x=\"299.5\" y=\"-79.3\" font-family=\"monospace\" font-size=\"14.00\">Score: &#160;&#160;&#160;&#160;&#160;&#160;&#160;1</text>\n<text text-anchor=\"start\" x=\"237.5\" y=\"-48.3\" font-family=\"monospace\" font-size=\"14.00\">0.0: 2 ✓</text>\n<text text-anchor=\"middle\" x=\"299.5\" y=\"-33.3\" font-family=\"monospace\" font-size=\"14.00\"> </text>\n</g>\n<!-- Node #1 (Level 1)&#45;&gt;Node #4 (Level 2) -->\n<g id=\"edge4\" class=\"edge\">\n<title>Node #1 (Level 1)&#45;&gt;Node #4 (Level 2)</title>\n<path fill=\"none\" stroke=\"black\" stroke-width=\"0.27\" d=\"M239.02,-201.99C246.83,-185.8 254.99,-168.86 262.7,-152.87\"/>\n<polygon fill=\"black\" stroke=\"black\" stroke-width=\"0.27\" points=\"265.99,-154.1 267.18,-143.57 259.68,-151.06 265.99,-154.1\"/>\n<text text-anchor=\"middle\" x=\"291.5\" y=\"-172.8\" font-family=\"Times,serif\" font-size=\"14.00\">sigmoid &gt; 0.5</text>\n</g>\n</g>\n</svg>\n",
      "text/plain": [
       "<graphviz.dot.Digraph at 0x7fb99dd0d670>"
      ]
     },
     "execution_count": 551,
     "metadata": {},
     "output_type": "execute_result"
    }
   ],
   "source": [
    "treeData1Median.generate_dot_graph()"
   ]
  },
  {
   "cell_type": "code",
   "execution_count": 552,
   "metadata": {},
   "outputs": [
    {
     "name": "stdout",
     "output_type": "stream",
     "text": [
      "Accuracy =  0.9520958083832335\n",
      "Macro Precision =  0.7894736842105263\n",
      "Micro Precision =  0.9520958083832335\n",
      "Weighted Precision =  0.9722659943271352\n",
      "Macro Recall =  0.9743589743589743\n",
      "Micro Recall =  0.9520958083832335\n",
      "Weighted Recall =  0.9520958083832335\n",
      "Macro F1 =  0.8535087719298247\n",
      "Micro F1 =  0.9520958083832335\n",
      "Weighted F1 =  0.9578527156213887\n",
      "\n",
      "Classification Report\n",
      "               precision    recall  f1-score   support\n",
      "\n",
      "         0.0       1.00      0.95      0.97       156\n",
      "         1.0       0.58      1.00      0.73        11\n",
      "\n",
      "    accuracy                           0.95       167\n",
      "   macro avg       0.79      0.97      0.85       167\n",
      "weighted avg       0.97      0.95      0.96       167\n",
      "\n"
     ]
    }
   ],
   "source": [
    "preds = treeData1Median.predict(X_test.values)\n",
    "preds = [float(i) for i in preds]\n",
    "runMetrics(y_test.values, preds)"
   ]
  },
  {
   "cell_type": "code",
   "execution_count": 553,
   "metadata": {},
   "outputs": [
    {
     "data": {
      "image/png": "[encoded data removed]",
      "text/plain": [
       "<Figure size 800x550 with 1 Axes>"
      ]
     },
     "metadata": {},
     "output_type": "display_data"
    },
    {
     "name": "stdout",
     "output_type": "stream",
     "text": [
      "AUC =  0.9743589743589743\n"
     ]
    }
   ],
   "source": [
    "getAucRocMetrics(y_test.values, treeData1Median.predict_proba(X_test.values)[:, 1], 1)"
   ]
  },
  {
   "cell_type": "code",
   "execution_count": 554,
   "metadata": {},
   "outputs": [],
   "source": [
    "treeData1Median = HDTreeClassifier(\n",
    "                    allowed_splits=[LogisticRegressionDoubleCategorySplit.build()], \n",
    "                    # allowed_splits=[LogisticRegressionSingleSplit.build(), TwoQuantileRangeSplit.build()], \n",
    "                    # allowed_splits=[FixedValueSplit.build(), SingleCategorySplit.build(), TwentyQuantileRangeSplit.build(), TwentyQuantileSplit.build()],\n",
    "                    information_measure=EntropyMeasure(), \n",
    "                    attribute_names=col_names, \n",
    "                    max_levels=5,\n",
    "                    min_samples_at_leaf=1)"
   ]
  },
  {
   "cell_type": "code",
   "execution_count": 555,
   "metadata": {},
   "outputs": [
    {
     "name": "stdout",
     "output_type": "stream",
     "text": [
      "0.9684684684684685\n",
      "0.9341317365269461\n"
     ]
    }
   ],
   "source": [
    "treeData1Median.fit(X_train.values, y_train.values)\n",
    "print(treeData1Median.score(X_train.values, y_train.values))\n",
    "print(treeData1Median.score(X_test.values, y_test.values))"
   ]
  },
  {
   "cell_type": "code",
   "execution_count": 556,
   "metadata": {},
   "outputs": [
    {
     "data": {
      "image/svg+xml": "<?xml version=\"1.0\" encoding=\"UTF-8\" standalone=\"no\"?>\n<!DOCTYPE svg PUBLIC \"-//W3C//DTD SVG 1.1//EN\"\n \"http://www.w3.org/Graphics/SVG/1.1/DTD/svg11.dtd\">\n<!-- Generated by graphviz version 5.0.1 (20220820.1526)\n -->\n<!-- Pages: 1 -->\n<svg width=\"1453pt\" height=\"1244pt\"\n viewBox=\"0.00 0.00 1452.50 1244.00\" xmlns=\"http://www.w3.org/2000/svg\" xmlns:xlink=\"http://www.w3.org/1999/xlink\">\n<g id=\"graph0\" class=\"graph\" transform=\"scale(1 1) rotate(0) translate(4 1240)\">\n<polygon fill=\"white\" stroke=\"none\" points=\"-4,4 -4,-1240 1448.5,-1240 1448.5,4 -4,4\"/>\n<!-- Head (Level 0) -->\n<g id=\"node1\" class=\"node\">\n<title>Head (Level 0)</title>\n<polygon fill=\"#5aff5a\" stroke=\"black\" stroke-width=\"10\" points=\"457,-1236 0,-1236 0,-1070 457,-1070 457,-1236\"/>\n<text text-anchor=\"start\" x=\"22\" y=\"-1186.8\" font-family=\"monospace\" font-size=\"14.00\">Samples: &#160;&#160;&#160;&#160;&#160;666</text>\n<text text-anchor=\"start\" x=\"22\" y=\"-1171.8\" font-family=\"monospace\" font-size=\"14.00\">Score: &#160;&#160;&#160;&#160;&#160;&#160;&#160;0.65</text>\n<text text-anchor=\"middle\" x=\"228.5\" y=\"-1156.8\" font-family=\"monospace\" font-size=\"14.00\">Test: Logistic Regression using Age and Hinselmann</text>\n<text text-anchor=\"start\" x=\"22\" y=\"-1125.8\" font-family=\"monospace\" font-size=\"14.00\">0.0: 622 ✓</text>\n<text text-anchor=\"start\" x=\"22\" y=\"-1110.8\" font-family=\"monospace\" font-size=\"14.00\">1.0: 44</text>\n<text text-anchor=\"middle\" x=\"228.5\" y=\"-1095.8\" font-family=\"monospace\" font-size=\"14.00\"> </text>\n</g>\n<!-- Node #1 (Level 1) -->\n<g id=\"node2\" class=\"node\">\n<title>Node #1 (Level 1)</title>\n<polygon fill=\"#b5ffb5\" stroke=\"black\" stroke-width=\"0.39\" points=\"271,-1011.5 78,-1011.5 78,-860.5 271,-860.5 271,-1011.5\"/>\n<text text-anchor=\"start\" x=\"100\" y=\"-962.3\" font-family=\"monospace\" font-size=\"14.00\">Samples: &#160;&#160;&#160;&#160;&#160;26</text>\n<text text-anchor=\"middle\" x=\"174.5\" y=\"-947.3\" font-family=\"monospace\" font-size=\"14.00\">Score: &#160;&#160;&#160;&#160;&#160;&#160;&#160;0.29</text>\n<text text-anchor=\"start\" x=\"100\" y=\"-916.3\" font-family=\"monospace\" font-size=\"14.00\">0.0: 5</text>\n<text text-anchor=\"start\" x=\"100\" y=\"-901.3\" font-family=\"monospace\" font-size=\"14.00\">1.0: 21 ✓</text>\n<text text-anchor=\"middle\" x=\"174.5\" y=\"-886.3\" font-family=\"monospace\" font-size=\"14.00\"> </text>\n</g>\n<!-- Head (Level 0)&#45;&gt;Node #1 (Level 1) -->\n<g id=\"edge1\" class=\"edge\">\n<title>Head (Level 0)&#45;&gt;Node #1 (Level 1)</title>\n<path fill=\"none\" stroke=\"black\" stroke-width=\"0.27\" d=\"M207.85,-1069.8C203.88,-1053.99 199.72,-1037.41 195.73,-1021.54\"/>\n<polygon fill=\"black\" stroke=\"black\" stroke-width=\"0.27\" points=\"199.11,-1020.6 193.28,-1011.75 192.32,-1022.3 199.11,-1020.6\"/>\n<text text-anchor=\"middle\" x=\"246.5\" y=\"-1040.8\" font-family=\"Times,serif\" font-size=\"14.00\">sigmoid &lt;= 0.5</text>\n</g>\n<!-- Node #2 (Level 1) -->\n<g id=\"node3\" class=\"node\">\n<title>Node #2 (Level 1)</title>\n<polygon fill=\"#39ff39\" stroke=\"black\" stroke-width=\"9.61\" points=\"754,-1019 289,-1019 289,-853 754,-853 754,-1019\"/>\n<text text-anchor=\"start\" x=\"311\" y=\"-969.8\" font-family=\"monospace\" font-size=\"14.00\">Samples: &#160;&#160;&#160;&#160;&#160;640</text>\n<text text-anchor=\"start\" x=\"311\" y=\"-954.8\" font-family=\"monospace\" font-size=\"14.00\">Score: &#160;&#160;&#160;&#160;&#160;&#160;&#160;0.78</text>\n<text text-anchor=\"middle\" x=\"521.5\" y=\"-939.8\" font-family=\"monospace\" font-size=\"14.00\">Test: Logistic Regression using Smokes and Schiller</text>\n<text text-anchor=\"start\" x=\"311\" y=\"-908.8\" font-family=\"monospace\" font-size=\"14.00\">0.0: 617 ✓</text>\n<text text-anchor=\"start\" x=\"311\" y=\"-893.8\" font-family=\"monospace\" font-size=\"14.00\">1.0: 23</text>\n<text text-anchor=\"middle\" x=\"521.5\" y=\"-878.8\" font-family=\"monospace\" font-size=\"14.00\"> </text>\n</g>\n<!-- Head (Level 0)&#45;&gt;Node #2 (Level 1) -->\n<g id=\"edge2\" class=\"edge\">\n<title>Head (Level 0)&#45;&gt;Node #2 (Level 1)</title>\n<path fill=\"none\" stroke=\"black\" stroke-width=\"6.73\" d=\"M340.52,-1069.8C360.4,-1055.21 381.18,-1039.97 401.27,-1025.22\"/>\n<polygon fill=\"black\" stroke=\"black\" stroke-width=\"6.73\" points=\"404.96,-1029.82 409.54,-1019.16 397.99,-1020.33 404.96,-1029.82\"/>\n<text text-anchor=\"middle\" x=\"423.5\" y=\"-1040.8\" font-family=\"Times,serif\" font-size=\"14.00\">sigmoid &gt; 0.5</text>\n</g>\n<!-- Node #3 (Level 2) -->\n<g id=\"node4\" class=\"node\">\n<title>Node #3 (Level 2)</title>\n<polygon fill=\"#b9ffb9\" stroke=\"black\" stroke-width=\"0.08\" points=\"502,-794.5 309,-794.5 309,-643.5 502,-643.5 502,-794.5\"/>\n<text text-anchor=\"start\" x=\"331\" y=\"-745.3\" font-family=\"monospace\" font-size=\"14.00\">Samples: &#160;&#160;&#160;&#160;&#160;5</text>\n<text text-anchor=\"middle\" x=\"405.5\" y=\"-730.3\" font-family=\"monospace\" font-size=\"14.00\">Score: &#160;&#160;&#160;&#160;&#160;&#160;&#160;0.28</text>\n<text text-anchor=\"start\" x=\"331\" y=\"-699.3\" font-family=\"monospace\" font-size=\"14.00\">0.0: 1</text>\n<text text-anchor=\"start\" x=\"331\" y=\"-684.3\" font-family=\"monospace\" font-size=\"14.00\">1.0: 4 ✓</text>\n<text text-anchor=\"middle\" x=\"405.5\" y=\"-669.3\" font-family=\"monospace\" font-size=\"14.00\"> </text>\n</g>\n<!-- Node #2 (Level 1)&#45;&gt;Node #3 (Level 2) -->\n<g id=\"edge3\" class=\"edge\">\n<title>Node #2 (Level 1)&#45;&gt;Node #3 (Level 2)</title>\n<path fill=\"none\" stroke=\"black\" stroke-width=\"0.05\" d=\"M477.15,-852.8C468.46,-836.69 459.34,-819.79 450.63,-803.64\"/>\n<polygon fill=\"black\" stroke=\"black\" stroke-width=\"0.05\" points=\"453.66,-801.89 445.83,-794.75 447.5,-805.22 453.66,-801.89\"/>\n<text text-anchor=\"middle\" x=\"510.5\" y=\"-823.8\" font-family=\"Times,serif\" font-size=\"14.00\">sigmoid &lt;= 0.5</text>\n</g>\n<!-- Node #4 (Level 2) -->\n<g id=\"node5\" class=\"node\">\n<title>Node #4 (Level 2)</title>\n<polygon fill=\"#32ff32\" stroke=\"black\" stroke-width=\"9.53\" points=\"1002.5,-802 520.5,-802 520.5,-636 1002.5,-636 1002.5,-802\"/>\n<text text-anchor=\"start\" x=\"542.5\" y=\"-752.8\" font-family=\"monospace\" font-size=\"14.00\">Samples: &#160;&#160;&#160;&#160;&#160;635</text>\n<text text-anchor=\"start\" x=\"542.5\" y=\"-737.8\" font-family=\"monospace\" font-size=\"14.00\">Score: &#160;&#160;&#160;&#160;&#160;&#160;&#160;0.81</text>\n<text text-anchor=\"middle\" x=\"761.5\" y=\"-722.8\" font-family=\"monospace\" font-size=\"14.00\">Test: Logistic Regression using STDs:HIV and Schiller</text>\n<text text-anchor=\"start\" x=\"542.5\" y=\"-691.8\" font-family=\"monospace\" font-size=\"14.00\">0.0: 616 ✓</text>\n<text text-anchor=\"start\" x=\"542.5\" y=\"-676.8\" font-family=\"monospace\" font-size=\"14.00\">1.0: 19</text>\n<text text-anchor=\"middle\" x=\"761.5\" y=\"-661.8\" font-family=\"monospace\" font-size=\"14.00\"> </text>\n</g>\n<!-- Node #2 (Level 1)&#45;&gt;Node #4 (Level 2) -->\n<g id=\"edge4\" class=\"edge\">\n<title>Node #2 (Level 1)&#45;&gt;Node #4 (Level 2)</title>\n<path fill=\"none\" stroke=\"black\" stroke-width=\"6.95\" d=\"M613.26,-852.8C629.18,-838.53 645.81,-823.64 661.92,-809.2\"/>\n<polygon fill=\"black\" stroke=\"black\" stroke-width=\"6.95\" points=\"666.4,-813.36 669.79,-802.16 658.29,-804.3 666.4,-813.36\"/>\n<text text-anchor=\"middle\" x=\"688.5\" y=\"-823.8\" font-family=\"Times,serif\" font-size=\"14.00\">sigmoid &gt; 0.5</text>\n</g>\n<!-- Node #5 (Level 3) -->\n<g id=\"node6\" class=\"node\">\n<title>Node #5 (Level 3)</title>\n<polygon fill=\"#00ff00\" stroke=\"black\" stroke-width=\"0.03\" points=\"739.5,-570 571.5,-570 571.5,-434 739.5,-434 739.5,-570\"/>\n<text text-anchor=\"start\" x=\"593.5\" y=\"-520.8\" font-family=\"monospace\" font-size=\"14.00\">Samples: &#160;&#160;&#160;&#160;&#160;2</text>\n<text text-anchor=\"middle\" x=\"655.5\" y=\"-505.8\" font-family=\"monospace\" font-size=\"14.00\">Score: &#160;&#160;&#160;&#160;&#160;&#160;&#160;1</text>\n<text text-anchor=\"start\" x=\"593.5\" y=\"-474.8\" font-family=\"monospace\" font-size=\"14.00\">1.0: 2 ✓</text>\n<text text-anchor=\"middle\" x=\"655.5\" y=\"-459.8\" font-family=\"monospace\" font-size=\"14.00\"> </text>\n</g>\n<!-- Node #4 (Level 2)&#45;&gt;Node #5 (Level 3) -->\n<g id=\"edge5\" class=\"edge\">\n<title>Node #4 (Level 2)&#45;&gt;Node #5 (Level 3)</title>\n<path fill=\"none\" stroke=\"black\" stroke-width=\"0.02\" d=\"M720.97,-635.8C711.82,-617.24 702.15,-597.61 693.12,-579.31\"/>\n<polygon fill=\"black\" stroke=\"black\" stroke-width=\"0.02\" points=\"696.17,-577.58 688.61,-570.16 689.89,-580.67 696.17,-577.58\"/>\n<text text-anchor=\"middle\" x=\"755.5\" y=\"-606.8\" font-family=\"Times,serif\" font-size=\"14.00\">sigmoid &lt;= 0.5</text>\n</g>\n<!-- Node #6 (Level 3) -->\n<g id=\"node7\" class=\"node\">\n<title>Node #6 (Level 3)</title>\n<polygon fill=\"#2eff2e\" stroke=\"black\" stroke-width=\"9.5\" points=\"1189.5,-585 757.5,-585 757.5,-419 1189.5,-419 1189.5,-585\"/>\n<text text-anchor=\"start\" x=\"779.5\" y=\"-535.8\" font-family=\"monospace\" font-size=\"14.00\">Samples: &#160;&#160;&#160;&#160;&#160;633</text>\n<text text-anchor=\"start\" x=\"779.5\" y=\"-520.8\" font-family=\"monospace\" font-size=\"14.00\">Score: &#160;&#160;&#160;&#160;&#160;&#160;&#160;0.82</text>\n<text text-anchor=\"middle\" x=\"973.5\" y=\"-505.8\" font-family=\"monospace\" font-size=\"14.00\">Test: Logistic Regression using Dx and Schiller</text>\n<text text-anchor=\"start\" x=\"779.5\" y=\"-474.8\" font-family=\"monospace\" font-size=\"14.00\">0.0: 616 ✓</text>\n<text text-anchor=\"start\" x=\"779.5\" y=\"-459.8\" font-family=\"monospace\" font-size=\"14.00\">1.0: 17</text>\n<text text-anchor=\"middle\" x=\"973.5\" y=\"-444.8\" font-family=\"monospace\" font-size=\"14.00\"> </text>\n</g>\n<!-- Node #4 (Level 2)&#45;&gt;Node #6 (Level 3) -->\n<g id=\"edge6\" class=\"edge\">\n<title>Node #4 (Level 2)&#45;&gt;Node #6 (Level 3)</title>\n<path fill=\"none\" stroke=\"black\" stroke-width=\"6.98\" d=\"M842.56,-635.8C856.49,-621.66 871.04,-606.91 885.15,-592.6\"/>\n<polygon fill=\"black\" stroke=\"black\" stroke-width=\"6.98\" points=\"889.82,-596.56 892.49,-585.16 881.12,-587.99 889.82,-596.56\"/>\n<text text-anchor=\"middle\" x=\"913.5\" y=\"-606.8\" font-family=\"Times,serif\" font-size=\"14.00\">sigmoid &gt; 0.5</text>\n</g>\n<!-- Node #7 (Level 4) -->\n<g id=\"node8\" class=\"node\">\n<title>Node #7 (Level 4)</title>\n<polygon fill=\"#00ff00\" stroke=\"black\" stroke-width=\"0.02\" points=\"944.5,-353 776.5,-353 776.5,-217 944.5,-217 944.5,-353\"/>\n<text text-anchor=\"start\" x=\"798.5\" y=\"-303.8\" font-family=\"monospace\" font-size=\"14.00\">Samples: &#160;&#160;&#160;&#160;&#160;1</text>\n<text text-anchor=\"middle\" x=\"860.5\" y=\"-288.8\" font-family=\"monospace\" font-size=\"14.00\">Score: &#160;&#160;&#160;&#160;&#160;&#160;&#160;1</text>\n<text text-anchor=\"start\" x=\"798.5\" y=\"-257.8\" font-family=\"monospace\" font-size=\"14.00\">0.0: 1 ✓</text>\n<text text-anchor=\"middle\" x=\"860.5\" y=\"-242.8\" font-family=\"monospace\" font-size=\"14.00\"> </text>\n</g>\n<!-- Node #6 (Level 3)&#45;&gt;Node #7 (Level 4) -->\n<g id=\"edge7\" class=\"edge\">\n<title>Node #6 (Level 3)&#45;&gt;Node #7 (Level 4)</title>\n<path fill=\"none\" stroke=\"black\" stroke-width=\"0.01\" d=\"M930.3,-418.8C920.5,-400.15 910.13,-380.43 900.48,-362.06\"/>\n<polygon fill=\"black\" stroke=\"black\" stroke-width=\"0.01\" points=\"903.55,-360.38 895.8,-353.16 897.35,-363.64 903.55,-360.38\"/>\n<text text-anchor=\"middle\" x=\"963.5\" y=\"-389.8\" font-family=\"Times,serif\" font-size=\"14.00\">sigmoid &lt;= 0.5</text>\n</g>\n<!-- Node #8 (Level 4) -->\n<g id=\"node9\" class=\"node\">\n<title>Node #8 (Level 4)</title>\n<polygon fill=\"#2eff2e\" stroke=\"black\" stroke-width=\"9.49\" points=\"1444.5,-368 962.5,-368 962.5,-202 1444.5,-202 1444.5,-368\"/>\n<text text-anchor=\"start\" x=\"984.5\" y=\"-318.8\" font-family=\"monospace\" font-size=\"14.00\">Samples: &#160;&#160;&#160;&#160;&#160;632</text>\n<text text-anchor=\"start\" x=\"984.5\" y=\"-303.8\" font-family=\"monospace\" font-size=\"14.00\">Score: &#160;&#160;&#160;&#160;&#160;&#160;&#160;0.82</text>\n<text text-anchor=\"middle\" x=\"1203.5\" y=\"-288.8\" font-family=\"monospace\" font-size=\"14.00\">Test: Logistic Regression using Schiller and Citology</text>\n<text text-anchor=\"start\" x=\"984.5\" y=\"-257.8\" font-family=\"monospace\" font-size=\"14.00\">0.0: 615 ✓</text>\n<text text-anchor=\"start\" x=\"984.5\" y=\"-242.8\" font-family=\"monospace\" font-size=\"14.00\">1.0: 17</text>\n<text text-anchor=\"middle\" x=\"1203.5\" y=\"-227.8\" font-family=\"monospace\" font-size=\"14.00\"> </text>\n</g>\n<!-- Node #6 (Level 3)&#45;&gt;Node #8 (Level 4) -->\n<g id=\"edge8\" class=\"edge\">\n<title>Node #6 (Level 3)&#45;&gt;Node #8 (Level 4)</title>\n<path fill=\"none\" stroke=\"black\" stroke-width=\"6.99\" d=\"M1061.44,-418.8C1076.7,-404.53 1092.63,-389.64 1108.07,-375.2\"/>\n<polygon fill=\"black\" stroke=\"black\" stroke-width=\"6.99\" points=\"1112.48,-379.45 1115.61,-368.16 1104.13,-370.52 1112.48,-379.45\"/>\n<text text-anchor=\"middle\" x=\"1134.5\" y=\"-389.8\" font-family=\"Times,serif\" font-size=\"14.00\">sigmoid &gt; 0.5</text>\n</g>\n<!-- Node #9 (Level 5) -->\n<g id=\"node10\" class=\"node\">\n<title>Node #9 (Level 5)</title>\n<polygon fill=\"#f4fff4\" stroke=\"black\" stroke-width=\"0.12\" points=\"1194,-151 1001,-151 1001,0 1194,0 1194,-151\"/>\n<text text-anchor=\"start\" x=\"1023\" y=\"-101.8\" font-family=\"monospace\" font-size=\"14.00\">Samples: &#160;&#160;&#160;&#160;&#160;8</text>\n<text text-anchor=\"middle\" x=\"1097.5\" y=\"-86.8\" font-family=\"monospace\" font-size=\"14.00\">Score: &#160;&#160;&#160;&#160;&#160;&#160;&#160;0.05</text>\n<text text-anchor=\"start\" x=\"1023\" y=\"-55.8\" font-family=\"monospace\" font-size=\"14.00\">0.0: 3</text>\n<text text-anchor=\"start\" x=\"1023\" y=\"-40.8\" font-family=\"monospace\" font-size=\"14.00\">1.0: 5 ✓</text>\n<text text-anchor=\"middle\" x=\"1097.5\" y=\"-25.8\" font-family=\"monospace\" font-size=\"14.00\"> </text>\n</g>\n<!-- Node #8 (Level 4)&#45;&gt;Node #9 (Level 5) -->\n<g id=\"edge9\" class=\"edge\">\n<title>Node #8 (Level 4)&#45;&gt;Node #9 (Level 5)</title>\n<path fill=\"none\" stroke=\"black\" stroke-width=\"0.09\" d=\"M1161.61,-201.99C1154.58,-188.24 1147.28,-173.95 1140.24,-160.16\"/>\n<polygon fill=\"black\" stroke=\"black\" stroke-width=\"0.09\" points=\"1143.31,-158.49 1135.65,-151.17 1137.08,-161.67 1143.31,-158.49\"/>\n<text text-anchor=\"middle\" x=\"1193.5\" y=\"-172.8\" font-family=\"Times,serif\" font-size=\"14.00\">sigmoid &lt;= 0.5</text>\n</g>\n<!-- Node #10 (Level 5) -->\n<g id=\"node11\" class=\"node\">\n<title>Node #10 (Level 5)</title>\n<polygon fill=\"#23ff23\" stroke=\"black\" stroke-width=\"9.37\" points=\"1405,-151 1212,-151 1212,0 1405,0 1405,-151\"/>\n<text text-anchor=\"start\" x=\"1234\" y=\"-101.8\" font-family=\"monospace\" font-size=\"14.00\">Samples: &#160;&#160;&#160;&#160;&#160;624</text>\n<text text-anchor=\"middle\" x=\"1308.5\" y=\"-86.8\" font-family=\"monospace\" font-size=\"14.00\">Score: &#160;&#160;&#160;&#160;&#160;&#160;&#160;0.86</text>\n<text text-anchor=\"start\" x=\"1234\" y=\"-55.8\" font-family=\"monospace\" font-size=\"14.00\">0.0: 612 ✓</text>\n<text text-anchor=\"start\" x=\"1234\" y=\"-40.8\" font-family=\"monospace\" font-size=\"14.00\">1.0: 12</text>\n<text text-anchor=\"middle\" x=\"1308.5\" y=\"-25.8\" font-family=\"monospace\" font-size=\"14.00\"> </text>\n</g>\n<!-- Node #8 (Level 4)&#45;&gt;Node #10 (Level 5) -->\n<g id=\"edge10\" class=\"edge\">\n<title>Node #8 (Level 4)&#45;&gt;Node #10 (Level 5)</title>\n<path fill=\"none\" stroke=\"black\" stroke-width=\"6.91\" d=\"M1245,-201.99C1251.96,-188.24 1259.19,-173.95 1266.17,-160.16\"/>\n<polygon fill=\"black\" stroke=\"black\" stroke-width=\"6.91\" points=\"1271.59,-162.83 1270.71,-151.17 1260.8,-157.37 1271.59,-162.83\"/>\n<text text-anchor=\"middle\" x=\"1297.5\" y=\"-172.8\" font-family=\"Times,serif\" font-size=\"14.00\">sigmoid &gt; 0.5</text>\n</g>\n</g>\n</svg>\n",
      "text/plain": [
       "<graphviz.dot.Digraph at 0x7fb98e3bed60>"
      ]
     },
     "execution_count": 556,
     "metadata": {},
     "output_type": "execute_result"
    }
   ],
   "source": [
    "treeData1Median.generate_dot_graph()"
   ]
  },
  {
   "cell_type": "code",
   "execution_count": 557,
   "metadata": {},
   "outputs": [
    {
     "name": "stdout",
     "output_type": "stream",
     "text": [
      "Accuracy =  0.9341317365269461\n",
      "Macro Precision =  0.7369281045751634\n",
      "Micro Precision =  0.9341317365269461\n",
      "Weighted Precision =  0.9426441235176705\n",
      "Macro Recall =  0.7957459207459208\n",
      "Micro Recall =  0.9341317365269461\n",
      "Weighted Recall =  0.9341317365269461\n",
      "Macro F1 =  0.762200647249191\n",
      "Micro F1 =  0.9341317365269461\n",
      "Weighted F1 =  0.9377640834835185\n",
      "\n",
      "Classification Report\n",
      "               precision    recall  f1-score   support\n",
      "\n",
      "         0.0       0.97      0.96      0.96       156\n",
      "         1.0       0.50      0.64      0.56        11\n",
      "\n",
      "    accuracy                           0.93       167\n",
      "   macro avg       0.74      0.80      0.76       167\n",
      "weighted avg       0.94      0.93      0.94       167\n",
      "\n"
     ]
    }
   ],
   "source": [
    "preds = treeData1Median.predict(X_test.values)\n",
    "preds = [float(i) for i in preds]\n",
    "runMetrics(y_test.values, preds)"
   ]
  },
  {
   "cell_type": "code",
   "execution_count": 558,
   "metadata": {},
   "outputs": [
    {
     "data": {
      "image/png": "[encoded data removed]",
      "text/plain": [
       "<Figure size 800x550 with 1 Axes>"
      ]
     },
     "metadata": {},
     "output_type": "display_data"
    },
    {
     "name": "stdout",
     "output_type": "stream",
     "text": [
      "AUC =  0.7485431235431236\n"
     ]
    }
   ],
   "source": [
    "getAucRocMetrics(y_test.values, treeData1Median.predict_proba(X_test.values)[:, 1], 1)"
   ]
  },
  {
   "cell_type": "markdown",
   "metadata": {},
   "source": [
    "# Dataset 2"
   ]
  },
  {
   "cell_type": "code",
   "execution_count": 614,
   "metadata": {},
   "outputs": [],
   "source": [
    "train_data = pd.read_csv('../../data/train2Ones.csv')\n",
    "test_data = pd.read_csv('../../data/test2Ones.csv')"
   ]
  },
  {
   "cell_type": "code",
   "execution_count": 615,
   "metadata": {},
   "outputs": [],
   "source": [
    "fpr = dict()\n",
    "tpr = dict()\n",
    "roc_auc = dict()"
   ]
  },
  {
   "cell_type": "code",
   "execution_count": 616,
   "metadata": {},
   "outputs": [
    {
     "data": {
      "text/html": [
       "<div>\n",
       "<style scoped>\n",
       "    .dataframe tbody tr th:only-of-type {\n",
       "        vertical-align: middle;\n",
       "    }\n",
       "\n",
       "    .dataframe tbody tr th {\n",
       "        vertical-align: top;\n",
       "    }\n",
       "\n",
       "    .dataframe thead th {\n",
       "        text-align: right;\n",
       "    }\n",
       "</style>\n",
       "<table border=\"1\" class=\"dataframe\">\n",
       "  <thead>\n",
       "    <tr style=\"text-align: right;\">\n",
       "      <th></th>\n",
       "      <th>Unnamed: 0</th>\n",
       "      <th>Unnamed: 0.1</th>\n",
       "      <th>baseline value</th>\n",
       "      <th>accelerations</th>\n",
       "      <th>fetal_movement</th>\n",
       "      <th>uterine_contractions</th>\n",
       "      <th>light_decelerations</th>\n",
       "      <th>severe_decelerations</th>\n",
       "      <th>prolongued_decelerations</th>\n",
       "      <th>abnormal_short_term_variability</th>\n",
       "      <th>...</th>\n",
       "      <th>mean_value_of_long_term_variability</th>\n",
       "      <th>histogram_width</th>\n",
       "      <th>histogram_min</th>\n",
       "      <th>histogram_max</th>\n",
       "      <th>histogram_number_of_peaks</th>\n",
       "      <th>histogram_number_of_zeroes</th>\n",
       "      <th>histogram_mode</th>\n",
       "      <th>histogram_variance</th>\n",
       "      <th>histogram_tendency</th>\n",
       "      <th>fetal_health</th>\n",
       "    </tr>\n",
       "  </thead>\n",
       "  <tbody>\n",
       "    <tr>\n",
       "      <th>0</th>\n",
       "      <td>0</td>\n",
       "      <td>0</td>\n",
       "      <td>0.555556</td>\n",
       "      <td>0.000000</td>\n",
       "      <td>0.000000</td>\n",
       "      <td>0.600000</td>\n",
       "      <td>0.000000</td>\n",
       "      <td>0.0</td>\n",
       "      <td>0.0</td>\n",
       "      <td>0.880000</td>\n",
       "      <td>...</td>\n",
       "      <td>0.156997</td>\n",
       "      <td>0.251572</td>\n",
       "      <td>0.568807</td>\n",
       "      <td>0.362637</td>\n",
       "      <td>0.222222</td>\n",
       "      <td>0.0</td>\n",
       "      <td>0.614173</td>\n",
       "      <td>0.000000</td>\n",
       "      <td>0.5</td>\n",
       "      <td>1.0</td>\n",
       "    </tr>\n",
       "    <tr>\n",
       "      <th>1</th>\n",
       "      <td>1</td>\n",
       "      <td>1</td>\n",
       "      <td>0.555556</td>\n",
       "      <td>0.210526</td>\n",
       "      <td>0.002079</td>\n",
       "      <td>0.000000</td>\n",
       "      <td>0.066667</td>\n",
       "      <td>0.0</td>\n",
       "      <td>0.0</td>\n",
       "      <td>0.760000</td>\n",
       "      <td>...</td>\n",
       "      <td>0.587031</td>\n",
       "      <td>0.773585</td>\n",
       "      <td>0.036697</td>\n",
       "      <td>0.637363</td>\n",
       "      <td>0.277778</td>\n",
       "      <td>0.0</td>\n",
       "      <td>0.629921</td>\n",
       "      <td>0.027559</td>\n",
       "      <td>1.0</td>\n",
       "      <td>1.0</td>\n",
       "    </tr>\n",
       "    <tr>\n",
       "      <th>2</th>\n",
       "      <td>2</td>\n",
       "      <td>2</td>\n",
       "      <td>0.666667</td>\n",
       "      <td>1.000000</td>\n",
       "      <td>0.176715</td>\n",
       "      <td>0.000000</td>\n",
       "      <td>0.000000</td>\n",
       "      <td>0.0</td>\n",
       "      <td>0.0</td>\n",
       "      <td>0.266667</td>\n",
       "      <td>...</td>\n",
       "      <td>0.000000</td>\n",
       "      <td>0.886792</td>\n",
       "      <td>0.055046</td>\n",
       "      <td>0.857143</td>\n",
       "      <td>0.555556</td>\n",
       "      <td>0.0</td>\n",
       "      <td>0.866142</td>\n",
       "      <td>0.145669</td>\n",
       "      <td>1.0</td>\n",
       "      <td>1.0</td>\n",
       "    </tr>\n",
       "    <tr>\n",
       "      <th>3</th>\n",
       "      <td>3</td>\n",
       "      <td>3</td>\n",
       "      <td>0.648148</td>\n",
       "      <td>0.052632</td>\n",
       "      <td>0.000000</td>\n",
       "      <td>0.333333</td>\n",
       "      <td>0.000000</td>\n",
       "      <td>0.0</td>\n",
       "      <td>0.0</td>\n",
       "      <td>0.173333</td>\n",
       "      <td>...</td>\n",
       "      <td>0.457338</td>\n",
       "      <td>0.628931</td>\n",
       "      <td>0.220183</td>\n",
       "      <td>0.604396</td>\n",
       "      <td>0.555556</td>\n",
       "      <td>0.0</td>\n",
       "      <td>0.645669</td>\n",
       "      <td>0.015748</td>\n",
       "      <td>1.0</td>\n",
       "      <td>1.0</td>\n",
       "    </tr>\n",
       "    <tr>\n",
       "      <th>4</th>\n",
       "      <td>4</td>\n",
       "      <td>4</td>\n",
       "      <td>0.740741</td>\n",
       "      <td>0.105263</td>\n",
       "      <td>0.000000</td>\n",
       "      <td>0.266667</td>\n",
       "      <td>0.266667</td>\n",
       "      <td>0.0</td>\n",
       "      <td>0.0</td>\n",
       "      <td>0.213333</td>\n",
       "      <td>...</td>\n",
       "      <td>0.228669</td>\n",
       "      <td>0.515723</td>\n",
       "      <td>0.275229</td>\n",
       "      <td>0.472527</td>\n",
       "      <td>0.277778</td>\n",
       "      <td>0.0</td>\n",
       "      <td>0.692913</td>\n",
       "      <td>0.098425</td>\n",
       "      <td>1.0</td>\n",
       "      <td>1.0</td>\n",
       "    </tr>\n",
       "  </tbody>\n",
       "</table>\n",
       "<p>5 rows × 22 columns</p>\n",
       "</div>"
      ],
      "text/plain": [
       "   Unnamed: 0  Unnamed: 0.1  baseline value  accelerations  fetal_movement  \\\n",
       "0           0             0        0.555556       0.000000        0.000000   \n",
       "1           1             1        0.555556       0.210526        0.002079   \n",
       "2           2             2        0.666667       1.000000        0.176715   \n",
       "3           3             3        0.648148       0.052632        0.000000   \n",
       "4           4             4        0.740741       0.105263        0.000000   \n",
       "\n",
       "   uterine_contractions  light_decelerations  severe_decelerations  \\\n",
       "0              0.600000             0.000000                   0.0   \n",
       "1              0.000000             0.066667                   0.0   \n",
       "2              0.000000             0.000000                   0.0   \n",
       "3              0.333333             0.000000                   0.0   \n",
       "4              0.266667             0.266667                   0.0   \n",
       "\n",
       "   prolongued_decelerations  abnormal_short_term_variability  ...  \\\n",
       "0                       0.0                         0.880000  ...   \n",
       "1                       0.0                         0.760000  ...   \n",
       "2                       0.0                         0.266667  ...   \n",
       "3                       0.0                         0.173333  ...   \n",
       "4                       0.0                         0.213333  ...   \n",
       "\n",
       "   mean_value_of_long_term_variability  histogram_width  histogram_min  \\\n",
       "0                             0.156997         0.251572       0.568807   \n",
       "1                             0.587031         0.773585       0.036697   \n",
       "2                             0.000000         0.886792       0.055046   \n",
       "3                             0.457338         0.628931       0.220183   \n",
       "4                             0.228669         0.515723       0.275229   \n",
       "\n",
       "   histogram_max  histogram_number_of_peaks  histogram_number_of_zeroes  \\\n",
       "0       0.362637                   0.222222                         0.0   \n",
       "1       0.637363                   0.277778                         0.0   \n",
       "2       0.857143                   0.555556                         0.0   \n",
       "3       0.604396                   0.555556                         0.0   \n",
       "4       0.472527                   0.277778                         0.0   \n",
       "\n",
       "   histogram_mode  histogram_variance  histogram_tendency  fetal_health  \n",
       "0        0.614173            0.000000                 0.5           1.0  \n",
       "1        0.629921            0.027559                 1.0           1.0  \n",
       "2        0.866142            0.145669                 1.0           1.0  \n",
       "3        0.645669            0.015748                 1.0           1.0  \n",
       "4        0.692913            0.098425                 1.0           1.0  \n",
       "\n",
       "[5 rows x 22 columns]"
      ]
     },
     "execution_count": 616,
     "metadata": {},
     "output_type": "execute_result"
    }
   ],
   "source": [
    "train_data.head()"
   ]
  },
  {
   "cell_type": "code",
   "execution_count": 617,
   "metadata": {},
   "outputs": [],
   "source": [
    "train_data.drop(['Unnamed: 0'], axis=1, inplace=True)\n",
    "test_data.drop(['Unnamed: 0'], axis=1, inplace=True)\n",
    "train_data.drop(['Unnamed: 0.1'], axis=1, inplace=True)\n",
    "test_data.drop(['Unnamed: 0.1'], axis=1, inplace=True)"
   ]
  },
  {
   "cell_type": "code",
   "execution_count": 618,
   "metadata": {},
   "outputs": [
    {
     "data": {
      "text/html": [
       "<div>\n",
       "<style scoped>\n",
       "    .dataframe tbody tr th:only-of-type {\n",
       "        vertical-align: middle;\n",
       "    }\n",
       "\n",
       "    .dataframe tbody tr th {\n",
       "        vertical-align: top;\n",
       "    }\n",
       "\n",
       "    .dataframe thead th {\n",
       "        text-align: right;\n",
       "    }\n",
       "</style>\n",
       "<table border=\"1\" class=\"dataframe\">\n",
       "  <thead>\n",
       "    <tr style=\"text-align: right;\">\n",
       "      <th></th>\n",
       "      <th>baseline value</th>\n",
       "      <th>accelerations</th>\n",
       "      <th>fetal_movement</th>\n",
       "      <th>uterine_contractions</th>\n",
       "      <th>light_decelerations</th>\n",
       "      <th>severe_decelerations</th>\n",
       "      <th>prolongued_decelerations</th>\n",
       "      <th>abnormal_short_term_variability</th>\n",
       "      <th>mean_value_of_short_term_variability</th>\n",
       "      <th>percentage_of_time_with_abnormal_long_term_variability</th>\n",
       "      <th>mean_value_of_long_term_variability</th>\n",
       "      <th>histogram_width</th>\n",
       "      <th>histogram_min</th>\n",
       "      <th>histogram_max</th>\n",
       "      <th>histogram_number_of_peaks</th>\n",
       "      <th>histogram_number_of_zeroes</th>\n",
       "      <th>histogram_mode</th>\n",
       "      <th>histogram_variance</th>\n",
       "      <th>histogram_tendency</th>\n",
       "      <th>fetal_health</th>\n",
       "    </tr>\n",
       "  </thead>\n",
       "  <tbody>\n",
       "    <tr>\n",
       "      <th>0</th>\n",
       "      <td>0.555556</td>\n",
       "      <td>0.000000</td>\n",
       "      <td>0.000000</td>\n",
       "      <td>0.600000</td>\n",
       "      <td>0.000000</td>\n",
       "      <td>0.0</td>\n",
       "      <td>0.0</td>\n",
       "      <td>0.880000</td>\n",
       "      <td>0.041667</td>\n",
       "      <td>0.296703</td>\n",
       "      <td>0.156997</td>\n",
       "      <td>0.251572</td>\n",
       "      <td>0.568807</td>\n",
       "      <td>0.362637</td>\n",
       "      <td>0.222222</td>\n",
       "      <td>0.0</td>\n",
       "      <td>0.614173</td>\n",
       "      <td>0.000000</td>\n",
       "      <td>0.5</td>\n",
       "      <td>1.0</td>\n",
       "    </tr>\n",
       "    <tr>\n",
       "      <th>1</th>\n",
       "      <td>0.555556</td>\n",
       "      <td>0.210526</td>\n",
       "      <td>0.002079</td>\n",
       "      <td>0.000000</td>\n",
       "      <td>0.066667</td>\n",
       "      <td>0.0</td>\n",
       "      <td>0.0</td>\n",
       "      <td>0.760000</td>\n",
       "      <td>0.125000</td>\n",
       "      <td>0.000000</td>\n",
       "      <td>0.587031</td>\n",
       "      <td>0.773585</td>\n",
       "      <td>0.036697</td>\n",
       "      <td>0.637363</td>\n",
       "      <td>0.277778</td>\n",
       "      <td>0.0</td>\n",
       "      <td>0.629921</td>\n",
       "      <td>0.027559</td>\n",
       "      <td>1.0</td>\n",
       "      <td>1.0</td>\n",
       "    </tr>\n",
       "    <tr>\n",
       "      <th>2</th>\n",
       "      <td>0.666667</td>\n",
       "      <td>1.000000</td>\n",
       "      <td>0.176715</td>\n",
       "      <td>0.000000</td>\n",
       "      <td>0.000000</td>\n",
       "      <td>0.0</td>\n",
       "      <td>0.0</td>\n",
       "      <td>0.266667</td>\n",
       "      <td>0.437500</td>\n",
       "      <td>0.000000</td>\n",
       "      <td>0.000000</td>\n",
       "      <td>0.886792</td>\n",
       "      <td>0.055046</td>\n",
       "      <td>0.857143</td>\n",
       "      <td>0.555556</td>\n",
       "      <td>0.0</td>\n",
       "      <td>0.866142</td>\n",
       "      <td>0.145669</td>\n",
       "      <td>1.0</td>\n",
       "      <td>1.0</td>\n",
       "    </tr>\n",
       "    <tr>\n",
       "      <th>3</th>\n",
       "      <td>0.648148</td>\n",
       "      <td>0.052632</td>\n",
       "      <td>0.000000</td>\n",
       "      <td>0.333333</td>\n",
       "      <td>0.000000</td>\n",
       "      <td>0.0</td>\n",
       "      <td>0.0</td>\n",
       "      <td>0.173333</td>\n",
       "      <td>0.270833</td>\n",
       "      <td>0.000000</td>\n",
       "      <td>0.457338</td>\n",
       "      <td>0.628931</td>\n",
       "      <td>0.220183</td>\n",
       "      <td>0.604396</td>\n",
       "      <td>0.555556</td>\n",
       "      <td>0.0</td>\n",
       "      <td>0.645669</td>\n",
       "      <td>0.015748</td>\n",
       "      <td>1.0</td>\n",
       "      <td>1.0</td>\n",
       "    </tr>\n",
       "    <tr>\n",
       "      <th>4</th>\n",
       "      <td>0.740741</td>\n",
       "      <td>0.105263</td>\n",
       "      <td>0.000000</td>\n",
       "      <td>0.266667</td>\n",
       "      <td>0.266667</td>\n",
       "      <td>0.0</td>\n",
       "      <td>0.0</td>\n",
       "      <td>0.213333</td>\n",
       "      <td>0.250000</td>\n",
       "      <td>0.175824</td>\n",
       "      <td>0.228669</td>\n",
       "      <td>0.515723</td>\n",
       "      <td>0.275229</td>\n",
       "      <td>0.472527</td>\n",
       "      <td>0.277778</td>\n",
       "      <td>0.0</td>\n",
       "      <td>0.692913</td>\n",
       "      <td>0.098425</td>\n",
       "      <td>1.0</td>\n",
       "      <td>1.0</td>\n",
       "    </tr>\n",
       "  </tbody>\n",
       "</table>\n",
       "</div>"
      ],
      "text/plain": [
       "   baseline value  accelerations  fetal_movement  uterine_contractions  \\\n",
       "0        0.555556       0.000000        0.000000              0.600000   \n",
       "1        0.555556       0.210526        0.002079              0.000000   \n",
       "2        0.666667       1.000000        0.176715              0.000000   \n",
       "3        0.648148       0.052632        0.000000              0.333333   \n",
       "4        0.740741       0.105263        0.000000              0.266667   \n",
       "\n",
       "   light_decelerations  severe_decelerations  prolongued_decelerations  \\\n",
       "0             0.000000                   0.0                       0.0   \n",
       "1             0.066667                   0.0                       0.0   \n",
       "2             0.000000                   0.0                       0.0   \n",
       "3             0.000000                   0.0                       0.0   \n",
       "4             0.266667                   0.0                       0.0   \n",
       "\n",
       "   abnormal_short_term_variability  mean_value_of_short_term_variability  \\\n",
       "0                         0.880000                              0.041667   \n",
       "1                         0.760000                              0.125000   \n",
       "2                         0.266667                              0.437500   \n",
       "3                         0.173333                              0.270833   \n",
       "4                         0.213333                              0.250000   \n",
       "\n",
       "   percentage_of_time_with_abnormal_long_term_variability  \\\n",
       "0                                           0.296703        \n",
       "1                                           0.000000        \n",
       "2                                           0.000000        \n",
       "3                                           0.000000        \n",
       "4                                           0.175824        \n",
       "\n",
       "   mean_value_of_long_term_variability  histogram_width  histogram_min  \\\n",
       "0                             0.156997         0.251572       0.568807   \n",
       "1                             0.587031         0.773585       0.036697   \n",
       "2                             0.000000         0.886792       0.055046   \n",
       "3                             0.457338         0.628931       0.220183   \n",
       "4                             0.228669         0.515723       0.275229   \n",
       "\n",
       "   histogram_max  histogram_number_of_peaks  histogram_number_of_zeroes  \\\n",
       "0       0.362637                   0.222222                         0.0   \n",
       "1       0.637363                   0.277778                         0.0   \n",
       "2       0.857143                   0.555556                         0.0   \n",
       "3       0.604396                   0.555556                         0.0   \n",
       "4       0.472527                   0.277778                         0.0   \n",
       "\n",
       "   histogram_mode  histogram_variance  histogram_tendency  fetal_health  \n",
       "0        0.614173            0.000000                 0.5           1.0  \n",
       "1        0.629921            0.027559                 1.0           1.0  \n",
       "2        0.866142            0.145669                 1.0           1.0  \n",
       "3        0.645669            0.015748                 1.0           1.0  \n",
       "4        0.692913            0.098425                 1.0           1.0  "
      ]
     },
     "execution_count": 618,
     "metadata": {},
     "output_type": "execute_result"
    }
   ],
   "source": [
    "train_data.head()"
   ]
  },
  {
   "cell_type": "code",
   "execution_count": 619,
   "metadata": {},
   "outputs": [],
   "source": [
    "col_names = [*train_data.columns[:]]"
   ]
  },
  {
   "cell_type": "code",
   "execution_count": 620,
   "metadata": {},
   "outputs": [],
   "source": [
    "X_train, y_train = train_data.iloc[:,:-1], train_data.iloc[:,-1]\n",
    "X_test, y_test = test_data.iloc[:,:-1], test_data.iloc[:,-1]"
   ]
  },
  {
   "cell_type": "code",
   "execution_count": 621,
   "metadata": {},
   "outputs": [],
   "source": [
    "X_test = test_data.iloc[:,:-1]\n",
    "y_test = test_data.iloc[:,-1]"
   ]
  },
  {
   "cell_type": "code",
   "execution_count": 622,
   "metadata": {},
   "outputs": [],
   "source": [
    "X_train = pd.concat([X_train, y_train], axis=1)\n",
    "X_test = pd.concat([X_test, y_test], axis=1)"
   ]
  },
  {
   "cell_type": "code",
   "execution_count": 623,
   "metadata": {},
   "outputs": [],
   "source": [
    "treeData2Ones = HDTreeClassifier(\n",
    "                    # allowed_splits=[TwoQuantileRangeSplit.build()], \n",
    "                    allowed_splits=[LogisticRegressionSingleSplit.build(), TwoQuantileRangeSplit.build()], \n",
    "                    information_measure=EntropyMeasure(), \n",
    "                    attribute_names=col_names, \n",
    "                    max_levels=5,\n",
    "                    min_samples_at_leaf=10)"
   ]
  },
  {
   "cell_type": "code",
   "execution_count": 624,
   "metadata": {},
   "outputs": [
    {
     "data": {
      "text/plain": [
       "((416, 20), (416,), (1664, 20), (1664,))"
      ]
     },
     "execution_count": 624,
     "metadata": {},
     "output_type": "execute_result"
    }
   ],
   "source": [
    "X_test.shape, y_test.shape, X_train.shape, y_train.shape"
   ]
  },
  {
   "cell_type": "code",
   "execution_count": 625,
   "metadata": {},
   "outputs": [
    {
     "name": "stdout",
     "output_type": "stream",
     "text": [
      "0.8725961538461539\n",
      "0.8774038461538461\n"
     ]
    }
   ],
   "source": [
    "treeData2Ones.fit(X_train.values, y_train.values)\n",
    "print(treeData2Ones.score(X_train.values, y_train.values))\n",
    "print(treeData2Ones.score(X_test.values, y_test.values))"
   ]
  },
  {
   "cell_type": "code",
   "execution_count": 626,
   "metadata": {},
   "outputs": [
    {
     "data": {
      "image/svg+xml": "<?xml version=\"1.0\" encoding=\"UTF-8\" standalone=\"no\"?>\n<!DOCTYPE svg PUBLIC \"-//W3C//DTD SVG 1.1//EN\"\n \"http://www.w3.org/Graphics/SVG/1.1/DTD/svg11.dtd\">\n<!-- Generated by graphviz version 5.0.1 (20220820.1526)\n -->\n<!-- Pages: 1 -->\n<svg width=\"1317pt\" height=\"810pt\"\n viewBox=\"0.00 0.00 1317.00 810.00\" xmlns=\"http://www.w3.org/2000/svg\" xmlns:xlink=\"http://www.w3.org/1999/xlink\">\n<g id=\"graph0\" class=\"graph\" transform=\"scale(1 1) rotate(0) translate(4 806)\">\n<polygon fill=\"white\" stroke=\"none\" points=\"-4,4 -4,-806 1313,-806 1313,4 -4,4\"/>\n<!-- Head (Level 0) -->\n<g id=\"node1\" class=\"node\">\n<title>Head (Level 0)</title>\n<polygon fill=\"#c2ffc2\" stroke=\"black\" stroke-width=\"10\" points=\"1135,-802 397,-802 397,-636 1135,-636 1135,-802\"/>\n<text text-anchor=\"start\" x=\"419\" y=\"-752.8\" font-family=\"monospace\" font-size=\"14.00\">Samples: &#160;&#160;&#160;&#160;&#160;1664</text>\n<text text-anchor=\"start\" x=\"419\" y=\"-737.8\" font-family=\"monospace\" font-size=\"14.00\">Score: &#160;&#160;&#160;&#160;&#160;&#160;&#160;0.24</text>\n<text text-anchor=\"middle\" x=\"766\" y=\"-722.8\" font-family=\"monospace\" font-size=\"14.00\">Test: logistic rergression on percentage_of_time_with_abnormal_long_term_variability</text>\n<text text-anchor=\"start\" x=\"419\" y=\"-691.8\" font-family=\"monospace\" font-size=\"14.00\">0.0: 365</text>\n<text text-anchor=\"start\" x=\"419\" y=\"-676.8\" font-family=\"monospace\" font-size=\"14.00\">1.0: 1299 ✓</text>\n<text text-anchor=\"middle\" x=\"766\" y=\"-661.8\" font-family=\"monospace\" font-size=\"14.00\"> </text>\n</g>\n<!-- Node #1 (Level 1) -->\n<g id=\"node2\" class=\"node\">\n<title>Node #1 (Level 1)</title>\n<polygon fill=\"#a3ffa3\" stroke=\"black\" stroke-width=\"8.95\" points=\"743,-585 253,-585 253,-419 743,-419 743,-585\"/>\n<text text-anchor=\"start\" x=\"275\" y=\"-535.8\" font-family=\"monospace\" font-size=\"14.00\">Samples: &#160;&#160;&#160;&#160;&#160;1490</text>\n<text text-anchor=\"start\" x=\"275\" y=\"-520.8\" font-family=\"monospace\" font-size=\"14.00\">Score: &#160;&#160;&#160;&#160;&#160;&#160;&#160;0.36</text>\n<text text-anchor=\"middle\" x=\"498\" y=\"-505.8\" font-family=\"monospace\" font-size=\"14.00\">Test: logistic rergression on prolongued_decelerations</text>\n<text text-anchor=\"start\" x=\"275\" y=\"-474.8\" font-family=\"monospace\" font-size=\"14.00\">0.0: 241</text>\n<text text-anchor=\"start\" x=\"275\" y=\"-459.8\" font-family=\"monospace\" font-size=\"14.00\">1.0: 1249 ✓</text>\n<text text-anchor=\"middle\" x=\"498\" y=\"-444.8\" font-family=\"monospace\" font-size=\"14.00\"> </text>\n</g>\n<!-- Head (Level 0)&#45;&gt;Node #1 (Level 1) -->\n<g id=\"edge1\" class=\"edge\">\n<title>Head (Level 0)&#45;&gt;Node #1 (Level 1)</title>\n<path fill=\"none\" stroke=\"black\" stroke-width=\"6.27\" d=\"M663.53,-635.8C645.43,-621.28 626.52,-606.1 608.21,-591.42\"/>\n<polygon fill=\"black\" stroke=\"black\" stroke-width=\"6.27\" points=\"611.64,-587.14 600.41,-585.16 604.78,-595.69 611.64,-587.14\"/>\n<text text-anchor=\"middle\" x=\"684\" y=\"-606.8\" font-family=\"Times,serif\" font-size=\"14.00\">sigmoid &lt;= 0.5</text>\n</g>\n<!-- Node #2 (Level 1) -->\n<g id=\"node3\" class=\"node\">\n<title>Node #2 (Level 1)</title>\n<polygon fill=\"#ddffdd\" stroke=\"black\" stroke-width=\"1.05\" points=\"1309,-585 761,-585 761,-419 1309,-419 1309,-585\"/>\n<text text-anchor=\"start\" x=\"783\" y=\"-535.8\" font-family=\"monospace\" font-size=\"14.00\">Samples: &#160;&#160;&#160;&#160;&#160;174</text>\n<text text-anchor=\"start\" x=\"783\" y=\"-520.8\" font-family=\"monospace\" font-size=\"14.00\">Score: &#160;&#160;&#160;&#160;&#160;&#160;&#160;0.13</text>\n<text text-anchor=\"middle\" x=\"1035\" y=\"-505.8\" font-family=\"monospace\" font-size=\"14.00\">Test: logistic rergression on abnormal_short_term_variability</text>\n<text text-anchor=\"start\" x=\"783\" y=\"-474.8\" font-family=\"monospace\" font-size=\"14.00\">0.0: 124 ✓</text>\n<text text-anchor=\"start\" x=\"783\" y=\"-459.8\" font-family=\"monospace\" font-size=\"14.00\">1.0: 50</text>\n<text text-anchor=\"middle\" x=\"1035\" y=\"-444.8\" font-family=\"monospace\" font-size=\"14.00\"> </text>\n</g>\n<!-- Head (Level 0)&#45;&gt;Node #2 (Level 1) -->\n<g id=\"edge2\" class=\"edge\">\n<title>Head (Level 0)&#45;&gt;Node #2 (Level 1)</title>\n<path fill=\"none\" stroke=\"black\" stroke-width=\"0.73\" d=\"M868.85,-635.8C887.02,-621.28 906,-606.1 924.38,-591.42\"/>\n<polygon fill=\"black\" stroke=\"black\" stroke-width=\"0.73\" points=\"926.58,-594.13 932.21,-585.16 922.21,-588.67 926.58,-594.13\"/>\n<text text-anchor=\"middle\" x=\"948\" y=\"-606.8\" font-family=\"Times,serif\" font-size=\"14.00\">sigmoid &gt; 0.5</text>\n</g>\n<!-- Node #3 (Level 2) -->\n<g id=\"node4\" class=\"node\">\n<title>Node #3 (Level 2)</title>\n<polygon fill=\"#89ff89\" stroke=\"black\" stroke-width=\"8.47\" points=\"548,-368 0,-368 0,-202 548,-202 548,-368\"/>\n<text text-anchor=\"start\" x=\"22\" y=\"-318.8\" font-family=\"monospace\" font-size=\"14.00\">Samples: &#160;&#160;&#160;&#160;&#160;1410</text>\n<text text-anchor=\"start\" x=\"22\" y=\"-303.8\" font-family=\"monospace\" font-size=\"14.00\">Score: &#160;&#160;&#160;&#160;&#160;&#160;&#160;0.46</text>\n<text text-anchor=\"middle\" x=\"274\" y=\"-288.8\" font-family=\"monospace\" font-size=\"14.00\">Test: logistic rergression on abnormal_short_term_variability</text>\n<text text-anchor=\"start\" x=\"22\" y=\"-257.8\" font-family=\"monospace\" font-size=\"14.00\">0.0: 173</text>\n<text text-anchor=\"start\" x=\"22\" y=\"-242.8\" font-family=\"monospace\" font-size=\"14.00\">1.0: 1237 ✓</text>\n<text text-anchor=\"middle\" x=\"274\" y=\"-227.8\" font-family=\"monospace\" font-size=\"14.00\"> </text>\n</g>\n<!-- Node #1 (Level 1)&#45;&gt;Node #3 (Level 2) -->\n<g id=\"edge3\" class=\"edge\">\n<title>Node #1 (Level 1)&#45;&gt;Node #3 (Level 2)</title>\n<path fill=\"none\" stroke=\"black\" stroke-width=\"6.62\" d=\"M412.36,-418.8C397.5,-404.53 381.98,-389.64 366.94,-375.2\"/>\n<polygon fill=\"black\" stroke=\"black\" stroke-width=\"6.62\" points=\"370.82,-370.9 359.6,-368.16 362.8,-379.26 370.82,-370.9\"/>\n<text text-anchor=\"middle\" x=\"436\" y=\"-389.8\" font-family=\"Times,serif\" font-size=\"14.00\">sigmoid &lt;= 0.5</text>\n</g>\n<!-- Node #4 (Level 2) -->\n<g id=\"node5\" class=\"node\">\n<title>Node #4 (Level 2)</title>\n<polygon fill=\"#9cff9c\" stroke=\"black\" stroke-width=\"0.48\" points=\"759.5,-360.5 566.5,-360.5 566.5,-209.5 759.5,-209.5 759.5,-360.5\"/>\n<text text-anchor=\"start\" x=\"588.5\" y=\"-311.3\" font-family=\"monospace\" font-size=\"14.00\">Samples: &#160;&#160;&#160;&#160;&#160;80</text>\n<text text-anchor=\"middle\" x=\"663\" y=\"-296.3\" font-family=\"monospace\" font-size=\"14.00\">Score: &#160;&#160;&#160;&#160;&#160;&#160;&#160;0.39</text>\n<text text-anchor=\"start\" x=\"588.5\" y=\"-265.3\" font-family=\"monospace\" font-size=\"14.00\">0.0: 68 ✓</text>\n<text text-anchor=\"start\" x=\"588.5\" y=\"-250.3\" font-family=\"monospace\" font-size=\"14.00\">1.0: 12</text>\n<text text-anchor=\"middle\" x=\"663\" y=\"-235.3\" font-family=\"monospace\" font-size=\"14.00\"> </text>\n</g>\n<!-- Node #1 (Level 1)&#45;&gt;Node #4 (Level 2) -->\n<g id=\"edge4\" class=\"edge\">\n<title>Node #1 (Level 1)&#45;&gt;Node #4 (Level 2)</title>\n<path fill=\"none\" stroke=\"black\" stroke-width=\"0.38\" d=\"M561.09,-418.8C573.67,-402.4 586.9,-385.16 599.5,-368.74\"/>\n<polygon fill=\"black\" stroke=\"black\" stroke-width=\"0.38\" points=\"602.32,-370.82 605.63,-360.75 596.77,-366.55 602.32,-370.82\"/>\n<text text-anchor=\"middle\" x=\"625\" y=\"-389.8\" font-family=\"Times,serif\" font-size=\"14.00\">sigmoid &gt; 0.5</text>\n</g>\n<!-- Node #5 (Level 2) -->\n<g id=\"node6\" class=\"node\">\n<title>Node #5 (Level 2)</title>\n<polygon fill=\"#00ff00\" stroke=\"black\" stroke-width=\"0.06\" points=\"1021.5,-353 844.5,-353 844.5,-217 1021.5,-217 1021.5,-353\"/>\n<text text-anchor=\"start\" x=\"866.5\" y=\"-303.8\" font-family=\"monospace\" font-size=\"14.00\">Samples: &#160;&#160;&#160;&#160;&#160;10</text>\n<text text-anchor=\"middle\" x=\"933\" y=\"-288.8\" font-family=\"monospace\" font-size=\"14.00\">Score: &#160;&#160;&#160;&#160;&#160;&#160;&#160;1</text>\n<text text-anchor=\"start\" x=\"866.5\" y=\"-257.8\" font-family=\"monospace\" font-size=\"14.00\">1.0: 10 ✓</text>\n<text text-anchor=\"middle\" x=\"933\" y=\"-242.8\" font-family=\"monospace\" font-size=\"14.00\"> </text>\n</g>\n<!-- Node #2 (Level 1)&#45;&gt;Node #5 (Level 2) -->\n<g id=\"edge5\" class=\"edge\">\n<title>Node #2 (Level 1)&#45;&gt;Node #5 (Level 2)</title>\n<path fill=\"none\" stroke=\"black\" stroke-width=\"0.4\" d=\"M996,-418.8C987.2,-400.24 977.89,-380.61 969.2,-362.31\"/>\n<polygon fill=\"black\" stroke=\"black\" stroke-width=\"0.4\" points=\"972.31,-360.69 964.86,-353.16 965.98,-363.69 972.31,-360.69\"/>\n<text text-anchor=\"middle\" x=\"1031\" y=\"-389.8\" font-family=\"Times,serif\" font-size=\"14.00\">sigmoid &lt;= 0.5</text>\n</g>\n<!-- Node #6 (Level 2) -->\n<g id=\"node7\" class=\"node\">\n<title>Node #6 (Level 2)</title>\n<polygon fill=\"#cdffcd\" stroke=\"black\" stroke-width=\"0.99\" points=\"1224.5,-360.5 1039.5,-360.5 1039.5,-209.5 1224.5,-209.5 1224.5,-360.5\"/>\n<text text-anchor=\"start\" x=\"1061.5\" y=\"-311.3\" font-family=\"monospace\" font-size=\"14.00\">Samples: &#160;&#160;&#160;&#160;&#160;164</text>\n<text text-anchor=\"middle\" x=\"1132\" y=\"-296.3\" font-family=\"monospace\" font-size=\"14.00\">Score: &#160;&#160;&#160;&#160;&#160;&#160;&#160;0.2</text>\n<text text-anchor=\"start\" x=\"1061.5\" y=\"-265.3\" font-family=\"monospace\" font-size=\"14.00\">0.0: 124 ✓</text>\n<text text-anchor=\"start\" x=\"1061.5\" y=\"-250.3\" font-family=\"monospace\" font-size=\"14.00\">1.0: 40</text>\n<text text-anchor=\"middle\" x=\"1132\" y=\"-235.3\" font-family=\"monospace\" font-size=\"14.00\"> </text>\n</g>\n<!-- Node #2 (Level 1)&#45;&gt;Node #6 (Level 2) -->\n<g id=\"edge6\" class=\"edge\">\n<title>Node #2 (Level 1)&#45;&gt;Node #6 (Level 2)</title>\n<path fill=\"none\" stroke=\"black\" stroke-width=\"6.6\" d=\"M1072.09,-418.8C1079.28,-402.84 1086.84,-386.1 1094.06,-370.09\"/>\n<polygon fill=\"black\" stroke=\"black\" stroke-width=\"6.6\" points=\"1099.42,-372.24 1098.27,-360.75 1088.9,-367.49 1099.42,-372.24\"/>\n<text text-anchor=\"middle\" x=\"1125\" y=\"-389.8\" font-family=\"Times,serif\" font-size=\"14.00\">sigmoid &gt; 0.5</text>\n</g>\n<!-- Node #7 (Level 3) -->\n<g id=\"node8\" class=\"node\">\n<title>Node #7 (Level 3)</title>\n<polygon fill=\"#7fff7f\" stroke=\"black\" stroke-width=\"8.26\" points=\"267.5,-151 74.5,-151 74.5,0 267.5,0 267.5,-151\"/>\n<text text-anchor=\"start\" x=\"96.5\" y=\"-101.8\" font-family=\"monospace\" font-size=\"14.00\">Samples: &#160;&#160;&#160;&#160;&#160;1375</text>\n<text text-anchor=\"middle\" x=\"171\" y=\"-86.8\" font-family=\"monospace\" font-size=\"14.00\">Score: &#160;&#160;&#160;&#160;&#160;&#160;&#160;0.51</text>\n<text text-anchor=\"start\" x=\"96.5\" y=\"-55.8\" font-family=\"monospace\" font-size=\"14.00\">0.0: 149</text>\n<text text-anchor=\"start\" x=\"96.5\" y=\"-40.8\" font-family=\"monospace\" font-size=\"14.00\">1.0: 1226 ✓</text>\n<text text-anchor=\"middle\" x=\"171\" y=\"-25.8\" font-family=\"monospace\" font-size=\"14.00\"> </text>\n</g>\n<!-- Node #3 (Level 2)&#45;&gt;Node #7 (Level 3) -->\n<g id=\"edge7\" class=\"edge\">\n<title>Node #3 (Level 2)&#45;&gt;Node #7 (Level 3)</title>\n<path fill=\"none\" stroke=\"black\" stroke-width=\"6.83\" d=\"M233.29,-201.99C226.46,-188.24 219.37,-173.95 212.53,-160.16\"/>\n<polygon fill=\"black\" stroke=\"black\" stroke-width=\"6.83\" points=\"217.86,-157.48 208.07,-151.17 207.16,-162.79 217.86,-157.48\"/>\n<text text-anchor=\"middle\" x=\"266\" y=\"-172.8\" font-family=\"Times,serif\" font-size=\"14.00\">sigmoid &lt;= 0.5</text>\n</g>\n<!-- Node #8 (Level 3) -->\n<g id=\"node9\" class=\"node\">\n<title>Node #8 (Level 3)</title>\n<polygon fill=\"#e6ffe6\" stroke=\"black\" stroke-width=\"0.21\" points=\"470.5,-151 285.5,-151 285.5,0 470.5,0 470.5,-151\"/>\n<text text-anchor=\"start\" x=\"307.5\" y=\"-101.8\" font-family=\"monospace\" font-size=\"14.00\">Samples: &#160;&#160;&#160;&#160;&#160;35</text>\n<text text-anchor=\"middle\" x=\"378\" y=\"-86.8\" font-family=\"monospace\" font-size=\"14.00\">Score: &#160;&#160;&#160;&#160;&#160;&#160;&#160;0.1</text>\n<text text-anchor=\"start\" x=\"307.5\" y=\"-55.8\" font-family=\"monospace\" font-size=\"14.00\">0.0: 24 ✓</text>\n<text text-anchor=\"start\" x=\"307.5\" y=\"-40.8\" font-family=\"monospace\" font-size=\"14.00\">1.0: 11</text>\n<text text-anchor=\"middle\" x=\"378\" y=\"-25.8\" font-family=\"monospace\" font-size=\"14.00\"> </text>\n</g>\n<!-- Node #3 (Level 2)&#45;&gt;Node #8 (Level 3) -->\n<g id=\"edge8\" class=\"edge\">\n<title>Node #3 (Level 2)&#45;&gt;Node #8 (Level 3)</title>\n<path fill=\"none\" stroke=\"black\" stroke-width=\"0.17\" d=\"M315.1,-201.99C322,-188.24 329.16,-173.95 336.07,-160.16\"/>\n<polygon fill=\"black\" stroke=\"black\" stroke-width=\"0.17\" points=\"339.22,-161.68 340.57,-151.17 332.96,-158.55 339.22,-161.68\"/>\n<text text-anchor=\"middle\" x=\"369\" y=\"-172.8\" font-family=\"Times,serif\" font-size=\"14.00\">sigmoid &gt; 0.5</text>\n</g>\n</g>\n</svg>\n",
      "text/plain": [
       "<graphviz.dot.Digraph at 0x7fb98eb32370>"
      ]
     },
     "execution_count": 626,
     "metadata": {},
     "output_type": "execute_result"
    }
   ],
   "source": [
    "treeData2Ones.generate_dot_graph()"
   ]
  },
  {
   "cell_type": "code",
   "execution_count": 627,
   "metadata": {},
   "outputs": [
    {
     "name": "stdout",
     "output_type": "stream",
     "text": [
      "Accuracy =  0.8774038461538461\n",
      "Macro Precision =  0.8493064920053939\n",
      "Micro Precision =  0.8774038461538461\n",
      "Weighted Precision =  0.8719716910184787\n",
      "Macro Recall =  0.7533976173007721\n",
      "Micro Recall =  0.8774038461538461\n",
      "Weighted Recall =  0.8774038461538461\n",
      "Macro F1 =  0.7870200271043517\n",
      "Micro F1 =  0.8774038461538461\n",
      "Weighted F1 =  0.8677317769566677\n",
      "\n",
      "Classification Report\n",
      "               precision    recall  f1-score   support\n",
      "\n",
      "         0.0       0.81      0.54      0.65        87\n",
      "         1.0       0.89      0.97      0.93       329\n",
      "\n",
      "    accuracy                           0.88       416\n",
      "   macro avg       0.85      0.75      0.79       416\n",
      "weighted avg       0.87      0.88      0.87       416\n",
      "\n"
     ]
    }
   ],
   "source": [
    "preds = treeData2Ones.predict(X_test.values)\n",
    "preds = [float(i) for i in preds]\n",
    "runMetrics(y_test.values, preds)"
   ]
  },
  {
   "cell_type": "code",
   "execution_count": 628,
   "metadata": {},
   "outputs": [],
   "source": [
    "onesProb = treeData2Ones.predict_proba(X_test.values)[:, 1]"
   ]
  },
  {
   "cell_type": "code",
   "execution_count": 632,
   "metadata": {},
   "outputs": [],
   "source": [
    "fpr[0], tpr[0], _ = roc_curve(y_test.values, onesProb)\n",
    "roc_auc[0] = auc(fpr[0], tpr[0])"
   ]
  },
  {
   "cell_type": "code",
   "execution_count": 633,
   "metadata": {},
   "outputs": [],
   "source": [
    "train_data = pd.read_csv('../../data/train2Twos.csv')\n",
    "test_data = pd.read_csv('../../data/test2Twos.csv')"
   ]
  },
  {
   "cell_type": "code",
   "execution_count": 634,
   "metadata": {},
   "outputs": [
    {
     "data": {
      "text/html": [
       "<div>\n",
       "<style scoped>\n",
       "    .dataframe tbody tr th:only-of-type {\n",
       "        vertical-align: middle;\n",
       "    }\n",
       "\n",
       "    .dataframe tbody tr th {\n",
       "        vertical-align: top;\n",
       "    }\n",
       "\n",
       "    .dataframe thead th {\n",
       "        text-align: right;\n",
       "    }\n",
       "</style>\n",
       "<table border=\"1\" class=\"dataframe\">\n",
       "  <thead>\n",
       "    <tr style=\"text-align: right;\">\n",
       "      <th></th>\n",
       "      <th>Unnamed: 0</th>\n",
       "      <th>Unnamed: 0.1</th>\n",
       "      <th>baseline value</th>\n",
       "      <th>accelerations</th>\n",
       "      <th>fetal_movement</th>\n",
       "      <th>uterine_contractions</th>\n",
       "      <th>light_decelerations</th>\n",
       "      <th>severe_decelerations</th>\n",
       "      <th>prolongued_decelerations</th>\n",
       "      <th>abnormal_short_term_variability</th>\n",
       "      <th>...</th>\n",
       "      <th>mean_value_of_long_term_variability</th>\n",
       "      <th>histogram_width</th>\n",
       "      <th>histogram_min</th>\n",
       "      <th>histogram_max</th>\n",
       "      <th>histogram_number_of_peaks</th>\n",
       "      <th>histogram_number_of_zeroes</th>\n",
       "      <th>histogram_mode</th>\n",
       "      <th>histogram_variance</th>\n",
       "      <th>histogram_tendency</th>\n",
       "      <th>fetal_health</th>\n",
       "    </tr>\n",
       "  </thead>\n",
       "  <tbody>\n",
       "    <tr>\n",
       "      <th>0</th>\n",
       "      <td>0</td>\n",
       "      <td>0</td>\n",
       "      <td>0.555556</td>\n",
       "      <td>0.000000</td>\n",
       "      <td>0.000000</td>\n",
       "      <td>0.600000</td>\n",
       "      <td>0.000000</td>\n",
       "      <td>0.0</td>\n",
       "      <td>0.0</td>\n",
       "      <td>0.880000</td>\n",
       "      <td>...</td>\n",
       "      <td>0.156997</td>\n",
       "      <td>0.251572</td>\n",
       "      <td>0.568807</td>\n",
       "      <td>0.362637</td>\n",
       "      <td>0.222222</td>\n",
       "      <td>0.0</td>\n",
       "      <td>0.614173</td>\n",
       "      <td>0.000000</td>\n",
       "      <td>0.5</td>\n",
       "      <td>0.0</td>\n",
       "    </tr>\n",
       "    <tr>\n",
       "      <th>1</th>\n",
       "      <td>1</td>\n",
       "      <td>1</td>\n",
       "      <td>0.555556</td>\n",
       "      <td>0.210526</td>\n",
       "      <td>0.002079</td>\n",
       "      <td>0.000000</td>\n",
       "      <td>0.066667</td>\n",
       "      <td>0.0</td>\n",
       "      <td>0.0</td>\n",
       "      <td>0.760000</td>\n",
       "      <td>...</td>\n",
       "      <td>0.587031</td>\n",
       "      <td>0.773585</td>\n",
       "      <td>0.036697</td>\n",
       "      <td>0.637363</td>\n",
       "      <td>0.277778</td>\n",
       "      <td>0.0</td>\n",
       "      <td>0.629921</td>\n",
       "      <td>0.027559</td>\n",
       "      <td>1.0</td>\n",
       "      <td>0.0</td>\n",
       "    </tr>\n",
       "    <tr>\n",
       "      <th>2</th>\n",
       "      <td>2</td>\n",
       "      <td>2</td>\n",
       "      <td>0.666667</td>\n",
       "      <td>1.000000</td>\n",
       "      <td>0.176715</td>\n",
       "      <td>0.000000</td>\n",
       "      <td>0.000000</td>\n",
       "      <td>0.0</td>\n",
       "      <td>0.0</td>\n",
       "      <td>0.266667</td>\n",
       "      <td>...</td>\n",
       "      <td>0.000000</td>\n",
       "      <td>0.886792</td>\n",
       "      <td>0.055046</td>\n",
       "      <td>0.857143</td>\n",
       "      <td>0.555556</td>\n",
       "      <td>0.0</td>\n",
       "      <td>0.866142</td>\n",
       "      <td>0.145669</td>\n",
       "      <td>1.0</td>\n",
       "      <td>0.0</td>\n",
       "    </tr>\n",
       "    <tr>\n",
       "      <th>3</th>\n",
       "      <td>3</td>\n",
       "      <td>3</td>\n",
       "      <td>0.648148</td>\n",
       "      <td>0.052632</td>\n",
       "      <td>0.000000</td>\n",
       "      <td>0.333333</td>\n",
       "      <td>0.000000</td>\n",
       "      <td>0.0</td>\n",
       "      <td>0.0</td>\n",
       "      <td>0.173333</td>\n",
       "      <td>...</td>\n",
       "      <td>0.457338</td>\n",
       "      <td>0.628931</td>\n",
       "      <td>0.220183</td>\n",
       "      <td>0.604396</td>\n",
       "      <td>0.555556</td>\n",
       "      <td>0.0</td>\n",
       "      <td>0.645669</td>\n",
       "      <td>0.015748</td>\n",
       "      <td>1.0</td>\n",
       "      <td>0.0</td>\n",
       "    </tr>\n",
       "    <tr>\n",
       "      <th>4</th>\n",
       "      <td>4</td>\n",
       "      <td>4</td>\n",
       "      <td>0.740741</td>\n",
       "      <td>0.105263</td>\n",
       "      <td>0.000000</td>\n",
       "      <td>0.266667</td>\n",
       "      <td>0.266667</td>\n",
       "      <td>0.0</td>\n",
       "      <td>0.0</td>\n",
       "      <td>0.213333</td>\n",
       "      <td>...</td>\n",
       "      <td>0.228669</td>\n",
       "      <td>0.515723</td>\n",
       "      <td>0.275229</td>\n",
       "      <td>0.472527</td>\n",
       "      <td>0.277778</td>\n",
       "      <td>0.0</td>\n",
       "      <td>0.692913</td>\n",
       "      <td>0.098425</td>\n",
       "      <td>1.0</td>\n",
       "      <td>0.0</td>\n",
       "    </tr>\n",
       "  </tbody>\n",
       "</table>\n",
       "<p>5 rows × 22 columns</p>\n",
       "</div>"
      ],
      "text/plain": [
       "   Unnamed: 0  Unnamed: 0.1  baseline value  accelerations  fetal_movement  \\\n",
       "0           0             0        0.555556       0.000000        0.000000   \n",
       "1           1             1        0.555556       0.210526        0.002079   \n",
       "2           2             2        0.666667       1.000000        0.176715   \n",
       "3           3             3        0.648148       0.052632        0.000000   \n",
       "4           4             4        0.740741       0.105263        0.000000   \n",
       "\n",
       "   uterine_contractions  light_decelerations  severe_decelerations  \\\n",
       "0              0.600000             0.000000                   0.0   \n",
       "1              0.000000             0.066667                   0.0   \n",
       "2              0.000000             0.000000                   0.0   \n",
       "3              0.333333             0.000000                   0.0   \n",
       "4              0.266667             0.266667                   0.0   \n",
       "\n",
       "   prolongued_decelerations  abnormal_short_term_variability  ...  \\\n",
       "0                       0.0                         0.880000  ...   \n",
       "1                       0.0                         0.760000  ...   \n",
       "2                       0.0                         0.266667  ...   \n",
       "3                       0.0                         0.173333  ...   \n",
       "4                       0.0                         0.213333  ...   \n",
       "\n",
       "   mean_value_of_long_term_variability  histogram_width  histogram_min  \\\n",
       "0                             0.156997         0.251572       0.568807   \n",
       "1                             0.587031         0.773585       0.036697   \n",
       "2                             0.000000         0.886792       0.055046   \n",
       "3                             0.457338         0.628931       0.220183   \n",
       "4                             0.228669         0.515723       0.275229   \n",
       "\n",
       "   histogram_max  histogram_number_of_peaks  histogram_number_of_zeroes  \\\n",
       "0       0.362637                   0.222222                         0.0   \n",
       "1       0.637363                   0.277778                         0.0   \n",
       "2       0.857143                   0.555556                         0.0   \n",
       "3       0.604396                   0.555556                         0.0   \n",
       "4       0.472527                   0.277778                         0.0   \n",
       "\n",
       "   histogram_mode  histogram_variance  histogram_tendency  fetal_health  \n",
       "0        0.614173            0.000000                 0.5           0.0  \n",
       "1        0.629921            0.027559                 1.0           0.0  \n",
       "2        0.866142            0.145669                 1.0           0.0  \n",
       "3        0.645669            0.015748                 1.0           0.0  \n",
       "4        0.692913            0.098425                 1.0           0.0  \n",
       "\n",
       "[5 rows x 22 columns]"
      ]
     },
     "execution_count": 634,
     "metadata": {},
     "output_type": "execute_result"
    }
   ],
   "source": [
    "train_data.head()"
   ]
  },
  {
   "cell_type": "code",
   "execution_count": 635,
   "metadata": {},
   "outputs": [],
   "source": [
    "train_data.drop(['Unnamed: 0'], axis=1, inplace=True)\n",
    "test_data.drop(['Unnamed: 0'], axis=1, inplace=True)\n",
    "train_data.drop(['Unnamed: 0.1'], axis=1, inplace=True)\n",
    "test_data.drop(['Unnamed: 0.1'], axis=1, inplace=True)"
   ]
  },
  {
   "cell_type": "code",
   "execution_count": 636,
   "metadata": {},
   "outputs": [
    {
     "data": {
      "text/html": [
       "<div>\n",
       "<style scoped>\n",
       "    .dataframe tbody tr th:only-of-type {\n",
       "        vertical-align: middle;\n",
       "    }\n",
       "\n",
       "    .dataframe tbody tr th {\n",
       "        vertical-align: top;\n",
       "    }\n",
       "\n",
       "    .dataframe thead th {\n",
       "        text-align: right;\n",
       "    }\n",
       "</style>\n",
       "<table border=\"1\" class=\"dataframe\">\n",
       "  <thead>\n",
       "    <tr style=\"text-align: right;\">\n",
       "      <th></th>\n",
       "      <th>baseline value</th>\n",
       "      <th>accelerations</th>\n",
       "      <th>fetal_movement</th>\n",
       "      <th>uterine_contractions</th>\n",
       "      <th>light_decelerations</th>\n",
       "      <th>severe_decelerations</th>\n",
       "      <th>prolongued_decelerations</th>\n",
       "      <th>abnormal_short_term_variability</th>\n",
       "      <th>mean_value_of_short_term_variability</th>\n",
       "      <th>percentage_of_time_with_abnormal_long_term_variability</th>\n",
       "      <th>mean_value_of_long_term_variability</th>\n",
       "      <th>histogram_width</th>\n",
       "      <th>histogram_min</th>\n",
       "      <th>histogram_max</th>\n",
       "      <th>histogram_number_of_peaks</th>\n",
       "      <th>histogram_number_of_zeroes</th>\n",
       "      <th>histogram_mode</th>\n",
       "      <th>histogram_variance</th>\n",
       "      <th>histogram_tendency</th>\n",
       "      <th>fetal_health</th>\n",
       "    </tr>\n",
       "  </thead>\n",
       "  <tbody>\n",
       "    <tr>\n",
       "      <th>0</th>\n",
       "      <td>0.555556</td>\n",
       "      <td>0.000000</td>\n",
       "      <td>0.000000</td>\n",
       "      <td>0.600000</td>\n",
       "      <td>0.000000</td>\n",
       "      <td>0.0</td>\n",
       "      <td>0.0</td>\n",
       "      <td>0.880000</td>\n",
       "      <td>0.041667</td>\n",
       "      <td>0.296703</td>\n",
       "      <td>0.156997</td>\n",
       "      <td>0.251572</td>\n",
       "      <td>0.568807</td>\n",
       "      <td>0.362637</td>\n",
       "      <td>0.222222</td>\n",
       "      <td>0.0</td>\n",
       "      <td>0.614173</td>\n",
       "      <td>0.000000</td>\n",
       "      <td>0.5</td>\n",
       "      <td>0.0</td>\n",
       "    </tr>\n",
       "    <tr>\n",
       "      <th>1</th>\n",
       "      <td>0.555556</td>\n",
       "      <td>0.210526</td>\n",
       "      <td>0.002079</td>\n",
       "      <td>0.000000</td>\n",
       "      <td>0.066667</td>\n",
       "      <td>0.0</td>\n",
       "      <td>0.0</td>\n",
       "      <td>0.760000</td>\n",
       "      <td>0.125000</td>\n",
       "      <td>0.000000</td>\n",
       "      <td>0.587031</td>\n",
       "      <td>0.773585</td>\n",
       "      <td>0.036697</td>\n",
       "      <td>0.637363</td>\n",
       "      <td>0.277778</td>\n",
       "      <td>0.0</td>\n",
       "      <td>0.629921</td>\n",
       "      <td>0.027559</td>\n",
       "      <td>1.0</td>\n",
       "      <td>0.0</td>\n",
       "    </tr>\n",
       "    <tr>\n",
       "      <th>2</th>\n",
       "      <td>0.666667</td>\n",
       "      <td>1.000000</td>\n",
       "      <td>0.176715</td>\n",
       "      <td>0.000000</td>\n",
       "      <td>0.000000</td>\n",
       "      <td>0.0</td>\n",
       "      <td>0.0</td>\n",
       "      <td>0.266667</td>\n",
       "      <td>0.437500</td>\n",
       "      <td>0.000000</td>\n",
       "      <td>0.000000</td>\n",
       "      <td>0.886792</td>\n",
       "      <td>0.055046</td>\n",
       "      <td>0.857143</td>\n",
       "      <td>0.555556</td>\n",
       "      <td>0.0</td>\n",
       "      <td>0.866142</td>\n",
       "      <td>0.145669</td>\n",
       "      <td>1.0</td>\n",
       "      <td>0.0</td>\n",
       "    </tr>\n",
       "    <tr>\n",
       "      <th>3</th>\n",
       "      <td>0.648148</td>\n",
       "      <td>0.052632</td>\n",
       "      <td>0.000000</td>\n",
       "      <td>0.333333</td>\n",
       "      <td>0.000000</td>\n",
       "      <td>0.0</td>\n",
       "      <td>0.0</td>\n",
       "      <td>0.173333</td>\n",
       "      <td>0.270833</td>\n",
       "      <td>0.000000</td>\n",
       "      <td>0.457338</td>\n",
       "      <td>0.628931</td>\n",
       "      <td>0.220183</td>\n",
       "      <td>0.604396</td>\n",
       "      <td>0.555556</td>\n",
       "      <td>0.0</td>\n",
       "      <td>0.645669</td>\n",
       "      <td>0.015748</td>\n",
       "      <td>1.0</td>\n",
       "      <td>0.0</td>\n",
       "    </tr>\n",
       "    <tr>\n",
       "      <th>4</th>\n",
       "      <td>0.740741</td>\n",
       "      <td>0.105263</td>\n",
       "      <td>0.000000</td>\n",
       "      <td>0.266667</td>\n",
       "      <td>0.266667</td>\n",
       "      <td>0.0</td>\n",
       "      <td>0.0</td>\n",
       "      <td>0.213333</td>\n",
       "      <td>0.250000</td>\n",
       "      <td>0.175824</td>\n",
       "      <td>0.228669</td>\n",
       "      <td>0.515723</td>\n",
       "      <td>0.275229</td>\n",
       "      <td>0.472527</td>\n",
       "      <td>0.277778</td>\n",
       "      <td>0.0</td>\n",
       "      <td>0.692913</td>\n",
       "      <td>0.098425</td>\n",
       "      <td>1.0</td>\n",
       "      <td>0.0</td>\n",
       "    </tr>\n",
       "  </tbody>\n",
       "</table>\n",
       "</div>"
      ],
      "text/plain": [
       "   baseline value  accelerations  fetal_movement  uterine_contractions  \\\n",
       "0        0.555556       0.000000        0.000000              0.600000   \n",
       "1        0.555556       0.210526        0.002079              0.000000   \n",
       "2        0.666667       1.000000        0.176715              0.000000   \n",
       "3        0.648148       0.052632        0.000000              0.333333   \n",
       "4        0.740741       0.105263        0.000000              0.266667   \n",
       "\n",
       "   light_decelerations  severe_decelerations  prolongued_decelerations  \\\n",
       "0             0.000000                   0.0                       0.0   \n",
       "1             0.066667                   0.0                       0.0   \n",
       "2             0.000000                   0.0                       0.0   \n",
       "3             0.000000                   0.0                       0.0   \n",
       "4             0.266667                   0.0                       0.0   \n",
       "\n",
       "   abnormal_short_term_variability  mean_value_of_short_term_variability  \\\n",
       "0                         0.880000                              0.041667   \n",
       "1                         0.760000                              0.125000   \n",
       "2                         0.266667                              0.437500   \n",
       "3                         0.173333                              0.270833   \n",
       "4                         0.213333                              0.250000   \n",
       "\n",
       "   percentage_of_time_with_abnormal_long_term_variability  \\\n",
       "0                                           0.296703        \n",
       "1                                           0.000000        \n",
       "2                                           0.000000        \n",
       "3                                           0.000000        \n",
       "4                                           0.175824        \n",
       "\n",
       "   mean_value_of_long_term_variability  histogram_width  histogram_min  \\\n",
       "0                             0.156997         0.251572       0.568807   \n",
       "1                             0.587031         0.773585       0.036697   \n",
       "2                             0.000000         0.886792       0.055046   \n",
       "3                             0.457338         0.628931       0.220183   \n",
       "4                             0.228669         0.515723       0.275229   \n",
       "\n",
       "   histogram_max  histogram_number_of_peaks  histogram_number_of_zeroes  \\\n",
       "0       0.362637                   0.222222                         0.0   \n",
       "1       0.637363                   0.277778                         0.0   \n",
       "2       0.857143                   0.555556                         0.0   \n",
       "3       0.604396                   0.555556                         0.0   \n",
       "4       0.472527                   0.277778                         0.0   \n",
       "\n",
       "   histogram_mode  histogram_variance  histogram_tendency  fetal_health  \n",
       "0        0.614173            0.000000                 0.5           0.0  \n",
       "1        0.629921            0.027559                 1.0           0.0  \n",
       "2        0.866142            0.145669                 1.0           0.0  \n",
       "3        0.645669            0.015748                 1.0           0.0  \n",
       "4        0.692913            0.098425                 1.0           0.0  "
      ]
     },
     "execution_count": 636,
     "metadata": {},
     "output_type": "execute_result"
    }
   ],
   "source": [
    "train_data.head()"
   ]
  },
  {
   "cell_type": "code",
   "execution_count": 637,
   "metadata": {},
   "outputs": [],
   "source": [
    "col_names = [*train_data.columns[:]]"
   ]
  },
  {
   "cell_type": "code",
   "execution_count": 638,
   "metadata": {},
   "outputs": [],
   "source": [
    "X_train, y_train = train_data.iloc[:,:-1], train_data.iloc[:,-1]\n",
    "X_test, y_test = test_data.iloc[:,:-1], test_data.iloc[:,-1]"
   ]
  },
  {
   "cell_type": "code",
   "execution_count": 639,
   "metadata": {},
   "outputs": [],
   "source": [
    "X_test = test_data.iloc[:,:-1]\n",
    "y_test = test_data.iloc[:,-1]"
   ]
  },
  {
   "cell_type": "code",
   "execution_count": 640,
   "metadata": {},
   "outputs": [],
   "source": [
    "X_train = pd.concat([X_train, y_train], axis=1)\n",
    "X_test = pd.concat([X_test, y_test], axis=1)"
   ]
  },
  {
   "cell_type": "code",
   "execution_count": 641,
   "metadata": {},
   "outputs": [],
   "source": [
    "treeData2Twos = HDTreeClassifier(\n",
    "                    # allowed_splits=[TwoQuantileRangeSplit.build()], \n",
    "                    allowed_splits=[LogisticRegressionSingleSplit.build(), TwoQuantileRangeSplit.build()], \n",
    "                    information_measure=EntropyMeasure(), \n",
    "                    attribute_names=col_names, \n",
    "                    max_levels=5,\n",
    "                    min_samples_at_leaf=10)"
   ]
  },
  {
   "cell_type": "code",
   "execution_count": 642,
   "metadata": {},
   "outputs": [
    {
     "data": {
      "text/plain": [
       "((416, 20), (416,), (1664, 20), (1664,))"
      ]
     },
     "execution_count": 642,
     "metadata": {},
     "output_type": "execute_result"
    }
   ],
   "source": [
    "X_test.shape, y_test.shape, X_train.shape, y_train.shape"
   ]
  },
  {
   "cell_type": "code",
   "execution_count": 643,
   "metadata": {},
   "outputs": [
    {
     "name": "stdout",
     "output_type": "stream",
     "text": [
      "0.8804086538461539\n",
      "0.8918269230769231\n"
     ]
    }
   ],
   "source": [
    "treeData2Twos.fit(X_train.values, y_train.values)\n",
    "print(treeData2Twos.score(X_train.values, y_train.values))\n",
    "print(treeData2Twos.score(X_test.values, y_test.values))"
   ]
  },
  {
   "cell_type": "code",
   "execution_count": 644,
   "metadata": {},
   "outputs": [
    {
     "data": {
      "image/svg+xml": "<?xml version=\"1.0\" encoding=\"UTF-8\" standalone=\"no\"?>\n<!DOCTYPE svg PUBLIC \"-//W3C//DTD SVG 1.1//EN\"\n \"http://www.w3.org/Graphics/SVG/1.1/DTD/svg11.dtd\">\n<!-- Generated by graphviz version 5.0.1 (20220820.1526)\n -->\n<!-- Pages: 1 -->\n<svg width=\"1771pt\" height=\"810pt\"\n viewBox=\"0.00 0.00 1770.50 810.00\" xmlns=\"http://www.w3.org/2000/svg\" xmlns:xlink=\"http://www.w3.org/1999/xlink\">\n<g id=\"graph0\" class=\"graph\" transform=\"scale(1 1) rotate(0) translate(4 806)\">\n<polygon fill=\"white\" stroke=\"none\" points=\"-4,4 -4,-806 1766.5,-806 1766.5,4 -4,4\"/>\n<!-- Head (Level 0) -->\n<g id=\"node1\" class=\"node\">\n<title>Head (Level 0)</title>\n<polygon fill=\"#95ff95\" stroke=\"black\" stroke-width=\"10\" points=\"892.5,-802 154.5,-802 154.5,-636 892.5,-636 892.5,-802\"/>\n<text text-anchor=\"start\" x=\"176.5\" y=\"-752.8\" font-family=\"monospace\" font-size=\"14.00\">Samples: &#160;&#160;&#160;&#160;&#160;1664</text>\n<text text-anchor=\"start\" x=\"176.5\" y=\"-737.8\" font-family=\"monospace\" font-size=\"14.00\">Score: &#160;&#160;&#160;&#160;&#160;&#160;&#160;0.42</text>\n<text text-anchor=\"middle\" x=\"523.5\" y=\"-722.8\" font-family=\"monospace\" font-size=\"14.00\">Test: logistic rergression on percentage_of_time_with_abnormal_long_term_variability</text>\n<text text-anchor=\"start\" x=\"176.5\" y=\"-691.8\" font-family=\"monospace\" font-size=\"14.00\">0.0: 1431 ✓</text>\n<text text-anchor=\"start\" x=\"176.5\" y=\"-676.8\" font-family=\"monospace\" font-size=\"14.00\">2.0: 233</text>\n<text text-anchor=\"middle\" x=\"523.5\" y=\"-661.8\" font-family=\"monospace\" font-size=\"14.00\"> </text>\n</g>\n<!-- Node #1 (Level 1) -->\n<g id=\"node2\" class=\"node\">\n<title>Node #1 (Level 1)</title>\n<polygon fill=\"#f9fff9\" stroke=\"black\" stroke-width=\"0.5\" points=\"441,-585 0,-585 0,-419 441,-419 441,-585\"/>\n<text text-anchor=\"start\" x=\"22\" y=\"-535.8\" font-family=\"monospace\" font-size=\"14.00\">Samples: &#160;&#160;&#160;&#160;&#160;84</text>\n<text text-anchor=\"start\" x=\"22\" y=\"-520.8\" font-family=\"monospace\" font-size=\"14.00\">Score: &#160;&#160;&#160;&#160;&#160;&#160;&#160;0.03</text>\n<text text-anchor=\"middle\" x=\"220.5\" y=\"-505.8\" font-family=\"monospace\" font-size=\"14.00\">Test: logistic rergression on histogram_tendency</text>\n<text text-anchor=\"start\" x=\"22\" y=\"-474.8\" font-family=\"monospace\" font-size=\"14.00\">0.0: 50 ✓</text>\n<text text-anchor=\"start\" x=\"22\" y=\"-459.8\" font-family=\"monospace\" font-size=\"14.00\">2.0: 34</text>\n<text text-anchor=\"middle\" x=\"220.5\" y=\"-444.8\" font-family=\"monospace\" font-size=\"14.00\"> </text>\n</g>\n<!-- Head (Level 0)&#45;&gt;Node #1 (Level 1) -->\n<g id=\"edge1\" class=\"edge\">\n<title>Head (Level 0)&#45;&gt;Node #1 (Level 1)</title>\n<path fill=\"none\" stroke=\"black\" stroke-width=\"0.35\" d=\"M407.65,-635.8C387,-621.15 365.42,-605.83 344.55,-591.02\"/>\n<polygon fill=\"black\" stroke=\"black\" stroke-width=\"0.35\" points=\"346.46,-588.09 336.28,-585.16 342.41,-593.8 346.46,-588.09\"/>\n<text text-anchor=\"middle\" x=\"424.5\" y=\"-606.8\" font-family=\"Times,serif\" font-size=\"14.00\">sigmoid &lt;= 0.5</text>\n</g>\n<!-- Node #2 (Level 1) -->\n<g id=\"node3\" class=\"node\">\n<title>Node #2 (Level 1)</title>\n<polygon fill=\"#8cff8c\" stroke=\"black\" stroke-width=\"9.5\" points=\"1197.5,-585 459.5,-585 459.5,-419 1197.5,-419 1197.5,-585\"/>\n<text text-anchor=\"start\" x=\"481.5\" y=\"-535.8\" font-family=\"monospace\" font-size=\"14.00\">Samples: &#160;&#160;&#160;&#160;&#160;1580</text>\n<text text-anchor=\"start\" x=\"481.5\" y=\"-520.8\" font-family=\"monospace\" font-size=\"14.00\">Score: &#160;&#160;&#160;&#160;&#160;&#160;&#160;0.45</text>\n<text text-anchor=\"middle\" x=\"828.5\" y=\"-505.8\" font-family=\"monospace\" font-size=\"14.00\">Test: logistic rergression on percentage_of_time_with_abnormal_long_term_variability</text>\n<text text-anchor=\"start\" x=\"481.5\" y=\"-474.8\" font-family=\"monospace\" font-size=\"14.00\">0.0: 1381 ✓</text>\n<text text-anchor=\"start\" x=\"481.5\" y=\"-459.8\" font-family=\"monospace\" font-size=\"14.00\">2.0: 199</text>\n<text text-anchor=\"middle\" x=\"828.5\" y=\"-444.8\" font-family=\"monospace\" font-size=\"14.00\"> </text>\n</g>\n<!-- Head (Level 0)&#45;&gt;Node #2 (Level 1) -->\n<g id=\"edge2\" class=\"edge\">\n<title>Head (Level 0)&#45;&gt;Node #2 (Level 1)</title>\n<path fill=\"none\" stroke=\"black\" stroke-width=\"6.65\" d=\"M640.11,-635.8C660.9,-621.15 682.63,-605.83 703.63,-591.02\"/>\n<polygon fill=\"black\" stroke=\"black\" stroke-width=\"6.65\" points=\"707.13,-595.67 711.95,-585.16 700.43,-586.17 707.13,-595.67\"/>\n<text text-anchor=\"middle\" x=\"724.5\" y=\"-606.8\" font-family=\"Times,serif\" font-size=\"14.00\">sigmoid &gt; 0.5</text>\n</g>\n<!-- Node #3 (Level 2) -->\n<g id=\"node4\" class=\"node\">\n<title>Node #3 (Level 2)</title>\n<polygon fill=\"#fbfffb\" stroke=\"black\" stroke-width=\"0.24\" points=\"202,-360.5 9,-360.5 9,-209.5 202,-209.5 202,-360.5\"/>\n<text text-anchor=\"start\" x=\"31\" y=\"-311.3\" font-family=\"monospace\" font-size=\"14.00\">Samples: &#160;&#160;&#160;&#160;&#160;40</text>\n<text text-anchor=\"middle\" x=\"105.5\" y=\"-296.3\" font-family=\"monospace\" font-size=\"14.00\">Score: &#160;&#160;&#160;&#160;&#160;&#160;&#160;0.02</text>\n<text text-anchor=\"start\" x=\"31\" y=\"-265.3\" font-family=\"monospace\" font-size=\"14.00\">0.0: 17</text>\n<text text-anchor=\"start\" x=\"31\" y=\"-250.3\" font-family=\"monospace\" font-size=\"14.00\">2.0: 23 ✓</text>\n<text text-anchor=\"middle\" x=\"105.5\" y=\"-235.3\" font-family=\"monospace\" font-size=\"14.00\"> </text>\n</g>\n<!-- Node #1 (Level 1)&#45;&gt;Node #3 (Level 2) -->\n<g id=\"edge3\" class=\"edge\">\n<title>Node #1 (Level 1)&#45;&gt;Node #3 (Level 2)</title>\n<path fill=\"none\" stroke=\"black\" stroke-width=\"3.33\" d=\"M176.53,-418.8C167.92,-402.69 158.87,-385.79 150.24,-369.64\"/>\n<polygon fill=\"black\" stroke=\"black\" stroke-width=\"3.33\" points=\"153.29,-367.92 145.48,-360.75 147.11,-371.22 153.29,-367.92\"/>\n<text text-anchor=\"middle\" x=\"209.5\" y=\"-389.8\" font-family=\"Times,serif\" font-size=\"14.00\">sigmoid &lt;= 0.5</text>\n</g>\n<!-- Node #4 (Level 2) -->\n<g id=\"node5\" class=\"node\">\n<title>Node #4 (Level 2)</title>\n<polygon fill=\"#cfffcf\" stroke=\"black\" stroke-width=\"0.26\" points=\"413,-360.5 220,-360.5 220,-209.5 413,-209.5 413,-360.5\"/>\n<text text-anchor=\"start\" x=\"242\" y=\"-311.3\" font-family=\"monospace\" font-size=\"14.00\">Samples: &#160;&#160;&#160;&#160;&#160;44</text>\n<text text-anchor=\"middle\" x=\"316.5\" y=\"-296.3\" font-family=\"monospace\" font-size=\"14.00\">Score: &#160;&#160;&#160;&#160;&#160;&#160;&#160;0.19</text>\n<text text-anchor=\"start\" x=\"242\" y=\"-265.3\" font-family=\"monospace\" font-size=\"14.00\">0.0: 33 ✓</text>\n<text text-anchor=\"start\" x=\"242\" y=\"-250.3\" font-family=\"monospace\" font-size=\"14.00\">2.0: 11</text>\n<text text-anchor=\"middle\" x=\"316.5\" y=\"-235.3\" font-family=\"monospace\" font-size=\"14.00\"> </text>\n</g>\n<!-- Node #1 (Level 1)&#45;&gt;Node #4 (Level 2) -->\n<g id=\"edge4\" class=\"edge\">\n<title>Node #1 (Level 1)&#45;&gt;Node #4 (Level 2)</title>\n<path fill=\"none\" stroke=\"black\" stroke-width=\"3.67\" d=\"M257.2,-418.8C264.33,-402.84 271.8,-386.1 278.95,-370.09\"/>\n<polygon fill=\"black\" stroke=\"black\" stroke-width=\"3.67\" points=\"282.24,-371.31 283.12,-360.75 275.85,-368.46 282.24,-371.31\"/>\n<text text-anchor=\"middle\" x=\"310.5\" y=\"-389.8\" font-family=\"Times,serif\" font-size=\"14.00\">sigmoid &gt; 0.5</text>\n</g>\n<!-- Node #5 (Level 2) -->\n<g id=\"node6\" class=\"node\">\n<title>Node #5 (Level 2)</title>\n<polygon fill=\"#f8fff8\" stroke=\"black\" stroke-width=\"0.41\" points=\"1006.5,-368 458.5,-368 458.5,-202 1006.5,-202 1006.5,-368\"/>\n<text text-anchor=\"start\" x=\"480.5\" y=\"-318.8\" font-family=\"monospace\" font-size=\"14.00\">Samples: &#160;&#160;&#160;&#160;&#160;68</text>\n<text text-anchor=\"start\" x=\"480.5\" y=\"-303.8\" font-family=\"monospace\" font-size=\"14.00\">Score: &#160;&#160;&#160;&#160;&#160;&#160;&#160;0.03</text>\n<text text-anchor=\"middle\" x=\"732.5\" y=\"-288.8\" font-family=\"monospace\" font-size=\"14.00\">Test: logistic rergression on abnormal_short_term_variability</text>\n<text text-anchor=\"start\" x=\"480.5\" y=\"-257.8\" font-family=\"monospace\" font-size=\"14.00\">0.0: 27</text>\n<text text-anchor=\"start\" x=\"480.5\" y=\"-242.8\" font-family=\"monospace\" font-size=\"14.00\">2.0: 41 ✓</text>\n<text text-anchor=\"middle\" x=\"732.5\" y=\"-227.8\" font-family=\"monospace\" font-size=\"14.00\"> </text>\n</g>\n<!-- Node #2 (Level 1)&#45;&gt;Node #5 (Level 2) -->\n<g id=\"edge5\" class=\"edge\">\n<title>Node #2 (Level 1)&#45;&gt;Node #5 (Level 2)</title>\n<path fill=\"none\" stroke=\"black\" stroke-width=\"0.3\" d=\"M791.8,-418.8C785.77,-405.31 779.5,-391.27 773.39,-377.57\"/>\n<polygon fill=\"black\" stroke=\"black\" stroke-width=\"0.3\" points=\"776.46,-375.86 769.18,-368.16 770.07,-378.72 776.46,-375.86\"/>\n<text text-anchor=\"middle\" x=\"826.5\" y=\"-389.8\" font-family=\"Times,serif\" font-size=\"14.00\">sigmoid &lt;= 0.5</text>\n</g>\n<!-- Node #6 (Level 2) -->\n<g id=\"node7\" class=\"node\">\n<title>Node #6 (Level 2)</title>\n<polygon fill=\"#7cff7c\" stroke=\"black\" stroke-width=\"9.09\" points=\"1762.5,-368 1024.5,-368 1024.5,-202 1762.5,-202 1762.5,-368\"/>\n<text text-anchor=\"start\" x=\"1046.5\" y=\"-318.8\" font-family=\"monospace\" font-size=\"14.00\">Samples: &#160;&#160;&#160;&#160;&#160;1512</text>\n<text text-anchor=\"start\" x=\"1046.5\" y=\"-303.8\" font-family=\"monospace\" font-size=\"14.00\">Score: &#160;&#160;&#160;&#160;&#160;&#160;&#160;0.52</text>\n<text text-anchor=\"middle\" x=\"1393.5\" y=\"-288.8\" font-family=\"monospace\" font-size=\"14.00\">Test: logistic rergression on percentage_of_time_with_abnormal_long_term_variability</text>\n<text text-anchor=\"start\" x=\"1046.5\" y=\"-257.8\" font-family=\"monospace\" font-size=\"14.00\">0.0: 1354 ✓</text>\n<text text-anchor=\"start\" x=\"1046.5\" y=\"-242.8\" font-family=\"monospace\" font-size=\"14.00\">2.0: 158</text>\n<text text-anchor=\"middle\" x=\"1393.5\" y=\"-227.8\" font-family=\"monospace\" font-size=\"14.00\"> </text>\n</g>\n<!-- Node #2 (Level 1)&#45;&gt;Node #6 (Level 2) -->\n<g id=\"edge6\" class=\"edge\">\n<title>Node #2 (Level 1)&#45;&gt;Node #6 (Level 2)</title>\n<path fill=\"none\" stroke=\"black\" stroke-width=\"6.7\" d=\"M1044.12,-418.95C1084.75,-403.49 1127.33,-387.29 1168.24,-371.72\"/>\n<polygon fill=\"black\" stroke=\"black\" stroke-width=\"6.7\" points=\"1170.51,-377.13 1177.77,-368.09 1166.34,-366.17 1170.51,-377.13\"/>\n<text text-anchor=\"middle\" x=\"1167.5\" y=\"-389.8\" font-family=\"Times,serif\" font-size=\"14.00\">sigmoid &gt; 0.5</text>\n</g>\n<!-- Node #7 (Level 3) -->\n<g id=\"node8\" class=\"node\">\n<title>Node #7 (Level 3)</title>\n<polygon fill=\"#d6ffd6\" stroke=\"black\" stroke-width=\"0.34\" points=\"727,-151 534,-151 534,0 727,0 727,-151\"/>\n<text text-anchor=\"start\" x=\"556\" y=\"-101.8\" font-family=\"monospace\" font-size=\"14.00\">Samples: &#160;&#160;&#160;&#160;&#160;56</text>\n<text text-anchor=\"middle\" x=\"630.5\" y=\"-86.8\" font-family=\"monospace\" font-size=\"14.00\">Score: &#160;&#160;&#160;&#160;&#160;&#160;&#160;0.16</text>\n<text text-anchor=\"start\" x=\"556\" y=\"-55.8\" font-family=\"monospace\" font-size=\"14.00\">0.0: 15</text>\n<text text-anchor=\"start\" x=\"556\" y=\"-40.8\" font-family=\"monospace\" font-size=\"14.00\">2.0: 41 ✓</text>\n<text text-anchor=\"middle\" x=\"630.5\" y=\"-25.8\" font-family=\"monospace\" font-size=\"14.00\"> </text>\n</g>\n<!-- Node #5 (Level 2)&#45;&gt;Node #7 (Level 3) -->\n<g id=\"edge7\" class=\"edge\">\n<title>Node #5 (Level 2)&#45;&gt;Node #7 (Level 3)</title>\n<path fill=\"none\" stroke=\"black\" stroke-width=\"5.76\" d=\"M692.19,-201.99C685.43,-188.24 678.4,-173.95 671.62,-160.16\"/>\n<polygon fill=\"black\" stroke=\"black\" stroke-width=\"5.76\" points=\"676.15,-157.92 667.21,-151.17 667.09,-162.37 676.15,-157.92\"/>\n<text text-anchor=\"middle\" x=\"724.5\" y=\"-172.8\" font-family=\"Times,serif\" font-size=\"14.00\">sigmoid &lt;= 0.5</text>\n</g>\n<!-- Node #8 (Level 3) -->\n<g id=\"node9\" class=\"node\">\n<title>Node #8 (Level 3)</title>\n<polygon fill=\"#00ff00\" stroke=\"black\" stroke-width=\"0.07\" points=\"922,-143.5 745,-143.5 745,-7.5 922,-7.5 922,-143.5\"/>\n<text text-anchor=\"start\" x=\"767\" y=\"-94.3\" font-family=\"monospace\" font-size=\"14.00\">Samples: &#160;&#160;&#160;&#160;&#160;12</text>\n<text text-anchor=\"middle\" x=\"833.5\" y=\"-79.3\" font-family=\"monospace\" font-size=\"14.00\">Score: &#160;&#160;&#160;&#160;&#160;&#160;&#160;1</text>\n<text text-anchor=\"start\" x=\"767\" y=\"-48.3\" font-family=\"monospace\" font-size=\"14.00\">0.0: 12 ✓</text>\n<text text-anchor=\"middle\" x=\"833.5\" y=\"-33.3\" font-family=\"monospace\" font-size=\"14.00\"> </text>\n</g>\n<!-- Node #5 (Level 2)&#45;&gt;Node #8 (Level 3) -->\n<g id=\"edge8\" class=\"edge\">\n<title>Node #5 (Level 2)&#45;&gt;Node #8 (Level 3)</title>\n<path fill=\"none\" stroke=\"black\" stroke-width=\"1.24\" d=\"M772.42,-201.99C780.3,-185.8 788.54,-168.86 796.33,-152.87\"/>\n<polygon fill=\"black\" stroke=\"black\" stroke-width=\"1.24\" points=\"799.62,-154.09 800.85,-143.57 793.33,-151.03 799.62,-154.09\"/>\n<text text-anchor=\"middle\" x=\"825.5\" y=\"-172.8\" font-family=\"Times,serif\" font-size=\"14.00\">sigmoid &gt; 0.5</text>\n</g>\n<!-- Node #9 (Level 3) -->\n<g id=\"node10\" class=\"node\">\n<title>Node #9 (Level 3)</title>\n<polygon fill=\"#fcfffc\" stroke=\"black\" stroke-width=\"0.08\" points=\"1384,-151 1191,-151 1191,0 1384,0 1384,-151\"/>\n<text text-anchor=\"start\" x=\"1213\" y=\"-101.8\" font-family=\"monospace\" font-size=\"14.00\">Samples: &#160;&#160;&#160;&#160;&#160;14</text>\n<text text-anchor=\"middle\" x=\"1287.5\" y=\"-86.8\" font-family=\"monospace\" font-size=\"14.00\">Score: &#160;&#160;&#160;&#160;&#160;&#160;&#160;0.01</text>\n<text text-anchor=\"start\" x=\"1213\" y=\"-55.8\" font-family=\"monospace\" font-size=\"14.00\">0.0: 6</text>\n<text text-anchor=\"start\" x=\"1213\" y=\"-40.8\" font-family=\"monospace\" font-size=\"14.00\">2.0: 8 ✓</text>\n<text text-anchor=\"middle\" x=\"1287.5\" y=\"-25.8\" font-family=\"monospace\" font-size=\"14.00\"> </text>\n</g>\n<!-- Node #6 (Level 2)&#45;&gt;Node #9 (Level 3) -->\n<g id=\"edge9\" class=\"edge\">\n<title>Node #6 (Level 2)&#45;&gt;Node #9 (Level 3)</title>\n<path fill=\"none\" stroke=\"black\" stroke-width=\"0.06\" d=\"M1351.61,-201.99C1344.58,-188.24 1337.28,-173.95 1330.24,-160.16\"/>\n<polygon fill=\"black\" stroke=\"black\" stroke-width=\"0.06\" points=\"1333.31,-158.49 1325.65,-151.17 1327.08,-161.67 1333.31,-158.49\"/>\n<text text-anchor=\"middle\" x=\"1383.5\" y=\"-172.8\" font-family=\"Times,serif\" font-size=\"14.00\">sigmoid &lt;= 0.5</text>\n</g>\n<!-- Node #10 (Level 3) -->\n<g id=\"node11\" class=\"node\">\n<title>Node #10 (Level 3)</title>\n<polygon fill=\"#78ff78\" stroke=\"black\" stroke-width=\"9\" points=\"1595,-151 1402,-151 1402,0 1595,0 1595,-151\"/>\n<text text-anchor=\"start\" x=\"1424\" y=\"-101.8\" font-family=\"monospace\" font-size=\"14.00\">Samples: &#160;&#160;&#160;&#160;&#160;1498</text>\n<text text-anchor=\"middle\" x=\"1498.5\" y=\"-86.8\" font-family=\"monospace\" font-size=\"14.00\">Score: &#160;&#160;&#160;&#160;&#160;&#160;&#160;0.53</text>\n<text text-anchor=\"start\" x=\"1424\" y=\"-55.8\" font-family=\"monospace\" font-size=\"14.00\">0.0: 1348 ✓</text>\n<text text-anchor=\"start\" x=\"1424\" y=\"-40.8\" font-family=\"monospace\" font-size=\"14.00\">2.0: 150</text>\n<text text-anchor=\"middle\" x=\"1498.5\" y=\"-25.8\" font-family=\"monospace\" font-size=\"14.00\"> </text>\n</g>\n<!-- Node #6 (Level 2)&#45;&gt;Node #10 (Level 3) -->\n<g id=\"edge10\" class=\"edge\">\n<title>Node #6 (Level 2)&#45;&gt;Node #10 (Level 3)</title>\n<path fill=\"none\" stroke=\"black\" stroke-width=\"6.94\" d=\"M1435,-201.99C1441.96,-188.24 1449.19,-173.95 1456.17,-160.16\"/>\n<polygon fill=\"black\" stroke=\"black\" stroke-width=\"6.94\" points=\"1461.61,-162.84 1460.71,-151.17 1450.78,-157.36 1461.61,-162.84\"/>\n<text text-anchor=\"middle\" x=\"1487.5\" y=\"-172.8\" font-family=\"Times,serif\" font-size=\"14.00\">sigmoid &gt; 0.5</text>\n</g>\n</g>\n</svg>\n",
      "text/plain": [
       "<graphviz.dot.Digraph at 0x7fb9920eb6d0>"
      ]
     },
     "execution_count": 644,
     "metadata": {},
     "output_type": "execute_result"
    }
   ],
   "source": [
    "treeData2Twos.generate_dot_graph()"
   ]
  },
  {
   "cell_type": "code",
   "execution_count": 645,
   "metadata": {},
   "outputs": [
    {
     "name": "stdout",
     "output_type": "stream",
     "text": [
      "Accuracy =  0.8918269230769231\n",
      "Macro Precision =  0.7698276682852518\n",
      "Micro Precision =  0.8918269230769231\n",
      "Weighted Precision =  0.8749761972769685\n",
      "Macro Recall =  0.6497252747252747\n",
      "Micro Recall =  0.8918269230769231\n",
      "Weighted Recall =  0.8918269230769231\n",
      "Macro F1 =  0.6853093953300721\n",
      "Micro F1 =  0.8918269230769231\n",
      "Weighted F1 =  0.8765066317010438\n",
      "\n",
      "Classification Report\n",
      "               precision    recall  f1-score   support\n",
      "\n",
      "         0.0       0.91      0.97      0.94       364\n",
      "         2.0       0.63      0.33      0.43        52\n",
      "\n",
      "    accuracy                           0.89       416\n",
      "   macro avg       0.77      0.65      0.69       416\n",
      "weighted avg       0.87      0.89      0.88       416\n",
      "\n"
     ]
    }
   ],
   "source": [
    "preds = treeData2Twos.predict(X_test.values)\n",
    "preds = [float(i) for i in preds]\n",
    "runMetrics(y_test.values, preds)"
   ]
  },
  {
   "cell_type": "code",
   "execution_count": 646,
   "metadata": {},
   "outputs": [],
   "source": [
    "twosProb = treeData2Twos.predict_proba(X_test.values)[:, 1]"
   ]
  },
  {
   "cell_type": "code",
   "execution_count": 648,
   "metadata": {},
   "outputs": [],
   "source": [
    "fpr[1], tpr[1], _ = roc_curve(y_test.values, twosProb, pos_label=2)\n",
    "roc_auc[1] = auc(fpr[1], tpr[1])"
   ]
  },
  {
   "cell_type": "code",
   "execution_count": 649,
   "metadata": {},
   "outputs": [],
   "source": [
    "train_data = pd.read_csv('../../data/train2Threes.csv')\n",
    "test_data = pd.read_csv('../../data/test2Threes.csv')"
   ]
  },
  {
   "cell_type": "code",
   "execution_count": 650,
   "metadata": {},
   "outputs": [
    {
     "data": {
      "text/html": [
       "<div>\n",
       "<style scoped>\n",
       "    .dataframe tbody tr th:only-of-type {\n",
       "        vertical-align: middle;\n",
       "    }\n",
       "\n",
       "    .dataframe tbody tr th {\n",
       "        vertical-align: top;\n",
       "    }\n",
       "\n",
       "    .dataframe thead th {\n",
       "        text-align: right;\n",
       "    }\n",
       "</style>\n",
       "<table border=\"1\" class=\"dataframe\">\n",
       "  <thead>\n",
       "    <tr style=\"text-align: right;\">\n",
       "      <th></th>\n",
       "      <th>Unnamed: 0</th>\n",
       "      <th>Unnamed: 0.1</th>\n",
       "      <th>baseline value</th>\n",
       "      <th>accelerations</th>\n",
       "      <th>fetal_movement</th>\n",
       "      <th>uterine_contractions</th>\n",
       "      <th>light_decelerations</th>\n",
       "      <th>severe_decelerations</th>\n",
       "      <th>prolongued_decelerations</th>\n",
       "      <th>abnormal_short_term_variability</th>\n",
       "      <th>...</th>\n",
       "      <th>mean_value_of_long_term_variability</th>\n",
       "      <th>histogram_width</th>\n",
       "      <th>histogram_min</th>\n",
       "      <th>histogram_max</th>\n",
       "      <th>histogram_number_of_peaks</th>\n",
       "      <th>histogram_number_of_zeroes</th>\n",
       "      <th>histogram_mode</th>\n",
       "      <th>histogram_variance</th>\n",
       "      <th>histogram_tendency</th>\n",
       "      <th>fetal_health</th>\n",
       "    </tr>\n",
       "  </thead>\n",
       "  <tbody>\n",
       "    <tr>\n",
       "      <th>0</th>\n",
       "      <td>0</td>\n",
       "      <td>0</td>\n",
       "      <td>0.555556</td>\n",
       "      <td>0.000000</td>\n",
       "      <td>0.000000</td>\n",
       "      <td>0.600000</td>\n",
       "      <td>0.000000</td>\n",
       "      <td>0.0</td>\n",
       "      <td>0.0</td>\n",
       "      <td>0.880000</td>\n",
       "      <td>...</td>\n",
       "      <td>0.156997</td>\n",
       "      <td>0.251572</td>\n",
       "      <td>0.568807</td>\n",
       "      <td>0.362637</td>\n",
       "      <td>0.222222</td>\n",
       "      <td>0.0</td>\n",
       "      <td>0.614173</td>\n",
       "      <td>0.000000</td>\n",
       "      <td>0.5</td>\n",
       "      <td>0.0</td>\n",
       "    </tr>\n",
       "    <tr>\n",
       "      <th>1</th>\n",
       "      <td>1</td>\n",
       "      <td>1</td>\n",
       "      <td>0.555556</td>\n",
       "      <td>0.210526</td>\n",
       "      <td>0.002079</td>\n",
       "      <td>0.000000</td>\n",
       "      <td>0.066667</td>\n",
       "      <td>0.0</td>\n",
       "      <td>0.0</td>\n",
       "      <td>0.760000</td>\n",
       "      <td>...</td>\n",
       "      <td>0.587031</td>\n",
       "      <td>0.773585</td>\n",
       "      <td>0.036697</td>\n",
       "      <td>0.637363</td>\n",
       "      <td>0.277778</td>\n",
       "      <td>0.0</td>\n",
       "      <td>0.629921</td>\n",
       "      <td>0.027559</td>\n",
       "      <td>1.0</td>\n",
       "      <td>0.0</td>\n",
       "    </tr>\n",
       "    <tr>\n",
       "      <th>2</th>\n",
       "      <td>2</td>\n",
       "      <td>2</td>\n",
       "      <td>0.666667</td>\n",
       "      <td>1.000000</td>\n",
       "      <td>0.176715</td>\n",
       "      <td>0.000000</td>\n",
       "      <td>0.000000</td>\n",
       "      <td>0.0</td>\n",
       "      <td>0.0</td>\n",
       "      <td>0.266667</td>\n",
       "      <td>...</td>\n",
       "      <td>0.000000</td>\n",
       "      <td>0.886792</td>\n",
       "      <td>0.055046</td>\n",
       "      <td>0.857143</td>\n",
       "      <td>0.555556</td>\n",
       "      <td>0.0</td>\n",
       "      <td>0.866142</td>\n",
       "      <td>0.145669</td>\n",
       "      <td>1.0</td>\n",
       "      <td>0.0</td>\n",
       "    </tr>\n",
       "    <tr>\n",
       "      <th>3</th>\n",
       "      <td>3</td>\n",
       "      <td>3</td>\n",
       "      <td>0.648148</td>\n",
       "      <td>0.052632</td>\n",
       "      <td>0.000000</td>\n",
       "      <td>0.333333</td>\n",
       "      <td>0.000000</td>\n",
       "      <td>0.0</td>\n",
       "      <td>0.0</td>\n",
       "      <td>0.173333</td>\n",
       "      <td>...</td>\n",
       "      <td>0.457338</td>\n",
       "      <td>0.628931</td>\n",
       "      <td>0.220183</td>\n",
       "      <td>0.604396</td>\n",
       "      <td>0.555556</td>\n",
       "      <td>0.0</td>\n",
       "      <td>0.645669</td>\n",
       "      <td>0.015748</td>\n",
       "      <td>1.0</td>\n",
       "      <td>0.0</td>\n",
       "    </tr>\n",
       "    <tr>\n",
       "      <th>4</th>\n",
       "      <td>4</td>\n",
       "      <td>4</td>\n",
       "      <td>0.740741</td>\n",
       "      <td>0.105263</td>\n",
       "      <td>0.000000</td>\n",
       "      <td>0.266667</td>\n",
       "      <td>0.266667</td>\n",
       "      <td>0.0</td>\n",
       "      <td>0.0</td>\n",
       "      <td>0.213333</td>\n",
       "      <td>...</td>\n",
       "      <td>0.228669</td>\n",
       "      <td>0.515723</td>\n",
       "      <td>0.275229</td>\n",
       "      <td>0.472527</td>\n",
       "      <td>0.277778</td>\n",
       "      <td>0.0</td>\n",
       "      <td>0.692913</td>\n",
       "      <td>0.098425</td>\n",
       "      <td>1.0</td>\n",
       "      <td>0.0</td>\n",
       "    </tr>\n",
       "  </tbody>\n",
       "</table>\n",
       "<p>5 rows × 22 columns</p>\n",
       "</div>"
      ],
      "text/plain": [
       "   Unnamed: 0  Unnamed: 0.1  baseline value  accelerations  fetal_movement  \\\n",
       "0           0             0        0.555556       0.000000        0.000000   \n",
       "1           1             1        0.555556       0.210526        0.002079   \n",
       "2           2             2        0.666667       1.000000        0.176715   \n",
       "3           3             3        0.648148       0.052632        0.000000   \n",
       "4           4             4        0.740741       0.105263        0.000000   \n",
       "\n",
       "   uterine_contractions  light_decelerations  severe_decelerations  \\\n",
       "0              0.600000             0.000000                   0.0   \n",
       "1              0.000000             0.066667                   0.0   \n",
       "2              0.000000             0.000000                   0.0   \n",
       "3              0.333333             0.000000                   0.0   \n",
       "4              0.266667             0.266667                   0.0   \n",
       "\n",
       "   prolongued_decelerations  abnormal_short_term_variability  ...  \\\n",
       "0                       0.0                         0.880000  ...   \n",
       "1                       0.0                         0.760000  ...   \n",
       "2                       0.0                         0.266667  ...   \n",
       "3                       0.0                         0.173333  ...   \n",
       "4                       0.0                         0.213333  ...   \n",
       "\n",
       "   mean_value_of_long_term_variability  histogram_width  histogram_min  \\\n",
       "0                             0.156997         0.251572       0.568807   \n",
       "1                             0.587031         0.773585       0.036697   \n",
       "2                             0.000000         0.886792       0.055046   \n",
       "3                             0.457338         0.628931       0.220183   \n",
       "4                             0.228669         0.515723       0.275229   \n",
       "\n",
       "   histogram_max  histogram_number_of_peaks  histogram_number_of_zeroes  \\\n",
       "0       0.362637                   0.222222                         0.0   \n",
       "1       0.637363                   0.277778                         0.0   \n",
       "2       0.857143                   0.555556                         0.0   \n",
       "3       0.604396                   0.555556                         0.0   \n",
       "4       0.472527                   0.277778                         0.0   \n",
       "\n",
       "   histogram_mode  histogram_variance  histogram_tendency  fetal_health  \n",
       "0        0.614173            0.000000                 0.5           0.0  \n",
       "1        0.629921            0.027559                 1.0           0.0  \n",
       "2        0.866142            0.145669                 1.0           0.0  \n",
       "3        0.645669            0.015748                 1.0           0.0  \n",
       "4        0.692913            0.098425                 1.0           0.0  \n",
       "\n",
       "[5 rows x 22 columns]"
      ]
     },
     "execution_count": 650,
     "metadata": {},
     "output_type": "execute_result"
    }
   ],
   "source": [
    "train_data.head()"
   ]
  },
  {
   "cell_type": "code",
   "execution_count": 651,
   "metadata": {},
   "outputs": [],
   "source": [
    "train_data.drop(['Unnamed: 0'], axis=1, inplace=True)\n",
    "test_data.drop(['Unnamed: 0'], axis=1, inplace=True)\n",
    "train_data.drop(['Unnamed: 0.1'], axis=1, inplace=True)\n",
    "test_data.drop(['Unnamed: 0.1'], axis=1, inplace=True)"
   ]
  },
  {
   "cell_type": "code",
   "execution_count": 652,
   "metadata": {},
   "outputs": [
    {
     "data": {
      "text/html": [
       "<div>\n",
       "<style scoped>\n",
       "    .dataframe tbody tr th:only-of-type {\n",
       "        vertical-align: middle;\n",
       "    }\n",
       "\n",
       "    .dataframe tbody tr th {\n",
       "        vertical-align: top;\n",
       "    }\n",
       "\n",
       "    .dataframe thead th {\n",
       "        text-align: right;\n",
       "    }\n",
       "</style>\n",
       "<table border=\"1\" class=\"dataframe\">\n",
       "  <thead>\n",
       "    <tr style=\"text-align: right;\">\n",
       "      <th></th>\n",
       "      <th>baseline value</th>\n",
       "      <th>accelerations</th>\n",
       "      <th>fetal_movement</th>\n",
       "      <th>uterine_contractions</th>\n",
       "      <th>light_decelerations</th>\n",
       "      <th>severe_decelerations</th>\n",
       "      <th>prolongued_decelerations</th>\n",
       "      <th>abnormal_short_term_variability</th>\n",
       "      <th>mean_value_of_short_term_variability</th>\n",
       "      <th>percentage_of_time_with_abnormal_long_term_variability</th>\n",
       "      <th>mean_value_of_long_term_variability</th>\n",
       "      <th>histogram_width</th>\n",
       "      <th>histogram_min</th>\n",
       "      <th>histogram_max</th>\n",
       "      <th>histogram_number_of_peaks</th>\n",
       "      <th>histogram_number_of_zeroes</th>\n",
       "      <th>histogram_mode</th>\n",
       "      <th>histogram_variance</th>\n",
       "      <th>histogram_tendency</th>\n",
       "      <th>fetal_health</th>\n",
       "    </tr>\n",
       "  </thead>\n",
       "  <tbody>\n",
       "    <tr>\n",
       "      <th>0</th>\n",
       "      <td>0.555556</td>\n",
       "      <td>0.000000</td>\n",
       "      <td>0.000000</td>\n",
       "      <td>0.600000</td>\n",
       "      <td>0.000000</td>\n",
       "      <td>0.0</td>\n",
       "      <td>0.0</td>\n",
       "      <td>0.880000</td>\n",
       "      <td>0.041667</td>\n",
       "      <td>0.296703</td>\n",
       "      <td>0.156997</td>\n",
       "      <td>0.251572</td>\n",
       "      <td>0.568807</td>\n",
       "      <td>0.362637</td>\n",
       "      <td>0.222222</td>\n",
       "      <td>0.0</td>\n",
       "      <td>0.614173</td>\n",
       "      <td>0.000000</td>\n",
       "      <td>0.5</td>\n",
       "      <td>0.0</td>\n",
       "    </tr>\n",
       "    <tr>\n",
       "      <th>1</th>\n",
       "      <td>0.555556</td>\n",
       "      <td>0.210526</td>\n",
       "      <td>0.002079</td>\n",
       "      <td>0.000000</td>\n",
       "      <td>0.066667</td>\n",
       "      <td>0.0</td>\n",
       "      <td>0.0</td>\n",
       "      <td>0.760000</td>\n",
       "      <td>0.125000</td>\n",
       "      <td>0.000000</td>\n",
       "      <td>0.587031</td>\n",
       "      <td>0.773585</td>\n",
       "      <td>0.036697</td>\n",
       "      <td>0.637363</td>\n",
       "      <td>0.277778</td>\n",
       "      <td>0.0</td>\n",
       "      <td>0.629921</td>\n",
       "      <td>0.027559</td>\n",
       "      <td>1.0</td>\n",
       "      <td>0.0</td>\n",
       "    </tr>\n",
       "    <tr>\n",
       "      <th>2</th>\n",
       "      <td>0.666667</td>\n",
       "      <td>1.000000</td>\n",
       "      <td>0.176715</td>\n",
       "      <td>0.000000</td>\n",
       "      <td>0.000000</td>\n",
       "      <td>0.0</td>\n",
       "      <td>0.0</td>\n",
       "      <td>0.266667</td>\n",
       "      <td>0.437500</td>\n",
       "      <td>0.000000</td>\n",
       "      <td>0.000000</td>\n",
       "      <td>0.886792</td>\n",
       "      <td>0.055046</td>\n",
       "      <td>0.857143</td>\n",
       "      <td>0.555556</td>\n",
       "      <td>0.0</td>\n",
       "      <td>0.866142</td>\n",
       "      <td>0.145669</td>\n",
       "      <td>1.0</td>\n",
       "      <td>0.0</td>\n",
       "    </tr>\n",
       "    <tr>\n",
       "      <th>3</th>\n",
       "      <td>0.648148</td>\n",
       "      <td>0.052632</td>\n",
       "      <td>0.000000</td>\n",
       "      <td>0.333333</td>\n",
       "      <td>0.000000</td>\n",
       "      <td>0.0</td>\n",
       "      <td>0.0</td>\n",
       "      <td>0.173333</td>\n",
       "      <td>0.270833</td>\n",
       "      <td>0.000000</td>\n",
       "      <td>0.457338</td>\n",
       "      <td>0.628931</td>\n",
       "      <td>0.220183</td>\n",
       "      <td>0.604396</td>\n",
       "      <td>0.555556</td>\n",
       "      <td>0.0</td>\n",
       "      <td>0.645669</td>\n",
       "      <td>0.015748</td>\n",
       "      <td>1.0</td>\n",
       "      <td>0.0</td>\n",
       "    </tr>\n",
       "    <tr>\n",
       "      <th>4</th>\n",
       "      <td>0.740741</td>\n",
       "      <td>0.105263</td>\n",
       "      <td>0.000000</td>\n",
       "      <td>0.266667</td>\n",
       "      <td>0.266667</td>\n",
       "      <td>0.0</td>\n",
       "      <td>0.0</td>\n",
       "      <td>0.213333</td>\n",
       "      <td>0.250000</td>\n",
       "      <td>0.175824</td>\n",
       "      <td>0.228669</td>\n",
       "      <td>0.515723</td>\n",
       "      <td>0.275229</td>\n",
       "      <td>0.472527</td>\n",
       "      <td>0.277778</td>\n",
       "      <td>0.0</td>\n",
       "      <td>0.692913</td>\n",
       "      <td>0.098425</td>\n",
       "      <td>1.0</td>\n",
       "      <td>0.0</td>\n",
       "    </tr>\n",
       "  </tbody>\n",
       "</table>\n",
       "</div>"
      ],
      "text/plain": [
       "   baseline value  accelerations  fetal_movement  uterine_contractions  \\\n",
       "0        0.555556       0.000000        0.000000              0.600000   \n",
       "1        0.555556       0.210526        0.002079              0.000000   \n",
       "2        0.666667       1.000000        0.176715              0.000000   \n",
       "3        0.648148       0.052632        0.000000              0.333333   \n",
       "4        0.740741       0.105263        0.000000              0.266667   \n",
       "\n",
       "   light_decelerations  severe_decelerations  prolongued_decelerations  \\\n",
       "0             0.000000                   0.0                       0.0   \n",
       "1             0.066667                   0.0                       0.0   \n",
       "2             0.000000                   0.0                       0.0   \n",
       "3             0.000000                   0.0                       0.0   \n",
       "4             0.266667                   0.0                       0.0   \n",
       "\n",
       "   abnormal_short_term_variability  mean_value_of_short_term_variability  \\\n",
       "0                         0.880000                              0.041667   \n",
       "1                         0.760000                              0.125000   \n",
       "2                         0.266667                              0.437500   \n",
       "3                         0.173333                              0.270833   \n",
       "4                         0.213333                              0.250000   \n",
       "\n",
       "   percentage_of_time_with_abnormal_long_term_variability  \\\n",
       "0                                           0.296703        \n",
       "1                                           0.000000        \n",
       "2                                           0.000000        \n",
       "3                                           0.000000        \n",
       "4                                           0.175824        \n",
       "\n",
       "   mean_value_of_long_term_variability  histogram_width  histogram_min  \\\n",
       "0                             0.156997         0.251572       0.568807   \n",
       "1                             0.587031         0.773585       0.036697   \n",
       "2                             0.000000         0.886792       0.055046   \n",
       "3                             0.457338         0.628931       0.220183   \n",
       "4                             0.228669         0.515723       0.275229   \n",
       "\n",
       "   histogram_max  histogram_number_of_peaks  histogram_number_of_zeroes  \\\n",
       "0       0.362637                   0.222222                         0.0   \n",
       "1       0.637363                   0.277778                         0.0   \n",
       "2       0.857143                   0.555556                         0.0   \n",
       "3       0.604396                   0.555556                         0.0   \n",
       "4       0.472527                   0.277778                         0.0   \n",
       "\n",
       "   histogram_mode  histogram_variance  histogram_tendency  fetal_health  \n",
       "0        0.614173            0.000000                 0.5           0.0  \n",
       "1        0.629921            0.027559                 1.0           0.0  \n",
       "2        0.866142            0.145669                 1.0           0.0  \n",
       "3        0.645669            0.015748                 1.0           0.0  \n",
       "4        0.692913            0.098425                 1.0           0.0  "
      ]
     },
     "execution_count": 652,
     "metadata": {},
     "output_type": "execute_result"
    }
   ],
   "source": [
    "train_data.head()"
   ]
  },
  {
   "cell_type": "code",
   "execution_count": 653,
   "metadata": {},
   "outputs": [],
   "source": [
    "col_names = [*train_data.columns[:]]"
   ]
  },
  {
   "cell_type": "code",
   "execution_count": 654,
   "metadata": {},
   "outputs": [],
   "source": [
    "X_train, y_train = train_data.iloc[:,:-1], train_data.iloc[:,-1]\n",
    "X_test, y_test = test_data.iloc[:,:-1], test_data.iloc[:,-1]"
   ]
  },
  {
   "cell_type": "code",
   "execution_count": 655,
   "metadata": {},
   "outputs": [],
   "source": [
    "X_test = test_data.iloc[:,:-1]\n",
    "y_test = test_data.iloc[:,-1]"
   ]
  },
  {
   "cell_type": "code",
   "execution_count": 656,
   "metadata": {},
   "outputs": [],
   "source": [
    "X_train = pd.concat([X_train, y_train], axis=1)\n",
    "X_test = pd.concat([X_test, y_test], axis=1)"
   ]
  },
  {
   "cell_type": "code",
   "execution_count": 657,
   "metadata": {},
   "outputs": [],
   "source": [
    "treeData2threes = HDTreeClassifier(\n",
    "                    # allowed_splits=[TwoQuantileRangeSplit.build()], \n",
    "                    allowed_splits=[LogisticRegressionSingleSplit.build(), TwoQuantileRangeSplit.build()], \n",
    "                    information_measure=EntropyMeasure(), \n",
    "                    attribute_names=col_names, \n",
    "                    max_levels=5,\n",
    "                    min_samples_at_leaf=10)"
   ]
  },
  {
   "cell_type": "code",
   "execution_count": 658,
   "metadata": {},
   "outputs": [
    {
     "data": {
      "text/plain": [
       "((416, 20), (416,), (1664, 20), (1664,))"
      ]
     },
     "execution_count": 658,
     "metadata": {},
     "output_type": "execute_result"
    }
   ],
   "source": [
    "X_test.shape, y_test.shape, X_train.shape, y_train.shape"
   ]
  },
  {
   "cell_type": "code",
   "execution_count": 659,
   "metadata": {},
   "outputs": [
    {
     "name": "stdout",
     "output_type": "stream",
     "text": [
      "0.9338942307692307\n",
      "0.9302884615384616\n"
     ]
    }
   ],
   "source": [
    "treeData2threes.fit(X_train.values, y_train.values)\n",
    "print(treeData2threes.score(X_train.values, y_train.values))\n",
    "print(treeData2threes.score(X_test.values, y_test.values))"
   ]
  },
  {
   "cell_type": "code",
   "execution_count": 660,
   "metadata": {},
   "outputs": [
    {
     "data": {
      "image/svg+xml": "<?xml version=\"1.0\" encoding=\"UTF-8\" standalone=\"no\"?>\n<!DOCTYPE svg PUBLIC \"-//W3C//DTD SVG 1.1//EN\"\n \"http://www.w3.org/Graphics/SVG/1.1/DTD/svg11.dtd\">\n<!-- Generated by graphviz version 5.0.1 (20220820.1526)\n -->\n<!-- Pages: 1 -->\n<svg width=\"498pt\" height=\"376pt\"\n viewBox=\"0.00 0.00 498.00 376.00\" xmlns=\"http://www.w3.org/2000/svg\" xmlns:xlink=\"http://www.w3.org/1999/xlink\">\n<g id=\"graph0\" class=\"graph\" transform=\"scale(1 1) rotate(0) translate(4 372)\">\n<polygon fill=\"white\" stroke=\"none\" points=\"-4,4 -4,-372 494,-372 494,4 -4,4\"/>\n<!-- Head (Level 0) -->\n<g id=\"node1\" class=\"node\">\n<title>Head (Level 0)</title>\n<polygon fill=\"#66ff66\" stroke=\"black\" stroke-width=\"10\" points=\"490,-368 0,-368 0,-202 490,-202 490,-368\"/>\n<text text-anchor=\"start\" x=\"22\" y=\"-318.8\" font-family=\"monospace\" font-size=\"14.00\">Samples: &#160;&#160;&#160;&#160;&#160;1664</text>\n<text text-anchor=\"start\" x=\"22\" y=\"-303.8\" font-family=\"monospace\" font-size=\"14.00\">Score: &#160;&#160;&#160;&#160;&#160;&#160;&#160;0.6</text>\n<text text-anchor=\"middle\" x=\"245\" y=\"-288.8\" font-family=\"monospace\" font-size=\"14.00\">Test: logistic rergression on prolongued_decelerations</text>\n<text text-anchor=\"start\" x=\"22\" y=\"-257.8\" font-family=\"monospace\" font-size=\"14.00\">0.0: 1532 ✓</text>\n<text text-anchor=\"start\" x=\"22\" y=\"-242.8\" font-family=\"monospace\" font-size=\"14.00\">3.0: 132</text>\n<text text-anchor=\"middle\" x=\"245\" y=\"-227.8\" font-family=\"monospace\" font-size=\"14.00\"> </text>\n</g>\n<!-- Node #1 (Level 1) -->\n<g id=\"node2\" class=\"node\">\n<title>Node #1 (Level 1)</title>\n<polygon fill=\"#7eff7e\" stroke=\"black\" stroke-width=\"0.17\" points=\"236.5,-151 43.5,-151 43.5,0 236.5,0 236.5,-151\"/>\n<text text-anchor=\"start\" x=\"65.5\" y=\"-101.8\" font-family=\"monospace\" font-size=\"14.00\">Samples: &#160;&#160;&#160;&#160;&#160;28</text>\n<text text-anchor=\"middle\" x=\"140\" y=\"-86.8\" font-family=\"monospace\" font-size=\"14.00\">Score: &#160;&#160;&#160;&#160;&#160;&#160;&#160;0.51</text>\n<text text-anchor=\"start\" x=\"65.5\" y=\"-55.8\" font-family=\"monospace\" font-size=\"14.00\">0.0: 3</text>\n<text text-anchor=\"start\" x=\"65.5\" y=\"-40.8\" font-family=\"monospace\" font-size=\"14.00\">3.0: 25 ✓</text>\n<text text-anchor=\"middle\" x=\"140\" y=\"-25.8\" font-family=\"monospace\" font-size=\"14.00\"> </text>\n</g>\n<!-- Head (Level 0)&#45;&gt;Node #1 (Level 1) -->\n<g id=\"edge1\" class=\"edge\">\n<title>Head (Level 0)&#45;&gt;Node #1 (Level 1)</title>\n<path fill=\"none\" stroke=\"black\" stroke-width=\"0.12\" d=\"M203.5,-201.99C196.54,-188.24 189.31,-173.95 182.33,-160.16\"/>\n<polygon fill=\"black\" stroke=\"black\" stroke-width=\"0.12\" points=\"185.42,-158.52 177.79,-151.17 179.18,-161.68 185.42,-158.52\"/>\n<text text-anchor=\"middle\" x=\"236\" y=\"-172.8\" font-family=\"Times,serif\" font-size=\"14.00\">sigmoid &lt;= 0.5</text>\n</g>\n<!-- Node #2 (Level 1) -->\n<g id=\"node3\" class=\"node\">\n<title>Node #2 (Level 1)</title>\n<polygon fill=\"#59ff59\" stroke=\"black\" stroke-width=\"9.83\" points=\"447.5,-151 254.5,-151 254.5,0 447.5,0 447.5,-151\"/>\n<text text-anchor=\"start\" x=\"276.5\" y=\"-101.8\" font-family=\"monospace\" font-size=\"14.00\">Samples: &#160;&#160;&#160;&#160;&#160;1636</text>\n<text text-anchor=\"middle\" x=\"351\" y=\"-86.8\" font-family=\"monospace\" font-size=\"14.00\">Score: &#160;&#160;&#160;&#160;&#160;&#160;&#160;0.65</text>\n<text text-anchor=\"start\" x=\"276.5\" y=\"-55.8\" font-family=\"monospace\" font-size=\"14.00\">0.0: 1529 ✓</text>\n<text text-anchor=\"start\" x=\"276.5\" y=\"-40.8\" font-family=\"monospace\" font-size=\"14.00\">3.0: 107</text>\n<text text-anchor=\"middle\" x=\"351\" y=\"-25.8\" font-family=\"monospace\" font-size=\"14.00\"> </text>\n</g>\n<!-- Head (Level 0)&#45;&gt;Node #2 (Level 1) -->\n<g id=\"edge2\" class=\"edge\">\n<title>Head (Level 0)&#45;&gt;Node #2 (Level 1)</title>\n<path fill=\"none\" stroke=\"black\" stroke-width=\"6.88\" d=\"M286.89,-201.99C293.92,-188.24 301.22,-173.95 308.26,-160.16\"/>\n<polygon fill=\"black\" stroke=\"black\" stroke-width=\"6.88\" points=\"313.67,-162.82 312.85,-151.17 302.94,-157.34 313.67,-162.82\"/>\n<text text-anchor=\"middle\" x=\"340\" y=\"-172.8\" font-family=\"Times,serif\" font-size=\"14.00\">sigmoid &gt; 0.5</text>\n</g>\n</g>\n</svg>\n",
      "text/plain": [
       "<graphviz.dot.Digraph at 0x7fb991ca1340>"
      ]
     },
     "execution_count": 660,
     "metadata": {},
     "output_type": "execute_result"
    }
   ],
   "source": [
    "treeData2threes.generate_dot_graph()"
   ]
  },
  {
   "cell_type": "code",
   "execution_count": 661,
   "metadata": {},
   "outputs": [
    {
     "name": "stdout",
     "output_type": "stream",
     "text": [
      "Accuracy =  0.9302884615384616\n",
      "Macro Precision =  0.9646341463414634\n",
      "Micro Precision =  0.9302884615384616\n",
      "Weighted Precision =  0.935219277673546\n",
      "Macro Recall =  0.5857142857142857\n",
      "Micro Recall =  0.9302884615384616\n",
      "Weighted Recall =  0.9302884615384616\n",
      "Macro F1 =  0.6280102371188061\n",
      "Micro F1 =  0.9302884615384615\n",
      "Weighted F1 =  0.9069122788500082\n",
      "\n",
      "Classification Report\n",
      "               precision    recall  f1-score   support\n",
      "\n",
      "         0.0       0.93      1.00      0.96       381\n",
      "         3.0       1.00      0.17      0.29        35\n",
      "\n",
      "    accuracy                           0.93       416\n",
      "   macro avg       0.96      0.59      0.63       416\n",
      "weighted avg       0.94      0.93      0.91       416\n",
      "\n"
     ]
    }
   ],
   "source": [
    "preds = treeData2threes.predict(X_test.values)\n",
    "preds = [float(i) for i in preds]\n",
    "runMetrics(y_test.values, preds)"
   ]
  },
  {
   "cell_type": "code",
   "execution_count": 662,
   "metadata": {},
   "outputs": [],
   "source": [
    "threesProb = treeData2threes.predict_proba(X_test.values)[:, 1]"
   ]
  },
  {
   "cell_type": "code",
   "execution_count": 663,
   "metadata": {},
   "outputs": [],
   "source": [
    "fpr[2], tpr[2], _ = roc_curve(y_test.values, threesProb, pos_label=3)\n",
    "roc_auc[2] = auc(fpr[2], tpr[2])"
   ]
  },
  {
   "cell_type": "code",
   "execution_count": 664,
   "metadata": {},
   "outputs": [],
   "source": [
    "probabs = np.hstack((onesProb.reshape(-1,1), twosProb.reshape(-1,1), threesProb.reshape(-1,1)))"
   ]
  },
  {
   "cell_type": "code",
   "execution_count": 665,
   "metadata": {},
   "outputs": [],
   "source": [
    "vals = np.argmax(probabs, axis=1) + 1"
   ]
  },
  {
   "cell_type": "code",
   "execution_count": 666,
   "metadata": {},
   "outputs": [],
   "source": [
    "test_df = pd.read_csv('../../data/test2.csv')"
   ]
  },
  {
   "cell_type": "code",
   "execution_count": 667,
   "metadata": {},
   "outputs": [],
   "source": [
    "test_y = test_df['fetal_health']"
   ]
  },
  {
   "cell_type": "code",
   "execution_count": 668,
   "metadata": {},
   "outputs": [
    {
     "name": "stdout",
     "output_type": "stream",
     "text": [
      "Accuracy =  0.8317307692307693\n",
      "Macro Precision =  0.7869875222816399\n",
      "Micro Precision =  0.8317307692307693\n",
      "Weighted Precision =  0.8275401069518716\n",
      "Macro Recall =  0.4987686072792456\n",
      "Micro Recall =  0.8317307692307693\n",
      "Weighted Recall =  0.8317307692307693\n",
      "Macro F1 =  0.5392826015419083\n",
      "Micro F1 =  0.8317307692307692\n",
      "Weighted F1 =  0.8002523207112423\n",
      "\n",
      "Classification Report\n",
      "               precision    recall  f1-score   support\n",
      "\n",
      "         1.0       0.86      0.98      0.92       329\n",
      "         2.0       0.50      0.35      0.41        52\n",
      "         3.0       1.00      0.17      0.29        35\n",
      "\n",
      "    accuracy                           0.83       416\n",
      "   macro avg       0.79      0.50      0.54       416\n",
      "weighted avg       0.83      0.83      0.80       416\n",
      "\n"
     ]
    }
   ],
   "source": [
    "runMetrics(test_y.values, vals)"
   ]
  },
  {
   "cell_type": "code",
   "execution_count": 674,
   "metadata": {},
   "outputs": [
    {
     "data": {
      "image/png": "[encoded data removed]",
      "text/plain": [
       "<Figure size 800x550 with 1 Axes>"
      ]
     },
     "metadata": {},
     "output_type": "display_data"
    }
   ],
   "source": [
    "from itertools import cycle\n",
    "lw = 2\n",
    "colors = cycle(['blue', 'red', 'green'])\n",
    "for i, color in zip(range(3), colors):\n",
    "    plt.plot(fpr[i], tpr[i], color=color, lw=2,\n",
    "             label='ROC curve of class {0} (area = {1:0.2f})'\n",
    "             ''.format(i+1, roc_auc[i]))\n",
    "plt.plot([0, 1], [0, 1], 'k--', lw=lw)\n",
    "plt.xlim([-0.05, 1.0])\n",
    "plt.ylim([0.0, 1.05])\n",
    "plt.xlabel('False Positive Rate')\n",
    "plt.ylabel('True Positive Rate')\n",
    "plt.title('ROC Curve')\n",
    "plt.legend(loc=\"lower right\")\n",
    "plt.show()"
   ]
  },
  {
   "cell_type": "code",
   "execution_count": null,
   "metadata": {},
   "outputs": [],
   "source": []
  },
  {
   "cell_type": "code",
   "execution_count": null,
   "metadata": {},
   "outputs": [],
   "source": []
  },
  {
   "cell_type": "code",
   "execution_count": null,
   "metadata": {},
   "outputs": [],
   "source": []
  },
  {
   "cell_type": "code",
   "execution_count": null,
   "metadata": {},
   "outputs": [],
   "source": []
  },
  {
   "cell_type": "code",
   "execution_count": null,
   "metadata": {},
   "outputs": [],
   "source": []
  },
  {
   "cell_type": "code",
   "execution_count": null,
   "metadata": {},
   "outputs": [],
   "source": []
  },
  {
   "cell_type": "code",
   "execution_count": null,
   "metadata": {},
   "outputs": [],
   "source": []
  },
  {
   "cell_type": "code",
   "execution_count": null,
   "metadata": {},
   "outputs": [],
   "source": []
  },
  {
   "cell_type": "code",
   "execution_count": 608,
   "metadata": {},
   "outputs": [
    {
     "ename": "NameError",
     "evalue": "name 'model' is not defined",
     "output_type": "error",
     "traceback": [
      "\u001b[0;31m---------------------------------------------------------------------------\u001b[0m",
      "\u001b[0;31mNameError\u001b[0m                                 Traceback (most recent call last)",
      "Cell \u001b[0;32mIn [608], line 1\u001b[0m\n\u001b[0;32m----> 1\u001b[0m visualizer \u001b[39m=\u001b[39m ROCAUC(model, classes\u001b[39m=\u001b[39m[\u001b[39m\"\u001b[39m\u001b[39mwin\u001b[39m\u001b[39m\"\u001b[39m, \u001b[39m\"\u001b[39m\u001b[39mloss\u001b[39m\u001b[39m\"\u001b[39m, \u001b[39m\"\u001b[39m\u001b[39mdraw\u001b[39m\u001b[39m\"\u001b[39m])\n",
      "\u001b[0;31mNameError\u001b[0m: name 'model' is not defined"
     ]
    }
   ],
   "source": [
    "visualizer = ROCAUC(model, classes=[\"win\", \"loss\", \"draw\"])"
   ]
  },
  {
   "cell_type": "code",
   "execution_count": 609,
   "metadata": {},
   "outputs": [
    {
     "ename": "ValueError",
     "evalue": "multiclass format is not supported",
     "output_type": "error",
     "traceback": [
      "\u001b[0;31m---------------------------------------------------------------------------\u001b[0m",
      "\u001b[0;31mValueError\u001b[0m                                Traceback (most recent call last)",
      "Cell \u001b[0;32mIn [609], line 1\u001b[0m\n\u001b[0;32m----> 1\u001b[0m roc \u001b[39m=\u001b[39m roc_curve(test_y\u001b[39m.\u001b[39mvalues, probabs)\n",
      "File \u001b[0;32m/Library/Frameworks/Python.framework/Versions/3.9/lib/python3.9/site-packages/sklearn/utils/validation.py:63\u001b[0m, in \u001b[0;36m_deprecate_positional_args.<locals>._inner_deprecate_positional_args.<locals>.inner_f\u001b[0;34m(*args, **kwargs)\u001b[0m\n\u001b[1;32m     61\u001b[0m extra_args \u001b[39m=\u001b[39m \u001b[39mlen\u001b[39m(args) \u001b[39m-\u001b[39m \u001b[39mlen\u001b[39m(all_args)\n\u001b[1;32m     62\u001b[0m \u001b[39mif\u001b[39;00m extra_args \u001b[39m<\u001b[39m\u001b[39m=\u001b[39m \u001b[39m0\u001b[39m:\n\u001b[0;32m---> 63\u001b[0m     \u001b[39mreturn\u001b[39;00m f(\u001b[39m*\u001b[39;49margs, \u001b[39m*\u001b[39;49m\u001b[39m*\u001b[39;49mkwargs)\n\u001b[1;32m     65\u001b[0m \u001b[39m# extra_args > 0\u001b[39;00m\n\u001b[1;32m     66\u001b[0m args_msg \u001b[39m=\u001b[39m [\u001b[39m'\u001b[39m\u001b[39m{}\u001b[39;00m\u001b[39m=\u001b[39m\u001b[39m{}\u001b[39;00m\u001b[39m'\u001b[39m\u001b[39m.\u001b[39mformat(name, arg)\n\u001b[1;32m     67\u001b[0m             \u001b[39mfor\u001b[39;00m name, arg \u001b[39min\u001b[39;00m \u001b[39mzip\u001b[39m(kwonly_args[:extra_args],\n\u001b[1;32m     68\u001b[0m                                  args[\u001b[39m-\u001b[39mextra_args:])]\n",
      "File \u001b[0;32m/Library/Frameworks/Python.framework/Versions/3.9/lib/python3.9/site-packages/sklearn/metrics/_ranking.py:913\u001b[0m, in \u001b[0;36mroc_curve\u001b[0;34m(y_true, y_score, pos_label, sample_weight, drop_intermediate)\u001b[0m\n\u001b[1;32m    826\u001b[0m \u001b[39m@_deprecate_positional_args\u001b[39m\n\u001b[1;32m    827\u001b[0m \u001b[39mdef\u001b[39;00m \u001b[39mroc_curve\u001b[39m(y_true, y_score, \u001b[39m*\u001b[39m, pos_label\u001b[39m=\u001b[39m\u001b[39mNone\u001b[39;00m, sample_weight\u001b[39m=\u001b[39m\u001b[39mNone\u001b[39;00m,\n\u001b[1;32m    828\u001b[0m               drop_intermediate\u001b[39m=\u001b[39m\u001b[39mTrue\u001b[39;00m):\n\u001b[1;32m    829\u001b[0m     \u001b[39m\"\"\"Compute Receiver operating characteristic (ROC).\u001b[39;00m\n\u001b[1;32m    830\u001b[0m \n\u001b[1;32m    831\u001b[0m \u001b[39m    Note: this implementation is restricted to the binary classification task.\u001b[39;00m\n\u001b[0;32m   (...)\u001b[0m\n\u001b[1;32m    911\u001b[0m \n\u001b[1;32m    912\u001b[0m \u001b[39m    \"\"\"\u001b[39;00m\n\u001b[0;32m--> 913\u001b[0m     fps, tps, thresholds \u001b[39m=\u001b[39m _binary_clf_curve(\n\u001b[1;32m    914\u001b[0m         y_true, y_score, pos_label\u001b[39m=\u001b[39;49mpos_label, sample_weight\u001b[39m=\u001b[39;49msample_weight)\n\u001b[1;32m    916\u001b[0m     \u001b[39m# Attempt to drop thresholds corresponding to points in between and\u001b[39;00m\n\u001b[1;32m    917\u001b[0m     \u001b[39m# collinear with other points. These are always suboptimal and do not\u001b[39;00m\n\u001b[1;32m    918\u001b[0m     \u001b[39m# appear on a plotted ROC curve (and thus do not affect the AUC).\u001b[39;00m\n\u001b[0;32m   (...)\u001b[0m\n\u001b[1;32m    923\u001b[0m     \u001b[39m# but does not drop more complicated cases like fps = [1, 3, 7],\u001b[39;00m\n\u001b[1;32m    924\u001b[0m     \u001b[39m# tps = [1, 2, 4]; there is no harm in keeping too many thresholds.\u001b[39;00m\n\u001b[1;32m    925\u001b[0m     \u001b[39mif\u001b[39;00m drop_intermediate \u001b[39mand\u001b[39;00m \u001b[39mlen\u001b[39m(fps) \u001b[39m>\u001b[39m \u001b[39m2\u001b[39m:\n",
      "File \u001b[0;32m/Library/Frameworks/Python.framework/Versions/3.9/lib/python3.9/site-packages/sklearn/metrics/_ranking.py:691\u001b[0m, in \u001b[0;36m_binary_clf_curve\u001b[0;34m(y_true, y_score, pos_label, sample_weight)\u001b[0m\n\u001b[1;32m    688\u001b[0m y_type \u001b[39m=\u001b[39m type_of_target(y_true)\n\u001b[1;32m    689\u001b[0m \u001b[39mif\u001b[39;00m \u001b[39mnot\u001b[39;00m (y_type \u001b[39m==\u001b[39m \u001b[39m\"\u001b[39m\u001b[39mbinary\u001b[39m\u001b[39m\"\u001b[39m \u001b[39mor\u001b[39;00m\n\u001b[1;32m    690\u001b[0m         (y_type \u001b[39m==\u001b[39m \u001b[39m\"\u001b[39m\u001b[39mmulticlass\u001b[39m\u001b[39m\"\u001b[39m \u001b[39mand\u001b[39;00m pos_label \u001b[39mis\u001b[39;00m \u001b[39mnot\u001b[39;00m \u001b[39mNone\u001b[39;00m)):\n\u001b[0;32m--> 691\u001b[0m     \u001b[39mraise\u001b[39;00m \u001b[39mValueError\u001b[39;00m(\u001b[39m\"\u001b[39m\u001b[39m{0}\u001b[39;00m\u001b[39m format is not supported\u001b[39m\u001b[39m\"\u001b[39m\u001b[39m.\u001b[39mformat(y_type))\n\u001b[1;32m    693\u001b[0m check_consistent_length(y_true, y_score, sample_weight)\n\u001b[1;32m    694\u001b[0m y_true \u001b[39m=\u001b[39m column_or_1d(y_true)\n",
      "\u001b[0;31mValueError\u001b[0m: multiclass format is not supported"
     ]
    }
   ],
   "source": [
    "roc = roc_curve(test_y.values, probabs)"
   ]
  },
  {
   "cell_type": "code",
   "execution_count": 610,
   "metadata": {},
   "outputs": [
    {
     "ename": "ValueError",
     "evalue": "y should be a 1d array, got an array of shape (416, 3) instead.",
     "output_type": "error",
     "traceback": [
      "\u001b[0;31m---------------------------------------------------------------------------\u001b[0m",
      "\u001b[0;31mValueError\u001b[0m                                Traceback (most recent call last)",
      "Cell \u001b[0;32mIn [610], line 1\u001b[0m\n\u001b[0;32m----> 1\u001b[0m getAucRocMetrics(test_y\u001b[39m.\u001b[39mvalues, probabs, \u001b[39m1\u001b[39m)\n",
      "Cell \u001b[0;32mIn [336], line 2\u001b[0m, in \u001b[0;36mgetAucRocMetrics\u001b[0;34m(trueVal, probabs, pos_label)\u001b[0m\n\u001b[1;32m      1\u001b[0m \u001b[39mdef\u001b[39;00m \u001b[39mgetAucRocMetrics\u001b[39m(trueVal, probabs, pos_label):\n\u001b[0;32m----> 2\u001b[0m     fpr, tpr, thresholds \u001b[39m=\u001b[39m roc_curve(trueVal, probabs, pos_label\u001b[39m=\u001b[39;49mpos_label)\n\u001b[1;32m      3\u001b[0m     plt\u001b[39m.\u001b[39mplot(fpr, tpr, color\u001b[39m=\u001b[39m\u001b[39m'\u001b[39m\u001b[39mdarkorange\u001b[39m\u001b[39m'\u001b[39m, lw\u001b[39m=\u001b[39m\u001b[39m2\u001b[39m, label\u001b[39m=\u001b[39m\u001b[39m'\u001b[39m\u001b[39mROC curve (area = \u001b[39m\u001b[39m%0.2f\u001b[39;00m\u001b[39m)\u001b[39m\u001b[39m'\u001b[39m \u001b[39m%\u001b[39m roc_auc_score(trueVal, probabs))\n\u001b[1;32m      4\u001b[0m     plt\u001b[39m.\u001b[39mlegend(loc\u001b[39m=\u001b[39m\u001b[39m\"\u001b[39m\u001b[39mlower right\u001b[39m\u001b[39m\"\u001b[39m)\n",
      "File \u001b[0;32m/Library/Frameworks/Python.framework/Versions/3.9/lib/python3.9/site-packages/sklearn/utils/validation.py:63\u001b[0m, in \u001b[0;36m_deprecate_positional_args.<locals>._inner_deprecate_positional_args.<locals>.inner_f\u001b[0;34m(*args, **kwargs)\u001b[0m\n\u001b[1;32m     61\u001b[0m extra_args \u001b[39m=\u001b[39m \u001b[39mlen\u001b[39m(args) \u001b[39m-\u001b[39m \u001b[39mlen\u001b[39m(all_args)\n\u001b[1;32m     62\u001b[0m \u001b[39mif\u001b[39;00m extra_args \u001b[39m<\u001b[39m\u001b[39m=\u001b[39m \u001b[39m0\u001b[39m:\n\u001b[0;32m---> 63\u001b[0m     \u001b[39mreturn\u001b[39;00m f(\u001b[39m*\u001b[39;49margs, \u001b[39m*\u001b[39;49m\u001b[39m*\u001b[39;49mkwargs)\n\u001b[1;32m     65\u001b[0m \u001b[39m# extra_args > 0\u001b[39;00m\n\u001b[1;32m     66\u001b[0m args_msg \u001b[39m=\u001b[39m [\u001b[39m'\u001b[39m\u001b[39m{}\u001b[39;00m\u001b[39m=\u001b[39m\u001b[39m{}\u001b[39;00m\u001b[39m'\u001b[39m\u001b[39m.\u001b[39mformat(name, arg)\n\u001b[1;32m     67\u001b[0m             \u001b[39mfor\u001b[39;00m name, arg \u001b[39min\u001b[39;00m \u001b[39mzip\u001b[39m(kwonly_args[:extra_args],\n\u001b[1;32m     68\u001b[0m                                  args[\u001b[39m-\u001b[39mextra_args:])]\n",
      "File \u001b[0;32m/Library/Frameworks/Python.framework/Versions/3.9/lib/python3.9/site-packages/sklearn/metrics/_ranking.py:913\u001b[0m, in \u001b[0;36mroc_curve\u001b[0;34m(y_true, y_score, pos_label, sample_weight, drop_intermediate)\u001b[0m\n\u001b[1;32m    826\u001b[0m \u001b[39m@_deprecate_positional_args\u001b[39m\n\u001b[1;32m    827\u001b[0m \u001b[39mdef\u001b[39;00m \u001b[39mroc_curve\u001b[39m(y_true, y_score, \u001b[39m*\u001b[39m, pos_label\u001b[39m=\u001b[39m\u001b[39mNone\u001b[39;00m, sample_weight\u001b[39m=\u001b[39m\u001b[39mNone\u001b[39;00m,\n\u001b[1;32m    828\u001b[0m               drop_intermediate\u001b[39m=\u001b[39m\u001b[39mTrue\u001b[39;00m):\n\u001b[1;32m    829\u001b[0m     \u001b[39m\"\"\"Compute Receiver operating characteristic (ROC).\u001b[39;00m\n\u001b[1;32m    830\u001b[0m \n\u001b[1;32m    831\u001b[0m \u001b[39m    Note: this implementation is restricted to the binary classification task.\u001b[39;00m\n\u001b[0;32m   (...)\u001b[0m\n\u001b[1;32m    911\u001b[0m \n\u001b[1;32m    912\u001b[0m \u001b[39m    \"\"\"\u001b[39;00m\n\u001b[0;32m--> 913\u001b[0m     fps, tps, thresholds \u001b[39m=\u001b[39m _binary_clf_curve(\n\u001b[1;32m    914\u001b[0m         y_true, y_score, pos_label\u001b[39m=\u001b[39;49mpos_label, sample_weight\u001b[39m=\u001b[39;49msample_weight)\n\u001b[1;32m    916\u001b[0m     \u001b[39m# Attempt to drop thresholds corresponding to points in between and\u001b[39;00m\n\u001b[1;32m    917\u001b[0m     \u001b[39m# collinear with other points. These are always suboptimal and do not\u001b[39;00m\n\u001b[1;32m    918\u001b[0m     \u001b[39m# appear on a plotted ROC curve (and thus do not affect the AUC).\u001b[39;00m\n\u001b[0;32m   (...)\u001b[0m\n\u001b[1;32m    923\u001b[0m     \u001b[39m# but does not drop more complicated cases like fps = [1, 3, 7],\u001b[39;00m\n\u001b[1;32m    924\u001b[0m     \u001b[39m# tps = [1, 2, 4]; there is no harm in keeping too many thresholds.\u001b[39;00m\n\u001b[1;32m    925\u001b[0m     \u001b[39mif\u001b[39;00m drop_intermediate \u001b[39mand\u001b[39;00m \u001b[39mlen\u001b[39m(fps) \u001b[39m>\u001b[39m \u001b[39m2\u001b[39m:\n",
      "File \u001b[0;32m/Library/Frameworks/Python.framework/Versions/3.9/lib/python3.9/site-packages/sklearn/metrics/_ranking.py:695\u001b[0m, in \u001b[0;36m_binary_clf_curve\u001b[0;34m(y_true, y_score, pos_label, sample_weight)\u001b[0m\n\u001b[1;32m    693\u001b[0m check_consistent_length(y_true, y_score, sample_weight)\n\u001b[1;32m    694\u001b[0m y_true \u001b[39m=\u001b[39m column_or_1d(y_true)\n\u001b[0;32m--> 695\u001b[0m y_score \u001b[39m=\u001b[39m column_or_1d(y_score)\n\u001b[1;32m    696\u001b[0m assert_all_finite(y_true)\n\u001b[1;32m    697\u001b[0m assert_all_finite(y_score)\n",
      "File \u001b[0;32m/Library/Frameworks/Python.framework/Versions/3.9/lib/python3.9/site-packages/sklearn/utils/validation.py:63\u001b[0m, in \u001b[0;36m_deprecate_positional_args.<locals>._inner_deprecate_positional_args.<locals>.inner_f\u001b[0;34m(*args, **kwargs)\u001b[0m\n\u001b[1;32m     61\u001b[0m extra_args \u001b[39m=\u001b[39m \u001b[39mlen\u001b[39m(args) \u001b[39m-\u001b[39m \u001b[39mlen\u001b[39m(all_args)\n\u001b[1;32m     62\u001b[0m \u001b[39mif\u001b[39;00m extra_args \u001b[39m<\u001b[39m\u001b[39m=\u001b[39m \u001b[39m0\u001b[39m:\n\u001b[0;32m---> 63\u001b[0m     \u001b[39mreturn\u001b[39;00m f(\u001b[39m*\u001b[39;49margs, \u001b[39m*\u001b[39;49m\u001b[39m*\u001b[39;49mkwargs)\n\u001b[1;32m     65\u001b[0m \u001b[39m# extra_args > 0\u001b[39;00m\n\u001b[1;32m     66\u001b[0m args_msg \u001b[39m=\u001b[39m [\u001b[39m'\u001b[39m\u001b[39m{}\u001b[39;00m\u001b[39m=\u001b[39m\u001b[39m{}\u001b[39;00m\u001b[39m'\u001b[39m\u001b[39m.\u001b[39mformat(name, arg)\n\u001b[1;32m     67\u001b[0m             \u001b[39mfor\u001b[39;00m name, arg \u001b[39min\u001b[39;00m \u001b[39mzip\u001b[39m(kwonly_args[:extra_args],\n\u001b[1;32m     68\u001b[0m                                  args[\u001b[39m-\u001b[39mextra_args:])]\n",
      "File \u001b[0;32m/Library/Frameworks/Python.framework/Versions/3.9/lib/python3.9/site-packages/sklearn/utils/validation.py:864\u001b[0m, in \u001b[0;36mcolumn_or_1d\u001b[0;34m(y, warn)\u001b[0m\n\u001b[1;32m    858\u001b[0m         warnings\u001b[39m.\u001b[39mwarn(\u001b[39m\"\u001b[39m\u001b[39mA column-vector y was passed when a 1d array was\u001b[39m\u001b[39m\"\u001b[39m\n\u001b[1;32m    859\u001b[0m                       \u001b[39m\"\u001b[39m\u001b[39m expected. Please change the shape of y to \u001b[39m\u001b[39m\"\u001b[39m\n\u001b[1;32m    860\u001b[0m                       \u001b[39m\"\u001b[39m\u001b[39m(n_samples, ), for example using ravel().\u001b[39m\u001b[39m\"\u001b[39m,\n\u001b[1;32m    861\u001b[0m                       DataConversionWarning, stacklevel\u001b[39m=\u001b[39m\u001b[39m2\u001b[39m)\n\u001b[1;32m    862\u001b[0m     \u001b[39mreturn\u001b[39;00m np\u001b[39m.\u001b[39mravel(y)\n\u001b[0;32m--> 864\u001b[0m \u001b[39mraise\u001b[39;00m \u001b[39mValueError\u001b[39;00m(\n\u001b[1;32m    865\u001b[0m     \u001b[39m\"\u001b[39m\u001b[39my should be a 1d array, \u001b[39m\u001b[39m\"\u001b[39m\n\u001b[1;32m    866\u001b[0m     \u001b[39m\"\u001b[39m\u001b[39mgot an array of shape \u001b[39m\u001b[39m{}\u001b[39;00m\u001b[39m instead.\u001b[39m\u001b[39m\"\u001b[39m\u001b[39m.\u001b[39mformat(shape))\n",
      "\u001b[0;31mValueError\u001b[0m: y should be a 1d array, got an array of shape (416, 3) instead."
     ]
    }
   ],
   "source": [
    "getAucRocMetrics(test_y.values, probabs, 1)"
   ]
  },
  {
   "cell_type": "markdown",
   "metadata": {},
   "source": [
    "# Dataset 3"
   ]
  },
  {
   "cell_type": "markdown",
   "metadata": {},
   "source": [
    "## Simple "
   ]
  },
  {
   "cell_type": "code",
   "execution_count": 362,
   "metadata": {},
   "outputs": [],
   "source": [
    "train_data = pd.read_csv('../../data/train3simple.csv')\n",
    "test_data = pd.read_csv('../../data/test3simple.csv')"
   ]
  },
  {
   "cell_type": "code",
   "execution_count": 363,
   "metadata": {},
   "outputs": [
    {
     "data": {
      "text/html": [
       "<div>\n",
       "<style scoped>\n",
       "    .dataframe tbody tr th:only-of-type {\n",
       "        vertical-align: middle;\n",
       "    }\n",
       "\n",
       "    .dataframe tbody tr th {\n",
       "        vertical-align: top;\n",
       "    }\n",
       "\n",
       "    .dataframe thead th {\n",
       "        text-align: right;\n",
       "    }\n",
       "</style>\n",
       "<table border=\"1\" class=\"dataframe\">\n",
       "  <thead>\n",
       "    <tr style=\"text-align: right;\">\n",
       "      <th></th>\n",
       "      <th>Unnamed: 0</th>\n",
       "      <th>age</th>\n",
       "      <th>duration</th>\n",
       "      <th>campaign</th>\n",
       "      <th>pdays</th>\n",
       "      <th>previous</th>\n",
       "      <th>cons_price_idx</th>\n",
       "      <th>cons_conf_idx</th>\n",
       "      <th>nr_employed</th>\n",
       "      <th>job</th>\n",
       "      <th>marital</th>\n",
       "      <th>education</th>\n",
       "      <th>default</th>\n",
       "      <th>housing</th>\n",
       "      <th>loan</th>\n",
       "      <th>contact</th>\n",
       "      <th>month</th>\n",
       "      <th>day_of_week</th>\n",
       "      <th>poutcome</th>\n",
       "      <th>y</th>\n",
       "    </tr>\n",
       "  </thead>\n",
       "  <tbody>\n",
       "    <tr>\n",
       "      <th>0</th>\n",
       "      <td>0</td>\n",
       "      <td>0.389610</td>\n",
       "      <td>0.038616</td>\n",
       "      <td>0.029412</td>\n",
       "      <td>1.0</td>\n",
       "      <td>0.0</td>\n",
       "      <td>0.389322</td>\n",
       "      <td>0.368201</td>\n",
       "      <td>0.877883</td>\n",
       "      <td>0</td>\n",
       "      <td>0</td>\n",
       "      <td>0</td>\n",
       "      <td>0</td>\n",
       "      <td>0</td>\n",
       "      <td>0</td>\n",
       "      <td>0</td>\n",
       "      <td>0</td>\n",
       "      <td>0</td>\n",
       "      <td>0</td>\n",
       "      <td>0</td>\n",
       "    </tr>\n",
       "    <tr>\n",
       "      <th>1</th>\n",
       "      <td>1</td>\n",
       "      <td>0.220779</td>\n",
       "      <td>0.523733</td>\n",
       "      <td>0.058824</td>\n",
       "      <td>1.0</td>\n",
       "      <td>0.0</td>\n",
       "      <td>0.269680</td>\n",
       "      <td>0.192469</td>\n",
       "      <td>0.512287</td>\n",
       "      <td>1</td>\n",
       "      <td>1</td>\n",
       "      <td>0</td>\n",
       "      <td>0</td>\n",
       "      <td>1</td>\n",
       "      <td>1</td>\n",
       "      <td>1</td>\n",
       "      <td>1</td>\n",
       "      <td>1</td>\n",
       "      <td>0</td>\n",
       "      <td>1</td>\n",
       "    </tr>\n",
       "    <tr>\n",
       "      <th>2</th>\n",
       "      <td>2</td>\n",
       "      <td>0.246753</td>\n",
       "      <td>0.472245</td>\n",
       "      <td>0.000000</td>\n",
       "      <td>1.0</td>\n",
       "      <td>0.0</td>\n",
       "      <td>0.340608</td>\n",
       "      <td>0.154812</td>\n",
       "      <td>0.512287</td>\n",
       "      <td>1</td>\n",
       "      <td>1</td>\n",
       "      <td>0</td>\n",
       "      <td>0</td>\n",
       "      <td>0</td>\n",
       "      <td>1</td>\n",
       "      <td>0</td>\n",
       "      <td>2</td>\n",
       "      <td>2</td>\n",
       "      <td>0</td>\n",
       "      <td>1</td>\n",
       "    </tr>\n",
       "    <tr>\n",
       "      <th>3</th>\n",
       "      <td>3</td>\n",
       "      <td>0.545455</td>\n",
       "      <td>0.055511</td>\n",
       "      <td>0.029412</td>\n",
       "      <td>1.0</td>\n",
       "      <td>0.0</td>\n",
       "      <td>0.484412</td>\n",
       "      <td>0.615063</td>\n",
       "      <td>1.000000</td>\n",
       "      <td>2</td>\n",
       "      <td>1</td>\n",
       "      <td>1</td>\n",
       "      <td>0</td>\n",
       "      <td>0</td>\n",
       "      <td>0</td>\n",
       "      <td>0</td>\n",
       "      <td>3</td>\n",
       "      <td>0</td>\n",
       "      <td>0</td>\n",
       "      <td>0</td>\n",
       "    </tr>\n",
       "    <tr>\n",
       "      <th>4</th>\n",
       "      <td>4</td>\n",
       "      <td>0.220779</td>\n",
       "      <td>0.106999</td>\n",
       "      <td>0.000000</td>\n",
       "      <td>1.0</td>\n",
       "      <td>0.0</td>\n",
       "      <td>0.250195</td>\n",
       "      <td>0.033473</td>\n",
       "      <td>0.512287</td>\n",
       "      <td>2</td>\n",
       "      <td>2</td>\n",
       "      <td>1</td>\n",
       "      <td>0</td>\n",
       "      <td>1</td>\n",
       "      <td>1</td>\n",
       "      <td>0</td>\n",
       "      <td>4</td>\n",
       "      <td>3</td>\n",
       "      <td>0</td>\n",
       "      <td>1</td>\n",
       "    </tr>\n",
       "  </tbody>\n",
       "</table>\n",
       "</div>"
      ],
      "text/plain": [
       "   Unnamed: 0       age  duration  campaign  pdays  previous  cons_price_idx  \\\n",
       "0           0  0.389610  0.038616  0.029412    1.0       0.0        0.389322   \n",
       "1           1  0.220779  0.523733  0.058824    1.0       0.0        0.269680   \n",
       "2           2  0.246753  0.472245  0.000000    1.0       0.0        0.340608   \n",
       "3           3  0.545455  0.055511  0.029412    1.0       0.0        0.484412   \n",
       "4           4  0.220779  0.106999  0.000000    1.0       0.0        0.250195   \n",
       "\n",
       "   cons_conf_idx  nr_employed  job  marital  education  default  housing  \\\n",
       "0       0.368201     0.877883    0        0          0        0        0   \n",
       "1       0.192469     0.512287    1        1          0        0        1   \n",
       "2       0.154812     0.512287    1        1          0        0        0   \n",
       "3       0.615063     1.000000    2        1          1        0        0   \n",
       "4       0.033473     0.512287    2        2          1        0        1   \n",
       "\n",
       "   loan  contact  month  day_of_week  poutcome  y  \n",
       "0     0        0      0            0         0  0  \n",
       "1     1        1      1            1         0  1  \n",
       "2     1        0      2            2         0  1  \n",
       "3     0        0      3            0         0  0  \n",
       "4     1        0      4            3         0  1  "
      ]
     },
     "execution_count": 363,
     "metadata": {},
     "output_type": "execute_result"
    }
   ],
   "source": [
    "train_data.head()"
   ]
  },
  {
   "cell_type": "code",
   "execution_count": 364,
   "metadata": {},
   "outputs": [],
   "source": [
    "train_data.drop(['Unnamed: 0'], axis=1, inplace=True)\n",
    "test_data.drop(['Unnamed: 0'], axis=1, inplace=True)"
   ]
  },
  {
   "cell_type": "code",
   "execution_count": 365,
   "metadata": {},
   "outputs": [
    {
     "data": {
      "text/html": [
       "<div>\n",
       "<style scoped>\n",
       "    .dataframe tbody tr th:only-of-type {\n",
       "        vertical-align: middle;\n",
       "    }\n",
       "\n",
       "    .dataframe tbody tr th {\n",
       "        vertical-align: top;\n",
       "    }\n",
       "\n",
       "    .dataframe thead th {\n",
       "        text-align: right;\n",
       "    }\n",
       "</style>\n",
       "<table border=\"1\" class=\"dataframe\">\n",
       "  <thead>\n",
       "    <tr style=\"text-align: right;\">\n",
       "      <th></th>\n",
       "      <th>age</th>\n",
       "      <th>duration</th>\n",
       "      <th>campaign</th>\n",
       "      <th>pdays</th>\n",
       "      <th>previous</th>\n",
       "      <th>cons_price_idx</th>\n",
       "      <th>cons_conf_idx</th>\n",
       "      <th>nr_employed</th>\n",
       "      <th>job</th>\n",
       "      <th>marital</th>\n",
       "      <th>education</th>\n",
       "      <th>default</th>\n",
       "      <th>housing</th>\n",
       "      <th>loan</th>\n",
       "      <th>contact</th>\n",
       "      <th>month</th>\n",
       "      <th>day_of_week</th>\n",
       "      <th>poutcome</th>\n",
       "      <th>y</th>\n",
       "    </tr>\n",
       "  </thead>\n",
       "  <tbody>\n",
       "    <tr>\n",
       "      <th>0</th>\n",
       "      <td>0.389610</td>\n",
       "      <td>0.038616</td>\n",
       "      <td>0.029412</td>\n",
       "      <td>1.0</td>\n",
       "      <td>0.0</td>\n",
       "      <td>0.389322</td>\n",
       "      <td>0.368201</td>\n",
       "      <td>0.877883</td>\n",
       "      <td>0</td>\n",
       "      <td>0</td>\n",
       "      <td>0</td>\n",
       "      <td>0</td>\n",
       "      <td>0</td>\n",
       "      <td>0</td>\n",
       "      <td>0</td>\n",
       "      <td>0</td>\n",
       "      <td>0</td>\n",
       "      <td>0</td>\n",
       "      <td>0</td>\n",
       "    </tr>\n",
       "    <tr>\n",
       "      <th>1</th>\n",
       "      <td>0.220779</td>\n",
       "      <td>0.523733</td>\n",
       "      <td>0.058824</td>\n",
       "      <td>1.0</td>\n",
       "      <td>0.0</td>\n",
       "      <td>0.269680</td>\n",
       "      <td>0.192469</td>\n",
       "      <td>0.512287</td>\n",
       "      <td>1</td>\n",
       "      <td>1</td>\n",
       "      <td>0</td>\n",
       "      <td>0</td>\n",
       "      <td>1</td>\n",
       "      <td>1</td>\n",
       "      <td>1</td>\n",
       "      <td>1</td>\n",
       "      <td>1</td>\n",
       "      <td>0</td>\n",
       "      <td>1</td>\n",
       "    </tr>\n",
       "    <tr>\n",
       "      <th>2</th>\n",
       "      <td>0.246753</td>\n",
       "      <td>0.472245</td>\n",
       "      <td>0.000000</td>\n",
       "      <td>1.0</td>\n",
       "      <td>0.0</td>\n",
       "      <td>0.340608</td>\n",
       "      <td>0.154812</td>\n",
       "      <td>0.512287</td>\n",
       "      <td>1</td>\n",
       "      <td>1</td>\n",
       "      <td>0</td>\n",
       "      <td>0</td>\n",
       "      <td>0</td>\n",
       "      <td>1</td>\n",
       "      <td>0</td>\n",
       "      <td>2</td>\n",
       "      <td>2</td>\n",
       "      <td>0</td>\n",
       "      <td>1</td>\n",
       "    </tr>\n",
       "    <tr>\n",
       "      <th>3</th>\n",
       "      <td>0.545455</td>\n",
       "      <td>0.055511</td>\n",
       "      <td>0.029412</td>\n",
       "      <td>1.0</td>\n",
       "      <td>0.0</td>\n",
       "      <td>0.484412</td>\n",
       "      <td>0.615063</td>\n",
       "      <td>1.000000</td>\n",
       "      <td>2</td>\n",
       "      <td>1</td>\n",
       "      <td>1</td>\n",
       "      <td>0</td>\n",
       "      <td>0</td>\n",
       "      <td>0</td>\n",
       "      <td>0</td>\n",
       "      <td>3</td>\n",
       "      <td>0</td>\n",
       "      <td>0</td>\n",
       "      <td>0</td>\n",
       "    </tr>\n",
       "    <tr>\n",
       "      <th>4</th>\n",
       "      <td>0.220779</td>\n",
       "      <td>0.106999</td>\n",
       "      <td>0.000000</td>\n",
       "      <td>1.0</td>\n",
       "      <td>0.0</td>\n",
       "      <td>0.250195</td>\n",
       "      <td>0.033473</td>\n",
       "      <td>0.512287</td>\n",
       "      <td>2</td>\n",
       "      <td>2</td>\n",
       "      <td>1</td>\n",
       "      <td>0</td>\n",
       "      <td>1</td>\n",
       "      <td>1</td>\n",
       "      <td>0</td>\n",
       "      <td>4</td>\n",
       "      <td>3</td>\n",
       "      <td>0</td>\n",
       "      <td>1</td>\n",
       "    </tr>\n",
       "  </tbody>\n",
       "</table>\n",
       "</div>"
      ],
      "text/plain": [
       "        age  duration  campaign  pdays  previous  cons_price_idx  \\\n",
       "0  0.389610  0.038616  0.029412    1.0       0.0        0.389322   \n",
       "1  0.220779  0.523733  0.058824    1.0       0.0        0.269680   \n",
       "2  0.246753  0.472245  0.000000    1.0       0.0        0.340608   \n",
       "3  0.545455  0.055511  0.029412    1.0       0.0        0.484412   \n",
       "4  0.220779  0.106999  0.000000    1.0       0.0        0.250195   \n",
       "\n",
       "   cons_conf_idx  nr_employed  job  marital  education  default  housing  \\\n",
       "0       0.368201     0.877883    0        0          0        0        0   \n",
       "1       0.192469     0.512287    1        1          0        0        1   \n",
       "2       0.154812     0.512287    1        1          0        0        0   \n",
       "3       0.615063     1.000000    2        1          1        0        0   \n",
       "4       0.033473     0.512287    2        2          1        0        1   \n",
       "\n",
       "   loan  contact  month  day_of_week  poutcome  y  \n",
       "0     0        0      0            0         0  0  \n",
       "1     1        1      1            1         0  1  \n",
       "2     1        0      2            2         0  1  \n",
       "3     0        0      3            0         0  0  \n",
       "4     1        0      4            3         0  1  "
      ]
     },
     "execution_count": 365,
     "metadata": {},
     "output_type": "execute_result"
    }
   ],
   "source": [
    "train_data.head()"
   ]
  },
  {
   "cell_type": "code",
   "execution_count": 366,
   "metadata": {},
   "outputs": [],
   "source": [
    "col_names = [*train_data.columns[:]]"
   ]
  },
  {
   "cell_type": "code",
   "execution_count": 367,
   "metadata": {},
   "outputs": [],
   "source": [
    "X_train, y_train = train_data.iloc[:,:-1], train_data.iloc[:,-1]\n",
    "X_test, y_test = test_data.iloc[:,:-1], test_data.iloc[:,-1]"
   ]
  },
  {
   "cell_type": "code",
   "execution_count": 368,
   "metadata": {},
   "outputs": [],
   "source": [
    "X_test = test_data.iloc[:,:-1]\n",
    "y_test = test_data.iloc[:,-1]"
   ]
  },
  {
   "cell_type": "code",
   "execution_count": 369,
   "metadata": {},
   "outputs": [],
   "source": [
    "X_train = pd.concat([X_train, y_train], axis=1)\n",
    "X_test = pd.concat([X_test, y_test], axis=1)"
   ]
  },
  {
   "cell_type": "code",
   "execution_count": 370,
   "metadata": {},
   "outputs": [],
   "source": [
    "treeData3Simple = HDTreeClassifier(\n",
    "                    # allowed_splits=[TwoQuantileRangeSplit.build()], \n",
    "                    allowed_splits=[LogisticRegressionSingleSplit.build(), TwoQuantileRangeSplit.build()], \n",
    "                    information_measure=EntropyMeasure(), \n",
    "                    attribute_names=col_names, \n",
    "                    max_levels=5,\n",
    "                    min_samples_at_leaf=10)"
   ]
  },
  {
   "cell_type": "code",
   "execution_count": 371,
   "metadata": {},
   "outputs": [
    {
     "data": {
      "text/plain": [
       "((8230, 19), (8230,), (29626, 19), (29626,), (3292, 19), (3292,))"
      ]
     },
     "execution_count": 371,
     "metadata": {},
     "output_type": "execute_result"
    }
   ],
   "source": [
    "X_test.shape, y_test.shape, X_train.shape, y_train.shape"
   ]
  },
  {
   "cell_type": "code",
   "execution_count": 372,
   "metadata": {},
   "outputs": [
    {
     "name": "stdout",
     "output_type": "stream",
     "text": [
      "0.9073448997502194\n",
      "0.9037059538274606\n",
      "0.9038882138517619\n"
     ]
    }
   ],
   "source": [
    "treeData3Simple.fit(X_train.values, y_train.values)\n",
    "print(treeData3Simple.score(X_train.values, y_train.values))\n",
    "print(treeData3Simple.score(X_test.values, y_test.values))"
   ]
  },
  {
   "cell_type": "code",
   "execution_count": 373,
   "metadata": {},
   "outputs": [
    {
     "data": {
      "image/svg+xml": "<?xml version=\"1.0\" encoding=\"UTF-8\" standalone=\"no\"?>\n<!DOCTYPE svg PUBLIC \"-//W3C//DTD SVG 1.1//EN\"\n \"http://www.w3.org/Graphics/SVG/1.1/DTD/svg11.dtd\">\n<!-- Generated by graphviz version 5.0.1 (20220820.1526)\n -->\n<!-- Pages: 1 -->\n<svg width=\"1664pt\" height=\"1244pt\"\n viewBox=\"0.00 0.00 1663.50 1244.00\" xmlns=\"http://www.w3.org/2000/svg\" xmlns:xlink=\"http://www.w3.org/1999/xlink\">\n<g id=\"graph0\" class=\"graph\" transform=\"scale(1 1) rotate(0) translate(4 1240)\">\n<polygon fill=\"white\" stroke=\"none\" points=\"-4,4 -4,-1240 1659.5,-1240 1659.5,4 -4,4\"/>\n<!-- Head (Level 0) -->\n<g id=\"node1\" class=\"node\">\n<title>Head (Level 0)</title>\n<polygon fill=\"#81ff81\" stroke=\"black\" stroke-width=\"10\" points=\"688.5,-1236 355.5,-1236 355.5,-1070 688.5,-1070 688.5,-1236\"/>\n<text text-anchor=\"start\" x=\"377.5\" y=\"-1186.8\" font-family=\"monospace\" font-size=\"14.00\">Samples: &#160;&#160;&#160;&#160;&#160;29626</text>\n<text text-anchor=\"start\" x=\"377.5\" y=\"-1171.8\" font-family=\"monospace\" font-size=\"14.00\">Score: &#160;&#160;&#160;&#160;&#160;&#160;&#160;0.5</text>\n<text text-anchor=\"middle\" x=\"522\" y=\"-1156.8\" font-family=\"monospace\" font-size=\"14.00\">Test: logistic rergression on pdays</text>\n<text text-anchor=\"start\" x=\"377.5\" y=\"-1125.8\" font-family=\"monospace\" font-size=\"14.00\">0: 26325 ✓</text>\n<text text-anchor=\"start\" x=\"377.5\" y=\"-1110.8\" font-family=\"monospace\" font-size=\"14.00\">1: 3301</text>\n<text text-anchor=\"middle\" x=\"522\" y=\"-1095.8\" font-family=\"monospace\" font-size=\"14.00\"> </text>\n</g>\n<!-- Node #1 (Level 1) -->\n<g id=\"node2\" class=\"node\">\n<title>Node #1 (Level 1)</title>\n<polygon fill=\"#f2fff2\" stroke=\"black\" stroke-width=\"0.37\" points=\"519.5,-1019 136.5,-1019 136.5,-853 519.5,-853 519.5,-1019\"/>\n<text text-anchor=\"start\" x=\"158.5\" y=\"-969.8\" font-family=\"monospace\" font-size=\"14.00\">Samples: &#160;&#160;&#160;&#160;&#160;1083</text>\n<text text-anchor=\"start\" x=\"158.5\" y=\"-954.8\" font-family=\"monospace\" font-size=\"14.00\">Score: &#160;&#160;&#160;&#160;&#160;&#160;&#160;0.05</text>\n<text text-anchor=\"middle\" x=\"328\" y=\"-939.8\" font-family=\"monospace\" font-size=\"14.00\">Test: logistic rergression on nr_employed</text>\n<text text-anchor=\"start\" x=\"158.5\" y=\"-908.8\" font-family=\"monospace\" font-size=\"14.00\">0: 394</text>\n<text text-anchor=\"start\" x=\"158.5\" y=\"-893.8\" font-family=\"monospace\" font-size=\"14.00\">1: 689 ✓</text>\n<text text-anchor=\"middle\" x=\"328\" y=\"-878.8\" font-family=\"monospace\" font-size=\"14.00\"> </text>\n</g>\n<!-- Head (Level 0)&#45;&gt;Node #1 (Level 1) -->\n<g id=\"edge1\" class=\"edge\">\n<title>Head (Level 0)&#45;&gt;Node #1 (Level 1)</title>\n<path fill=\"none\" stroke=\"black\" stroke-width=\"0.26\" d=\"M447.83,-1069.8C435.07,-1055.66 421.76,-1040.91 408.85,-1026.6\"/>\n<polygon fill=\"black\" stroke=\"black\" stroke-width=\"0.26\" points=\"411.43,-1024.24 402.13,-1019.16 406.23,-1028.93 411.43,-1024.24\"/>\n<text text-anchor=\"middle\" x=\"474\" y=\"-1040.8\" font-family=\"Times,serif\" font-size=\"14.00\">sigmoid &lt;= 0.5</text>\n</g>\n<!-- Node #2 (Level 1) -->\n<g id=\"node3\" class=\"node\">\n<title>Node #2 (Level 1)</title>\n<polygon fill=\"#71ff71\" stroke=\"black\" stroke-width=\"9.63\" points=\"896,-1019 538,-1019 538,-853 896,-853 896,-1019\"/>\n<text text-anchor=\"start\" x=\"560\" y=\"-969.8\" font-family=\"monospace\" font-size=\"14.00\">Samples: &#160;&#160;&#160;&#160;&#160;28543</text>\n<text text-anchor=\"start\" x=\"560\" y=\"-954.8\" font-family=\"monospace\" font-size=\"14.00\">Score: &#160;&#160;&#160;&#160;&#160;&#160;&#160;0.56</text>\n<text text-anchor=\"middle\" x=\"717\" y=\"-939.8\" font-family=\"monospace\" font-size=\"14.00\">Test: logistic rergression on duration</text>\n<text text-anchor=\"start\" x=\"560\" y=\"-908.8\" font-family=\"monospace\" font-size=\"14.00\">0: 25931 ✓</text>\n<text text-anchor=\"start\" x=\"560\" y=\"-893.8\" font-family=\"monospace\" font-size=\"14.00\">1: 2612</text>\n<text text-anchor=\"middle\" x=\"717\" y=\"-878.8\" font-family=\"monospace\" font-size=\"14.00\"> </text>\n</g>\n<!-- Head (Level 0)&#45;&gt;Node #2 (Level 1) -->\n<g id=\"edge2\" class=\"edge\">\n<title>Head (Level 0)&#45;&gt;Node #2 (Level 1)</title>\n<path fill=\"none\" stroke=\"black\" stroke-width=\"6.74\" d=\"M596.56,-1069.8C609.37,-1055.66 622.75,-1040.91 635.74,-1026.6\"/>\n<polygon fill=\"black\" stroke=\"black\" stroke-width=\"6.74\" points=\"640.14,-1030.53 642.49,-1019.16 631.4,-1022.6 640.14,-1030.53\"/>\n<text text-anchor=\"middle\" x=\"665\" y=\"-1040.8\" font-family=\"Times,serif\" font-size=\"14.00\">sigmoid &gt; 0.5</text>\n</g>\n<!-- Node #3 (Level 2) -->\n<g id=\"node4\" class=\"node\">\n<title>Node #3 (Level 2)</title>\n<polygon fill=\"#e1ffe1\" stroke=\"black\" stroke-width=\"0.3\" points=\"224.5,-794.5 31.5,-794.5 31.5,-643.5 224.5,-643.5 224.5,-794.5\"/>\n<text text-anchor=\"start\" x=\"53.5\" y=\"-745.3\" font-family=\"monospace\" font-size=\"14.00\">Samples: &#160;&#160;&#160;&#160;&#160;892</text>\n<text text-anchor=\"middle\" x=\"128\" y=\"-730.3\" font-family=\"monospace\" font-size=\"14.00\">Score: &#160;&#160;&#160;&#160;&#160;&#160;&#160;0.12</text>\n<text text-anchor=\"start\" x=\"53.5\" y=\"-699.3\" font-family=\"monospace\" font-size=\"14.00\">0: 266</text>\n<text text-anchor=\"start\" x=\"53.5\" y=\"-684.3\" font-family=\"monospace\" font-size=\"14.00\">1: 626 ✓</text>\n<text text-anchor=\"middle\" x=\"128\" y=\"-669.3\" font-family=\"monospace\" font-size=\"14.00\"> </text>\n</g>\n<!-- Node #1 (Level 1)&#45;&gt;Node #3 (Level 2) -->\n<g id=\"edge3\" class=\"edge\">\n<title>Node #1 (Level 1)&#45;&gt;Node #3 (Level 2)</title>\n<path fill=\"none\" stroke=\"black\" stroke-width=\"5.77\" d=\"M251.53,-852.8C236.14,-836.25 219.95,-818.85 204.55,-802.29\"/>\n<polygon fill=\"black\" stroke=\"black\" stroke-width=\"5.77\" points=\"208.04,-798.64 197.54,-794.75 200.65,-805.51 208.04,-798.64\"/>\n<text text-anchor=\"middle\" x=\"277\" y=\"-823.8\" font-family=\"Times,serif\" font-size=\"14.00\">sigmoid &lt;= 0.5</text>\n</g>\n<!-- Node #4 (Level 2) -->\n<g id=\"node5\" class=\"node\">\n<title>Node #4 (Level 2)</title>\n<polygon fill=\"#eaffea\" stroke=\"black\" stroke-width=\"0.06\" points=\"575.5,-802 242.5,-802 242.5,-636 575.5,-636 575.5,-802\"/>\n<text text-anchor=\"start\" x=\"264.5\" y=\"-752.8\" font-family=\"monospace\" font-size=\"14.00\">Samples: &#160;&#160;&#160;&#160;&#160;191</text>\n<text text-anchor=\"start\" x=\"264.5\" y=\"-737.8\" font-family=\"monospace\" font-size=\"14.00\">Score: &#160;&#160;&#160;&#160;&#160;&#160;&#160;0.09</text>\n<text text-anchor=\"middle\" x=\"409\" y=\"-722.8\" font-family=\"monospace\" font-size=\"14.00\">Test: logistic rergression on month</text>\n<text text-anchor=\"start\" x=\"264.5\" y=\"-691.8\" font-family=\"monospace\" font-size=\"14.00\">0: 128 ✓</text>\n<text text-anchor=\"start\" x=\"264.5\" y=\"-676.8\" font-family=\"monospace\" font-size=\"14.00\">1: 63</text>\n<text text-anchor=\"middle\" x=\"409\" y=\"-661.8\" font-family=\"monospace\" font-size=\"14.00\"> </text>\n</g>\n<!-- Node #1 (Level 1)&#45;&gt;Node #4 (Level 2) -->\n<g id=\"edge4\" class=\"edge\">\n<title>Node #1 (Level 1)&#45;&gt;Node #4 (Level 2)</title>\n<path fill=\"none\" stroke=\"black\" stroke-width=\"1.23\" d=\"M358.97,-852.8C364.05,-839.31 369.34,-825.27 374.5,-811.57\"/>\n<polygon fill=\"black\" stroke=\"black\" stroke-width=\"1.23\" points=\"377.8,-812.75 378.05,-802.16 371.25,-810.28 377.8,-812.75\"/>\n<text text-anchor=\"middle\" x=\"410\" y=\"-823.8\" font-family=\"Times,serif\" font-size=\"14.00\">sigmoid &gt; 0.5</text>\n</g>\n<!-- Node #5 (Level 2) -->\n<g id=\"node6\" class=\"node\">\n<title>Node #5 (Level 2)</title>\n<polygon fill=\"#fafffa\" stroke=\"black\" stroke-width=\"0.26\" points=\"799.5,-794.5 606.5,-794.5 606.5,-643.5 799.5,-643.5 799.5,-794.5\"/>\n<text text-anchor=\"start\" x=\"628.5\" y=\"-745.3\" font-family=\"monospace\" font-size=\"14.00\">Samples: &#160;&#160;&#160;&#160;&#160;780</text>\n<text text-anchor=\"middle\" x=\"703\" y=\"-730.3\" font-family=\"monospace\" font-size=\"14.00\">Score: &#160;&#160;&#160;&#160;&#160;&#160;&#160;0.02</text>\n<text text-anchor=\"start\" x=\"628.5\" y=\"-699.3\" font-family=\"monospace\" font-size=\"14.00\">0: 320</text>\n<text text-anchor=\"start\" x=\"628.5\" y=\"-684.3\" font-family=\"monospace\" font-size=\"14.00\">1: 460 ✓</text>\n<text text-anchor=\"middle\" x=\"703\" y=\"-669.3\" font-family=\"monospace\" font-size=\"14.00\"> </text>\n</g>\n<!-- Node #2 (Level 1)&#45;&gt;Node #5 (Level 2) -->\n<g id=\"edge5\" class=\"edge\">\n<title>Node #2 (Level 1)&#45;&gt;Node #5 (Level 2)</title>\n<path fill=\"none\" stroke=\"black\" stroke-width=\"0.19\" d=\"M711.65,-852.8C710.63,-837.14 709.56,-820.73 708.53,-804.98\"/>\n<polygon fill=\"black\" stroke=\"black\" stroke-width=\"0.19\" points=\"712.01,-804.5 707.87,-794.75 705.02,-804.96 712.01,-804.5\"/>\n<text text-anchor=\"middle\" x=\"754\" y=\"-823.8\" font-family=\"Times,serif\" font-size=\"14.00\">sigmoid &lt;= 0.5</text>\n</g>\n<!-- Node #6 (Level 2) -->\n<g id=\"node7\" class=\"node\">\n<title>Node #6 (Level 2)</title>\n<polygon fill=\"#65ff65\" stroke=\"black\" stroke-width=\"9.37\" points=\"1176,-802 818,-802 818,-636 1176,-636 1176,-802\"/>\n<text text-anchor=\"start\" x=\"840\" y=\"-752.8\" font-family=\"monospace\" font-size=\"14.00\">Samples: &#160;&#160;&#160;&#160;&#160;27763</text>\n<text text-anchor=\"start\" x=\"840\" y=\"-737.8\" font-family=\"monospace\" font-size=\"14.00\">Score: &#160;&#160;&#160;&#160;&#160;&#160;&#160;0.61</text>\n<text text-anchor=\"middle\" x=\"997\" y=\"-722.8\" font-family=\"monospace\" font-size=\"14.00\">Test: logistic rergression on duration</text>\n<text text-anchor=\"start\" x=\"840\" y=\"-691.8\" font-family=\"monospace\" font-size=\"14.00\">0: 25611 ✓</text>\n<text text-anchor=\"start\" x=\"840\" y=\"-676.8\" font-family=\"monospace\" font-size=\"14.00\">1: 2152</text>\n<text text-anchor=\"middle\" x=\"997\" y=\"-661.8\" font-family=\"monospace\" font-size=\"14.00\"> </text>\n</g>\n<!-- Node #2 (Level 1)&#45;&gt;Node #6 (Level 2) -->\n<g id=\"edge6\" class=\"edge\">\n<title>Node #2 (Level 1)&#45;&gt;Node #6 (Level 2)</title>\n<path fill=\"none\" stroke=\"black\" stroke-width=\"6.81\" d=\"M824.05,-852.8C842.97,-838.28 862.73,-823.1 881.85,-808.42\"/>\n<polygon fill=\"black\" stroke=\"black\" stroke-width=\"6.81\" points=\"885.7,-812.97 890,-802.16 878.44,-803.52 885.7,-812.97\"/>\n<text text-anchor=\"middle\" x=\"905\" y=\"-823.8\" font-family=\"Times,serif\" font-size=\"14.00\">sigmoid &gt; 0.5</text>\n</g>\n<!-- Node #7 (Level 3) -->\n<g id=\"node8\" class=\"node\">\n<title>Node #7 (Level 3)</title>\n<polygon fill=\"#ffffff\" stroke=\"black\" stroke-width=\"0.02\" points=\"358,-585 0,-585 0,-419 358,-419 358,-585\"/>\n<text text-anchor=\"start\" x=\"22\" y=\"-535.8\" font-family=\"monospace\" font-size=\"14.00\">Samples: &#160;&#160;&#160;&#160;&#160;53</text>\n<text text-anchor=\"start\" x=\"22\" y=\"-520.8\" font-family=\"monospace\" font-size=\"14.00\">Score: &#160;&#160;&#160;&#160;&#160;&#160;&#160;0.0</text>\n<text text-anchor=\"middle\" x=\"179\" y=\"-505.8\" font-family=\"monospace\" font-size=\"14.00\">Test: logistic rergression on duration</text>\n<text text-anchor=\"start\" x=\"22\" y=\"-474.8\" font-family=\"monospace\" font-size=\"14.00\">0: 26</text>\n<text text-anchor=\"start\" x=\"22\" y=\"-459.8\" font-family=\"monospace\" font-size=\"14.00\">1: 27 ✓</text>\n<text text-anchor=\"middle\" x=\"179\" y=\"-444.8\" font-family=\"monospace\" font-size=\"14.00\"> </text>\n</g>\n<!-- Node #4 (Level 2)&#45;&gt;Node #7 (Level 3) -->\n<g id=\"edge7\" class=\"edge\">\n<title>Node #4 (Level 2)&#45;&gt;Node #7 (Level 3)</title>\n<path fill=\"none\" stroke=\"black\" stroke-width=\"1.94\" d=\"M321.06,-635.8C305.8,-621.53 289.87,-606.64 274.43,-592.2\"/>\n<polygon fill=\"black\" stroke=\"black\" stroke-width=\"1.94\" points=\"276.58,-589.43 266.89,-585.16 271.8,-594.54 276.58,-589.43\"/>\n<text text-anchor=\"middle\" x=\"344\" y=\"-606.8\" font-family=\"Times,serif\" font-size=\"14.00\">sigmoid &lt;= 0.5</text>\n</g>\n<!-- Node #8 (Level 3) -->\n<g id=\"node9\" class=\"node\">\n<title>Node #8 (Level 3)</title>\n<polygon fill=\"#d4ffd4\" stroke=\"black\" stroke-width=\"0.05\" points=\"569.5,-577.5 376.5,-577.5 376.5,-426.5 569.5,-426.5 569.5,-577.5\"/>\n<text text-anchor=\"start\" x=\"398.5\" y=\"-528.3\" font-family=\"monospace\" font-size=\"14.00\">Samples: &#160;&#160;&#160;&#160;&#160;138</text>\n<text text-anchor=\"middle\" x=\"473\" y=\"-513.3\" font-family=\"monospace\" font-size=\"14.00\">Score: &#160;&#160;&#160;&#160;&#160;&#160;&#160;0.17</text>\n<text text-anchor=\"start\" x=\"398.5\" y=\"-482.3\" font-family=\"monospace\" font-size=\"14.00\">0: 102 ✓</text>\n<text text-anchor=\"start\" x=\"398.5\" y=\"-467.3\" font-family=\"monospace\" font-size=\"14.00\">1: 36</text>\n<text text-anchor=\"middle\" x=\"473\" y=\"-452.3\" font-family=\"monospace\" font-size=\"14.00\"> </text>\n</g>\n<!-- Node #4 (Level 2)&#45;&gt;Node #8 (Level 3) -->\n<g id=\"edge8\" class=\"edge\">\n<title>Node #4 (Level 2)&#45;&gt;Node #8 (Level 3)</title>\n<path fill=\"none\" stroke=\"black\" stroke-width=\"5.06\" d=\"M433.47,-635.8C438.17,-619.99 443.11,-603.41 447.84,-587.54\"/>\n<polygon fill=\"black\" stroke=\"black\" stroke-width=\"5.06\" points=\"452.14,-588.6 450.75,-577.75 443.65,-586.07 452.14,-588.6\"/>\n<text text-anchor=\"middle\" x=\"482\" y=\"-606.8\" font-family=\"Times,serif\" font-size=\"14.00\">sigmoid &gt; 0.5</text>\n</g>\n<!-- Node #9 (Level 3) -->\n<g id=\"node10\" class=\"node\">\n<title>Node #9 (Level 3)</title>\n<polygon fill=\"#ffffff\" stroke=\"black\" stroke-width=\"0.14\" points=\"1014.5,-585 631.5,-585 631.5,-419 1014.5,-419 1014.5,-585\"/>\n<text text-anchor=\"start\" x=\"653.5\" y=\"-535.8\" font-family=\"monospace\" font-size=\"14.00\">Samples: &#160;&#160;&#160;&#160;&#160;402</text>\n<text text-anchor=\"start\" x=\"653.5\" y=\"-520.8\" font-family=\"monospace\" font-size=\"14.00\">Score: &#160;&#160;&#160;&#160;&#160;&#160;&#160;0.0</text>\n<text text-anchor=\"middle\" x=\"823\" y=\"-505.8\" font-family=\"monospace\" font-size=\"14.00\">Test: logistic rergression on nr_employed</text>\n<text text-anchor=\"start\" x=\"653.5\" y=\"-474.8\" font-family=\"monospace\" font-size=\"14.00\">0: 200</text>\n<text text-anchor=\"start\" x=\"653.5\" y=\"-459.8\" font-family=\"monospace\" font-size=\"14.00\">1: 202 ✓</text>\n<text text-anchor=\"middle\" x=\"823\" y=\"-444.8\" font-family=\"monospace\" font-size=\"14.00\"> </text>\n</g>\n<!-- Node #6 (Level 2)&#45;&gt;Node #9 (Level 3) -->\n<g id=\"edge9\" class=\"edge\">\n<title>Node #6 (Level 2)&#45;&gt;Node #9 (Level 3)</title>\n<path fill=\"none\" stroke=\"black\" stroke-width=\"0.1\" d=\"M930.47,-635.8C919.14,-621.79 907.32,-607.18 895.83,-592.99\"/>\n<polygon fill=\"black\" stroke=\"black\" stroke-width=\"0.1\" points=\"898.5,-590.73 889.49,-585.16 893.06,-595.13 898.5,-590.73\"/>\n<text text-anchor=\"middle\" x=\"959\" y=\"-606.8\" font-family=\"Times,serif\" font-size=\"14.00\">sigmoid &lt;= 0.5</text>\n</g>\n<!-- Node #10 (Level 3) -->\n<g id=\"node11\" class=\"node\">\n<title>Node #10 (Level 3)</title>\n<polygon fill=\"#5fff5f\" stroke=\"black\" stroke-width=\"9.24\" points=\"1391,-585 1033,-585 1033,-419 1391,-419 1391,-585\"/>\n<text text-anchor=\"start\" x=\"1055\" y=\"-535.8\" font-family=\"monospace\" font-size=\"14.00\">Samples: &#160;&#160;&#160;&#160;&#160;27361</text>\n<text text-anchor=\"start\" x=\"1055\" y=\"-520.8\" font-family=\"monospace\" font-size=\"14.00\">Score: &#160;&#160;&#160;&#160;&#160;&#160;&#160;0.63</text>\n<text text-anchor=\"middle\" x=\"1212\" y=\"-505.8\" font-family=\"monospace\" font-size=\"14.00\">Test: logistic rergression on duration</text>\n<text text-anchor=\"start\" x=\"1055\" y=\"-474.8\" font-family=\"monospace\" font-size=\"14.00\">0: 25411 ✓</text>\n<text text-anchor=\"start\" x=\"1055\" y=\"-459.8\" font-family=\"monospace\" font-size=\"14.00\">1: 1950</text>\n<text text-anchor=\"middle\" x=\"1212\" y=\"-444.8\" font-family=\"monospace\" font-size=\"14.00\"> </text>\n</g>\n<!-- Node #6 (Level 2)&#45;&gt;Node #10 (Level 3) -->\n<g id=\"edge10\" class=\"edge\">\n<title>Node #6 (Level 2)&#45;&gt;Node #10 (Level 3)</title>\n<path fill=\"none\" stroke=\"black\" stroke-width=\"6.9\" d=\"M1079.2,-635.8C1093.34,-621.66 1108.09,-606.91 1122.4,-592.6\"/>\n<polygon fill=\"black\" stroke=\"black\" stroke-width=\"6.9\" points=\"1127.04,-596.5 1129.84,-585.16 1118.5,-587.96 1127.04,-596.5\"/>\n<text text-anchor=\"middle\" x=\"1150\" y=\"-606.8\" font-family=\"Times,serif\" font-size=\"14.00\">sigmoid &gt; 0.5</text>\n</g>\n<!-- Node #11 (Level 4) -->\n<g id=\"node12\" class=\"node\">\n<title>Node #11 (Level 4)</title>\n<polygon fill=\"#d9ffd9\" stroke=\"black\" stroke-width=\"0.01\" points=\"200.5,-360.5 7.5,-360.5 7.5,-209.5 200.5,-209.5 200.5,-360.5\"/>\n<text text-anchor=\"start\" x=\"29.5\" y=\"-311.3\" font-family=\"monospace\" font-size=\"14.00\">Samples: &#160;&#160;&#160;&#160;&#160;29</text>\n<text text-anchor=\"middle\" x=\"104\" y=\"-296.3\" font-family=\"monospace\" font-size=\"14.00\">Score: &#160;&#160;&#160;&#160;&#160;&#160;&#160;0.15</text>\n<text text-anchor=\"start\" x=\"29.5\" y=\"-265.3\" font-family=\"monospace\" font-size=\"14.00\">0: 8</text>\n<text text-anchor=\"start\" x=\"29.5\" y=\"-250.3\" font-family=\"monospace\" font-size=\"14.00\">1: 21 ✓</text>\n<text text-anchor=\"middle\" x=\"104\" y=\"-235.3\" font-family=\"monospace\" font-size=\"14.00\"> </text>\n</g>\n<!-- Node #7 (Level 3)&#45;&gt;Node #11 (Level 4) -->\n<g id=\"edge11\" class=\"edge\">\n<title>Node #7 (Level 3)&#45;&gt;Node #11 (Level 4)</title>\n<path fill=\"none\" stroke=\"black\" stroke-width=\"3.83\" d=\"M150.32,-418.8C144.81,-402.99 139.03,-386.41 133.49,-370.54\"/>\n<polygon fill=\"black\" stroke=\"black\" stroke-width=\"3.83\" points=\"136.68,-369.04 130.08,-360.75 130.07,-371.35 136.68,-369.04\"/>\n<text text-anchor=\"middle\" x=\"187\" y=\"-389.8\" font-family=\"Times,serif\" font-size=\"14.00\">sigmoid &lt;= 0.5</text>\n</g>\n<!-- Node #12 (Level 4) -->\n<g id=\"node13\" class=\"node\">\n<title>Node #12 (Level 4)</title>\n<polygon fill=\"#cfffcf\" stroke=\"black\" stroke-width=\"0.01\" points=\"411.5,-360.5 218.5,-360.5 218.5,-209.5 411.5,-209.5 411.5,-360.5\"/>\n<text text-anchor=\"start\" x=\"240.5\" y=\"-311.3\" font-family=\"monospace\" font-size=\"14.00\">Samples: &#160;&#160;&#160;&#160;&#160;24</text>\n<text text-anchor=\"middle\" x=\"315\" y=\"-296.3\" font-family=\"monospace\" font-size=\"14.00\">Score: &#160;&#160;&#160;&#160;&#160;&#160;&#160;0.19</text>\n<text text-anchor=\"start\" x=\"240.5\" y=\"-265.3\" font-family=\"monospace\" font-size=\"14.00\">0: 18 ✓</text>\n<text text-anchor=\"start\" x=\"240.5\" y=\"-250.3\" font-family=\"monospace\" font-size=\"14.00\">1: 6</text>\n<text text-anchor=\"middle\" x=\"315\" y=\"-235.3\" font-family=\"monospace\" font-size=\"14.00\"> </text>\n</g>\n<!-- Node #7 (Level 3)&#45;&gt;Node #12 (Level 4) -->\n<g id=\"edge12\" class=\"edge\">\n<title>Node #7 (Level 3)&#45;&gt;Node #12 (Level 4)</title>\n<path fill=\"none\" stroke=\"black\" stroke-width=\"3.17\" d=\"M231,-418.8C241.18,-402.69 251.88,-385.79 262.09,-369.64\"/>\n<polygon fill=\"black\" stroke=\"black\" stroke-width=\"3.17\" points=\"265.33,-371.07 267.71,-360.75 259.41,-367.33 265.33,-371.07\"/>\n<text text-anchor=\"middle\" x=\"291\" y=\"-389.8\" font-family=\"Times,serif\" font-size=\"14.00\">sigmoid &gt; 0.5</text>\n</g>\n<!-- Node #13 (Level 4) -->\n<g id=\"node14\" class=\"node\">\n<title>Node #13 (Level 4)</title>\n<polygon fill=\"#f3fff3\" stroke=\"black\" stroke-width=\"0.04\" points=\"704.5,-360.5 511.5,-360.5 511.5,-209.5 704.5,-209.5 704.5,-360.5\"/>\n<text text-anchor=\"start\" x=\"533.5\" y=\"-311.3\" font-family=\"monospace\" font-size=\"14.00\">Samples: &#160;&#160;&#160;&#160;&#160;122</text>\n<text text-anchor=\"middle\" x=\"608\" y=\"-296.3\" font-family=\"monospace\" font-size=\"14.00\">Score: &#160;&#160;&#160;&#160;&#160;&#160;&#160;0.05</text>\n<text text-anchor=\"start\" x=\"533.5\" y=\"-265.3\" font-family=\"monospace\" font-size=\"14.00\">0: 45</text>\n<text text-anchor=\"start\" x=\"533.5\" y=\"-250.3\" font-family=\"monospace\" font-size=\"14.00\">1: 77 ✓</text>\n<text text-anchor=\"middle\" x=\"608\" y=\"-235.3\" font-family=\"monospace\" font-size=\"14.00\"> </text>\n</g>\n<!-- Node #9 (Level 3)&#45;&gt;Node #13 (Level 4) -->\n<g id=\"edge13\" class=\"edge\">\n<title>Node #9 (Level 3)&#45;&gt;Node #13 (Level 4)</title>\n<path fill=\"none\" stroke=\"black\" stroke-width=\"2.12\" d=\"M740.8,-418.8C724.1,-402.1 706.53,-384.53 689.85,-367.85\"/>\n<polygon fill=\"black\" stroke=\"black\" stroke-width=\"2.12\" points=\"692.3,-365.35 682.75,-360.75 687.35,-370.3 692.3,-365.35\"/>\n<text text-anchor=\"middle\" x=\"765\" y=\"-389.8\" font-family=\"Times,serif\" font-size=\"14.00\">sigmoid &lt;= 0.5</text>\n</g>\n<!-- Node #14 (Level 4) -->\n<g id=\"node15\" class=\"node\">\n<title>Node #14 (Level 4)</title>\n<polygon fill=\"#fdfffd\" stroke=\"black\" stroke-width=\"0.09\" points=\"1039.5,-368 722.5,-368 722.5,-202 1039.5,-202 1039.5,-368\"/>\n<text text-anchor=\"start\" x=\"744.5\" y=\"-318.8\" font-family=\"monospace\" font-size=\"14.00\">Samples: &#160;&#160;&#160;&#160;&#160;280</text>\n<text text-anchor=\"start\" x=\"744.5\" y=\"-303.8\" font-family=\"monospace\" font-size=\"14.00\">Score: &#160;&#160;&#160;&#160;&#160;&#160;&#160;0.01</text>\n<text text-anchor=\"middle\" x=\"881\" y=\"-288.8\" font-family=\"monospace\" font-size=\"14.00\">Test: logistic rergression on job</text>\n<text text-anchor=\"start\" x=\"744.5\" y=\"-257.8\" font-family=\"monospace\" font-size=\"14.00\">0: 155 ✓</text>\n<text text-anchor=\"start\" x=\"744.5\" y=\"-242.8\" font-family=\"monospace\" font-size=\"14.00\">1: 125</text>\n<text text-anchor=\"middle\" x=\"881\" y=\"-227.8\" font-family=\"monospace\" font-size=\"14.00\"> </text>\n</g>\n<!-- Node #9 (Level 3)&#45;&gt;Node #14 (Level 4) -->\n<g id=\"edge14\" class=\"edge\">\n<title>Node #9 (Level 3)&#45;&gt;Node #14 (Level 4)</title>\n<path fill=\"none\" stroke=\"black\" stroke-width=\"4.88\" d=\"M845.18,-418.8C848.78,-405.44 852.53,-391.54 856.19,-377.97\"/>\n<polygon fill=\"black\" stroke=\"black\" stroke-width=\"4.88\" points=\"860.35,-378.92 858.84,-368.16 852.11,-376.7 860.35,-378.92\"/>\n<text text-anchor=\"middle\" x=\"893\" y=\"-389.8\" font-family=\"Times,serif\" font-size=\"14.00\">sigmoid &gt; 0.5</text>\n</g>\n<!-- Node #15 (Level 4) -->\n<g id=\"node16\" class=\"node\">\n<title>Node #15 (Level 4)</title>\n<polygon fill=\"#edffed\" stroke=\"black\" stroke-width=\"0.03\" points=\"1252.5,-360.5 1059.5,-360.5 1059.5,-209.5 1252.5,-209.5 1252.5,-360.5\"/>\n<text text-anchor=\"start\" x=\"1081.5\" y=\"-311.3\" font-family=\"monospace\" font-size=\"14.00\">Samples: &#160;&#160;&#160;&#160;&#160;88</text>\n<text text-anchor=\"middle\" x=\"1156\" y=\"-296.3\" font-family=\"monospace\" font-size=\"14.00\">Score: &#160;&#160;&#160;&#160;&#160;&#160;&#160;0.07</text>\n<text text-anchor=\"start\" x=\"1081.5\" y=\"-265.3\" font-family=\"monospace\" font-size=\"14.00\">0: 58 ✓</text>\n<text text-anchor=\"start\" x=\"1081.5\" y=\"-250.3\" font-family=\"monospace\" font-size=\"14.00\">1: 30</text>\n<text text-anchor=\"middle\" x=\"1156\" y=\"-235.3\" font-family=\"monospace\" font-size=\"14.00\"> </text>\n</g>\n<!-- Node #10 (Level 3)&#45;&gt;Node #15 (Level 4) -->\n<g id=\"edge15\" class=\"edge\">\n<title>Node #10 (Level 3)&#45;&gt;Node #15 (Level 4)</title>\n<path fill=\"none\" stroke=\"black\" stroke-width=\"0.02\" d=\"M1165.78,-418.92C1163.54,-412.97 1161.57,-406.96 1160,-401 1157.47,-391.36 1155.77,-381.12 1154.68,-370.86\"/>\n<polygon fill=\"black\" stroke=\"black\" stroke-width=\"0.02\" points=\"1158.14,-370.29 1153.78,-360.63 1151.16,-370.9 1158.14,-370.29\"/>\n<text text-anchor=\"middle\" x=\"1203\" y=\"-389.8\" font-family=\"Times,serif\" font-size=\"14.00\">sigmoid &lt;= 0.5</text>\n</g>\n<!-- Node #16 (Level 4) -->\n<g id=\"node17\" class=\"node\">\n<title>Node #16 (Level 4)</title>\n<polygon fill=\"#5eff5e\" stroke=\"black\" stroke-width=\"9.21\" points=\"1629,-368 1271,-368 1271,-202 1629,-202 1629,-368\"/>\n<text text-anchor=\"start\" x=\"1293\" y=\"-318.8\" font-family=\"monospace\" font-size=\"14.00\">Samples: &#160;&#160;&#160;&#160;&#160;27273</text>\n<text text-anchor=\"start\" x=\"1293\" y=\"-303.8\" font-family=\"monospace\" font-size=\"14.00\">Score: &#160;&#160;&#160;&#160;&#160;&#160;&#160;0.63</text>\n<text text-anchor=\"middle\" x=\"1450\" y=\"-288.8\" font-family=\"monospace\" font-size=\"14.00\">Test: logistic rergression on duration</text>\n<text text-anchor=\"start\" x=\"1293\" y=\"-257.8\" font-family=\"monospace\" font-size=\"14.00\">0: 25353 ✓</text>\n<text text-anchor=\"start\" x=\"1293\" y=\"-242.8\" font-family=\"monospace\" font-size=\"14.00\">1: 1920</text>\n<text text-anchor=\"middle\" x=\"1450\" y=\"-227.8\" font-family=\"monospace\" font-size=\"14.00\"> </text>\n</g>\n<!-- Node #10 (Level 3)&#45;&gt;Node #16 (Level 4) -->\n<g id=\"edge16\" class=\"edge\">\n<title>Node #10 (Level 3)&#45;&gt;Node #16 (Level 4)</title>\n<path fill=\"none\" stroke=\"black\" stroke-width=\"6.98\" d=\"M1303,-418.8C1318.78,-404.53 1335.27,-389.64 1351.25,-375.2\"/>\n<polygon fill=\"black\" stroke=\"black\" stroke-width=\"6.98\" points=\"1355.73,-379.39 1359.05,-368.16 1347.54,-370.33 1355.73,-379.39\"/>\n<text text-anchor=\"middle\" x=\"1378\" y=\"-389.8\" font-family=\"Times,serif\" font-size=\"14.00\">sigmoid &gt; 0.5</text>\n</g>\n<!-- Node #17 (Level 5) -->\n<g id=\"node18\" class=\"node\">\n<title>Node #17 (Level 5)</title>\n<polygon fill=\"#f9fff9\" stroke=\"black\" stroke-width=\"0.02\" points=\"841.5,-151 648.5,-151 648.5,0 841.5,0 841.5,-151\"/>\n<text text-anchor=\"start\" x=\"670.5\" y=\"-101.8\" font-family=\"monospace\" font-size=\"14.00\">Samples: &#160;&#160;&#160;&#160;&#160;59</text>\n<text text-anchor=\"middle\" x=\"745\" y=\"-86.8\" font-family=\"monospace\" font-size=\"14.00\">Score: &#160;&#160;&#160;&#160;&#160;&#160;&#160;0.03</text>\n<text text-anchor=\"start\" x=\"670.5\" y=\"-55.8\" font-family=\"monospace\" font-size=\"14.00\">0: 24</text>\n<text text-anchor=\"start\" x=\"670.5\" y=\"-40.8\" font-family=\"monospace\" font-size=\"14.00\">1: 35 ✓</text>\n<text text-anchor=\"middle\" x=\"745\" y=\"-25.8\" font-family=\"monospace\" font-size=\"14.00\"> </text>\n</g>\n<!-- Node #14 (Level 4)&#45;&gt;Node #17 (Level 5) -->\n<g id=\"edge17\" class=\"edge\">\n<title>Node #14 (Level 4)&#45;&gt;Node #17 (Level 5)</title>\n<path fill=\"none\" stroke=\"black\" stroke-width=\"1.48\" d=\"M827.25,-201.99C818.15,-188.11 808.69,-173.68 799.57,-159.76\"/>\n<polygon fill=\"black\" stroke=\"black\" stroke-width=\"1.48\" points=\"802.35,-157.62 793.94,-151.17 796.5,-161.46 802.35,-157.62\"/>\n<text text-anchor=\"middle\" x=\"856\" y=\"-172.8\" font-family=\"Times,serif\" font-size=\"14.00\">sigmoid &lt;= 0.5</text>\n</g>\n<!-- Node #18 (Level 5) -->\n<g id=\"node19\" class=\"node\">\n<title>Node #18 (Level 5)</title>\n<polygon fill=\"#f9fff9\" stroke=\"black\" stroke-width=\"0.07\" points=\"1052.5,-151 859.5,-151 859.5,0 1052.5,0 1052.5,-151\"/>\n<text text-anchor=\"start\" x=\"881.5\" y=\"-101.8\" font-family=\"monospace\" font-size=\"14.00\">Samples: &#160;&#160;&#160;&#160;&#160;221</text>\n<text text-anchor=\"middle\" x=\"956\" y=\"-86.8\" font-family=\"monospace\" font-size=\"14.00\">Score: &#160;&#160;&#160;&#160;&#160;&#160;&#160;0.02</text>\n<text text-anchor=\"start\" x=\"881.5\" y=\"-55.8\" font-family=\"monospace\" font-size=\"14.00\">0: 131 ✓</text>\n<text text-anchor=\"start\" x=\"881.5\" y=\"-40.8\" font-family=\"monospace\" font-size=\"14.00\">1: 90</text>\n<text text-anchor=\"middle\" x=\"956\" y=\"-25.8\" font-family=\"monospace\" font-size=\"14.00\"> </text>\n</g>\n<!-- Node #14 (Level 4)&#45;&gt;Node #18 (Level 5) -->\n<g id=\"edge18\" class=\"edge\">\n<title>Node #14 (Level 4)&#45;&gt;Node #18 (Level 5)</title>\n<path fill=\"none\" stroke=\"black\" stroke-width=\"5.52\" d=\"M910.64,-201.99C915.52,-188.5 920.58,-174.49 925.48,-160.95\"/>\n<polygon fill=\"black\" stroke=\"black\" stroke-width=\"5.52\" points=\"930.16,-162.22 929.01,-151.17 921.06,-158.94 930.16,-162.22\"/>\n<text text-anchor=\"middle\" x=\"960\" y=\"-172.8\" font-family=\"Times,serif\" font-size=\"14.00\">sigmoid &gt; 0.5</text>\n</g>\n<!-- Node #19 (Level 5) -->\n<g id=\"node20\" class=\"node\">\n<title>Node #19 (Level 5)</title>\n<polygon fill=\"#ffffff\" stroke=\"black\" stroke-width=\"0.02\" points=\"1436.5,-151 1251.5,-151 1251.5,0 1436.5,0 1436.5,-151\"/>\n<text text-anchor=\"start\" x=\"1273.5\" y=\"-101.8\" font-family=\"monospace\" font-size=\"14.00\">Samples: &#160;&#160;&#160;&#160;&#160;45</text>\n<text text-anchor=\"middle\" x=\"1344\" y=\"-86.8\" font-family=\"monospace\" font-size=\"14.00\">Score: &#160;&#160;&#160;&#160;&#160;&#160;&#160;0.0</text>\n<text text-anchor=\"start\" x=\"1273.5\" y=\"-55.8\" font-family=\"monospace\" font-size=\"14.00\">0: 24 ✓</text>\n<text text-anchor=\"start\" x=\"1273.5\" y=\"-40.8\" font-family=\"monospace\" font-size=\"14.00\">1: 21</text>\n<text text-anchor=\"middle\" x=\"1344\" y=\"-25.8\" font-family=\"monospace\" font-size=\"14.00\"> </text>\n</g>\n<!-- Node #16 (Level 4)&#45;&gt;Node #19 (Level 5) -->\n<g id=\"edge19\" class=\"edge\">\n<title>Node #16 (Level 4)&#45;&gt;Node #19 (Level 5)</title>\n<path fill=\"none\" stroke=\"black\" stroke-width=\"0.01\" d=\"M1408.11,-201.99C1401.08,-188.24 1393.78,-173.95 1386.74,-160.16\"/>\n<polygon fill=\"black\" stroke=\"black\" stroke-width=\"0.01\" points=\"1389.81,-158.49 1382.15,-151.17 1383.58,-161.67 1389.81,-158.49\"/>\n<text text-anchor=\"middle\" x=\"1440\" y=\"-172.8\" font-family=\"Times,serif\" font-size=\"14.00\">sigmoid &lt;= 0.5</text>\n</g>\n<!-- Node #20 (Level 5) -->\n<g id=\"node21\" class=\"node\">\n<title>Node #20 (Level 5)</title>\n<polygon fill=\"#5eff5e\" stroke=\"black\" stroke-width=\"9.19\" points=\"1655.5,-151 1454.5,-151 1454.5,0 1655.5,0 1655.5,-151\"/>\n<text text-anchor=\"start\" x=\"1476.5\" y=\"-101.8\" font-family=\"monospace\" font-size=\"14.00\">Samples: &#160;&#160;&#160;&#160;&#160;27228</text>\n<text text-anchor=\"middle\" x=\"1555\" y=\"-86.8\" font-family=\"monospace\" font-size=\"14.00\">Score: &#160;&#160;&#160;&#160;&#160;&#160;&#160;0.64</text>\n<text text-anchor=\"start\" x=\"1476.5\" y=\"-55.8\" font-family=\"monospace\" font-size=\"14.00\">0: 25329 ✓</text>\n<text text-anchor=\"start\" x=\"1476.5\" y=\"-40.8\" font-family=\"monospace\" font-size=\"14.00\">1: 1899</text>\n<text text-anchor=\"middle\" x=\"1555\" y=\"-25.8\" font-family=\"monospace\" font-size=\"14.00\"> </text>\n</g>\n<!-- Node #16 (Level 4)&#45;&gt;Node #20 (Level 5) -->\n<g id=\"edge20\" class=\"edge\">\n<title>Node #16 (Level 4)&#45;&gt;Node #20 (Level 5)</title>\n<path fill=\"none\" stroke=\"black\" stroke-width=\"6.99\" d=\"M1491.5,-201.99C1498.46,-188.24 1505.69,-173.95 1512.67,-160.16\"/>\n<polygon fill=\"black\" stroke=\"black\" stroke-width=\"6.99\" points=\"1518.15,-162.86 1517.21,-151.17 1507.24,-157.34 1518.15,-162.86\"/>\n<text text-anchor=\"middle\" x=\"1544\" y=\"-172.8\" font-family=\"Times,serif\" font-size=\"14.00\">sigmoid &gt; 0.5</text>\n</g>\n</g>\n</svg>\n",
      "text/plain": [
       "<graphviz.dot.Digraph at 0x7fb9ab460490>"
      ]
     },
     "execution_count": 373,
     "metadata": {},
     "output_type": "execute_result"
    }
   ],
   "source": [
    "treeData3Simple.generate_dot_graph()"
   ]
  },
  {
   "cell_type": "code",
   "execution_count": 374,
   "metadata": {},
   "outputs": [
    {
     "name": "stdout",
     "output_type": "stream",
     "text": [
      "Accuracy =  0.9038882138517619\n",
      "Macro Precision =  0.7812902242109062\n",
      "Micro Precision =  0.9038882138517619\n",
      "Weighted Precision =  0.8891479912166673\n",
      "Macro Recall =  0.6589422171045745\n",
      "Micro Recall =  0.9038882138517619\n",
      "Weighted Recall =  0.9038882138517619\n",
      "Macro F1 =  0.6969207421527118\n",
      "Micro F1 =  0.9038882138517619\n",
      "Weighted F1 =  0.8906503296892729\n",
      "\n",
      "Classification Report\n",
      "               precision    recall  f1-score   support\n",
      "\n",
      "           0       0.92      0.98      0.95      7298\n",
      "           1       0.64      0.34      0.45       932\n",
      "\n",
      "    accuracy                           0.90      8230\n",
      "   macro avg       0.78      0.66      0.70      8230\n",
      "weighted avg       0.89      0.90      0.89      8230\n",
      "\n"
     ]
    }
   ],
   "source": [
    "preds = treeData3Simple.predict(X_test.values)\n",
    "preds = [float(i) for i in preds]\n",
    "runMetrics(y_test.values, preds)"
   ]
  },
  {
   "cell_type": "code",
   "execution_count": 380,
   "metadata": {},
   "outputs": [
    {
     "data": {
      "image/png": "[encoded data removed]",
      "text/plain": [
       "<Figure size 640x480 with 1 Axes>"
      ]
     },
     "metadata": {},
     "output_type": "display_data"
    },
    {
     "name": "stdout",
     "output_type": "stream",
     "text": [
      "AUC =  0.6849927724333905\n"
     ]
    }
   ],
   "source": [
    "getAucRocMetrics(y_test.values, treeData3Simple.predict_proba(X_test.values)[:, 1], 1)"
   ]
  },
  {
   "cell_type": "code",
   "execution_count": 381,
   "metadata": {},
   "outputs": [],
   "source": [
    "treeData3Simple = HDTreeClassifier(\n",
    "                    allowed_splits=[LogisticRegressionDoubleCategorySplit.build()], \n",
    "                    # allowed_splits=[LogisticRegressionSingleSplit.build(), TwoQuantileRangeSplit.build()], \n",
    "                    # allowed_splits=[FixedValueSplit.build(), SingleCategorySplit.build(), TwentyQuantileRangeSplit.build(), TwentyQuantileSplit.build()],\n",
    "                    information_measure=EntropyMeasure(), \n",
    "                    attribute_names=col_names, \n",
    "                    max_levels=5,\n",
    "                    min_samples_at_leaf=10)"
   ]
  },
  {
   "cell_type": "code",
   "execution_count": 382,
   "metadata": {},
   "outputs": [
    {
     "name": "stdout",
     "output_type": "stream",
     "text": [
      "0.8958684938905016\n",
      "0.8873025516403402\n",
      "0.8922235722964763\n"
     ]
    }
   ],
   "source": [
    "treeData3Simple.fit(X_train.values, y_train.values)\n",
    "print(treeData3Simple.score(X_train.values, y_train.values))\n",
    "print(treeData3Simple.score(X_test.values, y_test.values))"
   ]
  },
  {
   "cell_type": "code",
   "execution_count": 383,
   "metadata": {},
   "outputs": [
    {
     "data": {
      "image/svg+xml": "<?xml version=\"1.0\" encoding=\"UTF-8\" standalone=\"no\"?>\n<!DOCTYPE svg PUBLIC \"-//W3C//DTD SVG 1.1//EN\"\n \"http://www.w3.org/Graphics/SVG/1.1/DTD/svg11.dtd\">\n<!-- Generated by graphviz version 5.0.1 (20220820.1526)\n -->\n<!-- Pages: 1 -->\n<svg width=\"1912pt\" height=\"1244pt\"\n viewBox=\"0.00 0.00 1911.50 1244.00\" xmlns=\"http://www.w3.org/2000/svg\" xmlns:xlink=\"http://www.w3.org/1999/xlink\">\n<g id=\"graph0\" class=\"graph\" transform=\"scale(1 1) rotate(0) translate(4 1240)\">\n<polygon fill=\"white\" stroke=\"none\" points=\"-4,4 -4,-1240 1907.5,-1240 1907.5,4 -4,4\"/>\n<!-- Head (Level 0) -->\n<g id=\"node1\" class=\"node\">\n<title>Head (Level 0)</title>\n<polygon fill=\"#81ff81\" stroke=\"black\" stroke-width=\"10\" points=\"895.5,-1236 454.5,-1236 454.5,-1070 895.5,-1070 895.5,-1236\"/>\n<text text-anchor=\"start\" x=\"476.5\" y=\"-1186.8\" font-family=\"monospace\" font-size=\"14.00\">Samples: &#160;&#160;&#160;&#160;&#160;29626</text>\n<text text-anchor=\"start\" x=\"476.5\" y=\"-1171.8\" font-family=\"monospace\" font-size=\"14.00\">Score: &#160;&#160;&#160;&#160;&#160;&#160;&#160;0.5</text>\n<text text-anchor=\"middle\" x=\"675\" y=\"-1156.8\" font-family=\"monospace\" font-size=\"14.00\">Test: Logistic Regression using age and duration</text>\n<text text-anchor=\"start\" x=\"476.5\" y=\"-1125.8\" font-family=\"monospace\" font-size=\"14.00\">0: 26325 ✓</text>\n<text text-anchor=\"start\" x=\"476.5\" y=\"-1110.8\" font-family=\"monospace\" font-size=\"14.00\">1: 3301</text>\n<text text-anchor=\"middle\" x=\"675\" y=\"-1095.8\" font-family=\"monospace\" font-size=\"14.00\"> </text>\n</g>\n<!-- Node #1 (Level 1) -->\n<g id=\"node2\" class=\"node\">\n<title>Node #1 (Level 1)</title>\n<polygon fill=\"#f8fff8\" stroke=\"black\" stroke-width=\"0.31\" points=\"717.5,-1011.5 524.5,-1011.5 524.5,-860.5 717.5,-860.5 717.5,-1011.5\"/>\n<text text-anchor=\"start\" x=\"546.5\" y=\"-962.3\" font-family=\"monospace\" font-size=\"14.00\">Samples: &#160;&#160;&#160;&#160;&#160;914</text>\n<text text-anchor=\"middle\" x=\"621\" y=\"-947.3\" font-family=\"monospace\" font-size=\"14.00\">Score: &#160;&#160;&#160;&#160;&#160;&#160;&#160;0.03</text>\n<text text-anchor=\"start\" x=\"546.5\" y=\"-916.3\" font-family=\"monospace\" font-size=\"14.00\">0: 364</text>\n<text text-anchor=\"start\" x=\"546.5\" y=\"-901.3\" font-family=\"monospace\" font-size=\"14.00\">1: 550 ✓</text>\n<text text-anchor=\"middle\" x=\"621\" y=\"-886.3\" font-family=\"monospace\" font-size=\"14.00\"> </text>\n</g>\n<!-- Head (Level 0)&#45;&gt;Node #1 (Level 1) -->\n<g id=\"edge1\" class=\"edge\">\n<title>Head (Level 0)&#45;&gt;Node #1 (Level 1)</title>\n<path fill=\"none\" stroke=\"black\" stroke-width=\"0.22\" d=\"M654.35,-1069.8C650.38,-1053.99 646.22,-1037.41 642.23,-1021.54\"/>\n<polygon fill=\"black\" stroke=\"black\" stroke-width=\"0.22\" points=\"645.61,-1020.6 639.78,-1011.75 638.82,-1022.3 645.61,-1020.6\"/>\n<text text-anchor=\"middle\" x=\"693\" y=\"-1040.8\" font-family=\"Times,serif\" font-size=\"14.00\">sigmoid &lt;= 0.5</text>\n</g>\n<!-- Node #2 (Level 1) -->\n<g id=\"node3\" class=\"node\">\n<title>Node #2 (Level 1)</title>\n<polygon fill=\"#75ff75\" stroke=\"black\" stroke-width=\"9.69\" points=\"1176.5,-1019 735.5,-1019 735.5,-853 1176.5,-853 1176.5,-1019\"/>\n<text text-anchor=\"start\" x=\"757.5\" y=\"-969.8\" font-family=\"monospace\" font-size=\"14.00\">Samples: &#160;&#160;&#160;&#160;&#160;28712</text>\n<text text-anchor=\"start\" x=\"757.5\" y=\"-954.8\" font-family=\"monospace\" font-size=\"14.00\">Score: &#160;&#160;&#160;&#160;&#160;&#160;&#160;0.54</text>\n<text text-anchor=\"middle\" x=\"956\" y=\"-939.8\" font-family=\"monospace\" font-size=\"14.00\">Test: Logistic Regression using age and duration</text>\n<text text-anchor=\"start\" x=\"757.5\" y=\"-908.8\" font-family=\"monospace\" font-size=\"14.00\">0: 25961 ✓</text>\n<text text-anchor=\"start\" x=\"757.5\" y=\"-893.8\" font-family=\"monospace\" font-size=\"14.00\">1: 2751</text>\n<text text-anchor=\"middle\" x=\"956\" y=\"-878.8\" font-family=\"monospace\" font-size=\"14.00\"> </text>\n</g>\n<!-- Head (Level 0)&#45;&gt;Node #2 (Level 1) -->\n<g id=\"edge2\" class=\"edge\">\n<title>Head (Level 0)&#45;&gt;Node #2 (Level 1)</title>\n<path fill=\"none\" stroke=\"black\" stroke-width=\"6.78\" d=\"M782.44,-1069.8C801.42,-1055.28 821.25,-1040.1 840.44,-1025.42\"/>\n<polygon fill=\"black\" stroke=\"black\" stroke-width=\"6.78\" points=\"844.29,-1029.95 848.62,-1019.16 837.07,-1020.52 844.29,-1029.95\"/>\n<text text-anchor=\"middle\" x=\"863\" y=\"-1040.8\" font-family=\"Times,serif\" font-size=\"14.00\">sigmoid &gt; 0.5</text>\n</g>\n<!-- Node #3 (Level 2) -->\n<g id=\"node4\" class=\"node\">\n<title>Node #3 (Level 2)</title>\n<polygon fill=\"#fcfffc\" stroke=\"black\" stroke-width=\"0.16\" points=\"876,-802 460,-802 460,-636 876,-636 876,-802\"/>\n<text text-anchor=\"start\" x=\"482\" y=\"-752.8\" font-family=\"monospace\" font-size=\"14.00\">Samples: &#160;&#160;&#160;&#160;&#160;472</text>\n<text text-anchor=\"start\" x=\"482\" y=\"-737.8\" font-family=\"monospace\" font-size=\"14.00\">Score: &#160;&#160;&#160;&#160;&#160;&#160;&#160;0.01</text>\n<text text-anchor=\"middle\" x=\"668\" y=\"-722.8\" font-family=\"monospace\" font-size=\"14.00\">Test: Logistic Regression using age and pdays</text>\n<text text-anchor=\"start\" x=\"482\" y=\"-691.8\" font-family=\"monospace\" font-size=\"14.00\">0: 267 ✓</text>\n<text text-anchor=\"start\" x=\"482\" y=\"-676.8\" font-family=\"monospace\" font-size=\"14.00\">1: 205</text>\n<text text-anchor=\"middle\" x=\"668\" y=\"-661.8\" font-family=\"monospace\" font-size=\"14.00\"> </text>\n</g>\n<!-- Node #2 (Level 1)&#45;&gt;Node #3 (Level 2) -->\n<g id=\"edge3\" class=\"edge\">\n<title>Node #2 (Level 1)&#45;&gt;Node #3 (Level 2)</title>\n<path fill=\"none\" stroke=\"black\" stroke-width=\"0.12\" d=\"M845.89,-852.8C826.35,-838.21 805.93,-822.97 786.17,-808.22\"/>\n<polygon fill=\"black\" stroke=\"black\" stroke-width=\"0.12\" points=\"788.16,-805.33 778.05,-802.16 783.97,-810.94 788.16,-805.33\"/>\n<text text-anchor=\"middle\" x=\"864\" y=\"-823.8\" font-family=\"Times,serif\" font-size=\"14.00\">sigmoid &lt;= 0.5</text>\n</g>\n<!-- Node #4 (Level 2) -->\n<g id=\"node5\" class=\"node\">\n<title>Node #4 (Level 2)</title>\n<polygon fill=\"#70ff70\" stroke=\"black\" stroke-width=\"9.53\" points=\"1372.5,-802 931.5,-802 931.5,-636 1372.5,-636 1372.5,-802\"/>\n<text text-anchor=\"start\" x=\"953.5\" y=\"-752.8\" font-family=\"monospace\" font-size=\"14.00\">Samples: &#160;&#160;&#160;&#160;&#160;28240</text>\n<text text-anchor=\"start\" x=\"953.5\" y=\"-737.8\" font-family=\"monospace\" font-size=\"14.00\">Score: &#160;&#160;&#160;&#160;&#160;&#160;&#160;0.56</text>\n<text text-anchor=\"middle\" x=\"1152\" y=\"-722.8\" font-family=\"monospace\" font-size=\"14.00\">Test: Logistic Regression using age and duration</text>\n<text text-anchor=\"start\" x=\"953.5\" y=\"-691.8\" font-family=\"monospace\" font-size=\"14.00\">0: 25694 ✓</text>\n<text text-anchor=\"start\" x=\"953.5\" y=\"-676.8\" font-family=\"monospace\" font-size=\"14.00\">1: 2546</text>\n<text text-anchor=\"middle\" x=\"1152\" y=\"-661.8\" font-family=\"monospace\" font-size=\"14.00\"> </text>\n</g>\n<!-- Node #2 (Level 1)&#45;&gt;Node #4 (Level 2) -->\n<g id=\"edge4\" class=\"edge\">\n<title>Node #2 (Level 1)&#45;&gt;Node #4 (Level 2)</title>\n<path fill=\"none\" stroke=\"black\" stroke-width=\"6.88\" d=\"M1030.94,-852.8C1043.82,-838.66 1057.27,-823.91 1070.32,-809.6\"/>\n<polygon fill=\"black\" stroke=\"black\" stroke-width=\"6.88\" points=\"1074.82,-813.61 1077.1,-802.16 1065.91,-805.49 1074.82,-813.61\"/>\n<text text-anchor=\"middle\" x=\"1099\" y=\"-823.8\" font-family=\"Times,serif\" font-size=\"14.00\">sigmoid &gt; 0.5</text>\n</g>\n<!-- Node #5 (Level 3) -->\n<g id=\"node6\" class=\"node\">\n<title>Node #5 (Level 3)</title>\n<polygon fill=\"#a2ffa2\" stroke=\"black\" stroke-width=\"0.01\" points=\"404.5,-577.5 211.5,-577.5 211.5,-426.5 404.5,-426.5 404.5,-577.5\"/>\n<text text-anchor=\"start\" x=\"233.5\" y=\"-528.3\" font-family=\"monospace\" font-size=\"14.00\">Samples: &#160;&#160;&#160;&#160;&#160;25</text>\n<text text-anchor=\"middle\" x=\"308\" y=\"-513.3\" font-family=\"monospace\" font-size=\"14.00\">Score: &#160;&#160;&#160;&#160;&#160;&#160;&#160;0.37</text>\n<text text-anchor=\"start\" x=\"233.5\" y=\"-482.3\" font-family=\"monospace\" font-size=\"14.00\">0: 4</text>\n<text text-anchor=\"start\" x=\"233.5\" y=\"-467.3\" font-family=\"monospace\" font-size=\"14.00\">1: 21 ✓</text>\n<text text-anchor=\"middle\" x=\"308\" y=\"-452.3\" font-family=\"monospace\" font-size=\"14.00\"> </text>\n</g>\n<!-- Node #3 (Level 2)&#45;&gt;Node #5 (Level 3) -->\n<g id=\"edge5\" class=\"edge\">\n<title>Node #3 (Level 2)&#45;&gt;Node #5 (Level 3)</title>\n<path fill=\"none\" stroke=\"black\" stroke-width=\"0.37\" d=\"M500.96,-635.91C471.47,-619.91 441.44,-602.6 414,-585 413.07,-584.4 412.14,-583.8 411.2,-583.19\"/>\n<polygon fill=\"black\" stroke=\"black\" stroke-width=\"0.37\" points=\"413.03,-580.2 402.77,-577.57 409.15,-586.03 413.03,-580.2\"/>\n<text text-anchor=\"middle\" x=\"511\" y=\"-606.8\" font-family=\"Times,serif\" font-size=\"14.00\">sigmoid &lt;= 0.5</text>\n</g>\n<!-- Node #6 (Level 3) -->\n<g id=\"node7\" class=\"node\">\n<title>Node #6 (Level 3)</title>\n<polygon fill=\"#fafffa\" stroke=\"black\" stroke-width=\"0.15\" points=\"913,-585 423,-585 423,-419 913,-419 913,-585\"/>\n<text text-anchor=\"start\" x=\"445\" y=\"-535.8\" font-family=\"monospace\" font-size=\"14.00\">Samples: &#160;&#160;&#160;&#160;&#160;447</text>\n<text text-anchor=\"start\" x=\"445\" y=\"-520.8\" font-family=\"monospace\" font-size=\"14.00\">Score: &#160;&#160;&#160;&#160;&#160;&#160;&#160;0.02</text>\n<text text-anchor=\"middle\" x=\"668\" y=\"-505.8\" font-family=\"monospace\" font-size=\"14.00\">Test: Logistic Regression using age and cons_price_idx</text>\n<text text-anchor=\"start\" x=\"445\" y=\"-474.8\" font-family=\"monospace\" font-size=\"14.00\">0: 263 ✓</text>\n<text text-anchor=\"start\" x=\"445\" y=\"-459.8\" font-family=\"monospace\" font-size=\"14.00\">1: 184</text>\n<text text-anchor=\"middle\" x=\"668\" y=\"-444.8\" font-family=\"monospace\" font-size=\"14.00\"> </text>\n</g>\n<!-- Node #3 (Level 2)&#45;&gt;Node #6 (Level 3) -->\n<g id=\"edge6\" class=\"edge\">\n<title>Node #3 (Level 2)&#45;&gt;Node #6 (Level 3)</title>\n<path fill=\"none\" stroke=\"black\" stroke-width=\"6.63\" d=\"M668,-635.8C668,-622.57 668,-608.81 668,-595.36\"/>\n<polygon fill=\"black\" stroke=\"black\" stroke-width=\"6.63\" points=\"673.8,-595.16 668,-585.16 662.2,-595.16 673.8,-595.16\"/>\n<text text-anchor=\"middle\" x=\"707\" y=\"-606.8\" font-family=\"Times,serif\" font-size=\"14.00\">sigmoid &gt; 0.5</text>\n</g>\n<!-- Node #7 (Level 3) -->\n<g id=\"node8\" class=\"node\">\n<title>Node #7 (Level 3)</title>\n<polygon fill=\"#ffffff\" stroke=\"black\" stroke-width=\"0.06\" points=\"1372.5,-585 931.5,-585 931.5,-419 1372.5,-419 1372.5,-585\"/>\n<text text-anchor=\"start\" x=\"953.5\" y=\"-535.8\" font-family=\"monospace\" font-size=\"14.00\">Samples: &#160;&#160;&#160;&#160;&#160;186</text>\n<text text-anchor=\"start\" x=\"953.5\" y=\"-520.8\" font-family=\"monospace\" font-size=\"14.00\">Score: &#160;&#160;&#160;&#160;&#160;&#160;&#160;0.0</text>\n<text text-anchor=\"middle\" x=\"1152\" y=\"-505.8\" font-family=\"monospace\" font-size=\"14.00\">Test: Logistic Regression using age and duration</text>\n<text text-anchor=\"start\" x=\"953.5\" y=\"-474.8\" font-family=\"monospace\" font-size=\"14.00\">0: 96 ✓</text>\n<text text-anchor=\"start\" x=\"953.5\" y=\"-459.8\" font-family=\"monospace\" font-size=\"14.00\">1: 90</text>\n<text text-anchor=\"middle\" x=\"1152\" y=\"-444.8\" font-family=\"monospace\" font-size=\"14.00\"> </text>\n</g>\n<!-- Node #4 (Level 2)&#45;&gt;Node #7 (Level 3) -->\n<g id=\"edge7\" class=\"edge\">\n<title>Node #4 (Level 2)&#45;&gt;Node #7 (Level 3)</title>\n<path fill=\"none\" stroke=\"black\" stroke-width=\"0.05\" d=\"M1152,-635.8C1152,-622.57 1152,-608.81 1152,-595.36\"/>\n<polygon fill=\"black\" stroke=\"black\" stroke-width=\"0.05\" points=\"1155.5,-595.16 1152,-585.16 1148.5,-595.16 1155.5,-595.16\"/>\n<text text-anchor=\"middle\" x=\"1195\" y=\"-606.8\" font-family=\"Times,serif\" font-size=\"14.00\">sigmoid &lt;= 0.5</text>\n</g>\n<!-- Node #8 (Level 3) -->\n<g id=\"node9\" class=\"node\">\n<title>Node #8 (Level 3)</title>\n<polygon fill=\"#6eff6e\" stroke=\"black\" stroke-width=\"9.47\" points=\"1831.5,-585 1390.5,-585 1390.5,-419 1831.5,-419 1831.5,-585\"/>\n<text text-anchor=\"start\" x=\"1412.5\" y=\"-535.8\" font-family=\"monospace\" font-size=\"14.00\">Samples: &#160;&#160;&#160;&#160;&#160;28054</text>\n<text text-anchor=\"start\" x=\"1412.5\" y=\"-520.8\" font-family=\"monospace\" font-size=\"14.00\">Score: &#160;&#160;&#160;&#160;&#160;&#160;&#160;0.57</text>\n<text text-anchor=\"middle\" x=\"1611\" y=\"-505.8\" font-family=\"monospace\" font-size=\"14.00\">Test: Logistic Regression using age and duration</text>\n<text text-anchor=\"start\" x=\"1412.5\" y=\"-474.8\" font-family=\"monospace\" font-size=\"14.00\">0: 25598 ✓</text>\n<text text-anchor=\"start\" x=\"1412.5\" y=\"-459.8\" font-family=\"monospace\" font-size=\"14.00\">1: 2456</text>\n<text text-anchor=\"middle\" x=\"1611\" y=\"-444.8\" font-family=\"monospace\" font-size=\"14.00\"> </text>\n</g>\n<!-- Node #4 (Level 2)&#45;&gt;Node #8 (Level 3) -->\n<g id=\"edge8\" class=\"edge\">\n<title>Node #4 (Level 2)&#45;&gt;Node #8 (Level 3)</title>\n<path fill=\"none\" stroke=\"black\" stroke-width=\"6.95\" d=\"M1327.17,-635.95C1359.68,-620.72 1393.75,-604.76 1426.53,-589.41\"/>\n<polygon fill=\"black\" stroke=\"black\" stroke-width=\"6.95\" points=\"1429.27,-594.84 1435.75,-585.09 1424.11,-583.82 1429.27,-594.84\"/>\n<text text-anchor=\"middle\" x=\"1435\" y=\"-606.8\" font-family=\"Times,serif\" font-size=\"14.00\">sigmoid &gt; 0.5</text>\n</g>\n<!-- Node #9 (Level 4) -->\n<g id=\"node10\" class=\"node\">\n<title>Node #9 (Level 4)</title>\n<polygon fill=\"#ffffff\" stroke=\"black\" stroke-width=\"0.01\" points=\"482,-368 0,-368 0,-202 482,-202 482,-368\"/>\n<text text-anchor=\"start\" x=\"22\" y=\"-318.8\" font-family=\"monospace\" font-size=\"14.00\">Samples: &#160;&#160;&#160;&#160;&#160;35</text>\n<text text-anchor=\"start\" x=\"22\" y=\"-303.8\" font-family=\"monospace\" font-size=\"14.00\">Score: &#160;&#160;&#160;&#160;&#160;&#160;&#160;0.0</text>\n<text text-anchor=\"middle\" x=\"241\" y=\"-288.8\" font-family=\"monospace\" font-size=\"14.00\">Test: Logistic Regression using age and cons_conf_idx</text>\n<text text-anchor=\"start\" x=\"22\" y=\"-257.8\" font-family=\"monospace\" font-size=\"14.00\">0: 18 ✓</text>\n<text text-anchor=\"start\" x=\"22\" y=\"-242.8\" font-family=\"monospace\" font-size=\"14.00\">1: 17</text>\n<text text-anchor=\"middle\" x=\"241\" y=\"-227.8\" font-family=\"monospace\" font-size=\"14.00\"> </text>\n</g>\n<!-- Node #6 (Level 3)&#45;&gt;Node #9 (Level 4) -->\n<g id=\"edge9\" class=\"edge\">\n<title>Node #6 (Level 3)&#45;&gt;Node #9 (Level 4)</title>\n<path fill=\"none\" stroke=\"black\" stroke-width=\"0.55\" d=\"M505.05,-418.95C474.92,-403.78 443.38,-387.9 413,-372.6\"/>\n<polygon fill=\"black\" stroke=\"black\" stroke-width=\"0.55\" points=\"414.54,-369.46 404.04,-368.09 411.39,-375.71 414.54,-369.46\"/>\n<text text-anchor=\"middle\" x=\"511\" y=\"-389.8\" font-family=\"Times,serif\" font-size=\"14.00\">sigmoid &lt;= 0.5</text>\n</g>\n<!-- Node #10 (Level 4) -->\n<g id=\"node11\" class=\"node\">\n<title>Node #10 (Level 4)</title>\n<polygon fill=\"#f9fff9\" stroke=\"black\" stroke-width=\"0.14\" points=\"990,-368 500,-368 500,-202 990,-202 990,-368\"/>\n<text text-anchor=\"start\" x=\"522\" y=\"-318.8\" font-family=\"monospace\" font-size=\"14.00\">Samples: &#160;&#160;&#160;&#160;&#160;412</text>\n<text text-anchor=\"start\" x=\"522\" y=\"-303.8\" font-family=\"monospace\" font-size=\"14.00\">Score: &#160;&#160;&#160;&#160;&#160;&#160;&#160;0.03</text>\n<text text-anchor=\"middle\" x=\"745\" y=\"-288.8\" font-family=\"monospace\" font-size=\"14.00\">Test: Logistic Regression using age and cons_price_idx</text>\n<text text-anchor=\"start\" x=\"522\" y=\"-257.8\" font-family=\"monospace\" font-size=\"14.00\">0: 245 ✓</text>\n<text text-anchor=\"start\" x=\"522\" y=\"-242.8\" font-family=\"monospace\" font-size=\"14.00\">1: 167</text>\n<text text-anchor=\"middle\" x=\"745\" y=\"-227.8\" font-family=\"monospace\" font-size=\"14.00\"> </text>\n</g>\n<!-- Node #6 (Level 3)&#45;&gt;Node #10 (Level 4) -->\n<g id=\"edge10\" class=\"edge\">\n<title>Node #6 (Level 3)&#45;&gt;Node #10 (Level 4)</title>\n<path fill=\"none\" stroke=\"black\" stroke-width=\"6.45\" d=\"M697.44,-418.8C702.22,-405.44 707.2,-391.54 712.06,-377.97\"/>\n<polygon fill=\"black\" stroke=\"black\" stroke-width=\"6.45\" points=\"717.52,-379.47 715.58,-368.16 706.89,-375.67 717.52,-379.47\"/>\n<text text-anchor=\"middle\" x=\"748\" y=\"-389.8\" font-family=\"Times,serif\" font-size=\"14.00\">sigmoid &gt; 0.5</text>\n</g>\n<!-- Node #11 (Level 4) -->\n<g id=\"node12\" class=\"node\">\n<title>Node #11 (Level 4)</title>\n<polygon fill=\"#fdfffd\" stroke=\"black\" stroke-width=\"0.01\" points=\"1232.5,-360.5 1039.5,-360.5 1039.5,-209.5 1232.5,-209.5 1232.5,-360.5\"/>\n<text text-anchor=\"start\" x=\"1061.5\" y=\"-311.3\" font-family=\"monospace\" font-size=\"14.00\">Samples: &#160;&#160;&#160;&#160;&#160;41</text>\n<text text-anchor=\"middle\" x=\"1136\" y=\"-296.3\" font-family=\"monospace\" font-size=\"14.00\">Score: &#160;&#160;&#160;&#160;&#160;&#160;&#160;0.01</text>\n<text text-anchor=\"start\" x=\"1061.5\" y=\"-265.3\" font-family=\"monospace\" font-size=\"14.00\">0: 18</text>\n<text text-anchor=\"start\" x=\"1061.5\" y=\"-250.3\" font-family=\"monospace\" font-size=\"14.00\">1: 23 ✓</text>\n<text text-anchor=\"middle\" x=\"1136\" y=\"-235.3\" font-family=\"monospace\" font-size=\"14.00\"> </text>\n</g>\n<!-- Node #7 (Level 3)&#45;&gt;Node #11 (Level 4) -->\n<g id=\"edge11\" class=\"edge\">\n<title>Node #7 (Level 3)&#45;&gt;Node #11 (Level 4)</title>\n<path fill=\"none\" stroke=\"black\" stroke-width=\"1.54\" d=\"M1145.88,-418.8C1144.72,-403.14 1143.5,-386.73 1142.32,-370.98\"/>\n<polygon fill=\"black\" stroke=\"black\" stroke-width=\"1.54\" points=\"1145.8,-370.47 1141.56,-360.75 1138.81,-370.98 1145.8,-370.47\"/>\n<text text-anchor=\"middle\" x=\"1188\" y=\"-389.8\" font-family=\"Times,serif\" font-size=\"14.00\">sigmoid &lt;= 0.5</text>\n</g>\n<!-- Node #12 (Level 4) -->\n<g id=\"node13\" class=\"node\">\n<title>Node #12 (Level 4)</title>\n<polygon fill=\"#fefffe\" stroke=\"black\" stroke-width=\"0.05\" points=\"1435.5,-360.5 1250.5,-360.5 1250.5,-209.5 1435.5,-209.5 1435.5,-360.5\"/>\n<text text-anchor=\"start\" x=\"1272.5\" y=\"-311.3\" font-family=\"monospace\" font-size=\"14.00\">Samples: &#160;&#160;&#160;&#160;&#160;145</text>\n<text text-anchor=\"middle\" x=\"1343\" y=\"-296.3\" font-family=\"monospace\" font-size=\"14.00\">Score: &#160;&#160;&#160;&#160;&#160;&#160;&#160;0.0</text>\n<text text-anchor=\"start\" x=\"1272.5\" y=\"-265.3\" font-family=\"monospace\" font-size=\"14.00\">0: 78 ✓</text>\n<text text-anchor=\"start\" x=\"1272.5\" y=\"-250.3\" font-family=\"monospace\" font-size=\"14.00\">1: 67</text>\n<text text-anchor=\"middle\" x=\"1343\" y=\"-235.3\" font-family=\"monospace\" font-size=\"14.00\"> </text>\n</g>\n<!-- Node #7 (Level 3)&#45;&gt;Node #12 (Level 4) -->\n<g id=\"edge12\" class=\"edge\">\n<title>Node #7 (Level 3)&#45;&gt;Node #12 (Level 4)</title>\n<path fill=\"none\" stroke=\"black\" stroke-width=\"5.46\" d=\"M1225.03,-418.8C1239.73,-402.25 1255.19,-384.85 1269.89,-368.29\"/>\n<polygon fill=\"black\" stroke=\"black\" stroke-width=\"5.46\" points=\"1273.52,-371.4 1276.59,-360.75 1266.38,-365.06 1273.52,-371.4\"/>\n<text text-anchor=\"middle\" x=\"1293\" y=\"-389.8\" font-family=\"Times,serif\" font-size=\"14.00\">sigmoid &gt; 0.5</text>\n</g>\n<!-- Node #13 (Level 4) -->\n<g id=\"node14\" class=\"node\">\n<title>Node #13 (Level 4)</title>\n<polygon fill=\"#f8fff8\" stroke=\"black\" stroke-width=\"0.01\" points=\"1684.5,-360.5 1491.5,-360.5 1491.5,-209.5 1684.5,-209.5 1684.5,-360.5\"/>\n<text text-anchor=\"start\" x=\"1513.5\" y=\"-311.3\" font-family=\"monospace\" font-size=\"14.00\">Samples: &#160;&#160;&#160;&#160;&#160;20</text>\n<text text-anchor=\"middle\" x=\"1588\" y=\"-296.3\" font-family=\"monospace\" font-size=\"14.00\">Score: &#160;&#160;&#160;&#160;&#160;&#160;&#160;0.03</text>\n<text text-anchor=\"start\" x=\"1513.5\" y=\"-265.3\" font-family=\"monospace\" font-size=\"14.00\">0: 12 ✓</text>\n<text text-anchor=\"start\" x=\"1513.5\" y=\"-250.3\" font-family=\"monospace\" font-size=\"14.00\">1: 8</text>\n<text text-anchor=\"middle\" x=\"1588\" y=\"-235.3\" font-family=\"monospace\" font-size=\"14.00\"> </text>\n</g>\n<!-- Node #8 (Level 3)&#45;&gt;Node #13 (Level 4) -->\n<g id=\"edge13\" class=\"edge\">\n<title>Node #8 (Level 3)&#45;&gt;Node #13 (Level 4)</title>\n<path fill=\"none\" stroke=\"black\" stroke-width=\"0\" d=\"M1602.21,-418.8C1600.53,-403.14 1598.78,-386.73 1597.09,-370.98\"/>\n<polygon fill=\"black\" stroke=\"black\" stroke-width=\"0\" points=\"1600.54,-370.32 1596,-360.75 1593.58,-371.07 1600.54,-370.32\"/>\n<text text-anchor=\"middle\" x=\"1644\" y=\"-389.8\" font-family=\"Times,serif\" font-size=\"14.00\">sigmoid &lt;= 0.5</text>\n</g>\n<!-- Node #14 (Level 4) -->\n<g id=\"node15\" class=\"node\">\n<title>Node #14 (Level 4)</title>\n<polygon fill=\"#6eff6e\" stroke=\"black\" stroke-width=\"9.46\" points=\"1903.5,-360.5 1702.5,-360.5 1702.5,-209.5 1903.5,-209.5 1903.5,-360.5\"/>\n<text text-anchor=\"start\" x=\"1724.5\" y=\"-311.3\" font-family=\"monospace\" font-size=\"14.00\">Samples: &#160;&#160;&#160;&#160;&#160;28034</text>\n<text text-anchor=\"middle\" x=\"1803\" y=\"-296.3\" font-family=\"monospace\" font-size=\"14.00\">Score: &#160;&#160;&#160;&#160;&#160;&#160;&#160;0.57</text>\n<text text-anchor=\"start\" x=\"1724.5\" y=\"-265.3\" font-family=\"monospace\" font-size=\"14.00\">0: 25586 ✓</text>\n<text text-anchor=\"start\" x=\"1724.5\" y=\"-250.3\" font-family=\"monospace\" font-size=\"14.00\">1: 2448</text>\n<text text-anchor=\"middle\" x=\"1803\" y=\"-235.3\" font-family=\"monospace\" font-size=\"14.00\"> </text>\n</g>\n<!-- Node #8 (Level 3)&#45;&gt;Node #14 (Level 4) -->\n<g id=\"edge14\" class=\"edge\">\n<title>Node #8 (Level 3)&#45;&gt;Node #14 (Level 4)</title>\n<path fill=\"none\" stroke=\"black\" stroke-width=\"7\" d=\"M1684.41,-418.8C1699.19,-402.25 1714.73,-384.85 1729.51,-368.29\"/>\n<polygon fill=\"black\" stroke=\"black\" stroke-width=\"7\" points=\"1734.15,-372.29 1736.24,-360.75 1725.02,-364.13 1734.15,-372.29\"/>\n<text text-anchor=\"middle\" x=\"1751\" y=\"-389.8\" font-family=\"Times,serif\" font-size=\"14.00\">sigmoid &gt; 0.5</text>\n</g>\n<!-- Node #15 (Level 5) -->\n<g id=\"node16\" class=\"node\">\n<title>Node #15 (Level 5)</title>\n<polygon fill=\"#f8fff8\" stroke=\"black\" stroke-width=\"0\" points=\"252.5,-151 59.5,-151 59.5,0 252.5,0 252.5,-151\"/>\n<text text-anchor=\"start\" x=\"81.5\" y=\"-101.8\" font-family=\"monospace\" font-size=\"14.00\">Samples: &#160;&#160;&#160;&#160;&#160;10</text>\n<text text-anchor=\"middle\" x=\"156\" y=\"-86.8\" font-family=\"monospace\" font-size=\"14.00\">Score: &#160;&#160;&#160;&#160;&#160;&#160;&#160;0.03</text>\n<text text-anchor=\"start\" x=\"81.5\" y=\"-55.8\" font-family=\"monospace\" font-size=\"14.00\">0: 4</text>\n<text text-anchor=\"start\" x=\"81.5\" y=\"-40.8\" font-family=\"monospace\" font-size=\"14.00\">1: 6 ✓</text>\n<text text-anchor=\"middle\" x=\"156\" y=\"-25.8\" font-family=\"monospace\" font-size=\"14.00\"> </text>\n</g>\n<!-- Node #9 (Level 4)&#45;&gt;Node #15 (Level 5) -->\n<g id=\"edge15\" class=\"edge\">\n<title>Node #9 (Level 4)&#45;&gt;Node #15 (Level 5)</title>\n<path fill=\"none\" stroke=\"black\" stroke-width=\"2\" d=\"M207.41,-201.99C201.83,-188.37 196.03,-174.22 190.43,-160.55\"/>\n<polygon fill=\"black\" stroke=\"black\" stroke-width=\"2\" points=\"193.62,-159.1 186.59,-151.17 187.14,-161.75 193.62,-159.1\"/>\n<text text-anchor=\"middle\" x=\"242\" y=\"-172.8\" font-family=\"Times,serif\" font-size=\"14.00\">sigmoid &lt;= 0.5</text>\n</g>\n<!-- Node #16 (Level 5) -->\n<g id=\"node17\" class=\"node\">\n<title>Node #16 (Level 5)</title>\n<polygon fill=\"#fdfffd\" stroke=\"black\" stroke-width=\"0.01\" points=\"463.5,-151 270.5,-151 270.5,0 463.5,0 463.5,-151\"/>\n<text text-anchor=\"start\" x=\"292.5\" y=\"-101.8\" font-family=\"monospace\" font-size=\"14.00\">Samples: &#160;&#160;&#160;&#160;&#160;25</text>\n<text text-anchor=\"middle\" x=\"367\" y=\"-86.8\" font-family=\"monospace\" font-size=\"14.00\">Score: &#160;&#160;&#160;&#160;&#160;&#160;&#160;0.01</text>\n<text text-anchor=\"start\" x=\"292.5\" y=\"-55.8\" font-family=\"monospace\" font-size=\"14.00\">0: 14 ✓</text>\n<text text-anchor=\"start\" x=\"292.5\" y=\"-40.8\" font-family=\"monospace\" font-size=\"14.00\">1: 11</text>\n<text text-anchor=\"middle\" x=\"367\" y=\"-25.8\" font-family=\"monospace\" font-size=\"14.00\"> </text>\n</g>\n<!-- Node #9 (Level 4)&#45;&gt;Node #16 (Level 5) -->\n<g id=\"edge16\" class=\"edge\">\n<title>Node #9 (Level 4)&#45;&gt;Node #16 (Level 5)</title>\n<path fill=\"none\" stroke=\"black\" stroke-width=\"5\" d=\"M290.8,-201.99C299.23,-188.11 307.99,-173.68 316.44,-159.76\"/>\n<polygon fill=\"black\" stroke=\"black\" stroke-width=\"5\" points=\"320.2,-161.99 321.66,-151.17 312.73,-157.45 320.2,-161.99\"/>\n<text text-anchor=\"middle\" x=\"347\" y=\"-172.8\" font-family=\"Times,serif\" font-size=\"14.00\">sigmoid &gt; 0.5</text>\n</g>\n<!-- Node #17 (Level 5) -->\n<g id=\"node18\" class=\"node\">\n<title>Node #17 (Level 5)</title>\n<polygon fill=\"#b9ffb9\" stroke=\"black\" stroke-width=\"0\" points=\"715.5,-151 522.5,-151 522.5,0 715.5,0 715.5,-151\"/>\n<text text-anchor=\"start\" x=\"544.5\" y=\"-101.8\" font-family=\"monospace\" font-size=\"14.00\">Samples: &#160;&#160;&#160;&#160;&#160;10</text>\n<text text-anchor=\"middle\" x=\"619\" y=\"-86.8\" font-family=\"monospace\" font-size=\"14.00\">Score: &#160;&#160;&#160;&#160;&#160;&#160;&#160;0.28</text>\n<text text-anchor=\"start\" x=\"544.5\" y=\"-55.8\" font-family=\"monospace\" font-size=\"14.00\">0: 2</text>\n<text text-anchor=\"start\" x=\"544.5\" y=\"-40.8\" font-family=\"monospace\" font-size=\"14.00\">1: 8 ✓</text>\n<text text-anchor=\"middle\" x=\"619\" y=\"-25.8\" font-family=\"monospace\" font-size=\"14.00\"> </text>\n</g>\n<!-- Node #10 (Level 4)&#45;&gt;Node #17 (Level 5) -->\n<g id=\"edge17\" class=\"edge\">\n<title>Node #10 (Level 4)&#45;&gt;Node #17 (Level 5)</title>\n<path fill=\"none\" stroke=\"black\" stroke-width=\"0.17\" d=\"M695.2,-201.99C686.77,-188.11 678.01,-173.68 669.56,-159.76\"/>\n<polygon fill=\"black\" stroke=\"black\" stroke-width=\"0.17\" points=\"672.53,-157.9 664.34,-151.17 666.54,-161.54 672.53,-157.9\"/>\n<text text-anchor=\"middle\" x=\"725\" y=\"-172.8\" font-family=\"Times,serif\" font-size=\"14.00\">sigmoid &lt;= 0.5</text>\n</g>\n<!-- Node #18 (Level 5) -->\n<g id=\"node19\" class=\"node\">\n<title>Node #18 (Level 5)</title>\n<polygon fill=\"#f7fff7\" stroke=\"black\" stroke-width=\"0.14\" points=\"926.5,-151 733.5,-151 733.5,0 926.5,0 926.5,-151\"/>\n<text text-anchor=\"start\" x=\"755.5\" y=\"-101.8\" font-family=\"monospace\" font-size=\"14.00\">Samples: &#160;&#160;&#160;&#160;&#160;402</text>\n<text text-anchor=\"middle\" x=\"830\" y=\"-86.8\" font-family=\"monospace\" font-size=\"14.00\">Score: &#160;&#160;&#160;&#160;&#160;&#160;&#160;0.03</text>\n<text text-anchor=\"start\" x=\"755.5\" y=\"-55.8\" font-family=\"monospace\" font-size=\"14.00\">0: 243 ✓</text>\n<text text-anchor=\"start\" x=\"755.5\" y=\"-40.8\" font-family=\"monospace\" font-size=\"14.00\">1: 159</text>\n<text text-anchor=\"middle\" x=\"830\" y=\"-25.8\" font-family=\"monospace\" font-size=\"14.00\"> </text>\n</g>\n<!-- Node #10 (Level 4)&#45;&gt;Node #18 (Level 5) -->\n<g id=\"edge18\" class=\"edge\">\n<title>Node #10 (Level 4)&#45;&gt;Node #18 (Level 5)</title>\n<path fill=\"none\" stroke=\"black\" stroke-width=\"6.83\" d=\"M778.59,-201.99C784.17,-188.37 789.97,-174.22 795.57,-160.55\"/>\n<polygon fill=\"black\" stroke=\"black\" stroke-width=\"6.83\" points=\"801.15,-162.69 799.41,-151.17 790.09,-158.16 801.15,-162.69\"/>\n<text text-anchor=\"middle\" x=\"830\" y=\"-172.8\" font-family=\"Times,serif\" font-size=\"14.00\">sigmoid &gt; 0.5</text>\n</g>\n</g>\n</svg>\n",
      "text/plain": [
       "<graphviz.dot.Digraph at 0x7fb9a9e461c0>"
      ]
     },
     "execution_count": 383,
     "metadata": {},
     "output_type": "execute_result"
    }
   ],
   "source": [
    "treeData3Simple.generate_dot_graph()"
   ]
  },
  {
   "cell_type": "code",
   "execution_count": 384,
   "metadata": {},
   "outputs": [
    {
     "name": "stdout",
     "output_type": "stream",
     "text": [
      "Accuracy =  0.8922235722964763\n",
      "Macro Precision =  0.7456917536022099\n",
      "Micro Precision =  0.8922235722964763\n",
      "Weighted Precision =  0.8663984769210116\n",
      "Macro Recall =  0.5723424137602517\n",
      "Micro Recall =  0.8922235722964763\n",
      "Weighted Recall =  0.8922235722964763\n",
      "Macro F1 =  0.5960750947382435\n",
      "Micro F1 =  0.8922235722964763\n",
      "Weighted F1 =  0.8636047113319302\n",
      "\n",
      "Classification Report\n",
      "               precision    recall  f1-score   support\n",
      "\n",
      "           0       0.90      0.99      0.94      7298\n",
      "           1       0.59      0.16      0.25       932\n",
      "\n",
      "    accuracy                           0.89      8230\n",
      "   macro avg       0.75      0.57      0.60      8230\n",
      "weighted avg       0.87      0.89      0.86      8230\n",
      "\n"
     ]
    }
   ],
   "source": [
    "preds = treeData3Simple.predict(X_test.values)\n",
    "preds = [float(i) for i in preds]\n",
    "runMetrics(y_test.values, preds)"
   ]
  },
  {
   "cell_type": "code",
   "execution_count": 385,
   "metadata": {},
   "outputs": [
    {
     "data": {
      "image/png": "[encoded data removed]",
      "text/plain": [
       "<Figure size 640x480 with 1 Axes>"
      ]
     },
     "metadata": {},
     "output_type": "display_data"
    },
    {
     "name": "stdout",
     "output_type": "stream",
     "text": [
      "AUC =  0.6091063369704439\n"
     ]
    }
   ],
   "source": [
    "getAucRocMetrics(y_test.values, treeData3Simple.predict_proba(X_test.values)[:, 1], 1)"
   ]
  },
  {
   "cell_type": "markdown",
   "metadata": {},
   "source": [
    "## OneHot "
   ]
  },
  {
   "cell_type": "code",
   "execution_count": 386,
   "metadata": {},
   "outputs": [],
   "source": [
    "train_data = pd.read_csv('../../data/train3onehot.csv')\n",
    "test_data = pd.read_csv('../../data/test3onehot.csv')"
   ]
  },
  {
   "cell_type": "code",
   "execution_count": 387,
   "metadata": {},
   "outputs": [
    {
     "data": {
      "text/html": [
       "<div>\n",
       "<style scoped>\n",
       "    .dataframe tbody tr th:only-of-type {\n",
       "        vertical-align: middle;\n",
       "    }\n",
       "\n",
       "    .dataframe tbody tr th {\n",
       "        vertical-align: top;\n",
       "    }\n",
       "\n",
       "    .dataframe thead th {\n",
       "        text-align: right;\n",
       "    }\n",
       "</style>\n",
       "<table border=\"1\" class=\"dataframe\">\n",
       "  <thead>\n",
       "    <tr style=\"text-align: right;\">\n",
       "      <th></th>\n",
       "      <th>Unnamed: 0</th>\n",
       "      <th>onehotencoder__job_admin.</th>\n",
       "      <th>onehotencoder__job_blue-collar</th>\n",
       "      <th>onehotencoder__job_entrepreneur</th>\n",
       "      <th>onehotencoder__job_housemaid</th>\n",
       "      <th>onehotencoder__job_management</th>\n",
       "      <th>onehotencoder__job_retired</th>\n",
       "      <th>onehotencoder__job_self-employed</th>\n",
       "      <th>onehotencoder__job_services</th>\n",
       "      <th>onehotencoder__job_student</th>\n",
       "      <th>...</th>\n",
       "      <th>onehotencoder__poutcome_success</th>\n",
       "      <th>remainder__age</th>\n",
       "      <th>remainder__duration</th>\n",
       "      <th>remainder__campaign</th>\n",
       "      <th>remainder__pdays</th>\n",
       "      <th>remainder__previous</th>\n",
       "      <th>remainder__cons_price_idx</th>\n",
       "      <th>remainder__cons_conf_idx</th>\n",
       "      <th>remainder__nr_employed</th>\n",
       "      <th>remainder__y</th>\n",
       "    </tr>\n",
       "  </thead>\n",
       "  <tbody>\n",
       "    <tr>\n",
       "      <th>0</th>\n",
       "      <td>0</td>\n",
       "      <td>1.0</td>\n",
       "      <td>0.0</td>\n",
       "      <td>0.0</td>\n",
       "      <td>0.0</td>\n",
       "      <td>0.0</td>\n",
       "      <td>0.0</td>\n",
       "      <td>0.0</td>\n",
       "      <td>0.0</td>\n",
       "      <td>0.0</td>\n",
       "      <td>...</td>\n",
       "      <td>0.0</td>\n",
       "      <td>0.389610</td>\n",
       "      <td>0.038616</td>\n",
       "      <td>0.029412</td>\n",
       "      <td>1.0</td>\n",
       "      <td>0.0</td>\n",
       "      <td>0.389322</td>\n",
       "      <td>0.368201</td>\n",
       "      <td>0.877883</td>\n",
       "      <td>0.0</td>\n",
       "    </tr>\n",
       "    <tr>\n",
       "      <th>1</th>\n",
       "      <td>1</td>\n",
       "      <td>0.0</td>\n",
       "      <td>1.0</td>\n",
       "      <td>0.0</td>\n",
       "      <td>0.0</td>\n",
       "      <td>0.0</td>\n",
       "      <td>0.0</td>\n",
       "      <td>0.0</td>\n",
       "      <td>0.0</td>\n",
       "      <td>0.0</td>\n",
       "      <td>...</td>\n",
       "      <td>0.0</td>\n",
       "      <td>0.220779</td>\n",
       "      <td>0.523733</td>\n",
       "      <td>0.058824</td>\n",
       "      <td>1.0</td>\n",
       "      <td>0.0</td>\n",
       "      <td>0.269680</td>\n",
       "      <td>0.192469</td>\n",
       "      <td>0.512287</td>\n",
       "      <td>1.0</td>\n",
       "    </tr>\n",
       "    <tr>\n",
       "      <th>2</th>\n",
       "      <td>2</td>\n",
       "      <td>0.0</td>\n",
       "      <td>1.0</td>\n",
       "      <td>0.0</td>\n",
       "      <td>0.0</td>\n",
       "      <td>0.0</td>\n",
       "      <td>0.0</td>\n",
       "      <td>0.0</td>\n",
       "      <td>0.0</td>\n",
       "      <td>0.0</td>\n",
       "      <td>...</td>\n",
       "      <td>0.0</td>\n",
       "      <td>0.246753</td>\n",
       "      <td>0.472245</td>\n",
       "      <td>0.000000</td>\n",
       "      <td>1.0</td>\n",
       "      <td>0.0</td>\n",
       "      <td>0.340608</td>\n",
       "      <td>0.154812</td>\n",
       "      <td>0.512287</td>\n",
       "      <td>1.0</td>\n",
       "    </tr>\n",
       "    <tr>\n",
       "      <th>3</th>\n",
       "      <td>3</td>\n",
       "      <td>0.0</td>\n",
       "      <td>0.0</td>\n",
       "      <td>0.0</td>\n",
       "      <td>0.0</td>\n",
       "      <td>0.0</td>\n",
       "      <td>0.0</td>\n",
       "      <td>0.0</td>\n",
       "      <td>0.0</td>\n",
       "      <td>0.0</td>\n",
       "      <td>...</td>\n",
       "      <td>0.0</td>\n",
       "      <td>0.545455</td>\n",
       "      <td>0.055511</td>\n",
       "      <td>0.029412</td>\n",
       "      <td>1.0</td>\n",
       "      <td>0.0</td>\n",
       "      <td>0.484412</td>\n",
       "      <td>0.615063</td>\n",
       "      <td>1.000000</td>\n",
       "      <td>0.0</td>\n",
       "    </tr>\n",
       "    <tr>\n",
       "      <th>4</th>\n",
       "      <td>4</td>\n",
       "      <td>0.0</td>\n",
       "      <td>0.0</td>\n",
       "      <td>0.0</td>\n",
       "      <td>0.0</td>\n",
       "      <td>0.0</td>\n",
       "      <td>0.0</td>\n",
       "      <td>0.0</td>\n",
       "      <td>0.0</td>\n",
       "      <td>0.0</td>\n",
       "      <td>...</td>\n",
       "      <td>0.0</td>\n",
       "      <td>0.220779</td>\n",
       "      <td>0.106999</td>\n",
       "      <td>0.000000</td>\n",
       "      <td>1.0</td>\n",
       "      <td>0.0</td>\n",
       "      <td>0.250195</td>\n",
       "      <td>0.033473</td>\n",
       "      <td>0.512287</td>\n",
       "      <td>1.0</td>\n",
       "    </tr>\n",
       "  </tbody>\n",
       "</table>\n",
       "<p>5 rows × 57 columns</p>\n",
       "</div>"
      ],
      "text/plain": [
       "   Unnamed: 0  onehotencoder__job_admin.  onehotencoder__job_blue-collar  \\\n",
       "0           0                        1.0                             0.0   \n",
       "1           1                        0.0                             1.0   \n",
       "2           2                        0.0                             1.0   \n",
       "3           3                        0.0                             0.0   \n",
       "4           4                        0.0                             0.0   \n",
       "\n",
       "   onehotencoder__job_entrepreneur  onehotencoder__job_housemaid  \\\n",
       "0                              0.0                           0.0   \n",
       "1                              0.0                           0.0   \n",
       "2                              0.0                           0.0   \n",
       "3                              0.0                           0.0   \n",
       "4                              0.0                           0.0   \n",
       "\n",
       "   onehotencoder__job_management  onehotencoder__job_retired  \\\n",
       "0                            0.0                         0.0   \n",
       "1                            0.0                         0.0   \n",
       "2                            0.0                         0.0   \n",
       "3                            0.0                         0.0   \n",
       "4                            0.0                         0.0   \n",
       "\n",
       "   onehotencoder__job_self-employed  onehotencoder__job_services  \\\n",
       "0                               0.0                          0.0   \n",
       "1                               0.0                          0.0   \n",
       "2                               0.0                          0.0   \n",
       "3                               0.0                          0.0   \n",
       "4                               0.0                          0.0   \n",
       "\n",
       "   onehotencoder__job_student  ...  onehotencoder__poutcome_success  \\\n",
       "0                         0.0  ...                              0.0   \n",
       "1                         0.0  ...                              0.0   \n",
       "2                         0.0  ...                              0.0   \n",
       "3                         0.0  ...                              0.0   \n",
       "4                         0.0  ...                              0.0   \n",
       "\n",
       "   remainder__age  remainder__duration  remainder__campaign  remainder__pdays  \\\n",
       "0        0.389610             0.038616             0.029412               1.0   \n",
       "1        0.220779             0.523733             0.058824               1.0   \n",
       "2        0.246753             0.472245             0.000000               1.0   \n",
       "3        0.545455             0.055511             0.029412               1.0   \n",
       "4        0.220779             0.106999             0.000000               1.0   \n",
       "\n",
       "   remainder__previous  remainder__cons_price_idx  remainder__cons_conf_idx  \\\n",
       "0                  0.0                   0.389322                  0.368201   \n",
       "1                  0.0                   0.269680                  0.192469   \n",
       "2                  0.0                   0.340608                  0.154812   \n",
       "3                  0.0                   0.484412                  0.615063   \n",
       "4                  0.0                   0.250195                  0.033473   \n",
       "\n",
       "   remainder__nr_employed  remainder__y  \n",
       "0                0.877883           0.0  \n",
       "1                0.512287           1.0  \n",
       "2                0.512287           1.0  \n",
       "3                1.000000           0.0  \n",
       "4                0.512287           1.0  \n",
       "\n",
       "[5 rows x 57 columns]"
      ]
     },
     "execution_count": 387,
     "metadata": {},
     "output_type": "execute_result"
    }
   ],
   "source": [
    "train_data.head()"
   ]
  },
  {
   "cell_type": "code",
   "execution_count": 388,
   "metadata": {},
   "outputs": [],
   "source": [
    "train_data.drop(['Unnamed: 0'], axis=1, inplace=True)\n",
    "test_data.drop(['Unnamed: 0'], axis=1, inplace=True)"
   ]
  },
  {
   "cell_type": "code",
   "execution_count": 389,
   "metadata": {},
   "outputs": [
    {
     "data": {
      "text/html": [
       "<div>\n",
       "<style scoped>\n",
       "    .dataframe tbody tr th:only-of-type {\n",
       "        vertical-align: middle;\n",
       "    }\n",
       "\n",
       "    .dataframe tbody tr th {\n",
       "        vertical-align: top;\n",
       "    }\n",
       "\n",
       "    .dataframe thead th {\n",
       "        text-align: right;\n",
       "    }\n",
       "</style>\n",
       "<table border=\"1\" class=\"dataframe\">\n",
       "  <thead>\n",
       "    <tr style=\"text-align: right;\">\n",
       "      <th></th>\n",
       "      <th>onehotencoder__job_admin.</th>\n",
       "      <th>onehotencoder__job_blue-collar</th>\n",
       "      <th>onehotencoder__job_entrepreneur</th>\n",
       "      <th>onehotencoder__job_housemaid</th>\n",
       "      <th>onehotencoder__job_management</th>\n",
       "      <th>onehotencoder__job_retired</th>\n",
       "      <th>onehotencoder__job_self-employed</th>\n",
       "      <th>onehotencoder__job_services</th>\n",
       "      <th>onehotencoder__job_student</th>\n",
       "      <th>onehotencoder__job_technician</th>\n",
       "      <th>...</th>\n",
       "      <th>onehotencoder__poutcome_success</th>\n",
       "      <th>remainder__age</th>\n",
       "      <th>remainder__duration</th>\n",
       "      <th>remainder__campaign</th>\n",
       "      <th>remainder__pdays</th>\n",
       "      <th>remainder__previous</th>\n",
       "      <th>remainder__cons_price_idx</th>\n",
       "      <th>remainder__cons_conf_idx</th>\n",
       "      <th>remainder__nr_employed</th>\n",
       "      <th>remainder__y</th>\n",
       "    </tr>\n",
       "  </thead>\n",
       "  <tbody>\n",
       "    <tr>\n",
       "      <th>0</th>\n",
       "      <td>1.0</td>\n",
       "      <td>0.0</td>\n",
       "      <td>0.0</td>\n",
       "      <td>0.0</td>\n",
       "      <td>0.0</td>\n",
       "      <td>0.0</td>\n",
       "      <td>0.0</td>\n",
       "      <td>0.0</td>\n",
       "      <td>0.0</td>\n",
       "      <td>0.0</td>\n",
       "      <td>...</td>\n",
       "      <td>0.0</td>\n",
       "      <td>0.389610</td>\n",
       "      <td>0.038616</td>\n",
       "      <td>0.029412</td>\n",
       "      <td>1.0</td>\n",
       "      <td>0.0</td>\n",
       "      <td>0.389322</td>\n",
       "      <td>0.368201</td>\n",
       "      <td>0.877883</td>\n",
       "      <td>0.0</td>\n",
       "    </tr>\n",
       "    <tr>\n",
       "      <th>1</th>\n",
       "      <td>0.0</td>\n",
       "      <td>1.0</td>\n",
       "      <td>0.0</td>\n",
       "      <td>0.0</td>\n",
       "      <td>0.0</td>\n",
       "      <td>0.0</td>\n",
       "      <td>0.0</td>\n",
       "      <td>0.0</td>\n",
       "      <td>0.0</td>\n",
       "      <td>0.0</td>\n",
       "      <td>...</td>\n",
       "      <td>0.0</td>\n",
       "      <td>0.220779</td>\n",
       "      <td>0.523733</td>\n",
       "      <td>0.058824</td>\n",
       "      <td>1.0</td>\n",
       "      <td>0.0</td>\n",
       "      <td>0.269680</td>\n",
       "      <td>0.192469</td>\n",
       "      <td>0.512287</td>\n",
       "      <td>1.0</td>\n",
       "    </tr>\n",
       "    <tr>\n",
       "      <th>2</th>\n",
       "      <td>0.0</td>\n",
       "      <td>1.0</td>\n",
       "      <td>0.0</td>\n",
       "      <td>0.0</td>\n",
       "      <td>0.0</td>\n",
       "      <td>0.0</td>\n",
       "      <td>0.0</td>\n",
       "      <td>0.0</td>\n",
       "      <td>0.0</td>\n",
       "      <td>0.0</td>\n",
       "      <td>...</td>\n",
       "      <td>0.0</td>\n",
       "      <td>0.246753</td>\n",
       "      <td>0.472245</td>\n",
       "      <td>0.000000</td>\n",
       "      <td>1.0</td>\n",
       "      <td>0.0</td>\n",
       "      <td>0.340608</td>\n",
       "      <td>0.154812</td>\n",
       "      <td>0.512287</td>\n",
       "      <td>1.0</td>\n",
       "    </tr>\n",
       "    <tr>\n",
       "      <th>3</th>\n",
       "      <td>0.0</td>\n",
       "      <td>0.0</td>\n",
       "      <td>0.0</td>\n",
       "      <td>0.0</td>\n",
       "      <td>0.0</td>\n",
       "      <td>0.0</td>\n",
       "      <td>0.0</td>\n",
       "      <td>0.0</td>\n",
       "      <td>0.0</td>\n",
       "      <td>1.0</td>\n",
       "      <td>...</td>\n",
       "      <td>0.0</td>\n",
       "      <td>0.545455</td>\n",
       "      <td>0.055511</td>\n",
       "      <td>0.029412</td>\n",
       "      <td>1.0</td>\n",
       "      <td>0.0</td>\n",
       "      <td>0.484412</td>\n",
       "      <td>0.615063</td>\n",
       "      <td>1.000000</td>\n",
       "      <td>0.0</td>\n",
       "    </tr>\n",
       "    <tr>\n",
       "      <th>4</th>\n",
       "      <td>0.0</td>\n",
       "      <td>0.0</td>\n",
       "      <td>0.0</td>\n",
       "      <td>0.0</td>\n",
       "      <td>0.0</td>\n",
       "      <td>0.0</td>\n",
       "      <td>0.0</td>\n",
       "      <td>0.0</td>\n",
       "      <td>0.0</td>\n",
       "      <td>1.0</td>\n",
       "      <td>...</td>\n",
       "      <td>0.0</td>\n",
       "      <td>0.220779</td>\n",
       "      <td>0.106999</td>\n",
       "      <td>0.000000</td>\n",
       "      <td>1.0</td>\n",
       "      <td>0.0</td>\n",
       "      <td>0.250195</td>\n",
       "      <td>0.033473</td>\n",
       "      <td>0.512287</td>\n",
       "      <td>1.0</td>\n",
       "    </tr>\n",
       "  </tbody>\n",
       "</table>\n",
       "<p>5 rows × 56 columns</p>\n",
       "</div>"
      ],
      "text/plain": [
       "   onehotencoder__job_admin.  onehotencoder__job_blue-collar  \\\n",
       "0                        1.0                             0.0   \n",
       "1                        0.0                             1.0   \n",
       "2                        0.0                             1.0   \n",
       "3                        0.0                             0.0   \n",
       "4                        0.0                             0.0   \n",
       "\n",
       "   onehotencoder__job_entrepreneur  onehotencoder__job_housemaid  \\\n",
       "0                              0.0                           0.0   \n",
       "1                              0.0                           0.0   \n",
       "2                              0.0                           0.0   \n",
       "3                              0.0                           0.0   \n",
       "4                              0.0                           0.0   \n",
       "\n",
       "   onehotencoder__job_management  onehotencoder__job_retired  \\\n",
       "0                            0.0                         0.0   \n",
       "1                            0.0                         0.0   \n",
       "2                            0.0                         0.0   \n",
       "3                            0.0                         0.0   \n",
       "4                            0.0                         0.0   \n",
       "\n",
       "   onehotencoder__job_self-employed  onehotencoder__job_services  \\\n",
       "0                               0.0                          0.0   \n",
       "1                               0.0                          0.0   \n",
       "2                               0.0                          0.0   \n",
       "3                               0.0                          0.0   \n",
       "4                               0.0                          0.0   \n",
       "\n",
       "   onehotencoder__job_student  onehotencoder__job_technician  ...  \\\n",
       "0                         0.0                            0.0  ...   \n",
       "1                         0.0                            0.0  ...   \n",
       "2                         0.0                            0.0  ...   \n",
       "3                         0.0                            1.0  ...   \n",
       "4                         0.0                            1.0  ...   \n",
       "\n",
       "   onehotencoder__poutcome_success  remainder__age  remainder__duration  \\\n",
       "0                              0.0        0.389610             0.038616   \n",
       "1                              0.0        0.220779             0.523733   \n",
       "2                              0.0        0.246753             0.472245   \n",
       "3                              0.0        0.545455             0.055511   \n",
       "4                              0.0        0.220779             0.106999   \n",
       "\n",
       "   remainder__campaign  remainder__pdays  remainder__previous  \\\n",
       "0             0.029412               1.0                  0.0   \n",
       "1             0.058824               1.0                  0.0   \n",
       "2             0.000000               1.0                  0.0   \n",
       "3             0.029412               1.0                  0.0   \n",
       "4             0.000000               1.0                  0.0   \n",
       "\n",
       "   remainder__cons_price_idx  remainder__cons_conf_idx  \\\n",
       "0                   0.389322                  0.368201   \n",
       "1                   0.269680                  0.192469   \n",
       "2                   0.340608                  0.154812   \n",
       "3                   0.484412                  0.615063   \n",
       "4                   0.250195                  0.033473   \n",
       "\n",
       "   remainder__nr_employed  remainder__y  \n",
       "0                0.877883           0.0  \n",
       "1                0.512287           1.0  \n",
       "2                0.512287           1.0  \n",
       "3                1.000000           0.0  \n",
       "4                0.512287           1.0  \n",
       "\n",
       "[5 rows x 56 columns]"
      ]
     },
     "execution_count": 389,
     "metadata": {},
     "output_type": "execute_result"
    }
   ],
   "source": [
    "train_data.head()"
   ]
  },
  {
   "cell_type": "code",
   "execution_count": 390,
   "metadata": {},
   "outputs": [],
   "source": [
    "col_names = [*train_data.columns[:]]"
   ]
  },
  {
   "cell_type": "code",
   "execution_count": 391,
   "metadata": {},
   "outputs": [],
   "source": [
    "X_train, y_train = train_data.iloc[:,:-1], train_data.iloc[:,-1]\n",
    "X_test, y_test = test_data.iloc[:,:-1], test_data.iloc[:,-1]"
   ]
  },
  {
   "cell_type": "code",
   "execution_count": 392,
   "metadata": {},
   "outputs": [],
   "source": [
    "X_test = test_data.iloc[:,:-1]\n",
    "y_test = test_data.iloc[:,-1]"
   ]
  },
  {
   "cell_type": "code",
   "execution_count": 393,
   "metadata": {},
   "outputs": [],
   "source": [
    "X_train = pd.concat([X_train, y_train], axis=1)\n",
    "X_test = pd.concat([X_test, y_test], axis=1)"
   ]
  },
  {
   "cell_type": "code",
   "execution_count": 394,
   "metadata": {},
   "outputs": [],
   "source": [
    "treeData3OHT = HDTreeClassifier(\n",
    "                    # allowed_splits=[TwoQuantileRangeSplit.build()], \n",
    "                    allowed_splits=[LogisticRegressionSingleSplit.build(), TwoQuantileRangeSplit.build()], \n",
    "                    information_measure=EntropyMeasure(), \n",
    "                    attribute_names=col_names, \n",
    "                    max_levels=5,\n",
    "                    min_samples_at_leaf=10)"
   ]
  },
  {
   "cell_type": "code",
   "execution_count": 395,
   "metadata": {},
   "outputs": [
    {
     "data": {
      "text/plain": [
       "((8230, 56), (8230,), (29626, 56), (29626,), (3292, 56), (3292,))"
      ]
     },
     "execution_count": 395,
     "metadata": {},
     "output_type": "execute_result"
    }
   ],
   "source": [
    "X_test.shape, y_test.shape, X_train.shape, y_train.shape"
   ]
  },
  {
   "cell_type": "code",
   "execution_count": 396,
   "metadata": {},
   "outputs": [
    {
     "name": "stdout",
     "output_type": "stream",
     "text": [
      "0.9070411125362857\n",
      "0.9037059538274606\n",
      "0.9034021871202916\n"
     ]
    }
   ],
   "source": [
    "treeData3OHT.fit(X_train.values, y_train.values)\n",
    "print(treeData3OHT.score(X_train.values, y_train.values))\n",
    "print(treeData3OHT.score(X_test.values, y_test.values))"
   ]
  },
  {
   "cell_type": "code",
   "execution_count": 397,
   "metadata": {},
   "outputs": [
    {
     "data": {
      "image/svg+xml": "<?xml version=\"1.0\" encoding=\"UTF-8\" standalone=\"no\"?>\n<!DOCTYPE svg PUBLIC \"-//W3C//DTD SVG 1.1//EN\"\n \"http://www.w3.org/Graphics/SVG/1.1/DTD/svg11.dtd\">\n<!-- Generated by graphviz version 5.0.1 (20220820.1526)\n -->\n<!-- Pages: 1 -->\n<svg width=\"1768pt\" height=\"1244pt\"\n viewBox=\"0.00 0.00 1767.50 1244.00\" xmlns=\"http://www.w3.org/2000/svg\" xmlns:xlink=\"http://www.w3.org/1999/xlink\">\n<g id=\"graph0\" class=\"graph\" transform=\"scale(1 1) rotate(0) translate(4 1240)\">\n<polygon fill=\"white\" stroke=\"none\" points=\"-4,4 -4,-1240 1763.5,-1240 1763.5,4 -4,4\"/>\n<!-- Head (Level 0) -->\n<g id=\"node1\" class=\"node\">\n<title>Head (Level 0)</title>\n<polygon fill=\"#81ff81\" stroke=\"black\" stroke-width=\"10\" points=\"794,-1236 370,-1236 370,-1070 794,-1070 794,-1236\"/>\n<text text-anchor=\"start\" x=\"392\" y=\"-1186.8\" font-family=\"monospace\" font-size=\"14.00\">Samples: &#160;&#160;&#160;&#160;&#160;29626</text>\n<text text-anchor=\"start\" x=\"392\" y=\"-1171.8\" font-family=\"monospace\" font-size=\"14.00\">Score: &#160;&#160;&#160;&#160;&#160;&#160;&#160;0.5</text>\n<text text-anchor=\"middle\" x=\"582\" y=\"-1156.8\" font-family=\"monospace\" font-size=\"14.00\">Test: logistic rergression on remainder__pdays</text>\n<text text-anchor=\"start\" x=\"392\" y=\"-1125.8\" font-family=\"monospace\" font-size=\"14.00\">0.0: 26325 ✓</text>\n<text text-anchor=\"start\" x=\"392\" y=\"-1110.8\" font-family=\"monospace\" font-size=\"14.00\">1.0: 3301</text>\n<text text-anchor=\"middle\" x=\"582\" y=\"-1095.8\" font-family=\"monospace\" font-size=\"14.00\"> </text>\n</g>\n<!-- Node #1 (Level 1) -->\n<g id=\"node2\" class=\"node\">\n<title>Node #1 (Level 1)</title>\n<polygon fill=\"#f2fff2\" stroke=\"black\" stroke-width=\"0.37\" points=\"580,-1019 106,-1019 106,-853 580,-853 580,-1019\"/>\n<text text-anchor=\"start\" x=\"128\" y=\"-969.8\" font-family=\"monospace\" font-size=\"14.00\">Samples: &#160;&#160;&#160;&#160;&#160;1083</text>\n<text text-anchor=\"start\" x=\"128\" y=\"-954.8\" font-family=\"monospace\" font-size=\"14.00\">Score: &#160;&#160;&#160;&#160;&#160;&#160;&#160;0.05</text>\n<text text-anchor=\"middle\" x=\"343\" y=\"-939.8\" font-family=\"monospace\" font-size=\"14.00\">Test: logistic rergression on remainder__nr_employed</text>\n<text text-anchor=\"start\" x=\"128\" y=\"-908.8\" font-family=\"monospace\" font-size=\"14.00\">0.0: 394</text>\n<text text-anchor=\"start\" x=\"128\" y=\"-893.8\" font-family=\"monospace\" font-size=\"14.00\">1.0: 689 ✓</text>\n<text text-anchor=\"middle\" x=\"343\" y=\"-878.8\" font-family=\"monospace\" font-size=\"14.00\"> </text>\n</g>\n<!-- Head (Level 0)&#45;&gt;Node #1 (Level 1) -->\n<g id=\"edge1\" class=\"edge\">\n<title>Head (Level 0)&#45;&gt;Node #1 (Level 1)</title>\n<path fill=\"none\" stroke=\"black\" stroke-width=\"0.26\" d=\"M490.62,-1069.8C474.77,-1055.53 458.21,-1040.64 442.16,-1026.2\"/>\n<polygon fill=\"black\" stroke=\"black\" stroke-width=\"0.26\" points=\"444.1,-1023.24 434.33,-1019.16 439.42,-1028.45 444.1,-1023.24\"/>\n<text text-anchor=\"middle\" x=\"513\" y=\"-1040.8\" font-family=\"Times,serif\" font-size=\"14.00\">sigmoid &lt;= 0.5</text>\n</g>\n<!-- Node #2 (Level 1) -->\n<g id=\"node3\" class=\"node\">\n<title>Node #2 (Level 1)</title>\n<polygon fill=\"#71ff71\" stroke=\"black\" stroke-width=\"9.63\" points=\"1047.5,-1019 598.5,-1019 598.5,-853 1047.5,-853 1047.5,-1019\"/>\n<text text-anchor=\"start\" x=\"620.5\" y=\"-969.8\" font-family=\"monospace\" font-size=\"14.00\">Samples: &#160;&#160;&#160;&#160;&#160;28543</text>\n<text text-anchor=\"start\" x=\"620.5\" y=\"-954.8\" font-family=\"monospace\" font-size=\"14.00\">Score: &#160;&#160;&#160;&#160;&#160;&#160;&#160;0.56</text>\n<text text-anchor=\"middle\" x=\"823\" y=\"-939.8\" font-family=\"monospace\" font-size=\"14.00\">Test: logistic rergression on remainder__duration</text>\n<text text-anchor=\"start\" x=\"620.5\" y=\"-908.8\" font-family=\"monospace\" font-size=\"14.00\">0.0: 25931 ✓</text>\n<text text-anchor=\"start\" x=\"620.5\" y=\"-893.8\" font-family=\"monospace\" font-size=\"14.00\">1.0: 2612</text>\n<text text-anchor=\"middle\" x=\"823\" y=\"-878.8\" font-family=\"monospace\" font-size=\"14.00\"> </text>\n</g>\n<!-- Head (Level 0)&#45;&gt;Node #2 (Level 1) -->\n<g id=\"edge2\" class=\"edge\">\n<title>Head (Level 0)&#45;&gt;Node #2 (Level 1)</title>\n<path fill=\"none\" stroke=\"black\" stroke-width=\"6.74\" d=\"M674.14,-1069.8C690.13,-1055.53 706.82,-1040.64 723.01,-1026.2\"/>\n<polygon fill=\"black\" stroke=\"black\" stroke-width=\"6.74\" points=\"727.37,-1030.22 730.91,-1019.16 719.52,-1021.41 727.37,-1030.22\"/>\n<text text-anchor=\"middle\" x=\"749\" y=\"-1040.8\" font-family=\"Times,serif\" font-size=\"14.00\">sigmoid &gt; 0.5</text>\n</g>\n<!-- Node #3 (Level 2) -->\n<g id=\"node4\" class=\"node\">\n<title>Node #3 (Level 2)</title>\n<polygon fill=\"#e1ffe1\" stroke=\"black\" stroke-width=\"0.3\" points=\"353.5,-794.5 160.5,-794.5 160.5,-643.5 353.5,-643.5 353.5,-794.5\"/>\n<text text-anchor=\"start\" x=\"182.5\" y=\"-745.3\" font-family=\"monospace\" font-size=\"14.00\">Samples: &#160;&#160;&#160;&#160;&#160;892</text>\n<text text-anchor=\"middle\" x=\"257\" y=\"-730.3\" font-family=\"monospace\" font-size=\"14.00\">Score: &#160;&#160;&#160;&#160;&#160;&#160;&#160;0.12</text>\n<text text-anchor=\"start\" x=\"182.5\" y=\"-699.3\" font-family=\"monospace\" font-size=\"14.00\">0.0: 266</text>\n<text text-anchor=\"start\" x=\"182.5\" y=\"-684.3\" font-family=\"monospace\" font-size=\"14.00\">1.0: 626 ✓</text>\n<text text-anchor=\"middle\" x=\"257\" y=\"-669.3\" font-family=\"monospace\" font-size=\"14.00\"> </text>\n</g>\n<!-- Node #1 (Level 1)&#45;&gt;Node #3 (Level 2) -->\n<g id=\"edge3\" class=\"edge\">\n<title>Node #1 (Level 1)&#45;&gt;Node #3 (Level 2)</title>\n<path fill=\"none\" stroke=\"black\" stroke-width=\"5.77\" d=\"M310.12,-852.8C303.74,-836.84 297.04,-820.1 290.63,-804.09\"/>\n<polygon fill=\"black\" stroke=\"black\" stroke-width=\"5.77\" points=\"295.3,-802.16 286.9,-794.75 285.93,-805.91 295.3,-802.16\"/>\n<text text-anchor=\"middle\" x=\"346\" y=\"-823.8\" font-family=\"Times,serif\" font-size=\"14.00\">sigmoid &lt;= 0.5</text>\n</g>\n<!-- Node #4 (Level 2) -->\n<g id=\"node5\" class=\"node\">\n<title>Node #4 (Level 2)</title>\n<polygon fill=\"#eaffea\" stroke=\"black\" stroke-width=\"0.06\" points=\"564.5,-794.5 371.5,-794.5 371.5,-643.5 564.5,-643.5 564.5,-794.5\"/>\n<text text-anchor=\"start\" x=\"393.5\" y=\"-745.3\" font-family=\"monospace\" font-size=\"14.00\">Samples: &#160;&#160;&#160;&#160;&#160;191</text>\n<text text-anchor=\"middle\" x=\"468\" y=\"-730.3\" font-family=\"monospace\" font-size=\"14.00\">Score: &#160;&#160;&#160;&#160;&#160;&#160;&#160;0.09</text>\n<text text-anchor=\"start\" x=\"393.5\" y=\"-699.3\" font-family=\"monospace\" font-size=\"14.00\">0.0: 128 ✓</text>\n<text text-anchor=\"start\" x=\"393.5\" y=\"-684.3\" font-family=\"monospace\" font-size=\"14.00\">1.0: 63</text>\n<text text-anchor=\"middle\" x=\"468\" y=\"-669.3\" font-family=\"monospace\" font-size=\"14.00\"> </text>\n</g>\n<!-- Node #1 (Level 1)&#45;&gt;Node #4 (Level 2) -->\n<g id=\"edge4\" class=\"edge\">\n<title>Node #1 (Level 1)&#45;&gt;Node #4 (Level 2)</title>\n<path fill=\"none\" stroke=\"black\" stroke-width=\"1.23\" d=\"M390.79,-852.8C400.15,-836.69 409.98,-819.79 419.37,-803.64\"/>\n<polygon fill=\"black\" stroke=\"black\" stroke-width=\"1.23\" points=\"422.54,-805.16 424.54,-794.75 416.49,-801.64 422.54,-805.16\"/>\n<text text-anchor=\"middle\" x=\"449\" y=\"-823.8\" font-family=\"Times,serif\" font-size=\"14.00\">sigmoid &gt; 0.5</text>\n</g>\n<!-- Node #5 (Level 2) -->\n<g id=\"node6\" class=\"node\">\n<title>Node #5 (Level 2)</title>\n<polygon fill=\"#fafffa\" stroke=\"black\" stroke-width=\"0.26\" points=\"815.5,-794.5 622.5,-794.5 622.5,-643.5 815.5,-643.5 815.5,-794.5\"/>\n<text text-anchor=\"start\" x=\"644.5\" y=\"-745.3\" font-family=\"monospace\" font-size=\"14.00\">Samples: &#160;&#160;&#160;&#160;&#160;780</text>\n<text text-anchor=\"middle\" x=\"719\" y=\"-730.3\" font-family=\"monospace\" font-size=\"14.00\">Score: &#160;&#160;&#160;&#160;&#160;&#160;&#160;0.02</text>\n<text text-anchor=\"start\" x=\"644.5\" y=\"-699.3\" font-family=\"monospace\" font-size=\"14.00\">0.0: 320</text>\n<text text-anchor=\"start\" x=\"644.5\" y=\"-684.3\" font-family=\"monospace\" font-size=\"14.00\">1.0: 460 ✓</text>\n<text text-anchor=\"middle\" x=\"719\" y=\"-669.3\" font-family=\"monospace\" font-size=\"14.00\"> </text>\n</g>\n<!-- Node #2 (Level 1)&#45;&gt;Node #5 (Level 2) -->\n<g id=\"edge5\" class=\"edge\">\n<title>Node #2 (Level 1)&#45;&gt;Node #5 (Level 2)</title>\n<path fill=\"none\" stroke=\"black\" stroke-width=\"0.19\" d=\"M783.24,-852.8C775.52,-836.84 767.42,-820.1 759.67,-804.09\"/>\n<polygon fill=\"black\" stroke=\"black\" stroke-width=\"0.19\" points=\"762.66,-802.23 755.16,-794.75 756.36,-805.28 762.66,-802.23\"/>\n<text text-anchor=\"middle\" x=\"818\" y=\"-823.8\" font-family=\"Times,serif\" font-size=\"14.00\">sigmoid &lt;= 0.5</text>\n</g>\n<!-- Node #6 (Level 2) -->\n<g id=\"node7\" class=\"node\">\n<title>Node #6 (Level 2)</title>\n<polygon fill=\"#65ff65\" stroke=\"black\" stroke-width=\"9.37\" points=\"1282.5,-802 833.5,-802 833.5,-636 1282.5,-636 1282.5,-802\"/>\n<text text-anchor=\"start\" x=\"855.5\" y=\"-752.8\" font-family=\"monospace\" font-size=\"14.00\">Samples: &#160;&#160;&#160;&#160;&#160;27763</text>\n<text text-anchor=\"start\" x=\"855.5\" y=\"-737.8\" font-family=\"monospace\" font-size=\"14.00\">Score: &#160;&#160;&#160;&#160;&#160;&#160;&#160;0.61</text>\n<text text-anchor=\"middle\" x=\"1058\" y=\"-722.8\" font-family=\"monospace\" font-size=\"14.00\">Test: logistic rergression on remainder__duration</text>\n<text text-anchor=\"start\" x=\"855.5\" y=\"-691.8\" font-family=\"monospace\" font-size=\"14.00\">0.0: 25611 ✓</text>\n<text text-anchor=\"start\" x=\"855.5\" y=\"-676.8\" font-family=\"monospace\" font-size=\"14.00\">1.0: 2152</text>\n<text text-anchor=\"middle\" x=\"1058\" y=\"-661.8\" font-family=\"monospace\" font-size=\"14.00\"> </text>\n</g>\n<!-- Node #2 (Level 1)&#45;&gt;Node #6 (Level 2) -->\n<g id=\"edge6\" class=\"edge\">\n<title>Node #2 (Level 1)&#45;&gt;Node #6 (Level 2)</title>\n<path fill=\"none\" stroke=\"black\" stroke-width=\"6.81\" d=\"M912.85,-852.8C928.44,-838.53 944.72,-823.64 960.5,-809.2\"/>\n<polygon fill=\"black\" stroke=\"black\" stroke-width=\"6.81\" points=\"964.84,-813.3 968.2,-802.16 956.8,-804.51 964.84,-813.3\"/>\n<text text-anchor=\"middle\" x=\"987\" y=\"-823.8\" font-family=\"Times,serif\" font-size=\"14.00\">sigmoid &gt; 0.5</text>\n</g>\n<!-- Node #7 (Level 3) -->\n<g id=\"node8\" class=\"node\">\n<title>Node #7 (Level 3)</title>\n<polygon fill=\"#ffffff\" stroke=\"black\" stroke-width=\"0.14\" points=\"1009,-585 535,-585 535,-419 1009,-419 1009,-585\"/>\n<text text-anchor=\"start\" x=\"557\" y=\"-535.8\" font-family=\"monospace\" font-size=\"14.00\">Samples: &#160;&#160;&#160;&#160;&#160;402</text>\n<text text-anchor=\"start\" x=\"557\" y=\"-520.8\" font-family=\"monospace\" font-size=\"14.00\">Score: &#160;&#160;&#160;&#160;&#160;&#160;&#160;0.0</text>\n<text text-anchor=\"middle\" x=\"772\" y=\"-505.8\" font-family=\"monospace\" font-size=\"14.00\">Test: logistic rergression on remainder__nr_employed</text>\n<text text-anchor=\"start\" x=\"557\" y=\"-474.8\" font-family=\"monospace\" font-size=\"14.00\">0.0: 200</text>\n<text text-anchor=\"start\" x=\"557\" y=\"-459.8\" font-family=\"monospace\" font-size=\"14.00\">1.0: 202 ✓</text>\n<text text-anchor=\"middle\" x=\"772\" y=\"-444.8\" font-family=\"monospace\" font-size=\"14.00\"> </text>\n</g>\n<!-- Node #6 (Level 2)&#45;&gt;Node #7 (Level 3) -->\n<g id=\"edge7\" class=\"edge\">\n<title>Node #6 (Level 2)&#45;&gt;Node #7 (Level 3)</title>\n<path fill=\"none\" stroke=\"black\" stroke-width=\"0.1\" d=\"M948.65,-635.8C929.25,-621.21 908.97,-605.97 889.35,-591.22\"/>\n<polygon fill=\"black\" stroke=\"black\" stroke-width=\"0.1\" points=\"891.38,-588.37 881.29,-585.16 887.18,-593.96 891.38,-588.37\"/>\n<text text-anchor=\"middle\" x=\"967\" y=\"-606.8\" font-family=\"Times,serif\" font-size=\"14.00\">sigmoid &lt;= 0.5</text>\n</g>\n<!-- Node #8 (Level 3) -->\n<g id=\"node9\" class=\"node\">\n<title>Node #8 (Level 3)</title>\n<polygon fill=\"#5fff5f\" stroke=\"black\" stroke-width=\"9.24\" points=\"1476.5,-585 1027.5,-585 1027.5,-419 1476.5,-419 1476.5,-585\"/>\n<text text-anchor=\"start\" x=\"1049.5\" y=\"-535.8\" font-family=\"monospace\" font-size=\"14.00\">Samples: &#160;&#160;&#160;&#160;&#160;27361</text>\n<text text-anchor=\"start\" x=\"1049.5\" y=\"-520.8\" font-family=\"monospace\" font-size=\"14.00\">Score: &#160;&#160;&#160;&#160;&#160;&#160;&#160;0.63</text>\n<text text-anchor=\"middle\" x=\"1252\" y=\"-505.8\" font-family=\"monospace\" font-size=\"14.00\">Test: logistic rergression on remainder__duration</text>\n<text text-anchor=\"start\" x=\"1049.5\" y=\"-474.8\" font-family=\"monospace\" font-size=\"14.00\">0.0: 25411 ✓</text>\n<text text-anchor=\"start\" x=\"1049.5\" y=\"-459.8\" font-family=\"monospace\" font-size=\"14.00\">1.0: 1950</text>\n<text text-anchor=\"middle\" x=\"1252\" y=\"-444.8\" font-family=\"monospace\" font-size=\"14.00\"> </text>\n</g>\n<!-- Node #6 (Level 2)&#45;&gt;Node #8 (Level 3) -->\n<g id=\"edge8\" class=\"edge\">\n<title>Node #6 (Level 2)&#45;&gt;Node #8 (Level 3)</title>\n<path fill=\"none\" stroke=\"black\" stroke-width=\"6.9\" d=\"M1132.17,-635.8C1144.93,-621.66 1158.24,-606.91 1171.15,-592.6\"/>\n<polygon fill=\"black\" stroke=\"black\" stroke-width=\"6.9\" points=\"1175.65,-596.63 1177.87,-585.16 1166.69,-588.54 1175.65,-596.63\"/>\n<text text-anchor=\"middle\" x=\"1200\" y=\"-606.8\" font-family=\"Times,serif\" font-size=\"14.00\">sigmoid &gt; 0.5</text>\n</g>\n<!-- Node #9 (Level 4) -->\n<g id=\"node10\" class=\"node\">\n<title>Node #9 (Level 4)</title>\n<polygon fill=\"#f3fff3\" stroke=\"black\" stroke-width=\"0.04\" points=\"564,-368 0,-368 0,-202 564,-202 564,-368\"/>\n<text text-anchor=\"start\" x=\"22\" y=\"-318.8\" font-family=\"monospace\" font-size=\"14.00\">Samples: &#160;&#160;&#160;&#160;&#160;122</text>\n<text text-anchor=\"start\" x=\"22\" y=\"-303.8\" font-family=\"monospace\" font-size=\"14.00\">Score: &#160;&#160;&#160;&#160;&#160;&#160;&#160;0.05</text>\n<text text-anchor=\"middle\" x=\"282\" y=\"-288.8\" font-family=\"monospace\" font-size=\"14.00\">Test: logistic rergression on onehotencoder__education_basic.9y</text>\n<text text-anchor=\"start\" x=\"22\" y=\"-257.8\" font-family=\"monospace\" font-size=\"14.00\">0.0: 45</text>\n<text text-anchor=\"start\" x=\"22\" y=\"-242.8\" font-family=\"monospace\" font-size=\"14.00\">1.0: 77 ✓</text>\n<text text-anchor=\"middle\" x=\"282\" y=\"-227.8\" font-family=\"monospace\" font-size=\"14.00\"> </text>\n</g>\n<!-- Node #7 (Level 3)&#45;&gt;Node #9 (Level 4) -->\n<g id=\"edge9\" class=\"edge\">\n<title>Node #7 (Level 3)&#45;&gt;Node #9 (Level 4)</title>\n<path fill=\"none\" stroke=\"black\" stroke-width=\"2.12\" d=\"M585,-418.95C550.14,-403.65 513.61,-387.63 478.48,-372.21\"/>\n<polygon fill=\"black\" stroke=\"black\" stroke-width=\"2.12\" points=\"479.65,-368.9 469.09,-368.09 476.84,-375.31 479.65,-368.9\"/>\n<text text-anchor=\"middle\" x=\"585\" y=\"-389.8\" font-family=\"Times,serif\" font-size=\"14.00\">sigmoid &lt;= 0.5</text>\n</g>\n<!-- Node #10 (Level 4) -->\n<g id=\"node11\" class=\"node\">\n<title>Node #10 (Level 4)</title>\n<polygon fill=\"#fdfffd\" stroke=\"black\" stroke-width=\"0.09\" points=\"1080,-368 582,-368 582,-202 1080,-202 1080,-368\"/>\n<text text-anchor=\"start\" x=\"604\" y=\"-318.8\" font-family=\"monospace\" font-size=\"14.00\">Samples: &#160;&#160;&#160;&#160;&#160;280</text>\n<text text-anchor=\"start\" x=\"604\" y=\"-303.8\" font-family=\"monospace\" font-size=\"14.00\">Score: &#160;&#160;&#160;&#160;&#160;&#160;&#160;0.01</text>\n<text text-anchor=\"middle\" x=\"831\" y=\"-288.8\" font-family=\"monospace\" font-size=\"14.00\">Test: logistic rergression on onehotencoder__job_admin.</text>\n<text text-anchor=\"start\" x=\"604\" y=\"-257.8\" font-family=\"monospace\" font-size=\"14.00\">0.0: 155 ✓</text>\n<text text-anchor=\"start\" x=\"604\" y=\"-242.8\" font-family=\"monospace\" font-size=\"14.00\">1.0: 125</text>\n<text text-anchor=\"middle\" x=\"831\" y=\"-227.8\" font-family=\"monospace\" font-size=\"14.00\"> </text>\n</g>\n<!-- Node #7 (Level 3)&#45;&gt;Node #10 (Level 4) -->\n<g id=\"edge10\" class=\"edge\">\n<title>Node #7 (Level 3)&#45;&gt;Node #10 (Level 4)</title>\n<path fill=\"none\" stroke=\"black\" stroke-width=\"4.88\" d=\"M794.56,-418.8C798.22,-405.44 802.04,-391.54 805.76,-377.97\"/>\n<polygon fill=\"black\" stroke=\"black\" stroke-width=\"4.88\" points=\"809.92,-378.93 808.45,-368.16 801.69,-376.67 809.92,-378.93\"/>\n<text text-anchor=\"middle\" x=\"843\" y=\"-389.8\" font-family=\"Times,serif\" font-size=\"14.00\">sigmoid &gt; 0.5</text>\n</g>\n<!-- Node #11 (Level 4) -->\n<g id=\"node12\" class=\"node\">\n<title>Node #11 (Level 4)</title>\n<polygon fill=\"#edffed\" stroke=\"black\" stroke-width=\"0.03\" points=\"1292.5,-360.5 1099.5,-360.5 1099.5,-209.5 1292.5,-209.5 1292.5,-360.5\"/>\n<text text-anchor=\"start\" x=\"1121.5\" y=\"-311.3\" font-family=\"monospace\" font-size=\"14.00\">Samples: &#160;&#160;&#160;&#160;&#160;88</text>\n<text text-anchor=\"middle\" x=\"1196\" y=\"-296.3\" font-family=\"monospace\" font-size=\"14.00\">Score: &#160;&#160;&#160;&#160;&#160;&#160;&#160;0.07</text>\n<text text-anchor=\"start\" x=\"1121.5\" y=\"-265.3\" font-family=\"monospace\" font-size=\"14.00\">0.0: 58 ✓</text>\n<text text-anchor=\"start\" x=\"1121.5\" y=\"-250.3\" font-family=\"monospace\" font-size=\"14.00\">1.0: 30</text>\n<text text-anchor=\"middle\" x=\"1196\" y=\"-235.3\" font-family=\"monospace\" font-size=\"14.00\"> </text>\n</g>\n<!-- Node #8 (Level 3)&#45;&gt;Node #11 (Level 4) -->\n<g id=\"edge11\" class=\"edge\">\n<title>Node #8 (Level 3)&#45;&gt;Node #11 (Level 4)</title>\n<path fill=\"none\" stroke=\"black\" stroke-width=\"0.02\" d=\"M1204.84,-418.98C1202.56,-413.01 1200.57,-406.99 1199,-401 1196.47,-391.37 1194.81,-381.12 1193.78,-370.87\"/>\n<polygon fill=\"black\" stroke=\"black\" stroke-width=\"0.02\" points=\"1197.25,-370.32 1192.95,-360.63 1190.27,-370.88 1197.25,-370.32\"/>\n<text text-anchor=\"middle\" x=\"1242\" y=\"-389.8\" font-family=\"Times,serif\" font-size=\"14.00\">sigmoid &lt;= 0.5</text>\n</g>\n<!-- Node #12 (Level 4) -->\n<g id=\"node13\" class=\"node\">\n<title>Node #12 (Level 4)</title>\n<polygon fill=\"#5eff5e\" stroke=\"black\" stroke-width=\"9.21\" points=\"1759.5,-368 1310.5,-368 1310.5,-202 1759.5,-202 1759.5,-368\"/>\n<text text-anchor=\"start\" x=\"1332.5\" y=\"-318.8\" font-family=\"monospace\" font-size=\"14.00\">Samples: &#160;&#160;&#160;&#160;&#160;27273</text>\n<text text-anchor=\"start\" x=\"1332.5\" y=\"-303.8\" font-family=\"monospace\" font-size=\"14.00\">Score: &#160;&#160;&#160;&#160;&#160;&#160;&#160;0.63</text>\n<text text-anchor=\"middle\" x=\"1535\" y=\"-288.8\" font-family=\"monospace\" font-size=\"14.00\">Test: logistic rergression on remainder__duration</text>\n<text text-anchor=\"start\" x=\"1332.5\" y=\"-257.8\" font-family=\"monospace\" font-size=\"14.00\">0.0: 25353 ✓</text>\n<text text-anchor=\"start\" x=\"1332.5\" y=\"-242.8\" font-family=\"monospace\" font-size=\"14.00\">1.0: 1920</text>\n<text text-anchor=\"middle\" x=\"1535\" y=\"-227.8\" font-family=\"monospace\" font-size=\"14.00\"> </text>\n</g>\n<!-- Node #8 (Level 3)&#45;&gt;Node #12 (Level 4) -->\n<g id=\"edge12\" class=\"edge\">\n<title>Node #8 (Level 3)&#45;&gt;Node #12 (Level 4)</title>\n<path fill=\"none\" stroke=\"black\" stroke-width=\"6.98\" d=\"M1360.2,-418.8C1379.4,-404.21 1399.47,-388.97 1418.88,-374.22\"/>\n<polygon fill=\"black\" stroke=\"black\" stroke-width=\"6.98\" points=\"1422.59,-379.07 1426.86,-368.16 1415.2,-369.34 1422.59,-379.07\"/>\n<text text-anchor=\"middle\" x=\"1441\" y=\"-389.8\" font-family=\"Times,serif\" font-size=\"14.00\">sigmoid &gt; 0.5</text>\n</g>\n<!-- Node #13 (Level 5) -->\n<g id=\"node14\" class=\"node\">\n<title>Node #13 (Level 5)</title>\n<polygon fill=\"#eaffea\" stroke=\"black\" stroke-width=\"0.04\" points=\"273.5,-151 80.5,-151 80.5,0 273.5,0 273.5,-151\"/>\n<text text-anchor=\"start\" x=\"102.5\" y=\"-101.8\" font-family=\"monospace\" font-size=\"14.00\">Samples: &#160;&#160;&#160;&#160;&#160;106</text>\n<text text-anchor=\"middle\" x=\"177\" y=\"-86.8\" font-family=\"monospace\" font-size=\"14.00\">Score: &#160;&#160;&#160;&#160;&#160;&#160;&#160;0.08</text>\n<text text-anchor=\"start\" x=\"102.5\" y=\"-55.8\" font-family=\"monospace\" font-size=\"14.00\">0.0: 35</text>\n<text text-anchor=\"start\" x=\"102.5\" y=\"-40.8\" font-family=\"monospace\" font-size=\"14.00\">1.0: 71 ✓</text>\n<text text-anchor=\"middle\" x=\"177\" y=\"-25.8\" font-family=\"monospace\" font-size=\"14.00\"> </text>\n</g>\n<!-- Node #9 (Level 4)&#45;&gt;Node #13 (Level 5) -->\n<g id=\"edge13\" class=\"edge\">\n<title>Node #9 (Level 4)&#45;&gt;Node #13 (Level 5)</title>\n<path fill=\"none\" stroke=\"black\" stroke-width=\"6.08\" d=\"M240.5,-201.99C233.54,-188.24 226.31,-173.95 219.33,-160.16\"/>\n<polygon fill=\"black\" stroke=\"black\" stroke-width=\"6.08\" points=\"224.05,-157.69 214.79,-151.17 214.55,-162.5 224.05,-157.69\"/>\n<text text-anchor=\"middle\" x=\"273\" y=\"-172.8\" font-family=\"Times,serif\" font-size=\"14.00\">sigmoid &lt;= 0.5</text>\n</g>\n<!-- Node #14 (Level 5) -->\n<g id=\"node15\" class=\"node\">\n<title>Node #14 (Level 5)</title>\n<polygon fill=\"#f4fff4\" stroke=\"black\" stroke-width=\"0.01\" points=\"484.5,-151 291.5,-151 291.5,0 484.5,0 484.5,-151\"/>\n<text text-anchor=\"start\" x=\"313.5\" y=\"-101.8\" font-family=\"monospace\" font-size=\"14.00\">Samples: &#160;&#160;&#160;&#160;&#160;16</text>\n<text text-anchor=\"middle\" x=\"388\" y=\"-86.8\" font-family=\"monospace\" font-size=\"14.00\">Score: &#160;&#160;&#160;&#160;&#160;&#160;&#160;0.05</text>\n<text text-anchor=\"start\" x=\"313.5\" y=\"-55.8\" font-family=\"monospace\" font-size=\"14.00\">0.0: 10 ✓</text>\n<text text-anchor=\"start\" x=\"313.5\" y=\"-40.8\" font-family=\"monospace\" font-size=\"14.00\">1.0: 6</text>\n<text text-anchor=\"middle\" x=\"388\" y=\"-25.8\" font-family=\"monospace\" font-size=\"14.00\"> </text>\n</g>\n<!-- Node #9 (Level 4)&#45;&gt;Node #14 (Level 5) -->\n<g id=\"edge14\" class=\"edge\">\n<title>Node #9 (Level 4)&#45;&gt;Node #14 (Level 5)</title>\n<path fill=\"none\" stroke=\"black\" stroke-width=\"0.92\" d=\"M323.89,-201.99C330.92,-188.24 338.22,-173.95 345.26,-160.16\"/>\n<polygon fill=\"black\" stroke=\"black\" stroke-width=\"0.92\" points=\"348.42,-161.67 349.85,-151.17 342.19,-158.49 348.42,-161.67\"/>\n<text text-anchor=\"middle\" x=\"378\" y=\"-172.8\" font-family=\"Times,serif\" font-size=\"14.00\">sigmoid &gt; 0.5</text>\n</g>\n<!-- Node #15 (Level 5) -->\n<g id=\"node16\" class=\"node\">\n<title>Node #15 (Level 5)</title>\n<polygon fill=\"#f9fff9\" stroke=\"black\" stroke-width=\"0.02\" points=\"822.5,-151 629.5,-151 629.5,0 822.5,0 822.5,-151\"/>\n<text text-anchor=\"start\" x=\"651.5\" y=\"-101.8\" font-family=\"monospace\" font-size=\"14.00\">Samples: &#160;&#160;&#160;&#160;&#160;59</text>\n<text text-anchor=\"middle\" x=\"726\" y=\"-86.8\" font-family=\"monospace\" font-size=\"14.00\">Score: &#160;&#160;&#160;&#160;&#160;&#160;&#160;0.03</text>\n<text text-anchor=\"start\" x=\"651.5\" y=\"-55.8\" font-family=\"monospace\" font-size=\"14.00\">0.0: 24</text>\n<text text-anchor=\"start\" x=\"651.5\" y=\"-40.8\" font-family=\"monospace\" font-size=\"14.00\">1.0: 35 ✓</text>\n<text text-anchor=\"middle\" x=\"726\" y=\"-25.8\" font-family=\"monospace\" font-size=\"14.00\"> </text>\n</g>\n<!-- Node #10 (Level 4)&#45;&gt;Node #15 (Level 5) -->\n<g id=\"edge15\" class=\"edge\">\n<title>Node #10 (Level 4)&#45;&gt;Node #15 (Level 5)</title>\n<path fill=\"none\" stroke=\"black\" stroke-width=\"1.48\" d=\"M789.5,-201.99C782.54,-188.24 775.31,-173.95 768.33,-160.16\"/>\n<polygon fill=\"black\" stroke=\"black\" stroke-width=\"1.48\" points=\"771.42,-158.52 763.79,-151.17 765.18,-161.68 771.42,-158.52\"/>\n<text text-anchor=\"middle\" x=\"822\" y=\"-172.8\" font-family=\"Times,serif\" font-size=\"14.00\">sigmoid &lt;= 0.5</text>\n</g>\n<!-- Node #16 (Level 5) -->\n<g id=\"node17\" class=\"node\">\n<title>Node #16 (Level 5)</title>\n<polygon fill=\"#f9fff9\" stroke=\"black\" stroke-width=\"0.07\" points=\"1033.5,-151 840.5,-151 840.5,0 1033.5,0 1033.5,-151\"/>\n<text text-anchor=\"start\" x=\"862.5\" y=\"-101.8\" font-family=\"monospace\" font-size=\"14.00\">Samples: &#160;&#160;&#160;&#160;&#160;221</text>\n<text text-anchor=\"middle\" x=\"937\" y=\"-86.8\" font-family=\"monospace\" font-size=\"14.00\">Score: &#160;&#160;&#160;&#160;&#160;&#160;&#160;0.02</text>\n<text text-anchor=\"start\" x=\"862.5\" y=\"-55.8\" font-family=\"monospace\" font-size=\"14.00\">0.0: 131 ✓</text>\n<text text-anchor=\"start\" x=\"862.5\" y=\"-40.8\" font-family=\"monospace\" font-size=\"14.00\">1.0: 90</text>\n<text text-anchor=\"middle\" x=\"937\" y=\"-25.8\" font-family=\"monospace\" font-size=\"14.00\"> </text>\n</g>\n<!-- Node #10 (Level 4)&#45;&gt;Node #16 (Level 5) -->\n<g id=\"edge16\" class=\"edge\">\n<title>Node #10 (Level 4)&#45;&gt;Node #16 (Level 5)</title>\n<path fill=\"none\" stroke=\"black\" stroke-width=\"5.52\" d=\"M872.89,-201.99C879.92,-188.24 887.22,-173.95 894.26,-160.16\"/>\n<polygon fill=\"black\" stroke=\"black\" stroke-width=\"5.52\" points=\"898.61,-162.28 898.85,-151.17 890,-157.88 898.61,-162.28\"/>\n<text text-anchor=\"middle\" x=\"927\" y=\"-172.8\" font-family=\"Times,serif\" font-size=\"14.00\">sigmoid &gt; 0.5</text>\n</g>\n<!-- Node #17 (Level 5) -->\n<g id=\"node18\" class=\"node\">\n<title>Node #17 (Level 5)</title>\n<polygon fill=\"#ffffff\" stroke=\"black\" stroke-width=\"0.02\" points=\"1521.5,-151 1336.5,-151 1336.5,0 1521.5,0 1521.5,-151\"/>\n<text text-anchor=\"start\" x=\"1358.5\" y=\"-101.8\" font-family=\"monospace\" font-size=\"14.00\">Samples: &#160;&#160;&#160;&#160;&#160;45</text>\n<text text-anchor=\"middle\" x=\"1429\" y=\"-86.8\" font-family=\"monospace\" font-size=\"14.00\">Score: &#160;&#160;&#160;&#160;&#160;&#160;&#160;0.0</text>\n<text text-anchor=\"start\" x=\"1358.5\" y=\"-55.8\" font-family=\"monospace\" font-size=\"14.00\">0.0: 24 ✓</text>\n<text text-anchor=\"start\" x=\"1358.5\" y=\"-40.8\" font-family=\"monospace\" font-size=\"14.00\">1.0: 21</text>\n<text text-anchor=\"middle\" x=\"1429\" y=\"-25.8\" font-family=\"monospace\" font-size=\"14.00\"> </text>\n</g>\n<!-- Node #12 (Level 4)&#45;&gt;Node #17 (Level 5) -->\n<g id=\"edge17\" class=\"edge\">\n<title>Node #12 (Level 4)&#45;&gt;Node #17 (Level 5)</title>\n<path fill=\"none\" stroke=\"black\" stroke-width=\"0.01\" d=\"M1493.11,-201.99C1486.08,-188.24 1478.78,-173.95 1471.74,-160.16\"/>\n<polygon fill=\"black\" stroke=\"black\" stroke-width=\"0.01\" points=\"1474.81,-158.49 1467.15,-151.17 1468.58,-161.67 1474.81,-158.49\"/>\n<text text-anchor=\"middle\" x=\"1525\" y=\"-172.8\" font-family=\"Times,serif\" font-size=\"14.00\">sigmoid &lt;= 0.5</text>\n</g>\n<!-- Node #18 (Level 5) -->\n<g id=\"node19\" class=\"node\">\n<title>Node #18 (Level 5)</title>\n<polygon fill=\"#5eff5e\" stroke=\"black\" stroke-width=\"9.19\" points=\"1740.5,-151 1539.5,-151 1539.5,0 1740.5,0 1740.5,-151\"/>\n<text text-anchor=\"start\" x=\"1561.5\" y=\"-101.8\" font-family=\"monospace\" font-size=\"14.00\">Samples: &#160;&#160;&#160;&#160;&#160;27228</text>\n<text text-anchor=\"middle\" x=\"1640\" y=\"-86.8\" font-family=\"monospace\" font-size=\"14.00\">Score: &#160;&#160;&#160;&#160;&#160;&#160;&#160;0.64</text>\n<text text-anchor=\"start\" x=\"1561.5\" y=\"-55.8\" font-family=\"monospace\" font-size=\"14.00\">0.0: 25329 ✓</text>\n<text text-anchor=\"start\" x=\"1561.5\" y=\"-40.8\" font-family=\"monospace\" font-size=\"14.00\">1.0: 1899</text>\n<text text-anchor=\"middle\" x=\"1640\" y=\"-25.8\" font-family=\"monospace\" font-size=\"14.00\"> </text>\n</g>\n<!-- Node #12 (Level 4)&#45;&gt;Node #18 (Level 5) -->\n<g id=\"edge18\" class=\"edge\">\n<title>Node #12 (Level 4)&#45;&gt;Node #18 (Level 5)</title>\n<path fill=\"none\" stroke=\"black\" stroke-width=\"6.99\" d=\"M1576.5,-201.99C1583.46,-188.24 1590.69,-173.95 1597.67,-160.16\"/>\n<polygon fill=\"black\" stroke=\"black\" stroke-width=\"6.99\" points=\"1603.15,-162.86 1602.21,-151.17 1592.24,-157.34 1603.15,-162.86\"/>\n<text text-anchor=\"middle\" x=\"1629\" y=\"-172.8\" font-family=\"Times,serif\" font-size=\"14.00\">sigmoid &gt; 0.5</text>\n</g>\n</g>\n</svg>\n",
      "text/plain": [
       "<graphviz.dot.Digraph at 0x7fb9a28f6a00>"
      ]
     },
     "execution_count": 397,
     "metadata": {},
     "output_type": "execute_result"
    }
   ],
   "source": [
    "treeData3OHT.generate_dot_graph()"
   ]
  },
  {
   "cell_type": "code",
   "execution_count": 398,
   "metadata": {},
   "outputs": [
    {
     "name": "stdout",
     "output_type": "stream",
     "text": [
      "Accuracy =  0.9034021871202916\n",
      "Macro Precision =  0.7802923804000221\n",
      "Micro Precision =  0.9034021871202916\n",
      "Weighted Precision =  0.8883018938483731\n",
      "Macro Recall =  0.6553923880609303\n",
      "Micro Recall =  0.9034021871202916\n",
      "Weighted Recall =  0.9034021871202916\n",
      "Macro F1 =  0.6934453859942795\n",
      "Micro F1 =  0.9034021871202916\n",
      "Weighted F1 =  0.8896845573300881\n",
      "\n",
      "Classification Report\n",
      "               precision    recall  f1-score   support\n",
      "\n",
      "         0.0       0.92      0.98      0.95      7298\n",
      "         1.0       0.64      0.33      0.44       932\n",
      "\n",
      "    accuracy                           0.90      8230\n",
      "   macro avg       0.78      0.66      0.69      8230\n",
      "weighted avg       0.89      0.90      0.89      8230\n",
      "\n"
     ]
    }
   ],
   "source": [
    "preds = treeData3OHT.predict(X_test.values)\n",
    "preds = [float(i) for i in preds]\n",
    "runMetrics(y_test.values, preds)"
   ]
  },
  {
   "cell_type": "code",
   "execution_count": 399,
   "metadata": {},
   "outputs": [
    {
     "data": {
      "image/png": "[encoded data removed]",
      "text/plain": [
       "<Figure size 640x480 with 1 Axes>"
      ]
     },
     "metadata": {},
     "output_type": "display_data"
    },
    {
     "name": "stdout",
     "output_type": "stream",
     "text": [
      "AUC =  0.6849196293416857\n"
     ]
    }
   ],
   "source": [
    "getAucRocMetrics(y_test.values, treeData3OHT.predict_proba(X_test.values)[:, 1], 1)"
   ]
  },
  {
   "cell_type": "code",
   "execution_count": 400,
   "metadata": {},
   "outputs": [],
   "source": [
    "treeData3OHT = HDTreeClassifier(\n",
    "                    allowed_splits=[LogisticRegressionDoubleCategorySplit.build()], \n",
    "                    # allowed_splits=[LogisticRegressionSingleSplit.build(), TwoQuantileRangeSplit.build()], \n",
    "                    # allowed_splits=[FixedValueSplit.build(), SingleCategorySplit.build(), TwentyQuantileRangeSplit.build(), TwentyQuantileSplit.build()],\n",
    "                    information_measure=EntropyMeasure(), \n",
    "                    attribute_names=col_names, \n",
    "                    max_levels=5,\n",
    "                    min_samples_at_leaf=10)"
   ]
  },
  {
   "cell_type": "code",
   "execution_count": 401,
   "metadata": {},
   "outputs": [
    {
     "name": "stdout",
     "output_type": "stream",
     "text": [
      "0.9047120772294606\n",
      "0.9037059538274606\n",
      "0.9015795868772782\n"
     ]
    }
   ],
   "source": [
    "treeData3OHT.fit(X_train.values, y_train.values)\n",
    "print(treeData3OHT.score(X_train.values, y_train.values))\n",
    "print(treeData3OHT.score(X_test.values, y_test.values))"
   ]
  },
  {
   "cell_type": "code",
   "execution_count": 402,
   "metadata": {},
   "outputs": [
    {
     "data": {
      "image/svg+xml": "<?xml version=\"1.0\" encoding=\"UTF-8\" standalone=\"no\"?>\n<!DOCTYPE svg PUBLIC \"-//W3C//DTD SVG 1.1//EN\"\n \"http://www.w3.org/Graphics/SVG/1.1/DTD/svg11.dtd\">\n<!-- Generated by graphviz version 5.0.1 (20220820.1526)\n -->\n<!-- Pages: 1 -->\n<svg width=\"4209pt\" height=\"1244pt\"\n viewBox=\"0.00 0.00 4209.00 1244.00\" xmlns=\"http://www.w3.org/2000/svg\" xmlns:xlink=\"http://www.w3.org/1999/xlink\">\n<g id=\"graph0\" class=\"graph\" transform=\"scale(1 1) rotate(0) translate(4 1240)\">\n<polygon fill=\"white\" stroke=\"none\" points=\"-4,4 -4,-1240 4205,-1240 4205,4 -4,4\"/>\n<!-- Head (Level 0) -->\n<g id=\"node1\" class=\"node\">\n<title>Head (Level 0)</title>\n<polygon fill=\"#81ff81\" stroke=\"black\" stroke-width=\"10\" points=\"2015.5,-1236 1261.5,-1236 1261.5,-1070 2015.5,-1070 2015.5,-1236\"/>\n<text text-anchor=\"start\" x=\"1283.5\" y=\"-1186.8\" font-family=\"monospace\" font-size=\"14.00\">Samples: &#160;&#160;&#160;&#160;&#160;29626</text>\n<text text-anchor=\"start\" x=\"1283.5\" y=\"-1171.8\" font-family=\"monospace\" font-size=\"14.00\">Score: &#160;&#160;&#160;&#160;&#160;&#160;&#160;0.5</text>\n<text text-anchor=\"middle\" x=\"1638.5\" y=\"-1156.8\" font-family=\"monospace\" font-size=\"14.00\">Test: Logistic Regression using onehotencoder__job_admin. and onehotencoder__month_mar</text>\n<text text-anchor=\"start\" x=\"1283.5\" y=\"-1125.8\" font-family=\"monospace\" font-size=\"14.00\">0.0: 26325 ✓</text>\n<text text-anchor=\"start\" x=\"1283.5\" y=\"-1110.8\" font-family=\"monospace\" font-size=\"14.00\">1.0: 3301</text>\n<text text-anchor=\"middle\" x=\"1638.5\" y=\"-1095.8\" font-family=\"monospace\" font-size=\"14.00\"> </text>\n</g>\n<!-- Node #1 (Level 1) -->\n<g id=\"node2\" class=\"node\">\n<title>Node #1 (Level 1)</title>\n<polygon fill=\"#ffffff\" stroke=\"black\" stroke-width=\"0.05\" points=\"1595.5,-1019 783.5,-1019 783.5,-853 1595.5,-853 1595.5,-1019\"/>\n<text text-anchor=\"start\" x=\"805.5\" y=\"-969.8\" font-family=\"monospace\" font-size=\"14.00\">Samples: &#160;&#160;&#160;&#160;&#160;135</text>\n<text text-anchor=\"start\" x=\"805.5\" y=\"-954.8\" font-family=\"monospace\" font-size=\"14.00\">Score: &#160;&#160;&#160;&#160;&#160;&#160;&#160;0.0</text>\n<text text-anchor=\"middle\" x=\"1189.5\" y=\"-939.8\" font-family=\"monospace\" font-size=\"14.00\">Test: Logistic Regression using onehotencoder__job_admin. and onehotencoder__marital_divorced</text>\n<text text-anchor=\"start\" x=\"805.5\" y=\"-908.8\" font-family=\"monospace\" font-size=\"14.00\">0.0: 64</text>\n<text text-anchor=\"start\" x=\"805.5\" y=\"-893.8\" font-family=\"monospace\" font-size=\"14.00\">1.0: 71 ✓</text>\n<text text-anchor=\"middle\" x=\"1189.5\" y=\"-878.8\" font-family=\"monospace\" font-size=\"14.00\"> </text>\n</g>\n<!-- Head (Level 0)&#45;&gt;Node #1 (Level 1) -->\n<g id=\"edge1\" class=\"edge\">\n<title>Head (Level 0)&#45;&gt;Node #1 (Level 1)</title>\n<path fill=\"none\" stroke=\"black\" stroke-width=\"0.03\" d=\"M1467.15,-1069.95C1435.48,-1054.78 1402.3,-1038.9 1370.36,-1023.6\"/>\n<polygon fill=\"black\" stroke=\"black\" stroke-width=\"0.03\" points=\"1371.47,-1020.25 1360.94,-1019.09 1368.44,-1026.57 1371.47,-1020.25\"/>\n<text text-anchor=\"middle\" x=\"1470.5\" y=\"-1040.8\" font-family=\"Times,serif\" font-size=\"14.00\">sigmoid &lt;= 0.5</text>\n</g>\n<!-- Node #2 (Level 1) -->\n<g id=\"node3\" class=\"node\">\n<title>Node #2 (Level 1)</title>\n<polygon fill=\"#80ff80\" stroke=\"black\" stroke-width=\"9.95\" points=\"2443.5,-1019 1631.5,-1019 1631.5,-853 2443.5,-853 2443.5,-1019\"/>\n<text text-anchor=\"start\" x=\"1653.5\" y=\"-969.8\" font-family=\"monospace\" font-size=\"14.00\">Samples: &#160;&#160;&#160;&#160;&#160;29491</text>\n<text text-anchor=\"start\" x=\"1653.5\" y=\"-954.8\" font-family=\"monospace\" font-size=\"14.00\">Score: &#160;&#160;&#160;&#160;&#160;&#160;&#160;0.5</text>\n<text text-anchor=\"middle\" x=\"2037.5\" y=\"-939.8\" font-family=\"monospace\" font-size=\"14.00\">Test: Logistic Regression using onehotencoder__job_admin. and onehotencoder__poutcome_success</text>\n<text text-anchor=\"start\" x=\"1653.5\" y=\"-908.8\" font-family=\"monospace\" font-size=\"14.00\">0.0: 26261 ✓</text>\n<text text-anchor=\"start\" x=\"1653.5\" y=\"-893.8\" font-family=\"monospace\" font-size=\"14.00\">1.0: 3230</text>\n<text text-anchor=\"middle\" x=\"2037.5\" y=\"-878.8\" font-family=\"monospace\" font-size=\"14.00\"> </text>\n</g>\n<!-- Head (Level 0)&#45;&gt;Node #2 (Level 1) -->\n<g id=\"edge2\" class=\"edge\">\n<title>Head (Level 0)&#45;&gt;Node #2 (Level 1)</title>\n<path fill=\"none\" stroke=\"black\" stroke-width=\"6.97\" d=\"M1790.77,-1069.95C1818.67,-1054.91 1847.89,-1039.17 1876.05,-1024\"/>\n<polygon fill=\"black\" stroke=\"black\" stroke-width=\"6.97\" points=\"1879.24,-1029.2 1885.16,-1019.09 1873.46,-1018.47 1879.24,-1029.2\"/>\n<text text-anchor=\"middle\" x=\"1889.5\" y=\"-1040.8\" font-family=\"Times,serif\" font-size=\"14.00\">sigmoid &gt; 0.5</text>\n</g>\n<!-- Node #3 (Level 2) -->\n<g id=\"node4\" class=\"node\">\n<title>Node #3 (Level 2)</title>\n<polygon fill=\"#fefffe\" stroke=\"black\" stroke-width=\"0.04\" points=\"1039.5,-802 235.5,-802 235.5,-636 1039.5,-636 1039.5,-802\"/>\n<text text-anchor=\"start\" x=\"257.5\" y=\"-752.8\" font-family=\"monospace\" font-size=\"14.00\">Samples: &#160;&#160;&#160;&#160;&#160;119</text>\n<text text-anchor=\"start\" x=\"257.5\" y=\"-737.8\" font-family=\"monospace\" font-size=\"14.00\">Score: &#160;&#160;&#160;&#160;&#160;&#160;&#160;0.0</text>\n<text text-anchor=\"middle\" x=\"637.5\" y=\"-722.8\" font-family=\"monospace\" font-size=\"14.00\">Test: Logistic Regression using onehotencoder__job_admin. and onehotencoder__marital_married</text>\n<text text-anchor=\"start\" x=\"257.5\" y=\"-691.8\" font-family=\"monospace\" font-size=\"14.00\">0.0: 55</text>\n<text text-anchor=\"start\" x=\"257.5\" y=\"-676.8\" font-family=\"monospace\" font-size=\"14.00\">1.0: 64 ✓</text>\n<text text-anchor=\"middle\" x=\"637.5\" y=\"-661.8\" font-family=\"monospace\" font-size=\"14.00\"> </text>\n</g>\n<!-- Node #1 (Level 1)&#45;&gt;Node #3 (Level 2) -->\n<g id=\"edge3\" class=\"edge\">\n<title>Node #1 (Level 1)&#45;&gt;Node #3 (Level 2)</title>\n<path fill=\"none\" stroke=\"black\" stroke-width=\"6.17\" d=\"M978.84,-852.95C939.23,-837.52 897.72,-821.35 857.82,-805.81\"/>\n<polygon fill=\"black\" stroke=\"black\" stroke-width=\"6.17\" points=\"859.54,-800.69 848.26,-802.09 855.62,-810.75 859.54,-800.69\"/>\n<text text-anchor=\"middle\" x=\"973.5\" y=\"-823.8\" font-family=\"Times,serif\" font-size=\"14.00\">sigmoid &lt;= 0.5</text>\n</g>\n<!-- Node #4 (Level 2) -->\n<g id=\"node5\" class=\"node\">\n<title>Node #4 (Level 2)</title>\n<polygon fill=\"#fdfffd\" stroke=\"black\" stroke-width=\"0.01\" points=\"1286,-794.5 1093,-794.5 1093,-643.5 1286,-643.5 1286,-794.5\"/>\n<text text-anchor=\"start\" x=\"1115\" y=\"-745.3\" font-family=\"monospace\" font-size=\"14.00\">Samples: &#160;&#160;&#160;&#160;&#160;16</text>\n<text text-anchor=\"middle\" x=\"1189.5\" y=\"-730.3\" font-family=\"monospace\" font-size=\"14.00\">Score: &#160;&#160;&#160;&#160;&#160;&#160;&#160;0.01</text>\n<text text-anchor=\"start\" x=\"1115\" y=\"-699.3\" font-family=\"monospace\" font-size=\"14.00\">0.0: 9 ✓</text>\n<text text-anchor=\"start\" x=\"1115\" y=\"-684.3\" font-family=\"monospace\" font-size=\"14.00\">1.0: 7</text>\n<text text-anchor=\"middle\" x=\"1189.5\" y=\"-669.3\" font-family=\"monospace\" font-size=\"14.00\"> </text>\n</g>\n<!-- Node #1 (Level 1)&#45;&gt;Node #4 (Level 2) -->\n<g id=\"edge4\" class=\"edge\">\n<title>Node #1 (Level 1)&#45;&gt;Node #4 (Level 2)</title>\n<path fill=\"none\" stroke=\"black\" stroke-width=\"0.83\" d=\"M1189.5,-852.8C1189.5,-837.14 1189.5,-820.73 1189.5,-804.98\"/>\n<polygon fill=\"black\" stroke=\"black\" stroke-width=\"0.83\" points=\"1193,-804.75 1189.5,-794.75 1186,-804.75 1193,-804.75\"/>\n<text text-anchor=\"middle\" x=\"1228.5\" y=\"-823.8\" font-family=\"Times,serif\" font-size=\"14.00\">sigmoid &gt; 0.5</text>\n</g>\n<!-- Node #5 (Level 2) -->\n<g id=\"node6\" class=\"node\">\n<title>Node #5 (Level 2)</title>\n<polygon fill=\"#f0fff0\" stroke=\"black\" stroke-width=\"0.33\" points=\"2439.5,-802 1635.5,-802 1635.5,-636 2439.5,-636 2439.5,-802\"/>\n<text text-anchor=\"start\" x=\"1657.5\" y=\"-752.8\" font-family=\"monospace\" font-size=\"14.00\">Samples: &#160;&#160;&#160;&#160;&#160;965</text>\n<text text-anchor=\"start\" x=\"1657.5\" y=\"-737.8\" font-family=\"monospace\" font-size=\"14.00\">Score: &#160;&#160;&#160;&#160;&#160;&#160;&#160;0.06</text>\n<text text-anchor=\"middle\" x=\"2037.5\" y=\"-722.8\" font-family=\"monospace\" font-size=\"14.00\">Test: Logistic Regression using onehotencoder__job_admin. and onehotencoder__job_blue&#45;collar</text>\n<text text-anchor=\"start\" x=\"1657.5\" y=\"-691.8\" font-family=\"monospace\" font-size=\"14.00\">0.0: 345</text>\n<text text-anchor=\"start\" x=\"1657.5\" y=\"-676.8\" font-family=\"monospace\" font-size=\"14.00\">1.0: 620 ✓</text>\n<text text-anchor=\"middle\" x=\"2037.5\" y=\"-661.8\" font-family=\"monospace\" font-size=\"14.00\"> </text>\n</g>\n<!-- Node #2 (Level 1)&#45;&gt;Node #5 (Level 2) -->\n<g id=\"edge5\" class=\"edge\">\n<title>Node #2 (Level 1)&#45;&gt;Node #5 (Level 2)</title>\n<path fill=\"none\" stroke=\"black\" stroke-width=\"0.23\" d=\"M2037.5,-852.8C2037.5,-839.57 2037.5,-825.81 2037.5,-812.36\"/>\n<polygon fill=\"black\" stroke=\"black\" stroke-width=\"0.23\" points=\"2041,-812.16 2037.5,-802.16 2034,-812.16 2041,-812.16\"/>\n<text text-anchor=\"middle\" x=\"2080.5\" y=\"-823.8\" font-family=\"Times,serif\" font-size=\"14.00\">sigmoid &lt;= 0.5</text>\n</g>\n<!-- Node #6 (Level 2) -->\n<g id=\"node7\" class=\"node\">\n<title>Node #6 (Level 2)</title>\n<polygon fill=\"#71ff71\" stroke=\"black\" stroke-width=\"9.63\" points=\"3188,-802 2475,-802 2475,-636 3188,-636 3188,-802\"/>\n<text text-anchor=\"start\" x=\"2497\" y=\"-752.8\" font-family=\"monospace\" font-size=\"14.00\">Samples: &#160;&#160;&#160;&#160;&#160;28526</text>\n<text text-anchor=\"start\" x=\"2497\" y=\"-737.8\" font-family=\"monospace\" font-size=\"14.00\">Score: &#160;&#160;&#160;&#160;&#160;&#160;&#160;0.56</text>\n<text text-anchor=\"middle\" x=\"2831.5\" y=\"-722.8\" font-family=\"monospace\" font-size=\"14.00\">Test: Logistic Regression using onehotencoder__job_admin. and remainder__duration</text>\n<text text-anchor=\"start\" x=\"2497\" y=\"-691.8\" font-family=\"monospace\" font-size=\"14.00\">0.0: 25916 ✓</text>\n<text text-anchor=\"start\" x=\"2497\" y=\"-676.8\" font-family=\"monospace\" font-size=\"14.00\">1.0: 2610</text>\n<text text-anchor=\"middle\" x=\"2831.5\" y=\"-661.8\" font-family=\"monospace\" font-size=\"14.00\"> </text>\n</g>\n<!-- Node #2 (Level 1)&#45;&gt;Node #6 (Level 2) -->\n<g id=\"edge6\" class=\"edge\">\n<title>Node #2 (Level 1)&#45;&gt;Node #6 (Level 2)</title>\n<path fill=\"none\" stroke=\"black\" stroke-width=\"6.77\" d=\"M2340.51,-852.95C2398.91,-837.14 2460.19,-820.54 2518.89,-804.65\"/>\n<polygon fill=\"black\" stroke=\"black\" stroke-width=\"6.77\" points=\"2520.56,-810.33 2528.67,-802 2517.47,-798.9 2520.56,-810.33\"/>\n<text text-anchor=\"middle\" x=\"2497.5\" y=\"-823.8\" font-family=\"Times,serif\" font-size=\"14.00\">sigmoid &gt; 0.5</text>\n</g>\n<!-- Node #7 (Level 3) -->\n<g id=\"node8\" class=\"node\">\n<title>Node #7 (Level 3)</title>\n<polygon fill=\"#f9fff9\" stroke=\"black\" stroke-width=\"0.02\" points=\"193,-577.5 0,-577.5 0,-426.5 193,-426.5 193,-577.5\"/>\n<text text-anchor=\"start\" x=\"22\" y=\"-528.3\" font-family=\"monospace\" font-size=\"14.00\">Samples: &#160;&#160;&#160;&#160;&#160;69</text>\n<text text-anchor=\"middle\" x=\"96.5\" y=\"-513.3\" font-family=\"monospace\" font-size=\"14.00\">Score: &#160;&#160;&#160;&#160;&#160;&#160;&#160;0.03</text>\n<text text-anchor=\"start\" x=\"22\" y=\"-482.3\" font-family=\"monospace\" font-size=\"14.00\">0.0: 28</text>\n<text text-anchor=\"start\" x=\"22\" y=\"-467.3\" font-family=\"monospace\" font-size=\"14.00\">1.0: 41 ✓</text>\n<text text-anchor=\"middle\" x=\"96.5\" y=\"-452.3\" font-family=\"monospace\" font-size=\"14.00\"> </text>\n</g>\n<!-- Node #3 (Level 2)&#45;&gt;Node #7 (Level 3) -->\n<g id=\"edge7\" class=\"edge\">\n<title>Node #3 (Level 2)&#45;&gt;Node #7 (Level 3)</title>\n<path fill=\"none\" stroke=\"black\" stroke-width=\"4.06\" d=\"M319.16,-635.93C278.63,-621.15 238.45,-604.21 201.5,-585 200.12,-584.28 198.74,-583.55 197.36,-582.79\"/>\n<polygon fill=\"black\" stroke=\"black\" stroke-width=\"4.06\" points=\"198.74,-579.49 188.3,-577.59 195.2,-585.65 198.74,-579.49\"/>\n<text text-anchor=\"middle\" x=\"312.5\" y=\"-606.8\" font-family=\"Times,serif\" font-size=\"14.00\">sigmoid &lt;= 0.5</text>\n</g>\n<!-- Node #8 (Level 3) -->\n<g id=\"node9\" class=\"node\">\n<title>Node #8 (Level 3)</title>\n<polygon fill=\"#fefffe\" stroke=\"black\" stroke-width=\"0.02\" points=\"1064,-585 211,-585 211,-419 1064,-419 1064,-585\"/>\n<text text-anchor=\"start\" x=\"233\" y=\"-535.8\" font-family=\"monospace\" font-size=\"14.00\">Samples: &#160;&#160;&#160;&#160;&#160;50</text>\n<text text-anchor=\"start\" x=\"233\" y=\"-520.8\" font-family=\"monospace\" font-size=\"14.00\">Score: &#160;&#160;&#160;&#160;&#160;&#160;&#160;0.0</text>\n<text text-anchor=\"middle\" x=\"637.5\" y=\"-505.8\" font-family=\"monospace\" font-size=\"14.00\">Test: Logistic Regression using onehotencoder__job_admin. and onehotencoder__education_high.school</text>\n<text text-anchor=\"start\" x=\"233\" y=\"-474.8\" font-family=\"monospace\" font-size=\"14.00\">0.0: 27 ✓</text>\n<text text-anchor=\"start\" x=\"233\" y=\"-459.8\" font-family=\"monospace\" font-size=\"14.00\">1.0: 23</text>\n<text text-anchor=\"middle\" x=\"637.5\" y=\"-444.8\" font-family=\"monospace\" font-size=\"14.00\"> </text>\n</g>\n<!-- Node #3 (Level 2)&#45;&gt;Node #8 (Level 3) -->\n<g id=\"edge8\" class=\"edge\">\n<title>Node #3 (Level 2)&#45;&gt;Node #8 (Level 3)</title>\n<path fill=\"none\" stroke=\"black\" stroke-width=\"2.94\" d=\"M637.5,-635.8C637.5,-622.57 637.5,-608.81 637.5,-595.36\"/>\n<polygon fill=\"black\" stroke=\"black\" stroke-width=\"2.94\" points=\"641,-595.16 637.5,-585.16 634,-595.16 641,-595.16\"/>\n<text text-anchor=\"middle\" x=\"676.5\" y=\"-606.8\" font-family=\"Times,serif\" font-size=\"14.00\">sigmoid &gt; 0.5</text>\n</g>\n<!-- Node #9 (Level 3) -->\n<g id=\"node10\" class=\"node\">\n<title>Node #9 (Level 3)</title>\n<polygon fill=\"#ecffec\" stroke=\"black\" stroke-width=\"0.3\" points=\"1894.5,-585 1082.5,-585 1082.5,-419 1894.5,-419 1894.5,-585\"/>\n<text text-anchor=\"start\" x=\"1104.5\" y=\"-535.8\" font-family=\"monospace\" font-size=\"14.00\">Samples: &#160;&#160;&#160;&#160;&#160;878</text>\n<text text-anchor=\"start\" x=\"1104.5\" y=\"-520.8\" font-family=\"monospace\" font-size=\"14.00\">Score: &#160;&#160;&#160;&#160;&#160;&#160;&#160;0.07</text>\n<text text-anchor=\"middle\" x=\"1488.5\" y=\"-505.8\" font-family=\"monospace\" font-size=\"14.00\">Test: Logistic Regression using onehotencoder__job_admin. and onehotencoder__job_entrepreneur</text>\n<text text-anchor=\"start\" x=\"1104.5\" y=\"-474.8\" font-family=\"monospace\" font-size=\"14.00\">0.0: 299</text>\n<text text-anchor=\"start\" x=\"1104.5\" y=\"-459.8\" font-family=\"monospace\" font-size=\"14.00\">1.0: 579 ✓</text>\n<text text-anchor=\"middle\" x=\"1488.5\" y=\"-444.8\" font-family=\"monospace\" font-size=\"14.00\"> </text>\n</g>\n<!-- Node #5 (Level 2)&#45;&gt;Node #9 (Level 3) -->\n<g id=\"edge9\" class=\"edge\">\n<title>Node #5 (Level 2)&#45;&gt;Node #9 (Level 3)</title>\n<path fill=\"none\" stroke=\"black\" stroke-width=\"6.37\" d=\"M1827.99,-635.95C1788.59,-620.52 1747.31,-604.35 1707.63,-588.81\"/>\n<polygon fill=\"black\" stroke=\"black\" stroke-width=\"6.37\" points=\"1709.46,-583.55 1698.12,-585.09 1705.4,-593.93 1709.46,-583.55\"/>\n<text text-anchor=\"middle\" x=\"1822.5\" y=\"-606.8\" font-family=\"Times,serif\" font-size=\"14.00\">sigmoid &lt;= 0.5</text>\n</g>\n<!-- Node #10 (Level 3) -->\n<g id=\"node11\" class=\"node\">\n<title>Node #10 (Level 3)</title>\n<polygon fill=\"#ffffff\" stroke=\"black\" stroke-width=\"0.03\" points=\"2716.5,-585 1912.5,-585 1912.5,-419 2716.5,-419 2716.5,-585\"/>\n<text text-anchor=\"start\" x=\"1934.5\" y=\"-535.8\" font-family=\"monospace\" font-size=\"14.00\">Samples: &#160;&#160;&#160;&#160;&#160;87</text>\n<text text-anchor=\"start\" x=\"1934.5\" y=\"-520.8\" font-family=\"monospace\" font-size=\"14.00\">Score: &#160;&#160;&#160;&#160;&#160;&#160;&#160;0.0</text>\n<text text-anchor=\"middle\" x=\"2314.5\" y=\"-505.8\" font-family=\"monospace\" font-size=\"14.00\">Test: Logistic Regression using onehotencoder__job_admin. and onehotencoder__marital_married</text>\n<text text-anchor=\"start\" x=\"1934.5\" y=\"-474.8\" font-family=\"monospace\" font-size=\"14.00\">0.0: 46 ✓</text>\n<text text-anchor=\"start\" x=\"1934.5\" y=\"-459.8\" font-family=\"monospace\" font-size=\"14.00\">1.0: 41</text>\n<text text-anchor=\"middle\" x=\"2314.5\" y=\"-444.8\" font-family=\"monospace\" font-size=\"14.00\"> </text>\n</g>\n<!-- Node #5 (Level 2)&#45;&gt;Node #10 (Level 3) -->\n<g id=\"edge10\" class=\"edge\">\n<title>Node #5 (Level 2)&#45;&gt;Node #10 (Level 3)</title>\n<path fill=\"none\" stroke=\"black\" stroke-width=\"0.63\" d=\"M2143.41,-635.8C2162.12,-621.28 2181.67,-606.1 2200.59,-591.42\"/>\n<polygon fill=\"black\" stroke=\"black\" stroke-width=\"0.63\" points=\"2202.9,-594.05 2208.65,-585.16 2198.61,-588.52 2202.9,-594.05\"/>\n<text text-anchor=\"middle\" x=\"2223.5\" y=\"-606.8\" font-family=\"Times,serif\" font-size=\"14.00\">sigmoid &gt; 0.5</text>\n</g>\n<!-- Node #11 (Level 3) -->\n<g id=\"node12\" class=\"node\">\n<title>Node #11 (Level 3)</title>\n<polygon fill=\"#fafffa\" stroke=\"black\" stroke-width=\"0.26\" points=\"2928,-577.5 2735,-577.5 2735,-426.5 2928,-426.5 2928,-577.5\"/>\n<text text-anchor=\"start\" x=\"2757\" y=\"-528.3\" font-family=\"monospace\" font-size=\"14.00\">Samples: &#160;&#160;&#160;&#160;&#160;784</text>\n<text text-anchor=\"middle\" x=\"2831.5\" y=\"-513.3\" font-family=\"monospace\" font-size=\"14.00\">Score: &#160;&#160;&#160;&#160;&#160;&#160;&#160;0.02</text>\n<text text-anchor=\"start\" x=\"2757\" y=\"-482.3\" font-family=\"monospace\" font-size=\"14.00\">0.0: 322</text>\n<text text-anchor=\"start\" x=\"2757\" y=\"-467.3\" font-family=\"monospace\" font-size=\"14.00\">1.0: 462 ✓</text>\n<text text-anchor=\"middle\" x=\"2831.5\" y=\"-452.3\" font-family=\"monospace\" font-size=\"14.00\"> </text>\n</g>\n<!-- Node #6 (Level 2)&#45;&gt;Node #11 (Level 3) -->\n<g id=\"edge11\" class=\"edge\">\n<title>Node #6 (Level 2)&#45;&gt;Node #11 (Level 3)</title>\n<path fill=\"none\" stroke=\"black\" stroke-width=\"0.19\" d=\"M2831.5,-635.8C2831.5,-620.14 2831.5,-603.73 2831.5,-587.98\"/>\n<polygon fill=\"black\" stroke=\"black\" stroke-width=\"0.19\" points=\"2835,-587.75 2831.5,-577.75 2828,-587.75 2835,-587.75\"/>\n<text text-anchor=\"middle\" x=\"2874.5\" y=\"-606.8\" font-family=\"Times,serif\" font-size=\"14.00\">sigmoid &lt;= 0.5</text>\n</g>\n<!-- Node #12 (Level 3) -->\n<g id=\"node13\" class=\"node\">\n<title>Node #12 (Level 3)</title>\n<polygon fill=\"#65ff65\" stroke=\"black\" stroke-width=\"9.36\" points=\"3659,-585 2946,-585 2946,-419 3659,-419 3659,-585\"/>\n<text text-anchor=\"start\" x=\"2968\" y=\"-535.8\" font-family=\"monospace\" font-size=\"14.00\">Samples: &#160;&#160;&#160;&#160;&#160;27742</text>\n<text text-anchor=\"start\" x=\"2968\" y=\"-520.8\" font-family=\"monospace\" font-size=\"14.00\">Score: &#160;&#160;&#160;&#160;&#160;&#160;&#160;0.61</text>\n<text text-anchor=\"middle\" x=\"3302.5\" y=\"-505.8\" font-family=\"monospace\" font-size=\"14.00\">Test: Logistic Regression using onehotencoder__job_admin. and remainder__duration</text>\n<text text-anchor=\"start\" x=\"2968\" y=\"-474.8\" font-family=\"monospace\" font-size=\"14.00\">0.0: 25594 ✓</text>\n<text text-anchor=\"start\" x=\"2968\" y=\"-459.8\" font-family=\"monospace\" font-size=\"14.00\">1.0: 2148</text>\n<text text-anchor=\"middle\" x=\"3302.5\" y=\"-444.8\" font-family=\"monospace\" font-size=\"14.00\"> </text>\n</g>\n<!-- Node #6 (Level 2)&#45;&gt;Node #12 (Level 3) -->\n<g id=\"edge12\" class=\"edge\">\n<title>Node #6 (Level 2)&#45;&gt;Node #12 (Level 3)</title>\n<path fill=\"none\" stroke=\"black\" stroke-width=\"6.81\" d=\"M3011.24,-635.95C3044.61,-620.72 3079.57,-604.76 3113.21,-589.41\"/>\n<polygon fill=\"black\" stroke=\"black\" stroke-width=\"6.81\" points=\"3116.04,-594.66 3122.66,-585.09 3111.09,-583.82 3116.04,-594.66\"/>\n<text text-anchor=\"middle\" x=\"3120.5\" y=\"-606.8\" font-family=\"Times,serif\" font-size=\"14.00\">sigmoid &gt; 0.5</text>\n</g>\n<!-- Node #13 (Level 4) -->\n<g id=\"node14\" class=\"node\">\n<title>Node #13 (Level 4)</title>\n<polygon fill=\"#f2fff2\" stroke=\"black\" stroke-width=\"0\" points=\"597,-360.5 404,-360.5 404,-209.5 597,-209.5 597,-360.5\"/>\n<text text-anchor=\"start\" x=\"426\" y=\"-311.3\" font-family=\"monospace\" font-size=\"14.00\">Samples: &#160;&#160;&#160;&#160;&#160;11</text>\n<text text-anchor=\"middle\" x=\"500.5\" y=\"-296.3\" font-family=\"monospace\" font-size=\"14.00\">Score: &#160;&#160;&#160;&#160;&#160;&#160;&#160;0.05</text>\n<text text-anchor=\"start\" x=\"426\" y=\"-265.3\" font-family=\"monospace\" font-size=\"14.00\">0.0: 4</text>\n<text text-anchor=\"start\" x=\"426\" y=\"-250.3\" font-family=\"monospace\" font-size=\"14.00\">1.0: 7 ✓</text>\n<text text-anchor=\"middle\" x=\"500.5\" y=\"-235.3\" font-family=\"monospace\" font-size=\"14.00\"> </text>\n</g>\n<!-- Node #8 (Level 3)&#45;&gt;Node #13 (Level 4) -->\n<g id=\"edge13\" class=\"edge\">\n<title>Node #8 (Level 3)&#45;&gt;Node #13 (Level 4)</title>\n<path fill=\"none\" stroke=\"black\" stroke-width=\"1.54\" d=\"M585.12,-418.8C574.76,-402.54 563.89,-385.47 553.51,-369.19\"/>\n<polygon fill=\"black\" stroke=\"black\" stroke-width=\"1.54\" points=\"556.46,-367.31 548.13,-360.75 550.56,-371.07 556.46,-367.31\"/>\n<text text-anchor=\"middle\" x=\"616.5\" y=\"-389.8\" font-family=\"Times,serif\" font-size=\"14.00\">sigmoid &lt;= 0.5</text>\n</g>\n<!-- Node #14 (Level 4) -->\n<g id=\"node15\" class=\"node\">\n<title>Node #14 (Level 4)</title>\n<polygon fill=\"#fafffa\" stroke=\"black\" stroke-width=\"0.01\" points=\"808,-360.5 615,-360.5 615,-209.5 808,-209.5 808,-360.5\"/>\n<text text-anchor=\"start\" x=\"637\" y=\"-311.3\" font-family=\"monospace\" font-size=\"14.00\">Samples: &#160;&#160;&#160;&#160;&#160;39</text>\n<text text-anchor=\"middle\" x=\"711.5\" y=\"-296.3\" font-family=\"monospace\" font-size=\"14.00\">Score: &#160;&#160;&#160;&#160;&#160;&#160;&#160;0.02</text>\n<text text-anchor=\"start\" x=\"637\" y=\"-265.3\" font-family=\"monospace\" font-size=\"14.00\">0.0: 23 ✓</text>\n<text text-anchor=\"start\" x=\"637\" y=\"-250.3\" font-family=\"monospace\" font-size=\"14.00\">1.0: 16</text>\n<text text-anchor=\"middle\" x=\"711.5\" y=\"-235.3\" font-family=\"monospace\" font-size=\"14.00\"> </text>\n</g>\n<!-- Node #8 (Level 3)&#45;&gt;Node #14 (Level 4) -->\n<g id=\"edge14\" class=\"edge\">\n<title>Node #8 (Level 3)&#45;&gt;Node #14 (Level 4)</title>\n<path fill=\"none\" stroke=\"black\" stroke-width=\"5.46\" d=\"M665.79,-418.8C671.23,-402.99 676.94,-386.41 682.4,-370.54\"/>\n<polygon fill=\"black\" stroke=\"black\" stroke-width=\"5.46\" points=\"687.03,-371.76 685.77,-360.75 678,-368.65 687.03,-371.76\"/>\n<text text-anchor=\"middle\" x=\"716.5\" y=\"-389.8\" font-family=\"Times,serif\" font-size=\"14.00\">sigmoid &gt; 0.5</text>\n</g>\n<!-- Node #15 (Level 4) -->\n<g id=\"node16\" class=\"node\">\n<title>Node #15 (Level 4)</title>\n<polygon fill=\"#ebffeb\" stroke=\"black\" stroke-width=\"0.29\" points=\"1693.5,-368 955.5,-368 955.5,-202 1693.5,-202 1693.5,-368\"/>\n<text text-anchor=\"start\" x=\"977.5\" y=\"-318.8\" font-family=\"monospace\" font-size=\"14.00\">Samples: &#160;&#160;&#160;&#160;&#160;863</text>\n<text text-anchor=\"start\" x=\"977.5\" y=\"-303.8\" font-family=\"monospace\" font-size=\"14.00\">Score: &#160;&#160;&#160;&#160;&#160;&#160;&#160;0.08</text>\n<text text-anchor=\"middle\" x=\"1324.5\" y=\"-288.8\" font-family=\"monospace\" font-size=\"14.00\">Test: Logistic Regression using onehotencoder__job_admin. and remainder__nr_employed</text>\n<text text-anchor=\"start\" x=\"977.5\" y=\"-257.8\" font-family=\"monospace\" font-size=\"14.00\">0.0: 289</text>\n<text text-anchor=\"start\" x=\"977.5\" y=\"-242.8\" font-family=\"monospace\" font-size=\"14.00\">1.0: 574 ✓</text>\n<text text-anchor=\"middle\" x=\"1324.5\" y=\"-227.8\" font-family=\"monospace\" font-size=\"14.00\"> </text>\n</g>\n<!-- Node #9 (Level 3)&#45;&gt;Node #15 (Level 4) -->\n<g id=\"edge15\" class=\"edge\">\n<title>Node #9 (Level 3)&#45;&gt;Node #15 (Level 4)</title>\n<path fill=\"none\" stroke=\"black\" stroke-width=\"6.88\" d=\"M1425.8,-418.8C1415.21,-404.92 1404.18,-390.45 1393.45,-376.39\"/>\n<polygon fill=\"black\" stroke=\"black\" stroke-width=\"6.88\" points=\"1398.02,-372.46 1387.17,-368.16 1388.45,-379.76 1398.02,-372.46\"/>\n<text text-anchor=\"middle\" x=\"1454.5\" y=\"-389.8\" font-family=\"Times,serif\" font-size=\"14.00\">sigmoid &lt;= 0.5</text>\n</g>\n<!-- Node #16 (Level 4) -->\n<g id=\"node17\" class=\"node\">\n<title>Node #16 (Level 4)</title>\n<polygon fill=\"#ebffeb\" stroke=\"black\" stroke-width=\"0.01\" points=\"1905,-360.5 1712,-360.5 1712,-209.5 1905,-209.5 1905,-360.5\"/>\n<text text-anchor=\"start\" x=\"1734\" y=\"-311.3\" font-family=\"monospace\" font-size=\"14.00\">Samples: &#160;&#160;&#160;&#160;&#160;15</text>\n<text text-anchor=\"middle\" x=\"1808.5\" y=\"-296.3\" font-family=\"monospace\" font-size=\"14.00\">Score: &#160;&#160;&#160;&#160;&#160;&#160;&#160;0.08</text>\n<text text-anchor=\"start\" x=\"1734\" y=\"-265.3\" font-family=\"monospace\" font-size=\"14.00\">0.0: 10 ✓</text>\n<text text-anchor=\"start\" x=\"1734\" y=\"-250.3\" font-family=\"monospace\" font-size=\"14.00\">1.0: 5</text>\n<text text-anchor=\"middle\" x=\"1808.5\" y=\"-235.3\" font-family=\"monospace\" font-size=\"14.00\"> </text>\n</g>\n<!-- Node #9 (Level 3)&#45;&gt;Node #16 (Level 4) -->\n<g id=\"edge16\" class=\"edge\">\n<title>Node #9 (Level 3)&#45;&gt;Node #16 (Level 4)</title>\n<path fill=\"none\" stroke=\"black\" stroke-width=\"0.12\" d=\"M1625.13,-418.99C1651.13,-402.57 1677.89,-385.1 1702.5,-368 1703.14,-367.55 1703.79,-367.1 1704.44,-366.65\"/>\n<polygon fill=\"black\" stroke=\"black\" stroke-width=\"0.12\" points=\"1706.78,-369.28 1712.92,-360.64 1702.73,-363.57 1706.78,-369.28\"/>\n<text text-anchor=\"middle\" x=\"1713.5\" y=\"-389.8\" font-family=\"Times,serif\" font-size=\"14.00\">sigmoid &gt; 0.5</text>\n</g>\n<!-- Node #17 (Level 4) -->\n<g id=\"node18\" class=\"node\">\n<title>Node #17 (Level 4)</title>\n<polygon fill=\"#ffffff\" stroke=\"black\" stroke-width=\"0.01\" points=\"2255,-360.5 2070,-360.5 2070,-209.5 2255,-209.5 2255,-360.5\"/>\n<text text-anchor=\"start\" x=\"2092\" y=\"-311.3\" font-family=\"monospace\" font-size=\"14.00\">Samples: &#160;&#160;&#160;&#160;&#160;31</text>\n<text text-anchor=\"middle\" x=\"2162.5\" y=\"-296.3\" font-family=\"monospace\" font-size=\"14.00\">Score: &#160;&#160;&#160;&#160;&#160;&#160;&#160;0.0</text>\n<text text-anchor=\"start\" x=\"2092\" y=\"-265.3\" font-family=\"monospace\" font-size=\"14.00\">0.0: 15</text>\n<text text-anchor=\"start\" x=\"2092\" y=\"-250.3\" font-family=\"monospace\" font-size=\"14.00\">1.0: 16 ✓</text>\n<text text-anchor=\"middle\" x=\"2162.5\" y=\"-235.3\" font-family=\"monospace\" font-size=\"14.00\"> </text>\n</g>\n<!-- Node #10 (Level 3)&#45;&gt;Node #17 (Level 4) -->\n<g id=\"edge17\" class=\"edge\">\n<title>Node #10 (Level 3)&#45;&gt;Node #17 (Level 4)</title>\n<path fill=\"none\" stroke=\"black\" stroke-width=\"2.49\" d=\"M2256.38,-418.8C2244.89,-402.54 2232.83,-385.47 2221.31,-369.19\"/>\n<polygon fill=\"black\" stroke=\"black\" stroke-width=\"2.49\" points=\"2223.98,-366.9 2215.35,-360.75 2218.26,-370.94 2223.98,-366.9\"/>\n<text text-anchor=\"middle\" x=\"2286.5\" y=\"-389.8\" font-family=\"Times,serif\" font-size=\"14.00\">sigmoid &lt;= 0.5</text>\n</g>\n<!-- Node #18 (Level 4) -->\n<g id=\"node19\" class=\"node\">\n<title>Node #18 (Level 4)</title>\n<polygon fill=\"#fdfffd\" stroke=\"black\" stroke-width=\"0.02\" points=\"2466,-360.5 2273,-360.5 2273,-209.5 2466,-209.5 2466,-360.5\"/>\n<text text-anchor=\"start\" x=\"2295\" y=\"-311.3\" font-family=\"monospace\" font-size=\"14.00\">Samples: &#160;&#160;&#160;&#160;&#160;56</text>\n<text text-anchor=\"middle\" x=\"2369.5\" y=\"-296.3\" font-family=\"monospace\" font-size=\"14.00\">Score: &#160;&#160;&#160;&#160;&#160;&#160;&#160;0.01</text>\n<text text-anchor=\"start\" x=\"2295\" y=\"-265.3\" font-family=\"monospace\" font-size=\"14.00\">0.0: 31 ✓</text>\n<text text-anchor=\"start\" x=\"2295\" y=\"-250.3\" font-family=\"monospace\" font-size=\"14.00\">1.0: 25</text>\n<text text-anchor=\"middle\" x=\"2369.5\" y=\"-235.3\" font-family=\"monospace\" font-size=\"14.00\"> </text>\n</g>\n<!-- Node #10 (Level 3)&#45;&gt;Node #18 (Level 4) -->\n<g id=\"edge18\" class=\"edge\">\n<title>Node #10 (Level 3)&#45;&gt;Node #18 (Level 4)</title>\n<path fill=\"none\" stroke=\"black\" stroke-width=\"4.51\" d=\"M2335.53,-418.8C2339.57,-402.99 2343.81,-386.41 2347.87,-370.54\"/>\n<polygon fill=\"black\" stroke=\"black\" stroke-width=\"4.51\" points=\"2351.72,-371.42 2350.38,-360.75 2344.08,-369.46 2351.72,-371.42\"/>\n<text text-anchor=\"middle\" x=\"2383.5\" y=\"-389.8\" font-family=\"Times,serif\" font-size=\"14.00\">sigmoid &gt; 0.5</text>\n</g>\n<!-- Node #19 (Level 4) -->\n<g id=\"node20\" class=\"node\">\n<title>Node #19 (Level 4)</title>\n<polygon fill=\"#ffffff\" stroke=\"black\" stroke-width=\"0.14\" points=\"3469.5,-368 2665.5,-368 2665.5,-202 3469.5,-202 3469.5,-368\"/>\n<text text-anchor=\"start\" x=\"2687.5\" y=\"-318.8\" font-family=\"monospace\" font-size=\"14.00\">Samples: &#160;&#160;&#160;&#160;&#160;421</text>\n<text text-anchor=\"start\" x=\"2687.5\" y=\"-303.8\" font-family=\"monospace\" font-size=\"14.00\">Score: &#160;&#160;&#160;&#160;&#160;&#160;&#160;0.0</text>\n<text text-anchor=\"middle\" x=\"3067.5\" y=\"-288.8\" font-family=\"monospace\" font-size=\"14.00\">Test: Logistic Regression using onehotencoder__job_admin. and onehotencoder__job_blue&#45;collar</text>\n<text text-anchor=\"start\" x=\"2687.5\" y=\"-257.8\" font-family=\"monospace\" font-size=\"14.00\">0.0: 217 ✓</text>\n<text text-anchor=\"start\" x=\"2687.5\" y=\"-242.8\" font-family=\"monospace\" font-size=\"14.00\">1.0: 204</text>\n<text text-anchor=\"middle\" x=\"3067.5\" y=\"-227.8\" font-family=\"monospace\" font-size=\"14.00\"> </text>\n</g>\n<!-- Node #12 (Level 3)&#45;&gt;Node #19 (Level 4) -->\n<g id=\"edge19\" class=\"edge\">\n<title>Node #12 (Level 3)&#45;&gt;Node #19 (Level 4)</title>\n<path fill=\"none\" stroke=\"black\" stroke-width=\"0.11\" d=\"M3212.65,-418.8C3197.06,-404.53 3180.78,-389.64 3165,-375.2\"/>\n<polygon fill=\"black\" stroke=\"black\" stroke-width=\"0.11\" points=\"3167.04,-372.32 3157.3,-368.16 3162.32,-377.49 3167.04,-372.32\"/>\n<text text-anchor=\"middle\" x=\"3235.5\" y=\"-389.8\" font-family=\"Times,serif\" font-size=\"14.00\">sigmoid &lt;= 0.5</text>\n</g>\n<!-- Node #20 (Level 4) -->\n<g id=\"node21\" class=\"node\">\n<title>Node #20 (Level 4)</title>\n<polygon fill=\"#5fff5f\" stroke=\"black\" stroke-width=\"9.22\" points=\"4201,-368 3488,-368 3488,-202 4201,-202 4201,-368\"/>\n<text text-anchor=\"start\" x=\"3510\" y=\"-318.8\" font-family=\"monospace\" font-size=\"14.00\">Samples: &#160;&#160;&#160;&#160;&#160;27321</text>\n<text text-anchor=\"start\" x=\"3510\" y=\"-303.8\" font-family=\"monospace\" font-size=\"14.00\">Score: &#160;&#160;&#160;&#160;&#160;&#160;&#160;0.63</text>\n<text text-anchor=\"middle\" x=\"3844.5\" y=\"-288.8\" font-family=\"monospace\" font-size=\"14.00\">Test: Logistic Regression using onehotencoder__job_admin. and remainder__duration</text>\n<text text-anchor=\"start\" x=\"3510\" y=\"-257.8\" font-family=\"monospace\" font-size=\"14.00\">0.0: 25377 ✓</text>\n<text text-anchor=\"start\" x=\"3510\" y=\"-242.8\" font-family=\"monospace\" font-size=\"14.00\">1.0: 1944</text>\n<text text-anchor=\"middle\" x=\"3844.5\" y=\"-227.8\" font-family=\"monospace\" font-size=\"14.00\"> </text>\n</g>\n<!-- Node #12 (Level 3)&#45;&gt;Node #20 (Level 4) -->\n<g id=\"edge20\" class=\"edge\">\n<title>Node #12 (Level 3)&#45;&gt;Node #20 (Level 4)</title>\n<path fill=\"none\" stroke=\"black\" stroke-width=\"6.89\" d=\"M3509.34,-418.95C3548.23,-403.52 3588.99,-387.35 3628.17,-371.81\"/>\n<polygon fill=\"black\" stroke=\"black\" stroke-width=\"6.89\" points=\"3630.48,-377.38 3637.56,-368.09 3626.04,-366.17 3630.48,-377.38\"/>\n<text text-anchor=\"middle\" x=\"3629.5\" y=\"-389.8\" font-family=\"Times,serif\" font-size=\"14.00\">sigmoid &gt; 0.5</text>\n</g>\n<!-- Node #21 (Level 5) -->\n<g id=\"node22\" class=\"node\">\n<title>Node #21 (Level 5)</title>\n<polygon fill=\"#dbffdb\" stroke=\"black\" stroke-width=\"0.25\" points=\"1315,-151 1122,-151 1122,0 1315,0 1315,-151\"/>\n<text text-anchor=\"start\" x=\"1144\" y=\"-101.8\" font-family=\"monospace\" font-size=\"14.00\">Samples: &#160;&#160;&#160;&#160;&#160;727</text>\n<text text-anchor=\"middle\" x=\"1218.5\" y=\"-86.8\" font-family=\"monospace\" font-size=\"14.00\">Score: &#160;&#160;&#160;&#160;&#160;&#160;&#160;0.14</text>\n<text text-anchor=\"start\" x=\"1144\" y=\"-55.8\" font-family=\"monospace\" font-size=\"14.00\">0.0: 204</text>\n<text text-anchor=\"start\" x=\"1144\" y=\"-40.8\" font-family=\"monospace\" font-size=\"14.00\">1.0: 523 ✓</text>\n<text text-anchor=\"middle\" x=\"1218.5\" y=\"-25.8\" font-family=\"monospace\" font-size=\"14.00\"> </text>\n</g>\n<!-- Node #15 (Level 4)&#45;&gt;Node #21 (Level 5) -->\n<g id=\"edge21\" class=\"edge\">\n<title>Node #15 (Level 4)&#45;&gt;Node #21 (Level 5)</title>\n<path fill=\"none\" stroke=\"black\" stroke-width=\"5.9\" d=\"M1282.61,-201.99C1275.58,-188.24 1268.28,-173.95 1261.24,-160.16\"/>\n<polygon fill=\"black\" stroke=\"black\" stroke-width=\"5.9\" points=\"1265.79,-157.73 1256.65,-151.17 1256.6,-162.43 1265.79,-157.73\"/>\n<text text-anchor=\"middle\" x=\"1314.5\" y=\"-172.8\" font-family=\"Times,serif\" font-size=\"14.00\">sigmoid &lt;= 0.5</text>\n</g>\n<!-- Node #22 (Level 5) -->\n<g id=\"node23\" class=\"node\">\n<title>Node #22 (Level 5)</title>\n<polygon fill=\"#f4fff4\" stroke=\"black\" stroke-width=\"0.05\" points=\"1526,-151 1333,-151 1333,0 1526,0 1526,-151\"/>\n<text text-anchor=\"start\" x=\"1355\" y=\"-101.8\" font-family=\"monospace\" font-size=\"14.00\">Samples: &#160;&#160;&#160;&#160;&#160;136</text>\n<text text-anchor=\"middle\" x=\"1429.5\" y=\"-86.8\" font-family=\"monospace\" font-size=\"14.00\">Score: &#160;&#160;&#160;&#160;&#160;&#160;&#160;0.05</text>\n<text text-anchor=\"start\" x=\"1355\" y=\"-55.8\" font-family=\"monospace\" font-size=\"14.00\">0.0: 85 ✓</text>\n<text text-anchor=\"start\" x=\"1355\" y=\"-40.8\" font-family=\"monospace\" font-size=\"14.00\">1.0: 51</text>\n<text text-anchor=\"middle\" x=\"1429.5\" y=\"-25.8\" font-family=\"monospace\" font-size=\"14.00\"> </text>\n</g>\n<!-- Node #15 (Level 4)&#45;&gt;Node #22 (Level 5) -->\n<g id=\"edge22\" class=\"edge\">\n<title>Node #15 (Level 4)&#45;&gt;Node #22 (Level 5)</title>\n<path fill=\"none\" stroke=\"black\" stroke-width=\"1.1\" d=\"M1366,-201.99C1372.96,-188.24 1380.19,-173.95 1387.17,-160.16\"/>\n<polygon fill=\"black\" stroke=\"black\" stroke-width=\"1.1\" points=\"1390.32,-161.68 1391.71,-151.17 1384.08,-158.52 1390.32,-161.68\"/>\n<text text-anchor=\"middle\" x=\"1419.5\" y=\"-172.8\" font-family=\"Times,serif\" font-size=\"14.00\">sigmoid &gt; 0.5</text>\n</g>\n<!-- Node #23 (Level 5) -->\n<g id=\"node24\" class=\"node\">\n<title>Node #23 (Level 5)</title>\n<polygon fill=\"#ffffff\" stroke=\"black\" stroke-width=\"0.04\" points=\"3058,-151 2873,-151 2873,0 3058,0 3058,-151\"/>\n<text text-anchor=\"start\" x=\"2895\" y=\"-101.8\" font-family=\"monospace\" font-size=\"14.00\">Samples: &#160;&#160;&#160;&#160;&#160;114</text>\n<text text-anchor=\"middle\" x=\"2965.5\" y=\"-86.8\" font-family=\"monospace\" font-size=\"14.00\">Score: &#160;&#160;&#160;&#160;&#160;&#160;&#160;0.0</text>\n<text text-anchor=\"start\" x=\"2895\" y=\"-55.8\" font-family=\"monospace\" font-size=\"14.00\">0.0: 56</text>\n<text text-anchor=\"start\" x=\"2895\" y=\"-40.8\" font-family=\"monospace\" font-size=\"14.00\">1.0: 58 ✓</text>\n<text text-anchor=\"middle\" x=\"2965.5\" y=\"-25.8\" font-family=\"monospace\" font-size=\"14.00\"> </text>\n</g>\n<!-- Node #19 (Level 4)&#45;&gt;Node #23 (Level 5) -->\n<g id=\"edge23\" class=\"edge\">\n<title>Node #19 (Level 4)&#45;&gt;Node #23 (Level 5)</title>\n<path fill=\"none\" stroke=\"black\" stroke-width=\"1.9\" d=\"M3027.19,-201.99C3020.43,-188.24 3013.4,-173.95 3006.62,-160.16\"/>\n<polygon fill=\"black\" stroke=\"black\" stroke-width=\"1.9\" points=\"3009.76,-158.6 3002.21,-151.17 3003.48,-161.69 3009.76,-158.6\"/>\n<text text-anchor=\"middle\" x=\"3059.5\" y=\"-172.8\" font-family=\"Times,serif\" font-size=\"14.00\">sigmoid &lt;= 0.5</text>\n</g>\n<!-- Node #24 (Level 5) -->\n<g id=\"node25\" class=\"node\">\n<title>Node #24 (Level 5)</title>\n<polygon fill=\"#ffffff\" stroke=\"black\" stroke-width=\"0.1\" points=\"3261,-151 3076,-151 3076,0 3261,0 3261,-151\"/>\n<text text-anchor=\"start\" x=\"3098\" y=\"-101.8\" font-family=\"monospace\" font-size=\"14.00\">Samples: &#160;&#160;&#160;&#160;&#160;307</text>\n<text text-anchor=\"middle\" x=\"3168.5\" y=\"-86.8\" font-family=\"monospace\" font-size=\"14.00\">Score: &#160;&#160;&#160;&#160;&#160;&#160;&#160;0.0</text>\n<text text-anchor=\"start\" x=\"3098\" y=\"-55.8\" font-family=\"monospace\" font-size=\"14.00\">0.0: 161 ✓</text>\n<text text-anchor=\"start\" x=\"3098\" y=\"-40.8\" font-family=\"monospace\" font-size=\"14.00\">1.0: 146</text>\n<text text-anchor=\"middle\" x=\"3168.5\" y=\"-25.8\" font-family=\"monospace\" font-size=\"14.00\"> </text>\n</g>\n<!-- Node #19 (Level 4)&#45;&gt;Node #24 (Level 5) -->\n<g id=\"edge24\" class=\"edge\">\n<title>Node #19 (Level 4)&#45;&gt;Node #24 (Level 5)</title>\n<path fill=\"none\" stroke=\"black\" stroke-width=\"5.1\" d=\"M3107.42,-201.99C3114.05,-188.37 3120.93,-174.22 3127.59,-160.55\"/>\n<polygon fill=\"black\" stroke=\"black\" stroke-width=\"5.1\" points=\"3131.79,-162.12 3132.15,-151.17 3123.76,-158.21 3131.79,-162.12\"/>\n<text text-anchor=\"middle\" x=\"3160.5\" y=\"-172.8\" font-family=\"Times,serif\" font-size=\"14.00\">sigmoid &gt; 0.5</text>\n</g>\n<!-- Node #25 (Level 5) -->\n<g id=\"node26\" class=\"node\">\n<title>Node #25 (Level 5)</title>\n<polygon fill=\"#fdfffd\" stroke=\"black\" stroke-width=\"0.04\" points=\"3833,-151 3640,-151 3640,0 3833,0 3833,-151\"/>\n<text text-anchor=\"start\" x=\"3662\" y=\"-101.8\" font-family=\"monospace\" font-size=\"14.00\">Samples: &#160;&#160;&#160;&#160;&#160;105</text>\n<text text-anchor=\"middle\" x=\"3736.5\" y=\"-86.8\" font-family=\"monospace\" font-size=\"14.00\">Score: &#160;&#160;&#160;&#160;&#160;&#160;&#160;0.01</text>\n<text text-anchor=\"start\" x=\"3662\" y=\"-55.8\" font-family=\"monospace\" font-size=\"14.00\">0.0: 59 ✓</text>\n<text text-anchor=\"start\" x=\"3662\" y=\"-40.8\" font-family=\"monospace\" font-size=\"14.00\">1.0: 46</text>\n<text text-anchor=\"middle\" x=\"3736.5\" y=\"-25.8\" font-family=\"monospace\" font-size=\"14.00\"> </text>\n</g>\n<!-- Node #20 (Level 4)&#45;&gt;Node #25 (Level 5) -->\n<g id=\"edge25\" class=\"edge\">\n<title>Node #20 (Level 4)&#45;&gt;Node #25 (Level 5)</title>\n<path fill=\"none\" stroke=\"black\" stroke-width=\"0.03\" d=\"M3801.82,-201.99C3794.66,-188.24 3787.22,-173.95 3780.04,-160.16\"/>\n<polygon fill=\"black\" stroke=\"black\" stroke-width=\"0.03\" points=\"3783.09,-158.43 3775.37,-151.17 3776.88,-161.66 3783.09,-158.43\"/>\n<text text-anchor=\"middle\" x=\"3833.5\" y=\"-172.8\" font-family=\"Times,serif\" font-size=\"14.00\">sigmoid &lt;= 0.5</text>\n</g>\n<!-- Node #26 (Level 5) -->\n<g id=\"node27\" class=\"node\">\n<title>Node #26 (Level 5)</title>\n<polygon fill=\"#5eff5e\" stroke=\"black\" stroke-width=\"9.19\" points=\"4052,-151 3851,-151 3851,0 4052,0 4052,-151\"/>\n<text text-anchor=\"start\" x=\"3873\" y=\"-101.8\" font-family=\"monospace\" font-size=\"14.00\">Samples: &#160;&#160;&#160;&#160;&#160;27216</text>\n<text text-anchor=\"middle\" x=\"3951.5\" y=\"-86.8\" font-family=\"monospace\" font-size=\"14.00\">Score: &#160;&#160;&#160;&#160;&#160;&#160;&#160;0.64</text>\n<text text-anchor=\"start\" x=\"3873\" y=\"-55.8\" font-family=\"monospace\" font-size=\"14.00\">0.0: 25318 ✓</text>\n<text text-anchor=\"start\" x=\"3873\" y=\"-40.8\" font-family=\"monospace\" font-size=\"14.00\">1.0: 1898</text>\n<text text-anchor=\"middle\" x=\"3951.5\" y=\"-25.8\" font-family=\"monospace\" font-size=\"14.00\"> </text>\n</g>\n<!-- Node #20 (Level 4)&#45;&gt;Node #26 (Level 5) -->\n<g id=\"edge26\" class=\"edge\">\n<title>Node #20 (Level 4)&#45;&gt;Node #26 (Level 5)</title>\n<path fill=\"none\" stroke=\"black\" stroke-width=\"6.97\" d=\"M3886.79,-201.99C3893.88,-188.24 3901.25,-173.95 3908.36,-160.16\"/>\n<polygon fill=\"black\" stroke=\"black\" stroke-width=\"6.97\" points=\"3913.83,-162.86 3912.99,-151.17 3902.99,-157.27 3913.83,-162.86\"/>\n<text text-anchor=\"middle\" x=\"3939.5\" y=\"-172.8\" font-family=\"Times,serif\" font-size=\"14.00\">sigmoid &gt; 0.5</text>\n</g>\n</g>\n</svg>\n",
      "text/plain": [
       "<graphviz.dot.Digraph at 0x7fb9ab4c5430>"
      ]
     },
     "execution_count": 402,
     "metadata": {},
     "output_type": "execute_result"
    }
   ],
   "source": [
    "treeData3OHT.generate_dot_graph()"
   ]
  },
  {
   "cell_type": "code",
   "execution_count": 403,
   "metadata": {},
   "outputs": [
    {
     "name": "stdout",
     "output_type": "stream",
     "text": [
      "Accuracy =  0.9015795868772782\n",
      "Macro Precision =  0.7755301635230345\n",
      "Micro Precision =  0.9015795868772782\n",
      "Weighted Precision =  0.8851817936232143\n",
      "Macro Recall =  0.6436014276355331\n",
      "Micro Recall =  0.9015795868772782\n",
      "Weighted Recall =  0.9015795868772782\n",
      "Macro F1 =  0.6813422373758695\n",
      "Micro F1 =  0.9015795868772782\n",
      "Weighted F1 =  0.8862576081630614\n",
      "\n",
      "Classification Report\n",
      "               precision    recall  f1-score   support\n",
      "\n",
      "         0.0       0.92      0.98      0.95      7298\n",
      "         1.0       0.63      0.31      0.42       932\n",
      "\n",
      "    accuracy                           0.90      8230\n",
      "   macro avg       0.78      0.64      0.68      8230\n",
      "weighted avg       0.89      0.90      0.89      8230\n",
      "\n"
     ]
    }
   ],
   "source": [
    "preds = treeData3OHT.predict(X_test.values)\n",
    "preds = [float(i) for i in preds]\n",
    "runMetrics(y_test.values, preds)"
   ]
  },
  {
   "cell_type": "code",
   "execution_count": 404,
   "metadata": {},
   "outputs": [
    {
     "data": {
      "image/png": "[encoded data removed]",
      "text/plain": [
       "<Figure size 640x480 with 1 Axes>"
      ]
     },
     "metadata": {},
     "output_type": "display_data"
    },
    {
     "name": "stdout",
     "output_type": "stream",
     "text": [
      "AUC =  0.6805286179881137\n"
     ]
    }
   ],
   "source": [
    "getAucRocMetrics(y_test.values, treeData3OHT.predict_proba(X_test.values)[:, 1], 1)"
   ]
  },
  {
   "cell_type": "code",
   "execution_count": null,
   "metadata": {},
   "outputs": [],
   "source": []
  }
 ],
 "metadata": {
  "kernelspec": {
   "display_name": "Python 3.9.1 64-bit",
   "language": "python",
   "name": "python3"
  },
  "language_info": {
   "codemirror_mode": {
    "name": "ipython",
    "version": 3
   },
   "file_extension": ".py",
   "mimetype": "text/x-python",
   "name": "python",
   "nbconvert_exporter": "python",
   "pygments_lexer": "ipython3",
   "version": "3.9.1"
  },
  "orig_nbformat": 4,
  "vscode": {
   "interpreter": {
    "hash": "aee8b7b246df8f9039afb4144a1f6fd8d2ca17a180786b69acc140d282b71a49"
   }
  }
 },
 "nbformat": 4,
 "nbformat_minor": 2
}
