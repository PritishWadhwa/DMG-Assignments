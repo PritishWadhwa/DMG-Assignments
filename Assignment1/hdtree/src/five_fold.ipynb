{
 "cells": [
  {
   "cell_type": "code",
   "execution_count": 84,
   "metadata": {},
   "outputs": [],
   "source": [
    "from sklearn.model_selection import StratifiedKFold\n",
    "from sklearn.metrics import precision_score, recall_score, f1_score, accuracy_score\n",
    "import pandas as pd\n",
    "import numpy as np\n",
    "from matplotlib import pyplot as plt\n",
    "# import hdtree\n",
    "from hdtree import HDTreeClassifier\n",
    "from information_measure import EntropyMeasure\n",
    "# import information_measure\n",
    "# import split_rule\n",
    "from split_rule import LessThanHalfOfSplit, SingleCategorySplit, FixedValueSplit, TwentyQuantileSplit, LogisticRegressionSingleSplit, AbstractQuantileSplit, TwentyQuantileRangeSplit, TwoQuantileRangeSplit, LogisticRegressionDoubleCategorySplit\n",
    "from sklearn.model_selection import train_test_split\n",
    "from sklearn.metrics import classification_report, accuracy_score, recall_score, precision_score, f1_score, roc_curve, roc_auc_score, plot_roc_curve, auc\n",
    "import pickle\n",
    "from joblib import dump, load\n",
    "import json"
   ]
  },
  {
   "cell_type": "code",
   "execution_count": 85,
   "metadata": {},
   "outputs": [],
   "source": [
    "# code to implement 5 fold cross validation and report p, r, f1 and accuracy\n",
    "def five_fold(X, y, clf, folds=5):\n",
    "    # X is the feature matrix\n",
    "    # y is the label vector\n",
    "    # clf is the classifier\n",
    "    # folds is the number of folds\n",
    "    # returns the average p, r, f1 and accuracy\n",
    "    # create the folds\n",
    "    skf = StratifiedKFold(n_splits=folds)\n",
    "    # initialize the scores\n",
    "    p, r, f1, acc = 0, 0, 0, 0\n",
    "    # loop through the folds\n",
    "    for train_index, test_index in skf.split(X, y):\n",
    "        # split the data into train and test\n",
    "        X_train, X_test = X[train_index], X[test_index]\n",
    "        y_train, y_test = y[train_index], y[test_index]\n",
    "        # fit the model\n",
    "        clf.fit(X_train, y_train)\n",
    "        # predict the labels\n",
    "        y_pred = clf.predict(X_test)\n",
    "        y_pred = [float(i) for i in y_pred]\n",
    "        # calculate the scores\n",
    "        p += precision_score(y_test, y_pred, average='macro')\n",
    "        r += recall_score(y_test, y_pred, average='macro')\n",
    "        f1 += f1_score(y_test, y_pred, average='macro')\n",
    "        acc += accuracy_score(y_test, y_pred)\n",
    "    # return the average scores\n",
    "    print('Precision: ', p/folds)\n",
    "    print('Recall: ', r/folds)\n",
    "    print('F1: ', f1/folds)\n",
    "    print('Accuracy: ', acc/folds)"
   ]
  },
  {
   "cell_type": "markdown",
   "metadata": {},
   "source": [
    "# Dataset 1\n",
    "## Median Dataset"
   ]
  },
  {
   "cell_type": "code",
   "execution_count": 86,
   "metadata": {},
   "outputs": [],
   "source": [
    "train_data = pd.read_csv('../../data/train1median.csv')\n",
    "test_data = pd.read_csv('../../data/test1median.csv')"
   ]
  },
  {
   "cell_type": "code",
   "execution_count": 87,
   "metadata": {},
   "outputs": [],
   "source": [
    "train_data.drop(['Unnamed: 0'], axis=1, inplace=True)\n",
    "test_data.drop(['Unnamed: 0'], axis=1, inplace=True)"
   ]
  },
  {
   "cell_type": "code",
   "execution_count": 88,
   "metadata": {},
   "outputs": [],
   "source": [
    "totalData = pd.concat([train_data, test_data], axis=0)"
   ]
  },
  {
   "cell_type": "code",
   "execution_count": 89,
   "metadata": {},
   "outputs": [],
   "source": [
    "X, y = totalData.iloc[:, :], totalData.iloc[:, -1]"
   ]
  },
  {
   "cell_type": "code",
   "execution_count": 90,
   "metadata": {},
   "outputs": [],
   "source": [
    "col_names = [*train_data.columns[:]]"
   ]
  },
  {
   "cell_type": "markdown",
   "metadata": {},
   "source": [
    "### Single Attribute"
   ]
  },
  {
   "cell_type": "code",
   "execution_count": 91,
   "metadata": {},
   "outputs": [],
   "source": [
    "treeData1Median = HDTreeClassifier(\n",
    "                    allowed_splits=[LogisticRegressionSingleSplit.build(), TwoQuantileRangeSplit.build()], \n",
    "                    information_measure=EntropyMeasure(), \n",
    "                    attribute_names=col_names, \n",
    "                    max_levels=5,\n",
    "                    min_samples_at_leaf=10)"
   ]
  },
  {
   "cell_type": "code",
   "execution_count": 93,
   "metadata": {},
   "outputs": [
    {
     "name": "stdout",
     "output_type": "stream",
     "text": [
      "Precision:  0.8402636497628009\n",
      "Recall:  0.9215745544777804\n",
      "F1:  0.8726566032081594\n",
      "Accuracy:  0.9639780679604646\n"
     ]
    }
   ],
   "source": [
    "five_fold(X.values, y.values, treeData1Median)"
   ]
  },
  {
   "cell_type": "markdown",
   "metadata": {},
   "source": [
    "### Multiple Attributes"
   ]
  },
  {
   "cell_type": "code",
   "execution_count": 94,
   "metadata": {},
   "outputs": [],
   "source": [
    "treeData1Median = HDTreeClassifier(\n",
    "                    allowed_splits=[LogisticRegressionDoubleCategorySplit.build()], \n",
    "                    information_measure=EntropyMeasure(), \n",
    "                    attribute_names=col_names, \n",
    "                    max_levels=5,\n",
    "                    min_samples_at_leaf=10)"
   ]
  },
  {
   "cell_type": "code",
   "execution_count": 96,
   "metadata": {},
   "outputs": [
    {
     "name": "stdout",
     "output_type": "stream",
     "text": [
      "Precision:  0.8526173666502894\n",
      "Recall:  0.7371005338747274\n",
      "F1:  0.7661645534468129\n",
      "Accuracy:  0.9507611283457182\n"
     ]
    }
   ],
   "source": [
    "five_fold(X.values, y.values, treeData1Median)"
   ]
  },
  {
   "cell_type": "markdown",
   "metadata": {},
   "source": [
    "# Dataset 2"
   ]
  },
  {
   "cell_type": "code",
   "execution_count": 54,
   "metadata": {},
   "outputs": [],
   "source": [
    "# code to implement 5 fold cross validation and report p, r, f1 and accuracy\n",
    "def five_fold_dataset2(X, y, clf, folds=5):\n",
    "    # X is the feature matrix\n",
    "    # y is the label vector\n",
    "    # clf is the classifier\n",
    "    # folds is the number of folds\n",
    "    # returns the average p, r, f1 and accuracy\n",
    "    # create the folds\n",
    "    skf = StratifiedKFold(n_splits=folds, random_state=42)\n",
    "    # initialize the scores\n",
    "    probabs = []\n",
    "    actuals = []\n",
    "    # loop through the folds\n",
    "    for train_index, test_index in skf.split(X, y):\n",
    "        # split the data into train and test\n",
    "        X_train, X_test = X[train_index], X[test_index]\n",
    "        y_train, y_test = y[train_index], y[test_index]\n",
    "        # fit the model\n",
    "        clf.fit(X_train, y_train)\n",
    "        # predict the labels\n",
    "        probabs.append(clf.predict_proba(X_test))\n",
    "        # probs = clf.predict_proba(X_test)\n",
    "        # y_pred = clf.predict(X_test)\n",
    "        # y_pred = [float(i) for i in y_pred]\n",
    "        # calculate the scores\n",
    "        # p += precision_score(y_test, y_pred, average='macro')\n",
    "        # r += recall_score(y_test, y_pred, average='macro')\n",
    "        # f1 += f1_score(y_test, y_pred, average='macro')\n",
    "        # acc += accuracy_score(y_test, y_pred)\n",
    "    # return the average scores\n",
    "    # print('Precision: ', p/folds)\n",
    "    # print('Recall: ', r/folds)\n",
    "    # print('F1: ', f1/folds)\n",
    "    # print('Accuracy: ', acc/folds)\n",
    "    return probabs"
   ]
  },
  {
   "cell_type": "code",
   "execution_count": null,
   "metadata": {},
   "outputs": [],
   "source": [
    "def performFiveFold(probabs1, probabs2, probabs3, y_true)"
   ]
  },
  {
   "cell_type": "code",
   "execution_count": null,
   "metadata": {},
   "outputs": [],
   "source": []
  },
  {
   "cell_type": "markdown",
   "metadata": {},
   "source": [
    "# Dataset 3\n",
    "## One Hot Dataset"
   ]
  },
  {
   "cell_type": "code",
   "execution_count": 97,
   "metadata": {},
   "outputs": [],
   "source": [
    "train_data = pd.read_csv('../../data/train3onehot.csv')\n",
    "test_data = pd.read_csv('../../data/test3onehot.csv')"
   ]
  },
  {
   "cell_type": "code",
   "execution_count": 98,
   "metadata": {},
   "outputs": [],
   "source": [
    "train_data.drop(['Unnamed: 0'], axis=1, inplace=True)\n",
    "test_data.drop(['Unnamed: 0'], axis=1, inplace=True)"
   ]
  },
  {
   "cell_type": "code",
   "execution_count": 99,
   "metadata": {},
   "outputs": [],
   "source": [
    "totalData = pd.concat([train_data, test_data], axis=0)"
   ]
  },
  {
   "cell_type": "code",
   "execution_count": 100,
   "metadata": {},
   "outputs": [],
   "source": [
    "X, y = totalData.iloc[:, :], totalData.iloc[:, -1]"
   ]
  },
  {
   "cell_type": "code",
   "execution_count": 101,
   "metadata": {},
   "outputs": [],
   "source": [
    "col_names = [*train_data.columns[:]]"
   ]
  },
  {
   "cell_type": "markdown",
   "metadata": {},
   "source": [
    "### Single Attribute"
   ]
  },
  {
   "cell_type": "code",
   "execution_count": 102,
   "metadata": {},
   "outputs": [],
   "source": [
    "treeData3OHT = HDTreeClassifier(\n",
    "                    allowed_splits=[LogisticRegressionSingleSplit.build(), TwoQuantileRangeSplit.build()], \n",
    "                    information_measure=EntropyMeasure(), \n",
    "                    attribute_names=col_names, \n",
    "                    max_levels=5,\n",
    "                    min_samples_at_leaf=10)"
   ]
  },
  {
   "cell_type": "code",
   "execution_count": 104,
   "metadata": {},
   "outputs": [
    {
     "name": "stdout",
     "output_type": "stream",
     "text": [
      "Precision:  0.7780456056956732\n",
      "Recall:  0.668827072385594\n",
      "F1:  0.7049257170217207\n",
      "Accuracy:  0.9047827505102646\n"
     ]
    }
   ],
   "source": [
    "five_fold(X.values, y.values, treeData3OHT)"
   ]
  },
  {
   "cell_type": "markdown",
   "metadata": {},
   "source": [
    "### Multiple Attributes"
   ]
  },
  {
   "cell_type": "code",
   "execution_count": 105,
   "metadata": {},
   "outputs": [],
   "source": [
    "treeData3OHT = HDTreeClassifier(\n",
    "                    allowed_splits=[LogisticRegressionDoubleCategorySplit.build()], \n",
    "                    information_measure=EntropyMeasure(), \n",
    "                    attribute_names=col_names, \n",
    "                    max_levels=5,\n",
    "                    min_samples_at_leaf=10)"
   ]
  },
  {
   "cell_type": "code",
   "execution_count": 106,
   "metadata": {},
   "outputs": [
    {
     "name": "stdout",
     "output_type": "stream",
     "text": [
      "Precision:  0.763879372953405\n",
      "Recall:  0.6569969445431458\n",
      "F1:  0.6913703612080084\n",
      "Accuracy:  0.901064507217237\n"
     ]
    }
   ],
   "source": [
    "five_fold(X.values, y.values, treeData3OHT)"
   ]
  }
 ],
 "metadata": {
  "kernelspec": {
   "display_name": "Python 3.9.1 64-bit",
   "language": "python",
   "name": "python3"
  },
  "language_info": {
   "codemirror_mode": {
    "name": "ipython",
    "version": 3
   },
   "file_extension": ".py",
   "mimetype": "text/x-python",
   "name": "python",
   "nbconvert_exporter": "python",
   "pygments_lexer": "ipython3",
   "version": "3.9.1"
  },
  "orig_nbformat": 4,
  "vscode": {
   "interpreter": {
    "hash": "aee8b7b246df8f9039afb4144a1f6fd8d2ca17a180786b69acc140d282b71a49"
   }
  }
 },
 "nbformat": 4,
 "nbformat_minor": 2
}
