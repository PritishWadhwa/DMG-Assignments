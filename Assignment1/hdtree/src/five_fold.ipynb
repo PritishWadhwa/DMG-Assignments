{
 "cells": [
  {
   "cell_type": "code",
   "execution_count": 274,
   "metadata": {},
   "outputs": [],
   "source": [
    "from sklearn.model_selection import StratifiedKFold\n",
    "from sklearn.metrics import precision_score, recall_score, f1_score, accuracy_score\n",
    "import pandas as pd\n",
    "import numpy as np\n",
    "from matplotlib import pyplot as plt\n",
    "# import hdtree\n",
    "from hdtree import HDTreeClassifier\n",
    "from information_measure import EntropyMeasure\n",
    "# import information_measure\n",
    "# import split_rule\n",
    "from split_rule import LessThanHalfOfSplit, SingleCategorySplit, FixedValueSplit, TwentyQuantileSplit, LogisticRegressionSingleSplit, AbstractQuantileSplit, TwentyQuantileRangeSplit, TwoQuantileRangeSplit, LogisticRegressionDoubleCategorySplit\n",
    "from sklearn.model_selection import train_test_split\n",
    "from sklearn.metrics import classification_report, accuracy_score, recall_score, precision_score, f1_score, roc_curve, roc_auc_score, plot_roc_curve, auc\n",
    "import pickle\n",
    "from joblib import dump, load\n",
    "import json"
   ]
  },
  {
   "cell_type": "code",
   "execution_count": 275,
   "metadata": {},
   "outputs": [],
   "source": [
    "# code to implement 5 fold cross validation and report p, r, f1 and accuracy\n",
    "def five_fold(X, y, clf, folds=5):\n",
    "    # X is the feature matrix\n",
    "    # y is the label vector\n",
    "    # clf is the classifier\n",
    "    # folds is the number of folds\n",
    "    # returns the average p, r, f1 and accuracy\n",
    "    # create the folds\n",
    "    skf = StratifiedKFold(n_splits=folds)\n",
    "    # initialize the scores\n",
    "    p, r, f1, acc = 0, 0, 0, 0\n",
    "    # loop through the folds\n",
    "    for train_index, test_index in skf.split(X, y):\n",
    "        # split the data into train and test\n",
    "        X_train, X_test = X[train_index], X[test_index]\n",
    "        y_train, y_test = y[train_index], y[test_index]\n",
    "        # fit the model\n",
    "        clf.fit(X_train, y_train)\n",
    "        # predict the labels\n",
    "        y_pred = clf.predict(X_test)\n",
    "        y_pred = [float(i) for i in y_pred]\n",
    "        # calculate the scores\n",
    "        p += precision_score(y_test, y_pred, average='macro')\n",
    "        r += recall_score(y_test, y_pred, average='macro')\n",
    "        f1 += f1_score(y_test, y_pred, average='macro')\n",
    "        acc += accuracy_score(y_test, y_pred)\n",
    "    # return the average scores\n",
    "    print('Precision: ', p/folds)\n",
    "    print('Recall: ', r/folds)\n",
    "    print('F1: ', f1/folds)\n",
    "    print('Accuracy: ', acc/folds)\n",
    "    return acc/folds"
   ]
  },
  {
   "cell_type": "code",
   "execution_count": 276,
   "metadata": {},
   "outputs": [],
   "source": [
    "# code for t test to evaluate two models\n",
    "def t_test(model1, model2):\n",
    "    # Null hypothesis: model1 and model2 are the same\n",
    "    # model1 and model2 are lists of accuracies\n",
    "    # returns the t statistic and p value\n",
    "    # for the t test\n",
    "    import numpy as np\n",
    "    from scipy import stats\n",
    "    t, p = stats.ttest_ind([model1], [model2])\n",
    "    print(\"NULL HYPOTHESIS: model1 and model2 are the same\")\n",
    "    if p < 0.05:\n",
    "        print('Reject null hypothesis')\n",
    "        if(np.mean([model1]) > np.mean([model2])):\n",
    "            print('single attribute split model is better than double attribute split model')\n",
    "        else:\n",
    "            print('double attribute split model is better than single attribute split model')\n",
    "    else:\n",
    "        print('Fail to reject null hypothesis')"
   ]
  },
  {
   "cell_type": "code",
   "execution_count": 277,
   "metadata": {},
   "outputs": [],
   "source": [
    "# code for wilcoxon signed rank test to evaluate two models\n",
    "def wilcoxon_test(model1, model2):\n",
    "    # Null hypothesis: model1 and model2 are the same\n",
    "    # model1 and model2 are lists of accuracies\n",
    "    # returns the t statistic and p value\n",
    "    # for the wilcoxon signed rank test\n",
    "    from scipy.stats import wilcoxon\n",
    "    t, p = wilcoxon([model1], [model2])\n",
    "    print(\"NULL HYPOTHESIS: model1 and model2 are the same\")\n",
    "    if p < 0.05:\n",
    "        print('Reject null hypothesis')\n",
    "        if(np.mean([model1]) > np.mean([model2])):\n",
    "            print('single attribute split model is better than double attribute split model')\n",
    "        else:\n",
    "            print('double attribute split model is better than single attribute split model')\n",
    "    else:\n",
    "        print('Fail to reject null hypothesis')"
   ]
  },
  {
   "cell_type": "code",
   "execution_count": 278,
   "metadata": {},
   "outputs": [],
   "source": [
    "# code for mann whitney u test to evaluate two models\n",
    "def mannwhitneyu_test(model1, model2):\n",
    "    # Null hypothesis: model1 and model2 are the same\n",
    "    # model1 and model2 are lists of accuracies\n",
    "    # returns the t statistic and p value\n",
    "    # for the mann whitney u test\n",
    "    from scipy.stats import mannwhitneyu\n",
    "    t, p = mannwhitneyu([model1], [model2])\n",
    "    print(\"NULL HYPOTHESIS: model1 and model2 are the same\")\n",
    "    if p < 0.05:\n",
    "        print('Reject null hypothesis')\n",
    "        if(np.mean([model1]) > np.mean([model2])):\n",
    "            print('single attribute split model is better than double attribute split model')\n",
    "        else:\n",
    "            print('double attribute split model is better than single attribute split model')\n",
    "    else:\n",
    "        print('Fail to reject null hypothesis')"
   ]
  },
  {
   "cell_type": "code",
   "execution_count": 279,
   "metadata": {},
   "outputs": [],
   "source": [
    "# code for kruskal wallis test to evaluate two models\n",
    "def kruskalwallis_test(model1, model2):\n",
    "    # Null hypothesis: model1 and model2 are the same\n",
    "    # model1 and model2 are lists of accuracies\n",
    "    # returns the t statistic and p value\n",
    "    # for the kruskal wallis test\n",
    "    from scipy.stats import kruskal\n",
    "    t, p = kruskal([model1], [model2])\n",
    "    print(\"NULL HYPOTHESIS: model1 and model2 are the same\")\n",
    "    if p < 0.05:\n",
    "        print('Reject null hypothesis')\n",
    "        if(np.mean([model1]) > np.mean([model2])):\n",
    "            print('single attribute split model is better than double attribute split model')\n",
    "        else:\n",
    "            print('double attribute split model is better than single attribute split model')\n",
    "    else:\n",
    "        print('Fail to reject null hypothesis')"
   ]
  },
  {
   "cell_type": "code",
   "execution_count": 280,
   "metadata": {},
   "outputs": [],
   "source": [
    "# code for chi squared test to evaluate two models\n",
    "def chi_squared_test(model1, model2):\n",
    "    # Null hypothesis: model1 and model2 are the same\n",
    "    # model1 and model2 are lists of accuracies\n",
    "    # returns the t statistic and p value\n",
    "    # for the chi squared test\n",
    "    from scipy.stats import chisquare\n",
    "    t, p = chisquare([model1, model2])\n",
    "    print(\"NULL HYPOTHESIS: model1 and model2 are the same\")\n",
    "    if p < 0.05:\n",
    "        print('Reject null hypothesis')\n",
    "        if(np.mean([model1]) > np.mean([model2])):\n",
    "            print('single attribute split model is better than double attribute split model')\n",
    "        else:\n",
    "            print('double attribute split model is better than single attribute split model')\n",
    "    else:\n",
    "        print('Fail to reject null hypothesis')"
   ]
  },
  {
   "cell_type": "code",
   "execution_count": 281,
   "metadata": {},
   "outputs": [],
   "source": [
    "def checkStatisticalTests(model1, model2):\n",
    "    print('t test results: ')\n",
    "    t_test(model1, model2)\n",
    "    print('\\nwilcoxon test results: ')\n",
    "    wilcoxon_test(model1, model2)\n",
    "    print('\\nmann whitney u test results: ')\n",
    "    mannwhitneyu_test(model1, model2)\n",
    "    print('\\nkruskal wallis test results: ')\n",
    "    kruskalwallis_test(model1, model2)\n",
    "    print('\\nchi squared test results: ')\n",
    "    chi_squared_test(model1, model2)"
   ]
  },
  {
   "cell_type": "markdown",
   "metadata": {},
   "source": [
    "# Dataset 1\n",
    "## Median Dataset"
   ]
  },
  {
   "cell_type": "code",
   "execution_count": 282,
   "metadata": {},
   "outputs": [],
   "source": [
    "train_data = pd.read_csv('../../data/train1median.csv')\n",
    "test_data = pd.read_csv('../../data/test1median.csv')"
   ]
  },
  {
   "cell_type": "code",
   "execution_count": 283,
   "metadata": {},
   "outputs": [],
   "source": [
    "train_data.drop(['Unnamed: 0'], axis=1, inplace=True)\n",
    "test_data.drop(['Unnamed: 0'], axis=1, inplace=True)"
   ]
  },
  {
   "cell_type": "code",
   "execution_count": 284,
   "metadata": {},
   "outputs": [],
   "source": [
    "totalData = pd.concat([train_data, test_data], axis=0)"
   ]
  },
  {
   "cell_type": "code",
   "execution_count": 285,
   "metadata": {},
   "outputs": [],
   "source": [
    "X, y = totalData.iloc[:, :], totalData.iloc[:, -1]"
   ]
  },
  {
   "cell_type": "code",
   "execution_count": 286,
   "metadata": {},
   "outputs": [],
   "source": [
    "col_names = [*train_data.columns[:]]"
   ]
  },
  {
   "cell_type": "markdown",
   "metadata": {},
   "source": [
    "### Single Attribute"
   ]
  },
  {
   "cell_type": "code",
   "execution_count": 287,
   "metadata": {},
   "outputs": [],
   "source": [
    "treeData1Median = HDTreeClassifier(\n",
    "                    allowed_splits=[LogisticRegressionSingleSplit.build(), TwoQuantileRangeSplit.build()], \n",
    "                    information_measure=EntropyMeasure(), \n",
    "                    attribute_names=col_names, \n",
    "                    max_levels=5,\n",
    "                    min_samples_at_leaf=10)"
   ]
  },
  {
   "cell_type": "code",
   "execution_count": 288,
   "metadata": {},
   "outputs": [
    {
     "name": "stdout",
     "output_type": "stream",
     "text": [
      "Precision:  0.8402636497628009\n",
      "Recall:  0.9215745544777804\n",
      "F1:  0.8726566032081594\n",
      "Accuracy:  0.9639780679604646\n"
     ]
    }
   ],
   "source": [
    "singAcc = five_fold(X.values, y.values, treeData1Median)"
   ]
  },
  {
   "cell_type": "markdown",
   "metadata": {},
   "source": [
    "### Multiple Attributes"
   ]
  },
  {
   "cell_type": "code",
   "execution_count": 289,
   "metadata": {},
   "outputs": [],
   "source": [
    "treeData1Median = HDTreeClassifier(\n",
    "                    allowed_splits=[LogisticRegressionDoubleCategorySplit.build()], \n",
    "                    information_measure=EntropyMeasure(), \n",
    "                    attribute_names=col_names, \n",
    "                    max_levels=5,\n",
    "                    min_samples_at_leaf=10)"
   ]
  },
  {
   "cell_type": "code",
   "execution_count": 290,
   "metadata": {},
   "outputs": [
    {
     "name": "stdout",
     "output_type": "stream",
     "text": [
      "Precision:  0.8526173666502894\n",
      "Recall:  0.7371005338747274\n",
      "F1:  0.7661645534468129\n",
      "Accuracy:  0.9507611283457182\n"
     ]
    }
   ],
   "source": [
    "multiAcc = five_fold(X.values, y.values, treeData1Median)"
   ]
  },
  {
   "cell_type": "code",
   "execution_count": 291,
   "metadata": {},
   "outputs": [
    {
     "name": "stdout",
     "output_type": "stream",
     "text": [
      "t test results: \n",
      "NULL HYPOTHESIS: model1 and model2 are the same\n",
      "Fail to reject null hypothesis\n",
      "\n",
      "wilcoxon test results: \n",
      "NULL HYPOTHESIS: model1 and model2 are the same\n",
      "Fail to reject null hypothesis\n",
      "\n",
      "mann whitney u test results: \n",
      "NULL HYPOTHESIS: model1 and model2 are the same\n",
      "Fail to reject null hypothesis\n",
      "\n",
      "kruskal wallis test results: \n",
      "NULL HYPOTHESIS: model1 and model2 are the same\n",
      "Fail to reject null hypothesis\n",
      "\n",
      "chi squared test results: \n",
      "NULL HYPOTHESIS: model1 and model2 are the same\n",
      "Fail to reject null hypothesis\n"
     ]
    },
    {
     "name": "stderr",
     "output_type": "stream",
     "text": [
      "/Library/Frameworks/Python.framework/Versions/3.9/lib/python3.9/site-packages/numpy/core/fromnumeric.py:3621: RuntimeWarning: Degrees of freedom <= 0 for slice\n",
      "  return _methods._var(a, axis=axis, dtype=dtype, out=out, ddof=ddof,\n",
      "/Library/Frameworks/Python.framework/Versions/3.9/lib/python3.9/site-packages/numpy/core/_methods.py:226: RuntimeWarning: invalid value encountered in double_scalars\n",
      "  ret = ret.dtype.type(ret / rcount)\n"
     ]
    }
   ],
   "source": [
    "checkStatisticalTests(singAcc, multiAcc)"
   ]
  },
  {
   "cell_type": "markdown",
   "metadata": {},
   "source": [
    "# Dataset 2"
   ]
  },
  {
   "cell_type": "code",
   "execution_count": 292,
   "metadata": {},
   "outputs": [],
   "source": [
    "# code to implement 5 fold cross validation and report p, r, f1 and accuracy\n",
    "def five_fold_dataset2(X, y, clf, folds=5):\n",
    "    # X is the feature matrix\n",
    "    # y is the label vector\n",
    "    # clf is the classifier\n",
    "    # folds is the number of folds\n",
    "    # returns the average p, r, f1 and accuracy\n",
    "    # create the folds\n",
    "    skf = StratifiedKFold(n_splits=folds)\n",
    "    # initialize the scores\n",
    "    probabs = []\n",
    "    actuals = []\n",
    "    # loop through the folds\n",
    "    for train_index, test_index in skf.split(X, y):\n",
    "        # split the data into train and test\n",
    "        X_train, X_test = X[train_index], X[test_index]\n",
    "        y_train, y_test = y[train_index], y[test_index]\n",
    "        # fit the model\n",
    "        clf.fit(X_train, y_train)\n",
    "        # predict the labels\n",
    "        probabs.append(clf.predict_proba(X_test)[:, 1])\n",
    "        # probs = clf.predict_proba(X_test)\n",
    "        # y_pred = clf.predict(X_test)\n",
    "        # y_pred = [float(i) for i in y_pred]\n",
    "        # calculate the scores\n",
    "        # p += precision_score(y_test, y_pred, average='macro')\n",
    "        # r += recall_score(y_test, y_pred, average='macro')\n",
    "        # f1 += f1_score(y_test, y_pred, average='macro')\n",
    "        # acc += accuracy_score(y_test, y_pred)\n",
    "    # return the average scores\n",
    "    # print('Precision: ', p/folds)\n",
    "    # print('Recall: ', r/folds)\n",
    "    # print('F1: ', f1/folds)\n",
    "    # print('Accuracy: ', acc/folds)\n",
    "    return probabs"
   ]
  },
  {
   "cell_type": "code",
   "execution_count": 293,
   "metadata": {},
   "outputs": [],
   "source": [
    "def performFiveFold(probabs1, probabs2, probabs3, X, y, folds=5):\n",
    "    skf = StratifiedKFold(n_splits=folds)\n",
    "    idx = 0\n",
    "    p, r, f1, acc = 0, 0, 0, 0\n",
    "    for train_index, test_index in skf.split(X, y):\n",
    "        # split the data into train and test\n",
    "        X_train, X_test = X[train_index], X[test_index]\n",
    "        y_train, y_test = y[train_index], y[test_index]\n",
    "        # print(probabs1[idx])\n",
    "        # probabs = np.hstack((probabs1[idx], probabs2[idx], probabs3[idx]))\n",
    "        probabs = np.hstack((probabs1[idx].reshape(-1,1), probabs2[idx].reshape(-1,1), probabs3[idx].reshape(-1,1)))\n",
    "        # print(idx, len(probabs1[idx]),len(probabs2[idx]),len(probabs3[idx]), probabs.shape)\n",
    "        idx += 1\n",
    "        \n",
    "        y_pred = np.argmax(probabs, axis=1) + 1\n",
    "        p += precision_score(y_test, y_pred, average='macro')\n",
    "        r += recall_score(y_test, y_pred, average='macro')\n",
    "        f1 += f1_score(y_test, y_pred, average='macro')\n",
    "        acc += accuracy_score(y_test, y_pred)\n",
    "    print('Precision: ', p/folds)\n",
    "    print('Recall: ', r/folds)\n",
    "    print('F1: ', f1/folds)\n",
    "    print('Accuracy: ', acc/folds)\n",
    "    return acc/folds"
   ]
  },
  {
   "cell_type": "code",
   "execution_count": 294,
   "metadata": {},
   "outputs": [],
   "source": [
    "train1_data = pd.read_csv('../../data/train2Ones.csv')\n",
    "test1_data = pd.read_csv('../../data/test2Ones.csv')"
   ]
  },
  {
   "cell_type": "code",
   "execution_count": 295,
   "metadata": {},
   "outputs": [],
   "source": [
    "train1_data.drop(['Unnamed: 0'], axis=1, inplace=True)\n",
    "test1_data.drop(['Unnamed: 0'], axis=1, inplace=True)\n",
    "train1_data.drop(['Unnamed: 0.1'], axis=1, inplace=True)\n",
    "test1_data.drop(['Unnamed: 0.1'], axis=1, inplace=True)"
   ]
  },
  {
   "cell_type": "code",
   "execution_count": 296,
   "metadata": {},
   "outputs": [],
   "source": [
    "totalData1 = pd.concat([train1_data, test1_data], axis=0)"
   ]
  },
  {
   "cell_type": "code",
   "execution_count": 297,
   "metadata": {},
   "outputs": [],
   "source": [
    "X1, y1 = totalData1.iloc[:, :], totalData1.iloc[:, -1]"
   ]
  },
  {
   "cell_type": "code",
   "execution_count": 298,
   "metadata": {},
   "outputs": [],
   "source": [
    "col1_names = [*train1_data.columns[:]]"
   ]
  },
  {
   "cell_type": "code",
   "execution_count": 299,
   "metadata": {},
   "outputs": [],
   "source": [
    "train2_data = pd.read_csv('../../data/train2Twos.csv')\n",
    "test2_data = pd.read_csv('../../data/test2Twos.csv')"
   ]
  },
  {
   "cell_type": "code",
   "execution_count": 300,
   "metadata": {},
   "outputs": [],
   "source": [
    "train2_data.drop(['Unnamed: 0'], axis=1, inplace=True)\n",
    "test2_data.drop(['Unnamed: 0'], axis=1, inplace=True)\n",
    "train2_data.drop(['Unnamed: 0.1'], axis=1, inplace=True)\n",
    "test2_data.drop(['Unnamed: 0.1'], axis=1, inplace=True)"
   ]
  },
  {
   "cell_type": "code",
   "execution_count": 301,
   "metadata": {},
   "outputs": [],
   "source": [
    "totalData2 = pd.concat([train2_data, test2_data], axis=0)"
   ]
  },
  {
   "cell_type": "code",
   "execution_count": 302,
   "metadata": {},
   "outputs": [],
   "source": [
    "X2, y2 = totalData2.iloc[:, :], totalData2.iloc[:, -1]"
   ]
  },
  {
   "cell_type": "code",
   "execution_count": 303,
   "metadata": {},
   "outputs": [],
   "source": [
    "col2_names = [*train2_data.columns[:]]"
   ]
  },
  {
   "cell_type": "code",
   "execution_count": 304,
   "metadata": {},
   "outputs": [],
   "source": [
    "train3_data = pd.read_csv('../../data/train2Threes.csv')\n",
    "test3_data = pd.read_csv('../../data/test2Threes.csv')"
   ]
  },
  {
   "cell_type": "code",
   "execution_count": 305,
   "metadata": {},
   "outputs": [],
   "source": [
    "train3_data.drop(['Unnamed: 0'], axis=1, inplace=True)\n",
    "test3_data.drop(['Unnamed: 0'], axis=1, inplace=True)\n",
    "train3_data.drop(['Unnamed: 0.1'], axis=1, inplace=True)\n",
    "test3_data.drop(['Unnamed: 0.1'], axis=1, inplace=True)"
   ]
  },
  {
   "cell_type": "code",
   "execution_count": 306,
   "metadata": {},
   "outputs": [],
   "source": [
    "totalData3 = pd.concat([train3_data, test3_data], axis=0)"
   ]
  },
  {
   "cell_type": "code",
   "execution_count": 307,
   "metadata": {},
   "outputs": [],
   "source": [
    "X3, y3 = totalData3.iloc[:, :], totalData3.iloc[:, -1]"
   ]
  },
  {
   "cell_type": "code",
   "execution_count": 308,
   "metadata": {},
   "outputs": [],
   "source": [
    "col3_names = [*train3_data.columns[:]]"
   ]
  },
  {
   "cell_type": "code",
   "execution_count": 309,
   "metadata": {},
   "outputs": [],
   "source": [
    "train_data = pd.read_csv('../../data/train2.csv')\n",
    "test_data = pd.read_csv('../../data/test2.csv')"
   ]
  },
  {
   "cell_type": "code",
   "execution_count": 310,
   "metadata": {},
   "outputs": [],
   "source": [
    "train_data.drop(['Unnamed: 0'], axis=1, inplace=True)\n",
    "test_data.drop(['Unnamed: 0'], axis=1, inplace=True)"
   ]
  },
  {
   "cell_type": "code",
   "execution_count": 311,
   "metadata": {},
   "outputs": [],
   "source": [
    "totalData = pd.concat([train_data, test_data], axis=0)"
   ]
  },
  {
   "cell_type": "code",
   "execution_count": 312,
   "metadata": {},
   "outputs": [],
   "source": [
    "X, y = totalData.iloc[:, :], totalData.iloc[:, -1]"
   ]
  },
  {
   "cell_type": "code",
   "execution_count": 313,
   "metadata": {},
   "outputs": [],
   "source": [
    "col_names = [*train_data.columns[:]]"
   ]
  },
  {
   "cell_type": "markdown",
   "metadata": {},
   "source": [
    "### Single Attribute"
   ]
  },
  {
   "cell_type": "code",
   "execution_count": 314,
   "metadata": {},
   "outputs": [],
   "source": [
    "treeData2Ones = HDTreeClassifier(\n",
    "                    allowed_splits=[LogisticRegressionSingleSplit.build(), TwoQuantileRangeSplit.build()], \n",
    "                    information_measure=EntropyMeasure(), \n",
    "                    attribute_names=col_names, \n",
    "                    max_levels=5,\n",
    "                    min_samples_at_leaf=10)\n",
    "treeData2Twos = HDTreeClassifier(\n",
    "                    allowed_splits=[LogisticRegressionSingleSplit.build(), TwoQuantileRangeSplit.build()], \n",
    "                    information_measure=EntropyMeasure(), \n",
    "                    attribute_names=col_names, \n",
    "                    max_levels=5,\n",
    "                    min_samples_at_leaf=10)\n",
    "treeData2Threes = HDTreeClassifier(\n",
    "                    allowed_splits=[LogisticRegressionSingleSplit.build(), TwoQuantileRangeSplit.build()], \n",
    "                    information_measure=EntropyMeasure(), \n",
    "                    attribute_names=col_names, \n",
    "                    max_levels=5,\n",
    "                    min_samples_at_leaf=10)"
   ]
  },
  {
   "cell_type": "code",
   "execution_count": 315,
   "metadata": {},
   "outputs": [],
   "source": [
    "onesProbab = five_fold_dataset2(X1.values, y1.values, treeData2Ones)\n",
    "twosProbab = five_fold_dataset2(X2.values, y2.values, treeData2Twos)\n",
    "threesProbab = five_fold_dataset2(X3.values, y3.values, treeData2Threes)"
   ]
  },
  {
   "cell_type": "code",
   "execution_count": 316,
   "metadata": {},
   "outputs": [
    {
     "name": "stdout",
     "output_type": "stream",
     "text": [
      "Precision:  0.7380282494943191\n",
      "Recall:  0.4893432040428185\n",
      "F1:  0.5315554623060486\n",
      "Accuracy:  0.8197115384615385\n"
     ]
    }
   ],
   "source": [
    "singAcc = performFiveFold(onesProbab, twosProbab, threesProbab, X.values, y.values, 5)"
   ]
  },
  {
   "cell_type": "markdown",
   "metadata": {},
   "source": [
    "### Multiple Attributes"
   ]
  },
  {
   "cell_type": "code",
   "execution_count": 317,
   "metadata": {},
   "outputs": [],
   "source": [
    "treeData2Ones = HDTreeClassifier(\n",
    "                    allowed_splits=[LogisticRegressionDoubleCategorySplit.build()],\n",
    "                    information_measure=EntropyMeasure(), \n",
    "                    attribute_names=col_names, \n",
    "                    max_levels=5,\n",
    "                    min_samples_at_leaf=10)\n",
    "treeData2Twos = HDTreeClassifier(\n",
    "                    allowed_splits=[LogisticRegressionDoubleCategorySplit.build()],\n",
    "                    information_measure=EntropyMeasure(), \n",
    "                    attribute_names=col_names, \n",
    "                    max_levels=5,\n",
    "                    min_samples_at_leaf=10)\n",
    "treeData2Threes = HDTreeClassifier(\n",
    "                    allowed_splits=[LogisticRegressionDoubleCategorySplit.build()],\n",
    "                    information_measure=EntropyMeasure(), \n",
    "                    attribute_names=col_names, \n",
    "                    max_levels=5,\n",
    "                    min_samples_at_leaf=10)"
   ]
  },
  {
   "cell_type": "code",
   "execution_count": 318,
   "metadata": {},
   "outputs": [],
   "source": [
    "onesProbab = five_fold_dataset2(X1.values, y1.values, treeData2Ones)\n",
    "twosProbab = five_fold_dataset2(X2.values, y2.values, treeData2Twos)\n",
    "threesProbab = five_fold_dataset2(X3.values, y3.values, treeData2Threes)"
   ]
  },
  {
   "cell_type": "code",
   "execution_count": 319,
   "metadata": {},
   "outputs": [
    {
     "name": "stdout",
     "output_type": "stream",
     "text": [
      "Precision:  0.6303684351344956\n",
      "Recall:  0.40202834898012385\n",
      "F1:  0.41584704813210943\n",
      "Accuracy:  0.7923076923076924\n"
     ]
    },
    {
     "name": "stderr",
     "output_type": "stream",
     "text": [
      "/Library/Frameworks/Python.framework/Versions/3.9/lib/python3.9/site-packages/sklearn/metrics/_classification.py:1245: UndefinedMetricWarning: Precision is ill-defined and being set to 0.0 in labels with no predicted samples. Use `zero_division` parameter to control this behavior.\n",
      "  _warn_prf(average, modifier, msg_start, len(result))\n",
      "/Library/Frameworks/Python.framework/Versions/3.9/lib/python3.9/site-packages/sklearn/metrics/_classification.py:1245: UndefinedMetricWarning: Precision is ill-defined and being set to 0.0 in labels with no predicted samples. Use `zero_division` parameter to control this behavior.\n",
      "  _warn_prf(average, modifier, msg_start, len(result))\n"
     ]
    }
   ],
   "source": [
    "multiAcc = performFiveFold(onesProbab, twosProbab, threesProbab, X.values, y.values, 5)"
   ]
  },
  {
   "cell_type": "code",
   "execution_count": 320,
   "metadata": {},
   "outputs": [
    {
     "name": "stdout",
     "output_type": "stream",
     "text": [
      "t test results: \n",
      "NULL HYPOTHESIS: model1 and model2 are the same\n",
      "Fail to reject null hypothesis\n",
      "\n",
      "wilcoxon test results: \n",
      "NULL HYPOTHESIS: model1 and model2 are the same\n",
      "Fail to reject null hypothesis\n",
      "\n",
      "mann whitney u test results: \n",
      "NULL HYPOTHESIS: model1 and model2 are the same\n",
      "Fail to reject null hypothesis\n",
      "\n",
      "kruskal wallis test results: \n",
      "NULL HYPOTHESIS: model1 and model2 are the same\n",
      "Fail to reject null hypothesis\n",
      "\n",
      "chi squared test results: \n",
      "NULL HYPOTHESIS: model1 and model2 are the same\n",
      "Fail to reject null hypothesis\n"
     ]
    },
    {
     "name": "stderr",
     "output_type": "stream",
     "text": [
      "/Library/Frameworks/Python.framework/Versions/3.9/lib/python3.9/site-packages/numpy/core/fromnumeric.py:3621: RuntimeWarning: Degrees of freedom <= 0 for slice\n",
      "  return _methods._var(a, axis=axis, dtype=dtype, out=out, ddof=ddof,\n",
      "/Library/Frameworks/Python.framework/Versions/3.9/lib/python3.9/site-packages/numpy/core/_methods.py:226: RuntimeWarning: invalid value encountered in double_scalars\n",
      "  ret = ret.dtype.type(ret / rcount)\n"
     ]
    }
   ],
   "source": [
    "checkStatisticalTests(singAcc, multiAcc)"
   ]
  },
  {
   "cell_type": "markdown",
   "metadata": {},
   "source": [
    "# Dataset 3\n",
    "## One Hot Dataset"
   ]
  },
  {
   "cell_type": "code",
   "execution_count": 321,
   "metadata": {},
   "outputs": [],
   "source": [
    "train_data = pd.read_csv('../../data/train3onehot.csv')\n",
    "test_data = pd.read_csv('../../data/test3onehot.csv')"
   ]
  },
  {
   "cell_type": "code",
   "execution_count": 322,
   "metadata": {},
   "outputs": [],
   "source": [
    "train_data.drop(['Unnamed: 0'], axis=1, inplace=True)\n",
    "test_data.drop(['Unnamed: 0'], axis=1, inplace=True)"
   ]
  },
  {
   "cell_type": "code",
   "execution_count": 323,
   "metadata": {},
   "outputs": [],
   "source": [
    "totalData = pd.concat([train_data, test_data], axis=0)"
   ]
  },
  {
   "cell_type": "code",
   "execution_count": 324,
   "metadata": {},
   "outputs": [],
   "source": [
    "X, y = totalData.iloc[:, :], totalData.iloc[:, -1]"
   ]
  },
  {
   "cell_type": "code",
   "execution_count": 325,
   "metadata": {},
   "outputs": [],
   "source": [
    "col_names = [*train_data.columns[:]]"
   ]
  },
  {
   "cell_type": "markdown",
   "metadata": {},
   "source": [
    "### Single Attribute"
   ]
  },
  {
   "cell_type": "code",
   "execution_count": 326,
   "metadata": {},
   "outputs": [],
   "source": [
    "treeData3OHT = HDTreeClassifier(\n",
    "                    allowed_splits=[LogisticRegressionSingleSplit.build(), TwoQuantileRangeSplit.build()], \n",
    "                    information_measure=EntropyMeasure(), \n",
    "                    attribute_names=col_names, \n",
    "                    max_levels=5,\n",
    "                    min_samples_at_leaf=10)"
   ]
  },
  {
   "cell_type": "code",
   "execution_count": 327,
   "metadata": {},
   "outputs": [
    {
     "name": "stdout",
     "output_type": "stream",
     "text": [
      "Precision:  0.7780456056956732\n",
      "Recall:  0.668827072385594\n",
      "F1:  0.7049257170217207\n",
      "Accuracy:  0.9047827505102646\n"
     ]
    }
   ],
   "source": [
    "singAcc = five_fold(X.values, y.values, treeData3OHT)"
   ]
  },
  {
   "cell_type": "markdown",
   "metadata": {},
   "source": [
    "### Multiple Attributes"
   ]
  },
  {
   "cell_type": "code",
   "execution_count": 328,
   "metadata": {},
   "outputs": [],
   "source": [
    "treeData3OHT = HDTreeClassifier(\n",
    "                    allowed_splits=[LogisticRegressionDoubleCategorySplit.build()], \n",
    "                    information_measure=EntropyMeasure(), \n",
    "                    attribute_names=col_names, \n",
    "                    max_levels=5,\n",
    "                    min_samples_at_leaf=10)"
   ]
  },
  {
   "cell_type": "code",
   "execution_count": 329,
   "metadata": {},
   "outputs": [
    {
     "name": "stdout",
     "output_type": "stream",
     "text": [
      "Precision:  0.763879372953405\n",
      "Recall:  0.6569969445431458\n",
      "F1:  0.6913703612080084\n",
      "Accuracy:  0.901064507217237\n"
     ]
    }
   ],
   "source": [
    "multiAcc = five_fold(X.values, y.values, treeData3OHT)"
   ]
  },
  {
   "cell_type": "code",
   "execution_count": 330,
   "metadata": {},
   "outputs": [
    {
     "name": "stdout",
     "output_type": "stream",
     "text": [
      "t test results: \n",
      "NULL HYPOTHESIS: model1 and model2 are the same\n",
      "Fail to reject null hypothesis\n",
      "\n",
      "wilcoxon test results: \n",
      "NULL HYPOTHESIS: model1 and model2 are the same\n",
      "Fail to reject null hypothesis\n",
      "\n",
      "mann whitney u test results: \n",
      "NULL HYPOTHESIS: model1 and model2 are the same\n",
      "Fail to reject null hypothesis\n",
      "\n",
      "kruskal wallis test results: \n",
      "NULL HYPOTHESIS: model1 and model2 are the same\n",
      "Fail to reject null hypothesis\n",
      "\n",
      "chi squared test results: \n",
      "NULL HYPOTHESIS: model1 and model2 are the same\n",
      "Fail to reject null hypothesis\n"
     ]
    },
    {
     "name": "stderr",
     "output_type": "stream",
     "text": [
      "/Library/Frameworks/Python.framework/Versions/3.9/lib/python3.9/site-packages/numpy/core/fromnumeric.py:3621: RuntimeWarning: Degrees of freedom <= 0 for slice\n",
      "  return _methods._var(a, axis=axis, dtype=dtype, out=out, ddof=ddof,\n",
      "/Library/Frameworks/Python.framework/Versions/3.9/lib/python3.9/site-packages/numpy/core/_methods.py:226: RuntimeWarning: invalid value encountered in double_scalars\n",
      "  ret = ret.dtype.type(ret / rcount)\n"
     ]
    }
   ],
   "source": [
    "checkStatisticalTests(singAcc, multiAcc)"
   ]
  },
  {
   "cell_type": "code",
   "execution_count": null,
   "metadata": {},
   "outputs": [],
   "source": []
  }
 ],
 "metadata": {
  "kernelspec": {
   "display_name": "Python 3.9.1 64-bit",
   "language": "python",
   "name": "python3"
  },
  "language_info": {
   "codemirror_mode": {
    "name": "ipython",
    "version": 3
   },
   "file_extension": ".py",
   "mimetype": "text/x-python",
   "name": "python",
   "nbconvert_exporter": "python",
   "pygments_lexer": "ipython3",
   "version": "3.9.1"
  },
  "orig_nbformat": 4,
  "vscode": {
   "interpreter": {
    "hash": "aee8b7b246df8f9039afb4144a1f6fd8d2ca17a180786b69acc140d282b71a49"
   }
  }
 },
 "nbformat": 4,
 "nbformat_minor": 2
}
