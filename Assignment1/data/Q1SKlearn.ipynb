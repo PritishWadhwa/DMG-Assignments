{
  "nbformat": 4,
  "nbformat_minor": 0,
  "metadata": {
    "colab": {
      "provenance": [],
      "collapsed_sections": []
    },
    "kernelspec": {
      "name": "python3",
      "display_name": "Python 3"
    },
    "language_info": {
      "name": "python"
    }
  },
  "cells": [
    {
      "cell_type": "code",
      "execution_count": null,
      "metadata": {
        "id": "c1pWTZbvKmJP"
      },
      "outputs": [],
      "source": [
        "import pandas as pd\n",
        "from sklearn import tree\n",
        "import graphviz \n",
        "from sklearn.metrics import classification_report, accuracy_score, recall_score, precision_score, f1_score, roc_curve, roc_auc_score, plot_roc_curve\n",
        "from sklearn.tree import DecisionTreeClassifier\n",
        "from sklearn.model_selection import train_test_split\n",
        "import numpy as np\n",
        "from google.colab import files\n",
        "from joblib import dump"
      ]
    },
    {
      "cell_type": "code",
      "source": [
        "trainMedian=pd.read_csv('train1median.csv')\n",
        "testMedian=pd.read_csv('test1median.csv')\n",
        "trainMean=pd.read_csv('train1mean.csv')\n",
        "testMean=pd.read_csv('test1mean.csv')"
      ],
      "metadata": {
        "id": "x1LI25EuTI3T"
      },
      "execution_count": null,
      "outputs": []
    },
    {
      "cell_type": "code",
      "source": [
        "trainMedianx=trainMedian.drop(['Biopsy','Unnamed: 0'], axis=1)\n",
        "trainMediany= trainMedian['Biopsy']\n",
        "testMedianx= testMedian.drop(['Biopsy','Unnamed: 0'], axis=1)\n",
        "testMediany= testMedian['Biopsy']"
      ],
      "metadata": {
        "id": "QwZ5_dzQTV5k"
      },
      "execution_count": null,
      "outputs": []
    },
    {
      "cell_type": "code",
      "source": [
        "trainMeanx=trainMean.drop(['Biopsy','Unnamed: 0'], axis=1)\n",
        "trainMeany= trainMean['Biopsy']\n",
        "testMeanx= testMean.drop(['Biopsy','Unnamed: 0'], axis=1)\n",
        "testMeany= testMean['Biopsy']"
      ],
      "metadata": {
        "id": "LZtBHTkzVnxu"
      },
      "execution_count": null,
      "outputs": []
    },
    {
      "cell_type": "code",
      "source": [
        "modelMedian = DecisionTreeClassifier()\n",
        "modelMean = DecisionTreeClassifier()"
      ],
      "metadata": {
        "id": "Lo5JRKMETtcG"
      },
      "execution_count": null,
      "outputs": []
    },
    {
      "cell_type": "code",
      "source": [
        "modelMedian.fit(trainMedianx,trainMediany)\n",
        "modelMean.fit(trainMeanx,trainMeany)"
      ],
      "metadata": {
        "colab": {
          "base_uri": "https://localhost:8080/"
        },
        "id": "GU8-kD7QTzm8",
        "outputId": "f2d66bd1-339b-4c4e-c85e-ab2e9d542b20"
      },
      "execution_count": null,
      "outputs": [
        {
          "output_type": "execute_result",
          "data": {
            "text/plain": [
              "DecisionTreeClassifier()"
            ]
          },
          "metadata": {},
          "execution_count": 6
        }
      ]
    },
    {
      "cell_type": "code",
      "source": [
        "testMedianx"
      ],
      "metadata": {
        "colab": {
          "base_uri": "https://localhost:8080/"
        },
        "id": "FZqMNAVRWHUs",
        "outputId": "dc54e278-2185-4b95-fcd1-3bd59a4b8bc9"
      },
      "execution_count": null,
      "outputs": [
        {
          "output_type": "execute_result",
          "data": {
            "text/plain": [
              "          Age  Number of sexual partners  First sexual intercourse  \\\n",
              "0    0.128205                   0.214286                  0.227273   \n",
              "1    0.743590                   0.142857                  0.590909   \n",
              "2    0.974359                   0.142857                  0.318182   \n",
              "3    0.333333                   0.000000                  0.727273   \n",
              "4    0.794872                   0.142857                  0.727273   \n",
              "..        ...                        ...                       ...   \n",
              "162  0.512821                   0.214286                  0.318182   \n",
              "163  0.564103                   0.214286                  0.272727   \n",
              "164  0.692308                   0.142857                  0.590909   \n",
              "165  0.435897                   0.142857                  0.227273   \n",
              "166  0.153846                   0.000000                  0.181818   \n",
              "\n",
              "     Num of pregnancies  Smokes  Smokes (years)  Smokes (packs/year)  \\\n",
              "0                 0.125     0.0        0.000000             0.000000   \n",
              "1                 0.250     0.0        0.000000             0.000000   \n",
              "2                 0.750     1.0        0.918919             0.091892   \n",
              "3                 0.375     0.0        0.000000             0.000000   \n",
              "4                 0.500     0.0        0.000000             0.000000   \n",
              "..                  ...     ...             ...                  ...   \n",
              "162               0.000     0.0        0.000000             0.000000   \n",
              "163               0.500     0.0        0.000000             0.000000   \n",
              "164               0.250     0.0        0.000000             0.000000   \n",
              "165               0.000     1.0        0.432432             0.216216   \n",
              "166               0.000     0.0        0.000000             0.000000   \n",
              "\n",
              "     Hormonal Contraceptives  Hormonal Contraceptives (years)  IUD  ...  \\\n",
              "0                        0.0                         0.000000  0.0  ...   \n",
              "1                        0.0                         0.000000  0.0  ...   \n",
              "2                        0.0                         0.000000  1.0  ...   \n",
              "3                        1.0                         0.066667  1.0  ...   \n",
              "4                        1.0                         0.066667  0.0  ...   \n",
              "..                       ...                              ...  ...  ...   \n",
              "162                      1.0                         0.025000  0.0  ...   \n",
              "163                      0.0                         0.000000  0.0  ...   \n",
              "164                      0.0                         0.000000  0.0  ...   \n",
              "165                      0.0                         0.000000  0.0  ...   \n",
              "166                      0.0                         0.000000  0.0  ...   \n",
              "\n",
              "     STDs:HIV  STDs:Hepatitis B  STDs:HPV  STDs: Number of diagnosis  \\\n",
              "0         0.0               0.0       0.0                   0.000000   \n",
              "1         0.0               0.0       0.0                   0.000000   \n",
              "2         0.0               0.0       0.0                   0.000000   \n",
              "3         0.0               0.0       0.0                   0.000000   \n",
              "4         0.0               0.0       0.0                   0.000000   \n",
              "..        ...               ...       ...                        ...   \n",
              "162       0.0               0.0       0.0                   0.333333   \n",
              "163       0.0               0.0       0.0                   0.000000   \n",
              "164       1.0               0.0       0.0                   0.333333   \n",
              "165       0.0               0.0       0.0                   0.000000   \n",
              "166       0.0               0.0       0.0                   0.000000   \n",
              "\n",
              "     Dx:Cancer  Dx:CIN   Dx  Hinselmann  Schiller  Citology  \n",
              "0          0.0     0.0  0.0         0.0       0.0       0.0  \n",
              "1          0.0     0.0  0.0         0.0       0.0       0.0  \n",
              "2          0.0     0.0  0.0         1.0       1.0       0.0  \n",
              "3          0.0     0.0  0.0         0.0       0.0       0.0  \n",
              "4          0.0     0.0  0.0         0.0       0.0       0.0  \n",
              "..         ...     ...  ...         ...       ...       ...  \n",
              "162        0.0     0.0  0.0         0.0       0.0       0.0  \n",
              "163        0.0     0.0  0.0         0.0       0.0       0.0  \n",
              "164        0.0     0.0  0.0         0.0       0.0       0.0  \n",
              "165        0.0     0.0  0.0         0.0       0.0       0.0  \n",
              "166        0.0     0.0  0.0         0.0       0.0       0.0  \n",
              "\n",
              "[167 rows x 27 columns]"
            ],
            "text/html": [
              "\n",
              "  <div id=\"df-82910b3e-a288-46fd-b7ec-c7e9e5a916d7\">\n",
              "    <div class=\"colab-df-container\">\n",
              "      <div>\n",
              "<style scoped>\n",
              "    .dataframe tbody tr th:only-of-type {\n",
              "        vertical-align: middle;\n",
              "    }\n",
              "\n",
              "    .dataframe tbody tr th {\n",
              "        vertical-align: top;\n",
              "    }\n",
              "\n",
              "    .dataframe thead th {\n",
              "        text-align: right;\n",
              "    }\n",
              "</style>\n",
              "<table border=\"1\" class=\"dataframe\">\n",
              "  <thead>\n",
              "    <tr style=\"text-align: right;\">\n",
              "      <th></th>\n",
              "      <th>Age</th>\n",
              "      <th>Number of sexual partners</th>\n",
              "      <th>First sexual intercourse</th>\n",
              "      <th>Num of pregnancies</th>\n",
              "      <th>Smokes</th>\n",
              "      <th>Smokes (years)</th>\n",
              "      <th>Smokes (packs/year)</th>\n",
              "      <th>Hormonal Contraceptives</th>\n",
              "      <th>Hormonal Contraceptives (years)</th>\n",
              "      <th>IUD</th>\n",
              "      <th>...</th>\n",
              "      <th>STDs:HIV</th>\n",
              "      <th>STDs:Hepatitis B</th>\n",
              "      <th>STDs:HPV</th>\n",
              "      <th>STDs: Number of diagnosis</th>\n",
              "      <th>Dx:Cancer</th>\n",
              "      <th>Dx:CIN</th>\n",
              "      <th>Dx</th>\n",
              "      <th>Hinselmann</th>\n",
              "      <th>Schiller</th>\n",
              "      <th>Citology</th>\n",
              "    </tr>\n",
              "  </thead>\n",
              "  <tbody>\n",
              "    <tr>\n",
              "      <th>0</th>\n",
              "      <td>0.128205</td>\n",
              "      <td>0.214286</td>\n",
              "      <td>0.227273</td>\n",
              "      <td>0.125</td>\n",
              "      <td>0.0</td>\n",
              "      <td>0.000000</td>\n",
              "      <td>0.000000</td>\n",
              "      <td>0.0</td>\n",
              "      <td>0.000000</td>\n",
              "      <td>0.0</td>\n",
              "      <td>...</td>\n",
              "      <td>0.0</td>\n",
              "      <td>0.0</td>\n",
              "      <td>0.0</td>\n",
              "      <td>0.000000</td>\n",
              "      <td>0.0</td>\n",
              "      <td>0.0</td>\n",
              "      <td>0.0</td>\n",
              "      <td>0.0</td>\n",
              "      <td>0.0</td>\n",
              "      <td>0.0</td>\n",
              "    </tr>\n",
              "    <tr>\n",
              "      <th>1</th>\n",
              "      <td>0.743590</td>\n",
              "      <td>0.142857</td>\n",
              "      <td>0.590909</td>\n",
              "      <td>0.250</td>\n",
              "      <td>0.0</td>\n",
              "      <td>0.000000</td>\n",
              "      <td>0.000000</td>\n",
              "      <td>0.0</td>\n",
              "      <td>0.000000</td>\n",
              "      <td>0.0</td>\n",
              "      <td>...</td>\n",
              "      <td>0.0</td>\n",
              "      <td>0.0</td>\n",
              "      <td>0.0</td>\n",
              "      <td>0.000000</td>\n",
              "      <td>0.0</td>\n",
              "      <td>0.0</td>\n",
              "      <td>0.0</td>\n",
              "      <td>0.0</td>\n",
              "      <td>0.0</td>\n",
              "      <td>0.0</td>\n",
              "    </tr>\n",
              "    <tr>\n",
              "      <th>2</th>\n",
              "      <td>0.974359</td>\n",
              "      <td>0.142857</td>\n",
              "      <td>0.318182</td>\n",
              "      <td>0.750</td>\n",
              "      <td>1.0</td>\n",
              "      <td>0.918919</td>\n",
              "      <td>0.091892</td>\n",
              "      <td>0.0</td>\n",
              "      <td>0.000000</td>\n",
              "      <td>1.0</td>\n",
              "      <td>...</td>\n",
              "      <td>0.0</td>\n",
              "      <td>0.0</td>\n",
              "      <td>0.0</td>\n",
              "      <td>0.000000</td>\n",
              "      <td>0.0</td>\n",
              "      <td>0.0</td>\n",
              "      <td>0.0</td>\n",
              "      <td>1.0</td>\n",
              "      <td>1.0</td>\n",
              "      <td>0.0</td>\n",
              "    </tr>\n",
              "    <tr>\n",
              "      <th>3</th>\n",
              "      <td>0.333333</td>\n",
              "      <td>0.000000</td>\n",
              "      <td>0.727273</td>\n",
              "      <td>0.375</td>\n",
              "      <td>0.0</td>\n",
              "      <td>0.000000</td>\n",
              "      <td>0.000000</td>\n",
              "      <td>1.0</td>\n",
              "      <td>0.066667</td>\n",
              "      <td>1.0</td>\n",
              "      <td>...</td>\n",
              "      <td>0.0</td>\n",
              "      <td>0.0</td>\n",
              "      <td>0.0</td>\n",
              "      <td>0.000000</td>\n",
              "      <td>0.0</td>\n",
              "      <td>0.0</td>\n",
              "      <td>0.0</td>\n",
              "      <td>0.0</td>\n",
              "      <td>0.0</td>\n",
              "      <td>0.0</td>\n",
              "    </tr>\n",
              "    <tr>\n",
              "      <th>4</th>\n",
              "      <td>0.794872</td>\n",
              "      <td>0.142857</td>\n",
              "      <td>0.727273</td>\n",
              "      <td>0.500</td>\n",
              "      <td>0.0</td>\n",
              "      <td>0.000000</td>\n",
              "      <td>0.000000</td>\n",
              "      <td>1.0</td>\n",
              "      <td>0.066667</td>\n",
              "      <td>0.0</td>\n",
              "      <td>...</td>\n",
              "      <td>0.0</td>\n",
              "      <td>0.0</td>\n",
              "      <td>0.0</td>\n",
              "      <td>0.000000</td>\n",
              "      <td>0.0</td>\n",
              "      <td>0.0</td>\n",
              "      <td>0.0</td>\n",
              "      <td>0.0</td>\n",
              "      <td>0.0</td>\n",
              "      <td>0.0</td>\n",
              "    </tr>\n",
              "    <tr>\n",
              "      <th>...</th>\n",
              "      <td>...</td>\n",
              "      <td>...</td>\n",
              "      <td>...</td>\n",
              "      <td>...</td>\n",
              "      <td>...</td>\n",
              "      <td>...</td>\n",
              "      <td>...</td>\n",
              "      <td>...</td>\n",
              "      <td>...</td>\n",
              "      <td>...</td>\n",
              "      <td>...</td>\n",
              "      <td>...</td>\n",
              "      <td>...</td>\n",
              "      <td>...</td>\n",
              "      <td>...</td>\n",
              "      <td>...</td>\n",
              "      <td>...</td>\n",
              "      <td>...</td>\n",
              "      <td>...</td>\n",
              "      <td>...</td>\n",
              "      <td>...</td>\n",
              "    </tr>\n",
              "    <tr>\n",
              "      <th>162</th>\n",
              "      <td>0.512821</td>\n",
              "      <td>0.214286</td>\n",
              "      <td>0.318182</td>\n",
              "      <td>0.000</td>\n",
              "      <td>0.0</td>\n",
              "      <td>0.000000</td>\n",
              "      <td>0.000000</td>\n",
              "      <td>1.0</td>\n",
              "      <td>0.025000</td>\n",
              "      <td>0.0</td>\n",
              "      <td>...</td>\n",
              "      <td>0.0</td>\n",
              "      <td>0.0</td>\n",
              "      <td>0.0</td>\n",
              "      <td>0.333333</td>\n",
              "      <td>0.0</td>\n",
              "      <td>0.0</td>\n",
              "      <td>0.0</td>\n",
              "      <td>0.0</td>\n",
              "      <td>0.0</td>\n",
              "      <td>0.0</td>\n",
              "    </tr>\n",
              "    <tr>\n",
              "      <th>163</th>\n",
              "      <td>0.564103</td>\n",
              "      <td>0.214286</td>\n",
              "      <td>0.272727</td>\n",
              "      <td>0.500</td>\n",
              "      <td>0.0</td>\n",
              "      <td>0.000000</td>\n",
              "      <td>0.000000</td>\n",
              "      <td>0.0</td>\n",
              "      <td>0.000000</td>\n",
              "      <td>0.0</td>\n",
              "      <td>...</td>\n",
              "      <td>0.0</td>\n",
              "      <td>0.0</td>\n",
              "      <td>0.0</td>\n",
              "      <td>0.000000</td>\n",
              "      <td>0.0</td>\n",
              "      <td>0.0</td>\n",
              "      <td>0.0</td>\n",
              "      <td>0.0</td>\n",
              "      <td>0.0</td>\n",
              "      <td>0.0</td>\n",
              "    </tr>\n",
              "    <tr>\n",
              "      <th>164</th>\n",
              "      <td>0.692308</td>\n",
              "      <td>0.142857</td>\n",
              "      <td>0.590909</td>\n",
              "      <td>0.250</td>\n",
              "      <td>0.0</td>\n",
              "      <td>0.000000</td>\n",
              "      <td>0.000000</td>\n",
              "      <td>0.0</td>\n",
              "      <td>0.000000</td>\n",
              "      <td>0.0</td>\n",
              "      <td>...</td>\n",
              "      <td>1.0</td>\n",
              "      <td>0.0</td>\n",
              "      <td>0.0</td>\n",
              "      <td>0.333333</td>\n",
              "      <td>0.0</td>\n",
              "      <td>0.0</td>\n",
              "      <td>0.0</td>\n",
              "      <td>0.0</td>\n",
              "      <td>0.0</td>\n",
              "      <td>0.0</td>\n",
              "    </tr>\n",
              "    <tr>\n",
              "      <th>165</th>\n",
              "      <td>0.435897</td>\n",
              "      <td>0.142857</td>\n",
              "      <td>0.227273</td>\n",
              "      <td>0.000</td>\n",
              "      <td>1.0</td>\n",
              "      <td>0.432432</td>\n",
              "      <td>0.216216</td>\n",
              "      <td>0.0</td>\n",
              "      <td>0.000000</td>\n",
              "      <td>0.0</td>\n",
              "      <td>...</td>\n",
              "      <td>0.0</td>\n",
              "      <td>0.0</td>\n",
              "      <td>0.0</td>\n",
              "      <td>0.000000</td>\n",
              "      <td>0.0</td>\n",
              "      <td>0.0</td>\n",
              "      <td>0.0</td>\n",
              "      <td>0.0</td>\n",
              "      <td>0.0</td>\n",
              "      <td>0.0</td>\n",
              "    </tr>\n",
              "    <tr>\n",
              "      <th>166</th>\n",
              "      <td>0.153846</td>\n",
              "      <td>0.000000</td>\n",
              "      <td>0.181818</td>\n",
              "      <td>0.000</td>\n",
              "      <td>0.0</td>\n",
              "      <td>0.000000</td>\n",
              "      <td>0.000000</td>\n",
              "      <td>0.0</td>\n",
              "      <td>0.000000</td>\n",
              "      <td>0.0</td>\n",
              "      <td>...</td>\n",
              "      <td>0.0</td>\n",
              "      <td>0.0</td>\n",
              "      <td>0.0</td>\n",
              "      <td>0.000000</td>\n",
              "      <td>0.0</td>\n",
              "      <td>0.0</td>\n",
              "      <td>0.0</td>\n",
              "      <td>0.0</td>\n",
              "      <td>0.0</td>\n",
              "      <td>0.0</td>\n",
              "    </tr>\n",
              "  </tbody>\n",
              "</table>\n",
              "<p>167 rows × 27 columns</p>\n",
              "</div>\n",
              "      <button class=\"colab-df-convert\" onclick=\"convertToInteractive('df-82910b3e-a288-46fd-b7ec-c7e9e5a916d7')\"\n",
              "              title=\"Convert this dataframe to an interactive table.\"\n",
              "              style=\"display:none;\">\n",
              "        \n",
              "  <svg xmlns=\"http://www.w3.org/2000/svg\" height=\"24px\"viewBox=\"0 0 24 24\"\n",
              "       width=\"24px\">\n",
              "    <path d=\"M0 0h24v24H0V0z\" fill=\"none\"/>\n",
              "    <path d=\"M18.56 5.44l.94 2.06.94-2.06 2.06-.94-2.06-.94-.94-2.06-.94 2.06-2.06.94zm-11 1L8.5 8.5l.94-2.06 2.06-.94-2.06-.94L8.5 2.5l-.94 2.06-2.06.94zm10 10l.94 2.06.94-2.06 2.06-.94-2.06-.94-.94-2.06-.94 2.06-2.06.94z\"/><path d=\"M17.41 7.96l-1.37-1.37c-.4-.4-.92-.59-1.43-.59-.52 0-1.04.2-1.43.59L10.3 9.45l-7.72 7.72c-.78.78-.78 2.05 0 2.83L4 21.41c.39.39.9.59 1.41.59.51 0 1.02-.2 1.41-.59l7.78-7.78 2.81-2.81c.8-.78.8-2.07 0-2.86zM5.41 20L4 18.59l7.72-7.72 1.47 1.35L5.41 20z\"/>\n",
              "  </svg>\n",
              "      </button>\n",
              "      \n",
              "  <style>\n",
              "    .colab-df-container {\n",
              "      display:flex;\n",
              "      flex-wrap:wrap;\n",
              "      gap: 12px;\n",
              "    }\n",
              "\n",
              "    .colab-df-convert {\n",
              "      background-color: #E8F0FE;\n",
              "      border: none;\n",
              "      border-radius: 50%;\n",
              "      cursor: pointer;\n",
              "      display: none;\n",
              "      fill: #1967D2;\n",
              "      height: 32px;\n",
              "      padding: 0 0 0 0;\n",
              "      width: 32px;\n",
              "    }\n",
              "\n",
              "    .colab-df-convert:hover {\n",
              "      background-color: #E2EBFA;\n",
              "      box-shadow: 0px 1px 2px rgba(60, 64, 67, 0.3), 0px 1px 3px 1px rgba(60, 64, 67, 0.15);\n",
              "      fill: #174EA6;\n",
              "    }\n",
              "\n",
              "    [theme=dark] .colab-df-convert {\n",
              "      background-color: #3B4455;\n",
              "      fill: #D2E3FC;\n",
              "    }\n",
              "\n",
              "    [theme=dark] .colab-df-convert:hover {\n",
              "      background-color: #434B5C;\n",
              "      box-shadow: 0px 1px 3px 1px rgba(0, 0, 0, 0.15);\n",
              "      filter: drop-shadow(0px 1px 2px rgba(0, 0, 0, 0.3));\n",
              "      fill: #FFFFFF;\n",
              "    }\n",
              "  </style>\n",
              "\n",
              "      <script>\n",
              "        const buttonEl =\n",
              "          document.querySelector('#df-82910b3e-a288-46fd-b7ec-c7e9e5a916d7 button.colab-df-convert');\n",
              "        buttonEl.style.display =\n",
              "          google.colab.kernel.accessAllowed ? 'block' : 'none';\n",
              "\n",
              "        async function convertToInteractive(key) {\n",
              "          const element = document.querySelector('#df-82910b3e-a288-46fd-b7ec-c7e9e5a916d7');\n",
              "          const dataTable =\n",
              "            await google.colab.kernel.invokeFunction('convertToInteractive',\n",
              "                                                     [key], {});\n",
              "          if (!dataTable) return;\n",
              "\n",
              "          const docLinkHtml = 'Like what you see? Visit the ' +\n",
              "            '<a target=\"_blank\" href=https://colab.research.google.com/notebooks/data_table.ipynb>data table notebook</a>'\n",
              "            + ' to learn more about interactive tables.';\n",
              "          element.innerHTML = '';\n",
              "          dataTable['output_type'] = 'display_data';\n",
              "          await google.colab.output.renderOutput(dataTable, element);\n",
              "          const docLink = document.createElement('div');\n",
              "          docLink.innerHTML = docLinkHtml;\n",
              "          element.appendChild(docLink);\n",
              "        }\n",
              "      </script>\n",
              "    </div>\n",
              "  </div>\n",
              "  "
            ]
          },
          "metadata": {},
          "execution_count": 7
        }
      ]
    },
    {
      "cell_type": "code",
      "source": [
        "clfDataMedian = tree.export_graphviz(modelMedian, feature_names=list(trainMedianx.columns),class_names=['0.0','1.0'],filled=True)  \n",
        "visualizationMedian = graphviz.Source(clfDataMedian)  \n",
        "visualizationMedian"
      ],
      "metadata": {
        "colab": {
          "base_uri": "https://localhost:8080/"
        },
        "id": "lRZcdREqT8IJ",
        "outputId": "97fd2be3-b700-4842-eeed-295d96bd701a"
      },
      "execution_count": null,
      "outputs": [
        {
          "output_type": "execute_result",
          "data": {
            "text/plain": [
              "<graphviz.files.Source at 0x7f5fc76bf2d0>"
            ],
            "image/svg+xml": "<?xml version=\"1.0\" encoding=\"UTF-8\" standalone=\"no\"?>\n<!DOCTYPE svg PUBLIC \"-//W3C//DTD SVG 1.1//EN\"\n \"http://www.w3.org/Graphics/SVG/1.1/DTD/svg11.dtd\">\n<!-- Generated by graphviz version 2.40.1 (20161225.0304)\n -->\n<!-- Title: Tree Pages: 1 -->\n<svg width=\"1543pt\" height=\"1504pt\"\n viewBox=\"0.00 0.00 1542.50 1504.00\" xmlns=\"http://www.w3.org/2000/svg\" xmlns:xlink=\"http://www.w3.org/1999/xlink\">\n<g id=\"graph0\" class=\"graph\" transform=\"scale(1 1) rotate(0) translate(4 1500)\">\n<title>Tree</title>\n<polygon fill=\"#ffffff\" stroke=\"transparent\" points=\"-4,4 -4,-1500 1538.5,-1500 1538.5,4 -4,4\"/>\n<!-- 0 -->\n<g id=\"node1\" class=\"node\">\n<title>0</title>\n<polygon fill=\"#e78a47\" stroke=\"#000000\" points=\"796.5,-1496 672.5,-1496 672.5,-1413 796.5,-1413 796.5,-1496\"/>\n<text text-anchor=\"middle\" x=\"734.5\" y=\"-1480.8\" font-family=\"Helvetica,sans-Serif\" font-size=\"14.00\" fill=\"#000000\">Schiller &lt;= 0.5</text>\n<text text-anchor=\"middle\" x=\"734.5\" y=\"-1465.8\" font-family=\"Helvetica,sans-Serif\" font-size=\"14.00\" fill=\"#000000\">gini = 0.123</text>\n<text text-anchor=\"middle\" x=\"734.5\" y=\"-1450.8\" font-family=\"Helvetica,sans-Serif\" font-size=\"14.00\" fill=\"#000000\">samples = 666</text>\n<text text-anchor=\"middle\" x=\"734.5\" y=\"-1435.8\" font-family=\"Helvetica,sans-Serif\" font-size=\"14.00\" fill=\"#000000\">value = [622, 44]</text>\n<text text-anchor=\"middle\" x=\"734.5\" y=\"-1420.8\" font-family=\"Helvetica,sans-Serif\" font-size=\"14.00\" fill=\"#000000\">class = 0.0</text>\n</g>\n<!-- 1 -->\n<g id=\"node2\" class=\"node\">\n<title>1</title>\n<polygon fill=\"#e5823b\" stroke=\"#000000\" points=\"745,-1377 552,-1377 552,-1294 745,-1294 745,-1377\"/>\n<text text-anchor=\"middle\" x=\"648.5\" y=\"-1361.8\" font-family=\"Helvetica,sans-Serif\" font-size=\"14.00\" fill=\"#000000\">STDs:genital herpes &lt;= 0.5</text>\n<text text-anchor=\"middle\" x=\"648.5\" y=\"-1346.8\" font-family=\"Helvetica,sans-Serif\" font-size=\"14.00\" fill=\"#000000\">gini = 0.023</text>\n<text text-anchor=\"middle\" x=\"648.5\" y=\"-1331.8\" font-family=\"Helvetica,sans-Serif\" font-size=\"14.00\" fill=\"#000000\">samples = 614</text>\n<text text-anchor=\"middle\" x=\"648.5\" y=\"-1316.8\" font-family=\"Helvetica,sans-Serif\" font-size=\"14.00\" fill=\"#000000\">value = [607, 7]</text>\n<text text-anchor=\"middle\" x=\"648.5\" y=\"-1301.8\" font-family=\"Helvetica,sans-Serif\" font-size=\"14.00\" fill=\"#000000\">class = 0.0</text>\n</g>\n<!-- 0&#45;&gt;1 -->\n<g id=\"edge1\" class=\"edge\">\n<title>0&#45;&gt;1</title>\n<path fill=\"none\" stroke=\"#000000\" d=\"M704.4214,-1412.8796C698.0428,-1404.0534 691.246,-1394.6485 684.6681,-1385.5466\"/>\n<polygon fill=\"#000000\" stroke=\"#000000\" points=\"687.4012,-1383.353 678.707,-1377.2981 681.7277,-1387.4532 687.4012,-1383.353\"/>\n<text text-anchor=\"middle\" x=\"674.7338\" y=\"-1398.2803\" font-family=\"Helvetica,sans-Serif\" font-size=\"14.00\" fill=\"#000000\">True</text>\n</g>\n<!-- 30 -->\n<g id=\"node31\" class=\"node\">\n<title>30</title>\n<polygon fill=\"#89c5f0\" stroke=\"#000000\" points=\"879.5,-1377 763.5,-1377 763.5,-1294 879.5,-1294 879.5,-1377\"/>\n<text text-anchor=\"middle\" x=\"821.5\" y=\"-1361.8\" font-family=\"Helvetica,sans-Serif\" font-size=\"14.00\" fill=\"#000000\">Age &lt;= 0.09</text>\n<text text-anchor=\"middle\" x=\"821.5\" y=\"-1346.8\" font-family=\"Helvetica,sans-Serif\" font-size=\"14.00\" fill=\"#000000\">gini = 0.411</text>\n<text text-anchor=\"middle\" x=\"821.5\" y=\"-1331.8\" font-family=\"Helvetica,sans-Serif\" font-size=\"14.00\" fill=\"#000000\">samples = 52</text>\n<text text-anchor=\"middle\" x=\"821.5\" y=\"-1316.8\" font-family=\"Helvetica,sans-Serif\" font-size=\"14.00\" fill=\"#000000\">value = [15, 37]</text>\n<text text-anchor=\"middle\" x=\"821.5\" y=\"-1301.8\" font-family=\"Helvetica,sans-Serif\" font-size=\"14.00\" fill=\"#000000\">class = 1.0</text>\n</g>\n<!-- 0&#45;&gt;30 -->\n<g id=\"edge30\" class=\"edge\">\n<title>0&#45;&gt;30</title>\n<path fill=\"none\" stroke=\"#000000\" d=\"M764.9284,-1412.8796C771.3811,-1404.0534 778.257,-1394.6485 784.9113,-1385.5466\"/>\n<polygon fill=\"#000000\" stroke=\"#000000\" points=\"787.8653,-1387.4364 790.9417,-1377.2981 782.2144,-1383.3051 787.8653,-1387.4364\"/>\n<text text-anchor=\"middle\" x=\"794.7792\" y=\"-1398.3018\" font-family=\"Helvetica,sans-Serif\" font-size=\"14.00\" fill=\"#000000\">False</text>\n</g>\n<!-- 2 -->\n<g id=\"node3\" class=\"node\">\n<title>2</title>\n<polygon fill=\"#e5823b\" stroke=\"#000000\" points=\"594.5,-1258 478.5,-1258 478.5,-1175 594.5,-1175 594.5,-1258\"/>\n<text text-anchor=\"middle\" x=\"536.5\" y=\"-1242.8\" font-family=\"Helvetica,sans-Serif\" font-size=\"14.00\" fill=\"#000000\">Dx:CIN &lt;= 0.5</text>\n<text text-anchor=\"middle\" x=\"536.5\" y=\"-1227.8\" font-family=\"Helvetica,sans-Serif\" font-size=\"14.00\" fill=\"#000000\">gini = 0.019</text>\n<text text-anchor=\"middle\" x=\"536.5\" y=\"-1212.8\" font-family=\"Helvetica,sans-Serif\" font-size=\"14.00\" fill=\"#000000\">samples = 613</text>\n<text text-anchor=\"middle\" x=\"536.5\" y=\"-1197.8\" font-family=\"Helvetica,sans-Serif\" font-size=\"14.00\" fill=\"#000000\">value = [607, 6]</text>\n<text text-anchor=\"middle\" x=\"536.5\" y=\"-1182.8\" font-family=\"Helvetica,sans-Serif\" font-size=\"14.00\" fill=\"#000000\">class = 0.0</text>\n</g>\n<!-- 1&#45;&gt;2 -->\n<g id=\"edge2\" class=\"edge\">\n<title>1&#45;&gt;2</title>\n<path fill=\"none\" stroke=\"#000000\" d=\"M609.3278,-1293.8796C600.7665,-1284.7832 591.6268,-1275.0722 582.8168,-1265.7116\"/>\n<polygon fill=\"#000000\" stroke=\"#000000\" points=\"585.2417,-1263.1813 575.8394,-1258.2981 580.1443,-1267.9789 585.2417,-1263.1813\"/>\n</g>\n<!-- 29 -->\n<g id=\"node30\" class=\"node\">\n<title>29</title>\n<polygon fill=\"#399de5\" stroke=\"#000000\" points=\"712,-1250.5 613,-1250.5 613,-1182.5 712,-1182.5 712,-1250.5\"/>\n<text text-anchor=\"middle\" x=\"662.5\" y=\"-1235.3\" font-family=\"Helvetica,sans-Serif\" font-size=\"14.00\" fill=\"#000000\">gini = 0.0</text>\n<text text-anchor=\"middle\" x=\"662.5\" y=\"-1220.3\" font-family=\"Helvetica,sans-Serif\" font-size=\"14.00\" fill=\"#000000\">samples = 1</text>\n<text text-anchor=\"middle\" x=\"662.5\" y=\"-1205.3\" font-family=\"Helvetica,sans-Serif\" font-size=\"14.00\" fill=\"#000000\">value = [0, 1]</text>\n<text text-anchor=\"middle\" x=\"662.5\" y=\"-1190.3\" font-family=\"Helvetica,sans-Serif\" font-size=\"14.00\" fill=\"#000000\">class = 1.0</text>\n</g>\n<!-- 1&#45;&gt;29 -->\n<g id=\"edge29\" class=\"edge\">\n<title>1&#45;&gt;29</title>\n<path fill=\"none\" stroke=\"#000000\" d=\"M653.3965,-1293.8796C654.6514,-1283.2134 656.0056,-1271.7021 657.2763,-1260.9015\"/>\n<polygon fill=\"#000000\" stroke=\"#000000\" points=\"660.7705,-1261.1554 658.4629,-1250.8149 653.8184,-1260.3375 660.7705,-1261.1554\"/>\n</g>\n<!-- 3 -->\n<g id=\"node4\" class=\"node\">\n<title>3</title>\n<polygon fill=\"#e5823a\" stroke=\"#000000\" points=\"470,-1139 243,-1139 243,-1056 470,-1056 470,-1139\"/>\n<text text-anchor=\"middle\" x=\"356.5\" y=\"-1123.8\" font-family=\"Helvetica,sans-Serif\" font-size=\"14.00\" fill=\"#000000\">First sexual intercourse &lt;= 0.114</text>\n<text text-anchor=\"middle\" x=\"356.5\" y=\"-1108.8\" font-family=\"Helvetica,sans-Serif\" font-size=\"14.00\" fill=\"#000000\">gini = 0.013</text>\n<text text-anchor=\"middle\" x=\"356.5\" y=\"-1093.8\" font-family=\"Helvetica,sans-Serif\" font-size=\"14.00\" fill=\"#000000\">samples = 606</text>\n<text text-anchor=\"middle\" x=\"356.5\" y=\"-1078.8\" font-family=\"Helvetica,sans-Serif\" font-size=\"14.00\" fill=\"#000000\">value = [602, 4]</text>\n<text text-anchor=\"middle\" x=\"356.5\" y=\"-1063.8\" font-family=\"Helvetica,sans-Serif\" font-size=\"14.00\" fill=\"#000000\">class = 0.0</text>\n</g>\n<!-- 2&#45;&gt;3 -->\n<g id=\"edge3\" class=\"edge\">\n<title>2&#45;&gt;3</title>\n<path fill=\"none\" stroke=\"#000000\" d=\"M478.0592,-1177.8641C462.062,-1167.2882 444.5417,-1155.7053 427.9074,-1144.7082\"/>\n<polygon fill=\"#000000\" stroke=\"#000000\" points=\"429.5743,-1141.6145 419.3022,-1139.0193 425.7139,-1147.4538 429.5743,-1141.6145\"/>\n</g>\n<!-- 26 -->\n<g id=\"node27\" class=\"node\">\n<title>26</title>\n<polygon fill=\"#efb388\" stroke=\"#000000\" points=\"592.5,-1139 488.5,-1139 488.5,-1056 592.5,-1056 592.5,-1139\"/>\n<text text-anchor=\"middle\" x=\"540.5\" y=\"-1123.8\" font-family=\"Helvetica,sans-Serif\" font-size=\"14.00\" fill=\"#000000\">Age &lt;= 0.256</text>\n<text text-anchor=\"middle\" x=\"540.5\" y=\"-1108.8\" font-family=\"Helvetica,sans-Serif\" font-size=\"14.00\" fill=\"#000000\">gini = 0.408</text>\n<text text-anchor=\"middle\" x=\"540.5\" y=\"-1093.8\" font-family=\"Helvetica,sans-Serif\" font-size=\"14.00\" fill=\"#000000\">samples = 7</text>\n<text text-anchor=\"middle\" x=\"540.5\" y=\"-1078.8\" font-family=\"Helvetica,sans-Serif\" font-size=\"14.00\" fill=\"#000000\">value = [5, 2]</text>\n<text text-anchor=\"middle\" x=\"540.5\" y=\"-1063.8\" font-family=\"Helvetica,sans-Serif\" font-size=\"14.00\" fill=\"#000000\">class = 0.0</text>\n</g>\n<!-- 2&#45;&gt;26 -->\n<g id=\"edge26\" class=\"edge\">\n<title>2&#45;&gt;26</title>\n<path fill=\"none\" stroke=\"#000000\" d=\"M537.899,-1174.8796C538.1745,-1166.6838 538.4668,-1157.9891 538.7521,-1149.5013\"/>\n<polygon fill=\"#000000\" stroke=\"#000000\" points=\"542.257,-1149.41 539.095,-1139.2981 535.261,-1149.1748 542.257,-1149.41\"/>\n</g>\n<!-- 4 -->\n<g id=\"node5\" class=\"node\">\n<title>4</title>\n<polygon fill=\"#ea9a61\" stroke=\"#000000\" points=\"285.5,-1020 37.5,-1020 37.5,-937 285.5,-937 285.5,-1020\"/>\n<text text-anchor=\"middle\" x=\"161.5\" y=\"-1004.8\" font-family=\"Helvetica,sans-Serif\" font-size=\"14.00\" fill=\"#000000\">Number of sexual partners &lt;= 0.036</text>\n<text text-anchor=\"middle\" x=\"161.5\" y=\"-989.8\" font-family=\"Helvetica,sans-Serif\" font-size=\"14.00\" fill=\"#000000\">gini = 0.278</text>\n<text text-anchor=\"middle\" x=\"161.5\" y=\"-974.8\" font-family=\"Helvetica,sans-Serif\" font-size=\"14.00\" fill=\"#000000\">samples = 6</text>\n<text text-anchor=\"middle\" x=\"161.5\" y=\"-959.8\" font-family=\"Helvetica,sans-Serif\" font-size=\"14.00\" fill=\"#000000\">value = [5, 1]</text>\n<text text-anchor=\"middle\" x=\"161.5\" y=\"-944.8\" font-family=\"Helvetica,sans-Serif\" font-size=\"14.00\" fill=\"#000000\">class = 0.0</text>\n</g>\n<!-- 3&#45;&gt;4 -->\n<g id=\"edge4\" class=\"edge\">\n<title>3&#45;&gt;4</title>\n<path fill=\"none\" stroke=\"#000000\" d=\"M288.2985,-1055.8796C272.1184,-1046.0056 254.7517,-1035.4075 238.2208,-1025.3193\"/>\n<polygon fill=\"#000000\" stroke=\"#000000\" points=\"240.0223,-1022.3185 229.663,-1020.0969 236.3759,-1028.2938 240.0223,-1022.3185\"/>\n</g>\n<!-- 7 -->\n<g id=\"node8\" class=\"node\">\n<title>7</title>\n<polygon fill=\"#e5823a\" stroke=\"#000000\" points=\"419.5,-1020 303.5,-1020 303.5,-937 419.5,-937 419.5,-1020\"/>\n<text text-anchor=\"middle\" x=\"361.5\" y=\"-1004.8\" font-family=\"Helvetica,sans-Serif\" font-size=\"14.00\" fill=\"#000000\">Citology &lt;= 0.5</text>\n<text text-anchor=\"middle\" x=\"361.5\" y=\"-989.8\" font-family=\"Helvetica,sans-Serif\" font-size=\"14.00\" fill=\"#000000\">gini = 0.01</text>\n<text text-anchor=\"middle\" x=\"361.5\" y=\"-974.8\" font-family=\"Helvetica,sans-Serif\" font-size=\"14.00\" fill=\"#000000\">samples = 600</text>\n<text text-anchor=\"middle\" x=\"361.5\" y=\"-959.8\" font-family=\"Helvetica,sans-Serif\" font-size=\"14.00\" fill=\"#000000\">value = [597, 3]</text>\n<text text-anchor=\"middle\" x=\"361.5\" y=\"-944.8\" font-family=\"Helvetica,sans-Serif\" font-size=\"14.00\" fill=\"#000000\">class = 0.0</text>\n</g>\n<!-- 3&#45;&gt;7 -->\n<g id=\"edge7\" class=\"edge\">\n<title>3&#45;&gt;7</title>\n<path fill=\"none\" stroke=\"#000000\" d=\"M358.2488,-1055.8796C358.5931,-1047.6838 358.9584,-1038.9891 359.3151,-1030.5013\"/>\n<polygon fill=\"#000000\" stroke=\"#000000\" points=\"362.8208,-1030.4362 359.7438,-1020.2981 355.827,-1030.1423 362.8208,-1030.4362\"/>\n</g>\n<!-- 5 -->\n<g id=\"node6\" class=\"node\">\n<title>5</title>\n<polygon fill=\"#399de5\" stroke=\"#000000\" points=\"99,-893.5 0,-893.5 0,-825.5 99,-825.5 99,-893.5\"/>\n<text text-anchor=\"middle\" x=\"49.5\" y=\"-878.3\" font-family=\"Helvetica,sans-Serif\" font-size=\"14.00\" fill=\"#000000\">gini = 0.0</text>\n<text text-anchor=\"middle\" x=\"49.5\" y=\"-863.3\" font-family=\"Helvetica,sans-Serif\" font-size=\"14.00\" fill=\"#000000\">samples = 1</text>\n<text text-anchor=\"middle\" x=\"49.5\" y=\"-848.3\" font-family=\"Helvetica,sans-Serif\" font-size=\"14.00\" fill=\"#000000\">value = [0, 1]</text>\n<text text-anchor=\"middle\" x=\"49.5\" y=\"-833.3\" font-family=\"Helvetica,sans-Serif\" font-size=\"14.00\" fill=\"#000000\">class = 1.0</text>\n</g>\n<!-- 4&#45;&gt;5 -->\n<g id=\"edge5\" class=\"edge\">\n<title>4&#45;&gt;5</title>\n<path fill=\"none\" stroke=\"#000000\" d=\"M122.3278,-936.8796C111.4611,-925.3337 99.6624,-912.7976 88.7891,-901.2446\"/>\n<polygon fill=\"#000000\" stroke=\"#000000\" points=\"91.1988,-898.6982 81.7964,-893.8149 86.1014,-903.4958 91.1988,-898.6982\"/>\n</g>\n<!-- 6 -->\n<g id=\"node7\" class=\"node\">\n<title>6</title>\n<polygon fill=\"#e58139\" stroke=\"#000000\" points=\"216,-893.5 117,-893.5 117,-825.5 216,-825.5 216,-893.5\"/>\n<text text-anchor=\"middle\" x=\"166.5\" y=\"-878.3\" font-family=\"Helvetica,sans-Serif\" font-size=\"14.00\" fill=\"#000000\">gini = 0.0</text>\n<text text-anchor=\"middle\" x=\"166.5\" y=\"-863.3\" font-family=\"Helvetica,sans-Serif\" font-size=\"14.00\" fill=\"#000000\">samples = 5</text>\n<text text-anchor=\"middle\" x=\"166.5\" y=\"-848.3\" font-family=\"Helvetica,sans-Serif\" font-size=\"14.00\" fill=\"#000000\">value = [5, 0]</text>\n<text text-anchor=\"middle\" x=\"166.5\" y=\"-833.3\" font-family=\"Helvetica,sans-Serif\" font-size=\"14.00\" fill=\"#000000\">class = 0.0</text>\n</g>\n<!-- 4&#45;&gt;6 -->\n<g id=\"edge6\" class=\"edge\">\n<title>4&#45;&gt;6</title>\n<path fill=\"none\" stroke=\"#000000\" d=\"M163.2488,-936.8796C163.6969,-926.2134 164.1806,-914.7021 164.6344,-903.9015\"/>\n<polygon fill=\"#000000\" stroke=\"#000000\" points=\"168.1352,-903.9531 165.0582,-893.8149 161.1414,-903.6592 168.1352,-903.9531\"/>\n</g>\n<!-- 8 -->\n<g id=\"node9\" class=\"node\">\n<title>8</title>\n<polygon fill=\"#e5813a\" stroke=\"#000000\" points=\"470,-901 243,-901 243,-818 470,-818 470,-901\"/>\n<text text-anchor=\"middle\" x=\"356.5\" y=\"-885.8\" font-family=\"Helvetica,sans-Serif\" font-size=\"14.00\" fill=\"#000000\">First sexual intercourse &lt;= 0.205</text>\n<text text-anchor=\"middle\" x=\"356.5\" y=\"-870.8\" font-family=\"Helvetica,sans-Serif\" font-size=\"14.00\" fill=\"#000000\">gini = 0.007</text>\n<text text-anchor=\"middle\" x=\"356.5\" y=\"-855.8\" font-family=\"Helvetica,sans-Serif\" font-size=\"14.00\" fill=\"#000000\">samples = 584</text>\n<text text-anchor=\"middle\" x=\"356.5\" y=\"-840.8\" font-family=\"Helvetica,sans-Serif\" font-size=\"14.00\" fill=\"#000000\">value = [582, 2]</text>\n<text text-anchor=\"middle\" x=\"356.5\" y=\"-825.8\" font-family=\"Helvetica,sans-Serif\" font-size=\"14.00\" fill=\"#000000\">class = 0.0</text>\n</g>\n<!-- 7&#45;&gt;8 -->\n<g id=\"edge8\" class=\"edge\">\n<title>7&#45;&gt;8</title>\n<path fill=\"none\" stroke=\"#000000\" d=\"M359.7512,-936.8796C359.4069,-928.6838 359.0416,-919.9891 358.6849,-911.5013\"/>\n<polygon fill=\"#000000\" stroke=\"#000000\" points=\"362.173,-911.1423 358.2562,-901.2981 355.1792,-911.4362 362.173,-911.1423\"/>\n</g>\n<!-- 19 -->\n<g id=\"node20\" class=\"node\">\n<title>19</title>\n<polygon fill=\"#e78946\" stroke=\"#000000\" points=\"736.5,-901 488.5,-901 488.5,-818 736.5,-818 736.5,-901\"/>\n<text text-anchor=\"middle\" x=\"612.5\" y=\"-885.8\" font-family=\"Helvetica,sans-Serif\" font-size=\"14.00\" fill=\"#000000\">Number of sexual partners &lt;= 0.107</text>\n<text text-anchor=\"middle\" x=\"612.5\" y=\"-870.8\" font-family=\"Helvetica,sans-Serif\" font-size=\"14.00\" fill=\"#000000\">gini = 0.117</text>\n<text text-anchor=\"middle\" x=\"612.5\" y=\"-855.8\" font-family=\"Helvetica,sans-Serif\" font-size=\"14.00\" fill=\"#000000\">samples = 16</text>\n<text text-anchor=\"middle\" x=\"612.5\" y=\"-840.8\" font-family=\"Helvetica,sans-Serif\" font-size=\"14.00\" fill=\"#000000\">value = [15, 1]</text>\n<text text-anchor=\"middle\" x=\"612.5\" y=\"-825.8\" font-family=\"Helvetica,sans-Serif\" font-size=\"14.00\" fill=\"#000000\">class = 0.0</text>\n</g>\n<!-- 7&#45;&gt;19 -->\n<g id=\"edge19\" class=\"edge\">\n<title>7&#45;&gt;19</title>\n<path fill=\"none\" stroke=\"#000000\" d=\"M419.7153,-950.8999C448.1759,-937.4066 483.191,-920.8059 515.5358,-905.4711\"/>\n<polygon fill=\"#000000\" stroke=\"#000000\" points=\"517.0437,-908.6297 524.5802,-901.1831 514.0448,-902.3045 517.0437,-908.6297\"/>\n</g>\n<!-- 9 -->\n<g id=\"node10\" class=\"node\">\n<title>9</title>\n<polygon fill=\"#e6853f\" stroke=\"#000000\" points=\"294.5,-782 86.5,-782 86.5,-699 294.5,-699 294.5,-782\"/>\n<text text-anchor=\"middle\" x=\"190.5\" y=\"-766.8\" font-family=\"Helvetica,sans-Serif\" font-size=\"14.00\" fill=\"#000000\">Num of pregnancies &lt;= 0.438</text>\n<text text-anchor=\"middle\" x=\"190.5\" y=\"-751.8\" font-family=\"Helvetica,sans-Serif\" font-size=\"14.00\" fill=\"#000000\">gini = 0.054</text>\n<text text-anchor=\"middle\" x=\"190.5\" y=\"-736.8\" font-family=\"Helvetica,sans-Serif\" font-size=\"14.00\" fill=\"#000000\">samples = 72</text>\n<text text-anchor=\"middle\" x=\"190.5\" y=\"-721.8\" font-family=\"Helvetica,sans-Serif\" font-size=\"14.00\" fill=\"#000000\">value = [70, 2]</text>\n<text text-anchor=\"middle\" x=\"190.5\" y=\"-706.8\" font-family=\"Helvetica,sans-Serif\" font-size=\"14.00\" fill=\"#000000\">class = 0.0</text>\n</g>\n<!-- 8&#45;&gt;9 -->\n<g id=\"edge9\" class=\"edge\">\n<title>8&#45;&gt;9</title>\n<path fill=\"none\" stroke=\"#000000\" d=\"M298.4413,-817.8796C285.0466,-808.2774 270.6965,-797.9903 256.9745,-788.1534\"/>\n<polygon fill=\"#000000\" stroke=\"#000000\" points=\"258.6926,-785.0786 248.526,-782.0969 254.6142,-790.7678 258.6926,-785.0786\"/>\n</g>\n<!-- 18 -->\n<g id=\"node19\" class=\"node\">\n<title>18</title>\n<polygon fill=\"#e58139\" stroke=\"#000000\" points=\"428.5,-774.5 312.5,-774.5 312.5,-706.5 428.5,-706.5 428.5,-774.5\"/>\n<text text-anchor=\"middle\" x=\"370.5\" y=\"-759.3\" font-family=\"Helvetica,sans-Serif\" font-size=\"14.00\" fill=\"#000000\">gini = 0.0</text>\n<text text-anchor=\"middle\" x=\"370.5\" y=\"-744.3\" font-family=\"Helvetica,sans-Serif\" font-size=\"14.00\" fill=\"#000000\">samples = 512</text>\n<text text-anchor=\"middle\" x=\"370.5\" y=\"-729.3\" font-family=\"Helvetica,sans-Serif\" font-size=\"14.00\" fill=\"#000000\">value = [512, 0]</text>\n<text text-anchor=\"middle\" x=\"370.5\" y=\"-714.3\" font-family=\"Helvetica,sans-Serif\" font-size=\"14.00\" fill=\"#000000\">class = 0.0</text>\n</g>\n<!-- 8&#45;&gt;18 -->\n<g id=\"edge18\" class=\"edge\">\n<title>8&#45;&gt;18</title>\n<path fill=\"none\" stroke=\"#000000\" d=\"M361.3965,-817.8796C362.6514,-807.2134 364.0056,-795.7021 365.2763,-784.9015\"/>\n<polygon fill=\"#000000\" stroke=\"#000000\" points=\"368.7705,-785.1554 366.4629,-774.8149 361.8184,-784.3375 368.7705,-785.1554\"/>\n</g>\n<!-- 10 -->\n<g id=\"node11\" class=\"node\">\n<title>10</title>\n<polygon fill=\"#e58139\" stroke=\"#000000\" points=\"182,-655.5 75,-655.5 75,-587.5 182,-587.5 182,-655.5\"/>\n<text text-anchor=\"middle\" x=\"128.5\" y=\"-640.3\" font-family=\"Helvetica,sans-Serif\" font-size=\"14.00\" fill=\"#000000\">gini = 0.0</text>\n<text text-anchor=\"middle\" x=\"128.5\" y=\"-625.3\" font-family=\"Helvetica,sans-Serif\" font-size=\"14.00\" fill=\"#000000\">samples = 61</text>\n<text text-anchor=\"middle\" x=\"128.5\" y=\"-610.3\" font-family=\"Helvetica,sans-Serif\" font-size=\"14.00\" fill=\"#000000\">value = [61, 0]</text>\n<text text-anchor=\"middle\" x=\"128.5\" y=\"-595.3\" font-family=\"Helvetica,sans-Serif\" font-size=\"14.00\" fill=\"#000000\">class = 0.0</text>\n</g>\n<!-- 9&#45;&gt;10 -->\n<g id=\"edge10\" class=\"edge\">\n<title>9&#45;&gt;10</title>\n<path fill=\"none\" stroke=\"#000000\" d=\"M168.8154,-698.8796C163.0864,-687.8835 156.8894,-675.9893 151.1126,-664.9015\"/>\n<polygon fill=\"#000000\" stroke=\"#000000\" points=\"154.103,-663.0662 146.3784,-655.8149 147.895,-666.3007 154.103,-663.0662\"/>\n</g>\n<!-- 11 -->\n<g id=\"node12\" class=\"node\">\n<title>11</title>\n<polygon fill=\"#eb9d65\" stroke=\"#000000\" points=\"304.5,-663 200.5,-663 200.5,-580 304.5,-580 304.5,-663\"/>\n<text text-anchor=\"middle\" x=\"252.5\" y=\"-647.8\" font-family=\"Helvetica,sans-Serif\" font-size=\"14.00\" fill=\"#000000\">Age &lt;= 0.218</text>\n<text text-anchor=\"middle\" x=\"252.5\" y=\"-632.8\" font-family=\"Helvetica,sans-Serif\" font-size=\"14.00\" fill=\"#000000\">gini = 0.298</text>\n<text text-anchor=\"middle\" x=\"252.5\" y=\"-617.8\" font-family=\"Helvetica,sans-Serif\" font-size=\"14.00\" fill=\"#000000\">samples = 11</text>\n<text text-anchor=\"middle\" x=\"252.5\" y=\"-602.8\" font-family=\"Helvetica,sans-Serif\" font-size=\"14.00\" fill=\"#000000\">value = [9, 2]</text>\n<text text-anchor=\"middle\" x=\"252.5\" y=\"-587.8\" font-family=\"Helvetica,sans-Serif\" font-size=\"14.00\" fill=\"#000000\">class = 0.0</text>\n</g>\n<!-- 9&#45;&gt;11 -->\n<g id=\"edge11\" class=\"edge\">\n<title>9&#45;&gt;11</title>\n<path fill=\"none\" stroke=\"#000000\" d=\"M212.1846,-698.8796C216.6423,-690.3236 221.3834,-681.2238 225.9894,-672.3833\"/>\n<polygon fill=\"#000000\" stroke=\"#000000\" points=\"229.2062,-673.7838 230.7229,-663.2981 222.9983,-670.5494 229.2062,-673.7838\"/>\n</g>\n<!-- 12 -->\n<g id=\"node13\" class=\"node\">\n<title>12</title>\n<polygon fill=\"#399de5\" stroke=\"#000000\" points=\"208,-536.5 109,-536.5 109,-468.5 208,-468.5 208,-536.5\"/>\n<text text-anchor=\"middle\" x=\"158.5\" y=\"-521.3\" font-family=\"Helvetica,sans-Serif\" font-size=\"14.00\" fill=\"#000000\">gini = 0.0</text>\n<text text-anchor=\"middle\" x=\"158.5\" y=\"-506.3\" font-family=\"Helvetica,sans-Serif\" font-size=\"14.00\" fill=\"#000000\">samples = 1</text>\n<text text-anchor=\"middle\" x=\"158.5\" y=\"-491.3\" font-family=\"Helvetica,sans-Serif\" font-size=\"14.00\" fill=\"#000000\">value = [0, 1]</text>\n<text text-anchor=\"middle\" x=\"158.5\" y=\"-476.3\" font-family=\"Helvetica,sans-Serif\" font-size=\"14.00\" fill=\"#000000\">class = 1.0</text>\n</g>\n<!-- 11&#45;&gt;12 -->\n<g id=\"edge12\" class=\"edge\">\n<title>11&#45;&gt;12</title>\n<path fill=\"none\" stroke=\"#000000\" d=\"M219.6234,-579.8796C210.6768,-568.5536 200.9776,-556.2748 191.9971,-544.9058\"/>\n<polygon fill=\"#000000\" stroke=\"#000000\" points=\"194.551,-542.4926 185.6059,-536.8149 189.058,-546.8316 194.551,-542.4926\"/>\n</g>\n<!-- 13 -->\n<g id=\"node14\" class=\"node\">\n<title>13</title>\n<polygon fill=\"#e88f4f\" stroke=\"#000000\" points=\"466.5,-544 226.5,-544 226.5,-461 466.5,-461 466.5,-544\"/>\n<text text-anchor=\"middle\" x=\"346.5\" y=\"-528.8\" font-family=\"Helvetica,sans-Serif\" font-size=\"14.00\" fill=\"#000000\">Number of sexual partners &lt;= 0.25</text>\n<text text-anchor=\"middle\" x=\"346.5\" y=\"-513.8\" font-family=\"Helvetica,sans-Serif\" font-size=\"14.00\" fill=\"#000000\">gini = 0.18</text>\n<text text-anchor=\"middle\" x=\"346.5\" y=\"-498.8\" font-family=\"Helvetica,sans-Serif\" font-size=\"14.00\" fill=\"#000000\">samples = 10</text>\n<text text-anchor=\"middle\" x=\"346.5\" y=\"-483.8\" font-family=\"Helvetica,sans-Serif\" font-size=\"14.00\" fill=\"#000000\">value = [9, 1]</text>\n<text text-anchor=\"middle\" x=\"346.5\" y=\"-468.8\" font-family=\"Helvetica,sans-Serif\" font-size=\"14.00\" fill=\"#000000\">class = 0.0</text>\n</g>\n<!-- 11&#45;&gt;13 -->\n<g id=\"edge13\" class=\"edge\">\n<title>11&#45;&gt;13</title>\n<path fill=\"none\" stroke=\"#000000\" d=\"M285.3766,-579.8796C292.4197,-570.9633 299.9293,-561.4565 307.1874,-552.268\"/>\n<polygon fill=\"#000000\" stroke=\"#000000\" points=\"310.0309,-554.3147 313.483,-544.2981 304.5379,-549.9757 310.0309,-554.3147\"/>\n</g>\n<!-- 14 -->\n<g id=\"node15\" class=\"node\">\n<title>14</title>\n<polygon fill=\"#e58139\" stroke=\"#000000\" points=\"337,-417.5 238,-417.5 238,-349.5 337,-349.5 337,-417.5\"/>\n<text text-anchor=\"middle\" x=\"287.5\" y=\"-402.3\" font-family=\"Helvetica,sans-Serif\" font-size=\"14.00\" fill=\"#000000\">gini = 0.0</text>\n<text text-anchor=\"middle\" x=\"287.5\" y=\"-387.3\" font-family=\"Helvetica,sans-Serif\" font-size=\"14.00\" fill=\"#000000\">samples = 8</text>\n<text text-anchor=\"middle\" x=\"287.5\" y=\"-372.3\" font-family=\"Helvetica,sans-Serif\" font-size=\"14.00\" fill=\"#000000\">value = [8, 0]</text>\n<text text-anchor=\"middle\" x=\"287.5\" y=\"-357.3\" font-family=\"Helvetica,sans-Serif\" font-size=\"14.00\" fill=\"#000000\">class = 0.0</text>\n</g>\n<!-- 13&#45;&gt;14 -->\n<g id=\"edge14\" class=\"edge\">\n<title>13&#45;&gt;14</title>\n<path fill=\"none\" stroke=\"#000000\" d=\"M325.8647,-460.8796C320.4128,-449.8835 314.5157,-437.9893 309.0184,-426.9015\"/>\n<polygon fill=\"#000000\" stroke=\"#000000\" points=\"312.0911,-425.2195 304.5133,-417.8149 305.8196,-428.3289 312.0911,-425.2195\"/>\n</g>\n<!-- 15 -->\n<g id=\"node16\" class=\"node\">\n<title>15</title>\n<polygon fill=\"#ffffff\" stroke=\"#000000\" points=\"454,-425 355,-425 355,-342 454,-342 454,-425\"/>\n<text text-anchor=\"middle\" x=\"404.5\" y=\"-409.8\" font-family=\"Helvetica,sans-Serif\" font-size=\"14.00\" fill=\"#000000\">IUD &lt;= 0.5</text>\n<text text-anchor=\"middle\" x=\"404.5\" y=\"-394.8\" font-family=\"Helvetica,sans-Serif\" font-size=\"14.00\" fill=\"#000000\">gini = 0.5</text>\n<text text-anchor=\"middle\" x=\"404.5\" y=\"-379.8\" font-family=\"Helvetica,sans-Serif\" font-size=\"14.00\" fill=\"#000000\">samples = 2</text>\n<text text-anchor=\"middle\" x=\"404.5\" y=\"-364.8\" font-family=\"Helvetica,sans-Serif\" font-size=\"14.00\" fill=\"#000000\">value = [1, 1]</text>\n<text text-anchor=\"middle\" x=\"404.5\" y=\"-349.8\" font-family=\"Helvetica,sans-Serif\" font-size=\"14.00\" fill=\"#000000\">class = 0.0</text>\n</g>\n<!-- 13&#45;&gt;15 -->\n<g id=\"edge15\" class=\"edge\">\n<title>13&#45;&gt;15</title>\n<path fill=\"none\" stroke=\"#000000\" d=\"M366.7856,-460.8796C370.9557,-452.3236 375.3909,-443.2238 379.6997,-434.3833\"/>\n<polygon fill=\"#000000\" stroke=\"#000000\" points=\"382.8927,-435.8207 384.1278,-425.2981 376.6003,-432.7538 382.8927,-435.8207\"/>\n</g>\n<!-- 16 -->\n<g id=\"node17\" class=\"node\">\n<title>16</title>\n<polygon fill=\"#399de5\" stroke=\"#000000\" points=\"396,-298.5 297,-298.5 297,-230.5 396,-230.5 396,-298.5\"/>\n<text text-anchor=\"middle\" x=\"346.5\" y=\"-283.3\" font-family=\"Helvetica,sans-Serif\" font-size=\"14.00\" fill=\"#000000\">gini = 0.0</text>\n<text text-anchor=\"middle\" x=\"346.5\" y=\"-268.3\" font-family=\"Helvetica,sans-Serif\" font-size=\"14.00\" fill=\"#000000\">samples = 1</text>\n<text text-anchor=\"middle\" x=\"346.5\" y=\"-253.3\" font-family=\"Helvetica,sans-Serif\" font-size=\"14.00\" fill=\"#000000\">value = [0, 1]</text>\n<text text-anchor=\"middle\" x=\"346.5\" y=\"-238.3\" font-family=\"Helvetica,sans-Serif\" font-size=\"14.00\" fill=\"#000000\">class = 1.0</text>\n</g>\n<!-- 15&#45;&gt;16 -->\n<g id=\"edge16\" class=\"edge\">\n<title>15&#45;&gt;16</title>\n<path fill=\"none\" stroke=\"#000000\" d=\"M384.2144,-341.8796C378.855,-330.8835 373.0578,-318.9893 367.6537,-307.9015\"/>\n<polygon fill=\"#000000\" stroke=\"#000000\" points=\"370.7524,-306.2706 363.2249,-298.8149 364.46,-309.3375 370.7524,-306.2706\"/>\n</g>\n<!-- 17 -->\n<g id=\"node18\" class=\"node\">\n<title>17</title>\n<polygon fill=\"#e58139\" stroke=\"#000000\" points=\"513,-298.5 414,-298.5 414,-230.5 513,-230.5 513,-298.5\"/>\n<text text-anchor=\"middle\" x=\"463.5\" y=\"-283.3\" font-family=\"Helvetica,sans-Serif\" font-size=\"14.00\" fill=\"#000000\">gini = 0.0</text>\n<text text-anchor=\"middle\" x=\"463.5\" y=\"-268.3\" font-family=\"Helvetica,sans-Serif\" font-size=\"14.00\" fill=\"#000000\">samples = 1</text>\n<text text-anchor=\"middle\" x=\"463.5\" y=\"-253.3\" font-family=\"Helvetica,sans-Serif\" font-size=\"14.00\" fill=\"#000000\">value = [1, 0]</text>\n<text text-anchor=\"middle\" x=\"463.5\" y=\"-238.3\" font-family=\"Helvetica,sans-Serif\" font-size=\"14.00\" fill=\"#000000\">class = 0.0</text>\n</g>\n<!-- 15&#45;&gt;17 -->\n<g id=\"edge17\" class=\"edge\">\n<title>15&#45;&gt;17</title>\n<path fill=\"none\" stroke=\"#000000\" d=\"M425.1353,-341.8796C430.5872,-330.8835 436.4843,-318.9893 441.9816,-307.9015\"/>\n<polygon fill=\"#000000\" stroke=\"#000000\" points=\"445.1804,-309.3289 446.4867,-298.8149 438.9089,-306.2195 445.1804,-309.3289\"/>\n</g>\n<!-- 20 -->\n<g id=\"node21\" class=\"node\">\n<title>20</title>\n<polygon fill=\"#e58139\" stroke=\"#000000\" points=\"608,-774.5 509,-774.5 509,-706.5 608,-706.5 608,-774.5\"/>\n<text text-anchor=\"middle\" x=\"558.5\" y=\"-759.3\" font-family=\"Helvetica,sans-Serif\" font-size=\"14.00\" fill=\"#000000\">gini = 0.0</text>\n<text text-anchor=\"middle\" x=\"558.5\" y=\"-744.3\" font-family=\"Helvetica,sans-Serif\" font-size=\"14.00\" fill=\"#000000\">samples = 9</text>\n<text text-anchor=\"middle\" x=\"558.5\" y=\"-729.3\" font-family=\"Helvetica,sans-Serif\" font-size=\"14.00\" fill=\"#000000\">value = [9, 0]</text>\n<text text-anchor=\"middle\" x=\"558.5\" y=\"-714.3\" font-family=\"Helvetica,sans-Serif\" font-size=\"14.00\" fill=\"#000000\">class = 0.0</text>\n</g>\n<!-- 19&#45;&gt;20 -->\n<g id=\"edge20\" class=\"edge\">\n<title>19&#45;&gt;20</title>\n<path fill=\"none\" stroke=\"#000000\" d=\"M593.6134,-817.8796C588.6735,-806.9935 583.3341,-795.227 578.3459,-784.2344\"/>\n<polygon fill=\"#000000\" stroke=\"#000000\" points=\"581.391,-782.4749 574.0715,-774.8149 575.0166,-785.3675 581.391,-782.4749\"/>\n</g>\n<!-- 21 -->\n<g id=\"node22\" class=\"node\">\n<title>21</title>\n<polygon fill=\"#e9965a\" stroke=\"#000000\" points=\"853,-782 626,-782 626,-699 853,-699 853,-782\"/>\n<text text-anchor=\"middle\" x=\"739.5\" y=\"-766.8\" font-family=\"Helvetica,sans-Serif\" font-size=\"14.00\" fill=\"#000000\">First sexual intercourse &lt;= 0.295</text>\n<text text-anchor=\"middle\" x=\"739.5\" y=\"-751.8\" font-family=\"Helvetica,sans-Serif\" font-size=\"14.00\" fill=\"#000000\">gini = 0.245</text>\n<text text-anchor=\"middle\" x=\"739.5\" y=\"-736.8\" font-family=\"Helvetica,sans-Serif\" font-size=\"14.00\" fill=\"#000000\">samples = 7</text>\n<text text-anchor=\"middle\" x=\"739.5\" y=\"-721.8\" font-family=\"Helvetica,sans-Serif\" font-size=\"14.00\" fill=\"#000000\">value = [6, 1]</text>\n<text text-anchor=\"middle\" x=\"739.5\" y=\"-706.8\" font-family=\"Helvetica,sans-Serif\" font-size=\"14.00\" fill=\"#000000\">class = 0.0</text>\n</g>\n<!-- 19&#45;&gt;21 -->\n<g id=\"edge21\" class=\"edge\">\n<title>19&#45;&gt;21</title>\n<path fill=\"none\" stroke=\"#000000\" d=\"M656.9184,-817.8796C666.8186,-808.6031 677.4009,-798.6874 687.5731,-789.1559\"/>\n<polygon fill=\"#000000\" stroke=\"#000000\" points=\"689.9879,-791.6896 694.892,-782.2981 685.2016,-786.5816 689.9879,-791.6896\"/>\n</g>\n<!-- 22 -->\n<g id=\"node23\" class=\"node\">\n<title>22</title>\n<polygon fill=\"#e58139\" stroke=\"#000000\" points=\"615,-655.5 516,-655.5 516,-587.5 615,-587.5 615,-655.5\"/>\n<text text-anchor=\"middle\" x=\"565.5\" y=\"-640.3\" font-family=\"Helvetica,sans-Serif\" font-size=\"14.00\" fill=\"#000000\">gini = 0.0</text>\n<text text-anchor=\"middle\" x=\"565.5\" y=\"-625.3\" font-family=\"Helvetica,sans-Serif\" font-size=\"14.00\" fill=\"#000000\">samples = 5</text>\n<text text-anchor=\"middle\" x=\"565.5\" y=\"-610.3\" font-family=\"Helvetica,sans-Serif\" font-size=\"14.00\" fill=\"#000000\">value = [5, 0]</text>\n<text text-anchor=\"middle\" x=\"565.5\" y=\"-595.3\" font-family=\"Helvetica,sans-Serif\" font-size=\"14.00\" fill=\"#000000\">class = 0.0</text>\n</g>\n<!-- 21&#45;&gt;22 -->\n<g id=\"edge22\" class=\"edge\">\n<title>21&#45;&gt;22</title>\n<path fill=\"none\" stroke=\"#000000\" d=\"M676.3399,-698.8339C659.1266,-687.3341 640.5321,-674.7785 623.5,-663 622.7426,-662.4762 621.9802,-661.9478 621.2139,-661.4156\"/>\n<polygon fill=\"#000000\" stroke=\"#000000\" points=\"623.0921,-658.4582 612.8911,-655.5964 619.081,-664.195 623.0921,-658.4582\"/>\n</g>\n<!-- 23 -->\n<g id=\"node24\" class=\"node\">\n<title>23</title>\n<polygon fill=\"#ffffff\" stroke=\"#000000\" points=\"860,-663 633,-663 633,-580 860,-580 860,-663\"/>\n<text text-anchor=\"middle\" x=\"746.5\" y=\"-647.8\" font-family=\"Helvetica,sans-Serif\" font-size=\"14.00\" fill=\"#000000\">First sexual intercourse &lt;= 0.364</text>\n<text text-anchor=\"middle\" x=\"746.5\" y=\"-632.8\" font-family=\"Helvetica,sans-Serif\" font-size=\"14.00\" fill=\"#000000\">gini = 0.5</text>\n<text text-anchor=\"middle\" x=\"746.5\" y=\"-617.8\" font-family=\"Helvetica,sans-Serif\" font-size=\"14.00\" fill=\"#000000\">samples = 2</text>\n<text text-anchor=\"middle\" x=\"746.5\" y=\"-602.8\" font-family=\"Helvetica,sans-Serif\" font-size=\"14.00\" fill=\"#000000\">value = [1, 1]</text>\n<text text-anchor=\"middle\" x=\"746.5\" y=\"-587.8\" font-family=\"Helvetica,sans-Serif\" font-size=\"14.00\" fill=\"#000000\">class = 0.0</text>\n</g>\n<!-- 21&#45;&gt;23 -->\n<g id=\"edge23\" class=\"edge\">\n<title>21&#45;&gt;23</title>\n<path fill=\"none\" stroke=\"#000000\" d=\"M741.9483,-698.8796C742.4304,-690.6838 742.9418,-681.9891 743.4411,-673.5013\"/>\n<polygon fill=\"#000000\" stroke=\"#000000\" points=\"746.9479,-673.4864 744.0413,-663.2981 739.96,-673.0753 746.9479,-673.4864\"/>\n</g>\n<!-- 24 -->\n<g id=\"node25\" class=\"node\">\n<title>24</title>\n<polygon fill=\"#399de5\" stroke=\"#000000\" points=\"742,-536.5 643,-536.5 643,-468.5 742,-468.5 742,-536.5\"/>\n<text text-anchor=\"middle\" x=\"692.5\" y=\"-521.3\" font-family=\"Helvetica,sans-Serif\" font-size=\"14.00\" fill=\"#000000\">gini = 0.0</text>\n<text text-anchor=\"middle\" x=\"692.5\" y=\"-506.3\" font-family=\"Helvetica,sans-Serif\" font-size=\"14.00\" fill=\"#000000\">samples = 1</text>\n<text text-anchor=\"middle\" x=\"692.5\" y=\"-491.3\" font-family=\"Helvetica,sans-Serif\" font-size=\"14.00\" fill=\"#000000\">value = [0, 1]</text>\n<text text-anchor=\"middle\" x=\"692.5\" y=\"-476.3\" font-family=\"Helvetica,sans-Serif\" font-size=\"14.00\" fill=\"#000000\">class = 1.0</text>\n</g>\n<!-- 23&#45;&gt;24 -->\n<g id=\"edge24\" class=\"edge\">\n<title>23&#45;&gt;24</title>\n<path fill=\"none\" stroke=\"#000000\" d=\"M727.6134,-579.8796C722.6735,-568.9935 717.3341,-557.227 712.3459,-546.2344\"/>\n<polygon fill=\"#000000\" stroke=\"#000000\" points=\"715.391,-544.4749 708.0715,-536.8149 709.0166,-547.3675 715.391,-544.4749\"/>\n</g>\n<!-- 25 -->\n<g id=\"node26\" class=\"node\">\n<title>25</title>\n<polygon fill=\"#e58139\" stroke=\"#000000\" points=\"859,-536.5 760,-536.5 760,-468.5 859,-468.5 859,-536.5\"/>\n<text text-anchor=\"middle\" x=\"809.5\" y=\"-521.3\" font-family=\"Helvetica,sans-Serif\" font-size=\"14.00\" fill=\"#000000\">gini = 0.0</text>\n<text text-anchor=\"middle\" x=\"809.5\" y=\"-506.3\" font-family=\"Helvetica,sans-Serif\" font-size=\"14.00\" fill=\"#000000\">samples = 1</text>\n<text text-anchor=\"middle\" x=\"809.5\" y=\"-491.3\" font-family=\"Helvetica,sans-Serif\" font-size=\"14.00\" fill=\"#000000\">value = [1, 0]</text>\n<text text-anchor=\"middle\" x=\"809.5\" y=\"-476.3\" font-family=\"Helvetica,sans-Serif\" font-size=\"14.00\" fill=\"#000000\">class = 0.0</text>\n</g>\n<!-- 23&#45;&gt;25 -->\n<g id=\"edge25\" class=\"edge\">\n<title>23&#45;&gt;25</title>\n<path fill=\"none\" stroke=\"#000000\" d=\"M768.5343,-579.8796C774.3558,-568.8835 780.6527,-556.9893 786.5227,-545.9015\"/>\n<polygon fill=\"#000000\" stroke=\"#000000\" points=\"789.7476,-547.2905 791.3333,-536.8149 783.5611,-544.0152 789.7476,-547.2905\"/>\n</g>\n<!-- 27 -->\n<g id=\"node28\" class=\"node\">\n<title>27</title>\n<polygon fill=\"#399de5\" stroke=\"#000000\" points=\"561,-1012.5 462,-1012.5 462,-944.5 561,-944.5 561,-1012.5\"/>\n<text text-anchor=\"middle\" x=\"511.5\" y=\"-997.3\" font-family=\"Helvetica,sans-Serif\" font-size=\"14.00\" fill=\"#000000\">gini = 0.0</text>\n<text text-anchor=\"middle\" x=\"511.5\" y=\"-982.3\" font-family=\"Helvetica,sans-Serif\" font-size=\"14.00\" fill=\"#000000\">samples = 2</text>\n<text text-anchor=\"middle\" x=\"511.5\" y=\"-967.3\" font-family=\"Helvetica,sans-Serif\" font-size=\"14.00\" fill=\"#000000\">value = [0, 2]</text>\n<text text-anchor=\"middle\" x=\"511.5\" y=\"-952.3\" font-family=\"Helvetica,sans-Serif\" font-size=\"14.00\" fill=\"#000000\">class = 1.0</text>\n</g>\n<!-- 26&#45;&gt;27 -->\n<g id=\"edge27\" class=\"edge\">\n<title>26&#45;&gt;27</title>\n<path fill=\"none\" stroke=\"#000000\" d=\"M530.3572,-1055.8796C527.7311,-1045.1034 524.8948,-1033.4647 522.2392,-1022.5677\"/>\n<polygon fill=\"#000000\" stroke=\"#000000\" points=\"525.6307,-1021.7019 519.8625,-1012.8149 518.8297,-1023.3593 525.6307,-1021.7019\"/>\n</g>\n<!-- 28 -->\n<g id=\"node29\" class=\"node\">\n<title>28</title>\n<polygon fill=\"#e58139\" stroke=\"#000000\" points=\"678,-1012.5 579,-1012.5 579,-944.5 678,-944.5 678,-1012.5\"/>\n<text text-anchor=\"middle\" x=\"628.5\" y=\"-997.3\" font-family=\"Helvetica,sans-Serif\" font-size=\"14.00\" fill=\"#000000\">gini = 0.0</text>\n<text text-anchor=\"middle\" x=\"628.5\" y=\"-982.3\" font-family=\"Helvetica,sans-Serif\" font-size=\"14.00\" fill=\"#000000\">samples = 5</text>\n<text text-anchor=\"middle\" x=\"628.5\" y=\"-967.3\" font-family=\"Helvetica,sans-Serif\" font-size=\"14.00\" fill=\"#000000\">value = [5, 0]</text>\n<text text-anchor=\"middle\" x=\"628.5\" y=\"-952.3\" font-family=\"Helvetica,sans-Serif\" font-size=\"14.00\" fill=\"#000000\">class = 0.0</text>\n</g>\n<!-- 26&#45;&gt;28 -->\n<g id=\"edge28\" class=\"edge\">\n<title>26&#45;&gt;28</title>\n<path fill=\"none\" stroke=\"#000000\" d=\"M571.2781,-1055.8796C579.6536,-1044.5536 588.7338,-1032.2748 597.1411,-1020.9058\"/>\n<polygon fill=\"#000000\" stroke=\"#000000\" points=\"599.9925,-1022.9364 603.1242,-1012.8149 594.3643,-1018.7743 599.9925,-1022.9364\"/>\n</g>\n<!-- 31 -->\n<g id=\"node32\" class=\"node\">\n<title>31</title>\n<polygon fill=\"#e58139\" stroke=\"#000000\" points=\"857,-1250.5 758,-1250.5 758,-1182.5 857,-1182.5 857,-1250.5\"/>\n<text text-anchor=\"middle\" x=\"807.5\" y=\"-1235.3\" font-family=\"Helvetica,sans-Serif\" font-size=\"14.00\" fill=\"#000000\">gini = 0.0</text>\n<text text-anchor=\"middle\" x=\"807.5\" y=\"-1220.3\" font-family=\"Helvetica,sans-Serif\" font-size=\"14.00\" fill=\"#000000\">samples = 3</text>\n<text text-anchor=\"middle\" x=\"807.5\" y=\"-1205.3\" font-family=\"Helvetica,sans-Serif\" font-size=\"14.00\" fill=\"#000000\">value = [3, 0]</text>\n<text text-anchor=\"middle\" x=\"807.5\" y=\"-1190.3\" font-family=\"Helvetica,sans-Serif\" font-size=\"14.00\" fill=\"#000000\">class = 0.0</text>\n</g>\n<!-- 30&#45;&gt;31 -->\n<g id=\"edge31\" class=\"edge\">\n<title>30&#45;&gt;31</title>\n<path fill=\"none\" stroke=\"#000000\" d=\"M816.6035,-1293.8796C815.3486,-1283.2134 813.9944,-1271.7021 812.7237,-1260.9015\"/>\n<polygon fill=\"#000000\" stroke=\"#000000\" points=\"816.1816,-1260.3375 811.5371,-1250.8149 809.2295,-1261.1554 816.1816,-1260.3375\"/>\n</g>\n<!-- 32 -->\n<g id=\"node33\" class=\"node\">\n<title>32</title>\n<polygon fill=\"#79bded\" stroke=\"#000000\" points=\"1083.5,-1258 875.5,-1258 875.5,-1175 1083.5,-1175 1083.5,-1258\"/>\n<text text-anchor=\"middle\" x=\"979.5\" y=\"-1242.8\" font-family=\"Helvetica,sans-Serif\" font-size=\"14.00\" fill=\"#000000\">Num of pregnancies &lt;= 0.625</text>\n<text text-anchor=\"middle\" x=\"979.5\" y=\"-1227.8\" font-family=\"Helvetica,sans-Serif\" font-size=\"14.00\" fill=\"#000000\">gini = 0.37</text>\n<text text-anchor=\"middle\" x=\"979.5\" y=\"-1212.8\" font-family=\"Helvetica,sans-Serif\" font-size=\"14.00\" fill=\"#000000\">samples = 49</text>\n<text text-anchor=\"middle\" x=\"979.5\" y=\"-1197.8\" font-family=\"Helvetica,sans-Serif\" font-size=\"14.00\" fill=\"#000000\">value = [12, 37]</text>\n<text text-anchor=\"middle\" x=\"979.5\" y=\"-1182.8\" font-family=\"Helvetica,sans-Serif\" font-size=\"14.00\" fill=\"#000000\">class = 1.0</text>\n</g>\n<!-- 30&#45;&gt;32 -->\n<g id=\"edge32\" class=\"edge\">\n<title>30&#45;&gt;32</title>\n<path fill=\"none\" stroke=\"#000000\" d=\"M876.7607,-1293.8796C889.5099,-1284.2774 903.1683,-1273.9903 916.2291,-1264.1534\"/>\n<polygon fill=\"#000000\" stroke=\"#000000\" points=\"918.3883,-1266.9089 924.2705,-1258.0969 914.1769,-1261.3174 918.3883,-1266.9089\"/>\n</g>\n<!-- 33 -->\n<g id=\"node34\" class=\"node\">\n<title>33</title>\n<polygon fill=\"#6fb7ec\" stroke=\"#000000\" points=\"1059,-1139 832,-1139 832,-1056 1059,-1056 1059,-1139\"/>\n<text text-anchor=\"middle\" x=\"945.5\" y=\"-1123.8\" font-family=\"Helvetica,sans-Serif\" font-size=\"14.00\" fill=\"#000000\">First sexual intercourse &lt;= 0.205</text>\n<text text-anchor=\"middle\" x=\"945.5\" y=\"-1108.8\" font-family=\"Helvetica,sans-Serif\" font-size=\"14.00\" fill=\"#000000\">gini = 0.335</text>\n<text text-anchor=\"middle\" x=\"945.5\" y=\"-1093.8\" font-family=\"Helvetica,sans-Serif\" font-size=\"14.00\" fill=\"#000000\">samples = 47</text>\n<text text-anchor=\"middle\" x=\"945.5\" y=\"-1078.8\" font-family=\"Helvetica,sans-Serif\" font-size=\"14.00\" fill=\"#000000\">value = [10, 37]</text>\n<text text-anchor=\"middle\" x=\"945.5\" y=\"-1063.8\" font-family=\"Helvetica,sans-Serif\" font-size=\"14.00\" fill=\"#000000\">class = 1.0</text>\n</g>\n<!-- 32&#45;&gt;33 -->\n<g id=\"edge33\" class=\"edge\">\n<title>32&#45;&gt;33</title>\n<path fill=\"none\" stroke=\"#000000\" d=\"M967.6084,-1174.8796C965.2153,-1166.5037 962.6733,-1157.6067 960.1977,-1148.942\"/>\n<polygon fill=\"#000000\" stroke=\"#000000\" points=\"963.5549,-1147.9518 957.4423,-1139.2981 956.8243,-1149.8749 963.5549,-1147.9518\"/>\n</g>\n<!-- 60 -->\n<g id=\"node61\" class=\"node\">\n<title>60</title>\n<polygon fill=\"#e58139\" stroke=\"#000000\" points=\"1176,-1131.5 1077,-1131.5 1077,-1063.5 1176,-1063.5 1176,-1131.5\"/>\n<text text-anchor=\"middle\" x=\"1126.5\" y=\"-1116.3\" font-family=\"Helvetica,sans-Serif\" font-size=\"14.00\" fill=\"#000000\">gini = 0.0</text>\n<text text-anchor=\"middle\" x=\"1126.5\" y=\"-1101.3\" font-family=\"Helvetica,sans-Serif\" font-size=\"14.00\" fill=\"#000000\">samples = 2</text>\n<text text-anchor=\"middle\" x=\"1126.5\" y=\"-1086.3\" font-family=\"Helvetica,sans-Serif\" font-size=\"14.00\" fill=\"#000000\">value = [2, 0]</text>\n<text text-anchor=\"middle\" x=\"1126.5\" y=\"-1071.3\" font-family=\"Helvetica,sans-Serif\" font-size=\"14.00\" fill=\"#000000\">class = 0.0</text>\n</g>\n<!-- 32&#45;&gt;60 -->\n<g id=\"edge60\" class=\"edge\">\n<title>32&#45;&gt;60</title>\n<path fill=\"none\" stroke=\"#000000\" d=\"M1030.9135,-1174.8796C1045.5835,-1163.0038 1061.5477,-1150.0804 1076.1533,-1138.2568\"/>\n<polygon fill=\"#000000\" stroke=\"#000000\" points=\"1078.5407,-1140.8273 1084.111,-1131.8149 1074.1363,-1135.3866 1078.5407,-1140.8273\"/>\n</g>\n<!-- 34 -->\n<g id=\"node35\" class=\"node\">\n<title>34</title>\n<polygon fill=\"#f6d5bd\" stroke=\"#000000\" points=\"1044,-1020 829,-1020 829,-937 1044,-937 1044,-1020\"/>\n<text text-anchor=\"middle\" x=\"936.5\" y=\"-1004.8\" font-family=\"Helvetica,sans-Serif\" font-size=\"14.00\" fill=\"#000000\">Smokes (packs/year) &lt;= 0.045</text>\n<text text-anchor=\"middle\" x=\"936.5\" y=\"-989.8\" font-family=\"Helvetica,sans-Serif\" font-size=\"14.00\" fill=\"#000000\">gini = 0.48</text>\n<text text-anchor=\"middle\" x=\"936.5\" y=\"-974.8\" font-family=\"Helvetica,sans-Serif\" font-size=\"14.00\" fill=\"#000000\">samples = 5</text>\n<text text-anchor=\"middle\" x=\"936.5\" y=\"-959.8\" font-family=\"Helvetica,sans-Serif\" font-size=\"14.00\" fill=\"#000000\">value = [3, 2]</text>\n<text text-anchor=\"middle\" x=\"936.5\" y=\"-944.8\" font-family=\"Helvetica,sans-Serif\" font-size=\"14.00\" fill=\"#000000\">class = 0.0</text>\n</g>\n<!-- 33&#45;&gt;34 -->\n<g id=\"edge34\" class=\"edge\">\n<title>33&#45;&gt;34</title>\n<path fill=\"none\" stroke=\"#000000\" d=\"M942.3522,-1055.8796C941.7324,-1047.6838 941.0748,-1038.9891 940.4329,-1030.5013\"/>\n<polygon fill=\"#000000\" stroke=\"#000000\" points=\"943.9055,-1030.0056 939.6612,-1020.2981 936.9254,-1030.5336 943.9055,-1030.0056\"/>\n</g>\n<!-- 37 -->\n<g id=\"node38\" class=\"node\">\n<title>37</title>\n<polygon fill=\"#61b1ea\" stroke=\"#000000\" points=\"1213,-1020 1062,-1020 1062,-937 1213,-937 1213,-1020\"/>\n<text text-anchor=\"middle\" x=\"1137.5\" y=\"-1004.8\" font-family=\"Helvetica,sans-Serif\" font-size=\"14.00\" fill=\"#000000\">IUD (years) &lt;= 0.237</text>\n<text text-anchor=\"middle\" x=\"1137.5\" y=\"-989.8\" font-family=\"Helvetica,sans-Serif\" font-size=\"14.00\" fill=\"#000000\">gini = 0.278</text>\n<text text-anchor=\"middle\" x=\"1137.5\" y=\"-974.8\" font-family=\"Helvetica,sans-Serif\" font-size=\"14.00\" fill=\"#000000\">samples = 42</text>\n<text text-anchor=\"middle\" x=\"1137.5\" y=\"-959.8\" font-family=\"Helvetica,sans-Serif\" font-size=\"14.00\" fill=\"#000000\">value = [7, 35]</text>\n<text text-anchor=\"middle\" x=\"1137.5\" y=\"-944.8\" font-family=\"Helvetica,sans-Serif\" font-size=\"14.00\" fill=\"#000000\">class = 1.0</text>\n</g>\n<!-- 33&#45;&gt;37 -->\n<g id=\"edge37\" class=\"edge\">\n<title>33&#45;&gt;37</title>\n<path fill=\"none\" stroke=\"#000000\" d=\"M1012.6523,-1055.8796C1028.4372,-1046.0962 1045.3693,-1035.6019 1061.5114,-1025.5971\"/>\n<polygon fill=\"#000000\" stroke=\"#000000\" points=\"1063.7297,-1028.34 1070.3856,-1020.0969 1060.0419,-1022.3901 1063.7297,-1028.34\"/>\n</g>\n<!-- 35 -->\n<g id=\"node36\" class=\"node\">\n<title>35</title>\n<polygon fill=\"#e58139\" stroke=\"#000000\" points=\"871,-893.5 772,-893.5 772,-825.5 871,-825.5 871,-893.5\"/>\n<text text-anchor=\"middle\" x=\"821.5\" y=\"-878.3\" font-family=\"Helvetica,sans-Serif\" font-size=\"14.00\" fill=\"#000000\">gini = 0.0</text>\n<text text-anchor=\"middle\" x=\"821.5\" y=\"-863.3\" font-family=\"Helvetica,sans-Serif\" font-size=\"14.00\" fill=\"#000000\">samples = 3</text>\n<text text-anchor=\"middle\" x=\"821.5\" y=\"-848.3\" font-family=\"Helvetica,sans-Serif\" font-size=\"14.00\" fill=\"#000000\">value = [3, 0]</text>\n<text text-anchor=\"middle\" x=\"821.5\" y=\"-833.3\" font-family=\"Helvetica,sans-Serif\" font-size=\"14.00\" fill=\"#000000\">class = 0.0</text>\n</g>\n<!-- 34&#45;&gt;35 -->\n<g id=\"edge35\" class=\"edge\">\n<title>34&#45;&gt;35</title>\n<path fill=\"none\" stroke=\"#000000\" d=\"M896.2786,-936.8796C885.1208,-925.3337 873.0061,-912.7976 861.8414,-901.2446\"/>\n<polygon fill=\"#000000\" stroke=\"#000000\" points=\"864.1275,-898.5736 854.6615,-893.8149 859.0939,-903.4381 864.1275,-898.5736\"/>\n</g>\n<!-- 36 -->\n<g id=\"node37\" class=\"node\">\n<title>36</title>\n<polygon fill=\"#399de5\" stroke=\"#000000\" points=\"988,-893.5 889,-893.5 889,-825.5 988,-825.5 988,-893.5\"/>\n<text text-anchor=\"middle\" x=\"938.5\" y=\"-878.3\" font-family=\"Helvetica,sans-Serif\" font-size=\"14.00\" fill=\"#000000\">gini = 0.0</text>\n<text text-anchor=\"middle\" x=\"938.5\" y=\"-863.3\" font-family=\"Helvetica,sans-Serif\" font-size=\"14.00\" fill=\"#000000\">samples = 2</text>\n<text text-anchor=\"middle\" x=\"938.5\" y=\"-848.3\" font-family=\"Helvetica,sans-Serif\" font-size=\"14.00\" fill=\"#000000\">value = [0, 2]</text>\n<text text-anchor=\"middle\" x=\"938.5\" y=\"-833.3\" font-family=\"Helvetica,sans-Serif\" font-size=\"14.00\" fill=\"#000000\">class = 1.0</text>\n</g>\n<!-- 34&#45;&gt;36 -->\n<g id=\"edge36\" class=\"edge\">\n<title>34&#45;&gt;36</title>\n<path fill=\"none\" stroke=\"#000000\" d=\"M937.1995,-936.8796C937.3788,-926.2134 937.5722,-914.7021 937.7538,-903.9015\"/>\n<polygon fill=\"#000000\" stroke=\"#000000\" points=\"941.2546,-903.8724 937.9233,-893.8149 934.2556,-903.7547 941.2546,-903.8724\"/>\n</g>\n<!-- 38 -->\n<g id=\"node39\" class=\"node\">\n<title>38</title>\n<polygon fill=\"#56abe9\" stroke=\"#000000\" points=\"1264,-901 1009,-901 1009,-818 1264,-818 1264,-901\"/>\n<text text-anchor=\"middle\" x=\"1136.5\" y=\"-885.8\" font-family=\"Helvetica,sans-Serif\" font-size=\"14.00\" fill=\"#000000\">STDs: Number of diagnosis &lt;= 0.667</text>\n<text text-anchor=\"middle\" x=\"1136.5\" y=\"-870.8\" font-family=\"Helvetica,sans-Serif\" font-size=\"14.00\" fill=\"#000000\">gini = 0.224</text>\n<text text-anchor=\"middle\" x=\"1136.5\" y=\"-855.8\" font-family=\"Helvetica,sans-Serif\" font-size=\"14.00\" fill=\"#000000\">samples = 39</text>\n<text text-anchor=\"middle\" x=\"1136.5\" y=\"-840.8\" font-family=\"Helvetica,sans-Serif\" font-size=\"14.00\" fill=\"#000000\">value = [5, 34]</text>\n<text text-anchor=\"middle\" x=\"1136.5\" y=\"-825.8\" font-family=\"Helvetica,sans-Serif\" font-size=\"14.00\" fill=\"#000000\">class = 1.0</text>\n</g>\n<!-- 37&#45;&gt;38 -->\n<g id=\"edge38\" class=\"edge\">\n<title>37&#45;&gt;38</title>\n<path fill=\"none\" stroke=\"#000000\" d=\"M1137.1502,-936.8796C1137.0814,-928.6838 1137.0083,-919.9891 1136.937,-911.5013\"/>\n<polygon fill=\"#000000\" stroke=\"#000000\" points=\"1140.4352,-911.2683 1136.8512,-901.2981 1133.4355,-911.3272 1140.4352,-911.2683\"/>\n</g>\n<!-- 57 -->\n<g id=\"node58\" class=\"node\">\n<title>57</title>\n<polygon fill=\"#f2c09c\" stroke=\"#000000\" points=\"1490.5,-901 1282.5,-901 1282.5,-818 1490.5,-818 1490.5,-901\"/>\n<text text-anchor=\"middle\" x=\"1386.5\" y=\"-885.8\" font-family=\"Helvetica,sans-Serif\" font-size=\"14.00\" fill=\"#000000\">Num of pregnancies &lt;= 0.312</text>\n<text text-anchor=\"middle\" x=\"1386.5\" y=\"-870.8\" font-family=\"Helvetica,sans-Serif\" font-size=\"14.00\" fill=\"#000000\">gini = 0.444</text>\n<text text-anchor=\"middle\" x=\"1386.5\" y=\"-855.8\" font-family=\"Helvetica,sans-Serif\" font-size=\"14.00\" fill=\"#000000\">samples = 3</text>\n<text text-anchor=\"middle\" x=\"1386.5\" y=\"-840.8\" font-family=\"Helvetica,sans-Serif\" font-size=\"14.00\" fill=\"#000000\">value = [2, 1]</text>\n<text text-anchor=\"middle\" x=\"1386.5\" y=\"-825.8\" font-family=\"Helvetica,sans-Serif\" font-size=\"14.00\" fill=\"#000000\">class = 0.0</text>\n</g>\n<!-- 37&#45;&gt;57 -->\n<g id=\"edge57\" class=\"edge\">\n<title>37&#45;&gt;57</title>\n<path fill=\"none\" stroke=\"#000000\" d=\"M1213.2224,-942.3114C1237.4343,-930.7403 1264.5696,-917.772 1290.0512,-905.594\"/>\n<polygon fill=\"#000000\" stroke=\"#000000\" points=\"1291.8425,-908.6171 1299.3559,-901.1472 1288.8241,-902.3013 1291.8425,-908.6171\"/>\n</g>\n<!-- 39 -->\n<g id=\"node40\" class=\"node\">\n<title>39</title>\n<polygon fill=\"#50a9e8\" stroke=\"#000000\" points=\"1096,-782 989,-782 989,-699 1096,-699 1096,-782\"/>\n<text text-anchor=\"middle\" x=\"1042.5\" y=\"-766.8\" font-family=\"Helvetica,sans-Serif\" font-size=\"14.00\" fill=\"#000000\">Age &lt;= 0.667</text>\n<text text-anchor=\"middle\" x=\"1042.5\" y=\"-751.8\" font-family=\"Helvetica,sans-Serif\" font-size=\"14.00\" fill=\"#000000\">gini = 0.188</text>\n<text text-anchor=\"middle\" x=\"1042.5\" y=\"-736.8\" font-family=\"Helvetica,sans-Serif\" font-size=\"14.00\" fill=\"#000000\">samples = 38</text>\n<text text-anchor=\"middle\" x=\"1042.5\" y=\"-721.8\" font-family=\"Helvetica,sans-Serif\" font-size=\"14.00\" fill=\"#000000\">value = [4, 34]</text>\n<text text-anchor=\"middle\" x=\"1042.5\" y=\"-706.8\" font-family=\"Helvetica,sans-Serif\" font-size=\"14.00\" fill=\"#000000\">class = 1.0</text>\n</g>\n<!-- 38&#45;&gt;39 -->\n<g id=\"edge39\" class=\"edge\">\n<title>38&#45;&gt;39</title>\n<path fill=\"none\" stroke=\"#000000\" d=\"M1103.6234,-817.8796C1096.5803,-808.9633 1089.0707,-799.4565 1081.8126,-790.268\"/>\n<polygon fill=\"#000000\" stroke=\"#000000\" points=\"1084.4621,-787.9757 1075.517,-782.2981 1078.9691,-792.3147 1084.4621,-787.9757\"/>\n</g>\n<!-- 56 -->\n<g id=\"node57\" class=\"node\">\n<title>56</title>\n<polygon fill=\"#e58139\" stroke=\"#000000\" points=\"1213,-774.5 1114,-774.5 1114,-706.5 1213,-706.5 1213,-774.5\"/>\n<text text-anchor=\"middle\" x=\"1163.5\" y=\"-759.3\" font-family=\"Helvetica,sans-Serif\" font-size=\"14.00\" fill=\"#000000\">gini = 0.0</text>\n<text text-anchor=\"middle\" x=\"1163.5\" y=\"-744.3\" font-family=\"Helvetica,sans-Serif\" font-size=\"14.00\" fill=\"#000000\">samples = 1</text>\n<text text-anchor=\"middle\" x=\"1163.5\" y=\"-729.3\" font-family=\"Helvetica,sans-Serif\" font-size=\"14.00\" fill=\"#000000\">value = [1, 0]</text>\n<text text-anchor=\"middle\" x=\"1163.5\" y=\"-714.3\" font-family=\"Helvetica,sans-Serif\" font-size=\"14.00\" fill=\"#000000\">class = 0.0</text>\n</g>\n<!-- 38&#45;&gt;56 -->\n<g id=\"edge56\" class=\"edge\">\n<title>38&#45;&gt;56</title>\n<path fill=\"none\" stroke=\"#000000\" d=\"M1145.9433,-817.8796C1148.3883,-807.1034 1151.029,-795.4647 1153.5014,-784.5677\"/>\n<polygon fill=\"#000000\" stroke=\"#000000\" points=\"1156.9148,-785.3415 1155.7143,-774.8149 1150.0883,-783.7926 1156.9148,-785.3415\"/>\n</g>\n<!-- 40 -->\n<g id=\"node41\" class=\"node\">\n<title>40</title>\n<polygon fill=\"#46a3e7\" stroke=\"#000000\" points=\"1088,-663 981,-663 981,-580 1088,-580 1088,-663\"/>\n<text text-anchor=\"middle\" x=\"1034.5\" y=\"-647.8\" font-family=\"Helvetica,sans-Serif\" font-size=\"14.00\" fill=\"#000000\">Age &lt;= 0.269</text>\n<text text-anchor=\"middle\" x=\"1034.5\" y=\"-632.8\" font-family=\"Helvetica,sans-Serif\" font-size=\"14.00\" fill=\"#000000\">gini = 0.114</text>\n<text text-anchor=\"middle\" x=\"1034.5\" y=\"-617.8\" font-family=\"Helvetica,sans-Serif\" font-size=\"14.00\" fill=\"#000000\">samples = 33</text>\n<text text-anchor=\"middle\" x=\"1034.5\" y=\"-602.8\" font-family=\"Helvetica,sans-Serif\" font-size=\"14.00\" fill=\"#000000\">value = [2, 31]</text>\n<text text-anchor=\"middle\" x=\"1034.5\" y=\"-587.8\" font-family=\"Helvetica,sans-Serif\" font-size=\"14.00\" fill=\"#000000\">class = 1.0</text>\n</g>\n<!-- 39&#45;&gt;40 -->\n<g id=\"edge40\" class=\"edge\">\n<title>39&#45;&gt;40</title>\n<path fill=\"none\" stroke=\"#000000\" d=\"M1039.702,-698.8796C1039.151,-690.6838 1038.5665,-681.9891 1037.9959,-673.5013\"/>\n<polygon fill=\"#000000\" stroke=\"#000000\" points=\"1041.4729,-673.0408 1037.31,-663.2981 1034.4887,-673.5103 1041.4729,-673.0408\"/>\n</g>\n<!-- 51 -->\n<g id=\"node52\" class=\"node\">\n<title>51</title>\n<polygon fill=\"#bddef6\" stroke=\"#000000\" points=\"1314.5,-663 1106.5,-663 1106.5,-580 1314.5,-580 1314.5,-663\"/>\n<text text-anchor=\"middle\" x=\"1210.5\" y=\"-647.8\" font-family=\"Helvetica,sans-Serif\" font-size=\"14.00\" fill=\"#000000\">Num of pregnancies &lt;= 0.312</text>\n<text text-anchor=\"middle\" x=\"1210.5\" y=\"-632.8\" font-family=\"Helvetica,sans-Serif\" font-size=\"14.00\" fill=\"#000000\">gini = 0.48</text>\n<text text-anchor=\"middle\" x=\"1210.5\" y=\"-617.8\" font-family=\"Helvetica,sans-Serif\" font-size=\"14.00\" fill=\"#000000\">samples = 5</text>\n<text text-anchor=\"middle\" x=\"1210.5\" y=\"-602.8\" font-family=\"Helvetica,sans-Serif\" font-size=\"14.00\" fill=\"#000000\">value = [2, 3]</text>\n<text text-anchor=\"middle\" x=\"1210.5\" y=\"-587.8\" font-family=\"Helvetica,sans-Serif\" font-size=\"14.00\" fill=\"#000000\">class = 1.0</text>\n</g>\n<!-- 39&#45;&gt;51 -->\n<g id=\"edge51\" class=\"edge\">\n<title>39&#45;&gt;51</title>\n<path fill=\"none\" stroke=\"#000000\" d=\"M1096.1182,-702.5205C1111.2463,-691.8047 1127.8939,-680.0126 1143.6937,-668.8211\"/>\n<polygon fill=\"#000000\" stroke=\"#000000\" points=\"1145.729,-671.6686 1151.8661,-663.0323 1141.6828,-665.9564 1145.729,-671.6686\"/>\n</g>\n<!-- 41 -->\n<g id=\"node42\" class=\"node\">\n<title>41</title>\n<polygon fill=\"#61b1ea\" stroke=\"#000000\" points=\"989,-544 882,-544 882,-461 989,-461 989,-544\"/>\n<text text-anchor=\"middle\" x=\"935.5\" y=\"-528.8\" font-family=\"Helvetica,sans-Serif\" font-size=\"14.00\" fill=\"#000000\">Age &lt;= 0.244</text>\n<text text-anchor=\"middle\" x=\"935.5\" y=\"-513.8\" font-family=\"Helvetica,sans-Serif\" font-size=\"14.00\" fill=\"#000000\">gini = 0.278</text>\n<text text-anchor=\"middle\" x=\"935.5\" y=\"-498.8\" font-family=\"Helvetica,sans-Serif\" font-size=\"14.00\" fill=\"#000000\">samples = 12</text>\n<text text-anchor=\"middle\" x=\"935.5\" y=\"-483.8\" font-family=\"Helvetica,sans-Serif\" font-size=\"14.00\" fill=\"#000000\">value = [2, 10]</text>\n<text text-anchor=\"middle\" x=\"935.5\" y=\"-468.8\" font-family=\"Helvetica,sans-Serif\" font-size=\"14.00\" fill=\"#000000\">class = 1.0</text>\n</g>\n<!-- 40&#45;&gt;41 -->\n<g id=\"edge41\" class=\"edge\">\n<title>40&#45;&gt;41</title>\n<path fill=\"none\" stroke=\"#000000\" d=\"M999.8746,-579.8796C992.382,-570.8733 984.3881,-561.2644 976.6721,-551.9897\"/>\n<polygon fill=\"#000000\" stroke=\"#000000\" points=\"979.3593,-549.7472 970.2732,-544.2981 973.9781,-554.224 979.3593,-549.7472\"/>\n</g>\n<!-- 50 -->\n<g id=\"node51\" class=\"node\">\n<title>50</title>\n<polygon fill=\"#399de5\" stroke=\"#000000\" points=\"1114,-536.5 1007,-536.5 1007,-468.5 1114,-468.5 1114,-536.5\"/>\n<text text-anchor=\"middle\" x=\"1060.5\" y=\"-521.3\" font-family=\"Helvetica,sans-Serif\" font-size=\"14.00\" fill=\"#000000\">gini = 0.0</text>\n<text text-anchor=\"middle\" x=\"1060.5\" y=\"-506.3\" font-family=\"Helvetica,sans-Serif\" font-size=\"14.00\" fill=\"#000000\">samples = 21</text>\n<text text-anchor=\"middle\" x=\"1060.5\" y=\"-491.3\" font-family=\"Helvetica,sans-Serif\" font-size=\"14.00\" fill=\"#000000\">value = [0, 21]</text>\n<text text-anchor=\"middle\" x=\"1060.5\" y=\"-476.3\" font-family=\"Helvetica,sans-Serif\" font-size=\"14.00\" fill=\"#000000\">class = 1.0</text>\n</g>\n<!-- 40&#45;&gt;50 -->\n<g id=\"edge50\" class=\"edge\">\n<title>40&#45;&gt;50</title>\n<path fill=\"none\" stroke=\"#000000\" d=\"M1043.5935,-579.8796C1045.924,-569.2134 1048.439,-557.7021 1050.7988,-546.9015\"/>\n<polygon fill=\"#000000\" stroke=\"#000000\" points=\"1054.2874,-547.3316 1053.0026,-536.8149 1047.4487,-545.8374 1054.2874,-547.3316\"/>\n</g>\n<!-- 42 -->\n<g id=\"node43\" class=\"node\">\n<title>42</title>\n<polygon fill=\"#4da7e8\" stroke=\"#000000\" points=\"963.5,-425 715.5,-425 715.5,-342 963.5,-342 963.5,-425\"/>\n<text text-anchor=\"middle\" x=\"839.5\" y=\"-409.8\" font-family=\"Helvetica,sans-Serif\" font-size=\"14.00\" fill=\"#000000\">Number of sexual partners &lt;= 0.107</text>\n<text text-anchor=\"middle\" x=\"839.5\" y=\"-394.8\" font-family=\"Helvetica,sans-Serif\" font-size=\"14.00\" fill=\"#000000\">gini = 0.165</text>\n<text text-anchor=\"middle\" x=\"839.5\" y=\"-379.8\" font-family=\"Helvetica,sans-Serif\" font-size=\"14.00\" fill=\"#000000\">samples = 11</text>\n<text text-anchor=\"middle\" x=\"839.5\" y=\"-364.8\" font-family=\"Helvetica,sans-Serif\" font-size=\"14.00\" fill=\"#000000\">value = [1, 10]</text>\n<text text-anchor=\"middle\" x=\"839.5\" y=\"-349.8\" font-family=\"Helvetica,sans-Serif\" font-size=\"14.00\" fill=\"#000000\">class = 1.0</text>\n</g>\n<!-- 41&#45;&gt;42 -->\n<g id=\"edge42\" class=\"edge\">\n<title>41&#45;&gt;42</title>\n<path fill=\"none\" stroke=\"#000000\" d=\"M901.9239,-460.8796C894.7309,-451.9633 887.0616,-442.4565 879.649,-433.268\"/>\n<polygon fill=\"#000000\" stroke=\"#000000\" points=\"882.2224,-430.8836 873.2195,-425.2981 876.7742,-435.2788 882.2224,-430.8836\"/>\n</g>\n<!-- 49 -->\n<g id=\"node50\" class=\"node\">\n<title>49</title>\n<polygon fill=\"#e58139\" stroke=\"#000000\" points=\"1081,-417.5 982,-417.5 982,-349.5 1081,-349.5 1081,-417.5\"/>\n<text text-anchor=\"middle\" x=\"1031.5\" y=\"-402.3\" font-family=\"Helvetica,sans-Serif\" font-size=\"14.00\" fill=\"#000000\">gini = 0.0</text>\n<text text-anchor=\"middle\" x=\"1031.5\" y=\"-387.3\" font-family=\"Helvetica,sans-Serif\" font-size=\"14.00\" fill=\"#000000\">samples = 1</text>\n<text text-anchor=\"middle\" x=\"1031.5\" y=\"-372.3\" font-family=\"Helvetica,sans-Serif\" font-size=\"14.00\" fill=\"#000000\">value = [1, 0]</text>\n<text text-anchor=\"middle\" x=\"1031.5\" y=\"-357.3\" font-family=\"Helvetica,sans-Serif\" font-size=\"14.00\" fill=\"#000000\">class = 0.0</text>\n</g>\n<!-- 41&#45;&gt;49 -->\n<g id=\"edge49\" class=\"edge\">\n<title>41&#45;&gt;49</title>\n<path fill=\"none\" stroke=\"#000000\" d=\"M969.0761,-460.8796C978.2131,-449.5536 988.1187,-437.2748 997.2902,-425.9058\"/>\n<polygon fill=\"#000000\" stroke=\"#000000\" points=\"1000.2626,-427.7957 1003.8174,-417.8149 994.8144,-423.4005 1000.2626,-427.7957\"/>\n</g>\n<!-- 43 -->\n<g id=\"node44\" class=\"node\">\n<title>43</title>\n<polygon fill=\"#399de5\" stroke=\"#000000\" points=\"827,-298.5 728,-298.5 728,-230.5 827,-230.5 827,-298.5\"/>\n<text text-anchor=\"middle\" x=\"777.5\" y=\"-283.3\" font-family=\"Helvetica,sans-Serif\" font-size=\"14.00\" fill=\"#000000\">gini = 0.0</text>\n<text text-anchor=\"middle\" x=\"777.5\" y=\"-268.3\" font-family=\"Helvetica,sans-Serif\" font-size=\"14.00\" fill=\"#000000\">samples = 7</text>\n<text text-anchor=\"middle\" x=\"777.5\" y=\"-253.3\" font-family=\"Helvetica,sans-Serif\" font-size=\"14.00\" fill=\"#000000\">value = [0, 7]</text>\n<text text-anchor=\"middle\" x=\"777.5\" y=\"-238.3\" font-family=\"Helvetica,sans-Serif\" font-size=\"14.00\" fill=\"#000000\">class = 1.0</text>\n</g>\n<!-- 42&#45;&gt;43 -->\n<g id=\"edge43\" class=\"edge\">\n<title>42&#45;&gt;43</title>\n<path fill=\"none\" stroke=\"#000000\" d=\"M817.8154,-341.8796C812.0864,-330.8835 805.8894,-318.9893 800.1126,-307.9015\"/>\n<polygon fill=\"#000000\" stroke=\"#000000\" points=\"803.103,-306.0662 795.3784,-298.8149 796.895,-309.3007 803.103,-306.0662\"/>\n</g>\n<!-- 44 -->\n<g id=\"node45\" class=\"node\">\n<title>44</title>\n<polygon fill=\"#7bbeee\" stroke=\"#000000\" points=\"958,-306 845,-306 845,-223 958,-223 958,-306\"/>\n<text text-anchor=\"middle\" x=\"901.5\" y=\"-290.8\" font-family=\"Helvetica,sans-Serif\" font-size=\"14.00\" fill=\"#000000\">Citology &lt;= 0.5</text>\n<text text-anchor=\"middle\" x=\"901.5\" y=\"-275.8\" font-family=\"Helvetica,sans-Serif\" font-size=\"14.00\" fill=\"#000000\">gini = 0.375</text>\n<text text-anchor=\"middle\" x=\"901.5\" y=\"-260.8\" font-family=\"Helvetica,sans-Serif\" font-size=\"14.00\" fill=\"#000000\">samples = 4</text>\n<text text-anchor=\"middle\" x=\"901.5\" y=\"-245.8\" font-family=\"Helvetica,sans-Serif\" font-size=\"14.00\" fill=\"#000000\">value = [1, 3]</text>\n<text text-anchor=\"middle\" x=\"901.5\" y=\"-230.8\" font-family=\"Helvetica,sans-Serif\" font-size=\"14.00\" fill=\"#000000\">class = 1.0</text>\n</g>\n<!-- 42&#45;&gt;44 -->\n<g id=\"edge44\" class=\"edge\">\n<title>42&#45;&gt;44</title>\n<path fill=\"none\" stroke=\"#000000\" d=\"M861.1846,-341.8796C865.6423,-333.3236 870.3834,-324.2238 874.9894,-315.3833\"/>\n<polygon fill=\"#000000\" stroke=\"#000000\" points=\"878.2062,-316.7838 879.7229,-306.2981 871.9983,-313.5494 878.2062,-316.7838\"/>\n</g>\n<!-- 45 -->\n<g id=\"node46\" class=\"node\">\n<title>45</title>\n<polygon fill=\"#ffffff\" stroke=\"#000000\" points=\"919,-187 716,-187 716,-104 919,-104 919,-187\"/>\n<text text-anchor=\"middle\" x=\"817.5\" y=\"-171.8\" font-family=\"Helvetica,sans-Serif\" font-size=\"14.00\" fill=\"#000000\">STDs:condylomatosis &lt;= 0.5</text>\n<text text-anchor=\"middle\" x=\"817.5\" y=\"-156.8\" font-family=\"Helvetica,sans-Serif\" font-size=\"14.00\" fill=\"#000000\">gini = 0.5</text>\n<text text-anchor=\"middle\" x=\"817.5\" y=\"-141.8\" font-family=\"Helvetica,sans-Serif\" font-size=\"14.00\" fill=\"#000000\">samples = 2</text>\n<text text-anchor=\"middle\" x=\"817.5\" y=\"-126.8\" font-family=\"Helvetica,sans-Serif\" font-size=\"14.00\" fill=\"#000000\">value = [1, 1]</text>\n<text text-anchor=\"middle\" x=\"817.5\" y=\"-111.8\" font-family=\"Helvetica,sans-Serif\" font-size=\"14.00\" fill=\"#000000\">class = 0.0</text>\n</g>\n<!-- 44&#45;&gt;45 -->\n<g id=\"edge45\" class=\"edge\">\n<title>44&#45;&gt;45</title>\n<path fill=\"none\" stroke=\"#000000\" d=\"M872.1209,-222.8796C865.8906,-214.0534 859.2519,-204.6485 852.827,-195.5466\"/>\n<polygon fill=\"#000000\" stroke=\"#000000\" points=\"855.6308,-193.4494 847.0045,-187.2981 849.912,-197.4862 855.6308,-193.4494\"/>\n</g>\n<!-- 48 -->\n<g id=\"node49\" class=\"node\">\n<title>48</title>\n<polygon fill=\"#399de5\" stroke=\"#000000\" points=\"1036,-179.5 937,-179.5 937,-111.5 1036,-111.5 1036,-179.5\"/>\n<text text-anchor=\"middle\" x=\"986.5\" y=\"-164.3\" font-family=\"Helvetica,sans-Serif\" font-size=\"14.00\" fill=\"#000000\">gini = 0.0</text>\n<text text-anchor=\"middle\" x=\"986.5\" y=\"-149.3\" font-family=\"Helvetica,sans-Serif\" font-size=\"14.00\" fill=\"#000000\">samples = 2</text>\n<text text-anchor=\"middle\" x=\"986.5\" y=\"-134.3\" font-family=\"Helvetica,sans-Serif\" font-size=\"14.00\" fill=\"#000000\">value = [0, 2]</text>\n<text text-anchor=\"middle\" x=\"986.5\" y=\"-119.3\" font-family=\"Helvetica,sans-Serif\" font-size=\"14.00\" fill=\"#000000\">class = 1.0</text>\n</g>\n<!-- 44&#45;&gt;48 -->\n<g id=\"edge48\" class=\"edge\">\n<title>44&#45;&gt;48</title>\n<path fill=\"none\" stroke=\"#000000\" d=\"M931.2289,-222.8796C939.2403,-211.6636 947.9192,-199.5131 955.9734,-188.2372\"/>\n<polygon fill=\"#000000\" stroke=\"#000000\" points=\"959.025,-189.9866 961.9893,-179.8149 953.3288,-185.9179 959.025,-189.9866\"/>\n</g>\n<!-- 46 -->\n<g id=\"node47\" class=\"node\">\n<title>46</title>\n<polygon fill=\"#e58139\" stroke=\"#000000\" points=\"809,-68 710,-68 710,0 809,0 809,-68\"/>\n<text text-anchor=\"middle\" x=\"759.5\" y=\"-52.8\" font-family=\"Helvetica,sans-Serif\" font-size=\"14.00\" fill=\"#000000\">gini = 0.0</text>\n<text text-anchor=\"middle\" x=\"759.5\" y=\"-37.8\" font-family=\"Helvetica,sans-Serif\" font-size=\"14.00\" fill=\"#000000\">samples = 1</text>\n<text text-anchor=\"middle\" x=\"759.5\" y=\"-22.8\" font-family=\"Helvetica,sans-Serif\" font-size=\"14.00\" fill=\"#000000\">value = [1, 0]</text>\n<text text-anchor=\"middle\" x=\"759.5\" y=\"-7.8\" font-family=\"Helvetica,sans-Serif\" font-size=\"14.00\" fill=\"#000000\">class = 0.0</text>\n</g>\n<!-- 45&#45;&gt;46 -->\n<g id=\"edge46\" class=\"edge\">\n<title>45&#45;&gt;46</title>\n<path fill=\"none\" stroke=\"#000000\" d=\"M795.9029,-103.9815C791.3612,-95.2504 786.5598,-86.0202 781.9863,-77.2281\"/>\n<polygon fill=\"#000000\" stroke=\"#000000\" points=\"785.0431,-75.52 777.3233,-68.2637 778.8331,-78.7504 785.0431,-75.52\"/>\n</g>\n<!-- 47 -->\n<g id=\"node48\" class=\"node\">\n<title>47</title>\n<polygon fill=\"#399de5\" stroke=\"#000000\" points=\"926,-68 827,-68 827,0 926,0 926,-68\"/>\n<text text-anchor=\"middle\" x=\"876.5\" y=\"-52.8\" font-family=\"Helvetica,sans-Serif\" font-size=\"14.00\" fill=\"#000000\">gini = 0.0</text>\n<text text-anchor=\"middle\" x=\"876.5\" y=\"-37.8\" font-family=\"Helvetica,sans-Serif\" font-size=\"14.00\" fill=\"#000000\">samples = 1</text>\n<text text-anchor=\"middle\" x=\"876.5\" y=\"-22.8\" font-family=\"Helvetica,sans-Serif\" font-size=\"14.00\" fill=\"#000000\">value = [0, 1]</text>\n<text text-anchor=\"middle\" x=\"876.5\" y=\"-7.8\" font-family=\"Helvetica,sans-Serif\" font-size=\"14.00\" fill=\"#000000\">class = 1.0</text>\n</g>\n<!-- 45&#45;&gt;47 -->\n<g id=\"edge47\" class=\"edge\">\n<title>45&#45;&gt;47</title>\n<path fill=\"none\" stroke=\"#000000\" d=\"M839.4694,-103.9815C844.0895,-95.2504 848.9736,-86.0202 853.626,-77.2281\"/>\n<polygon fill=\"#000000\" stroke=\"#000000\" points=\"856.7859,-78.7395 858.3694,-68.2637 850.5987,-75.4655 856.7859,-78.7395\"/>\n</g>\n<!-- 52 -->\n<g id=\"node53\" class=\"node\">\n<title>52</title>\n<polygon fill=\"#399de5\" stroke=\"#000000\" points=\"1234,-536.5 1135,-536.5 1135,-468.5 1234,-468.5 1234,-536.5\"/>\n<text text-anchor=\"middle\" x=\"1184.5\" y=\"-521.3\" font-family=\"Helvetica,sans-Serif\" font-size=\"14.00\" fill=\"#000000\">gini = 0.0</text>\n<text text-anchor=\"middle\" x=\"1184.5\" y=\"-506.3\" font-family=\"Helvetica,sans-Serif\" font-size=\"14.00\" fill=\"#000000\">samples = 2</text>\n<text text-anchor=\"middle\" x=\"1184.5\" y=\"-491.3\" font-family=\"Helvetica,sans-Serif\" font-size=\"14.00\" fill=\"#000000\">value = [0, 2]</text>\n<text text-anchor=\"middle\" x=\"1184.5\" y=\"-476.3\" font-family=\"Helvetica,sans-Serif\" font-size=\"14.00\" fill=\"#000000\">class = 1.0</text>\n</g>\n<!-- 51&#45;&gt;52 -->\n<g id=\"edge52\" class=\"edge\">\n<title>51&#45;&gt;52</title>\n<path fill=\"none\" stroke=\"#000000\" d=\"M1201.4065,-579.8796C1199.076,-569.2134 1196.561,-557.7021 1194.2012,-546.9015\"/>\n<polygon fill=\"#000000\" stroke=\"#000000\" points=\"1197.5513,-545.8374 1191.9974,-536.8149 1190.7126,-547.3316 1197.5513,-545.8374\"/>\n</g>\n<!-- 53 -->\n<g id=\"node54\" class=\"node\">\n<title>53</title>\n<polygon fill=\"#f2c09c\" stroke=\"#000000\" points=\"1534.5,-544 1252.5,-544 1252.5,-461 1534.5,-461 1534.5,-544\"/>\n<text text-anchor=\"middle\" x=\"1393.5\" y=\"-528.8\" font-family=\"Helvetica,sans-Serif\" font-size=\"14.00\" fill=\"#000000\">Hormonal Contraceptives (years) &lt;= 0.65</text>\n<text text-anchor=\"middle\" x=\"1393.5\" y=\"-513.8\" font-family=\"Helvetica,sans-Serif\" font-size=\"14.00\" fill=\"#000000\">gini = 0.444</text>\n<text text-anchor=\"middle\" x=\"1393.5\" y=\"-498.8\" font-family=\"Helvetica,sans-Serif\" font-size=\"14.00\" fill=\"#000000\">samples = 3</text>\n<text text-anchor=\"middle\" x=\"1393.5\" y=\"-483.8\" font-family=\"Helvetica,sans-Serif\" font-size=\"14.00\" fill=\"#000000\">value = [2, 1]</text>\n<text text-anchor=\"middle\" x=\"1393.5\" y=\"-468.8\" font-family=\"Helvetica,sans-Serif\" font-size=\"14.00\" fill=\"#000000\">class = 0.0</text>\n</g>\n<!-- 51&#45;&gt;53 -->\n<g id=\"edge53\" class=\"edge\">\n<title>51&#45;&gt;53</title>\n<path fill=\"none\" stroke=\"#000000\" d=\"M1274.5045,-579.8796C1289.5495,-570.0962 1305.6879,-559.6019 1321.0733,-549.5971\"/>\n<polygon fill=\"#000000\" stroke=\"#000000\" points=\"1323.0563,-552.4827 1329.5316,-544.0969 1319.2402,-546.6143 1323.0563,-552.4827\"/>\n</g>\n<!-- 54 -->\n<g id=\"node55\" class=\"node\">\n<title>54</title>\n<polygon fill=\"#e58139\" stroke=\"#000000\" points=\"1384,-417.5 1285,-417.5 1285,-349.5 1384,-349.5 1384,-417.5\"/>\n<text text-anchor=\"middle\" x=\"1334.5\" y=\"-402.3\" font-family=\"Helvetica,sans-Serif\" font-size=\"14.00\" fill=\"#000000\">gini = 0.0</text>\n<text text-anchor=\"middle\" x=\"1334.5\" y=\"-387.3\" font-family=\"Helvetica,sans-Serif\" font-size=\"14.00\" fill=\"#000000\">samples = 2</text>\n<text text-anchor=\"middle\" x=\"1334.5\" y=\"-372.3\" font-family=\"Helvetica,sans-Serif\" font-size=\"14.00\" fill=\"#000000\">value = [2, 0]</text>\n<text text-anchor=\"middle\" x=\"1334.5\" y=\"-357.3\" font-family=\"Helvetica,sans-Serif\" font-size=\"14.00\" fill=\"#000000\">class = 0.0</text>\n</g>\n<!-- 53&#45;&gt;54 -->\n<g id=\"edge54\" class=\"edge\">\n<title>53&#45;&gt;54</title>\n<path fill=\"none\" stroke=\"#000000\" d=\"M1372.8647,-460.8796C1367.4128,-449.8835 1361.5157,-437.9893 1356.0184,-426.9015\"/>\n<polygon fill=\"#000000\" stroke=\"#000000\" points=\"1359.0911,-425.2195 1351.5133,-417.8149 1352.8196,-428.3289 1359.0911,-425.2195\"/>\n</g>\n<!-- 55 -->\n<g id=\"node56\" class=\"node\">\n<title>55</title>\n<polygon fill=\"#399de5\" stroke=\"#000000\" points=\"1501,-417.5 1402,-417.5 1402,-349.5 1501,-349.5 1501,-417.5\"/>\n<text text-anchor=\"middle\" x=\"1451.5\" y=\"-402.3\" font-family=\"Helvetica,sans-Serif\" font-size=\"14.00\" fill=\"#000000\">gini = 0.0</text>\n<text text-anchor=\"middle\" x=\"1451.5\" y=\"-387.3\" font-family=\"Helvetica,sans-Serif\" font-size=\"14.00\" fill=\"#000000\">samples = 1</text>\n<text text-anchor=\"middle\" x=\"1451.5\" y=\"-372.3\" font-family=\"Helvetica,sans-Serif\" font-size=\"14.00\" fill=\"#000000\">value = [0, 1]</text>\n<text text-anchor=\"middle\" x=\"1451.5\" y=\"-357.3\" font-family=\"Helvetica,sans-Serif\" font-size=\"14.00\" fill=\"#000000\">class = 1.0</text>\n</g>\n<!-- 53&#45;&gt;55 -->\n<g id=\"edge55\" class=\"edge\">\n<title>53&#45;&gt;55</title>\n<path fill=\"none\" stroke=\"#000000\" d=\"M1413.7856,-460.8796C1419.145,-449.8835 1424.9422,-437.9893 1430.3463,-426.9015\"/>\n<polygon fill=\"#000000\" stroke=\"#000000\" points=\"1433.54,-428.3375 1434.7751,-417.8149 1427.2476,-425.2706 1433.54,-428.3375\"/>\n</g>\n<!-- 58 -->\n<g id=\"node59\" class=\"node\">\n<title>58</title>\n<polygon fill=\"#e58139\" stroke=\"#000000\" points=\"1377,-774.5 1278,-774.5 1278,-706.5 1377,-706.5 1377,-774.5\"/>\n<text text-anchor=\"middle\" x=\"1327.5\" y=\"-759.3\" font-family=\"Helvetica,sans-Serif\" font-size=\"14.00\" fill=\"#000000\">gini = 0.0</text>\n<text text-anchor=\"middle\" x=\"1327.5\" y=\"-744.3\" font-family=\"Helvetica,sans-Serif\" font-size=\"14.00\" fill=\"#000000\">samples = 2</text>\n<text text-anchor=\"middle\" x=\"1327.5\" y=\"-729.3\" font-family=\"Helvetica,sans-Serif\" font-size=\"14.00\" fill=\"#000000\">value = [2, 0]</text>\n<text text-anchor=\"middle\" x=\"1327.5\" y=\"-714.3\" font-family=\"Helvetica,sans-Serif\" font-size=\"14.00\" fill=\"#000000\">class = 0.0</text>\n</g>\n<!-- 57&#45;&gt;58 -->\n<g id=\"edge58\" class=\"edge\">\n<title>57&#45;&gt;58</title>\n<path fill=\"none\" stroke=\"#000000\" d=\"M1365.8647,-817.8796C1360.4128,-806.8835 1354.5157,-794.9893 1349.0184,-783.9015\"/>\n<polygon fill=\"#000000\" stroke=\"#000000\" points=\"1352.0911,-782.2195 1344.5133,-774.8149 1345.8196,-785.3289 1352.0911,-782.2195\"/>\n</g>\n<!-- 59 -->\n<g id=\"node60\" class=\"node\">\n<title>59</title>\n<polygon fill=\"#399de5\" stroke=\"#000000\" points=\"1494,-774.5 1395,-774.5 1395,-706.5 1494,-706.5 1494,-774.5\"/>\n<text text-anchor=\"middle\" x=\"1444.5\" y=\"-759.3\" font-family=\"Helvetica,sans-Serif\" font-size=\"14.00\" fill=\"#000000\">gini = 0.0</text>\n<text text-anchor=\"middle\" x=\"1444.5\" y=\"-744.3\" font-family=\"Helvetica,sans-Serif\" font-size=\"14.00\" fill=\"#000000\">samples = 1</text>\n<text text-anchor=\"middle\" x=\"1444.5\" y=\"-729.3\" font-family=\"Helvetica,sans-Serif\" font-size=\"14.00\" fill=\"#000000\">value = [0, 1]</text>\n<text text-anchor=\"middle\" x=\"1444.5\" y=\"-714.3\" font-family=\"Helvetica,sans-Serif\" font-size=\"14.00\" fill=\"#000000\">class = 1.0</text>\n</g>\n<!-- 57&#45;&gt;59 -->\n<g id=\"edge59\" class=\"edge\">\n<title>57&#45;&gt;59</title>\n<path fill=\"none\" stroke=\"#000000\" d=\"M1406.7856,-817.8796C1412.145,-806.8835 1417.9422,-794.9893 1423.3463,-783.9015\"/>\n<polygon fill=\"#000000\" stroke=\"#000000\" points=\"1426.54,-785.3375 1427.7751,-774.8149 1420.2476,-782.2706 1426.54,-785.3375\"/>\n</g>\n</g>\n</svg>\n"
          },
          "metadata": {},
          "execution_count": 8
        }
      ]
    },
    {
      "cell_type": "code",
      "source": [
        "clfDataMean = tree.export_graphviz(modelMean,  feature_names=list(trainMeanx.columns),class_names=['0.0','1.0'],filled=True)  \n",
        "visualizationMean = graphviz.Source(clfDataMean)  \n",
        "visualizationMean"
      ],
      "metadata": {
        "colab": {
          "base_uri": "https://localhost:8080/"
        },
        "id": "LLaJEmuLUWAe",
        "outputId": "7fd61d28-b72e-4598-c57d-b26d52807699"
      },
      "execution_count": null,
      "outputs": [
        {
          "output_type": "execute_result",
          "data": {
            "text/plain": [
              "<graphviz.files.Source at 0x7f5fc768a950>"
            ],
            "image/svg+xml": "<?xml version=\"1.0\" encoding=\"UTF-8\" standalone=\"no\"?>\n<!DOCTYPE svg PUBLIC \"-//W3C//DTD SVG 1.1//EN\"\n \"http://www.w3.org/Graphics/SVG/1.1/DTD/svg11.dtd\">\n<!-- Generated by graphviz version 2.40.1 (20161225.0304)\n -->\n<!-- Title: Tree Pages: 1 -->\n<svg width=\"1311pt\" height=\"1504pt\"\n viewBox=\"0.00 0.00 1311.00 1504.00\" xmlns=\"http://www.w3.org/2000/svg\" xmlns:xlink=\"http://www.w3.org/1999/xlink\">\n<g id=\"graph0\" class=\"graph\" transform=\"scale(1 1) rotate(0) translate(4 1500)\">\n<title>Tree</title>\n<polygon fill=\"#ffffff\" stroke=\"transparent\" points=\"-4,4 -4,-1500 1307,-1500 1307,4 -4,4\"/>\n<!-- 0 -->\n<g id=\"node1\" class=\"node\">\n<title>0</title>\n<polygon fill=\"#e78a47\" stroke=\"#000000\" points=\"797.5,-1496 673.5,-1496 673.5,-1413 797.5,-1413 797.5,-1496\"/>\n<text text-anchor=\"middle\" x=\"735.5\" y=\"-1480.8\" font-family=\"Helvetica,sans-Serif\" font-size=\"14.00\" fill=\"#000000\">Schiller &lt;= 0.5</text>\n<text text-anchor=\"middle\" x=\"735.5\" y=\"-1465.8\" font-family=\"Helvetica,sans-Serif\" font-size=\"14.00\" fill=\"#000000\">gini = 0.123</text>\n<text text-anchor=\"middle\" x=\"735.5\" y=\"-1450.8\" font-family=\"Helvetica,sans-Serif\" font-size=\"14.00\" fill=\"#000000\">samples = 666</text>\n<text text-anchor=\"middle\" x=\"735.5\" y=\"-1435.8\" font-family=\"Helvetica,sans-Serif\" font-size=\"14.00\" fill=\"#000000\">value = [622, 44]</text>\n<text text-anchor=\"middle\" x=\"735.5\" y=\"-1420.8\" font-family=\"Helvetica,sans-Serif\" font-size=\"14.00\" fill=\"#000000\">class = 0.0</text>\n</g>\n<!-- 1 -->\n<g id=\"node2\" class=\"node\">\n<title>1</title>\n<polygon fill=\"#e5823b\" stroke=\"#000000\" points=\"750,-1377 541,-1377 541,-1294 750,-1294 750,-1377\"/>\n<text text-anchor=\"middle\" x=\"645.5\" y=\"-1361.8\" font-family=\"Helvetica,sans-Serif\" font-size=\"14.00\" fill=\"#000000\">STDs:genital herpes &lt;= 0.501</text>\n<text text-anchor=\"middle\" x=\"645.5\" y=\"-1346.8\" font-family=\"Helvetica,sans-Serif\" font-size=\"14.00\" fill=\"#000000\">gini = 0.023</text>\n<text text-anchor=\"middle\" x=\"645.5\" y=\"-1331.8\" font-family=\"Helvetica,sans-Serif\" font-size=\"14.00\" fill=\"#000000\">samples = 614</text>\n<text text-anchor=\"middle\" x=\"645.5\" y=\"-1316.8\" font-family=\"Helvetica,sans-Serif\" font-size=\"14.00\" fill=\"#000000\">value = [607, 7]</text>\n<text text-anchor=\"middle\" x=\"645.5\" y=\"-1301.8\" font-family=\"Helvetica,sans-Serif\" font-size=\"14.00\" fill=\"#000000\">class = 0.0</text>\n</g>\n<!-- 0&#45;&gt;1 -->\n<g id=\"edge1\" class=\"edge\">\n<title>0&#45;&gt;1</title>\n<path fill=\"none\" stroke=\"#000000\" d=\"M704.0224,-1412.8796C697.3471,-1404.0534 690.2342,-1394.6485 683.3504,-1385.5466\"/>\n<polygon fill=\"#000000\" stroke=\"#000000\" points=\"685.9357,-1383.1626 677.112,-1377.2981 680.3526,-1387.3852 685.9357,-1383.1626\"/>\n<text text-anchor=\"middle\" x=\"673.676\" y=\"-1398.3608\" font-family=\"Helvetica,sans-Serif\" font-size=\"14.00\" fill=\"#000000\">True</text>\n</g>\n<!-- 30 -->\n<g id=\"node31\" class=\"node\">\n<title>30</title>\n<polygon fill=\"#89c5f0\" stroke=\"#000000\" points=\"884.5,-1377 768.5,-1377 768.5,-1294 884.5,-1294 884.5,-1377\"/>\n<text text-anchor=\"middle\" x=\"826.5\" y=\"-1361.8\" font-family=\"Helvetica,sans-Serif\" font-size=\"14.00\" fill=\"#000000\">Age &lt;= 0.09</text>\n<text text-anchor=\"middle\" x=\"826.5\" y=\"-1346.8\" font-family=\"Helvetica,sans-Serif\" font-size=\"14.00\" fill=\"#000000\">gini = 0.411</text>\n<text text-anchor=\"middle\" x=\"826.5\" y=\"-1331.8\" font-family=\"Helvetica,sans-Serif\" font-size=\"14.00\" fill=\"#000000\">samples = 52</text>\n<text text-anchor=\"middle\" x=\"826.5\" y=\"-1316.8\" font-family=\"Helvetica,sans-Serif\" font-size=\"14.00\" fill=\"#000000\">value = [15, 37]</text>\n<text text-anchor=\"middle\" x=\"826.5\" y=\"-1301.8\" font-family=\"Helvetica,sans-Serif\" font-size=\"14.00\" fill=\"#000000\">class = 1.0</text>\n</g>\n<!-- 0&#45;&gt;30 -->\n<g id=\"edge30\" class=\"edge\">\n<title>0&#45;&gt;30</title>\n<path fill=\"none\" stroke=\"#000000\" d=\"M767.3274,-1412.8796C774.1457,-1403.9633 781.4156,-1394.4565 788.4421,-1385.268\"/>\n<polygon fill=\"#000000\" stroke=\"#000000\" points=\"791.2425,-1387.3678 794.5368,-1377.2981 785.682,-1383.1156 791.2425,-1387.3678\"/>\n<text text-anchor=\"middle\" x=\"797.8409\" y=\"-1398.3788\" font-family=\"Helvetica,sans-Serif\" font-size=\"14.00\" fill=\"#000000\">False</text>\n</g>\n<!-- 2 -->\n<g id=\"node3\" class=\"node\">\n<title>2</title>\n<polygon fill=\"#e5823b\" stroke=\"#000000\" points=\"593.5,-1258 477.5,-1258 477.5,-1175 593.5,-1175 593.5,-1258\"/>\n<text text-anchor=\"middle\" x=\"535.5\" y=\"-1242.8\" font-family=\"Helvetica,sans-Serif\" font-size=\"14.00\" fill=\"#000000\">Dx:CIN &lt;= 0.5</text>\n<text text-anchor=\"middle\" x=\"535.5\" y=\"-1227.8\" font-family=\"Helvetica,sans-Serif\" font-size=\"14.00\" fill=\"#000000\">gini = 0.019</text>\n<text text-anchor=\"middle\" x=\"535.5\" y=\"-1212.8\" font-family=\"Helvetica,sans-Serif\" font-size=\"14.00\" fill=\"#000000\">samples = 613</text>\n<text text-anchor=\"middle\" x=\"535.5\" y=\"-1197.8\" font-family=\"Helvetica,sans-Serif\" font-size=\"14.00\" fill=\"#000000\">value = [607, 6]</text>\n<text text-anchor=\"middle\" x=\"535.5\" y=\"-1182.8\" font-family=\"Helvetica,sans-Serif\" font-size=\"14.00\" fill=\"#000000\">class = 0.0</text>\n</g>\n<!-- 1&#45;&gt;2 -->\n<g id=\"edge2\" class=\"edge\">\n<title>1&#45;&gt;2</title>\n<path fill=\"none\" stroke=\"#000000\" d=\"M607.0273,-1293.8796C598.6189,-1284.7832 589.6424,-1275.0722 580.9897,-1265.7116\"/>\n<polygon fill=\"#000000\" stroke=\"#000000\" points=\"583.495,-1263.2656 574.1369,-1258.2981 578.3547,-1268.0172 583.495,-1263.2656\"/>\n</g>\n<!-- 29 -->\n<g id=\"node30\" class=\"node\">\n<title>29</title>\n<polygon fill=\"#399de5\" stroke=\"#000000\" points=\"711,-1250.5 612,-1250.5 612,-1182.5 711,-1182.5 711,-1250.5\"/>\n<text text-anchor=\"middle\" x=\"661.5\" y=\"-1235.3\" font-family=\"Helvetica,sans-Serif\" font-size=\"14.00\" fill=\"#000000\">gini = 0.0</text>\n<text text-anchor=\"middle\" x=\"661.5\" y=\"-1220.3\" font-family=\"Helvetica,sans-Serif\" font-size=\"14.00\" fill=\"#000000\">samples = 1</text>\n<text text-anchor=\"middle\" x=\"661.5\" y=\"-1205.3\" font-family=\"Helvetica,sans-Serif\" font-size=\"14.00\" fill=\"#000000\">value = [0, 1]</text>\n<text text-anchor=\"middle\" x=\"661.5\" y=\"-1190.3\" font-family=\"Helvetica,sans-Serif\" font-size=\"14.00\" fill=\"#000000\">class = 1.0</text>\n</g>\n<!-- 1&#45;&gt;29 -->\n<g id=\"edge29\" class=\"edge\">\n<title>1&#45;&gt;29</title>\n<path fill=\"none\" stroke=\"#000000\" d=\"M651.096,-1293.8796C652.5301,-1283.2134 654.0779,-1271.7021 655.53,-1260.9015\"/>\n<polygon fill=\"#000000\" stroke=\"#000000\" points=\"659.0224,-1261.1922 656.8862,-1250.8149 652.0848,-1260.2593 659.0224,-1261.1922\"/>\n</g>\n<!-- 3 -->\n<g id=\"node4\" class=\"node\">\n<title>3</title>\n<polygon fill=\"#e5823a\" stroke=\"#000000\" points=\"466,-1139 239,-1139 239,-1056 466,-1056 466,-1139\"/>\n<text text-anchor=\"middle\" x=\"352.5\" y=\"-1123.8\" font-family=\"Helvetica,sans-Serif\" font-size=\"14.00\" fill=\"#000000\">First sexual intercourse &lt;= 0.114</text>\n<text text-anchor=\"middle\" x=\"352.5\" y=\"-1108.8\" font-family=\"Helvetica,sans-Serif\" font-size=\"14.00\" fill=\"#000000\">gini = 0.013</text>\n<text text-anchor=\"middle\" x=\"352.5\" y=\"-1093.8\" font-family=\"Helvetica,sans-Serif\" font-size=\"14.00\" fill=\"#000000\">samples = 606</text>\n<text text-anchor=\"middle\" x=\"352.5\" y=\"-1078.8\" font-family=\"Helvetica,sans-Serif\" font-size=\"14.00\" fill=\"#000000\">value = [602, 4]</text>\n<text text-anchor=\"middle\" x=\"352.5\" y=\"-1063.8\" font-family=\"Helvetica,sans-Serif\" font-size=\"14.00\" fill=\"#000000\">class = 0.0</text>\n</g>\n<!-- 2&#45;&gt;3 -->\n<g id=\"edge3\" class=\"edge\">\n<title>2&#45;&gt;3</title>\n<path fill=\"none\" stroke=\"#000000\" d=\"M477.3462,-1178.6841C460.7072,-1167.8642 442.3638,-1155.936 424.9789,-1144.6311\"/>\n<polygon fill=\"#000000\" stroke=\"#000000\" points=\"426.8246,-1141.6564 416.5331,-1139.139 423.0085,-1147.5248 426.8246,-1141.6564\"/>\n</g>\n<!-- 26 -->\n<g id=\"node27\" class=\"node\">\n<title>26</title>\n<polygon fill=\"#efb388\" stroke=\"#000000\" points=\"588.5,-1139 484.5,-1139 484.5,-1056 588.5,-1056 588.5,-1139\"/>\n<text text-anchor=\"middle\" x=\"536.5\" y=\"-1123.8\" font-family=\"Helvetica,sans-Serif\" font-size=\"14.00\" fill=\"#000000\">Age &lt;= 0.256</text>\n<text text-anchor=\"middle\" x=\"536.5\" y=\"-1108.8\" font-family=\"Helvetica,sans-Serif\" font-size=\"14.00\" fill=\"#000000\">gini = 0.408</text>\n<text text-anchor=\"middle\" x=\"536.5\" y=\"-1093.8\" font-family=\"Helvetica,sans-Serif\" font-size=\"14.00\" fill=\"#000000\">samples = 7</text>\n<text text-anchor=\"middle\" x=\"536.5\" y=\"-1078.8\" font-family=\"Helvetica,sans-Serif\" font-size=\"14.00\" fill=\"#000000\">value = [5, 2]</text>\n<text text-anchor=\"middle\" x=\"536.5\" y=\"-1063.8\" font-family=\"Helvetica,sans-Serif\" font-size=\"14.00\" fill=\"#000000\">class = 0.0</text>\n</g>\n<!-- 2&#45;&gt;26 -->\n<g id=\"edge26\" class=\"edge\">\n<title>2&#45;&gt;26</title>\n<path fill=\"none\" stroke=\"#000000\" d=\"M535.8498,-1174.8796C535.9186,-1166.6838 535.9917,-1157.9891 536.063,-1149.5013\"/>\n<polygon fill=\"#000000\" stroke=\"#000000\" points=\"539.5645,-1149.3272 536.1488,-1139.2981 532.5648,-1149.2683 539.5645,-1149.3272\"/>\n</g>\n<!-- 4 -->\n<g id=\"node5\" class=\"node\">\n<title>4</title>\n<polygon fill=\"#ea9a61\" stroke=\"#000000\" points=\"285.5,-1020 37.5,-1020 37.5,-937 285.5,-937 285.5,-1020\"/>\n<text text-anchor=\"middle\" x=\"161.5\" y=\"-1004.8\" font-family=\"Helvetica,sans-Serif\" font-size=\"14.00\" fill=\"#000000\">Number of sexual partners &lt;= 0.036</text>\n<text text-anchor=\"middle\" x=\"161.5\" y=\"-989.8\" font-family=\"Helvetica,sans-Serif\" font-size=\"14.00\" fill=\"#000000\">gini = 0.278</text>\n<text text-anchor=\"middle\" x=\"161.5\" y=\"-974.8\" font-family=\"Helvetica,sans-Serif\" font-size=\"14.00\" fill=\"#000000\">samples = 6</text>\n<text text-anchor=\"middle\" x=\"161.5\" y=\"-959.8\" font-family=\"Helvetica,sans-Serif\" font-size=\"14.00\" fill=\"#000000\">value = [5, 1]</text>\n<text text-anchor=\"middle\" x=\"161.5\" y=\"-944.8\" font-family=\"Helvetica,sans-Serif\" font-size=\"14.00\" fill=\"#000000\">class = 0.0</text>\n</g>\n<!-- 3&#45;&gt;4 -->\n<g id=\"edge4\" class=\"edge\">\n<title>3&#45;&gt;4</title>\n<path fill=\"none\" stroke=\"#000000\" d=\"M285.6975,-1055.8796C269.9947,-1046.0962 253.1509,-1035.6019 237.0929,-1025.5971\"/>\n<polygon fill=\"#000000\" stroke=\"#000000\" points=\"238.6031,-1022.4144 228.2648,-1020.0969 234.9015,-1028.3556 238.6031,-1022.4144\"/>\n</g>\n<!-- 7 -->\n<g id=\"node8\" class=\"node\">\n<title>7</title>\n<polygon fill=\"#e5823a\" stroke=\"#000000\" points=\"419.5,-1020 303.5,-1020 303.5,-937 419.5,-937 419.5,-1020\"/>\n<text text-anchor=\"middle\" x=\"361.5\" y=\"-1004.8\" font-family=\"Helvetica,sans-Serif\" font-size=\"14.00\" fill=\"#000000\">Citology &lt;= 0.5</text>\n<text text-anchor=\"middle\" x=\"361.5\" y=\"-989.8\" font-family=\"Helvetica,sans-Serif\" font-size=\"14.00\" fill=\"#000000\">gini = 0.01</text>\n<text text-anchor=\"middle\" x=\"361.5\" y=\"-974.8\" font-family=\"Helvetica,sans-Serif\" font-size=\"14.00\" fill=\"#000000\">samples = 600</text>\n<text text-anchor=\"middle\" x=\"361.5\" y=\"-959.8\" font-family=\"Helvetica,sans-Serif\" font-size=\"14.00\" fill=\"#000000\">value = [597, 3]</text>\n<text text-anchor=\"middle\" x=\"361.5\" y=\"-944.8\" font-family=\"Helvetica,sans-Serif\" font-size=\"14.00\" fill=\"#000000\">class = 0.0</text>\n</g>\n<!-- 3&#45;&gt;7 -->\n<g id=\"edge7\" class=\"edge\">\n<title>3&#45;&gt;7</title>\n<path fill=\"none\" stroke=\"#000000\" d=\"M355.6478,-1055.8796C356.2676,-1047.6838 356.9252,-1038.9891 357.5671,-1030.5013\"/>\n<polygon fill=\"#000000\" stroke=\"#000000\" points=\"361.0746,-1030.5336 358.3388,-1020.2981 354.0945,-1030.0056 361.0746,-1030.5336\"/>\n</g>\n<!-- 5 -->\n<g id=\"node6\" class=\"node\">\n<title>5</title>\n<polygon fill=\"#399de5\" stroke=\"#000000\" points=\"99,-893.5 0,-893.5 0,-825.5 99,-825.5 99,-893.5\"/>\n<text text-anchor=\"middle\" x=\"49.5\" y=\"-878.3\" font-family=\"Helvetica,sans-Serif\" font-size=\"14.00\" fill=\"#000000\">gini = 0.0</text>\n<text text-anchor=\"middle\" x=\"49.5\" y=\"-863.3\" font-family=\"Helvetica,sans-Serif\" font-size=\"14.00\" fill=\"#000000\">samples = 1</text>\n<text text-anchor=\"middle\" x=\"49.5\" y=\"-848.3\" font-family=\"Helvetica,sans-Serif\" font-size=\"14.00\" fill=\"#000000\">value = [0, 1]</text>\n<text text-anchor=\"middle\" x=\"49.5\" y=\"-833.3\" font-family=\"Helvetica,sans-Serif\" font-size=\"14.00\" fill=\"#000000\">class = 1.0</text>\n</g>\n<!-- 4&#45;&gt;5 -->\n<g id=\"edge5\" class=\"edge\">\n<title>4&#45;&gt;5</title>\n<path fill=\"none\" stroke=\"#000000\" d=\"M122.3278,-936.8796C111.4611,-925.3337 99.6624,-912.7976 88.7891,-901.2446\"/>\n<polygon fill=\"#000000\" stroke=\"#000000\" points=\"91.1988,-898.6982 81.7964,-893.8149 86.1014,-903.4958 91.1988,-898.6982\"/>\n</g>\n<!-- 6 -->\n<g id=\"node7\" class=\"node\">\n<title>6</title>\n<polygon fill=\"#e58139\" stroke=\"#000000\" points=\"216,-893.5 117,-893.5 117,-825.5 216,-825.5 216,-893.5\"/>\n<text text-anchor=\"middle\" x=\"166.5\" y=\"-878.3\" font-family=\"Helvetica,sans-Serif\" font-size=\"14.00\" fill=\"#000000\">gini = 0.0</text>\n<text text-anchor=\"middle\" x=\"166.5\" y=\"-863.3\" font-family=\"Helvetica,sans-Serif\" font-size=\"14.00\" fill=\"#000000\">samples = 5</text>\n<text text-anchor=\"middle\" x=\"166.5\" y=\"-848.3\" font-family=\"Helvetica,sans-Serif\" font-size=\"14.00\" fill=\"#000000\">value = [5, 0]</text>\n<text text-anchor=\"middle\" x=\"166.5\" y=\"-833.3\" font-family=\"Helvetica,sans-Serif\" font-size=\"14.00\" fill=\"#000000\">class = 0.0</text>\n</g>\n<!-- 4&#45;&gt;6 -->\n<g id=\"edge6\" class=\"edge\">\n<title>4&#45;&gt;6</title>\n<path fill=\"none\" stroke=\"#000000\" d=\"M163.2488,-936.8796C163.6969,-926.2134 164.1806,-914.7021 164.6344,-903.9015\"/>\n<polygon fill=\"#000000\" stroke=\"#000000\" points=\"168.1352,-903.9531 165.0582,-893.8149 161.1414,-903.6592 168.1352,-903.9531\"/>\n</g>\n<!-- 8 -->\n<g id=\"node9\" class=\"node\">\n<title>8</title>\n<polygon fill=\"#e5813a\" stroke=\"#000000\" points=\"470,-901 243,-901 243,-818 470,-818 470,-901\"/>\n<text text-anchor=\"middle\" x=\"356.5\" y=\"-885.8\" font-family=\"Helvetica,sans-Serif\" font-size=\"14.00\" fill=\"#000000\">First sexual intercourse &lt;= 0.205</text>\n<text text-anchor=\"middle\" x=\"356.5\" y=\"-870.8\" font-family=\"Helvetica,sans-Serif\" font-size=\"14.00\" fill=\"#000000\">gini = 0.007</text>\n<text text-anchor=\"middle\" x=\"356.5\" y=\"-855.8\" font-family=\"Helvetica,sans-Serif\" font-size=\"14.00\" fill=\"#000000\">samples = 584</text>\n<text text-anchor=\"middle\" x=\"356.5\" y=\"-840.8\" font-family=\"Helvetica,sans-Serif\" font-size=\"14.00\" fill=\"#000000\">value = [582, 2]</text>\n<text text-anchor=\"middle\" x=\"356.5\" y=\"-825.8\" font-family=\"Helvetica,sans-Serif\" font-size=\"14.00\" fill=\"#000000\">class = 0.0</text>\n</g>\n<!-- 7&#45;&gt;8 -->\n<g id=\"edge8\" class=\"edge\">\n<title>7&#45;&gt;8</title>\n<path fill=\"none\" stroke=\"#000000\" d=\"M359.7512,-936.8796C359.4069,-928.6838 359.0416,-919.9891 358.6849,-911.5013\"/>\n<polygon fill=\"#000000\" stroke=\"#000000\" points=\"362.173,-911.1423 358.2562,-901.2981 355.1792,-911.4362 362.173,-911.1423\"/>\n</g>\n<!-- 19 -->\n<g id=\"node20\" class=\"node\">\n<title>19</title>\n<polygon fill=\"#e78946\" stroke=\"#000000\" points=\"736.5,-901 488.5,-901 488.5,-818 736.5,-818 736.5,-901\"/>\n<text text-anchor=\"middle\" x=\"612.5\" y=\"-885.8\" font-family=\"Helvetica,sans-Serif\" font-size=\"14.00\" fill=\"#000000\">Number of sexual partners &lt;= 0.107</text>\n<text text-anchor=\"middle\" x=\"612.5\" y=\"-870.8\" font-family=\"Helvetica,sans-Serif\" font-size=\"14.00\" fill=\"#000000\">gini = 0.117</text>\n<text text-anchor=\"middle\" x=\"612.5\" y=\"-855.8\" font-family=\"Helvetica,sans-Serif\" font-size=\"14.00\" fill=\"#000000\">samples = 16</text>\n<text text-anchor=\"middle\" x=\"612.5\" y=\"-840.8\" font-family=\"Helvetica,sans-Serif\" font-size=\"14.00\" fill=\"#000000\">value = [15, 1]</text>\n<text text-anchor=\"middle\" x=\"612.5\" y=\"-825.8\" font-family=\"Helvetica,sans-Serif\" font-size=\"14.00\" fill=\"#000000\">class = 0.0</text>\n</g>\n<!-- 7&#45;&gt;19 -->\n<g id=\"edge19\" class=\"edge\">\n<title>7&#45;&gt;19</title>\n<path fill=\"none\" stroke=\"#000000\" d=\"M419.7153,-950.8999C448.1759,-937.4066 483.191,-920.8059 515.5358,-905.4711\"/>\n<polygon fill=\"#000000\" stroke=\"#000000\" points=\"517.0437,-908.6297 524.5802,-901.1831 514.0448,-902.3045 517.0437,-908.6297\"/>\n</g>\n<!-- 9 -->\n<g id=\"node10\" class=\"node\">\n<title>9</title>\n<polygon fill=\"#e6853f\" stroke=\"#000000\" points=\"287.5,-782 79.5,-782 79.5,-699 287.5,-699 287.5,-782\"/>\n<text text-anchor=\"middle\" x=\"183.5\" y=\"-766.8\" font-family=\"Helvetica,sans-Serif\" font-size=\"14.00\" fill=\"#000000\">Num of pregnancies &lt;= 0.438</text>\n<text text-anchor=\"middle\" x=\"183.5\" y=\"-751.8\" font-family=\"Helvetica,sans-Serif\" font-size=\"14.00\" fill=\"#000000\">gini = 0.054</text>\n<text text-anchor=\"middle\" x=\"183.5\" y=\"-736.8\" font-family=\"Helvetica,sans-Serif\" font-size=\"14.00\" fill=\"#000000\">samples = 72</text>\n<text text-anchor=\"middle\" x=\"183.5\" y=\"-721.8\" font-family=\"Helvetica,sans-Serif\" font-size=\"14.00\" fill=\"#000000\">value = [70, 2]</text>\n<text text-anchor=\"middle\" x=\"183.5\" y=\"-706.8\" font-family=\"Helvetica,sans-Serif\" font-size=\"14.00\" fill=\"#000000\">class = 0.0</text>\n</g>\n<!-- 8&#45;&gt;9 -->\n<g id=\"edge9\" class=\"edge\">\n<title>8&#45;&gt;9</title>\n<path fill=\"none\" stroke=\"#000000\" d=\"M295.993,-817.8796C281.9018,-808.1868 266.7961,-797.7961 252.3731,-787.8752\"/>\n<polygon fill=\"#000000\" stroke=\"#000000\" points=\"254.1955,-784.8806 243.9728,-782.0969 250.2283,-790.6479 254.1955,-784.8806\"/>\n</g>\n<!-- 18 -->\n<g id=\"node19\" class=\"node\">\n<title>18</title>\n<polygon fill=\"#e58139\" stroke=\"#000000\" points=\"421.5,-774.5 305.5,-774.5 305.5,-706.5 421.5,-706.5 421.5,-774.5\"/>\n<text text-anchor=\"middle\" x=\"363.5\" y=\"-759.3\" font-family=\"Helvetica,sans-Serif\" font-size=\"14.00\" fill=\"#000000\">gini = 0.0</text>\n<text text-anchor=\"middle\" x=\"363.5\" y=\"-744.3\" font-family=\"Helvetica,sans-Serif\" font-size=\"14.00\" fill=\"#000000\">samples = 512</text>\n<text text-anchor=\"middle\" x=\"363.5\" y=\"-729.3\" font-family=\"Helvetica,sans-Serif\" font-size=\"14.00\" fill=\"#000000\">value = [512, 0]</text>\n<text text-anchor=\"middle\" x=\"363.5\" y=\"-714.3\" font-family=\"Helvetica,sans-Serif\" font-size=\"14.00\" fill=\"#000000\">class = 0.0</text>\n</g>\n<!-- 8&#45;&gt;18 -->\n<g id=\"edge18\" class=\"edge\">\n<title>8&#45;&gt;18</title>\n<path fill=\"none\" stroke=\"#000000\" d=\"M358.9483,-817.8796C359.5757,-807.2134 360.2528,-795.7021 360.8881,-784.9015\"/>\n<polygon fill=\"#000000\" stroke=\"#000000\" points=\"364.3881,-785.0032 361.4815,-774.8149 357.4002,-784.5921 364.3881,-785.0032\"/>\n</g>\n<!-- 10 -->\n<g id=\"node11\" class=\"node\">\n<title>10</title>\n<polygon fill=\"#e58139\" stroke=\"#000000\" points=\"181,-655.5 74,-655.5 74,-587.5 181,-587.5 181,-655.5\"/>\n<text text-anchor=\"middle\" x=\"127.5\" y=\"-640.3\" font-family=\"Helvetica,sans-Serif\" font-size=\"14.00\" fill=\"#000000\">gini = 0.0</text>\n<text text-anchor=\"middle\" x=\"127.5\" y=\"-625.3\" font-family=\"Helvetica,sans-Serif\" font-size=\"14.00\" fill=\"#000000\">samples = 61</text>\n<text text-anchor=\"middle\" x=\"127.5\" y=\"-610.3\" font-family=\"Helvetica,sans-Serif\" font-size=\"14.00\" fill=\"#000000\">value = [61, 0]</text>\n<text text-anchor=\"middle\" x=\"127.5\" y=\"-595.3\" font-family=\"Helvetica,sans-Serif\" font-size=\"14.00\" fill=\"#000000\">class = 0.0</text>\n</g>\n<!-- 9&#45;&gt;10 -->\n<g id=\"edge10\" class=\"edge\">\n<title>9&#45;&gt;10</title>\n<path fill=\"none\" stroke=\"#000000\" d=\"M163.9139,-698.8796C158.7393,-687.8835 153.142,-675.9893 147.9242,-664.9015\"/>\n<polygon fill=\"#000000\" stroke=\"#000000\" points=\"151.0731,-663.3728 143.6482,-655.8149 144.7394,-666.3534 151.0731,-663.3728\"/>\n</g>\n<!-- 11 -->\n<g id=\"node12\" class=\"node\">\n<title>11</title>\n<polygon fill=\"#eb9d65\" stroke=\"#000000\" points=\"303.5,-663 199.5,-663 199.5,-580 303.5,-580 303.5,-663\"/>\n<text text-anchor=\"middle\" x=\"251.5\" y=\"-647.8\" font-family=\"Helvetica,sans-Serif\" font-size=\"14.00\" fill=\"#000000\">Age &lt;= 0.218</text>\n<text text-anchor=\"middle\" x=\"251.5\" y=\"-632.8\" font-family=\"Helvetica,sans-Serif\" font-size=\"14.00\" fill=\"#000000\">gini = 0.298</text>\n<text text-anchor=\"middle\" x=\"251.5\" y=\"-617.8\" font-family=\"Helvetica,sans-Serif\" font-size=\"14.00\" fill=\"#000000\">samples = 11</text>\n<text text-anchor=\"middle\" x=\"251.5\" y=\"-602.8\" font-family=\"Helvetica,sans-Serif\" font-size=\"14.00\" fill=\"#000000\">value = [9, 2]</text>\n<text text-anchor=\"middle\" x=\"251.5\" y=\"-587.8\" font-family=\"Helvetica,sans-Serif\" font-size=\"14.00\" fill=\"#000000\">class = 0.0</text>\n</g>\n<!-- 9&#45;&gt;11 -->\n<g id=\"edge11\" class=\"edge\">\n<title>9&#45;&gt;11</title>\n<path fill=\"none\" stroke=\"#000000\" d=\"M207.2831,-698.8796C212.2237,-690.2335 217.4816,-681.0322 222.5833,-672.1042\"/>\n<polygon fill=\"#000000\" stroke=\"#000000\" points=\"225.6928,-673.717 227.6154,-663.2981 219.6151,-670.244 225.6928,-673.717\"/>\n</g>\n<!-- 12 -->\n<g id=\"node13\" class=\"node\">\n<title>12</title>\n<polygon fill=\"#399de5\" stroke=\"#000000\" points=\"256,-536.5 157,-536.5 157,-468.5 256,-468.5 256,-536.5\"/>\n<text text-anchor=\"middle\" x=\"206.5\" y=\"-521.3\" font-family=\"Helvetica,sans-Serif\" font-size=\"14.00\" fill=\"#000000\">gini = 0.0</text>\n<text text-anchor=\"middle\" x=\"206.5\" y=\"-506.3\" font-family=\"Helvetica,sans-Serif\" font-size=\"14.00\" fill=\"#000000\">samples = 1</text>\n<text text-anchor=\"middle\" x=\"206.5\" y=\"-491.3\" font-family=\"Helvetica,sans-Serif\" font-size=\"14.00\" fill=\"#000000\">value = [0, 1]</text>\n<text text-anchor=\"middle\" x=\"206.5\" y=\"-476.3\" font-family=\"Helvetica,sans-Serif\" font-size=\"14.00\" fill=\"#000000\">class = 1.0</text>\n</g>\n<!-- 11&#45;&gt;12 -->\n<g id=\"edge12\" class=\"edge\">\n<title>11&#45;&gt;12</title>\n<path fill=\"none\" stroke=\"#000000\" d=\"M235.7612,-579.8796C231.6446,-568.9935 227.1951,-557.227 223.0382,-546.2344\"/>\n<polygon fill=\"#000000\" stroke=\"#000000\" points=\"226.2871,-544.9305 219.4762,-536.8149 219.7396,-547.4065 226.2871,-544.9305\"/>\n</g>\n<!-- 13 -->\n<g id=\"node14\" class=\"node\">\n<title>13</title>\n<polygon fill=\"#e88f4f\" stroke=\"#000000\" points=\"514.5,-544 274.5,-544 274.5,-461 514.5,-461 514.5,-544\"/>\n<text text-anchor=\"middle\" x=\"394.5\" y=\"-528.8\" font-family=\"Helvetica,sans-Serif\" font-size=\"14.00\" fill=\"#000000\">Number of sexual partners &lt;= 0.25</text>\n<text text-anchor=\"middle\" x=\"394.5\" y=\"-513.8\" font-family=\"Helvetica,sans-Serif\" font-size=\"14.00\" fill=\"#000000\">gini = 0.18</text>\n<text text-anchor=\"middle\" x=\"394.5\" y=\"-498.8\" font-family=\"Helvetica,sans-Serif\" font-size=\"14.00\" fill=\"#000000\">samples = 10</text>\n<text text-anchor=\"middle\" x=\"394.5\" y=\"-483.8\" font-family=\"Helvetica,sans-Serif\" font-size=\"14.00\" fill=\"#000000\">value = [9, 1]</text>\n<text text-anchor=\"middle\" x=\"394.5\" y=\"-468.8\" font-family=\"Helvetica,sans-Serif\" font-size=\"14.00\" fill=\"#000000\">class = 0.0</text>\n</g>\n<!-- 11&#45;&gt;13 -->\n<g id=\"edge13\" class=\"edge\">\n<title>11&#45;&gt;13</title>\n<path fill=\"none\" stroke=\"#000000\" d=\"M301.5145,-579.8796C312.7701,-570.513 324.8088,-560.4948 336.3646,-550.8784\"/>\n<polygon fill=\"#000000\" stroke=\"#000000\" points=\"338.8242,-553.385 344.2721,-544.2981 334.3466,-548.0043 338.8242,-553.385\"/>\n</g>\n<!-- 14 -->\n<g id=\"node15\" class=\"node\">\n<title>14</title>\n<polygon fill=\"#e58139\" stroke=\"#000000\" points=\"384,-417.5 285,-417.5 285,-349.5 384,-349.5 384,-417.5\"/>\n<text text-anchor=\"middle\" x=\"334.5\" y=\"-402.3\" font-family=\"Helvetica,sans-Serif\" font-size=\"14.00\" fill=\"#000000\">gini = 0.0</text>\n<text text-anchor=\"middle\" x=\"334.5\" y=\"-387.3\" font-family=\"Helvetica,sans-Serif\" font-size=\"14.00\" fill=\"#000000\">samples = 8</text>\n<text text-anchor=\"middle\" x=\"334.5\" y=\"-372.3\" font-family=\"Helvetica,sans-Serif\" font-size=\"14.00\" fill=\"#000000\">value = [8, 0]</text>\n<text text-anchor=\"middle\" x=\"334.5\" y=\"-357.3\" font-family=\"Helvetica,sans-Serif\" font-size=\"14.00\" fill=\"#000000\">class = 0.0</text>\n</g>\n<!-- 13&#45;&gt;14 -->\n<g id=\"edge14\" class=\"edge\">\n<title>13&#45;&gt;14</title>\n<path fill=\"none\" stroke=\"#000000\" d=\"M373.5149,-460.8796C367.9707,-449.8835 361.9736,-437.9893 356.3831,-426.9015\"/>\n<polygon fill=\"#000000\" stroke=\"#000000\" points=\"359.4291,-425.1684 351.8016,-417.8149 353.1786,-428.3199 359.4291,-425.1684\"/>\n</g>\n<!-- 15 -->\n<g id=\"node16\" class=\"node\">\n<title>15</title>\n<polygon fill=\"#ffffff\" stroke=\"#000000\" points=\"506.5,-425 402.5,-425 402.5,-342 506.5,-342 506.5,-425\"/>\n<text text-anchor=\"middle\" x=\"454.5\" y=\"-409.8\" font-family=\"Helvetica,sans-Serif\" font-size=\"14.00\" fill=\"#000000\">Age &lt;= 0.462</text>\n<text text-anchor=\"middle\" x=\"454.5\" y=\"-394.8\" font-family=\"Helvetica,sans-Serif\" font-size=\"14.00\" fill=\"#000000\">gini = 0.5</text>\n<text text-anchor=\"middle\" x=\"454.5\" y=\"-379.8\" font-family=\"Helvetica,sans-Serif\" font-size=\"14.00\" fill=\"#000000\">samples = 2</text>\n<text text-anchor=\"middle\" x=\"454.5\" y=\"-364.8\" font-family=\"Helvetica,sans-Serif\" font-size=\"14.00\" fill=\"#000000\">value = [1, 1]</text>\n<text text-anchor=\"middle\" x=\"454.5\" y=\"-349.8\" font-family=\"Helvetica,sans-Serif\" font-size=\"14.00\" fill=\"#000000\">class = 0.0</text>\n</g>\n<!-- 13&#45;&gt;15 -->\n<g id=\"edge15\" class=\"edge\">\n<title>13&#45;&gt;15</title>\n<path fill=\"none\" stroke=\"#000000\" d=\"M415.4851,-460.8796C419.799,-452.3236 424.3872,-443.2238 428.8446,-434.3833\"/>\n<polygon fill=\"#000000\" stroke=\"#000000\" points=\"432.0484,-435.8031 433.4253,-425.2981 425.7979,-432.6515 432.0484,-435.8031\"/>\n</g>\n<!-- 16 -->\n<g id=\"node17\" class=\"node\">\n<title>16</title>\n<polygon fill=\"#399de5\" stroke=\"#000000\" points=\"446,-298.5 347,-298.5 347,-230.5 446,-230.5 446,-298.5\"/>\n<text text-anchor=\"middle\" x=\"396.5\" y=\"-283.3\" font-family=\"Helvetica,sans-Serif\" font-size=\"14.00\" fill=\"#000000\">gini = 0.0</text>\n<text text-anchor=\"middle\" x=\"396.5\" y=\"-268.3\" font-family=\"Helvetica,sans-Serif\" font-size=\"14.00\" fill=\"#000000\">samples = 1</text>\n<text text-anchor=\"middle\" x=\"396.5\" y=\"-253.3\" font-family=\"Helvetica,sans-Serif\" font-size=\"14.00\" fill=\"#000000\">value = [0, 1]</text>\n<text text-anchor=\"middle\" x=\"396.5\" y=\"-238.3\" font-family=\"Helvetica,sans-Serif\" font-size=\"14.00\" fill=\"#000000\">class = 1.0</text>\n</g>\n<!-- 15&#45;&gt;16 -->\n<g id=\"edge16\" class=\"edge\">\n<title>15&#45;&gt;16</title>\n<path fill=\"none\" stroke=\"#000000\" d=\"M434.2144,-341.8796C428.855,-330.8835 423.0578,-318.9893 417.6537,-307.9015\"/>\n<polygon fill=\"#000000\" stroke=\"#000000\" points=\"420.7524,-306.2706 413.2249,-298.8149 414.46,-309.3375 420.7524,-306.2706\"/>\n</g>\n<!-- 17 -->\n<g id=\"node18\" class=\"node\">\n<title>17</title>\n<polygon fill=\"#e58139\" stroke=\"#000000\" points=\"563,-298.5 464,-298.5 464,-230.5 563,-230.5 563,-298.5\"/>\n<text text-anchor=\"middle\" x=\"513.5\" y=\"-283.3\" font-family=\"Helvetica,sans-Serif\" font-size=\"14.00\" fill=\"#000000\">gini = 0.0</text>\n<text text-anchor=\"middle\" x=\"513.5\" y=\"-268.3\" font-family=\"Helvetica,sans-Serif\" font-size=\"14.00\" fill=\"#000000\">samples = 1</text>\n<text text-anchor=\"middle\" x=\"513.5\" y=\"-253.3\" font-family=\"Helvetica,sans-Serif\" font-size=\"14.00\" fill=\"#000000\">value = [1, 0]</text>\n<text text-anchor=\"middle\" x=\"513.5\" y=\"-238.3\" font-family=\"Helvetica,sans-Serif\" font-size=\"14.00\" fill=\"#000000\">class = 0.0</text>\n</g>\n<!-- 15&#45;&gt;17 -->\n<g id=\"edge17\" class=\"edge\">\n<title>15&#45;&gt;17</title>\n<path fill=\"none\" stroke=\"#000000\" d=\"M475.1353,-341.8796C480.5872,-330.8835 486.4843,-318.9893 491.9816,-307.9015\"/>\n<polygon fill=\"#000000\" stroke=\"#000000\" points=\"495.1804,-309.3289 496.4867,-298.8149 488.9089,-306.2195 495.1804,-309.3289\"/>\n</g>\n<!-- 20 -->\n<g id=\"node21\" class=\"node\">\n<title>20</title>\n<polygon fill=\"#e58139\" stroke=\"#000000\" points=\"555,-774.5 456,-774.5 456,-706.5 555,-706.5 555,-774.5\"/>\n<text text-anchor=\"middle\" x=\"505.5\" y=\"-759.3\" font-family=\"Helvetica,sans-Serif\" font-size=\"14.00\" fill=\"#000000\">gini = 0.0</text>\n<text text-anchor=\"middle\" x=\"505.5\" y=\"-744.3\" font-family=\"Helvetica,sans-Serif\" font-size=\"14.00\" fill=\"#000000\">samples = 9</text>\n<text text-anchor=\"middle\" x=\"505.5\" y=\"-729.3\" font-family=\"Helvetica,sans-Serif\" font-size=\"14.00\" fill=\"#000000\">value = [9, 0]</text>\n<text text-anchor=\"middle\" x=\"505.5\" y=\"-714.3\" font-family=\"Helvetica,sans-Serif\" font-size=\"14.00\" fill=\"#000000\">class = 0.0</text>\n</g>\n<!-- 19&#45;&gt;20 -->\n<g id=\"edge20\" class=\"edge\">\n<title>19&#45;&gt;20</title>\n<path fill=\"none\" stroke=\"#000000\" d=\"M575.0766,-817.8796C564.7939,-806.4436 553.6377,-794.0363 543.3321,-782.575\"/>\n<polygon fill=\"#000000\" stroke=\"#000000\" points=\"545.6435,-779.9108 536.3546,-774.8149 540.4382,-784.5912 545.6435,-779.9108\"/>\n</g>\n<!-- 21 -->\n<g id=\"node22\" class=\"node\">\n<title>21</title>\n<polygon fill=\"#e9965a\" stroke=\"#000000\" points=\"800,-782 573,-782 573,-699 800,-699 800,-782\"/>\n<text text-anchor=\"middle\" x=\"686.5\" y=\"-766.8\" font-family=\"Helvetica,sans-Serif\" font-size=\"14.00\" fill=\"#000000\">First sexual intercourse &lt;= 0.295</text>\n<text text-anchor=\"middle\" x=\"686.5\" y=\"-751.8\" font-family=\"Helvetica,sans-Serif\" font-size=\"14.00\" fill=\"#000000\">gini = 0.245</text>\n<text text-anchor=\"middle\" x=\"686.5\" y=\"-736.8\" font-family=\"Helvetica,sans-Serif\" font-size=\"14.00\" fill=\"#000000\">samples = 7</text>\n<text text-anchor=\"middle\" x=\"686.5\" y=\"-721.8\" font-family=\"Helvetica,sans-Serif\" font-size=\"14.00\" fill=\"#000000\">value = [6, 1]</text>\n<text text-anchor=\"middle\" x=\"686.5\" y=\"-706.8\" font-family=\"Helvetica,sans-Serif\" font-size=\"14.00\" fill=\"#000000\">class = 0.0</text>\n</g>\n<!-- 19&#45;&gt;21 -->\n<g id=\"edge21\" class=\"edge\">\n<title>19&#45;&gt;21</title>\n<path fill=\"none\" stroke=\"#000000\" d=\"M638.3816,-817.8796C643.8142,-809.1434 649.5992,-799.8404 655.2053,-790.8253\"/>\n<polygon fill=\"#000000\" stroke=\"#000000\" points=\"658.1993,-792.6383 660.5079,-782.2981 652.2549,-788.9418 658.1993,-792.6383\"/>\n</g>\n<!-- 22 -->\n<g id=\"node23\" class=\"node\">\n<title>22</title>\n<polygon fill=\"#e58139\" stroke=\"#000000\" points=\"526,-655.5 427,-655.5 427,-587.5 526,-587.5 526,-655.5\"/>\n<text text-anchor=\"middle\" x=\"476.5\" y=\"-640.3\" font-family=\"Helvetica,sans-Serif\" font-size=\"14.00\" fill=\"#000000\">gini = 0.0</text>\n<text text-anchor=\"middle\" x=\"476.5\" y=\"-625.3\" font-family=\"Helvetica,sans-Serif\" font-size=\"14.00\" fill=\"#000000\">samples = 5</text>\n<text text-anchor=\"middle\" x=\"476.5\" y=\"-610.3\" font-family=\"Helvetica,sans-Serif\" font-size=\"14.00\" fill=\"#000000\">value = [5, 0]</text>\n<text text-anchor=\"middle\" x=\"476.5\" y=\"-595.3\" font-family=\"Helvetica,sans-Serif\" font-size=\"14.00\" fill=\"#000000\">class = 0.0</text>\n</g>\n<!-- 21&#45;&gt;22 -->\n<g id=\"edge22\" class=\"edge\">\n<title>21&#45;&gt;22</title>\n<path fill=\"none\" stroke=\"#000000\" d=\"M600.3179,-698.8768C578.8245,-687.7881 556.0535,-675.421 535.5,-663 534.4148,-662.3442 533.3231,-661.6753 532.2272,-660.9955\"/>\n<polygon fill=\"#000000\" stroke=\"#000000\" points=\"534.0914,-658.0332 523.7791,-655.6025 530.3248,-663.9335 534.0914,-658.0332\"/>\n</g>\n<!-- 23 -->\n<g id=\"node24\" class=\"node\">\n<title>23</title>\n<polygon fill=\"#ffffff\" stroke=\"#000000\" points=\"834.5,-663 544.5,-663 544.5,-580 834.5,-580 834.5,-663\"/>\n<text text-anchor=\"middle\" x=\"689.5\" y=\"-647.8\" font-family=\"Helvetica,sans-Serif\" font-size=\"14.00\" fill=\"#000000\">Hormonal Contraceptives (years) &lt;= 0.054</text>\n<text text-anchor=\"middle\" x=\"689.5\" y=\"-632.8\" font-family=\"Helvetica,sans-Serif\" font-size=\"14.00\" fill=\"#000000\">gini = 0.5</text>\n<text text-anchor=\"middle\" x=\"689.5\" y=\"-617.8\" font-family=\"Helvetica,sans-Serif\" font-size=\"14.00\" fill=\"#000000\">samples = 2</text>\n<text text-anchor=\"middle\" x=\"689.5\" y=\"-602.8\" font-family=\"Helvetica,sans-Serif\" font-size=\"14.00\" fill=\"#000000\">value = [1, 1]</text>\n<text text-anchor=\"middle\" x=\"689.5\" y=\"-587.8\" font-family=\"Helvetica,sans-Serif\" font-size=\"14.00\" fill=\"#000000\">class = 0.0</text>\n</g>\n<!-- 21&#45;&gt;23 -->\n<g id=\"edge23\" class=\"edge\">\n<title>21&#45;&gt;23</title>\n<path fill=\"none\" stroke=\"#000000\" d=\"M687.5493,-698.8796C687.7559,-690.6838 687.9751,-681.9891 688.189,-673.5013\"/>\n<polygon fill=\"#000000\" stroke=\"#000000\" points=\"691.693,-673.3831 688.4463,-663.2981 684.6953,-673.2067 691.693,-673.3831\"/>\n</g>\n<!-- 24 -->\n<g id=\"node25\" class=\"node\">\n<title>24</title>\n<polygon fill=\"#399de5\" stroke=\"#000000\" points=\"655,-536.5 556,-536.5 556,-468.5 655,-468.5 655,-536.5\"/>\n<text text-anchor=\"middle\" x=\"605.5\" y=\"-521.3\" font-family=\"Helvetica,sans-Serif\" font-size=\"14.00\" fill=\"#000000\">gini = 0.0</text>\n<text text-anchor=\"middle\" x=\"605.5\" y=\"-506.3\" font-family=\"Helvetica,sans-Serif\" font-size=\"14.00\" fill=\"#000000\">samples = 1</text>\n<text text-anchor=\"middle\" x=\"605.5\" y=\"-491.3\" font-family=\"Helvetica,sans-Serif\" font-size=\"14.00\" fill=\"#000000\">value = [0, 1]</text>\n<text text-anchor=\"middle\" x=\"605.5\" y=\"-476.3\" font-family=\"Helvetica,sans-Serif\" font-size=\"14.00\" fill=\"#000000\">class = 1.0</text>\n</g>\n<!-- 23&#45;&gt;24 -->\n<g id=\"edge24\" class=\"edge\">\n<title>23&#45;&gt;24</title>\n<path fill=\"none\" stroke=\"#000000\" d=\"M660.1209,-579.8796C652.2037,-568.6636 643.6269,-556.5131 635.6675,-545.2372\"/>\n<polygon fill=\"#000000\" stroke=\"#000000\" points=\"638.3486,-542.9662 629.7223,-536.8149 632.6298,-547.003 638.3486,-542.9662\"/>\n</g>\n<!-- 25 -->\n<g id=\"node26\" class=\"node\">\n<title>25</title>\n<polygon fill=\"#e58139\" stroke=\"#000000\" points=\"772,-536.5 673,-536.5 673,-468.5 772,-468.5 772,-536.5\"/>\n<text text-anchor=\"middle\" x=\"722.5\" y=\"-521.3\" font-family=\"Helvetica,sans-Serif\" font-size=\"14.00\" fill=\"#000000\">gini = 0.0</text>\n<text text-anchor=\"middle\" x=\"722.5\" y=\"-506.3\" font-family=\"Helvetica,sans-Serif\" font-size=\"14.00\" fill=\"#000000\">samples = 1</text>\n<text text-anchor=\"middle\" x=\"722.5\" y=\"-491.3\" font-family=\"Helvetica,sans-Serif\" font-size=\"14.00\" fill=\"#000000\">value = [1, 0]</text>\n<text text-anchor=\"middle\" x=\"722.5\" y=\"-476.3\" font-family=\"Helvetica,sans-Serif\" font-size=\"14.00\" fill=\"#000000\">class = 0.0</text>\n</g>\n<!-- 23&#45;&gt;25 -->\n<g id=\"edge25\" class=\"edge\">\n<title>23&#45;&gt;25</title>\n<path fill=\"none\" stroke=\"#000000\" d=\"M701.0418,-579.8796C704.0301,-569.1034 707.2577,-557.4647 710.2795,-546.5677\"/>\n<polygon fill=\"#000000\" stroke=\"#000000\" points=\"713.6845,-547.3866 712.9841,-536.8149 706.939,-545.516 713.6845,-547.3866\"/>\n</g>\n<!-- 27 -->\n<g id=\"node28\" class=\"node\">\n<title>27</title>\n<polygon fill=\"#399de5\" stroke=\"#000000\" points=\"562,-1012.5 463,-1012.5 463,-944.5 562,-944.5 562,-1012.5\"/>\n<text text-anchor=\"middle\" x=\"512.5\" y=\"-997.3\" font-family=\"Helvetica,sans-Serif\" font-size=\"14.00\" fill=\"#000000\">gini = 0.0</text>\n<text text-anchor=\"middle\" x=\"512.5\" y=\"-982.3\" font-family=\"Helvetica,sans-Serif\" font-size=\"14.00\" fill=\"#000000\">samples = 2</text>\n<text text-anchor=\"middle\" x=\"512.5\" y=\"-967.3\" font-family=\"Helvetica,sans-Serif\" font-size=\"14.00\" fill=\"#000000\">value = [0, 2]</text>\n<text text-anchor=\"middle\" x=\"512.5\" y=\"-952.3\" font-family=\"Helvetica,sans-Serif\" font-size=\"14.00\" fill=\"#000000\">class = 1.0</text>\n</g>\n<!-- 26&#45;&gt;27 -->\n<g id=\"edge27\" class=\"edge\">\n<title>26&#45;&gt;27</title>\n<path fill=\"none\" stroke=\"#000000\" d=\"M528.106,-1055.8796C525.9548,-1045.2134 523.6332,-1033.7021 521.4549,-1022.9015\"/>\n<polygon fill=\"#000000\" stroke=\"#000000\" points=\"524.8287,-1021.9256 519.4207,-1012.8149 517.9668,-1023.3095 524.8287,-1021.9256\"/>\n</g>\n<!-- 28 -->\n<g id=\"node29\" class=\"node\">\n<title>28</title>\n<polygon fill=\"#e58139\" stroke=\"#000000\" points=\"679,-1012.5 580,-1012.5 580,-944.5 679,-944.5 679,-1012.5\"/>\n<text text-anchor=\"middle\" x=\"629.5\" y=\"-997.3\" font-family=\"Helvetica,sans-Serif\" font-size=\"14.00\" fill=\"#000000\">gini = 0.0</text>\n<text text-anchor=\"middle\" x=\"629.5\" y=\"-982.3\" font-family=\"Helvetica,sans-Serif\" font-size=\"14.00\" fill=\"#000000\">samples = 5</text>\n<text text-anchor=\"middle\" x=\"629.5\" y=\"-967.3\" font-family=\"Helvetica,sans-Serif\" font-size=\"14.00\" fill=\"#000000\">value = [5, 0]</text>\n<text text-anchor=\"middle\" x=\"629.5\" y=\"-952.3\" font-family=\"Helvetica,sans-Serif\" font-size=\"14.00\" fill=\"#000000\">class = 0.0</text>\n</g>\n<!-- 26&#45;&gt;28 -->\n<g id=\"edge28\" class=\"edge\">\n<title>26&#45;&gt;28</title>\n<path fill=\"none\" stroke=\"#000000\" d=\"M569.0269,-1055.8796C577.8783,-1044.5536 587.4743,-1032.2748 596.3593,-1020.9058\"/>\n<polygon fill=\"#000000\" stroke=\"#000000\" points=\"599.2824,-1022.8494 602.6824,-1012.8149 593.7669,-1018.539 599.2824,-1022.8494\"/>\n</g>\n<!-- 31 -->\n<g id=\"node32\" class=\"node\">\n<title>31</title>\n<polygon fill=\"#e58139\" stroke=\"#000000\" points=\"860,-1250.5 761,-1250.5 761,-1182.5 860,-1182.5 860,-1250.5\"/>\n<text text-anchor=\"middle\" x=\"810.5\" y=\"-1235.3\" font-family=\"Helvetica,sans-Serif\" font-size=\"14.00\" fill=\"#000000\">gini = 0.0</text>\n<text text-anchor=\"middle\" x=\"810.5\" y=\"-1220.3\" font-family=\"Helvetica,sans-Serif\" font-size=\"14.00\" fill=\"#000000\">samples = 3</text>\n<text text-anchor=\"middle\" x=\"810.5\" y=\"-1205.3\" font-family=\"Helvetica,sans-Serif\" font-size=\"14.00\" fill=\"#000000\">value = [3, 0]</text>\n<text text-anchor=\"middle\" x=\"810.5\" y=\"-1190.3\" font-family=\"Helvetica,sans-Serif\" font-size=\"14.00\" fill=\"#000000\">class = 0.0</text>\n</g>\n<!-- 30&#45;&gt;31 -->\n<g id=\"edge31\" class=\"edge\">\n<title>30&#45;&gt;31</title>\n<path fill=\"none\" stroke=\"#000000\" d=\"M820.904,-1293.8796C819.4699,-1283.2134 817.9221,-1271.7021 816.47,-1260.9015\"/>\n<polygon fill=\"#000000\" stroke=\"#000000\" points=\"819.9152,-1260.2593 815.1138,-1250.8149 812.9776,-1261.1922 819.9152,-1260.2593\"/>\n</g>\n<!-- 32 -->\n<g id=\"node33\" class=\"node\">\n<title>32</title>\n<polygon fill=\"#79bded\" stroke=\"#000000\" points=\"1105,-1258 878,-1258 878,-1175 1105,-1175 1105,-1258\"/>\n<text text-anchor=\"middle\" x=\"991.5\" y=\"-1242.8\" font-family=\"Helvetica,sans-Serif\" font-size=\"14.00\" fill=\"#000000\">First sexual intercourse &lt;= 0.477</text>\n<text text-anchor=\"middle\" x=\"991.5\" y=\"-1227.8\" font-family=\"Helvetica,sans-Serif\" font-size=\"14.00\" fill=\"#000000\">gini = 0.37</text>\n<text text-anchor=\"middle\" x=\"991.5\" y=\"-1212.8\" font-family=\"Helvetica,sans-Serif\" font-size=\"14.00\" fill=\"#000000\">samples = 49</text>\n<text text-anchor=\"middle\" x=\"991.5\" y=\"-1197.8\" font-family=\"Helvetica,sans-Serif\" font-size=\"14.00\" fill=\"#000000\">value = [12, 37]</text>\n<text text-anchor=\"middle\" x=\"991.5\" y=\"-1182.8\" font-family=\"Helvetica,sans-Serif\" font-size=\"14.00\" fill=\"#000000\">class = 1.0</text>\n</g>\n<!-- 30&#45;&gt;32 -->\n<g id=\"edge32\" class=\"edge\">\n<title>30&#45;&gt;32</title>\n<path fill=\"none\" stroke=\"#000000\" d=\"M884.209,-1293.8796C897.523,-1284.2774 911.7866,-1273.9903 925.4259,-1264.1534\"/>\n<polygon fill=\"#000000\" stroke=\"#000000\" points=\"927.7602,-1266.7852 933.8236,-1258.0969 923.6655,-1261.1077 927.7602,-1266.7852\"/>\n</g>\n<!-- 33 -->\n<g id=\"node34\" class=\"node\">\n<title>33</title>\n<polygon fill=\"#6fb7ec\" stroke=\"#000000\" points=\"1048,-1139 899,-1139 899,-1056 1048,-1056 1048,-1139\"/>\n<text text-anchor=\"middle\" x=\"973.5\" y=\"-1123.8\" font-family=\"Helvetica,sans-Serif\" font-size=\"14.00\" fill=\"#000000\">STDs:syphilis &lt;= 0.5</text>\n<text text-anchor=\"middle\" x=\"973.5\" y=\"-1108.8\" font-family=\"Helvetica,sans-Serif\" font-size=\"14.00\" fill=\"#000000\">gini = 0.335</text>\n<text text-anchor=\"middle\" x=\"973.5\" y=\"-1093.8\" font-family=\"Helvetica,sans-Serif\" font-size=\"14.00\" fill=\"#000000\">samples = 47</text>\n<text text-anchor=\"middle\" x=\"973.5\" y=\"-1078.8\" font-family=\"Helvetica,sans-Serif\" font-size=\"14.00\" fill=\"#000000\">value = [10, 37]</text>\n<text text-anchor=\"middle\" x=\"973.5\" y=\"-1063.8\" font-family=\"Helvetica,sans-Serif\" font-size=\"14.00\" fill=\"#000000\">class = 1.0</text>\n</g>\n<!-- 32&#45;&gt;33 -->\n<g id=\"edge33\" class=\"edge\">\n<title>32&#45;&gt;33</title>\n<path fill=\"none\" stroke=\"#000000\" d=\"M985.2045,-1174.8796C983.9512,-1166.5938 982.6207,-1157.798 981.3234,-1149.2216\"/>\n<polygon fill=\"#000000\" stroke=\"#000000\" points=\"984.7787,-1148.6621 979.8224,-1139.2981 977.8574,-1149.7091 984.7787,-1148.6621\"/>\n</g>\n<!-- 58 -->\n<g id=\"node59\" class=\"node\">\n<title>58</title>\n<polygon fill=\"#e58139\" stroke=\"#000000\" points=\"1165,-1131.5 1066,-1131.5 1066,-1063.5 1165,-1063.5 1165,-1131.5\"/>\n<text text-anchor=\"middle\" x=\"1115.5\" y=\"-1116.3\" font-family=\"Helvetica,sans-Serif\" font-size=\"14.00\" fill=\"#000000\">gini = 0.0</text>\n<text text-anchor=\"middle\" x=\"1115.5\" y=\"-1101.3\" font-family=\"Helvetica,sans-Serif\" font-size=\"14.00\" fill=\"#000000\">samples = 2</text>\n<text text-anchor=\"middle\" x=\"1115.5\" y=\"-1086.3\" font-family=\"Helvetica,sans-Serif\" font-size=\"14.00\" fill=\"#000000\">value = [2, 0]</text>\n<text text-anchor=\"middle\" x=\"1115.5\" y=\"-1071.3\" font-family=\"Helvetica,sans-Serif\" font-size=\"14.00\" fill=\"#000000\">class = 0.0</text>\n</g>\n<!-- 32&#45;&gt;58 -->\n<g id=\"edge58\" class=\"edge\">\n<title>32&#45;&gt;58</title>\n<path fill=\"none\" stroke=\"#000000\" d=\"M1034.8692,-1174.8796C1047.0148,-1163.2237 1060.2119,-1150.5587 1072.3451,-1138.9148\"/>\n<polygon fill=\"#000000\" stroke=\"#000000\" points=\"1074.9516,-1141.2643 1079.7433,-1131.8149 1070.1047,-1136.2138 1074.9516,-1141.2643\"/>\n</g>\n<!-- 34 -->\n<g id=\"node35\" class=\"node\">\n<title>34</title>\n<polygon fill=\"#64b2eb\" stroke=\"#000000\" points=\"1083,-1020 856,-1020 856,-937 1083,-937 1083,-1020\"/>\n<text text-anchor=\"middle\" x=\"969.5\" y=\"-1004.8\" font-family=\"Helvetica,sans-Serif\" font-size=\"14.00\" fill=\"#000000\">First sexual intercourse &lt;= 0.205</text>\n<text text-anchor=\"middle\" x=\"969.5\" y=\"-989.8\" font-family=\"Helvetica,sans-Serif\" font-size=\"14.00\" fill=\"#000000\">gini = 0.292</text>\n<text text-anchor=\"middle\" x=\"969.5\" y=\"-974.8\" font-family=\"Helvetica,sans-Serif\" font-size=\"14.00\" fill=\"#000000\">samples = 45</text>\n<text text-anchor=\"middle\" x=\"969.5\" y=\"-959.8\" font-family=\"Helvetica,sans-Serif\" font-size=\"14.00\" fill=\"#000000\">value = [8, 37]</text>\n<text text-anchor=\"middle\" x=\"969.5\" y=\"-944.8\" font-family=\"Helvetica,sans-Serif\" font-size=\"14.00\" fill=\"#000000\">class = 1.0</text>\n</g>\n<!-- 33&#45;&gt;34 -->\n<g id=\"edge34\" class=\"edge\">\n<title>33&#45;&gt;34</title>\n<path fill=\"none\" stroke=\"#000000\" d=\"M972.101,-1055.8796C971.8255,-1047.6838 971.5332,-1038.9891 971.2479,-1030.5013\"/>\n<polygon fill=\"#000000\" stroke=\"#000000\" points=\"974.739,-1030.1748 970.905,-1020.2981 967.743,-1030.41 974.739,-1030.1748\"/>\n</g>\n<!-- 57 -->\n<g id=\"node58\" class=\"node\">\n<title>57</title>\n<polygon fill=\"#e58139\" stroke=\"#000000\" points=\"1200,-1012.5 1101,-1012.5 1101,-944.5 1200,-944.5 1200,-1012.5\"/>\n<text text-anchor=\"middle\" x=\"1150.5\" y=\"-997.3\" font-family=\"Helvetica,sans-Serif\" font-size=\"14.00\" fill=\"#000000\">gini = 0.0</text>\n<text text-anchor=\"middle\" x=\"1150.5\" y=\"-982.3\" font-family=\"Helvetica,sans-Serif\" font-size=\"14.00\" fill=\"#000000\">samples = 2</text>\n<text text-anchor=\"middle\" x=\"1150.5\" y=\"-967.3\" font-family=\"Helvetica,sans-Serif\" font-size=\"14.00\" fill=\"#000000\">value = [2, 0]</text>\n<text text-anchor=\"middle\" x=\"1150.5\" y=\"-952.3\" font-family=\"Helvetica,sans-Serif\" font-size=\"14.00\" fill=\"#000000\">class = 0.0</text>\n</g>\n<!-- 33&#45;&gt;57 -->\n<g id=\"edge57\" class=\"edge\">\n<title>33&#45;&gt;57</title>\n<path fill=\"none\" stroke=\"#000000\" d=\"M1037.7433,-1055.838C1055.2534,-1044.3382 1074.1699,-1031.7816 1091.5,-1020 1092.2703,-1019.4763 1093.0456,-1018.9481 1093.825,-1018.4159\"/>\n<polygon fill=\"#000000\" stroke=\"#000000\" points=\"1096.0313,-1021.1466 1102.2897,-1012.5977 1092.0661,-1015.3778 1096.0313,-1021.1466\"/>\n</g>\n<!-- 35 -->\n<g id=\"node36\" class=\"node\">\n<title>35</title>\n<polygon fill=\"#f6d5bd\" stroke=\"#000000\" points=\"1024.5,-901 910.5,-901 910.5,-818 1024.5,-818 1024.5,-901\"/>\n<text text-anchor=\"middle\" x=\"967.5\" y=\"-885.8\" font-family=\"Helvetica,sans-Serif\" font-size=\"14.00\" fill=\"#000000\">Smokes &lt;= 0.5</text>\n<text text-anchor=\"middle\" x=\"967.5\" y=\"-870.8\" font-family=\"Helvetica,sans-Serif\" font-size=\"14.00\" fill=\"#000000\">gini = 0.48</text>\n<text text-anchor=\"middle\" x=\"967.5\" y=\"-855.8\" font-family=\"Helvetica,sans-Serif\" font-size=\"14.00\" fill=\"#000000\">samples = 5</text>\n<text text-anchor=\"middle\" x=\"967.5\" y=\"-840.8\" font-family=\"Helvetica,sans-Serif\" font-size=\"14.00\" fill=\"#000000\">value = [3, 2]</text>\n<text text-anchor=\"middle\" x=\"967.5\" y=\"-825.8\" font-family=\"Helvetica,sans-Serif\" font-size=\"14.00\" fill=\"#000000\">class = 0.0</text>\n</g>\n<!-- 34&#45;&gt;35 -->\n<g id=\"edge35\" class=\"edge\">\n<title>34&#45;&gt;35</title>\n<path fill=\"none\" stroke=\"#000000\" d=\"M968.8005,-936.8796C968.6628,-928.6838 968.5166,-919.9891 968.374,-911.5013\"/>\n<polygon fill=\"#000000\" stroke=\"#000000\" points=\"971.8701,-911.2378 968.2025,-901.2981 964.8711,-911.3555 971.8701,-911.2378\"/>\n</g>\n<!-- 38 -->\n<g id=\"node39\" class=\"node\">\n<title>38</title>\n<polygon fill=\"#55abe9\" stroke=\"#000000\" points=\"1194,-901 1043,-901 1043,-818 1194,-818 1194,-901\"/>\n<text text-anchor=\"middle\" x=\"1118.5\" y=\"-885.8\" font-family=\"Helvetica,sans-Serif\" font-size=\"14.00\" fill=\"#000000\">IUD (years) &lt;= 0.658</text>\n<text text-anchor=\"middle\" x=\"1118.5\" y=\"-870.8\" font-family=\"Helvetica,sans-Serif\" font-size=\"14.00\" fill=\"#000000\">gini = 0.219</text>\n<text text-anchor=\"middle\" x=\"1118.5\" y=\"-855.8\" font-family=\"Helvetica,sans-Serif\" font-size=\"14.00\" fill=\"#000000\">samples = 40</text>\n<text text-anchor=\"middle\" x=\"1118.5\" y=\"-840.8\" font-family=\"Helvetica,sans-Serif\" font-size=\"14.00\" fill=\"#000000\">value = [5, 35]</text>\n<text text-anchor=\"middle\" x=\"1118.5\" y=\"-825.8\" font-family=\"Helvetica,sans-Serif\" font-size=\"14.00\" fill=\"#000000\">class = 1.0</text>\n</g>\n<!-- 34&#45;&gt;38 -->\n<g id=\"edge38\" class=\"edge\">\n<title>34&#45;&gt;38</title>\n<path fill=\"none\" stroke=\"#000000\" d=\"M1021.613,-936.8796C1033.5225,-927.368 1046.2734,-917.1843 1058.4844,-907.432\"/>\n<polygon fill=\"#000000\" stroke=\"#000000\" points=\"1060.7868,-910.0724 1066.4165,-901.0969 1056.4184,-904.6027 1060.7868,-910.0724\"/>\n</g>\n<!-- 36 -->\n<g id=\"node37\" class=\"node\">\n<title>36</title>\n<polygon fill=\"#e58139\" stroke=\"#000000\" points=\"925,-774.5 826,-774.5 826,-706.5 925,-706.5 925,-774.5\"/>\n<text text-anchor=\"middle\" x=\"875.5\" y=\"-759.3\" font-family=\"Helvetica,sans-Serif\" font-size=\"14.00\" fill=\"#000000\">gini = 0.0</text>\n<text text-anchor=\"middle\" x=\"875.5\" y=\"-744.3\" font-family=\"Helvetica,sans-Serif\" font-size=\"14.00\" fill=\"#000000\">samples = 3</text>\n<text text-anchor=\"middle\" x=\"875.5\" y=\"-729.3\" font-family=\"Helvetica,sans-Serif\" font-size=\"14.00\" fill=\"#000000\">value = [3, 0]</text>\n<text text-anchor=\"middle\" x=\"875.5\" y=\"-714.3\" font-family=\"Helvetica,sans-Serif\" font-size=\"14.00\" fill=\"#000000\">class = 0.0</text>\n</g>\n<!-- 35&#45;&gt;36 -->\n<g id=\"edge36\" class=\"edge\">\n<title>35&#45;&gt;36</title>\n<path fill=\"none\" stroke=\"#000000\" d=\"M935.3229,-817.8796C926.5667,-806.5536 917.0738,-794.2748 908.2844,-782.9058\"/>\n<polygon fill=\"#000000\" stroke=\"#000000\" points=\"910.9146,-780.5856 902.0292,-774.8149 905.3766,-784.8671 910.9146,-780.5856\"/>\n</g>\n<!-- 37 -->\n<g id=\"node38\" class=\"node\">\n<title>37</title>\n<polygon fill=\"#399de5\" stroke=\"#000000\" points=\"1042,-774.5 943,-774.5 943,-706.5 1042,-706.5 1042,-774.5\"/>\n<text text-anchor=\"middle\" x=\"992.5\" y=\"-759.3\" font-family=\"Helvetica,sans-Serif\" font-size=\"14.00\" fill=\"#000000\">gini = 0.0</text>\n<text text-anchor=\"middle\" x=\"992.5\" y=\"-744.3\" font-family=\"Helvetica,sans-Serif\" font-size=\"14.00\" fill=\"#000000\">samples = 2</text>\n<text text-anchor=\"middle\" x=\"992.5\" y=\"-729.3\" font-family=\"Helvetica,sans-Serif\" font-size=\"14.00\" fill=\"#000000\">value = [0, 2]</text>\n<text text-anchor=\"middle\" x=\"992.5\" y=\"-714.3\" font-family=\"Helvetica,sans-Serif\" font-size=\"14.00\" fill=\"#000000\">class = 1.0</text>\n</g>\n<!-- 35&#45;&gt;37 -->\n<g id=\"edge37\" class=\"edge\">\n<title>35&#45;&gt;37</title>\n<path fill=\"none\" stroke=\"#000000\" d=\"M976.2438,-817.8796C978.4846,-807.2134 980.9029,-795.7021 983.1719,-784.9015\"/>\n<polygon fill=\"#000000\" stroke=\"#000000\" points=\"986.6602,-785.3209 985.291,-774.8149 979.8097,-783.8817 986.6602,-785.3209\"/>\n</g>\n<!-- 39 -->\n<g id=\"node40\" class=\"node\">\n<title>39</title>\n<polygon fill=\"#50a8e8\" stroke=\"#000000\" points=\"1171,-782 1064,-782 1064,-699 1171,-699 1171,-782\"/>\n<text text-anchor=\"middle\" x=\"1117.5\" y=\"-766.8\" font-family=\"Helvetica,sans-Serif\" font-size=\"14.00\" fill=\"#000000\">Age &lt;= 0.667</text>\n<text text-anchor=\"middle\" x=\"1117.5\" y=\"-751.8\" font-family=\"Helvetica,sans-Serif\" font-size=\"14.00\" fill=\"#000000\">gini = 0.184</text>\n<text text-anchor=\"middle\" x=\"1117.5\" y=\"-736.8\" font-family=\"Helvetica,sans-Serif\" font-size=\"14.00\" fill=\"#000000\">samples = 39</text>\n<text text-anchor=\"middle\" x=\"1117.5\" y=\"-721.8\" font-family=\"Helvetica,sans-Serif\" font-size=\"14.00\" fill=\"#000000\">value = [4, 35]</text>\n<text text-anchor=\"middle\" x=\"1117.5\" y=\"-706.8\" font-family=\"Helvetica,sans-Serif\" font-size=\"14.00\" fill=\"#000000\">class = 1.0</text>\n</g>\n<!-- 38&#45;&gt;39 -->\n<g id=\"edge39\" class=\"edge\">\n<title>38&#45;&gt;39</title>\n<path fill=\"none\" stroke=\"#000000\" d=\"M1118.1502,-817.8796C1118.0814,-809.6838 1118.0083,-800.9891 1117.937,-792.5013\"/>\n<polygon fill=\"#000000\" stroke=\"#000000\" points=\"1121.4352,-792.2683 1117.8512,-782.2981 1114.4355,-792.3272 1121.4352,-792.2683\"/>\n</g>\n<!-- 56 -->\n<g id=\"node57\" class=\"node\">\n<title>56</title>\n<polygon fill=\"#e58139\" stroke=\"#000000\" points=\"1288,-774.5 1189,-774.5 1189,-706.5 1288,-706.5 1288,-774.5\"/>\n<text text-anchor=\"middle\" x=\"1238.5\" y=\"-759.3\" font-family=\"Helvetica,sans-Serif\" font-size=\"14.00\" fill=\"#000000\">gini = 0.0</text>\n<text text-anchor=\"middle\" x=\"1238.5\" y=\"-744.3\" font-family=\"Helvetica,sans-Serif\" font-size=\"14.00\" fill=\"#000000\">samples = 1</text>\n<text text-anchor=\"middle\" x=\"1238.5\" y=\"-729.3\" font-family=\"Helvetica,sans-Serif\" font-size=\"14.00\" fill=\"#000000\">value = [1, 0]</text>\n<text text-anchor=\"middle\" x=\"1238.5\" y=\"-714.3\" font-family=\"Helvetica,sans-Serif\" font-size=\"14.00\" fill=\"#000000\">class = 0.0</text>\n</g>\n<!-- 38&#45;&gt;56 -->\n<g id=\"edge56\" class=\"edge\">\n<title>38&#45;&gt;56</title>\n<path fill=\"none\" stroke=\"#000000\" d=\"M1160.4702,-817.8796C1172.224,-806.2237 1184.9954,-793.5587 1196.7372,-781.9148\"/>\n<polygon fill=\"#000000\" stroke=\"#000000\" points=\"1199.2606,-784.3416 1203.8967,-774.8149 1194.3316,-779.3712 1199.2606,-784.3416\"/>\n</g>\n<!-- 40 -->\n<g id=\"node41\" class=\"node\">\n<title>40</title>\n<polygon fill=\"#45a3e7\" stroke=\"#000000\" points=\"997,-663 890,-663 890,-580 997,-580 997,-663\"/>\n<text text-anchor=\"middle\" x=\"943.5\" y=\"-647.8\" font-family=\"Helvetica,sans-Serif\" font-size=\"14.00\" fill=\"#000000\">Age &lt;= 0.269</text>\n<text text-anchor=\"middle\" x=\"943.5\" y=\"-632.8\" font-family=\"Helvetica,sans-Serif\" font-size=\"14.00\" fill=\"#000000\">gini = 0.111</text>\n<text text-anchor=\"middle\" x=\"943.5\" y=\"-617.8\" font-family=\"Helvetica,sans-Serif\" font-size=\"14.00\" fill=\"#000000\">samples = 34</text>\n<text text-anchor=\"middle\" x=\"943.5\" y=\"-602.8\" font-family=\"Helvetica,sans-Serif\" font-size=\"14.00\" fill=\"#000000\">value = [2, 32]</text>\n<text text-anchor=\"middle\" x=\"943.5\" y=\"-587.8\" font-family=\"Helvetica,sans-Serif\" font-size=\"14.00\" fill=\"#000000\">class = 1.0</text>\n</g>\n<!-- 39&#45;&gt;40 -->\n<g id=\"edge40\" class=\"edge\">\n<title>39&#45;&gt;40</title>\n<path fill=\"none\" stroke=\"#000000\" d=\"M1063.8745,-703.8251C1045.4342,-691.2136 1024.6361,-676.9897 1005.5801,-663.9571\"/>\n<polygon fill=\"#000000\" stroke=\"#000000\" points=\"1007.478,-661.0149 997.248,-658.2587 1003.5264,-666.7928 1007.478,-661.0149\"/>\n</g>\n<!-- 51 -->\n<g id=\"node52\" class=\"node\">\n<title>51</title>\n<polygon fill=\"#bddef6\" stroke=\"#000000\" points=\"1263.5,-663 1015.5,-663 1015.5,-580 1263.5,-580 1263.5,-663\"/>\n<text text-anchor=\"middle\" x=\"1139.5\" y=\"-647.8\" font-family=\"Helvetica,sans-Serif\" font-size=\"14.00\" fill=\"#000000\">Number of sexual partners &lt;= 0.036</text>\n<text text-anchor=\"middle\" x=\"1139.5\" y=\"-632.8\" font-family=\"Helvetica,sans-Serif\" font-size=\"14.00\" fill=\"#000000\">gini = 0.48</text>\n<text text-anchor=\"middle\" x=\"1139.5\" y=\"-617.8\" font-family=\"Helvetica,sans-Serif\" font-size=\"14.00\" fill=\"#000000\">samples = 5</text>\n<text text-anchor=\"middle\" x=\"1139.5\" y=\"-602.8\" font-family=\"Helvetica,sans-Serif\" font-size=\"14.00\" fill=\"#000000\">value = [2, 3]</text>\n<text text-anchor=\"middle\" x=\"1139.5\" y=\"-587.8\" font-family=\"Helvetica,sans-Serif\" font-size=\"14.00\" fill=\"#000000\">class = 1.0</text>\n</g>\n<!-- 39&#45;&gt;51 -->\n<g id=\"edge51\" class=\"edge\">\n<title>39&#45;&gt;51</title>\n<path fill=\"none\" stroke=\"#000000\" d=\"M1125.1945,-698.8796C1126.7264,-690.5938 1128.3525,-681.798 1129.938,-673.2216\"/>\n<polygon fill=\"#000000\" stroke=\"#000000\" points=\"1133.3963,-673.7677 1131.7726,-663.2981 1126.5129,-672.4951 1133.3963,-673.7677\"/>\n</g>\n<!-- 41 -->\n<g id=\"node42\" class=\"node\">\n<title>41</title>\n<polygon fill=\"#61b1ea\" stroke=\"#000000\" points=\"908,-544 801,-544 801,-461 908,-461 908,-544\"/>\n<text text-anchor=\"middle\" x=\"854.5\" y=\"-528.8\" font-family=\"Helvetica,sans-Serif\" font-size=\"14.00\" fill=\"#000000\">Age &lt;= 0.244</text>\n<text text-anchor=\"middle\" x=\"854.5\" y=\"-513.8\" font-family=\"Helvetica,sans-Serif\" font-size=\"14.00\" fill=\"#000000\">gini = 0.278</text>\n<text text-anchor=\"middle\" x=\"854.5\" y=\"-498.8\" font-family=\"Helvetica,sans-Serif\" font-size=\"14.00\" fill=\"#000000\">samples = 12</text>\n<text text-anchor=\"middle\" x=\"854.5\" y=\"-483.8\" font-family=\"Helvetica,sans-Serif\" font-size=\"14.00\" fill=\"#000000\">value = [2, 10]</text>\n<text text-anchor=\"middle\" x=\"854.5\" y=\"-468.8\" font-family=\"Helvetica,sans-Serif\" font-size=\"14.00\" fill=\"#000000\">class = 1.0</text>\n</g>\n<!-- 40&#45;&gt;41 -->\n<g id=\"edge41\" class=\"edge\">\n<title>40&#45;&gt;41</title>\n<path fill=\"none\" stroke=\"#000000\" d=\"M912.3721,-579.8796C905.771,-571.0534 898.7371,-561.6485 891.9298,-552.5466\"/>\n<polygon fill=\"#000000\" stroke=\"#000000\" points=\"894.5528,-550.2099 885.7607,-544.2981 888.9472,-554.4024 894.5528,-550.2099\"/>\n</g>\n<!-- 50 -->\n<g id=\"node51\" class=\"node\">\n<title>50</title>\n<polygon fill=\"#399de5\" stroke=\"#000000\" points=\"1033,-536.5 926,-536.5 926,-468.5 1033,-468.5 1033,-536.5\"/>\n<text text-anchor=\"middle\" x=\"979.5\" y=\"-521.3\" font-family=\"Helvetica,sans-Serif\" font-size=\"14.00\" fill=\"#000000\">gini = 0.0</text>\n<text text-anchor=\"middle\" x=\"979.5\" y=\"-506.3\" font-family=\"Helvetica,sans-Serif\" font-size=\"14.00\" fill=\"#000000\">samples = 22</text>\n<text text-anchor=\"middle\" x=\"979.5\" y=\"-491.3\" font-family=\"Helvetica,sans-Serif\" font-size=\"14.00\" fill=\"#000000\">value = [0, 22]</text>\n<text text-anchor=\"middle\" x=\"979.5\" y=\"-476.3\" font-family=\"Helvetica,sans-Serif\" font-size=\"14.00\" fill=\"#000000\">class = 1.0</text>\n</g>\n<!-- 40&#45;&gt;50 -->\n<g id=\"edge50\" class=\"edge\">\n<title>40&#45;&gt;50</title>\n<path fill=\"none\" stroke=\"#000000\" d=\"M956.0911,-579.8796C959.3511,-569.1034 962.872,-557.4647 966.1686,-546.5677\"/>\n<polygon fill=\"#000000\" stroke=\"#000000\" points=\"969.5734,-547.4 969.119,-536.8149 962.8733,-545.373 969.5734,-547.4\"/>\n</g>\n<!-- 42 -->\n<g id=\"node43\" class=\"node\">\n<title>42</title>\n<polygon fill=\"#4da7e8\" stroke=\"#000000\" points=\"895.5,-425 757.5,-425 757.5,-342 895.5,-342 895.5,-425\"/>\n<text text-anchor=\"middle\" x=\"826.5\" y=\"-409.8\" font-family=\"Helvetica,sans-Serif\" font-size=\"14.00\" fill=\"#000000\">Hinselmann &lt;= 0.5</text>\n<text text-anchor=\"middle\" x=\"826.5\" y=\"-394.8\" font-family=\"Helvetica,sans-Serif\" font-size=\"14.00\" fill=\"#000000\">gini = 0.165</text>\n<text text-anchor=\"middle\" x=\"826.5\" y=\"-379.8\" font-family=\"Helvetica,sans-Serif\" font-size=\"14.00\" fill=\"#000000\">samples = 11</text>\n<text text-anchor=\"middle\" x=\"826.5\" y=\"-364.8\" font-family=\"Helvetica,sans-Serif\" font-size=\"14.00\" fill=\"#000000\">value = [1, 10]</text>\n<text text-anchor=\"middle\" x=\"826.5\" y=\"-349.8\" font-family=\"Helvetica,sans-Serif\" font-size=\"14.00\" fill=\"#000000\">class = 1.0</text>\n</g>\n<!-- 41&#45;&gt;42 -->\n<g id=\"edge42\" class=\"edge\">\n<title>41&#45;&gt;42</title>\n<path fill=\"none\" stroke=\"#000000\" d=\"M844.707,-460.8796C842.7574,-452.5938 840.6878,-443.798 838.6698,-435.2216\"/>\n<polygon fill=\"#000000\" stroke=\"#000000\" points=\"842.0323,-434.2306 836.3348,-425.2981 835.2183,-435.8339 842.0323,-434.2306\"/>\n</g>\n<!-- 49 -->\n<g id=\"node50\" class=\"node\">\n<title>49</title>\n<polygon fill=\"#e58139\" stroke=\"#000000\" points=\"1013,-417.5 914,-417.5 914,-349.5 1013,-349.5 1013,-417.5\"/>\n<text text-anchor=\"middle\" x=\"963.5\" y=\"-402.3\" font-family=\"Helvetica,sans-Serif\" font-size=\"14.00\" fill=\"#000000\">gini = 0.0</text>\n<text text-anchor=\"middle\" x=\"963.5\" y=\"-387.3\" font-family=\"Helvetica,sans-Serif\" font-size=\"14.00\" fill=\"#000000\">samples = 1</text>\n<text text-anchor=\"middle\" x=\"963.5\" y=\"-372.3\" font-family=\"Helvetica,sans-Serif\" font-size=\"14.00\" fill=\"#000000\">value = [1, 0]</text>\n<text text-anchor=\"middle\" x=\"963.5\" y=\"-357.3\" font-family=\"Helvetica,sans-Serif\" font-size=\"14.00\" fill=\"#000000\">class = 0.0</text>\n</g>\n<!-- 41&#45;&gt;49 -->\n<g id=\"edge49\" class=\"edge\">\n<title>41&#45;&gt;49</title>\n<path fill=\"none\" stroke=\"#000000\" d=\"M892.6229,-460.8796C903.1986,-449.3337 914.6812,-436.7976 925.2633,-425.2446\"/>\n<polygon fill=\"#000000\" stroke=\"#000000\" points=\"927.8951,-427.5531 932.0687,-417.8149 922.7333,-422.825 927.8951,-427.5531\"/>\n</g>\n<!-- 43 -->\n<g id=\"node44\" class=\"node\">\n<title>43</title>\n<polygon fill=\"#7bbeee\" stroke=\"#000000\" points=\"890.5,-306 642.5,-306 642.5,-223 890.5,-223 890.5,-306\"/>\n<text text-anchor=\"middle\" x=\"766.5\" y=\"-290.8\" font-family=\"Helvetica,sans-Serif\" font-size=\"14.00\" fill=\"#000000\">Number of sexual partners &lt;= 0.107</text>\n<text text-anchor=\"middle\" x=\"766.5\" y=\"-275.8\" font-family=\"Helvetica,sans-Serif\" font-size=\"14.00\" fill=\"#000000\">gini = 0.375</text>\n<text text-anchor=\"middle\" x=\"766.5\" y=\"-260.8\" font-family=\"Helvetica,sans-Serif\" font-size=\"14.00\" fill=\"#000000\">samples = 4</text>\n<text text-anchor=\"middle\" x=\"766.5\" y=\"-245.8\" font-family=\"Helvetica,sans-Serif\" font-size=\"14.00\" fill=\"#000000\">value = [1, 3]</text>\n<text text-anchor=\"middle\" x=\"766.5\" y=\"-230.8\" font-family=\"Helvetica,sans-Serif\" font-size=\"14.00\" fill=\"#000000\">class = 1.0</text>\n</g>\n<!-- 42&#45;&gt;43 -->\n<g id=\"edge43\" class=\"edge\">\n<title>42&#45;&gt;43</title>\n<path fill=\"none\" stroke=\"#000000\" d=\"M805.5149,-341.8796C801.201,-333.3236 796.6128,-324.2238 792.1554,-315.3833\"/>\n<polygon fill=\"#000000\" stroke=\"#000000\" points=\"795.2021,-313.6515 787.5747,-306.2981 788.9516,-316.8031 795.2021,-313.6515\"/>\n</g>\n<!-- 48 -->\n<g id=\"node49\" class=\"node\">\n<title>48</title>\n<polygon fill=\"#399de5\" stroke=\"#000000\" points=\"1008,-298.5 909,-298.5 909,-230.5 1008,-230.5 1008,-298.5\"/>\n<text text-anchor=\"middle\" x=\"958.5\" y=\"-283.3\" font-family=\"Helvetica,sans-Serif\" font-size=\"14.00\" fill=\"#000000\">gini = 0.0</text>\n<text text-anchor=\"middle\" x=\"958.5\" y=\"-268.3\" font-family=\"Helvetica,sans-Serif\" font-size=\"14.00\" fill=\"#000000\">samples = 7</text>\n<text text-anchor=\"middle\" x=\"958.5\" y=\"-253.3\" font-family=\"Helvetica,sans-Serif\" font-size=\"14.00\" fill=\"#000000\">value = [0, 7]</text>\n<text text-anchor=\"middle\" x=\"958.5\" y=\"-238.3\" font-family=\"Helvetica,sans-Serif\" font-size=\"14.00\" fill=\"#000000\">class = 1.0</text>\n</g>\n<!-- 42&#45;&gt;48 -->\n<g id=\"edge48\" class=\"edge\">\n<title>42&#45;&gt;48</title>\n<path fill=\"none\" stroke=\"#000000\" d=\"M872.6672,-341.8796C885.7183,-330.1138 899.9101,-317.3197 912.9261,-305.5855\"/>\n<polygon fill=\"#000000\" stroke=\"#000000\" points=\"915.3526,-308.1104 920.4364,-298.8149 910.6654,-302.9113 915.3526,-308.1104\"/>\n</g>\n<!-- 44 -->\n<g id=\"node45\" class=\"node\">\n<title>44</title>\n<polygon fill=\"#399de5\" stroke=\"#000000\" points=\"720,-179.5 621,-179.5 621,-111.5 720,-111.5 720,-179.5\"/>\n<text text-anchor=\"middle\" x=\"670.5\" y=\"-164.3\" font-family=\"Helvetica,sans-Serif\" font-size=\"14.00\" fill=\"#000000\">gini = 0.0</text>\n<text text-anchor=\"middle\" x=\"670.5\" y=\"-149.3\" font-family=\"Helvetica,sans-Serif\" font-size=\"14.00\" fill=\"#000000\">samples = 2</text>\n<text text-anchor=\"middle\" x=\"670.5\" y=\"-134.3\" font-family=\"Helvetica,sans-Serif\" font-size=\"14.00\" fill=\"#000000\">value = [0, 2]</text>\n<text text-anchor=\"middle\" x=\"670.5\" y=\"-119.3\" font-family=\"Helvetica,sans-Serif\" font-size=\"14.00\" fill=\"#000000\">class = 1.0</text>\n</g>\n<!-- 43&#45;&gt;44 -->\n<g id=\"edge44\" class=\"edge\">\n<title>43&#45;&gt;44</title>\n<path fill=\"none\" stroke=\"#000000\" d=\"M732.9239,-222.8796C723.7869,-211.5536 713.8813,-199.2748 704.7098,-187.9058\"/>\n<polygon fill=\"#000000\" stroke=\"#000000\" points=\"707.1856,-185.4005 698.1826,-179.8149 701.7374,-189.7957 707.1856,-185.4005\"/>\n</g>\n<!-- 45 -->\n<g id=\"node46\" class=\"node\">\n<title>45</title>\n<polygon fill=\"#ffffff\" stroke=\"#000000\" points=\"986.5,-187 738.5,-187 738.5,-104 986.5,-104 986.5,-187\"/>\n<text text-anchor=\"middle\" x=\"862.5\" y=\"-171.8\" font-family=\"Helvetica,sans-Serif\" font-size=\"14.00\" fill=\"#000000\">Number of sexual partners &lt;= 0.179</text>\n<text text-anchor=\"middle\" x=\"862.5\" y=\"-156.8\" font-family=\"Helvetica,sans-Serif\" font-size=\"14.00\" fill=\"#000000\">gini = 0.5</text>\n<text text-anchor=\"middle\" x=\"862.5\" y=\"-141.8\" font-family=\"Helvetica,sans-Serif\" font-size=\"14.00\" fill=\"#000000\">samples = 2</text>\n<text text-anchor=\"middle\" x=\"862.5\" y=\"-126.8\" font-family=\"Helvetica,sans-Serif\" font-size=\"14.00\" fill=\"#000000\">value = [1, 1]</text>\n<text text-anchor=\"middle\" x=\"862.5\" y=\"-111.8\" font-family=\"Helvetica,sans-Serif\" font-size=\"14.00\" fill=\"#000000\">class = 0.0</text>\n</g>\n<!-- 43&#45;&gt;45 -->\n<g id=\"edge45\" class=\"edge\">\n<title>43&#45;&gt;45</title>\n<path fill=\"none\" stroke=\"#000000\" d=\"M800.0761,-222.8796C807.2691,-213.9633 814.9384,-204.4565 822.351,-195.268\"/>\n<polygon fill=\"#000000\" stroke=\"#000000\" points=\"825.2258,-197.2788 828.7805,-187.2981 819.7776,-192.8836 825.2258,-197.2788\"/>\n</g>\n<!-- 46 -->\n<g id=\"node47\" class=\"node\">\n<title>46</title>\n<polygon fill=\"#e58139\" stroke=\"#000000\" points=\"854,-68 755,-68 755,0 854,0 854,-68\"/>\n<text text-anchor=\"middle\" x=\"804.5\" y=\"-52.8\" font-family=\"Helvetica,sans-Serif\" font-size=\"14.00\" fill=\"#000000\">gini = 0.0</text>\n<text text-anchor=\"middle\" x=\"804.5\" y=\"-37.8\" font-family=\"Helvetica,sans-Serif\" font-size=\"14.00\" fill=\"#000000\">samples = 1</text>\n<text text-anchor=\"middle\" x=\"804.5\" y=\"-22.8\" font-family=\"Helvetica,sans-Serif\" font-size=\"14.00\" fill=\"#000000\">value = [1, 0]</text>\n<text text-anchor=\"middle\" x=\"804.5\" y=\"-7.8\" font-family=\"Helvetica,sans-Serif\" font-size=\"14.00\" fill=\"#000000\">class = 0.0</text>\n</g>\n<!-- 45&#45;&gt;46 -->\n<g id=\"edge46\" class=\"edge\">\n<title>45&#45;&gt;46</title>\n<path fill=\"none\" stroke=\"#000000\" d=\"M840.9029,-103.9815C836.3612,-95.2504 831.5598,-86.0202 826.9863,-77.2281\"/>\n<polygon fill=\"#000000\" stroke=\"#000000\" points=\"830.0431,-75.52 822.3233,-68.2637 823.8331,-78.7504 830.0431,-75.52\"/>\n</g>\n<!-- 47 -->\n<g id=\"node48\" class=\"node\">\n<title>47</title>\n<polygon fill=\"#399de5\" stroke=\"#000000\" points=\"971,-68 872,-68 872,0 971,0 971,-68\"/>\n<text text-anchor=\"middle\" x=\"921.5\" y=\"-52.8\" font-family=\"Helvetica,sans-Serif\" font-size=\"14.00\" fill=\"#000000\">gini = 0.0</text>\n<text text-anchor=\"middle\" x=\"921.5\" y=\"-37.8\" font-family=\"Helvetica,sans-Serif\" font-size=\"14.00\" fill=\"#000000\">samples = 1</text>\n<text text-anchor=\"middle\" x=\"921.5\" y=\"-22.8\" font-family=\"Helvetica,sans-Serif\" font-size=\"14.00\" fill=\"#000000\">value = [0, 1]</text>\n<text text-anchor=\"middle\" x=\"921.5\" y=\"-7.8\" font-family=\"Helvetica,sans-Serif\" font-size=\"14.00\" fill=\"#000000\">class = 1.0</text>\n</g>\n<!-- 45&#45;&gt;47 -->\n<g id=\"edge47\" class=\"edge\">\n<title>45&#45;&gt;47</title>\n<path fill=\"none\" stroke=\"#000000\" d=\"M884.4694,-103.9815C889.0895,-95.2504 893.9736,-86.0202 898.626,-77.2281\"/>\n<polygon fill=\"#000000\" stroke=\"#000000\" points=\"901.7859,-78.7395 903.3694,-68.2637 895.5987,-75.4655 901.7859,-78.7395\"/>\n</g>\n<!-- 52 -->\n<g id=\"node53\" class=\"node\">\n<title>52</title>\n<polygon fill=\"#399de5\" stroke=\"#000000\" points=\"1156,-536.5 1057,-536.5 1057,-468.5 1156,-468.5 1156,-536.5\"/>\n<text text-anchor=\"middle\" x=\"1106.5\" y=\"-521.3\" font-family=\"Helvetica,sans-Serif\" font-size=\"14.00\" fill=\"#000000\">gini = 0.0</text>\n<text text-anchor=\"middle\" x=\"1106.5\" y=\"-506.3\" font-family=\"Helvetica,sans-Serif\" font-size=\"14.00\" fill=\"#000000\">samples = 2</text>\n<text text-anchor=\"middle\" x=\"1106.5\" y=\"-491.3\" font-family=\"Helvetica,sans-Serif\" font-size=\"14.00\" fill=\"#000000\">value = [0, 2]</text>\n<text text-anchor=\"middle\" x=\"1106.5\" y=\"-476.3\" font-family=\"Helvetica,sans-Serif\" font-size=\"14.00\" fill=\"#000000\">class = 1.0</text>\n</g>\n<!-- 51&#45;&gt;52 -->\n<g id=\"edge52\" class=\"edge\">\n<title>51&#45;&gt;52</title>\n<path fill=\"none\" stroke=\"#000000\" d=\"M1127.9582,-579.8796C1124.9699,-569.1034 1121.7423,-557.4647 1118.7205,-546.5677\"/>\n<polygon fill=\"#000000\" stroke=\"#000000\" points=\"1122.061,-545.516 1116.0159,-536.8149 1115.3155,-547.3866 1122.061,-545.516\"/>\n</g>\n<!-- 53 -->\n<g id=\"node54\" class=\"node\">\n<title>53</title>\n<polygon fill=\"#f2c09c\" stroke=\"#000000\" points=\"1278.5,-544 1174.5,-544 1174.5,-461 1278.5,-461 1278.5,-544\"/>\n<text text-anchor=\"middle\" x=\"1226.5\" y=\"-528.8\" font-family=\"Helvetica,sans-Serif\" font-size=\"14.00\" fill=\"#000000\">Age &lt;= 0.846</text>\n<text text-anchor=\"middle\" x=\"1226.5\" y=\"-513.8\" font-family=\"Helvetica,sans-Serif\" font-size=\"14.00\" fill=\"#000000\">gini = 0.444</text>\n<text text-anchor=\"middle\" x=\"1226.5\" y=\"-498.8\" font-family=\"Helvetica,sans-Serif\" font-size=\"14.00\" fill=\"#000000\">samples = 3</text>\n<text text-anchor=\"middle\" x=\"1226.5\" y=\"-483.8\" font-family=\"Helvetica,sans-Serif\" font-size=\"14.00\" fill=\"#000000\">value = [2, 1]</text>\n<text text-anchor=\"middle\" x=\"1226.5\" y=\"-468.8\" font-family=\"Helvetica,sans-Serif\" font-size=\"14.00\" fill=\"#000000\">class = 0.0</text>\n</g>\n<!-- 51&#45;&gt;53 -->\n<g id=\"edge53\" class=\"edge\">\n<title>51&#45;&gt;53</title>\n<path fill=\"none\" stroke=\"#000000\" d=\"M1169.9284,-579.8796C1176.3811,-571.0534 1183.257,-561.6485 1189.9113,-552.5466\"/>\n<polygon fill=\"#000000\" stroke=\"#000000\" points=\"1192.8653,-554.4364 1195.9417,-544.2981 1187.2144,-550.3051 1192.8653,-554.4364\"/>\n</g>\n<!-- 54 -->\n<g id=\"node55\" class=\"node\">\n<title>54</title>\n<polygon fill=\"#e58139\" stroke=\"#000000\" points=\"1186,-417.5 1087,-417.5 1087,-349.5 1186,-349.5 1186,-417.5\"/>\n<text text-anchor=\"middle\" x=\"1136.5\" y=\"-402.3\" font-family=\"Helvetica,sans-Serif\" font-size=\"14.00\" fill=\"#000000\">gini = 0.0</text>\n<text text-anchor=\"middle\" x=\"1136.5\" y=\"-387.3\" font-family=\"Helvetica,sans-Serif\" font-size=\"14.00\" fill=\"#000000\">samples = 2</text>\n<text text-anchor=\"middle\" x=\"1136.5\" y=\"-372.3\" font-family=\"Helvetica,sans-Serif\" font-size=\"14.00\" fill=\"#000000\">value = [2, 0]</text>\n<text text-anchor=\"middle\" x=\"1136.5\" y=\"-357.3\" font-family=\"Helvetica,sans-Serif\" font-size=\"14.00\" fill=\"#000000\">class = 0.0</text>\n</g>\n<!-- 53&#45;&gt;54 -->\n<g id=\"edge54\" class=\"edge\">\n<title>53&#45;&gt;54</title>\n<path fill=\"none\" stroke=\"#000000\" d=\"M1195.0224,-460.8796C1186.4565,-449.5536 1177.17,-437.2748 1168.5717,-425.9058\"/>\n<polygon fill=\"#000000\" stroke=\"#000000\" points=\"1171.2762,-423.6795 1162.4525,-417.8149 1165.6931,-427.902 1171.2762,-423.6795\"/>\n</g>\n<!-- 55 -->\n<g id=\"node56\" class=\"node\">\n<title>55</title>\n<polygon fill=\"#399de5\" stroke=\"#000000\" points=\"1303,-417.5 1204,-417.5 1204,-349.5 1303,-349.5 1303,-417.5\"/>\n<text text-anchor=\"middle\" x=\"1253.5\" y=\"-402.3\" font-family=\"Helvetica,sans-Serif\" font-size=\"14.00\" fill=\"#000000\">gini = 0.0</text>\n<text text-anchor=\"middle\" x=\"1253.5\" y=\"-387.3\" font-family=\"Helvetica,sans-Serif\" font-size=\"14.00\" fill=\"#000000\">samples = 1</text>\n<text text-anchor=\"middle\" x=\"1253.5\" y=\"-372.3\" font-family=\"Helvetica,sans-Serif\" font-size=\"14.00\" fill=\"#000000\">value = [0, 1]</text>\n<text text-anchor=\"middle\" x=\"1253.5\" y=\"-357.3\" font-family=\"Helvetica,sans-Serif\" font-size=\"14.00\" fill=\"#000000\">class = 1.0</text>\n</g>\n<!-- 53&#45;&gt;55 -->\n<g id=\"edge55\" class=\"edge\">\n<title>53&#45;&gt;55</title>\n<path fill=\"none\" stroke=\"#000000\" d=\"M1235.9433,-460.8796C1238.3883,-450.1034 1241.029,-438.4647 1243.5014,-427.5677\"/>\n<polygon fill=\"#000000\" stroke=\"#000000\" points=\"1246.9148,-428.3415 1245.7143,-417.8149 1240.0883,-426.7926 1246.9148,-428.3415\"/>\n</g>\n</g>\n</svg>\n"
          },
          "metadata": {},
          "execution_count": 9
        }
      ]
    },
    {
      "cell_type": "code",
      "source": [
        "visualizationMedian.render('Q1MedianSKLearn')\n",
        "visualizationMean.render('Q1MeanSKLearn')"
      ],
      "metadata": {
        "colab": {
          "base_uri": "https://localhost:8080/"
        },
        "id": "WoPSZLiIjPs2",
        "outputId": "2e92cd05-0163-467a-e775-16d60b54cf00"
      },
      "execution_count": null,
      "outputs": [
        {
          "output_type": "execute_result",
          "data": {
            "text/plain": [
              "'Q1MeanSKLearn.pdf'"
            ],
            "application/vnd.google.colaboratory.intrinsic+json": {
              "type": "string"
            }
          },
          "metadata": {},
          "execution_count": 10
        }
      ]
    },
    {
      "cell_type": "code",
      "source": [
        "files.download('Q1MedianSKLearn.pdf') \n",
        "files.download('Q1MeanSKLearn.pdf') "
      ],
      "metadata": {
        "colab": {
          "base_uri": "https://localhost:8080/",
          "height": 17
        },
        "id": "1vzqIdqXj98S",
        "outputId": "e51cd583-3388-4c39-e1ad-c4c601d5c871"
      },
      "execution_count": null,
      "outputs": [
        {
          "output_type": "display_data",
          "data": {
            "text/plain": [
              "<IPython.core.display.Javascript object>"
            ],
            "application/javascript": [
              "\n",
              "    async function download(id, filename, size) {\n",
              "      if (!google.colab.kernel.accessAllowed) {\n",
              "        return;\n",
              "      }\n",
              "      const div = document.createElement('div');\n",
              "      const label = document.createElement('label');\n",
              "      label.textContent = `Downloading \"${filename}\": `;\n",
              "      div.appendChild(label);\n",
              "      const progress = document.createElement('progress');\n",
              "      progress.max = size;\n",
              "      div.appendChild(progress);\n",
              "      document.body.appendChild(div);\n",
              "\n",
              "      const buffers = [];\n",
              "      let downloaded = 0;\n",
              "\n",
              "      const channel = await google.colab.kernel.comms.open(id);\n",
              "      // Send a message to notify the kernel that we're ready.\n",
              "      channel.send({})\n",
              "\n",
              "      for await (const message of channel.messages) {\n",
              "        // Send a message to notify the kernel that we're ready.\n",
              "        channel.send({})\n",
              "        if (message.buffers) {\n",
              "          for (const buffer of message.buffers) {\n",
              "            buffers.push(buffer);\n",
              "            downloaded += buffer.byteLength;\n",
              "            progress.value = downloaded;\n",
              "          }\n",
              "        }\n",
              "      }\n",
              "      const blob = new Blob(buffers, {type: 'application/binary'});\n",
              "      const a = document.createElement('a');\n",
              "      a.href = window.URL.createObjectURL(blob);\n",
              "      a.download = filename;\n",
              "      div.appendChild(a);\n",
              "      a.click();\n",
              "      div.remove();\n",
              "    }\n",
              "  "
            ]
          },
          "metadata": {}
        },
        {
          "output_type": "display_data",
          "data": {
            "text/plain": [
              "<IPython.core.display.Javascript object>"
            ],
            "application/javascript": [
              "download(\"download_62974b40-74ca-474a-9fc0-45bf13678241\", \"Q1MedianSKLearn.pdf\", 22513)"
            ]
          },
          "metadata": {}
        },
        {
          "output_type": "display_data",
          "data": {
            "text/plain": [
              "<IPython.core.display.Javascript object>"
            ],
            "application/javascript": [
              "\n",
              "    async function download(id, filename, size) {\n",
              "      if (!google.colab.kernel.accessAllowed) {\n",
              "        return;\n",
              "      }\n",
              "      const div = document.createElement('div');\n",
              "      const label = document.createElement('label');\n",
              "      label.textContent = `Downloading \"${filename}\": `;\n",
              "      div.appendChild(label);\n",
              "      const progress = document.createElement('progress');\n",
              "      progress.max = size;\n",
              "      div.appendChild(progress);\n",
              "      document.body.appendChild(div);\n",
              "\n",
              "      const buffers = [];\n",
              "      let downloaded = 0;\n",
              "\n",
              "      const channel = await google.colab.kernel.comms.open(id);\n",
              "      // Send a message to notify the kernel that we're ready.\n",
              "      channel.send({})\n",
              "\n",
              "      for await (const message of channel.messages) {\n",
              "        // Send a message to notify the kernel that we're ready.\n",
              "        channel.send({})\n",
              "        if (message.buffers) {\n",
              "          for (const buffer of message.buffers) {\n",
              "            buffers.push(buffer);\n",
              "            downloaded += buffer.byteLength;\n",
              "            progress.value = downloaded;\n",
              "          }\n",
              "        }\n",
              "      }\n",
              "      const blob = new Blob(buffers, {type: 'application/binary'});\n",
              "      const a = document.createElement('a');\n",
              "      a.href = window.URL.createObjectURL(blob);\n",
              "      a.download = filename;\n",
              "      div.appendChild(a);\n",
              "      a.click();\n",
              "      div.remove();\n",
              "    }\n",
              "  "
            ]
          },
          "metadata": {}
        },
        {
          "output_type": "display_data",
          "data": {
            "text/plain": [
              "<IPython.core.display.Javascript object>"
            ],
            "application/javascript": [
              "download(\"download_31112c5a-d44e-4d2d-9d2d-82f01620fe45\", \"Q1MeanSKLearn.pdf\", 22185)"
            ]
          },
          "metadata": {}
        }
      ]
    },
    {
      "cell_type": "code",
      "source": [
        "dump(modelMean, 'q1mean.joblib')\n",
        "dump(modelMedian, 'q1median.joblib')"
      ],
      "metadata": {
        "colab": {
          "base_uri": "https://localhost:8080/"
        },
        "id": "VeLli-qWoC2V",
        "outputId": "c7cfd001-06a2-40e4-be6c-aa01aff09113"
      },
      "execution_count": null,
      "outputs": [
        {
          "output_type": "execute_result",
          "data": {
            "text/plain": [
              "['q1median.joblib']"
            ]
          },
          "metadata": {},
          "execution_count": 12
        }
      ]
    },
    {
      "cell_type": "code",
      "source": [
        "files.download('q1mean.joblib') \n",
        "files.download('q1median.joblib') "
      ],
      "metadata": {
        "colab": {
          "base_uri": "https://localhost:8080/",
          "height": 17
        },
        "id": "9yF0B02Dopte",
        "outputId": "77e4fc2e-5e25-461a-fe45-160186a75579"
      },
      "execution_count": null,
      "outputs": [
        {
          "output_type": "display_data",
          "data": {
            "text/plain": [
              "<IPython.core.display.Javascript object>"
            ],
            "application/javascript": [
              "\n",
              "    async function download(id, filename, size) {\n",
              "      if (!google.colab.kernel.accessAllowed) {\n",
              "        return;\n",
              "      }\n",
              "      const div = document.createElement('div');\n",
              "      const label = document.createElement('label');\n",
              "      label.textContent = `Downloading \"${filename}\": `;\n",
              "      div.appendChild(label);\n",
              "      const progress = document.createElement('progress');\n",
              "      progress.max = size;\n",
              "      div.appendChild(progress);\n",
              "      document.body.appendChild(div);\n",
              "\n",
              "      const buffers = [];\n",
              "      let downloaded = 0;\n",
              "\n",
              "      const channel = await google.colab.kernel.comms.open(id);\n",
              "      // Send a message to notify the kernel that we're ready.\n",
              "      channel.send({})\n",
              "\n",
              "      for await (const message of channel.messages) {\n",
              "        // Send a message to notify the kernel that we're ready.\n",
              "        channel.send({})\n",
              "        if (message.buffers) {\n",
              "          for (const buffer of message.buffers) {\n",
              "            buffers.push(buffer);\n",
              "            downloaded += buffer.byteLength;\n",
              "            progress.value = downloaded;\n",
              "          }\n",
              "        }\n",
              "      }\n",
              "      const blob = new Blob(buffers, {type: 'application/binary'});\n",
              "      const a = document.createElement('a');\n",
              "      a.href = window.URL.createObjectURL(blob);\n",
              "      a.download = filename;\n",
              "      div.appendChild(a);\n",
              "      a.click();\n",
              "      div.remove();\n",
              "    }\n",
              "  "
            ]
          },
          "metadata": {}
        },
        {
          "output_type": "display_data",
          "data": {
            "text/plain": [
              "<IPython.core.display.Javascript object>"
            ],
            "application/javascript": [
              "download(\"download_e18c8ede-1ab3-459c-a7d4-cb64611426fa\", \"q1mean.joblib\", 6568)"
            ]
          },
          "metadata": {}
        },
        {
          "output_type": "display_data",
          "data": {
            "text/plain": [
              "<IPython.core.display.Javascript object>"
            ],
            "application/javascript": [
              "\n",
              "    async function download(id, filename, size) {\n",
              "      if (!google.colab.kernel.accessAllowed) {\n",
              "        return;\n",
              "      }\n",
              "      const div = document.createElement('div');\n",
              "      const label = document.createElement('label');\n",
              "      label.textContent = `Downloading \"${filename}\": `;\n",
              "      div.appendChild(label);\n",
              "      const progress = document.createElement('progress');\n",
              "      progress.max = size;\n",
              "      div.appendChild(progress);\n",
              "      document.body.appendChild(div);\n",
              "\n",
              "      const buffers = [];\n",
              "      let downloaded = 0;\n",
              "\n",
              "      const channel = await google.colab.kernel.comms.open(id);\n",
              "      // Send a message to notify the kernel that we're ready.\n",
              "      channel.send({})\n",
              "\n",
              "      for await (const message of channel.messages) {\n",
              "        // Send a message to notify the kernel that we're ready.\n",
              "        channel.send({})\n",
              "        if (message.buffers) {\n",
              "          for (const buffer of message.buffers) {\n",
              "            buffers.push(buffer);\n",
              "            downloaded += buffer.byteLength;\n",
              "            progress.value = downloaded;\n",
              "          }\n",
              "        }\n",
              "      }\n",
              "      const blob = new Blob(buffers, {type: 'application/binary'});\n",
              "      const a = document.createElement('a');\n",
              "      a.href = window.URL.createObjectURL(blob);\n",
              "      a.download = filename;\n",
              "      div.appendChild(a);\n",
              "      a.click();\n",
              "      div.remove();\n",
              "    }\n",
              "  "
            ]
          },
          "metadata": {}
        },
        {
          "output_type": "display_data",
          "data": {
            "text/plain": [
              "<IPython.core.display.Javascript object>"
            ],
            "application/javascript": [
              "download(\"download_61d76c8a-728e-4a43-8301-72be81a7a1c6\", \"q1median.joblib\", 6712)"
            ]
          },
          "metadata": {}
        }
      ]
    },
    {
      "cell_type": "code",
      "source": [
        "def runMetrics(trueVal,preds):\n",
        "  if len(set(trueVal))<=2:\n",
        "    print('Accuracy = ', accuracy_score(trueVal,preds))\n",
        "    print('Macro Precision = ', precision_score(trueVal,preds,average='macro'))\n",
        "    print('Micro Precision = ', precision_score(trueVal,preds,average='micro'))\n",
        "    print('Weighted Precision = ', precision_score(trueVal,preds,average='weighted'))\n",
        "    print('Macro Recall = ', recall_score(trueVal,preds,average='macro'))\n",
        "    print('Micro Recall = ', recall_score(trueVal,preds,average='micro'))\n",
        "    print('Weighted Recall = ', recall_score(trueVal,preds,average='weighted'))\n",
        "    print('Macro F1 = ', f1_score(trueVal,preds,average='macro'))\n",
        "    print('Micro F1 = ', f1_score(trueVal,preds,average='micro'))\n",
        "    print('Weighted F1 = ', f1_score(trueVal,preds,average='weighted'))\n",
        "    print('\\nClassification Report\\n', classification_report(trueVal,preds))\n",
        "  else:\n",
        "    print('Accuracy = ', accuracy_score(trueVal,preds))\n",
        "    print('Macro Precision = ', precision_score(trueVal,preds,average='macro'))\n",
        "    print('Micro Precision = ', precision_score(trueVal,preds,average='micro'))\n",
        "    print('Weighted Precision = ', precision_score(trueVal,preds,average='weighted'))\n",
        "    print('Macro Recall = ', recall_score(trueVal,preds,average='macro'))\n",
        "    print('Micro Recall = ', recall_score(trueVal,preds,average='micro'))\n",
        "    print('Weighted Recall = ', recall_score(trueVal,preds,average='weighted'))\n",
        "    print('Macro F1 = ', f1_score(trueVal,preds,average='macro'))\n",
        "    print('Micro F1 = ', f1_score(trueVal,preds,average='micro'))\n",
        "    print('Weighted F1 = ', f1_score(trueVal,preds,average='weighted'))\n",
        "    print('\\nClassification Report\\n', classification_report(trueVal,preds))"
      ],
      "metadata": {
        "id": "yTUniYRSpuMW"
      },
      "execution_count": null,
      "outputs": []
    },
    {
      "cell_type": "code",
      "source": [
        "print('Resuts (for mean replacement of null values):')\n",
        "runMetrics(testMeany,modelMean.predict(testMeanx))\n",
        "print('Resuts (for median replacement of null values):')\n",
        "runMetrics(testMediany,modelMedian.predict(testMedianx))"
      ],
      "metadata": {
        "colab": {
          "base_uri": "https://localhost:8080/"
        },
        "id": "X2TtwoEsqOdf",
        "outputId": "1c896827-7e8d-4616-800d-22933a827f4e"
      },
      "execution_count": null,
      "outputs": [
        {
          "output_type": "stream",
          "name": "stdout",
          "text": [
            "Resuts (for mean replacement of null values):\n",
            "Accuracy =  0.9520958083832335\n",
            "Macro Precision =  0.7934210526315789\n",
            "Micro Precision =  0.9520958083832335\n",
            "Weighted Precision =  0.9613614875512133\n",
            "Macro Recall =  0.8898601398601399\n",
            "Micro Recall =  0.9520958083832335\n",
            "Weighted Recall =  0.9520958083832335\n",
            "Macro F1 =  0.8331668331668332\n",
            "Micro F1 =  0.9520958083832335\n",
            "Weighted F1 =  0.9554696800205783\n",
            "\n",
            "Classification Report\n",
            "               precision    recall  f1-score   support\n",
            "\n",
            "         0.0       0.99      0.96      0.97       156\n",
            "         1.0       0.60      0.82      0.69        11\n",
            "\n",
            "    accuracy                           0.95       167\n",
            "   macro avg       0.79      0.89      0.83       167\n",
            "weighted avg       0.96      0.95      0.96       167\n",
            "\n",
            "Resuts (for median replacement of null values):\n",
            "Accuracy =  0.9461077844311377\n",
            "Macro Precision =  0.7759103641456582\n",
            "Micro Precision =  0.9461077844311377\n",
            "Weighted Precision =  0.9534544356664821\n",
            "Macro Recall =  0.8444055944055944\n",
            "Micro Recall =  0.9461077844311377\n",
            "Weighted Recall =  0.9461077844311377\n",
            "Macro F1 =  0.8054368932038836\n",
            "Micro F1 =  0.9461077844311377\n",
            "Weighted F1 =  0.9490797046683331\n",
            "\n",
            "Classification Report\n",
            "               precision    recall  f1-score   support\n",
            "\n",
            "         0.0       0.98      0.96      0.97       156\n",
            "         1.0       0.57      0.73      0.64        11\n",
            "\n",
            "    accuracy                           0.95       167\n",
            "   macro avg       0.78      0.84      0.81       167\n",
            "weighted avg       0.95      0.95      0.95       167\n",
            "\n"
          ]
        }
      ]
    }
  ]
}